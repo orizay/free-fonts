{
  "nbformat": 4,
  "nbformat_minor": 0,
  "metadata": {
    "colab": {
      "name": "Pie.ipynb",
      "provenance": [],
      "authorship_tag": "ABX9TyN9DyvFGywmvSEnA5PKasQZ",
      "include_colab_link": true
    },
    "kernelspec": {
      "name": "python3",
      "display_name": "Python 3"
    },
    "language_info": {
      "name": "python"
    }
  },
  "cells": [
    {
      "cell_type": "markdown",
      "metadata": {
        "id": "view-in-github",
        "colab_type": "text"
      },
      "source": [
        "<a href=\"https://colab.research.google.com/github/orizay/free-fonts/blob/master/Pie.ipynb\" target=\"_parent\"><img src=\"https://colab.research.google.com/assets/colab-badge.svg\" alt=\"Open In Colab\"/></a>"
      ]
    },
    {
      "cell_type": "markdown",
      "metadata": {
        "id": "XKnkJvDsSoJS"
      },
      "source": [
        "# 1.Mount Drive"
      ]
    },
    {
      "cell_type": "code",
      "metadata": {
        "colab": {
          "base_uri": "https://localhost:8080/"
        },
        "id": "rQY1KDCPSnRN",
        "outputId": "8ca78823-dc1b-448b-9518-06ac80b762be"
      },
      "source": [
        "from google.colab import drive\n",
        "drive.mount('/MyData',force_remount= True)"
      ],
      "execution_count": 1,
      "outputs": [
        {
          "output_type": "stream",
          "text": [
            "Mounted at /MyData\n"
          ],
          "name": "stdout"
        }
      ]
    },
    {
      "cell_type": "code",
      "metadata": {
        "colab": {
          "base_uri": "https://localhost:8080/"
        },
        "id": "Wr-lE6FGS2OP",
        "outputId": "2f7529f6-1de3-4a1f-eae9-ed263b58fb59"
      },
      "source": [
        "!ls -al '/MyData/MyDrive/MyData'"
      ],
      "execution_count": 2,
      "outputs": [
        {
          "output_type": "stream",
          "text": [
            "total 9350784\n",
            "-rw------- 1 root root    143130 Jul  3  2020  abalone_original.csv\n",
            "-rw------- 1 root root      4756 Jul  7  2020  Advertising.csv\n",
            "drwx------ 2 root root      4096 Aug  1  2020  All-CSV-ML-Data-Files-Download-master\n",
            "-rw------- 1 root root       728 Jul 22  2020  enrollment_forecast.csv\n",
            "-rw------- 1 root root      1729 Jul 23  2020  mtcars.csv\n",
            "-rw------- 1 root root   1770221 Jul 31  2020  Superstore-Sales.csv\n",
            "-rw------- 1 root root 783889122 Apr 27 01:41  TCS_영업소간통행시간_1시간_1개월_202001\n",
            "-rw------- 1 root root 699429059 Apr 27 01:42  TCS_영업소간통행시간_1시간_1개월_202002\n",
            "-rw------- 1 root root 738556069 Apr 27 01:41  TCS_영업소간통행시간_1시간_1개월_202003\n",
            "-rw------- 1 root root 765531937 May 12 23:59  TCS_영업소간통행시간_1시간_1개월_202004\n",
            "-rw------- 1 root root 824393600 May 13 00:02  TCS_영업소간통행시간_1시간_1개월_202005\n",
            "-rw------- 1 root root 819232732 May 13 00:02  TCS_영업소간통행시간_1시간_1개월_202006\n",
            "-rw------- 1 root root 830033530 May 13 00:01  TCS_영업소간통행시간_1시간_1개월_202007\n",
            "-rw------- 1 root root 826425779 May 13 00:01  TCS_영업소간통행시간_1시간_1개월_202008\n",
            "-rw------- 1 root root 811907343 May 13 00:01  TCS_영업소간통행시간_1시간_1개월_202009\n",
            "-rw------- 1 root root 825927535 May 13 00:01  TCS_영업소간통행시간_1시간_1개월_202010\n",
            "-rw------- 1 root root 830332165 May 13 00:02  TCS_영업소간통행시간_1시간_1개월_202011\n",
            "-rw------- 1 root root 815733096 May 13 00:02  TCS_영업소간통행시간_1시간_1개월_202012\n",
            "-rw------- 1 root root    337847 May 11 01:28  TCS_202001.csv\n",
            "-rw------- 1 root root    314682 May 11 01:41  TCS_202002.csv\n",
            "-rw------- 1 root root    335953 May 11 01:49  TCS_202003.csv\n",
            "-rw------- 1 root root    807644 May 11 02:08  TCS_2020.csv\n",
            "-rw------- 1 root root     84199 Jul  4  2020 'winequality-red .csv'\n"
          ],
          "name": "stdout"
        }
      ]
    },
    {
      "cell_type": "markdown",
      "metadata": {
        "id": "1dvoamW4TXR2"
      },
      "source": [
        "# 2.Korean Characters"
      ]
    },
    {
      "cell_type": "code",
      "metadata": {
        "colab": {
          "base_uri": "https://localhost:8080/"
        },
        "id": "frYCfyQJTH4g",
        "outputId": "a3387d93-3f30-4e13-bbfc-ab906e3e5922"
      },
      "source": [
        "!sudo apt-get install -y fonts-nanum\n",
        "!sudo fc-cache -fv\n",
        "!rm ~/.cache/matplotlib -rf"
      ],
      "execution_count": 2,
      "outputs": [
        {
          "output_type": "stream",
          "text": [
            "Reading package lists... Done\n",
            "Building dependency tree       \n",
            "Reading state information... Done\n",
            "The following package was automatically installed and is no longer required:\n",
            "  libnvidia-common-460\n",
            "Use 'sudo apt autoremove' to remove it.\n",
            "The following NEW packages will be installed:\n",
            "  fonts-nanum\n",
            "0 upgraded, 1 newly installed, 0 to remove and 34 not upgraded.\n",
            "Need to get 9,604 kB of archives.\n",
            "After this operation, 29.5 MB of additional disk space will be used.\n",
            "Get:1 http://archive.ubuntu.com/ubuntu bionic/universe amd64 fonts-nanum all 20170925-1 [9,604 kB]\n",
            "Fetched 9,604 kB in 3s (3,536 kB/s)\n",
            "debconf: unable to initialize frontend: Dialog\n",
            "debconf: (No usable dialog-like program is installed, so the dialog based frontend cannot be used. at /usr/share/perl5/Debconf/FrontEnd/Dialog.pm line 76, <> line 1.)\n",
            "debconf: falling back to frontend: Readline\n",
            "debconf: unable to initialize frontend: Readline\n",
            "debconf: (This frontend requires a controlling tty.)\n",
            "debconf: falling back to frontend: Teletype\n",
            "dpkg-preconfigure: unable to re-open stdin: \n",
            "Selecting previously unselected package fonts-nanum.\n",
            "(Reading database ... 160706 files and directories currently installed.)\n",
            "Preparing to unpack .../fonts-nanum_20170925-1_all.deb ...\n",
            "Unpacking fonts-nanum (20170925-1) ...\n",
            "Setting up fonts-nanum (20170925-1) ...\n",
            "Processing triggers for fontconfig (2.12.6-0ubuntu2) ...\n",
            "/usr/share/fonts: caching, new cache contents: 0 fonts, 1 dirs\n",
            "/usr/share/fonts/truetype: caching, new cache contents: 0 fonts, 3 dirs\n",
            "/usr/share/fonts/truetype/humor-sans: caching, new cache contents: 1 fonts, 0 dirs\n",
            "/usr/share/fonts/truetype/liberation: caching, new cache contents: 16 fonts, 0 dirs\n",
            "/usr/share/fonts/truetype/nanum: caching, new cache contents: 10 fonts, 0 dirs\n",
            "/usr/local/share/fonts: caching, new cache contents: 0 fonts, 0 dirs\n",
            "/root/.local/share/fonts: skipping, no such directory\n",
            "/root/.fonts: skipping, no such directory\n",
            "/var/cache/fontconfig: cleaning cache directory\n",
            "/root/.cache/fontconfig: not cleaning non-existent cache directory\n",
            "/root/.fontconfig: not cleaning non-existent cache directory\n",
            "fc-cache: succeeded\n"
          ],
          "name": "stdout"
        }
      ]
    },
    {
      "cell_type": "markdown",
      "metadata": {
        "id": "r8S65NOTT1Rf"
      },
      "source": [
        "# 런타임 - 런타임 다시 시작\n",
        "matplotlib의 폰트를 Nanum 폰트로 지정 "
      ]
    },
    {
      "cell_type": "code",
      "metadata": {
        "id": "9F0uzwVkTv8m"
      },
      "source": [
        "# Import pyplot as a alias 'plt'\n",
        "import matplotlib.pyplot as plt"
      ],
      "execution_count": 3,
      "outputs": []
    },
    {
      "cell_type": "code",
      "metadata": {
        "id": "Qs0VS6RzcVdn"
      },
      "source": [
        "plt.rc('font', family='NanumBarunGothic')"
      ],
      "execution_count": 4,
      "outputs": []
    },
    {
      "cell_type": "markdown",
      "metadata": {
        "id": "pZlpywjccqNG"
      },
      "source": [
        "# 3.Load Data"
      ]
    },
    {
      "cell_type": "code",
      "metadata": {
        "id": "hb-AHT_ocfDS"
      },
      "source": [
        "import pandas as pd"
      ],
      "execution_count": 5,
      "outputs": []
    },
    {
      "cell_type": "code",
      "metadata": {
        "id": "bFE0nf31cwwZ"
      },
      "source": [
        "# Load a file under \"data\" folder\n",
        "file ='/MyData/MyDrive/MyData/TCS_2020.csv'\n",
        "data = pd.read_csv(file)"
      ],
      "execution_count": 6,
      "outputs": []
    },
    {
      "cell_type": "code",
      "metadata": {
        "colab": {
          "base_uri": "https://localhost:8080/",
          "height": 206
        },
        "id": "Pi4QGtoWhKSL",
        "outputId": "b689c228-635a-470e-95d6-797323b07c06"
      },
      "source": [
        "data.head()"
      ],
      "execution_count": 7,
      "outputs": [
        {
          "output_type": "execute_result",
          "data": {
            "text/html": [
              "<div>\n",
              "<style scoped>\n",
              "    .dataframe tbody tr th:only-of-type {\n",
              "        vertical-align: middle;\n",
              "    }\n",
              "\n",
              "    .dataframe tbody tr th {\n",
              "        vertical-align: top;\n",
              "    }\n",
              "\n",
              "    .dataframe thead th {\n",
              "        text-align: right;\n",
              "    }\n",
              "</style>\n",
              "<table border=\"1\" class=\"dataframe\">\n",
              "  <thead>\n",
              "    <tr style=\"text-align: right;\">\n",
              "      <th></th>\n",
              "      <th>집계일자</th>\n",
              "      <th>집계시</th>\n",
              "      <th>출발영업소코드</th>\n",
              "      <th>도착영업소코드</th>\n",
              "      <th>요일</th>\n",
              "    </tr>\n",
              "  </thead>\n",
              "  <tbody>\n",
              "    <tr>\n",
              "      <th>0</th>\n",
              "      <td>20200101</td>\n",
              "      <td>4</td>\n",
              "      <td>101</td>\n",
              "      <td>105</td>\n",
              "      <td>2</td>\n",
              "    </tr>\n",
              "    <tr>\n",
              "      <th>1</th>\n",
              "      <td>20200101</td>\n",
              "      <td>4</td>\n",
              "      <td>101</td>\n",
              "      <td>105</td>\n",
              "      <td>2</td>\n",
              "    </tr>\n",
              "    <tr>\n",
              "      <th>2</th>\n",
              "      <td>20200101</td>\n",
              "      <td>4</td>\n",
              "      <td>101</td>\n",
              "      <td>105</td>\n",
              "      <td>2</td>\n",
              "    </tr>\n",
              "    <tr>\n",
              "      <th>3</th>\n",
              "      <td>20200101</td>\n",
              "      <td>4</td>\n",
              "      <td>101</td>\n",
              "      <td>105</td>\n",
              "      <td>2</td>\n",
              "    </tr>\n",
              "    <tr>\n",
              "      <th>4</th>\n",
              "      <td>20200101</td>\n",
              "      <td>4</td>\n",
              "      <td>101</td>\n",
              "      <td>105</td>\n",
              "      <td>2</td>\n",
              "    </tr>\n",
              "  </tbody>\n",
              "</table>\n",
              "</div>"
            ],
            "text/plain": [
              "       집계일자  집계시  출발영업소코드  도착영업소코드  요일\n",
              "0  20200101    4      101      105   2\n",
              "1  20200101    4      101      105   2\n",
              "2  20200101    4      101      105   2\n",
              "3  20200101    4      101      105   2\n",
              "4  20200101    4      101      105   2"
            ]
          },
          "metadata": {
            "tags": []
          },
          "execution_count": 7
        }
      ]
    },
    {
      "cell_type": "code",
      "metadata": {
        "colab": {
          "base_uri": "https://localhost:8080/"
        },
        "id": "W6VLZQkHhat6",
        "outputId": "b65062ec-d83e-4cd3-e1d9-7afa7b8598c9"
      },
      "source": [
        "data.info()"
      ],
      "execution_count": 8,
      "outputs": [
        {
          "output_type": "stream",
          "text": [
            "<class 'pandas.core.frame.DataFrame'>\n",
            "RangeIndex: 37356 entries, 0 to 37355\n",
            "Data columns (total 5 columns):\n",
            " #   Column   Non-Null Count  Dtype\n",
            "---  ------   --------------  -----\n",
            " 0   집계일자     37356 non-null  int64\n",
            " 1   집계시      37356 non-null  int64\n",
            " 2   출발영업소코드  37356 non-null  int64\n",
            " 3   도착영업소코드  37356 non-null  int64\n",
            " 4   요일       37356 non-null  int64\n",
            "dtypes: int64(5)\n",
            "memory usage: 1.4 MB\n"
          ],
          "name": "stdout"
        }
      ]
    },
    {
      "cell_type": "markdown",
      "metadata": {
        "id": "TJ9Vj6phhsLJ"
      },
      "source": [
        "# 4.집계시"
      ]
    },
    {
      "cell_type": "code",
      "metadata": {
        "id": "zUn2_ABfhng_"
      },
      "source": [
        "data_06_22 = data[data.집계시.isin(range(6,23))]"
      ],
      "execution_count": 9,
      "outputs": []
    },
    {
      "cell_type": "code",
      "metadata": {
        "colab": {
          "base_uri": "https://localhost:8080/",
          "height": 424
        },
        "id": "Lw_-XhzNiCmC",
        "outputId": "5663c55f-8d63-4449-fda6-8218a2e02fa0"
      },
      "source": [
        "# Create data_06_23 Dataframe with counting by 집계시\n",
        "data_06_22.sort_values(by='집계시')"
      ],
      "execution_count": 11,
      "outputs": [
        {
          "output_type": "execute_result",
          "data": {
            "text/html": [
              "<div>\n",
              "<style scoped>\n",
              "    .dataframe tbody tr th:only-of-type {\n",
              "        vertical-align: middle;\n",
              "    }\n",
              "\n",
              "    .dataframe tbody tr th {\n",
              "        vertical-align: top;\n",
              "    }\n",
              "\n",
              "    .dataframe thead th {\n",
              "        text-align: right;\n",
              "    }\n",
              "</style>\n",
              "<table border=\"1\" class=\"dataframe\">\n",
              "  <thead>\n",
              "    <tr style=\"text-align: right;\">\n",
              "      <th></th>\n",
              "      <th>집계일자</th>\n",
              "      <th>집계시</th>\n",
              "      <th>출발영업소코드</th>\n",
              "      <th>도착영업소코드</th>\n",
              "      <th>요일</th>\n",
              "    </tr>\n",
              "  </thead>\n",
              "  <tbody>\n",
              "    <tr>\n",
              "      <th>25164</th>\n",
              "      <td>20200302</td>\n",
              "      <td>6</td>\n",
              "      <td>101</td>\n",
              "      <td>110</td>\n",
              "      <td>0</td>\n",
              "    </tr>\n",
              "    <tr>\n",
              "      <th>22064</th>\n",
              "      <td>20200213</td>\n",
              "      <td>6</td>\n",
              "      <td>101</td>\n",
              "      <td>130</td>\n",
              "      <td>3</td>\n",
              "    </tr>\n",
              "    <tr>\n",
              "      <th>12199</th>\n",
              "      <td>20200130</td>\n",
              "      <td>6</td>\n",
              "      <td>101</td>\n",
              "      <td>115</td>\n",
              "      <td>3</td>\n",
              "    </tr>\n",
              "    <tr>\n",
              "      <th>6518</th>\n",
              "      <td>20200117</td>\n",
              "      <td>6</td>\n",
              "      <td>101</td>\n",
              "      <td>105</td>\n",
              "      <td>4</td>\n",
              "    </tr>\n",
              "    <tr>\n",
              "      <th>28006</th>\n",
              "      <td>20200309</td>\n",
              "      <td>6</td>\n",
              "      <td>101</td>\n",
              "      <td>115</td>\n",
              "      <td>0</td>\n",
              "    </tr>\n",
              "    <tr>\n",
              "      <th>...</th>\n",
              "      <td>...</td>\n",
              "      <td>...</td>\n",
              "      <td>...</td>\n",
              "      <td>...</td>\n",
              "      <td>...</td>\n",
              "    </tr>\n",
              "    <tr>\n",
              "      <th>15006</th>\n",
              "      <td>20200207</td>\n",
              "      <td>22</td>\n",
              "      <td>101</td>\n",
              "      <td>105</td>\n",
              "      <td>4</td>\n",
              "    </tr>\n",
              "    <tr>\n",
              "      <th>16139</th>\n",
              "      <td>20200209</td>\n",
              "      <td>22</td>\n",
              "      <td>101</td>\n",
              "      <td>130</td>\n",
              "      <td>6</td>\n",
              "    </tr>\n",
              "    <tr>\n",
              "      <th>28346</th>\n",
              "      <td>20200310</td>\n",
              "      <td>22</td>\n",
              "      <td>101</td>\n",
              "      <td>115</td>\n",
              "      <td>1</td>\n",
              "    </tr>\n",
              "    <tr>\n",
              "      <th>16141</th>\n",
              "      <td>20200209</td>\n",
              "      <td>22</td>\n",
              "      <td>101</td>\n",
              "      <td>130</td>\n",
              "      <td>6</td>\n",
              "    </tr>\n",
              "    <tr>\n",
              "      <th>21183</th>\n",
              "      <td>20200221</td>\n",
              "      <td>22</td>\n",
              "      <td>101</td>\n",
              "      <td>115</td>\n",
              "      <td>4</td>\n",
              "    </tr>\n",
              "  </tbody>\n",
              "</table>\n",
              "<p>28304 rows × 5 columns</p>\n",
              "</div>"
            ],
            "text/plain": [
              "           집계일자  집계시  출발영업소코드  도착영업소코드  요일\n",
              "25164  20200302    6      101      110   0\n",
              "22064  20200213    6      101      130   3\n",
              "12199  20200130    6      101      115   3\n",
              "6518   20200117    6      101      105   4\n",
              "28006  20200309    6      101      115   0\n",
              "...         ...  ...      ...      ...  ..\n",
              "15006  20200207   22      101      105   4\n",
              "16139  20200209   22      101      130   6\n",
              "28346  20200310   22      101      115   1\n",
              "16141  20200209   22      101      130   6\n",
              "21183  20200221   22      101      115   4\n",
              "\n",
              "[28304 rows x 5 columns]"
            ]
          },
          "metadata": {
            "tags": []
          },
          "execution_count": 11
        }
      ]
    },
    {
      "cell_type": "code",
      "metadata": {
        "id": "A-rTDd3CiQmA"
      },
      "source": [
        "data_06_22_counting = data_06_22['집계시'].value_counts()"
      ],
      "execution_count": 12,
      "outputs": []
    },
    {
      "cell_type": "code",
      "metadata": {
        "colab": {
          "base_uri": "https://localhost:8080/"
        },
        "id": "SRa_sB80iq7o",
        "outputId": "304bac58-143f-410a-e1b3-37e77a78539b"
      },
      "source": [
        "data_06_22_counting"
      ],
      "execution_count": 13,
      "outputs": [
        {
          "output_type": "execute_result",
          "data": {
            "text/plain": [
              "14    1766\n",
              "12    1758\n",
              "15    1755\n",
              "13    1754\n",
              "11    1744\n",
              "10    1725\n",
              "16    1724\n",
              "17    1719\n",
              "9     1703\n",
              "18    1666\n",
              "8     1662\n",
              "19    1628\n",
              "20    1611\n",
              "7     1585\n",
              "21    1559\n",
              "22    1505\n",
              "6     1440\n",
              "Name: 집계시, dtype: int64"
            ]
          },
          "metadata": {
            "tags": []
          },
          "execution_count": 13
        }
      ]
    },
    {
      "cell_type": "code",
      "metadata": {
        "id": "eelIuWYTi4KE"
      },
      "source": [
        "# Store index of data_06_23_counting into x\n",
        "x = data_06_22_counting.index"
      ],
      "execution_count": 14,
      "outputs": []
    },
    {
      "cell_type": "code",
      "metadata": {
        "id": "PFksBb01jPVu"
      },
      "source": [
        "labels = [str(i) + '시' for i in x]"
      ],
      "execution_count": 15,
      "outputs": []
    },
    {
      "cell_type": "code",
      "metadata": {
        "colab": {
          "base_uri": "https://localhost:8080/"
        },
        "id": "4X7fXJqKjemU",
        "outputId": "df502770-dcde-4e22-b162-5b4ba37297f6"
      },
      "source": [
        "labels"
      ],
      "execution_count": 16,
      "outputs": [
        {
          "output_type": "execute_result",
          "data": {
            "text/plain": [
              "['14시',\n",
              " '12시',\n",
              " '15시',\n",
              " '13시',\n",
              " '11시',\n",
              " '10시',\n",
              " '16시',\n",
              " '17시',\n",
              " '9시',\n",
              " '18시',\n",
              " '8시',\n",
              " '19시',\n",
              " '20시',\n",
              " '7시',\n",
              " '21시',\n",
              " '22시',\n",
              " '6시']"
            ]
          },
          "metadata": {
            "tags": []
          },
          "execution_count": 16
        }
      ]
    },
    {
      "cell_type": "code",
      "metadata": {
        "id": "mzdCvcdLjf24"
      },
      "source": [
        "explode = [0.1,0.1,0,0,0,0,0,0,0,0,0,0,0,0,0,0,0]"
      ],
      "execution_count": 20,
      "outputs": []
    },
    {
      "cell_type": "code",
      "metadata": {
        "id": "4syb6DmbkJwq"
      },
      "source": [
        "# Store values of data_06_22_counting into values\n",
        "values = data_06_22_counting.values"
      ],
      "execution_count": 21,
      "outputs": []
    },
    {
      "cell_type": "code",
      "metadata": {
        "colab": {
          "base_uri": "https://localhost:8080/",
          "height": 432
        },
        "id": "gmX5ObChkxpK",
        "outputId": "25f2cab4-0b64-4b9f-e181-36c8ce3fd526"
      },
      "source": [
        "# Configure figure size\n",
        "plt.figure(figsize=(7,7))\n",
        "\n",
        "# Creae pie Chart\n",
        "plt.pie(values, explode=explode, labels= labels,startangle= 90, shadow= True, autopct='%.1f')\n",
        "\n",
        "# Generate labels and title\n",
        "plt.title('집계시 기준 통행회수', fontsize= 18)\n",
        "\n",
        "# Show plot\n",
        "plt.show()"
      ],
      "execution_count": 23,
      "outputs": [
        {
          "output_type": "display_data",
          "data": {
            "image/png": "[encoded data removed]",
            "text/plain": [
              "<Figure size 504x504 with 1 Axes>"
            ]
          },
          "metadata": {
            "tags": []
          }
        }
      ]
    },
    {
      "cell_type": "markdown",
      "metadata": {
        "id": "4RGjd1EamI_w"
      },
      "source": [
        "# 도착영업소코드"
      ]
    },
    {
      "cell_type": "code",
      "metadata": {
        "id": "ZCoHbE8hlk1B"
      },
      "source": [
        "data_destination_counting = data['도착영업소코드'].value_counts()"
      ],
      "execution_count": 24,
      "outputs": []
    },
    {
      "cell_type": "code",
      "metadata": {
        "colab": {
          "base_uri": "https://localhost:8080/"
        },
        "id": "gHLWU7eqmXQY",
        "outputId": "0203eb77-27d2-43d3-9fa5-74f71f7a99e1"
      },
      "source": [
        "data_destination_counting"
      ],
      "execution_count": 25,
      "outputs": [
        {
          "output_type": "execute_result",
          "data": {
            "text/plain": [
              "105    12274\n",
              "110     9419\n",
              "115     6509\n",
              "140     2235\n",
              "130     1972\n",
              "135     1759\n",
              "125     1677\n",
              "120     1511\n",
              "Name: 도착영업소코드, dtype: int64"
            ]
          },
          "metadata": {
            "tags": []
          },
          "execution_count": 25
        }
      ]
    },
    {
      "cell_type": "code",
      "metadata": {
        "id": "8guedrnrmf2R"
      },
      "source": [
        "# Store index of data_destination_counting into x\n",
        "x = data_destination_counting.index"
      ],
      "execution_count": 26,
      "outputs": []
    },
    {
      "cell_type": "code",
      "metadata": {
        "id": "f02XrLA1mwXp"
      },
      "source": [
        "labels = [str(i) for i in x]"
      ],
      "execution_count": 28,
      "outputs": []
    },
    {
      "cell_type": "code",
      "metadata": {
        "colab": {
          "base_uri": "https://localhost:8080/"
        },
        "id": "fbnpPcmCnAyj",
        "outputId": "79e56150-6b09-4508-b86b-3a3109fb40f2"
      },
      "source": [
        "labels"
      ],
      "execution_count": 29,
      "outputs": [
        {
          "output_type": "execute_result",
          "data": {
            "text/plain": [
              "['105', '110', '115', '140', '130', '135', '125', '120']"
            ]
          },
          "metadata": {
            "tags": []
          },
          "execution_count": 29
        }
      ]
    },
    {
      "cell_type": "code",
      "metadata": {
        "id": "gHoqDVtqnHs7"
      },
      "source": [
        "# 101,서울  105,기흥 110,목천 115,대전 120,황간 125,남구미 130,동김천 135,경주 140,부산\n",
        "labels = ['기흥','목천','대전','부산','동김천','경주','남구미','황간']"
      ],
      "execution_count": 30,
      "outputs": []
    },
    {
      "cell_type": "code",
      "metadata": {
        "id": "i6c0NV5qoxJa"
      },
      "source": [
        "explode = [0.2,0.1,0,0,0,0,0,0]"
      ],
      "execution_count": 31,
      "outputs": []
    },
    {
      "cell_type": "code",
      "metadata": {
        "id": "V4TroANYpCT8"
      },
      "source": [
        "# Store values of data_destination_counting into values\n",
        "values = data_destination_counting.values"
      ],
      "execution_count": 32,
      "outputs": []
    },
    {
      "cell_type": "code",
      "metadata": {
        "colab": {
          "base_uri": "https://localhost:8080/",
          "height": 596
        },
        "id": "oLeldu_Ipb5Q",
        "outputId": "25e4b527-7dec-4c07-f06f-8e913341be32"
      },
      "source": [
        "# Configure figure size\n",
        "plt.figure(figsize=(10,10))\n",
        "\n",
        "# Creae pie Chart\n",
        "plt.pie(values, explode=explode, labels= labels,startangle= 90, shadow= True, autopct='%.1f%%',counterclock=False)\n",
        "\n",
        "# Generate labels and title\n",
        "plt.title('도착영업소 기준 통행회수', fontsize= 18)\n",
        "\n",
        "# Show plot\n",
        "plt.show()"
      ],
      "execution_count": 37,
      "outputs": [
        {
          "output_type": "display_data",
          "data": {
            "image/png": "[encoded data removed]",
            "text/plain": [
              "<Figure size 720x720 with 1 Axes>"
            ]
          },
          "metadata": {
            "tags": []
          }
        }
      ]
    },
    {
      "cell_type": "code",
      "metadata": {
        "id": "OC9d4BuBqYQC"
      },
      "source": [
        ""
      ],
      "execution_count": null,
      "outputs": []
    }
  ]
}