{
  "nbformat": 4,
  "nbformat_minor": 0,
  "metadata": {
    "colab": {
      "name": "Python-Numpy(III).ipynb",
      "provenance": [],
      "authorship_tag": "ABX9TyM9kn6O+cs7jCS2CTkn+N3r",
      "include_colab_link": true
    },
    "kernelspec": {
      "name": "python3",
      "display_name": "Python 3"
    },
    "language_info": {
      "name": "python"
    }
  },
  "cells": [
    {
      "cell_type": "markdown",
      "metadata": {
        "id": "view-in-github",
        "colab_type": "text"
      },
      "source": [
        "<a href=\"https://colab.research.google.com/github/orizay/free-fonts/blob/master/Python_Numpy(III).ipynb\" target=\"_parent\"><img src=\"https://colab.research.google.com/assets/colab-badge.svg\" alt=\"Open In Colab\"/></a>"
      ]
    },
    {
      "cell_type": "markdown",
      "metadata": {
        "id": "_N7211PAfDcv"
      },
      "source": [
        "# numpy\n",
        "* vector / matrix\n",
        "* dot product 행렬 곱\n",
        "* broadcast\n",
        "* index /slice /iterator\n",
        "* concatenate\n",
        "* useful function(loadtxt(),rand(),argmax(),...)"
      ]
    },
    {
      "cell_type": "markdown",
      "metadata": {
        "id": "5o0Tigc1fYkj"
      },
      "source": [
        "# 라이브러리 - numpy concatenate(...)\n",
        "* 행렬에 행(row)또는 열(columm)추가하기 위한 numpy.concatenate(...)\n",
        "\n",
        "  - => `머신러닝의 회귀(regression)코드 구현시 가중치(weight)와 바이어스(bias)를 별도로 구분하지 않고 하나의 행렬로 취급하기 위한 프로그래밍 구현 기술`"
      ]
    },
    {
      "cell_type": "code",
      "metadata": {
        "colab": {
          "base_uri": "https://localhost:8080/"
        },
        "id": "MpCL01ISesUN",
        "outputId": "2020a59f-b75b-4f1a-bfe0-4da56c83c4da"
      },
      "source": [
        "from google.colab import drive\n",
        "drive.mount('MyDrive',force_remount= True)\n"
      ],
      "execution_count": 1,
      "outputs": [
        {
          "output_type": "stream",
          "text": [
            "Mounted at MyDrive\n"
          ],
          "name": "stdout"
        }
      ]
    },
    {
      "cell_type": "code",
      "metadata": {
        "colab": {
          "base_uri": "https://localhost:8080/",
          "height": 317
        },
        "id": "smwSKKm1hoZA",
        "outputId": "30e0f8c5-7bc4-4bb1-ff5b-4a31beda303f"
      },
      "source": [
        "from IPython.display import Image\n",
        "Image('//content/MyDrive/MyDrive/Images/concatenate.png')"
      ],
      "execution_count": 2,
      "outputs": [
        {
          "output_type": "execute_result",
          "data": {
            "image/png": "[encoded data removed]",
            "text/plain": [
              "<IPython.core.display.Image object>"
            ]
          },
          "metadata": {
            "tags": []
          },
          "execution_count": 2
        }
      ]
    },
    {
      "cell_type": "code",
      "metadata": {
        "id": "6XzolB8Jh83E"
      },
      "source": [
        "import numpy as np"
      ],
      "execution_count": 1,
      "outputs": []
    },
    {
      "cell_type": "code",
      "metadata": {
        "colab": {
          "base_uri": "https://localhost:8080/"
        },
        "id": "sSw3J9Tlf00k",
        "outputId": "5f1b98ec-8436-42f1-88fe-d83978a0fa05"
      },
      "source": [
        "# 행렬에 열과 행 추가\n",
        "A = np.array([[10,20,30],[40,50,60]])\n",
        "\n",
        "print(A.shape)"
      ],
      "execution_count": 2,
      "outputs": [
        {
          "output_type": "stream",
          "text": [
            "(2, 3)\n"
          ],
          "name": "stdout"
        }
      ]
    },
    {
      "cell_type": "code",
      "metadata": {
        "colab": {
          "base_uri": "https://localhost:8080/"
        },
        "id": "OWuf2W21gGXo",
        "outputId": "abdc9259-100c-4268-d2de-a598d1b5ee74"
      },
      "source": [
        "# A matrix에 행(row) 추가할 행렬, 1행 3열로 reshape\n",
        "# 행을 추가하기 때문에 우선 열을 3열로 만들어야 함\n",
        "row_add = np.array([70,80,90]).reshape(1,3)\n",
        "\n",
        "# numpy.concatenate 에서 axis = 0 행(row)기준\n",
        "# A 행렬에 row_add 행렬 추가\n",
        "B = np.concatenate((A,row_add),axis= 0)\n",
        "\n",
        "print(B)"
      ],
      "execution_count": 3,
      "outputs": [
        {
          "output_type": "stream",
          "text": [
            "[[10 20 30]\n",
            " [40 50 60]\n",
            " [70 80 90]]\n"
          ],
          "name": "stdout"
        }
      ]
    },
    {
      "cell_type": "code",
      "metadata": {
        "colab": {
          "base_uri": "https://localhost:8080/"
        },
        "id": "bOzeKl1lhYki",
        "outputId": "ff37fbf9-7f54-4c91-ddf0-7c2d740c9a04"
      },
      "source": [
        "# A matrix에 열(column) 추가할 행렬, 2행 1열로 생성\n",
        "# 열 을 추가하기 때문에 우선 행 을 2행 으로 만들어야 함\n",
        "\n",
        "column_add = np.array([1000,2000]).reshape(2,1)\n",
        "\n",
        "print(column_add.shape)"
      ],
      "execution_count": 4,
      "outputs": [
        {
          "output_type": "stream",
          "text": [
            "(2, 1)\n"
          ],
          "name": "stdout"
        }
      ]
    },
    {
      "cell_type": "code",
      "metadata": {
        "colab": {
          "base_uri": "https://localhost:8080/"
        },
        "id": "zSRVHflwintR",
        "outputId": "99107852-78d4-4037-863a-24150351427a"
      },
      "source": [
        "뎅\n",
        "C = np.concatenate((A,column_add),axis= 1)\n",
        "\n",
        "print(C)"
      ],
      "execution_count": 5,
      "outputs": [
        {
          "output_type": "stream",
          "text": [
            "[[  10   20   30 1000]\n",
            " [  40   50   60 2000]]\n"
          ],
          "name": "stdout"
        }
      ]
    },
    {
      "cell_type": "markdown",
      "metadata": {
        "id": "YtQOoYPOknT3"
      },
      "source": [
        "# 라이브러리 - matplotlib , scatter plot\n",
        "* 실무에서는 머신러닝 코드를 구현하기 전에, => 입력 데이터의 분포와 모양을 먼저 그래프로 그려보고, 데이터의 특성과 분포를 파악 한 후 어떤 알고리즘을 적용할 지 결정하고 있음\n",
        "\n",
        "* => 데이터 시각화를 위해서는 matplotlib 라이브러리를 사용함\n",
        "\n",
        "* => 일반적으로 line plot, scatter plot 등을 통해 데이터의 분포와 형태를 파악함"
      ]
    },
    {
      "cell_type": "code",
      "metadata": {
        "colab": {
          "base_uri": "https://localhost:8080/",
          "height": 281
        },
        "id": "c1GfgCq2jHNF",
        "outputId": "535e74a1-bf79-4ee6-a352-0dc47e013036"
      },
      "source": [
        "import matplotlib.pyplot as plt\n",
        "import numpy as np\n",
        "\n",
        "#주피터 노트북을 사용하는 경우 노트북 내부에 그림 표시\n",
        "%matplotlib inline\n",
        "\n",
        "# x_data, y_data 생성\n",
        "x_data = np.random.rand(100)\n",
        "y_data = np.random.rand(100)\n",
        "\n",
        "plt.title('scatter plot')\n",
        "plt.grid()\n",
        "plt.scatter(x_data,y_data, color= 'b', marker= 'o')\n",
        "plt.show()"
      ],
      "execution_count": 10,
      "outputs": [
        {
          "output_type": "display_data",
          "data": {
            "image/png": "[encoded data removed]",
            "text/plain": [
              "<Figure size 432x288 with 1 Axes>"
            ]
          },
          "metadata": {
            "tags": [],
            "needs_background": "light"
          }
        }
      ]
    },
    {
      "cell_type": "code",
      "metadata": {
        "colab": {
          "base_uri": "https://localhost:8080/",
          "height": 281
        },
        "id": "f5wJ2Bnam8K_",
        "outputId": "e78ecdfe-d582-45c3-f09b-a08fde63eb3c"
      },
      "source": [
        "x_data = [x for x in range(-5, 5)]\n",
        "y_data = [y*y for y in range(-5, 5)]\n",
        "\n",
        "plt.title('line plot')\n",
        "plt.grid()\n",
        "plt.plot(x_data, y_data, color= 'b')\n",
        "plt.show()"
      ],
      "execution_count": 12,
      "outputs": [
        {
          "output_type": "display_data",
          "data": {
            "image/png": "[encoded data removed]",
            "text/plain": [
              "<Figure size 432x288 with 1 Axes>"
            ]
          },
          "metadata": {
            "tags": [],
            "needs_background": "light"
          }
        }
      ]
    },
    {
      "cell_type": "code",
      "metadata": {
        "colab": {
          "base_uri": "https://localhost:8080/",
          "height": 281
        },
        "id": "RvfwNSNVogK0",
        "outputId": "0b6f257d-b727-4848-d1dc-5adb2f27c304"
      },
      "source": [
        "x_data = [-3,-2,-1,0,1,2,3,4,5,6,7,8,9]\n",
        "y_data = [-8,-13,-0,3,6,-1,-5,-7,1,8,7,12,13]\n",
        "\n",
        "plt.title('line plot')\n",
        "plt.grid()\n",
        "plt.plot(x_data, y_data, color= 'b')\n",
        "plt.show()"
      ],
      "execution_count": 13,
      "outputs": [
        {
          "output_type": "display_data",
          "data": {
            "image/png": "[encoded data removed]",
            "text/plain": [
              "<Figure size 432x288 with 1 Axes>"
            ]
          },
          "metadata": {
            "tags": [],
            "needs_background": "light"
          }
        }
      ]
    },
    {
      "cell_type": "code",
      "metadata": {
        "id": "CjfNWPy1pRRE"
      },
      "source": [
        ""
      ],
      "execution_count": null,
      "outputs": []
    }
  ]
}