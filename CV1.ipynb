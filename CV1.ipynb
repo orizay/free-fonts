{
  "nbformat": 4,
  "nbformat_minor": 0,
  "metadata": {
    "colab": {
      "name": "CV1.ipynb",
      "provenance": [],
      "authorship_tag": "ABX9TyP+3wOiouYoI3SweU2y8tie",
      "include_colab_link": true
    },
    "kernelspec": {
      "name": "python3",
      "display_name": "Python 3"
    },
    "language_info": {
      "name": "python"
    }
  },
  "cells": [
    {
      "cell_type": "markdown",
      "metadata": {
        "id": "view-in-github",
        "colab_type": "text"
      },
      "source": [
        "<a href=\"https://colab.research.google.com/github/orizay/free-fonts/blob/master/CV1.ipynb\" target=\"_parent\"><img src=\"https://colab.research.google.com/assets/colab-badge.svg\" alt=\"Open In Colab\"/></a>"
      ]
    },
    {
      "cell_type": "code",
      "execution_count": null,
      "metadata": {
        "id": "jjxaRKvSVjYY"
      },
      "outputs": [],
      "source": [
        "\"\"\"\n",
        "Pygame Template\n",
        "\n",
        "    Import\n",
        "    Initialize\n",
        "    Create Window\n",
        "    Initialize Clock for FPS\n",
        "\n",
        "    Loop\n",
        "        Get events\n",
        "            if quit\n",
        "                quit pygame\n",
        "        Apply Logic\n",
        "        Update Display/Window\n",
        "        Set FPS\n",
        "\n",
        "\"\"\"\n",
        "\n",
        "# Import\n",
        "import pygame\n",
        "\n",
        "# Initialize\n",
        "pygame.init()\n",
        "\n",
        "# Create Window/Display\n",
        "width, height = 1280, 720\n",
        "window = pygame.display.set_mode((width, height))\n",
        "pygame.display.set_caption(\"My Awesome Game\")\n",
        "\n",
        "# Initialize Clock for FPS\n",
        "fps = 30\n",
        "clock = pygame.time.Clock()\n",
        "\n",
        "# Main loop\n",
        "start = True\n",
        "while start:\n",
        "    # Get Events\n",
        "    for event in pygame.event.get():\n",
        "        if event.type == pygame.QUIT:\n",
        "            start = False\n",
        "            pygame.quit()\n",
        "\n",
        "    # Apply Logic\n",
        "    window.fill((255, 255, 255))\n",
        "\n",
        "    # Update Display\n",
        "    pygame.display.update()\n",
        "    # Set FPS\n",
        "    clock.tick(fps)"
      ]
    }
  ]
}