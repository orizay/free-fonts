{
  "nbformat": 4,
  "nbformat_minor": 0,
  "metadata": {
    "colab": {
      "name": "4머신러니을 위한 통계학.ipynb",
      "provenance": [],
      "authorship_tag": "ABX9TyPEL589BhyVHA9bP9xSFUR3",
      "include_colab_link": true
    },
    "kernelspec": {
      "name": "python3",
      "display_name": "Python 3"
    }
  },
  "cells": [
    {
      "cell_type": "markdown",
      "metadata": {
        "id": "view-in-github",
        "colab_type": "text"
      },
      "source": [
        "<a href=\"https://colab.research.google.com/github/orizay/free-fonts/blob/master/4%EB%A8%B8%EC%8B%A0%EB%9F%AC%EB%8B%88%EC%9D%84_%EC%9C%84%ED%95%9C_%ED%86%B5%EA%B3%84%ED%95%99.ipynb\" target=\"_parent\"><img src=\"https://colab.research.google.com/assets/colab-badge.svg\" alt=\"Open In Colab\"/></a>"
      ]
    },
    {
      "cell_type": "code",
      "metadata": {
        "id": "oJY90tZYQ-Kw",
        "colab_type": "code",
        "colab": {}
      },
      "source": [
        ""
      ],
      "execution_count": 0,
      "outputs": []
    },
    {
      "cell_type": "markdown",
      "metadata": {
        "id": "19ZUD18IROmr",
        "colab_type": "text"
      },
      "source": [
        "# **통계학이란?**\n",
        "## 통계학\n",
        "\n",
        "\n",
        "- 수치 데이터의 수집,분석,해석,표현 등을 다루는 수학의 한 분야로 크게 기술 통계학과 추론통계학으로 부류됨\n",
        "- 기술 통계학:\n",
        "  - 연속형 데이터 => 평균,표준편차와 같은 자료 요약(키,나이,각격,등)\n",
        "  - 범주형 데이터 => 빈도,백분율과 같은 자료 요약(성별,성씨,등)\n",
        "\n",
        "- 추론 통계학:\n",
        "  - 표본이라 불리는 일부 자료를 수집해 전체 모집합에 대한 결론을 유추 추론은 가설 검정,수치의 특징 계산,데이터 간의 상관과계 등을 통해 이루어짐\n",
        "\n",
        "- 데이터에 통계학을 적용해 변수의 유의성을 분석함으로써 데이터의 숨겨진 특징을 찾아낸는 것을 통계 모델링이라고 함\n",
        "\n",
        "\n",
        "## 머신러닝 이해에 필요한 통계학 핵심 개념\n",
        "\n",
        "- 통계 모델은 수학적 모델 => 변수들로 이루어진 수학식을 계산해 실제 값을 추정하는 방법\n",
        "- 통계 모델을 이루는 여러 가정은 확률 분포를 따름\n",
        "- 통계 모델은 모든 변수가 만족해야 하는 기본 가정으로 시작하며,이 조건이 만족할 때만 모델의 성능이 통계학적으로 의미를 가짐\n",
        "\n",
        "       (머신러닝 분야 발전 방향: 수학 => 통계학 => 컴퓨터 과학 => 머신러닝) - 통계학과 머신러니은 공통분모를 가지고 있음\n",
        "\n",
        "### 모집단과 표본\n",
        "- 모집단: 모든 관측값 또는 분석 대상의 전체 데이터를 의미\n",
        "- 표본: 모집단의 부분 집합으로,분석 대상 중인 전체 데이터의 일부분\n",
        "\n",
        "\n",
        "### 모수와 통계량\n",
        "- 모수: 모집단의 특징을 나타내는 수치값\n",
        "- 통계량: 표본의 특징을 나타내는 수치값으로,모수 추정을 위해 사용\n",
        "   - => 평균,중앙값,최빈값,분산 등과 같은 데이터를 대표하는 값\n",
        "\n"
      ]
    },
    {
      "cell_type": "code",
      "metadata": {
        "id": "hzU9XSLdTYuf",
        "colab_type": "code",
        "colab": {}
      },
      "source": [
        "import numpy as np\n",
        "from scipy import stats"
      ],
      "execution_count": 0,
      "outputs": []
    },
    {
      "cell_type": "code",
      "metadata": {
        "id": "63BoG9IhX_34",
        "colab_type": "code",
        "colab": {
          "base_uri": "https://localhost:8080/",
          "height": 68
        },
        "outputId": "04dae459-78fe-412c-a00c-7af34555f854"
      },
      "source": [
        "np.random.seed(0)\n",
        "data = np.random.randint(0,100,10000)\n",
        "\n",
        "mean = np.mean(data);print('평균값:',mean.round(2))\n",
        "median = np.median(data);print('중앙값:',median)\n",
        "mode = stats.mode(data);print('최빈값: {}({})'.format(mode[0][0],mode[1][0]))"
      ],
      "execution_count": 2,
      "outputs": [
        {
          "output_type": "stream",
          "text": [
            "평균값: 49.17\n",
            "중앙값: 49.0\n",
            "최빈값: 3(125)\n"
          ],
          "name": "stdout"
        }
      ]
    },
    {
      "cell_type": "markdown",
      "metadata": {
        "id": "1lVqG63XY6qM",
        "colab_type": "text"
      },
      "source": [
        "## 분산,표준편차,범위,사분위수\n",
        "- 변량의 측정: 산포는 데이터의 변량을 의미하며,데이터가 얼마나 중심으로 모이지 않고 흩어져 있는지를 설명\n",
        "- 분산:평균과의 거리를 제곱한 값의 평균(variance)\n",
        "- 표준편차:분산의 제곱근\n",
        "- 범위:최대값과 최소값의 차이\n",
        "- 사분위수:데이터를 4등분한 값.25%값을 1사분위수(Q1),50%값을 2사분위수(Q2),75%값을 3사분위수(Q3)\n",
        "- IQR:Interquartile Range, Q1과 Q3의 차이\n",
        "[링크 텍스트](https://en.wikipedia.org/wiki/Interquartile_range)\n",
        "![대체 텍스트](https://upload.wikimedia.org/wikipedia/commons/thumb/1/1a/Boxplot_vs_PDF.svg/1280px-Boxplot_vs_PDF.svg.png)"
      ]
    },
    {
      "cell_type": "code",
      "metadata": {
        "id": "Uib95kDUoEOJ",
        "colab_type": "code",
        "colab": {}
      },
      "source": [
        "import numpy as np\n",
        "from statistics import variance,stdev"
      ],
      "execution_count": 0,
      "outputs": []
    },
    {
      "cell_type": "code",
      "metadata": {
        "id": "RxVoecQ-o2fo",
        "colab_type": "code",
        "colab": {
          "base_uri": "https://localhost:8080/",
          "height": 187
        },
        "outputId": "a16ba1c0-aac5-49ad-c10a-204bb6a2411d"
      },
      "source": [
        "np.random.seed(0)\n",
        "\n",
        "points = np.random.randint(0,100,20)\n",
        "var = variance(points);print('분산:',var)\n",
        "std = stdev(points);print('표준편차:',np.round(std,2))\n",
        "range = np.max(points)- np.min(points);print('범위:',range)\n",
        "print('사분위수:')\n",
        "for val in [0,25,50,75,100]:\n",
        "    quantile = np.percentile(points,val)\n",
        "    print('{}% => {}'.format(val,quantile))\n",
        "\n",
        "q1,q3 = np.percentile(points,[25,75])\n",
        "print('IQR:',q3-q1)"
      ],
      "execution_count": 5,
      "outputs": [
        {
          "output_type": "stream",
          "text": [
            "분산: 662\n",
            "표준편차: 25.73\n",
            "범위: 79\n",
            "사분위수:\n",
            "0% => 9.0\n",
            "25% => 42.75\n",
            "50% => 64.5\n",
            "75% => 84.0\n",
            "100% => 88.0\n",
            "IQR: 41.25\n"
          ],
          "name": "stdout"
        }
      ]
    },
    {
      "cell_type": "markdown",
      "metadata": {
        "id": "DrKdqsXGqI0a",
        "colab_type": "text"
      },
      "source": [
        "# **가설검정과 p-value**\n",
        "- 가설 검정:\n",
        " - 표본에 대한 통계적 테스트를 수행해 저체 모집단에 대한 추론을 만드는 과정으로,*귀무가설(H0)*과 *대립가설(H1)*을 통해 가정이 통계적으로 의미가 있는지 검정함(대립가설<연구가설>은 연구를 할때 세우는 가설을 의미함)\n",
        " - 모델링에서 각 독립 변수에 대해 0.05보다 작은 p-value는 유의미하다고 간주함\n",
        "\n",
        "### - 가설 검정의 단계:   \n",
        "                    귀무가설 정의\n",
        "                    \n",
        "                    표본 추출\n",
        "\n",
        "                검정 통계량에 따른 귀무가설의 통계적 유의성 확인\n",
        "\n",
        "                검정 통계량에 따라 귀무가설 채택 또는 기각\n",
        "\n",
        "- p-value:귀무가설이 옳다는 전제 하에 표본에서 실제로 관측된 통계값과 같거나 더 극단적인 통계값이 관측될 확률\n",
        "- 한 빵빕에서 생산되는 식빵의 무게가 최소 200g이라고 주장할 경우,표본 20개를 추출해 구한 평균 무게가 16g이고,표준편차는 5.3g이었다면,유의수준 5%(0.05)로 위의 주장을 기각할 수 있을까?\n",
        "\n",
        "                   귀무가설:모든 식빵의 무게는 200g 이상이다.\n",
        "                   표본:x = 196,s = 5.3, n = 20\n",
        "\n",
        "               x(-바):표본평균; s:표준편차(시그마); n:표본크기"
      ]
    }
  ]
}