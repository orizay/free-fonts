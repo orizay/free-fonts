{
  "nbformat": 4,
  "nbformat_minor": 0,
  "metadata": {
    "colab": {
      "name": "Line.ipynb",
      "provenance": [],
      "authorship_tag": "ABX9TyOztJxp6tjwrnzDn3Ir/ogf",
      "include_colab_link": true
    },
    "kernelspec": {
      "name": "python3",
      "display_name": "Python 3"
    },
    "language_info": {
      "name": "python"
    }
  },
  "cells": [
    {
      "cell_type": "markdown",
      "metadata": {
        "id": "view-in-github",
        "colab_type": "text"
      },
      "source": [
        "<a href=\"https://colab.research.google.com/github/orizay/free-fonts/blob/master/Line.ipynb\" target=\"_parent\"><img src=\"https://colab.research.google.com/assets/colab-badge.svg\" alt=\"Open In Colab\"/></a>"
      ]
    },
    {
      "cell_type": "markdown",
      "metadata": {
        "id": "f87XkXHau_UH"
      },
      "source": [
        "# 1.Mount Drive"
      ]
    },
    {
      "cell_type": "code",
      "metadata": {
        "colab": {
          "base_uri": "https://localhost:8080/"
        },
        "id": "4J_FzG4ou7Ix",
        "outputId": "83a8fc18-4b7f-4f30-f251-a834e0d03418"
      },
      "source": [
        "from google.colab import drive\n",
        "drive.mount('MyData',force_remount=True)"
      ],
      "execution_count": 2,
      "outputs": [
        {
          "output_type": "stream",
          "text": [
            "Mounted at MyData\n"
          ],
          "name": "stdout"
        }
      ]
    },
    {
      "cell_type": "code",
      "metadata": {
        "colab": {
          "base_uri": "https://localhost:8080/"
        },
        "id": "VrO5J3F7vkbH",
        "outputId": "7da1778f-c2c6-443d-ccba-f03f354cb39a"
      },
      "source": [
        "!ls -al '/content/MyData/MyDrive/MyData'"
      ],
      "execution_count": 1,
      "outputs": [
        {
          "output_type": "stream",
          "text": [
            "total 9350784\n",
            "-rw------- 1 root root    143130 Jul  3  2020  abalone_original.csv\n",
            "-rw------- 1 root root      4756 Jul  7  2020  Advertising.csv\n",
            "drwx------ 2 root root      4096 Aug  1  2020  All-CSV-ML-Data-Files-Download-master\n",
            "-rw------- 1 root root       728 Jul 22  2020  enrollment_forecast.csv\n",
            "-rw------- 1 root root      1729 Jul 23  2020  mtcars.csv\n",
            "-rw------- 1 root root   1770221 Jul 31  2020  Superstore-Sales.csv\n",
            "-rw------- 1 root root 783889122 Apr 27 01:41  TCS_영업소간통행시간_1시간_1개월_202001\n",
            "-rw------- 1 root root 699429059 Apr 27 01:42  TCS_영업소간통행시간_1시간_1개월_202002\n",
            "-rw------- 1 root root 738556069 Apr 27 01:41  TCS_영업소간통행시간_1시간_1개월_202003\n",
            "-rw------- 1 root root 765531937 May 12 23:59  TCS_영업소간통행시간_1시간_1개월_202004\n",
            "-rw------- 1 root root 824393600 May 13 00:02  TCS_영업소간통행시간_1시간_1개월_202005\n",
            "-rw------- 1 root root 819232732 May 13 00:02  TCS_영업소간통행시간_1시간_1개월_202006\n",
            "-rw------- 1 root root 830033530 May 13 00:01  TCS_영업소간통행시간_1시간_1개월_202007\n",
            "-rw------- 1 root root 826425779 May 13 00:01  TCS_영업소간통행시간_1시간_1개월_202008\n",
            "-rw------- 1 root root 811907343 May 13 00:01  TCS_영업소간통행시간_1시간_1개월_202009\n",
            "-rw------- 1 root root 825927535 May 13 00:01  TCS_영업소간통행시간_1시간_1개월_202010\n",
            "-rw------- 1 root root 830332165 May 13 00:02  TCS_영업소간통행시간_1시간_1개월_202011\n",
            "-rw------- 1 root root 815733096 May 13 00:02  TCS_영업소간통행시간_1시간_1개월_202012\n",
            "-rw------- 1 root root    337847 May 11 01:28  TCS_202001.csv\n",
            "-rw------- 1 root root    314682 May 11 01:41  TCS_202002.csv\n",
            "-rw------- 1 root root    335953 May 11 01:49  TCS_202003.csv\n",
            "-rw------- 1 root root    807644 May 11 02:08  TCS_2020.csv\n",
            "-rw------- 1 root root     84199 Jul  4  2020 'winequality-red .csv'\n"
          ],
          "name": "stdout"
        }
      ]
    },
    {
      "cell_type": "markdown",
      "metadata": {
        "id": "axOMeOqLv5cr"
      },
      "source": [
        "# 2.Korean Characters"
      ]
    },
    {
      "cell_type": "code",
      "metadata": {
        "colab": {
          "base_uri": "https://localhost:8080/"
        },
        "id": "XVqplqMwv2o_",
        "outputId": "0a05ff35-b068-49dc-985e-0cfc3a557d6f"
      },
      "source": [
        "!sudo apt-get install -y fonts-nanum\n",
        "!sudo fc-cache -fv\n",
        "!rm ~/.cache/matplotlib -rf"
      ],
      "execution_count": 2,
      "outputs": [
        {
          "output_type": "stream",
          "text": [
            "Reading package lists... Done\n",
            "Building dependency tree       \n",
            "Reading state information... Done\n",
            "fonts-nanum is already the newest version (20170925-1).\n",
            "The following package was automatically installed and is no longer required:\n",
            "  libnvidia-common-460\n",
            "Use 'sudo apt autoremove' to remove it.\n",
            "0 upgraded, 0 newly installed, 0 to remove and 34 not upgraded.\n",
            "/usr/share/fonts: caching, new cache contents: 0 fonts, 1 dirs\n",
            "/usr/share/fonts/truetype: caching, new cache contents: 0 fonts, 3 dirs\n",
            "/usr/share/fonts/truetype/humor-sans: caching, new cache contents: 1 fonts, 0 dirs\n",
            "/usr/share/fonts/truetype/liberation: caching, new cache contents: 16 fonts, 0 dirs\n",
            "/usr/share/fonts/truetype/nanum: caching, new cache contents: 10 fonts, 0 dirs\n",
            "/usr/local/share/fonts: caching, new cache contents: 0 fonts, 0 dirs\n",
            "/root/.local/share/fonts: skipping, no such directory\n",
            "/root/.fonts: skipping, no such directory\n",
            "/var/cache/fontconfig: cleaning cache directory\n",
            "/root/.cache/fontconfig: not cleaning non-existent cache directory\n",
            "/root/.fontconfig: not cleaning non-existent cache directory\n",
            "fc-cache: succeeded\n"
          ],
          "name": "stdout"
        }
      ]
    },
    {
      "cell_type": "markdown",
      "metadata": {
        "id": "NCITMg5vwQcO"
      },
      "source": [
        "# 런타임 - 런타임 다시 시작\n",
        "matplotlib의 폰트를 Nanum 폰트로 지정"
      ]
    },
    {
      "cell_type": "code",
      "metadata": {
        "id": "GjfAsu5swM0Y"
      },
      "source": [
        "import matplotlib.pyplot as plt\n",
        "\n",
        "%matplotlib inline"
      ],
      "execution_count": 3,
      "outputs": []
    },
    {
      "cell_type": "code",
      "metadata": {
        "id": "AWWrSuBYwvbo"
      },
      "source": [
        "plt.rc('font', family='NanumBarunGothic')"
      ],
      "execution_count": 4,
      "outputs": []
    },
    {
      "cell_type": "markdown",
      "metadata": {
        "id": "5rdqBLUaw-Io"
      },
      "source": [
        "# 3.Load Data"
      ]
    },
    {
      "cell_type": "code",
      "metadata": {
        "id": "giZIg2lJw5iw"
      },
      "source": [
        "import pandas as pd"
      ],
      "execution_count": 5,
      "outputs": []
    },
    {
      "cell_type": "code",
      "metadata": {
        "id": "EawE_tZyxG4r"
      },
      "source": [
        "# Load a file under 'data' folder\n",
        "file = '/content/MyData/MyDrive/MyData/TCS_2020.csv'\n",
        "data = pd.read_csv(file)"
      ],
      "execution_count": 6,
      "outputs": []
    },
    {
      "cell_type": "code",
      "metadata": {
        "colab": {
          "base_uri": "https://localhost:8080/",
          "height": 206
        },
        "id": "p0zZiJYOxWNx",
        "outputId": "a2495597-f69a-448a-ce10-f0c1d8abd981"
      },
      "source": [
        "data.head()"
      ],
      "execution_count": 7,
      "outputs": [
        {
          "output_type": "execute_result",
          "data": {
            "text/html": [
              "<div>\n",
              "<style scoped>\n",
              "    .dataframe tbody tr th:only-of-type {\n",
              "        vertical-align: middle;\n",
              "    }\n",
              "\n",
              "    .dataframe tbody tr th {\n",
              "        vertical-align: top;\n",
              "    }\n",
              "\n",
              "    .dataframe thead th {\n",
              "        text-align: right;\n",
              "    }\n",
              "</style>\n",
              "<table border=\"1\" class=\"dataframe\">\n",
              "  <thead>\n",
              "    <tr style=\"text-align: right;\">\n",
              "      <th></th>\n",
              "      <th>집계일자</th>\n",
              "      <th>집계시</th>\n",
              "      <th>출발영업소코드</th>\n",
              "      <th>도착영업소코드</th>\n",
              "      <th>요일</th>\n",
              "    </tr>\n",
              "  </thead>\n",
              "  <tbody>\n",
              "    <tr>\n",
              "      <th>0</th>\n",
              "      <td>20200101</td>\n",
              "      <td>4</td>\n",
              "      <td>101</td>\n",
              "      <td>105</td>\n",
              "      <td>2</td>\n",
              "    </tr>\n",
              "    <tr>\n",
              "      <th>1</th>\n",
              "      <td>20200101</td>\n",
              "      <td>4</td>\n",
              "      <td>101</td>\n",
              "      <td>105</td>\n",
              "      <td>2</td>\n",
              "    </tr>\n",
              "    <tr>\n",
              "      <th>2</th>\n",
              "      <td>20200101</td>\n",
              "      <td>4</td>\n",
              "      <td>101</td>\n",
              "      <td>105</td>\n",
              "      <td>2</td>\n",
              "    </tr>\n",
              "    <tr>\n",
              "      <th>3</th>\n",
              "      <td>20200101</td>\n",
              "      <td>4</td>\n",
              "      <td>101</td>\n",
              "      <td>105</td>\n",
              "      <td>2</td>\n",
              "    </tr>\n",
              "    <tr>\n",
              "      <th>4</th>\n",
              "      <td>20200101</td>\n",
              "      <td>4</td>\n",
              "      <td>101</td>\n",
              "      <td>105</td>\n",
              "      <td>2</td>\n",
              "    </tr>\n",
              "  </tbody>\n",
              "</table>\n",
              "</div>"
            ],
            "text/plain": [
              "       집계일자  집계시  출발영업소코드  도착영업소코드  요일\n",
              "0  20200101    4      101      105   2\n",
              "1  20200101    4      101      105   2\n",
              "2  20200101    4      101      105   2\n",
              "3  20200101    4      101      105   2\n",
              "4  20200101    4      101      105   2"
            ]
          },
          "metadata": {
            "tags": []
          },
          "execution_count": 7
        }
      ]
    },
    {
      "cell_type": "code",
      "metadata": {
        "colab": {
          "base_uri": "https://localhost:8080/"
        },
        "id": "eCmjy1SaxcxG",
        "outputId": "8803a8e9-649a-45f0-9228-b223259f2125"
      },
      "source": [
        "data.info()"
      ],
      "execution_count": 8,
      "outputs": [
        {
          "output_type": "stream",
          "text": [
            "<class 'pandas.core.frame.DataFrame'>\n",
            "RangeIndex: 37356 entries, 0 to 37355\n",
            "Data columns (total 5 columns):\n",
            " #   Column   Non-Null Count  Dtype\n",
            "---  ------   --------------  -----\n",
            " 0   집계일자     37356 non-null  int64\n",
            " 1   집계시      37356 non-null  int64\n",
            " 2   출발영업소코드  37356 non-null  int64\n",
            " 3   도착영업소코드  37356 non-null  int64\n",
            " 4   요일       37356 non-null  int64\n",
            "dtypes: int64(5)\n",
            "memory usage: 1.4 MB\n"
          ],
          "name": "stdout"
        }
      ]
    },
    {
      "cell_type": "markdown",
      "metadata": {
        "id": "JzcXqjagxzZb"
      },
      "source": [
        "# 4.집계시"
      ]
    },
    {
      "cell_type": "code",
      "metadata": {
        "id": "uZnFRMrXxsiy"
      },
      "source": [
        "data_06_22 = data[data.집계시.isin(range(6,23))]"
      ],
      "execution_count": 9,
      "outputs": []
    },
    {
      "cell_type": "code",
      "metadata": {
        "colab": {
          "base_uri": "https://localhost:8080/",
          "height": 424
        },
        "id": "78-ro1UPyKFD",
        "outputId": "af2a5393-8db8-47fd-d8fa-9b387d918ec3"
      },
      "source": [
        "# Create data_06_22 Dataframe with counting by 집계시\n",
        "data_06_22.sort_values(by= '집계시')"
      ],
      "execution_count": 10,
      "outputs": [
        {
          "output_type": "execute_result",
          "data": {
            "text/html": [
              "<div>\n",
              "<style scoped>\n",
              "    .dataframe tbody tr th:only-of-type {\n",
              "        vertical-align: middle;\n",
              "    }\n",
              "\n",
              "    .dataframe tbody tr th {\n",
              "        vertical-align: top;\n",
              "    }\n",
              "\n",
              "    .dataframe thead th {\n",
              "        text-align: right;\n",
              "    }\n",
              "</style>\n",
              "<table border=\"1\" class=\"dataframe\">\n",
              "  <thead>\n",
              "    <tr style=\"text-align: right;\">\n",
              "      <th></th>\n",
              "      <th>집계일자</th>\n",
              "      <th>집계시</th>\n",
              "      <th>출발영업소코드</th>\n",
              "      <th>도착영업소코드</th>\n",
              "      <th>요일</th>\n",
              "    </tr>\n",
              "  </thead>\n",
              "  <tbody>\n",
              "    <tr>\n",
              "      <th>25164</th>\n",
              "      <td>20200302</td>\n",
              "      <td>6</td>\n",
              "      <td>101</td>\n",
              "      <td>110</td>\n",
              "      <td>0</td>\n",
              "    </tr>\n",
              "    <tr>\n",
              "      <th>22064</th>\n",
              "      <td>20200213</td>\n",
              "      <td>6</td>\n",
              "      <td>101</td>\n",
              "      <td>130</td>\n",
              "      <td>3</td>\n",
              "    </tr>\n",
              "    <tr>\n",
              "      <th>12199</th>\n",
              "      <td>20200130</td>\n",
              "      <td>6</td>\n",
              "      <td>101</td>\n",
              "      <td>115</td>\n",
              "      <td>3</td>\n",
              "    </tr>\n",
              "    <tr>\n",
              "      <th>6518</th>\n",
              "      <td>20200117</td>\n",
              "      <td>6</td>\n",
              "      <td>101</td>\n",
              "      <td>105</td>\n",
              "      <td>4</td>\n",
              "    </tr>\n",
              "    <tr>\n",
              "      <th>28006</th>\n",
              "      <td>20200309</td>\n",
              "      <td>6</td>\n",
              "      <td>101</td>\n",
              "      <td>115</td>\n",
              "      <td>0</td>\n",
              "    </tr>\n",
              "    <tr>\n",
              "      <th>...</th>\n",
              "      <td>...</td>\n",
              "      <td>...</td>\n",
              "      <td>...</td>\n",
              "      <td>...</td>\n",
              "      <td>...</td>\n",
              "    </tr>\n",
              "    <tr>\n",
              "      <th>15006</th>\n",
              "      <td>20200207</td>\n",
              "      <td>22</td>\n",
              "      <td>101</td>\n",
              "      <td>105</td>\n",
              "      <td>4</td>\n",
              "    </tr>\n",
              "    <tr>\n",
              "      <th>16139</th>\n",
              "      <td>20200209</td>\n",
              "      <td>22</td>\n",
              "      <td>101</td>\n",
              "      <td>130</td>\n",
              "      <td>6</td>\n",
              "    </tr>\n",
              "    <tr>\n",
              "      <th>28346</th>\n",
              "      <td>20200310</td>\n",
              "      <td>22</td>\n",
              "      <td>101</td>\n",
              "      <td>115</td>\n",
              "      <td>1</td>\n",
              "    </tr>\n",
              "    <tr>\n",
              "      <th>16141</th>\n",
              "      <td>20200209</td>\n",
              "      <td>22</td>\n",
              "      <td>101</td>\n",
              "      <td>130</td>\n",
              "      <td>6</td>\n",
              "    </tr>\n",
              "    <tr>\n",
              "      <th>21183</th>\n",
              "      <td>20200221</td>\n",
              "      <td>22</td>\n",
              "      <td>101</td>\n",
              "      <td>115</td>\n",
              "      <td>4</td>\n",
              "    </tr>\n",
              "  </tbody>\n",
              "</table>\n",
              "<p>28304 rows × 5 columns</p>\n",
              "</div>"
            ],
            "text/plain": [
              "           집계일자  집계시  출발영업소코드  도착영업소코드  요일\n",
              "25164  20200302    6      101      110   0\n",
              "22064  20200213    6      101      130   3\n",
              "12199  20200130    6      101      115   3\n",
              "6518   20200117    6      101      105   4\n",
              "28006  20200309    6      101      115   0\n",
              "...         ...  ...      ...      ...  ..\n",
              "15006  20200207   22      101      105   4\n",
              "16139  20200209   22      101      130   6\n",
              "28346  20200310   22      101      115   1\n",
              "16141  20200209   22      101      130   6\n",
              "21183  20200221   22      101      115   4\n",
              "\n",
              "[28304 rows x 5 columns]"
            ]
          },
          "metadata": {
            "tags": []
          },
          "execution_count": 10
        }
      ]
    },
    {
      "cell_type": "code",
      "metadata": {
        "id": "Tqel7sFKy-ut"
      },
      "source": [
        "data_06_22_counting = data_06_22['집계시'].value_counts()"
      ],
      "execution_count": 11,
      "outputs": []
    },
    {
      "cell_type": "code",
      "metadata": {
        "colab": {
          "base_uri": "https://localhost:8080/"
        },
        "id": "mPpIheWBzuaI",
        "outputId": "1253d7a6-408c-4f0e-e6f8-e4dd017ce72e"
      },
      "source": [
        "data_06_22_counting"
      ],
      "execution_count": 12,
      "outputs": [
        {
          "output_type": "execute_result",
          "data": {
            "text/plain": [
              "14    1766\n",
              "12    1758\n",
              "15    1755\n",
              "13    1754\n",
              "11    1744\n",
              "10    1725\n",
              "16    1724\n",
              "17    1719\n",
              "9     1703\n",
              "18    1666\n",
              "8     1662\n",
              "19    1628\n",
              "20    1611\n",
              "7     1585\n",
              "21    1559\n",
              "22    1505\n",
              "6     1440\n",
              "Name: 집계시, dtype: int64"
            ]
          },
          "metadata": {
            "tags": []
          },
          "execution_count": 12
        }
      ]
    },
    {
      "cell_type": "code",
      "metadata": {
        "id": "3pD1p8lXzv9L"
      },
      "source": [
        "data_06_22_counting_sorted = data_06_22_counting.sort_index()"
      ],
      "execution_count": 14,
      "outputs": []
    },
    {
      "cell_type": "code",
      "metadata": {
        "colab": {
          "base_uri": "https://localhost:8080/"
        },
        "id": "b9Be2Ro_0KSh",
        "outputId": "3750e5b6-6257-481f-f535-deab94504ea8"
      },
      "source": [
        "data_06_22_counting_sorted"
      ],
      "execution_count": 15,
      "outputs": [
        {
          "output_type": "execute_result",
          "data": {
            "text/plain": [
              "6     1440\n",
              "7     1585\n",
              "8     1662\n",
              "9     1703\n",
              "10    1725\n",
              "11    1744\n",
              "12    1758\n",
              "13    1754\n",
              "14    1766\n",
              "15    1755\n",
              "16    1724\n",
              "17    1719\n",
              "18    1666\n",
              "19    1628\n",
              "20    1611\n",
              "21    1559\n",
              "22    1505\n",
              "Name: 집계시, dtype: int64"
            ]
          },
          "metadata": {
            "tags": []
          },
          "execution_count": 15
        }
      ]
    },
    {
      "cell_type": "code",
      "metadata": {
        "colab": {
          "base_uri": "https://localhost:8080/",
          "height": 282
        },
        "id": "Lkertwii0OwQ",
        "outputId": "9aff201e-dedd-44f4-e309-6549bc7f8cc6"
      },
      "source": [
        "plt.plot(data_06_22_counting_sorted.index, data_06_22_counting_sorted.values)"
      ],
      "execution_count": 16,
      "outputs": [
        {
          "output_type": "execute_result",
          "data": {
            "text/plain": [
              "[<matplotlib.lines.Line2D at 0x7f36fd3691d0>]"
            ]
          },
          "metadata": {
            "tags": []
          },
          "execution_count": 16
        },
        {
          "output_type": "display_data",
          "data": {
            "image/png": "[encoded data removed]",
            "text/plain": [
              "<Figure size 432x288 with 1 Axes>"
            ]
          },
          "metadata": {
            "tags": [],
            "needs_background": "light"
          }
        }
      ]
    },
    {
      "cell_type": "code",
      "metadata": {
        "id": "uqOSR1Qp1WBP"
      },
      "source": [
        "# Store index of data_06_22_counting into x\n",
        "x = data_06_22_counting_sorted.index"
      ],
      "execution_count": 17,
      "outputs": []
    },
    {
      "cell_type": "code",
      "metadata": {
        "colab": {
          "base_uri": "https://localhost:8080/"
        },
        "id": "3wzfHCUe2Vgj",
        "outputId": "9031d366-2c53-4785-c309-cd493c673292"
      },
      "source": [
        "labels = [str(i)+ '시' for i in x]\n",
        "labels"
      ],
      "execution_count": 18,
      "outputs": [
        {
          "output_type": "execute_result",
          "data": {
            "text/plain": [
              "['6시',\n",
              " '7시',\n",
              " '8시',\n",
              " '9시',\n",
              " '10시',\n",
              " '11시',\n",
              " '12시',\n",
              " '13시',\n",
              " '14시',\n",
              " '15시',\n",
              " '16시',\n",
              " '17시',\n",
              " '18시',\n",
              " '19시',\n",
              " '20시',\n",
              " '21시',\n",
              " '22시']"
            ]
          },
          "metadata": {
            "tags": []
          },
          "execution_count": 18
        }
      ]
    },
    {
      "cell_type": "code",
      "metadata": {
        "id": "1ahScMAR2fMy"
      },
      "source": [
        "# Store values of data_06_22_counting into values\n",
        "values = data_06_22_counting_sorted.values"
      ],
      "execution_count": 19,
      "outputs": []
    },
    {
      "cell_type": "code",
      "metadata": {
        "colab": {
          "base_uri": "https://localhost:8080/",
          "height": 635
        },
        "id": "T6n189Y820Fm",
        "outputId": "bb8c95a7-c8b2-40ad-ecba-c61bdeb6f9b6"
      },
      "source": [
        "# Configure figure size\n",
        "plt.figure(figsize= (20,10))\n",
        "\n",
        "# Creae Line Chart\n",
        "plt.plot(labels, values, marker= 's', color='r')\n",
        "\n",
        "# Generate labels and title\n",
        "plt.title('집계시 기준 통행회수',fontsize= 18)\n",
        "plt.xlabel('집계시',fontdict={'size':16})\n",
        "plt.ylabel('통행회수',fontdict={'size':16})\n",
        "\n",
        "# Show plot\n",
        "plt.show()"
      ],
      "execution_count": 20,
      "outputs": [
        {
          "output_type": "display_data",
          "data": {
            "image/png": "[encoded data removed]",
            "text/plain": [
              "<Figure size 1440x720 with 1 Axes>"
            ]
          },
          "metadata": {
            "tags": [],
            "needs_background": "light"
          }
        }
      ]
    },
    {
      "cell_type": "markdown",
      "metadata": {
        "id": "BWfLQD5J4znH"
      },
      "source": [
        "# 5.도착영업소코드"
      ]
    },
    {
      "cell_type": "code",
      "metadata": {
        "id": "ciuIc5Wy4N-l"
      },
      "source": [
        "data_destination_counting = data['도착영업소코드'].value_counts()"
      ],
      "execution_count": 21,
      "outputs": []
    },
    {
      "cell_type": "code",
      "metadata": {
        "colab": {
          "base_uri": "https://localhost:8080/"
        },
        "id": "VqpwTXZT5ECb",
        "outputId": "c854f338-3e53-4991-d14b-c6df74f86be1"
      },
      "source": [
        "data_destination_counting"
      ],
      "execution_count": 22,
      "outputs": [
        {
          "output_type": "execute_result",
          "data": {
            "text/plain": [
              "105    12274\n",
              "110     9419\n",
              "115     6509\n",
              "140     2235\n",
              "130     1972\n",
              "135     1759\n",
              "125     1677\n",
              "120     1511\n",
              "Name: 도착영업소코드, dtype: int64"
            ]
          },
          "metadata": {
            "tags": []
          },
          "execution_count": 22
        }
      ]
    },
    {
      "cell_type": "code",
      "metadata": {
        "id": "f0f7x1vm5Fmb"
      },
      "source": [
        "data_destination_counting_sorted = data_destination_counting.sort_index()"
      ],
      "execution_count": 23,
      "outputs": []
    },
    {
      "cell_type": "code",
      "metadata": {
        "colab": {
          "base_uri": "https://localhost:8080/"
        },
        "id": "47HqTi-w5eo5",
        "outputId": "db870885-abdc-45ea-8b73-7ed10d623181"
      },
      "source": [
        "data_destination_counting_sorted"
      ],
      "execution_count": 24,
      "outputs": [
        {
          "output_type": "execute_result",
          "data": {
            "text/plain": [
              "105    12274\n",
              "110     9419\n",
              "115     6509\n",
              "120     1511\n",
              "125     1677\n",
              "130     1972\n",
              "135     1759\n",
              "140     2235\n",
              "Name: 도착영업소코드, dtype: int64"
            ]
          },
          "metadata": {
            "tags": []
          },
          "execution_count": 24
        }
      ]
    },
    {
      "cell_type": "code",
      "metadata": {
        "id": "DLrpCe-e5gk4"
      },
      "source": [
        "# Store index of data_destination_counting into x\n",
        "x = data_destination_counting_sorted.index"
      ],
      "execution_count": 25,
      "outputs": []
    },
    {
      "cell_type": "code",
      "metadata": {
        "colab": {
          "base_uri": "https://localhost:8080/"
        },
        "id": "1qCeOdvi5u9Y",
        "outputId": "f89f6f66-dff6-40ff-eac7-a4ebc9de000d"
      },
      "source": [
        "labels = [str(i) for i in x]\n",
        "labels"
      ],
      "execution_count": 26,
      "outputs": [
        {
          "output_type": "execute_result",
          "data": {
            "text/plain": [
              "['105', '110', '115', '120', '125', '130', '135', '140']"
            ]
          },
          "metadata": {
            "tags": []
          },
          "execution_count": 26
        }
      ]
    },
    {
      "cell_type": "code",
      "metadata": {
        "id": "rc-ylRP453Lx"
      },
      "source": [
        "# 101,서울  105,기흥 110,목천 115,대전 120,황간 125,남구미 130,동김천 135,경주 140,부산\n",
        "labels = ['기흥','목천','대전','황간','남구미','동김천','경주','부산']"
      ],
      "execution_count": 27,
      "outputs": []
    },
    {
      "cell_type": "code",
      "metadata": {
        "id": "Zd0zniFk6a9B"
      },
      "source": [
        "# Store values of data_destination_counting into vvalues\n",
        "values = data_destination_counting_sorted.values"
      ],
      "execution_count": 28,
      "outputs": []
    },
    {
      "cell_type": "code",
      "metadata": {
        "colab": {
          "base_uri": "https://localhost:8080/",
          "height": 635
        },
        "id": "m7E9XvzV6scz",
        "outputId": "48f3f9e1-f5d0-4bb5-a440-a1adcec83aa0"
      },
      "source": [
        "# Configure figure size\n",
        "plt.figure(figsize=(20,10))\n",
        "\n",
        "# Creae Line Chart\n",
        "plt.plot(labels, values, marker='*', color= 'b')\n",
        "\n",
        "# Generate labels and title\n",
        "plt.title('도착영업소 기준 통행회수', fontsize= 18)\n",
        "plt.xlabel('도착영업소코드', fontdict= {'size':16})\n",
        "plt.ylabel('통행회수',fontdict= {'size':16})\n",
        "\n",
        "# Show plot\n",
        "plt.show()"
      ],
      "execution_count": 29,
      "outputs": [
        {
          "output_type": "display_data",
          "data": {
            "image/png": "[encoded data removed]",
            "text/plain": [
              "<Figure size 1440x720 with 1 Axes>"
            ]
          },
          "metadata": {
            "tags": [],
            "needs_background": "light"
          }
        }
      ]
    },
    {
      "cell_type": "markdown",
      "metadata": {
        "id": "kKN2fdGL8kVl"
      },
      "source": [
        "# 6.요일"
      ]
    },
    {
      "cell_type": "code",
      "metadata": {
        "id": "_a7P4-1u8HhR"
      },
      "source": [
        "data_weekdays = data.groupby(by=['요일']).mean()"
      ],
      "execution_count": 30,
      "outputs": []
    },
    {
      "cell_type": "code",
      "metadata": {
        "colab": {
          "base_uri": "https://localhost:8080/",
          "height": 300
        },
        "id": "4oUOBKme87-G",
        "outputId": "e6a2715a-2868-4627-b0e4-77eda23ae193"
      },
      "source": [
        "data_weekdays"
      ],
      "execution_count": 31,
      "outputs": [
        {
          "output_type": "execute_result",
          "data": {
            "text/html": [
              "<div>\n",
              "<style scoped>\n",
              "    .dataframe tbody tr th:only-of-type {\n",
              "        vertical-align: middle;\n",
              "    }\n",
              "\n",
              "    .dataframe tbody tr th {\n",
              "        vertical-align: top;\n",
              "    }\n",
              "\n",
              "    .dataframe thead th {\n",
              "        text-align: right;\n",
              "    }\n",
              "</style>\n",
              "<table border=\"1\" class=\"dataframe\">\n",
              "  <thead>\n",
              "    <tr style=\"text-align: right;\">\n",
              "      <th></th>\n",
              "      <th>집계일자</th>\n",
              "      <th>집계시</th>\n",
              "      <th>출발영업소코드</th>\n",
              "      <th>도착영업소코드</th>\n",
              "    </tr>\n",
              "    <tr>\n",
              "      <th>요일</th>\n",
              "      <th></th>\n",
              "      <th></th>\n",
              "      <th></th>\n",
              "      <th></th>\n",
              "    </tr>\n",
              "  </thead>\n",
              "  <tbody>\n",
              "    <tr>\n",
              "      <th>0</th>\n",
              "      <td>2.020022e+07</td>\n",
              "      <td>11.734950</td>\n",
              "      <td>101.0</td>\n",
              "      <td>114.529922</td>\n",
              "    </tr>\n",
              "    <tr>\n",
              "      <th>1</th>\n",
              "      <td>2.020022e+07</td>\n",
              "      <td>11.691664</td>\n",
              "      <td>101.0</td>\n",
              "      <td>113.743022</td>\n",
              "    </tr>\n",
              "    <tr>\n",
              "      <th>2</th>\n",
              "      <td>2.020021e+07</td>\n",
              "      <td>11.902394</td>\n",
              "      <td>101.0</td>\n",
              "      <td>113.841621</td>\n",
              "    </tr>\n",
              "    <tr>\n",
              "      <th>3</th>\n",
              "      <td>2.020021e+07</td>\n",
              "      <td>11.929709</td>\n",
              "      <td>101.0</td>\n",
              "      <td>114.103057</td>\n",
              "    </tr>\n",
              "    <tr>\n",
              "      <th>4</th>\n",
              "      <td>2.020021e+07</td>\n",
              "      <td>11.923865</td>\n",
              "      <td>101.0</td>\n",
              "      <td>114.440886</td>\n",
              "    </tr>\n",
              "    <tr>\n",
              "      <th>5</th>\n",
              "      <td>2.020022e+07</td>\n",
              "      <td>11.463546</td>\n",
              "      <td>101.0</td>\n",
              "      <td>114.764006</td>\n",
              "    </tr>\n",
              "    <tr>\n",
              "      <th>6</th>\n",
              "      <td>2.020022e+07</td>\n",
              "      <td>12.400000</td>\n",
              "      <td>101.0</td>\n",
              "      <td>115.002099</td>\n",
              "    </tr>\n",
              "  </tbody>\n",
              "</table>\n",
              "</div>"
            ],
            "text/plain": [
              "            집계일자        집계시  출발영업소코드     도착영업소코드\n",
              "요일                                              \n",
              "0   2.020022e+07  11.734950    101.0  114.529922\n",
              "1   2.020022e+07  11.691664    101.0  113.743022\n",
              "2   2.020021e+07  11.902394    101.0  113.841621\n",
              "3   2.020021e+07  11.929709    101.0  114.103057\n",
              "4   2.020021e+07  11.923865    101.0  114.440886\n",
              "5   2.020022e+07  11.463546    101.0  114.764006\n",
              "6   2.020022e+07  12.400000    101.0  115.002099"
            ]
          },
          "metadata": {
            "tags": []
          },
          "execution_count": 31
        }
      ]
    }
  ]
}