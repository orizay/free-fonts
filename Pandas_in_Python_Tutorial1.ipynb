{
  "nbformat": 4,
  "nbformat_minor": 0,
  "metadata": {
    "colab": {
      "name": "Pandas in Python:Tutorial1.ipynb",
      "provenance": [],
      "authorship_tag": "ABX9TyPVq4Y0B+VxKvE3ZzPpRzaT",
      "include_colab_link": true
    },
    "kernelspec": {
      "name": "python3",
      "display_name": "Python 3"
    }
  },
  "cells": [
    {
      "cell_type": "markdown",
      "metadata": {
        "id": "view-in-github",
        "colab_type": "text"
      },
      "source": [
        "<a href=\"https://colab.research.google.com/github/orizay/free-fonts/blob/master/Pandas_in_Python_Tutorial1.ipynb\" target=\"_parent\"><img src=\"https://colab.research.google.com/assets/colab-badge.svg\" alt=\"Open In Colab\"/></a>"
      ]
    },
    {
      "cell_type": "markdown",
      "metadata": {
        "id": "f93e2a-vuHAu",
        "colab_type": "text"
      },
      "source": [
        "# Introducing Pandas Library\n",
        "\n",
        "\n",
        "- Why Pandas ? It is library that provides fast data cleaning,preparation,and analysis & is easy to Use for data visualization & machine learning.\n",
        "- What is Pandas ? It is Built on top of Numpy,Which makes it easy to work with arrays & Matrices(Called Series & DataFrames in Pandas)."
      ]
    },
    {
      "cell_type": "markdown",
      "metadata": {
        "id": "aEAG4VsevN6Q",
        "colab_type": "text"
      },
      "source": [
        "# Indexing in Pandas\n",
        "\n",
        "\n",
        "- An index is a list of integers or labels you use to uniquely identify rows or columns.\n",
        "- This course Uses\n",
        "  - A Set of Square brackets[....]\n",
        "  - Special Field .ix**(.loc)**Indexer"
      ]
    },
    {
      "cell_type": "markdown",
      "metadata": {
        "id": "TavJMkX8v4AY",
        "colab_type": "text"
      },
      "source": [
        "# **DataFrame object**\n",
        "![대체 텍스트](https://www.dataquest.io/wp-content/uploads/2019/01/df_blocks.png)\n",
        "\n",
        "\n",
        "## Comparison Operators in Python\n",
        "![대체 텍스트](https://www.engineeringbigdata.com/wp-content/uploads/python-comparison-operators.jpg)"
      ]
    },
    {
      "cell_type": "markdown",
      "metadata": {
        "id": "RqiFbyvIwpr6",
        "colab_type": "text"
      },
      "source": [
        "# Code Demonstration\n",
        "\n",
        "\n",
        "- Plain indexing\n",
        "- Data Slicing\n",
        "- Arithmetic Comparisons"
      ]
    },
    {
      "cell_type": "markdown",
      "metadata": {
        "id": "_H7Vcjo_xVUU",
        "colab_type": "text"
      },
      "source": [
        "# **Basics of Data Munging**\n",
        "\n",
        "### Filtering and selecting data"
      ]
    },
    {
      "cell_type": "code",
      "metadata": {
        "id": "gTQxXfuWxlMP",
        "colab_type": "code",
        "colab": {}
      },
      "source": [
        "import numpy as np\n",
        "import pandas as pd\n",
        "\n",
        "from pandas import Series,DataFrame"
      ],
      "execution_count": 2,
      "outputs": []
    },
    {
      "cell_type": "markdown",
      "metadata": {
        "id": "jL4vbjsTxqqY",
        "colab_type": "text"
      },
      "source": [
        "# **Selecting and retrieving data**"
      ]
    },
    {
      "cell_type": "code",
      "metadata": {
        "id": "Ud6pw68NyDgJ",
        "colab_type": "code",
        "colab": {
          "base_uri": "https://localhost:8080/",
          "height": 170
        },
        "outputId": "b04d3fdc-c2dc-4e04-d74e-f76ec6319a86"
      },
      "source": [
        "series_obj = Series(np.arange(8),index=['row 1','row 2','row 3','row 4','row 5','row 6','row 7','row 8'])\n",
        "series_obj"
      ],
      "execution_count": 3,
      "outputs": [
        {
          "output_type": "execute_result",
          "data": {
            "text/plain": [
              "row 1    0\n",
              "row 2    1\n",
              "row 3    2\n",
              "row 4    3\n",
              "row 5    4\n",
              "row 6    5\n",
              "row 7    6\n",
              "row 8    7\n",
              "dtype: int64"
            ]
          },
          "metadata": {
            "tags": []
          },
          "execution_count": 3
        }
      ]
    },
    {
      "cell_type": "code",
      "metadata": {
        "id": "67o2PwhOyyBg",
        "colab_type": "code",
        "colab": {
          "base_uri": "https://localhost:8080/",
          "height": 34
        },
        "outputId": "674cff22-b2a9-456f-ad4d-369017f12e6c"
      },
      "source": [
        "series_obj['row 7']"
      ],
      "execution_count": 4,
      "outputs": [
        {
          "output_type": "execute_result",
          "data": {
            "text/plain": [
              "6"
            ]
          },
          "metadata": {
            "tags": []
          },
          "execution_count": 4
        }
      ]
    },
    {
      "cell_type": "code",
      "metadata": {
        "id": "8C4GMI2WzBYW",
        "colab_type": "code",
        "colab": {
          "base_uri": "https://localhost:8080/",
          "height": 68
        },
        "outputId": "e26da2ce-57fa-4b46-f546-b3cdb391d3ff"
      },
      "source": [
        "series_obj[[0,7]]"
      ],
      "execution_count": 5,
      "outputs": [
        {
          "output_type": "execute_result",
          "data": {
            "text/plain": [
              "row 1    0\n",
              "row 8    7\n",
              "dtype: int64"
            ]
          },
          "metadata": {
            "tags": []
          },
          "execution_count": 5
        }
      ]
    },
    {
      "cell_type": "code",
      "metadata": {
        "id": "xlgEbQyPzThM",
        "colab_type": "code",
        "colab": {
          "base_uri": "https://localhost:8080/",
          "height": 235
        },
        "outputId": "e682d880-4cf0-43a3-e29e-db082788db75"
      },
      "source": [
        "np.random.seed(25)\n",
        "DF_obj = DataFrame(np.random.rand(36).reshape((6,6)),index=['row 1','row 2','row 3','row 4','row 5','row 6'],\n",
        "         columns = ['column 1','column 2','column 3','column 4','column 5','column 6'])\n",
        "\n",
        "DF_obj"
      ],
      "execution_count": 16,
      "outputs": [
        {
          "output_type": "execute_result",
          "data": {
            "text/html": [
              "<div>\n",
              "<style scoped>\n",
              "    .dataframe tbody tr th:only-of-type {\n",
              "        vertical-align: middle;\n",
              "    }\n",
              "\n",
              "    .dataframe tbody tr th {\n",
              "        vertical-align: top;\n",
              "    }\n",
              "\n",
              "    .dataframe thead th {\n",
              "        text-align: right;\n",
              "    }\n",
              "</style>\n",
              "<table border=\"1\" class=\"dataframe\">\n",
              "  <thead>\n",
              "    <tr style=\"text-align: right;\">\n",
              "      <th></th>\n",
              "      <th>column 1</th>\n",
              "      <th>column 2</th>\n",
              "      <th>column 3</th>\n",
              "      <th>column 4</th>\n",
              "      <th>column 5</th>\n",
              "      <th>column 6</th>\n",
              "    </tr>\n",
              "  </thead>\n",
              "  <tbody>\n",
              "    <tr>\n",
              "      <th>row 1</th>\n",
              "      <td>0.870124</td>\n",
              "      <td>0.582277</td>\n",
              "      <td>0.278839</td>\n",
              "      <td>0.185911</td>\n",
              "      <td>0.411100</td>\n",
              "      <td>0.117376</td>\n",
              "    </tr>\n",
              "    <tr>\n",
              "      <th>row 2</th>\n",
              "      <td>0.684969</td>\n",
              "      <td>0.437611</td>\n",
              "      <td>0.556229</td>\n",
              "      <td>0.367080</td>\n",
              "      <td>0.402366</td>\n",
              "      <td>0.113041</td>\n",
              "    </tr>\n",
              "    <tr>\n",
              "      <th>row 3</th>\n",
              "      <td>0.447031</td>\n",
              "      <td>0.585445</td>\n",
              "      <td>0.161985</td>\n",
              "      <td>0.520719</td>\n",
              "      <td>0.326051</td>\n",
              "      <td>0.699186</td>\n",
              "    </tr>\n",
              "    <tr>\n",
              "      <th>row 4</th>\n",
              "      <td>0.366395</td>\n",
              "      <td>0.836375</td>\n",
              "      <td>0.481343</td>\n",
              "      <td>0.516502</td>\n",
              "      <td>0.383048</td>\n",
              "      <td>0.997541</td>\n",
              "    </tr>\n",
              "    <tr>\n",
              "      <th>row 5</th>\n",
              "      <td>0.514244</td>\n",
              "      <td>0.559053</td>\n",
              "      <td>0.034450</td>\n",
              "      <td>0.719930</td>\n",
              "      <td>0.421004</td>\n",
              "      <td>0.436935</td>\n",
              "    </tr>\n",
              "    <tr>\n",
              "      <th>row 6</th>\n",
              "      <td>0.281701</td>\n",
              "      <td>0.900274</td>\n",
              "      <td>0.669612</td>\n",
              "      <td>0.456069</td>\n",
              "      <td>0.289804</td>\n",
              "      <td>0.525819</td>\n",
              "    </tr>\n",
              "  </tbody>\n",
              "</table>\n",
              "</div>"
            ],
            "text/plain": [
              "       column 1  column 2  column 3  column 4  column 5  column 6\n",
              "row 1  0.870124  0.582277  0.278839  0.185911  0.411100  0.117376\n",
              "row 2  0.684969  0.437611  0.556229  0.367080  0.402366  0.113041\n",
              "row 3  0.447031  0.585445  0.161985  0.520719  0.326051  0.699186\n",
              "row 4  0.366395  0.836375  0.481343  0.516502  0.383048  0.997541\n",
              "row 5  0.514244  0.559053  0.034450  0.719930  0.421004  0.436935\n",
              "row 6  0.281701  0.900274  0.669612  0.456069  0.289804  0.525819"
            ]
          },
          "metadata": {
            "tags": []
          },
          "execution_count": 16
        }
      ]
    },
    {
      "cell_type": "code",
      "metadata": {
        "id": "bLJq8VfS0vig",
        "colab_type": "code",
        "colab": {
          "base_uri": "https://localhost:8080/",
          "height": 111
        },
        "outputId": "66811833-0202-4e34-b4a7-7122ac4ffec2"
      },
      "source": [
        "DF_obj.loc[['row 2','row 2'],['column 5','column 2']]"
      ],
      "execution_count": 17,
      "outputs": [
        {
          "output_type": "execute_result",
          "data": {
            "text/html": [
              "<div>\n",
              "<style scoped>\n",
              "    .dataframe tbody tr th:only-of-type {\n",
              "        vertical-align: middle;\n",
              "    }\n",
              "\n",
              "    .dataframe tbody tr th {\n",
              "        vertical-align: top;\n",
              "    }\n",
              "\n",
              "    .dataframe thead th {\n",
              "        text-align: right;\n",
              "    }\n",
              "</style>\n",
              "<table border=\"1\" class=\"dataframe\">\n",
              "  <thead>\n",
              "    <tr style=\"text-align: right;\">\n",
              "      <th></th>\n",
              "      <th>column 5</th>\n",
              "      <th>column 2</th>\n",
              "    </tr>\n",
              "  </thead>\n",
              "  <tbody>\n",
              "    <tr>\n",
              "      <th>row 2</th>\n",
              "      <td>0.402366</td>\n",
              "      <td>0.437611</td>\n",
              "    </tr>\n",
              "    <tr>\n",
              "      <th>row 2</th>\n",
              "      <td>0.402366</td>\n",
              "      <td>0.437611</td>\n",
              "    </tr>\n",
              "  </tbody>\n",
              "</table>\n",
              "</div>"
            ],
            "text/plain": [
              "       column 5  column 2\n",
              "row 2  0.402366  0.437611\n",
              "row 2  0.402366  0.437611"
            ]
          },
          "metadata": {
            "tags": []
          },
          "execution_count": 17
        }
      ]
    },
    {
      "cell_type": "markdown",
      "metadata": {
        "id": "prh-7N2b2OVw",
        "colab_type": "text"
      },
      "source": [
        "# **Data Slicing**"
      ]
    },
    {
      "cell_type": "code",
      "metadata": {
        "id": "oh-Ih7aI8rk5",
        "colab_type": "code",
        "colab": {
          "base_uri": "https://localhost:8080/",
          "height": 119
        },
        "outputId": "1dbf6b9d-66f8-49c4-c52d-72a1161b88ce"
      },
      "source": [
        "series_obj['row 3':'row 7']"
      ],
      "execution_count": 18,
      "outputs": [
        {
          "output_type": "execute_result",
          "data": {
            "text/plain": [
              "row 3    2\n",
              "row 4    3\n",
              "row 5    4\n",
              "row 6    5\n",
              "row 7    6\n",
              "dtype: int64"
            ]
          },
          "metadata": {
            "tags": []
          },
          "execution_count": 18
        }
      ]
    },
    {
      "cell_type": "markdown",
      "metadata": {
        "id": "VW6GoNdu88ib",
        "colab_type": "text"
      },
      "source": [
        "# **Comparing with scalars**"
      ]
    },
    {
      "cell_type": "code",
      "metadata": {
        "id": "iTT5Bsot9QJQ",
        "colab_type": "code",
        "colab": {
          "base_uri": "https://localhost:8080/",
          "height": 235
        },
        "outputId": "164769ba-2d11-416f-ae71-ea6f89740a2c"
      },
      "source": [
        "DF_obj < .2"
      ],
      "execution_count": 19,
      "outputs": [
        {
          "output_type": "execute_result",
          "data": {
            "text/html": [
              "<div>\n",
              "<style scoped>\n",
              "    .dataframe tbody tr th:only-of-type {\n",
              "        vertical-align: middle;\n",
              "    }\n",
              "\n",
              "    .dataframe tbody tr th {\n",
              "        vertical-align: top;\n",
              "    }\n",
              "\n",
              "    .dataframe thead th {\n",
              "        text-align: right;\n",
              "    }\n",
              "</style>\n",
              "<table border=\"1\" class=\"dataframe\">\n",
              "  <thead>\n",
              "    <tr style=\"text-align: right;\">\n",
              "      <th></th>\n",
              "      <th>column 1</th>\n",
              "      <th>column 2</th>\n",
              "      <th>column 3</th>\n",
              "      <th>column 4</th>\n",
              "      <th>column 5</th>\n",
              "      <th>column 6</th>\n",
              "    </tr>\n",
              "  </thead>\n",
              "  <tbody>\n",
              "    <tr>\n",
              "      <th>row 1</th>\n",
              "      <td>False</td>\n",
              "      <td>False</td>\n",
              "      <td>False</td>\n",
              "      <td>True</td>\n",
              "      <td>False</td>\n",
              "      <td>True</td>\n",
              "    </tr>\n",
              "    <tr>\n",
              "      <th>row 2</th>\n",
              "      <td>False</td>\n",
              "      <td>False</td>\n",
              "      <td>False</td>\n",
              "      <td>False</td>\n",
              "      <td>False</td>\n",
              "      <td>True</td>\n",
              "    </tr>\n",
              "    <tr>\n",
              "      <th>row 3</th>\n",
              "      <td>False</td>\n",
              "      <td>False</td>\n",
              "      <td>True</td>\n",
              "      <td>False</td>\n",
              "      <td>False</td>\n",
              "      <td>False</td>\n",
              "    </tr>\n",
              "    <tr>\n",
              "      <th>row 4</th>\n",
              "      <td>False</td>\n",
              "      <td>False</td>\n",
              "      <td>False</td>\n",
              "      <td>False</td>\n",
              "      <td>False</td>\n",
              "      <td>False</td>\n",
              "    </tr>\n",
              "    <tr>\n",
              "      <th>row 5</th>\n",
              "      <td>False</td>\n",
              "      <td>False</td>\n",
              "      <td>True</td>\n",
              "      <td>False</td>\n",
              "      <td>False</td>\n",
              "      <td>False</td>\n",
              "    </tr>\n",
              "    <tr>\n",
              "      <th>row 6</th>\n",
              "      <td>False</td>\n",
              "      <td>False</td>\n",
              "      <td>False</td>\n",
              "      <td>False</td>\n",
              "      <td>False</td>\n",
              "      <td>False</td>\n",
              "    </tr>\n",
              "  </tbody>\n",
              "</table>\n",
              "</div>"
            ],
            "text/plain": [
              "       column 1  column 2  column 3  column 4  column 5  column 6\n",
              "row 1     False     False     False      True     False      True\n",
              "row 2     False     False     False     False     False      True\n",
              "row 3     False     False      True     False     False     False\n",
              "row 4     False     False     False     False     False     False\n",
              "row 5     False     False      True     False     False     False\n",
              "row 6     False     False     False     False     False     False"
            ]
          },
          "metadata": {
            "tags": []
          },
          "execution_count": 19
        }
      ]
    },
    {
      "cell_type": "markdown",
      "metadata": {
        "id": "dSiETTjc9WBN",
        "colab_type": "text"
      },
      "source": [
        "# **Filtering with scalars**"
      ]
    },
    {
      "cell_type": "code",
      "metadata": {
        "id": "JjrS8iLp9mAM",
        "colab_type": "code",
        "colab": {
          "base_uri": "https://localhost:8080/",
          "height": 51
        },
        "outputId": "829cfe28-febf-4a66-b539-2bdd5367f267"
      },
      "source": [
        "series_obj[series_obj > 6]"
      ],
      "execution_count": 20,
      "outputs": [
        {
          "output_type": "execute_result",
          "data": {
            "text/plain": [
              "row 8    7\n",
              "dtype: int64"
            ]
          },
          "metadata": {
            "tags": []
          },
          "execution_count": 20
        }
      ]
    },
    {
      "cell_type": "markdown",
      "metadata": {
        "id": "NgyApDRw91FW",
        "colab_type": "text"
      },
      "source": [
        "# **Setting valuse with scalars**"
      ]
    },
    {
      "cell_type": "code",
      "metadata": {
        "id": "XLcoFyNE-CZg",
        "colab_type": "code",
        "colab": {
          "base_uri": "https://localhost:8080/",
          "height": 170
        },
        "outputId": "78ff7840-fe2b-4a67-a9f6-ae1545f7c5cd"
      },
      "source": [
        "series_obj['row 1','row 5','row 8'] = 8\n",
        "series_obj"
      ],
      "execution_count": 22,
      "outputs": [
        {
          "output_type": "execute_result",
          "data": {
            "text/plain": [
              "row 1    8\n",
              "row 2    1\n",
              "row 3    2\n",
              "row 4    3\n",
              "row 5    8\n",
              "row 6    5\n",
              "row 7    6\n",
              "row 8    8\n",
              "dtype: int64"
            ]
          },
          "metadata": {
            "tags": []
          },
          "execution_count": 22
        }
      ]
    }
  ]
}