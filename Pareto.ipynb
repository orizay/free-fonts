{
  "nbformat": 4,
  "nbformat_minor": 0,
  "metadata": {
    "colab": {
      "name": "Pareto.ipynb",
      "provenance": [],
      "authorship_tag": "ABX9TyPMRjbYGZdESY0kUGXl0onn",
      "include_colab_link": true
    },
    "kernelspec": {
      "name": "python3",
      "display_name": "Python 3"
    },
    "language_info": {
      "name": "python"
    }
  },
  "cells": [
    {
      "cell_type": "markdown",
      "metadata": {
        "id": "view-in-github",
        "colab_type": "text"
      },
      "source": [
        "<a href=\"https://colab.research.google.com/github/orizay/free-fonts/blob/master/Pareto.ipynb\" target=\"_parent\"><img src=\"https://colab.research.google.com/assets/colab-badge.svg\" alt=\"Open In Colab\"/></a>"
      ]
    },
    {
      "cell_type": "markdown",
      "metadata": {
        "id": "1msHMGHFGCBR"
      },
      "source": [
        "# Mount Drive"
      ]
    },
    {
      "cell_type": "code",
      "metadata": {
        "colab": {
          "base_uri": "https://localhost:8080/"
        },
        "id": "0ABL6eh0F7J8",
        "outputId": "172fa445-2432-4d1a-9169-09b52c2456f2"
      },
      "source": [
        "from google.colab import drive\n",
        "drive.mount('/MyData',force_remount=True)"
      ],
      "execution_count": 1,
      "outputs": [
        {
          "output_type": "stream",
          "text": [
            "Mounted at /MyData\n"
          ],
          "name": "stdout"
        }
      ]
    },
    {
      "cell_type": "code",
      "metadata": {
        "colab": {
          "base_uri": "https://localhost:8080/"
        },
        "id": "S9deEMYpGZka",
        "outputId": "a9e38310-2beb-4a78-d32e-c3c610f1c9d1"
      },
      "source": [
        "!ls -al '/MyData/MyDrive/MyData'"
      ],
      "execution_count": 2,
      "outputs": [
        {
          "output_type": "stream",
          "text": [
            "total 9350784\n",
            "-rw------- 1 root root    143130 Jul  3  2020  abalone_original.csv\n",
            "-rw------- 1 root root      4756 Jul  7  2020  Advertising.csv\n",
            "drwx------ 2 root root      4096 Aug  1  2020  All-CSV-ML-Data-Files-Download-master\n",
            "-rw------- 1 root root       728 Jul 22  2020  enrollment_forecast.csv\n",
            "-rw------- 1 root root      1729 Jul 23  2020  mtcars.csv\n",
            "-rw------- 1 root root   1770221 Jul 31  2020  Superstore-Sales.csv\n",
            "-rw------- 1 root root 783889122 Apr 27 01:41  TCS_영업소간통행시간_1시간_1개월_202001\n",
            "-rw------- 1 root root 699429059 Apr 27 01:42  TCS_영업소간통행시간_1시간_1개월_202002\n",
            "-rw------- 1 root root 738556069 Apr 27 01:41  TCS_영업소간통행시간_1시간_1개월_202003\n",
            "-rw------- 1 root root 765531937 May 12 23:59  TCS_영업소간통행시간_1시간_1개월_202004\n",
            "-rw------- 1 root root 824393600 May 13 00:02  TCS_영업소간통행시간_1시간_1개월_202005\n",
            "-rw------- 1 root root 819232732 May 13 00:02  TCS_영업소간통행시간_1시간_1개월_202006\n",
            "-rw------- 1 root root 830033530 May 13 00:01  TCS_영업소간통행시간_1시간_1개월_202007\n",
            "-rw------- 1 root root 826425779 May 13 00:01  TCS_영업소간통행시간_1시간_1개월_202008\n",
            "-rw------- 1 root root 811907343 May 13 00:01  TCS_영업소간통행시간_1시간_1개월_202009\n",
            "-rw------- 1 root root 825927535 May 13 00:01  TCS_영업소간통행시간_1시간_1개월_202010\n",
            "-rw------- 1 root root 830332165 May 13 00:02  TCS_영업소간통행시간_1시간_1개월_202011\n",
            "-rw------- 1 root root 815733096 May 13 00:02  TCS_영업소간통행시간_1시간_1개월_202012\n",
            "-rw------- 1 root root    337847 May 11 01:28  TCS_202001.csv\n",
            "-rw------- 1 root root    314682 May 11 01:41  TCS_202002.csv\n",
            "-rw------- 1 root root    335953 May 11 01:49  TCS_202003.csv\n",
            "-rw------- 1 root root    807644 May 11 02:08  TCS_2020.csv\n",
            "-rw------- 1 root root     84199 Jul  4  2020 'winequality-red .csv'\n"
          ],
          "name": "stdout"
        }
      ]
    },
    {
      "cell_type": "markdown",
      "metadata": {
        "id": "3iEjZgr-Hd6k"
      },
      "source": [
        "# 2.Korean Characters"
      ]
    },
    {
      "cell_type": "code",
      "metadata": {
        "colab": {
          "base_uri": "https://localhost:8080/"
        },
        "id": "qUA_dxmXHTai",
        "outputId": "3463e140-0dc8-4c49-edcb-8a00271c0523"
      },
      "source": [
        "!sudo apt-get install -y fonts-nanum\n",
        "!sudo fc-cache -fv\n",
        "!rm ~/.cache/matplotlib -rf"
      ],
      "execution_count": 3,
      "outputs": [
        {
          "output_type": "stream",
          "text": [
            "Reading package lists... Done\n",
            "Building dependency tree       \n",
            "Reading state information... Done\n",
            "fonts-nanum is already the newest version (20170925-1).\n",
            "The following package was automatically installed and is no longer required:\n",
            "  libnvidia-common-460\n",
            "Use 'sudo apt autoremove' to remove it.\n",
            "0 upgraded, 0 newly installed, 0 to remove and 34 not upgraded.\n",
            "/usr/share/fonts: caching, new cache contents: 0 fonts, 1 dirs\n",
            "/usr/share/fonts/truetype: caching, new cache contents: 0 fonts, 3 dirs\n",
            "/usr/share/fonts/truetype/humor-sans: caching, new cache contents: 1 fonts, 0 dirs\n",
            "/usr/share/fonts/truetype/liberation: caching, new cache contents: 16 fonts, 0 dirs\n",
            "/usr/share/fonts/truetype/nanum: caching, new cache contents: 10 fonts, 0 dirs\n",
            "/usr/local/share/fonts: caching, new cache contents: 0 fonts, 0 dirs\n",
            "/root/.local/share/fonts: skipping, no such directory\n",
            "/root/.fonts: skipping, no such directory\n",
            "/var/cache/fontconfig: cleaning cache directory\n",
            "/root/.cache/fontconfig: not cleaning non-existent cache directory\n",
            "/root/.fontconfig: not cleaning non-existent cache directory\n",
            "fc-cache: succeeded\n"
          ],
          "name": "stdout"
        }
      ]
    },
    {
      "cell_type": "markdown",
      "metadata": {
        "id": "SlCiF0CXIBbr"
      },
      "source": [
        "## 런타임 -- 런타임 다시 시작\n",
        "```matplotlib의 폰트를 Nanum 폰트로 지정```"
      ]
    },
    {
      "cell_type": "code",
      "metadata": {
        "id": "robDMl9iH5OI"
      },
      "source": [
        "# Import pyplot as alias 'plt'\n",
        "import matplotlib.pyplot as plt\n",
        "import pandas as pd\n",
        "import numpy as np\n",
        "import seaborn as sns\n",
        "\n",
        "%matplotlib inline"
      ],
      "execution_count": 23,
      "outputs": []
    },
    {
      "cell_type": "code",
      "metadata": {
        "id": "qusBfFsxIqwf"
      },
      "source": [
        "plt.rc('font',family= 'NanumBarunGothic')"
      ],
      "execution_count": 5,
      "outputs": []
    },
    {
      "cell_type": "markdown",
      "metadata": {
        "id": "46obQkFPJEmT"
      },
      "source": [
        "# 3.Load Data"
      ]
    },
    {
      "cell_type": "code",
      "metadata": {
        "id": "qX1JAOKCI_YM"
      },
      "source": [
        "file = '/MyData/MyDrive/MyData/TCS_2020.csv'\n",
        "data = pd.read_csv(file)"
      ],
      "execution_count": 6,
      "outputs": []
    },
    {
      "cell_type": "code",
      "metadata": {
        "colab": {
          "base_uri": "https://localhost:8080/",
          "height": 206
        },
        "id": "3tHRo1FMKGxw",
        "outputId": "efc96b8d-9b82-429a-c9d0-708852d65b3b"
      },
      "source": [
        "data.head()"
      ],
      "execution_count": 7,
      "outputs": [
        {
          "output_type": "execute_result",
          "data": {
            "text/html": [
              "<div>\n",
              "<style scoped>\n",
              "    .dataframe tbody tr th:only-of-type {\n",
              "        vertical-align: middle;\n",
              "    }\n",
              "\n",
              "    .dataframe tbody tr th {\n",
              "        vertical-align: top;\n",
              "    }\n",
              "\n",
              "    .dataframe thead th {\n",
              "        text-align: right;\n",
              "    }\n",
              "</style>\n",
              "<table border=\"1\" class=\"dataframe\">\n",
              "  <thead>\n",
              "    <tr style=\"text-align: right;\">\n",
              "      <th></th>\n",
              "      <th>집계일자</th>\n",
              "      <th>집계시</th>\n",
              "      <th>출발영업소코드</th>\n",
              "      <th>도착영업소코드</th>\n",
              "      <th>요일</th>\n",
              "    </tr>\n",
              "  </thead>\n",
              "  <tbody>\n",
              "    <tr>\n",
              "      <th>0</th>\n",
              "      <td>20200101</td>\n",
              "      <td>4</td>\n",
              "      <td>101</td>\n",
              "      <td>105</td>\n",
              "      <td>2</td>\n",
              "    </tr>\n",
              "    <tr>\n",
              "      <th>1</th>\n",
              "      <td>20200101</td>\n",
              "      <td>4</td>\n",
              "      <td>101</td>\n",
              "      <td>105</td>\n",
              "      <td>2</td>\n",
              "    </tr>\n",
              "    <tr>\n",
              "      <th>2</th>\n",
              "      <td>20200101</td>\n",
              "      <td>4</td>\n",
              "      <td>101</td>\n",
              "      <td>105</td>\n",
              "      <td>2</td>\n",
              "    </tr>\n",
              "    <tr>\n",
              "      <th>3</th>\n",
              "      <td>20200101</td>\n",
              "      <td>4</td>\n",
              "      <td>101</td>\n",
              "      <td>105</td>\n",
              "      <td>2</td>\n",
              "    </tr>\n",
              "    <tr>\n",
              "      <th>4</th>\n",
              "      <td>20200101</td>\n",
              "      <td>4</td>\n",
              "      <td>101</td>\n",
              "      <td>105</td>\n",
              "      <td>2</td>\n",
              "    </tr>\n",
              "  </tbody>\n",
              "</table>\n",
              "</div>"
            ],
            "text/plain": [
              "       집계일자  집계시  출발영업소코드  도착영업소코드  요일\n",
              "0  20200101    4      101      105   2\n",
              "1  20200101    4      101      105   2\n",
              "2  20200101    4      101      105   2\n",
              "3  20200101    4      101      105   2\n",
              "4  20200101    4      101      105   2"
            ]
          },
          "metadata": {
            "tags": []
          },
          "execution_count": 7
        }
      ]
    },
    {
      "cell_type": "code",
      "metadata": {
        "colab": {
          "base_uri": "https://localhost:8080/"
        },
        "id": "3_tYFzF8KI5e",
        "outputId": "73738cf2-fb72-4993-ce84-0cc15c620f7e"
      },
      "source": [
        "data.info()"
      ],
      "execution_count": 8,
      "outputs": [
        {
          "output_type": "stream",
          "text": [
            "<class 'pandas.core.frame.DataFrame'>\n",
            "RangeIndex: 37356 entries, 0 to 37355\n",
            "Data columns (total 5 columns):\n",
            " #   Column   Non-Null Count  Dtype\n",
            "---  ------   --------------  -----\n",
            " 0   집계일자     37356 non-null  int64\n",
            " 1   집계시      37356 non-null  int64\n",
            " 2   출발영업소코드  37356 non-null  int64\n",
            " 3   도착영업소코드  37356 non-null  int64\n",
            " 4   요일       37356 non-null  int64\n",
            "dtypes: int64(5)\n",
            "memory usage: 1.4 MB\n"
          ],
          "name": "stdout"
        }
      ]
    },
    {
      "cell_type": "markdown",
      "metadata": {
        "id": "cpo4gF7FKvqP"
      },
      "source": [
        "#  4.집계시\n"
      ]
    },
    {
      "cell_type": "code",
      "metadata": {
        "id": "p9-5K2CVKcQp"
      },
      "source": [
        "data_06_22 = data[data.집계시.isin(range(6,23))]"
      ],
      "execution_count": 9,
      "outputs": []
    },
    {
      "cell_type": "code",
      "metadata": {
        "colab": {
          "base_uri": "https://localhost:8080/",
          "height": 424
        },
        "id": "-YFHyS7FLKqB",
        "outputId": "52364e50-8160-4e46-f7b2-4f44e209030e"
      },
      "source": [
        "# Create data_6_22 Dataframe with counting by 집계시\n",
        "data_06_22.sort_values(by='집계시')"
      ],
      "execution_count": 10,
      "outputs": [
        {
          "output_type": "execute_result",
          "data": {
            "text/html": [
              "<div>\n",
              "<style scoped>\n",
              "    .dataframe tbody tr th:only-of-type {\n",
              "        vertical-align: middle;\n",
              "    }\n",
              "\n",
              "    .dataframe tbody tr th {\n",
              "        vertical-align: top;\n",
              "    }\n",
              "\n",
              "    .dataframe thead th {\n",
              "        text-align: right;\n",
              "    }\n",
              "</style>\n",
              "<table border=\"1\" class=\"dataframe\">\n",
              "  <thead>\n",
              "    <tr style=\"text-align: right;\">\n",
              "      <th></th>\n",
              "      <th>집계일자</th>\n",
              "      <th>집계시</th>\n",
              "      <th>출발영업소코드</th>\n",
              "      <th>도착영업소코드</th>\n",
              "      <th>요일</th>\n",
              "    </tr>\n",
              "  </thead>\n",
              "  <tbody>\n",
              "    <tr>\n",
              "      <th>25164</th>\n",
              "      <td>20200302</td>\n",
              "      <td>6</td>\n",
              "      <td>101</td>\n",
              "      <td>110</td>\n",
              "      <td>0</td>\n",
              "    </tr>\n",
              "    <tr>\n",
              "      <th>22064</th>\n",
              "      <td>20200213</td>\n",
              "      <td>6</td>\n",
              "      <td>101</td>\n",
              "      <td>130</td>\n",
              "      <td>3</td>\n",
              "    </tr>\n",
              "    <tr>\n",
              "      <th>12199</th>\n",
              "      <td>20200130</td>\n",
              "      <td>6</td>\n",
              "      <td>101</td>\n",
              "      <td>115</td>\n",
              "      <td>3</td>\n",
              "    </tr>\n",
              "    <tr>\n",
              "      <th>6518</th>\n",
              "      <td>20200117</td>\n",
              "      <td>6</td>\n",
              "      <td>101</td>\n",
              "      <td>105</td>\n",
              "      <td>4</td>\n",
              "    </tr>\n",
              "    <tr>\n",
              "      <th>28006</th>\n",
              "      <td>20200309</td>\n",
              "      <td>6</td>\n",
              "      <td>101</td>\n",
              "      <td>115</td>\n",
              "      <td>0</td>\n",
              "    </tr>\n",
              "    <tr>\n",
              "      <th>...</th>\n",
              "      <td>...</td>\n",
              "      <td>...</td>\n",
              "      <td>...</td>\n",
              "      <td>...</td>\n",
              "      <td>...</td>\n",
              "    </tr>\n",
              "    <tr>\n",
              "      <th>15006</th>\n",
              "      <td>20200207</td>\n",
              "      <td>22</td>\n",
              "      <td>101</td>\n",
              "      <td>105</td>\n",
              "      <td>4</td>\n",
              "    </tr>\n",
              "    <tr>\n",
              "      <th>16139</th>\n",
              "      <td>20200209</td>\n",
              "      <td>22</td>\n",
              "      <td>101</td>\n",
              "      <td>130</td>\n",
              "      <td>6</td>\n",
              "    </tr>\n",
              "    <tr>\n",
              "      <th>28346</th>\n",
              "      <td>20200310</td>\n",
              "      <td>22</td>\n",
              "      <td>101</td>\n",
              "      <td>115</td>\n",
              "      <td>1</td>\n",
              "    </tr>\n",
              "    <tr>\n",
              "      <th>16141</th>\n",
              "      <td>20200209</td>\n",
              "      <td>22</td>\n",
              "      <td>101</td>\n",
              "      <td>130</td>\n",
              "      <td>6</td>\n",
              "    </tr>\n",
              "    <tr>\n",
              "      <th>21183</th>\n",
              "      <td>20200221</td>\n",
              "      <td>22</td>\n",
              "      <td>101</td>\n",
              "      <td>115</td>\n",
              "      <td>4</td>\n",
              "    </tr>\n",
              "  </tbody>\n",
              "</table>\n",
              "<p>28304 rows × 5 columns</p>\n",
              "</div>"
            ],
            "text/plain": [
              "           집계일자  집계시  출발영업소코드  도착영업소코드  요일\n",
              "25164  20200302    6      101      110   0\n",
              "22064  20200213    6      101      130   3\n",
              "12199  20200130    6      101      115   3\n",
              "6518   20200117    6      101      105   4\n",
              "28006  20200309    6      101      115   0\n",
              "...         ...  ...      ...      ...  ..\n",
              "15006  20200207   22      101      105   4\n",
              "16139  20200209   22      101      130   6\n",
              "28346  20200310   22      101      115   1\n",
              "16141  20200209   22      101      130   6\n",
              "21183  20200221   22      101      115   4\n",
              "\n",
              "[28304 rows x 5 columns]"
            ]
          },
          "metadata": {
            "tags": []
          },
          "execution_count": 10
        }
      ]
    },
    {
      "cell_type": "code",
      "metadata": {
        "id": "wINcPUGwTOdV"
      },
      "source": [
        "# Store index of data_06_22_counting into x\n",
        "data_06_22_counting = data_06_22['집계시'].value_counts()"
      ],
      "execution_count": 11,
      "outputs": []
    },
    {
      "cell_type": "code",
      "metadata": {
        "colab": {
          "base_uri": "https://localhost:8080/"
        },
        "id": "eJIg_sr1Tt1a",
        "outputId": "0bc19065-d04b-4a01-b7ac-fb67e230c5f3"
      },
      "source": [
        "data_06_22_counting"
      ],
      "execution_count": 12,
      "outputs": [
        {
          "output_type": "execute_result",
          "data": {
            "text/plain": [
              "14    1766\n",
              "12    1758\n",
              "15    1755\n",
              "13    1754\n",
              "11    1744\n",
              "10    1725\n",
              "16    1724\n",
              "17    1719\n",
              "9     1703\n",
              "18    1666\n",
              "8     1662\n",
              "19    1628\n",
              "20    1611\n",
              "7     1585\n",
              "21    1559\n",
              "22    1505\n",
              "6     1440\n",
              "Name: 집계시, dtype: int64"
            ]
          },
          "metadata": {
            "tags": []
          },
          "execution_count": 12
        }
      ]
    },
    {
      "cell_type": "code",
      "metadata": {
        "id": "Bj83FU_WU0Bk"
      },
      "source": [
        "# Store index of data_06_22_counting into x\n",
        "x = data_06_22_counting.index"
      ],
      "execution_count": 13,
      "outputs": []
    },
    {
      "cell_type": "code",
      "metadata": {
        "id": "8ZhsrRmwU9Yw"
      },
      "source": [
        "# Conver x values to String in order to avoid int sorting\n",
        "x = [str(i) for i in x]"
      ],
      "execution_count": 14,
      "outputs": []
    },
    {
      "cell_type": "code",
      "metadata": {
        "colab": {
          "base_uri": "https://localhost:8080/"
        },
        "id": "2by5r0NSVNSC",
        "outputId": "4f3c5739-f91b-41ca-c802-7d790016ad50"
      },
      "source": [
        "x"
      ],
      "execution_count": 15,
      "outputs": [
        {
          "output_type": "execute_result",
          "data": {
            "text/plain": [
              "['14',\n",
              " '12',\n",
              " '15',\n",
              " '13',\n",
              " '11',\n",
              " '10',\n",
              " '16',\n",
              " '17',\n",
              " '9',\n",
              " '18',\n",
              " '8',\n",
              " '19',\n",
              " '20',\n",
              " '7',\n",
              " '21',\n",
              " '22',\n",
              " '6']"
            ]
          },
          "metadata": {
            "tags": []
          },
          "execution_count": 15
        }
      ]
    },
    {
      "cell_type": "code",
      "metadata": {
        "id": "ejYwPBItVRBY"
      },
      "source": [
        "# Store values of data_06_22_counting into y\n",
        "y = data_06_22_counting.values"
      ],
      "execution_count": 19,
      "outputs": []
    },
    {
      "cell_type": "code",
      "metadata": {
        "id": "Qs9vf6XLVa0R"
      },
      "source": [
        "# Calculate ratio and accumulated ratio\n",
        "ratio = y / y.sum()\n",
        "ratio_sum = ratio.cumsum()"
      ],
      "execution_count": 20,
      "outputs": []
    },
    {
      "cell_type": "code",
      "metadata": {
        "colab": {
          "base_uri": "https://localhost:8080/",
          "height": 652
        },
        "id": "Bok6IqAxW9oI",
        "outputId": "10589280-a03e-4f2c-f17d-3845c8d8e0bf"
      },
      "source": [
        "# Configure figure size\n",
        "fig, barChart = plt.subplots(figsize=(20,10))\n",
        "\n",
        "# Creae bar Chart\n",
        "barChart.bar(x,y)\n",
        "\n",
        "# Creae line Chart\n",
        "lineChart = barChart.twinx()\n",
        "lineChart.plot(x, ratio_sum, '-ro',alpha= 0.5)\n",
        "\n",
        "# Creae right side labels\n",
        "ranges = lineChart.get_yticks()\n",
        "print(ranges)\n",
        "lineChart.set_yticklabels(['{:,.1%}'.format(x) for x in ranges])\n",
        "\n",
        "# Creae annotations on line Chart\n",
        "ratio_sum_percentages = ['{0:.0%}'.format(x) for x in ratio_sum]\n",
        "for i , txt in enumerate(ratio_sum_percentages):\n",
        "    lineChart.annotate(txt, (x[i], ratio_sum[i]),fontsize=14)\n",
        "\n",
        "# Generate labels and title\n",
        "barChart.set_xlabel('집계시', fontdict= {'size':16})\n",
        "barChart.set_ylabel('통행회수', fontdict= {'size':16})\n",
        "plt.title('pareto Chart - 통행회수 by 집계시',fontsize= 18)\n",
        "\n",
        "# Show plot\n",
        "plt.show()"
      ],
      "execution_count": 25,
      "outputs": [
        {
          "output_type": "stream",
          "text": [
            "[0.  0.2 0.4 0.6 0.8 1.  1.2]\n"
          ],
          "name": "stdout"
        },
        {
          "output_type": "display_data",
          "data": {
            "image/png": "[encoded data removed]",
            "text/plain": [
              "<Figure size 1440x720 with 2 Axes>"
            ]
          },
          "metadata": {
            "tags": [],
            "needs_background": "light"
          }
        }
      ]
    },
    {
      "cell_type": "markdown",
      "metadata": {
        "id": "cl9IdGzqKtul"
      },
      "source": [
        "# 5.도착영업소코드"
      ]
    },
    {
      "cell_type": "code",
      "metadata": {
        "id": "vFflTmjFcYrd"
      },
      "source": [
        "data_destination_counting = data['도착영업소코드'].value_counts()"
      ],
      "execution_count": 26,
      "outputs": []
    },
    {
      "cell_type": "code",
      "metadata": {
        "colab": {
          "base_uri": "https://localhost:8080/"
        },
        "id": "mW9WDJ0zcmNW",
        "outputId": "48935f03-6134-4b04-dcb2-abc1554a19da"
      },
      "source": [
        "data_destination_counting"
      ],
      "execution_count": 27,
      "outputs": [
        {
          "output_type": "execute_result",
          "data": {
            "text/plain": [
              "105    12274\n",
              "110     9419\n",
              "115     6509\n",
              "140     2235\n",
              "130     1972\n",
              "135     1759\n",
              "125     1677\n",
              "120     1511\n",
              "Name: 도착영업소코드, dtype: int64"
            ]
          },
          "metadata": {
            "tags": []
          },
          "execution_count": 27
        }
      ]
    },
    {
      "cell_type": "code",
      "metadata": {
        "id": "YymmDPVrcq_R"
      },
      "source": [
        "# Store index of data_destination_counting into x\n",
        "x = data_destination_counting.index"
      ],
      "execution_count": 28,
      "outputs": []
    },
    {
      "cell_type": "code",
      "metadata": {
        "id": "-OSsmnAjdB_X"
      },
      "source": [
        "# Conver x values to String in order to avoid int sorting\n",
        "x = [str(i) for i in x]"
      ],
      "execution_count": 29,
      "outputs": []
    },
    {
      "cell_type": "code",
      "metadata": {
        "id": "T3-O6guidJG4"
      },
      "source": [
        "# Store values of data_destination_counting into y\n",
        "y = data_destination_counting.values"
      ],
      "execution_count": 30,
      "outputs": []
    },
    {
      "cell_type": "code",
      "metadata": {
        "id": "naTMYW_xdWVs"
      },
      "source": [
        "# Calculate ratio and accumulated ratio\n",
        "ratio = y / y.sum()\n",
        "ratio_sum = ratio.cumsum()"
      ],
      "execution_count": 31,
      "outputs": []
    },
    {
      "cell_type": "code",
      "metadata": {
        "colab": {
          "base_uri": "https://localhost:8080/",
          "height": 652
        },
        "id": "UJeLuiZoder1",
        "outputId": "59e667ab-2b9f-4486-c494-2fbd0148a0a9"
      },
      "source": [
        "# Configure figure size\n",
        "fig, barChart = plt.subplots(figsize=(20,10))\n",
        "\n",
        "# Creae bar Chart\n",
        "barChart.bar(x,y)\n",
        "\n",
        "# Creae line Chart\n",
        "lineChart = barChart.twinx()\n",
        "lineChart.plot(x, ratio_sum, '-ro',alpha= 0.5)\n",
        "\n",
        "# Creae right side labels\n",
        "ranges = lineChart.get_yticks()\n",
        "print(ranges)\n",
        "lineChart.set_yticklabels(['{:,.1%}'.format(x) for x in ranges])\n",
        "\n",
        "# Creae annotations on line Chart\n",
        "ratio_sum_percentages = ['{0:.0%}'.format(x) for x in ratio_sum]\n",
        "for i , txt in enumerate(ratio_sum_percentages):\n",
        "    lineChart.annotate(txt, (x[i], ratio_sum[i]),fontsize=14)\n",
        "\n",
        "# Generate labels and title\n",
        "barChart.set_xlabel('도착영업소코드', fontdict= {'size':16})\n",
        "barChart.set_ylabel('통행회수', fontdict= {'size':16})\n",
        "plt.title('pareto Chart - 통행회수 by 도착영업소코드',fontsize= 18)\n",
        "\n",
        "# Show plot\n",
        "plt.show()"
      ],
      "execution_count": 32,
      "outputs": [
        {
          "output_type": "stream",
          "text": [
            "[0.2 0.3 0.4 0.5 0.6 0.7 0.8 0.9 1.  1.1]\n"
          ],
          "name": "stdout"
        },
        {
          "output_type": "display_data",
          "data": {
            "image/png": "[encoded data removed]",
            "text/plain": [
              "<Figure size 1440x720 with 2 Axes>"
            ]
          },
          "metadata": {
            "tags": [],
            "needs_background": "light"
          }
        }
      ]
    },
    {
      "cell_type": "code",
      "metadata": {
        "id": "UAliibx9eTE3"
      },
      "source": [
        ""
      ],
      "execution_count": null,
      "outputs": []
    }
  ]
}