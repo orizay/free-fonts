{
  "nbformat": 4,
  "nbformat_minor": 0,
  "metadata": {
    "colab": {
      "name": "Part2-pandas.ipynb",
      "provenance": [],
      "collapsed_sections": [],
      "authorship_tag": "ABX9TyNK4lzYIVFG/gGJ0CzFBXP+",
      "include_colab_link": true
    },
    "kernelspec": {
      "name": "python3",
      "display_name": "Python 3"
    },
    "language_info": {
      "name": "python"
    }
  },
  "cells": [
    {
      "cell_type": "markdown",
      "metadata": {
        "id": "view-in-github",
        "colab_type": "text"
      },
      "source": [
        "<a href=\"https://colab.research.google.com/github/orizay/free-fonts/blob/master/Part2_pandas.ipynb\" target=\"_parent\"><img src=\"https://colab.research.google.com/assets/colab-badge.svg\" alt=\"Open In Colab\"/></a>"
      ]
    },
    {
      "cell_type": "markdown",
      "metadata": {
        "id": "WtW1wjVT_7Bs"
      },
      "source": [
        "# 판다스를  이용하여 데이터 조작하기\n",
        "* Data Manipulation\n",
        "* Data Visualisation\n",
        "* Advanced Techniques"
      ]
    },
    {
      "cell_type": "markdown",
      "metadata": {
        "id": "J9CLRCowBFoX"
      },
      "source": [
        "## Mount Drive"
      ]
    },
    {
      "cell_type": "code",
      "metadata": {
        "id": "CVlPExqvAM7g",
        "colab": {
          "base_uri": "https://localhost:8080/"
        },
        "outputId": "af7b57b1-ea1c-4634-ff6e-9b5fb05cb836"
      },
      "source": [
        "from google.colab import drive\n",
        "drive.mount('/MyDrive', force_remount= True)"
      ],
      "execution_count": 7,
      "outputs": [
        {
          "output_type": "stream",
          "text": [
            "Mounted at /MyDrive\n"
          ],
          "name": "stdout"
        }
      ]
    },
    {
      "cell_type": "markdown",
      "metadata": {
        "id": "mNH-Sw0TCMjl"
      },
      "source": [
        "## Load Data"
      ]
    },
    {
      "cell_type": "code",
      "metadata": {
        "id": "AxXeYD96CPJC"
      },
      "source": [
        "import pandas as pd"
      ],
      "execution_count": 8,
      "outputs": []
    },
    {
      "cell_type": "code",
      "metadata": {
        "id": "JeUMMvEtCdWy"
      },
      "source": [
        "file = '/MyDrive/MyDrive/MyData/TCS_영업소간통행시간_1시간_1개월_202003'\n",
        "data = pd.read_csv(file, sep=',', encoding= 'euc-kr')"
      ],
      "execution_count": 9,
      "outputs": []
    },
    {
      "cell_type": "code",
      "metadata": {
        "colab": {
          "base_uri": "https://localhost:8080/",
          "height": 206
        },
        "id": "JOn_ZokQKLIO",
        "outputId": "8abb6f0a-6c1b-4cbf-fac5-bc1f6adc93b8"
      },
      "source": [
        "data.head()"
      ],
      "execution_count": 10,
      "outputs": [
        {
          "output_type": "execute_result",
          "data": {
            "text/html": [
              "<div>\n",
              "<style scoped>\n",
              "    .dataframe tbody tr th:only-of-type {\n",
              "        vertical-align: middle;\n",
              "    }\n",
              "\n",
              "    .dataframe tbody tr th {\n",
              "        vertical-align: top;\n",
              "    }\n",
              "\n",
              "    .dataframe thead th {\n",
              "        text-align: right;\n",
              "    }\n",
              "</style>\n",
              "<table border=\"1\" class=\"dataframe\">\n",
              "  <thead>\n",
              "    <tr style=\"text-align: right;\">\n",
              "      <th></th>\n",
              "      <th>집계일자</th>\n",
              "      <th>집계시</th>\n",
              "      <th>출발영업소코드</th>\n",
              "      <th>도착영업소코드</th>\n",
              "      <th>TCS차종구분코드</th>\n",
              "      <th>통행시간</th>\n",
              "      <th>Unnamed: 6</th>\n",
              "    </tr>\n",
              "  </thead>\n",
              "  <tbody>\n",
              "    <tr>\n",
              "      <th>0</th>\n",
              "      <td>20200301</td>\n",
              "      <td>18</td>\n",
              "      <td>0</td>\n",
              "      <td>101</td>\n",
              "      <td>1</td>\n",
              "      <td>-1</td>\n",
              "      <td>NaN</td>\n",
              "    </tr>\n",
              "    <tr>\n",
              "      <th>1</th>\n",
              "      <td>20200301</td>\n",
              "      <td>18</td>\n",
              "      <td>0</td>\n",
              "      <td>101</td>\n",
              "      <td>3</td>\n",
              "      <td>-1</td>\n",
              "      <td>NaN</td>\n",
              "    </tr>\n",
              "    <tr>\n",
              "      <th>2</th>\n",
              "      <td>20200301</td>\n",
              "      <td>22</td>\n",
              "      <td>0</td>\n",
              "      <td>101</td>\n",
              "      <td>2</td>\n",
              "      <td>-1</td>\n",
              "      <td>NaN</td>\n",
              "    </tr>\n",
              "    <tr>\n",
              "      <th>3</th>\n",
              "      <td>20200301</td>\n",
              "      <td>12</td>\n",
              "      <td>0</td>\n",
              "      <td>101</td>\n",
              "      <td>3</td>\n",
              "      <td>-1</td>\n",
              "      <td>NaN</td>\n",
              "    </tr>\n",
              "    <tr>\n",
              "      <th>4</th>\n",
              "      <td>20200301</td>\n",
              "      <td>5</td>\n",
              "      <td>0</td>\n",
              "      <td>101</td>\n",
              "      <td>1</td>\n",
              "      <td>-1</td>\n",
              "      <td>NaN</td>\n",
              "    </tr>\n",
              "  </tbody>\n",
              "</table>\n",
              "</div>"
            ],
            "text/plain": [
              "       집계일자  집계시  출발영업소코드  도착영업소코드  TCS차종구분코드  통행시간  Unnamed: 6\n",
              "0  20200301   18        0      101          1    -1         NaN\n",
              "1  20200301   18        0      101          3    -1         NaN\n",
              "2  20200301   22        0      101          2    -1         NaN\n",
              "3  20200301   12        0      101          3    -1         NaN\n",
              "4  20200301    5        0      101          1    -1         NaN"
            ]
          },
          "metadata": {
            "tags": []
          },
          "execution_count": 10
        }
      ]
    },
    {
      "cell_type": "code",
      "metadata": {
        "colab": {
          "base_uri": "https://localhost:8080/",
          "height": 206
        },
        "id": "RjYkkjxMKS2p",
        "outputId": "c3b42d61-4026-4e84-adc8-144dada854d9"
      },
      "source": [
        "data.tail()"
      ],
      "execution_count": 12,
      "outputs": [
        {
          "output_type": "execute_result",
          "data": {
            "text/html": [
              "<div>\n",
              "<style scoped>\n",
              "    .dataframe tbody tr th:only-of-type {\n",
              "        vertical-align: middle;\n",
              "    }\n",
              "\n",
              "    .dataframe tbody tr th {\n",
              "        vertical-align: top;\n",
              "    }\n",
              "\n",
              "    .dataframe thead th {\n",
              "        text-align: right;\n",
              "    }\n",
              "</style>\n",
              "<table border=\"1\" class=\"dataframe\">\n",
              "  <thead>\n",
              "    <tr style=\"text-align: right;\">\n",
              "      <th></th>\n",
              "      <th>집계일자</th>\n",
              "      <th>집계시</th>\n",
              "      <th>출발영업소코드</th>\n",
              "      <th>도착영업소코드</th>\n",
              "      <th>TCS차종구분코드</th>\n",
              "      <th>통행시간</th>\n",
              "      <th>Unnamed: 6</th>\n",
              "    </tr>\n",
              "  </thead>\n",
              "  <tbody>\n",
              "    <tr>\n",
              "      <th>24149230</th>\n",
              "      <td>20200331</td>\n",
              "      <td>12</td>\n",
              "      <td>755</td>\n",
              "      <td>707</td>\n",
              "      <td>4</td>\n",
              "      <td>6420</td>\n",
              "      <td>NaN</td>\n",
              "    </tr>\n",
              "    <tr>\n",
              "      <th>24149231</th>\n",
              "      <td>20200331</td>\n",
              "      <td>6</td>\n",
              "      <td>682</td>\n",
              "      <td>555</td>\n",
              "      <td>1</td>\n",
              "      <td>2489</td>\n",
              "      <td>NaN</td>\n",
              "    </tr>\n",
              "    <tr>\n",
              "      <th>24149232</th>\n",
              "      <td>20200331</td>\n",
              "      <td>9</td>\n",
              "      <td>677</td>\n",
              "      <td>172</td>\n",
              "      <td>4</td>\n",
              "      <td>2604</td>\n",
              "      <td>NaN</td>\n",
              "    </tr>\n",
              "    <tr>\n",
              "      <th>24149233</th>\n",
              "      <td>20200331</td>\n",
              "      <td>14</td>\n",
              "      <td>641</td>\n",
              "      <td>135</td>\n",
              "      <td>5</td>\n",
              "      <td>1927</td>\n",
              "      <td>NaN</td>\n",
              "    </tr>\n",
              "    <tr>\n",
              "      <th>24149234</th>\n",
              "      <td>20200331</td>\n",
              "      <td>11</td>\n",
              "      <td>625</td>\n",
              "      <td>251</td>\n",
              "      <td>1</td>\n",
              "      <td>1687</td>\n",
              "      <td>NaN</td>\n",
              "    </tr>\n",
              "  </tbody>\n",
              "</table>\n",
              "</div>"
            ],
            "text/plain": [
              "              집계일자  집계시  출발영업소코드  도착영업소코드  TCS차종구분코드  통행시간  Unnamed: 6\n",
              "24149230  20200331   12      755      707          4  6420         NaN\n",
              "24149231  20200331    6      682      555          1  2489         NaN\n",
              "24149232  20200331    9      677      172          4  2604         NaN\n",
              "24149233  20200331   14      641      135          5  1927         NaN\n",
              "24149234  20200331   11      625      251          1  1687         NaN"
            ]
          },
          "metadata": {
            "tags": []
          },
          "execution_count": 12
        }
      ]
    },
    {
      "cell_type": "code",
      "metadata": {
        "colab": {
          "base_uri": "https://localhost:8080/"
        },
        "id": "K9iOxYiCKVX4",
        "outputId": "8dbd3c7d-9643-4f94-b154-b8cb1b783e9c"
      },
      "source": [
        "data.info()"
      ],
      "execution_count": 13,
      "outputs": [
        {
          "output_type": "stream",
          "text": [
            "<class 'pandas.core.frame.DataFrame'>\n",
            "RangeIndex: 24149235 entries, 0 to 24149234\n",
            "Data columns (total 7 columns):\n",
            " #   Column      Dtype  \n",
            "---  ------      -----  \n",
            " 0   집계일자        int64  \n",
            " 1   집계시         int64  \n",
            " 2   출발영업소코드     int64  \n",
            " 3   도착영업소코드     int64  \n",
            " 4   TCS차종구분코드   int64  \n",
            " 5   통행시간        int64  \n",
            " 6   Unnamed: 6  float64\n",
            "dtypes: float64(1), int64(6)\n",
            "memory usage: 1.3 GB\n"
          ],
          "name": "stdout"
        }
      ]
    },
    {
      "cell_type": "code",
      "metadata": {
        "colab": {
          "base_uri": "https://localhost:8080/"
        },
        "id": "YYTrrkfSKa5v",
        "outputId": "d25bd630-3aa7-42fb-e338-bd4f0ea3aee7"
      },
      "source": [
        "data.shape"
      ],
      "execution_count": 14,
      "outputs": [
        {
          "output_type": "execute_result",
          "data": {
            "text/plain": [
              "(24149235, 7)"
            ]
          },
          "metadata": {
            "tags": []
          },
          "execution_count": 14
        }
      ]
    },
    {
      "cell_type": "markdown",
      "metadata": {
        "id": "J57W_I-VDW6F"
      },
      "source": [
        "# 필요없는 데이터를 찾아서 정제하기"
      ]
    },
    {
      "cell_type": "markdown",
      "metadata": {
        "id": "6vHm8TxzDw7B"
      },
      "source": [
        "## 데이터 젱제의 중요성\n",
        "* **데이터의 품질과 데이터에 담긴 정보량**\n",
        "* 데이터에서 결측값(Missing Value)제거,**대치**"
      ]
    },
    {
      "cell_type": "markdown",
      "metadata": {
        "id": "HHEWtCAMUos3"
      },
      "source": [
        "## Clean Data"
      ]
    },
    {
      "cell_type": "code",
      "metadata": {
        "colab": {
          "base_uri": "https://localhost:8080/"
        },
        "id": "pIOwVimRKd4K",
        "outputId": "8be75b68-90f1-4c46-cc6c-0fe9141e0026"
      },
      "source": [
        "# cheking the null values in the data fields\n",
        "data.isnull().sum(axis= 0)"
      ],
      "execution_count": 15,
      "outputs": [
        {
          "output_type": "execute_result",
          "data": {
            "text/plain": [
              "집계일자                 0\n",
              "집계시                  0\n",
              "출발영업소코드              0\n",
              "도착영업소코드              0\n",
              "TCS차종구분코드            0\n",
              "통행시간                 0\n",
              "Unnamed: 6    24149235\n",
              "dtype: int64"
            ]
          },
          "metadata": {
            "tags": []
          },
          "execution_count": 15
        }
      ]
    },
    {
      "cell_type": "code",
      "metadata": {
        "colab": {
          "base_uri": "https://localhost:8080/"
        },
        "id": "ktGB6MTwDeZ5",
        "outputId": "f5a312f0-2914-4e75-a00d-19f97853cd7c"
      },
      "source": [
        "# show columns of the data frame\n",
        "data.columns"
      ],
      "execution_count": 16,
      "outputs": [
        {
          "output_type": "execute_result",
          "data": {
            "text/plain": [
              "Index(['집계일자', '집계시', '출발영업소코드', '도착영업소코드', 'TCS차종구분코드', '통행시간', 'Unnamed: 6'], dtype='object')"
            ]
          },
          "metadata": {
            "tags": []
          },
          "execution_count": 16
        }
      ]
    },
    {
      "cell_type": "code",
      "metadata": {
        "colab": {
          "base_uri": "https://localhost:8080/"
        },
        "id": "2XzJ8Bcqaj0y",
        "outputId": "06927cb4-7715-4d0f-a4f9-add51600ec04"
      },
      "source": [
        "# select by '.' operator\n",
        "data.집계일자"
      ],
      "execution_count": 17,
      "outputs": [
        {
          "output_type": "execute_result",
          "data": {
            "text/plain": [
              "0           20200301\n",
              "1           20200301\n",
              "2           20200301\n",
              "3           20200301\n",
              "4           20200301\n",
              "              ...   \n",
              "24149230    20200331\n",
              "24149231    20200331\n",
              "24149232    20200331\n",
              "24149233    20200331\n",
              "24149234    20200331\n",
              "Name: 집계일자, Length: 24149235, dtype: int64"
            ]
          },
          "metadata": {
            "tags": []
          },
          "execution_count": 17
        }
      ]
    },
    {
      "cell_type": "code",
      "metadata": {
        "colab": {
          "base_uri": "https://localhost:8080/"
        },
        "id": "skUBjWl5a17d",
        "outputId": "883b4c51-e431-4310-be60-ccff55563c44"
      },
      "source": [
        "# select by '[ ]' operator\n",
        "data['Unnamed: 6']"
      ],
      "execution_count": 18,
      "outputs": [
        {
          "output_type": "execute_result",
          "data": {
            "text/plain": [
              "0          NaN\n",
              "1          NaN\n",
              "2          NaN\n",
              "3          NaN\n",
              "4          NaN\n",
              "            ..\n",
              "24149230   NaN\n",
              "24149231   NaN\n",
              "24149232   NaN\n",
              "24149233   NaN\n",
              "24149234   NaN\n",
              "Name: Unnamed: 6, Length: 24149235, dtype: float64"
            ]
          },
          "metadata": {
            "tags": []
          },
          "execution_count": 18
        }
      ]
    },
    {
      "cell_type": "code",
      "metadata": {
        "colab": {
          "base_uri": "https://localhost:8080/",
          "height": 424
        },
        "id": "VkuQGMuhWW3V",
        "outputId": "42bd59f4-65ee-4fe4-a9fb-28b3b5091322"
      },
      "source": [
        "# Drop some columns with null values\n",
        "data_clean = data.drop(['Unnamed: 6'],axis= 'columns')\n",
        "data_clean"
      ],
      "execution_count": 19,
      "outputs": [
        {
          "output_type": "execute_result",
          "data": {
            "text/html": [
              "<div>\n",
              "<style scoped>\n",
              "    .dataframe tbody tr th:only-of-type {\n",
              "        vertical-align: middle;\n",
              "    }\n",
              "\n",
              "    .dataframe tbody tr th {\n",
              "        vertical-align: top;\n",
              "    }\n",
              "\n",
              "    .dataframe thead th {\n",
              "        text-align: right;\n",
              "    }\n",
              "</style>\n",
              "<table border=\"1\" class=\"dataframe\">\n",
              "  <thead>\n",
              "    <tr style=\"text-align: right;\">\n",
              "      <th></th>\n",
              "      <th>집계일자</th>\n",
              "      <th>집계시</th>\n",
              "      <th>출발영업소코드</th>\n",
              "      <th>도착영업소코드</th>\n",
              "      <th>TCS차종구분코드</th>\n",
              "      <th>통행시간</th>\n",
              "    </tr>\n",
              "  </thead>\n",
              "  <tbody>\n",
              "    <tr>\n",
              "      <th>0</th>\n",
              "      <td>20200301</td>\n",
              "      <td>18</td>\n",
              "      <td>0</td>\n",
              "      <td>101</td>\n",
              "      <td>1</td>\n",
              "      <td>-1</td>\n",
              "    </tr>\n",
              "    <tr>\n",
              "      <th>1</th>\n",
              "      <td>20200301</td>\n",
              "      <td>18</td>\n",
              "      <td>0</td>\n",
              "      <td>101</td>\n",
              "      <td>3</td>\n",
              "      <td>-1</td>\n",
              "    </tr>\n",
              "    <tr>\n",
              "      <th>2</th>\n",
              "      <td>20200301</td>\n",
              "      <td>22</td>\n",
              "      <td>0</td>\n",
              "      <td>101</td>\n",
              "      <td>2</td>\n",
              "      <td>-1</td>\n",
              "    </tr>\n",
              "    <tr>\n",
              "      <th>3</th>\n",
              "      <td>20200301</td>\n",
              "      <td>12</td>\n",
              "      <td>0</td>\n",
              "      <td>101</td>\n",
              "      <td>3</td>\n",
              "      <td>-1</td>\n",
              "    </tr>\n",
              "    <tr>\n",
              "      <th>4</th>\n",
              "      <td>20200301</td>\n",
              "      <td>5</td>\n",
              "      <td>0</td>\n",
              "      <td>101</td>\n",
              "      <td>1</td>\n",
              "      <td>-1</td>\n",
              "    </tr>\n",
              "    <tr>\n",
              "      <th>...</th>\n",
              "      <td>...</td>\n",
              "      <td>...</td>\n",
              "      <td>...</td>\n",
              "      <td>...</td>\n",
              "      <td>...</td>\n",
              "      <td>...</td>\n",
              "    </tr>\n",
              "    <tr>\n",
              "      <th>24149230</th>\n",
              "      <td>20200331</td>\n",
              "      <td>12</td>\n",
              "      <td>755</td>\n",
              "      <td>707</td>\n",
              "      <td>4</td>\n",
              "      <td>6420</td>\n",
              "    </tr>\n",
              "    <tr>\n",
              "      <th>24149231</th>\n",
              "      <td>20200331</td>\n",
              "      <td>6</td>\n",
              "      <td>682</td>\n",
              "      <td>555</td>\n",
              "      <td>1</td>\n",
              "      <td>2489</td>\n",
              "    </tr>\n",
              "    <tr>\n",
              "      <th>24149232</th>\n",
              "      <td>20200331</td>\n",
              "      <td>9</td>\n",
              "      <td>677</td>\n",
              "      <td>172</td>\n",
              "      <td>4</td>\n",
              "      <td>2604</td>\n",
              "    </tr>\n",
              "    <tr>\n",
              "      <th>24149233</th>\n",
              "      <td>20200331</td>\n",
              "      <td>14</td>\n",
              "      <td>641</td>\n",
              "      <td>135</td>\n",
              "      <td>5</td>\n",
              "      <td>1927</td>\n",
              "    </tr>\n",
              "    <tr>\n",
              "      <th>24149234</th>\n",
              "      <td>20200331</td>\n",
              "      <td>11</td>\n",
              "      <td>625</td>\n",
              "      <td>251</td>\n",
              "      <td>1</td>\n",
              "      <td>1687</td>\n",
              "    </tr>\n",
              "  </tbody>\n",
              "</table>\n",
              "<p>24149235 rows × 6 columns</p>\n",
              "</div>"
            ],
            "text/plain": [
              "              집계일자  집계시  출발영업소코드  도착영업소코드  TCS차종구분코드  통행시간\n",
              "0         20200301   18        0      101          1    -1\n",
              "1         20200301   18        0      101          3    -1\n",
              "2         20200301   22        0      101          2    -1\n",
              "3         20200301   12        0      101          3    -1\n",
              "4         20200301    5        0      101          1    -1\n",
              "...            ...  ...      ...      ...        ...   ...\n",
              "24149230  20200331   12      755      707          4  6420\n",
              "24149231  20200331    6      682      555          1  2489\n",
              "24149232  20200331    9      677      172          4  2604\n",
              "24149233  20200331   14      641      135          5  1927\n",
              "24149234  20200331   11      625      251          1  1687\n",
              "\n",
              "[24149235 rows x 6 columns]"
            ]
          },
          "metadata": {
            "tags": []
          },
          "execution_count": 19
        }
      ]
    },
    {
      "cell_type": "code",
      "metadata": {
        "colab": {
          "base_uri": "https://localhost:8080/",
          "height": 206
        },
        "id": "PWpYAPysXBfK",
        "outputId": "21f399da-339f-4ab0-df39-5d2b004803a7"
      },
      "source": [
        "data_clean.head()"
      ],
      "execution_count": 20,
      "outputs": [
        {
          "output_type": "execute_result",
          "data": {
            "text/html": [
              "<div>\n",
              "<style scoped>\n",
              "    .dataframe tbody tr th:only-of-type {\n",
              "        vertical-align: middle;\n",
              "    }\n",
              "\n",
              "    .dataframe tbody tr th {\n",
              "        vertical-align: top;\n",
              "    }\n",
              "\n",
              "    .dataframe thead th {\n",
              "        text-align: right;\n",
              "    }\n",
              "</style>\n",
              "<table border=\"1\" class=\"dataframe\">\n",
              "  <thead>\n",
              "    <tr style=\"text-align: right;\">\n",
              "      <th></th>\n",
              "      <th>집계일자</th>\n",
              "      <th>집계시</th>\n",
              "      <th>출발영업소코드</th>\n",
              "      <th>도착영업소코드</th>\n",
              "      <th>TCS차종구분코드</th>\n",
              "      <th>통행시간</th>\n",
              "    </tr>\n",
              "  </thead>\n",
              "  <tbody>\n",
              "    <tr>\n",
              "      <th>0</th>\n",
              "      <td>20200301</td>\n",
              "      <td>18</td>\n",
              "      <td>0</td>\n",
              "      <td>101</td>\n",
              "      <td>1</td>\n",
              "      <td>-1</td>\n",
              "    </tr>\n",
              "    <tr>\n",
              "      <th>1</th>\n",
              "      <td>20200301</td>\n",
              "      <td>18</td>\n",
              "      <td>0</td>\n",
              "      <td>101</td>\n",
              "      <td>3</td>\n",
              "      <td>-1</td>\n",
              "    </tr>\n",
              "    <tr>\n",
              "      <th>2</th>\n",
              "      <td>20200301</td>\n",
              "      <td>22</td>\n",
              "      <td>0</td>\n",
              "      <td>101</td>\n",
              "      <td>2</td>\n",
              "      <td>-1</td>\n",
              "    </tr>\n",
              "    <tr>\n",
              "      <th>3</th>\n",
              "      <td>20200301</td>\n",
              "      <td>12</td>\n",
              "      <td>0</td>\n",
              "      <td>101</td>\n",
              "      <td>3</td>\n",
              "      <td>-1</td>\n",
              "    </tr>\n",
              "    <tr>\n",
              "      <th>4</th>\n",
              "      <td>20200301</td>\n",
              "      <td>5</td>\n",
              "      <td>0</td>\n",
              "      <td>101</td>\n",
              "      <td>1</td>\n",
              "      <td>-1</td>\n",
              "    </tr>\n",
              "  </tbody>\n",
              "</table>\n",
              "</div>"
            ],
            "text/plain": [
              "       집계일자  집계시  출발영업소코드  도착영업소코드  TCS차종구분코드  통행시간\n",
              "0  20200301   18        0      101          1    -1\n",
              "1  20200301   18        0      101          3    -1\n",
              "2  20200301   22        0      101          2    -1\n",
              "3  20200301   12        0      101          3    -1\n",
              "4  20200301    5        0      101          1    -1"
            ]
          },
          "metadata": {
            "tags": []
          },
          "execution_count": 20
        }
      ]
    },
    {
      "cell_type": "code",
      "metadata": {
        "colab": {
          "base_uri": "https://localhost:8080/"
        },
        "id": "FoeFdt9MXS7t",
        "outputId": "0bc105fd-1dcb-4b3f-8c18-4254b7bd4f2b"
      },
      "source": [
        "data_clean.통행시간 > 0"
      ],
      "execution_count": 21,
      "outputs": [
        {
          "output_type": "execute_result",
          "data": {
            "text/plain": [
              "0           False\n",
              "1           False\n",
              "2           False\n",
              "3           False\n",
              "4           False\n",
              "            ...  \n",
              "24149230     True\n",
              "24149231     True\n",
              "24149232     True\n",
              "24149233     True\n",
              "24149234     True\n",
              "Name: 통행시간, Length: 24149235, dtype: bool"
            ]
          },
          "metadata": {
            "tags": []
          },
          "execution_count": 21
        }
      ]
    },
    {
      "cell_type": "code",
      "metadata": {
        "colab": {
          "base_uri": "https://localhost:8080/"
        },
        "id": "qw_47sHrXs5W",
        "outputId": "d46a4289-40ca-4f46-8e38-f387f9668785"
      },
      "source": [
        "(data_clean.통행시간 > 0).unique()"
      ],
      "execution_count": 22,
      "outputs": [
        {
          "output_type": "execute_result",
          "data": {
            "text/plain": [
              "array([False,  True])"
            ]
          },
          "metadata": {
            "tags": []
          },
          "execution_count": 22
        }
      ]
    },
    {
      "cell_type": "code",
      "metadata": {
        "colab": {
          "base_uri": "https://localhost:8080/",
          "height": 424
        },
        "id": "1YIGR3zlX5DR",
        "outputId": "b834dd01-ff1e-4355-e0d3-7fafb0353698"
      },
      "source": [
        "data_clean = data_clean[data_clean.통행시간 > 0]\n",
        "data_clean"
      ],
      "execution_count": 23,
      "outputs": [
        {
          "output_type": "execute_result",
          "data": {
            "text/html": [
              "<div>\n",
              "<style scoped>\n",
              "    .dataframe tbody tr th:only-of-type {\n",
              "        vertical-align: middle;\n",
              "    }\n",
              "\n",
              "    .dataframe tbody tr th {\n",
              "        vertical-align: top;\n",
              "    }\n",
              "\n",
              "    .dataframe thead th {\n",
              "        text-align: right;\n",
              "    }\n",
              "</style>\n",
              "<table border=\"1\" class=\"dataframe\">\n",
              "  <thead>\n",
              "    <tr style=\"text-align: right;\">\n",
              "      <th></th>\n",
              "      <th>집계일자</th>\n",
              "      <th>집계시</th>\n",
              "      <th>출발영업소코드</th>\n",
              "      <th>도착영업소코드</th>\n",
              "      <th>TCS차종구분코드</th>\n",
              "      <th>통행시간</th>\n",
              "    </tr>\n",
              "  </thead>\n",
              "  <tbody>\n",
              "    <tr>\n",
              "      <th>5764</th>\n",
              "      <td>20200301</td>\n",
              "      <td>13</td>\n",
              "      <td>101</td>\n",
              "      <td>102</td>\n",
              "      <td>6</td>\n",
              "      <td>600</td>\n",
              "    </tr>\n",
              "    <tr>\n",
              "      <th>5765</th>\n",
              "      <td>20200301</td>\n",
              "      <td>13</td>\n",
              "      <td>101</td>\n",
              "      <td>102</td>\n",
              "      <td>3</td>\n",
              "      <td>601</td>\n",
              "    </tr>\n",
              "    <tr>\n",
              "      <th>5766</th>\n",
              "      <td>20200301</td>\n",
              "      <td>10</td>\n",
              "      <td>101</td>\n",
              "      <td>102</td>\n",
              "      <td>6</td>\n",
              "      <td>588</td>\n",
              "    </tr>\n",
              "    <tr>\n",
              "      <th>5767</th>\n",
              "      <td>20200301</td>\n",
              "      <td>10</td>\n",
              "      <td>101</td>\n",
              "      <td>102</td>\n",
              "      <td>1</td>\n",
              "      <td>557</td>\n",
              "    </tr>\n",
              "    <tr>\n",
              "      <th>5768</th>\n",
              "      <td>20200301</td>\n",
              "      <td>10</td>\n",
              "      <td>101</td>\n",
              "      <td>102</td>\n",
              "      <td>3</td>\n",
              "      <td>600</td>\n",
              "    </tr>\n",
              "    <tr>\n",
              "      <th>...</th>\n",
              "      <td>...</td>\n",
              "      <td>...</td>\n",
              "      <td>...</td>\n",
              "      <td>...</td>\n",
              "      <td>...</td>\n",
              "      <td>...</td>\n",
              "    </tr>\n",
              "    <tr>\n",
              "      <th>24149230</th>\n",
              "      <td>20200331</td>\n",
              "      <td>12</td>\n",
              "      <td>755</td>\n",
              "      <td>707</td>\n",
              "      <td>4</td>\n",
              "      <td>6420</td>\n",
              "    </tr>\n",
              "    <tr>\n",
              "      <th>24149231</th>\n",
              "      <td>20200331</td>\n",
              "      <td>6</td>\n",
              "      <td>682</td>\n",
              "      <td>555</td>\n",
              "      <td>1</td>\n",
              "      <td>2489</td>\n",
              "    </tr>\n",
              "    <tr>\n",
              "      <th>24149232</th>\n",
              "      <td>20200331</td>\n",
              "      <td>9</td>\n",
              "      <td>677</td>\n",
              "      <td>172</td>\n",
              "      <td>4</td>\n",
              "      <td>2604</td>\n",
              "    </tr>\n",
              "    <tr>\n",
              "      <th>24149233</th>\n",
              "      <td>20200331</td>\n",
              "      <td>14</td>\n",
              "      <td>641</td>\n",
              "      <td>135</td>\n",
              "      <td>5</td>\n",
              "      <td>1927</td>\n",
              "    </tr>\n",
              "    <tr>\n",
              "      <th>24149234</th>\n",
              "      <td>20200331</td>\n",
              "      <td>11</td>\n",
              "      <td>625</td>\n",
              "      <td>251</td>\n",
              "      <td>1</td>\n",
              "      <td>1687</td>\n",
              "    </tr>\n",
              "  </tbody>\n",
              "</table>\n",
              "<p>20231577 rows × 6 columns</p>\n",
              "</div>"
            ],
            "text/plain": [
              "              집계일자  집계시  출발영업소코드  도착영업소코드  TCS차종구분코드  통행시간\n",
              "5764      20200301   13      101      102          6   600\n",
              "5765      20200301   13      101      102          3   601\n",
              "5766      20200301   10      101      102          6   588\n",
              "5767      20200301   10      101      102          1   557\n",
              "5768      20200301   10      101      102          3   600\n",
              "...            ...  ...      ...      ...        ...   ...\n",
              "24149230  20200331   12      755      707          4  6420\n",
              "24149231  20200331    6      682      555          1  2489\n",
              "24149232  20200331    9      677      172          4  2604\n",
              "24149233  20200331   14      641      135          5  1927\n",
              "24149234  20200331   11      625      251          1  1687\n",
              "\n",
              "[20231577 rows x 6 columns]"
            ]
          },
          "metadata": {
            "tags": []
          },
          "execution_count": 23
        }
      ]
    },
    {
      "cell_type": "code",
      "metadata": {
        "colab": {
          "base_uri": "https://localhost:8080/",
          "height": 206
        },
        "id": "TAiC_UM6YTMB",
        "outputId": "af8acd5c-f09f-41f8-fdae-bacd2161e086"
      },
      "source": [
        "data_clean.head()"
      ],
      "execution_count": 24,
      "outputs": [
        {
          "output_type": "execute_result",
          "data": {
            "text/html": [
              "<div>\n",
              "<style scoped>\n",
              "    .dataframe tbody tr th:only-of-type {\n",
              "        vertical-align: middle;\n",
              "    }\n",
              "\n",
              "    .dataframe tbody tr th {\n",
              "        vertical-align: top;\n",
              "    }\n",
              "\n",
              "    .dataframe thead th {\n",
              "        text-align: right;\n",
              "    }\n",
              "</style>\n",
              "<table border=\"1\" class=\"dataframe\">\n",
              "  <thead>\n",
              "    <tr style=\"text-align: right;\">\n",
              "      <th></th>\n",
              "      <th>집계일자</th>\n",
              "      <th>집계시</th>\n",
              "      <th>출발영업소코드</th>\n",
              "      <th>도착영업소코드</th>\n",
              "      <th>TCS차종구분코드</th>\n",
              "      <th>통행시간</th>\n",
              "    </tr>\n",
              "  </thead>\n",
              "  <tbody>\n",
              "    <tr>\n",
              "      <th>5764</th>\n",
              "      <td>20200301</td>\n",
              "      <td>13</td>\n",
              "      <td>101</td>\n",
              "      <td>102</td>\n",
              "      <td>6</td>\n",
              "      <td>600</td>\n",
              "    </tr>\n",
              "    <tr>\n",
              "      <th>5765</th>\n",
              "      <td>20200301</td>\n",
              "      <td>13</td>\n",
              "      <td>101</td>\n",
              "      <td>102</td>\n",
              "      <td>3</td>\n",
              "      <td>601</td>\n",
              "    </tr>\n",
              "    <tr>\n",
              "      <th>5766</th>\n",
              "      <td>20200301</td>\n",
              "      <td>10</td>\n",
              "      <td>101</td>\n",
              "      <td>102</td>\n",
              "      <td>6</td>\n",
              "      <td>588</td>\n",
              "    </tr>\n",
              "    <tr>\n",
              "      <th>5767</th>\n",
              "      <td>20200301</td>\n",
              "      <td>10</td>\n",
              "      <td>101</td>\n",
              "      <td>102</td>\n",
              "      <td>1</td>\n",
              "      <td>557</td>\n",
              "    </tr>\n",
              "    <tr>\n",
              "      <th>5768</th>\n",
              "      <td>20200301</td>\n",
              "      <td>10</td>\n",
              "      <td>101</td>\n",
              "      <td>102</td>\n",
              "      <td>3</td>\n",
              "      <td>600</td>\n",
              "    </tr>\n",
              "  </tbody>\n",
              "</table>\n",
              "</div>"
            ],
            "text/plain": [
              "          집계일자  집계시  출발영업소코드  도착영업소코드  TCS차종구분코드  통행시간\n",
              "5764  20200301   13      101      102          6   600\n",
              "5765  20200301   13      101      102          3   601\n",
              "5766  20200301   10      101      102          6   588\n",
              "5767  20200301   10      101      102          1   557\n",
              "5768  20200301   10      101      102          3   600"
            ]
          },
          "metadata": {
            "tags": []
          },
          "execution_count": 24
        }
      ]
    },
    {
      "cell_type": "code",
      "metadata": {
        "colab": {
          "base_uri": "https://localhost:8080/"
        },
        "id": "J8cWEmauYX4R",
        "outputId": "a7142742-f758-4fc7-95e9-1562a59999a3"
      },
      "source": [
        "data_clean.info()"
      ],
      "execution_count": 25,
      "outputs": [
        {
          "output_type": "stream",
          "text": [
            "<class 'pandas.core.frame.DataFrame'>\n",
            "Int64Index: 20231577 entries, 5764 to 24149234\n",
            "Data columns (total 6 columns):\n",
            " #   Column     Dtype\n",
            "---  ------     -----\n",
            " 0   집계일자       int64\n",
            " 1   집계시        int64\n",
            " 2   출발영업소코드    int64\n",
            " 3   도착영업소코드    int64\n",
            " 4   TCS차종구분코드  int64\n",
            " 5   통행시간       int64\n",
            "dtypes: int64(6)\n",
            "memory usage: 1.1 GB\n"
          ],
          "name": "stdout"
        }
      ]
    },
    {
      "cell_type": "markdown",
      "metadata": {
        "id": "hCfv6QQBZVNU"
      },
      "source": [
        "# 필요한 데이터를 조건에 맞게 선택"
      ]
    },
    {
      "cell_type": "markdown",
      "metadata": {
        "id": "nzXrnDg9ZlGE"
      },
      "source": [
        "## .VS[ ]\n",
        "## 데이터 선택"
      ]
    },
    {
      "cell_type": "markdown",
      "metadata": {
        "id": "R-Tk3gHIczeh"
      },
      "source": [
        "## Select Data\n",
        "\n",
        "```\n",
        "101,서울 105,기흥 110,목천 115,대전 120,황간 125,남구미 130,동김천 135,경주 140,부산\n",
        "```"
      ]
    },
    {
      "cell_type": "code",
      "metadata": {
        "colab": {
          "base_uri": "https://localhost:8080/",
          "height": 206
        },
        "id": "qHT6ffenYfCV",
        "outputId": "c9c75fac-b051-4552-f8a6-48941891abde"
      },
      "source": [
        "data_clean.head()"
      ],
      "execution_count": 26,
      "outputs": [
        {
          "output_type": "execute_result",
          "data": {
            "text/html": [
              "<div>\n",
              "<style scoped>\n",
              "    .dataframe tbody tr th:only-of-type {\n",
              "        vertical-align: middle;\n",
              "    }\n",
              "\n",
              "    .dataframe tbody tr th {\n",
              "        vertical-align: top;\n",
              "    }\n",
              "\n",
              "    .dataframe thead th {\n",
              "        text-align: right;\n",
              "    }\n",
              "</style>\n",
              "<table border=\"1\" class=\"dataframe\">\n",
              "  <thead>\n",
              "    <tr style=\"text-align: right;\">\n",
              "      <th></th>\n",
              "      <th>집계일자</th>\n",
              "      <th>집계시</th>\n",
              "      <th>출발영업소코드</th>\n",
              "      <th>도착영업소코드</th>\n",
              "      <th>TCS차종구분코드</th>\n",
              "      <th>통행시간</th>\n",
              "    </tr>\n",
              "  </thead>\n",
              "  <tbody>\n",
              "    <tr>\n",
              "      <th>5764</th>\n",
              "      <td>20200301</td>\n",
              "      <td>13</td>\n",
              "      <td>101</td>\n",
              "      <td>102</td>\n",
              "      <td>6</td>\n",
              "      <td>600</td>\n",
              "    </tr>\n",
              "    <tr>\n",
              "      <th>5765</th>\n",
              "      <td>20200301</td>\n",
              "      <td>13</td>\n",
              "      <td>101</td>\n",
              "      <td>102</td>\n",
              "      <td>3</td>\n",
              "      <td>601</td>\n",
              "    </tr>\n",
              "    <tr>\n",
              "      <th>5766</th>\n",
              "      <td>20200301</td>\n",
              "      <td>10</td>\n",
              "      <td>101</td>\n",
              "      <td>102</td>\n",
              "      <td>6</td>\n",
              "      <td>588</td>\n",
              "    </tr>\n",
              "    <tr>\n",
              "      <th>5767</th>\n",
              "      <td>20200301</td>\n",
              "      <td>10</td>\n",
              "      <td>101</td>\n",
              "      <td>102</td>\n",
              "      <td>1</td>\n",
              "      <td>557</td>\n",
              "    </tr>\n",
              "    <tr>\n",
              "      <th>5768</th>\n",
              "      <td>20200301</td>\n",
              "      <td>10</td>\n",
              "      <td>101</td>\n",
              "      <td>102</td>\n",
              "      <td>3</td>\n",
              "      <td>600</td>\n",
              "    </tr>\n",
              "  </tbody>\n",
              "</table>\n",
              "</div>"
            ],
            "text/plain": [
              "          집계일자  집계시  출발영업소코드  도착영업소코드  TCS차종구분코드  통행시간\n",
              "5764  20200301   13      101      102          6   600\n",
              "5765  20200301   13      101      102          3   601\n",
              "5766  20200301   10      101      102          6   588\n",
              "5767  20200301   10      101      102          1   557\n",
              "5768  20200301   10      101      102          3   600"
            ]
          },
          "metadata": {
            "tags": []
          },
          "execution_count": 26
        }
      ]
    },
    {
      "cell_type": "code",
      "metadata": {
        "colab": {
          "base_uri": "https://localhost:8080/",
          "height": 206
        },
        "id": "7ktanSXOYJkM",
        "outputId": "c009a141-55cb-4c60-86cf-e7c6a57e3f91"
      },
      "source": [
        "data_clean[0:5]"
      ],
      "execution_count": 27,
      "outputs": [
        {
          "output_type": "execute_result",
          "data": {
            "text/html": [
              "<div>\n",
              "<style scoped>\n",
              "    .dataframe tbody tr th:only-of-type {\n",
              "        vertical-align: middle;\n",
              "    }\n",
              "\n",
              "    .dataframe tbody tr th {\n",
              "        vertical-align: top;\n",
              "    }\n",
              "\n",
              "    .dataframe thead th {\n",
              "        text-align: right;\n",
              "    }\n",
              "</style>\n",
              "<table border=\"1\" class=\"dataframe\">\n",
              "  <thead>\n",
              "    <tr style=\"text-align: right;\">\n",
              "      <th></th>\n",
              "      <th>집계일자</th>\n",
              "      <th>집계시</th>\n",
              "      <th>출발영업소코드</th>\n",
              "      <th>도착영업소코드</th>\n",
              "      <th>TCS차종구분코드</th>\n",
              "      <th>통행시간</th>\n",
              "    </tr>\n",
              "  </thead>\n",
              "  <tbody>\n",
              "    <tr>\n",
              "      <th>5764</th>\n",
              "      <td>20200301</td>\n",
              "      <td>13</td>\n",
              "      <td>101</td>\n",
              "      <td>102</td>\n",
              "      <td>6</td>\n",
              "      <td>600</td>\n",
              "    </tr>\n",
              "    <tr>\n",
              "      <th>5765</th>\n",
              "      <td>20200301</td>\n",
              "      <td>13</td>\n",
              "      <td>101</td>\n",
              "      <td>102</td>\n",
              "      <td>3</td>\n",
              "      <td>601</td>\n",
              "    </tr>\n",
              "    <tr>\n",
              "      <th>5766</th>\n",
              "      <td>20200301</td>\n",
              "      <td>10</td>\n",
              "      <td>101</td>\n",
              "      <td>102</td>\n",
              "      <td>6</td>\n",
              "      <td>588</td>\n",
              "    </tr>\n",
              "    <tr>\n",
              "      <th>5767</th>\n",
              "      <td>20200301</td>\n",
              "      <td>10</td>\n",
              "      <td>101</td>\n",
              "      <td>102</td>\n",
              "      <td>1</td>\n",
              "      <td>557</td>\n",
              "    </tr>\n",
              "    <tr>\n",
              "      <th>5768</th>\n",
              "      <td>20200301</td>\n",
              "      <td>10</td>\n",
              "      <td>101</td>\n",
              "      <td>102</td>\n",
              "      <td>3</td>\n",
              "      <td>600</td>\n",
              "    </tr>\n",
              "  </tbody>\n",
              "</table>\n",
              "</div>"
            ],
            "text/plain": [
              "          집계일자  집계시  출발영업소코드  도착영업소코드  TCS차종구분코드  통행시간\n",
              "5764  20200301   13      101      102          6   600\n",
              "5765  20200301   13      101      102          3   601\n",
              "5766  20200301   10      101      102          6   588\n",
              "5767  20200301   10      101      102          1   557\n",
              "5768  20200301   10      101      102          3   600"
            ]
          },
          "metadata": {
            "tags": []
          },
          "execution_count": 27
        }
      ]
    },
    {
      "cell_type": "code",
      "metadata": {
        "colab": {
          "base_uri": "https://localhost:8080/",
          "height": 206
        },
        "id": "LgzPfrkoYYv_",
        "outputId": "af3ad46a-414e-4029-e3e4-d1719eb6184e"
      },
      "source": [
        "df_data = pd.DataFrame(data_clean,columns= ['집계일자','집계시','출발영업소코드','도착영업소코드','통행시간'])\n",
        "df_data.head()"
      ],
      "execution_count": 28,
      "outputs": [
        {
          "output_type": "execute_result",
          "data": {
            "text/html": [
              "<div>\n",
              "<style scoped>\n",
              "    .dataframe tbody tr th:only-of-type {\n",
              "        vertical-align: middle;\n",
              "    }\n",
              "\n",
              "    .dataframe tbody tr th {\n",
              "        vertical-align: top;\n",
              "    }\n",
              "\n",
              "    .dataframe thead th {\n",
              "        text-align: right;\n",
              "    }\n",
              "</style>\n",
              "<table border=\"1\" class=\"dataframe\">\n",
              "  <thead>\n",
              "    <tr style=\"text-align: right;\">\n",
              "      <th></th>\n",
              "      <th>집계일자</th>\n",
              "      <th>집계시</th>\n",
              "      <th>출발영업소코드</th>\n",
              "      <th>도착영업소코드</th>\n",
              "      <th>통행시간</th>\n",
              "    </tr>\n",
              "  </thead>\n",
              "  <tbody>\n",
              "    <tr>\n",
              "      <th>5764</th>\n",
              "      <td>20200301</td>\n",
              "      <td>13</td>\n",
              "      <td>101</td>\n",
              "      <td>102</td>\n",
              "      <td>600</td>\n",
              "    </tr>\n",
              "    <tr>\n",
              "      <th>5765</th>\n",
              "      <td>20200301</td>\n",
              "      <td>13</td>\n",
              "      <td>101</td>\n",
              "      <td>102</td>\n",
              "      <td>601</td>\n",
              "    </tr>\n",
              "    <tr>\n",
              "      <th>5766</th>\n",
              "      <td>20200301</td>\n",
              "      <td>10</td>\n",
              "      <td>101</td>\n",
              "      <td>102</td>\n",
              "      <td>588</td>\n",
              "    </tr>\n",
              "    <tr>\n",
              "      <th>5767</th>\n",
              "      <td>20200301</td>\n",
              "      <td>10</td>\n",
              "      <td>101</td>\n",
              "      <td>102</td>\n",
              "      <td>557</td>\n",
              "    </tr>\n",
              "    <tr>\n",
              "      <th>5768</th>\n",
              "      <td>20200301</td>\n",
              "      <td>10</td>\n",
              "      <td>101</td>\n",
              "      <td>102</td>\n",
              "      <td>600</td>\n",
              "    </tr>\n",
              "  </tbody>\n",
              "</table>\n",
              "</div>"
            ],
            "text/plain": [
              "          집계일자  집계시  출발영업소코드  도착영업소코드  통행시간\n",
              "5764  20200301   13      101      102   600\n",
              "5765  20200301   13      101      102   601\n",
              "5766  20200301   10      101      102   588\n",
              "5767  20200301   10      101      102   557\n",
              "5768  20200301   10      101      102   600"
            ]
          },
          "metadata": {
            "tags": []
          },
          "execution_count": 28
        }
      ]
    },
    {
      "cell_type": "code",
      "metadata": {
        "colab": {
          "base_uri": "https://localhost:8080/"
        },
        "id": "TfSda9Hwai7B",
        "outputId": "5dddeff8-aa4c-4f90-b131-306e3f72e584"
      },
      "source": [
        "long_distance = df_data.통행시간 > 700\n",
        "long_distance"
      ],
      "execution_count": 29,
      "outputs": [
        {
          "output_type": "execute_result",
          "data": {
            "text/plain": [
              "5764        False\n",
              "5765        False\n",
              "5766        False\n",
              "5767        False\n",
              "5768        False\n",
              "            ...  \n",
              "24149230     True\n",
              "24149231     True\n",
              "24149232     True\n",
              "24149233     True\n",
              "24149234     True\n",
              "Name: 통행시간, Length: 20231577, dtype: bool"
            ]
          },
          "metadata": {
            "tags": []
          },
          "execution_count": 29
        }
      ]
    },
    {
      "cell_type": "code",
      "metadata": {
        "colab": {
          "base_uri": "https://localhost:8080/",
          "height": 424
        },
        "id": "CZ_00BrfbXx5",
        "outputId": "659e35cc-4551-48e0-afa9-62231f91dc5a"
      },
      "source": [
        "start_from_101 = df_data[df_data.출발영업소코드 == 101]\n",
        "start_from_101"
      ],
      "execution_count": 30,
      "outputs": [
        {
          "output_type": "execute_result",
          "data": {
            "text/html": [
              "<div>\n",
              "<style scoped>\n",
              "    .dataframe tbody tr th:only-of-type {\n",
              "        vertical-align: middle;\n",
              "    }\n",
              "\n",
              "    .dataframe tbody tr th {\n",
              "        vertical-align: top;\n",
              "    }\n",
              "\n",
              "    .dataframe thead th {\n",
              "        text-align: right;\n",
              "    }\n",
              "</style>\n",
              "<table border=\"1\" class=\"dataframe\">\n",
              "  <thead>\n",
              "    <tr style=\"text-align: right;\">\n",
              "      <th></th>\n",
              "      <th>집계일자</th>\n",
              "      <th>집계시</th>\n",
              "      <th>출발영업소코드</th>\n",
              "      <th>도착영업소코드</th>\n",
              "      <th>통행시간</th>\n",
              "    </tr>\n",
              "  </thead>\n",
              "  <tbody>\n",
              "    <tr>\n",
              "      <th>5764</th>\n",
              "      <td>20200301</td>\n",
              "      <td>13</td>\n",
              "      <td>101</td>\n",
              "      <td>102</td>\n",
              "      <td>600</td>\n",
              "    </tr>\n",
              "    <tr>\n",
              "      <th>5765</th>\n",
              "      <td>20200301</td>\n",
              "      <td>13</td>\n",
              "      <td>101</td>\n",
              "      <td>102</td>\n",
              "      <td>601</td>\n",
              "    </tr>\n",
              "    <tr>\n",
              "      <th>5766</th>\n",
              "      <td>20200301</td>\n",
              "      <td>10</td>\n",
              "      <td>101</td>\n",
              "      <td>102</td>\n",
              "      <td>588</td>\n",
              "    </tr>\n",
              "    <tr>\n",
              "      <th>5767</th>\n",
              "      <td>20200301</td>\n",
              "      <td>10</td>\n",
              "      <td>101</td>\n",
              "      <td>102</td>\n",
              "      <td>557</td>\n",
              "    </tr>\n",
              "    <tr>\n",
              "      <th>5768</th>\n",
              "      <td>20200301</td>\n",
              "      <td>10</td>\n",
              "      <td>101</td>\n",
              "      <td>102</td>\n",
              "      <td>600</td>\n",
              "    </tr>\n",
              "    <tr>\n",
              "      <th>...</th>\n",
              "      <td>...</td>\n",
              "      <td>...</td>\n",
              "      <td>...</td>\n",
              "      <td>...</td>\n",
              "      <td>...</td>\n",
              "    </tr>\n",
              "    <tr>\n",
              "      <th>24148880</th>\n",
              "      <td>20200331</td>\n",
              "      <td>4</td>\n",
              "      <td>101</td>\n",
              "      <td>105</td>\n",
              "      <td>637</td>\n",
              "    </tr>\n",
              "    <tr>\n",
              "      <th>24148938</th>\n",
              "      <td>20200331</td>\n",
              "      <td>13</td>\n",
              "      <td>101</td>\n",
              "      <td>222</td>\n",
              "      <td>9437</td>\n",
              "    </tr>\n",
              "    <tr>\n",
              "      <th>24149114</th>\n",
              "      <td>20200331</td>\n",
              "      <td>15</td>\n",
              "      <td>101</td>\n",
              "      <td>237</td>\n",
              "      <td>14297</td>\n",
              "    </tr>\n",
              "    <tr>\n",
              "      <th>24149137</th>\n",
              "      <td>20200331</td>\n",
              "      <td>19</td>\n",
              "      <td>101</td>\n",
              "      <td>252</td>\n",
              "      <td>13472</td>\n",
              "    </tr>\n",
              "    <tr>\n",
              "      <th>24149223</th>\n",
              "      <td>20200331</td>\n",
              "      <td>10</td>\n",
              "      <td>101</td>\n",
              "      <td>736</td>\n",
              "      <td>2882</td>\n",
              "    </tr>\n",
              "  </tbody>\n",
              "</table>\n",
              "<p>257463 rows × 5 columns</p>\n",
              "</div>"
            ],
            "text/plain": [
              "              집계일자  집계시  출발영업소코드  도착영업소코드   통행시간\n",
              "5764      20200301   13      101      102    600\n",
              "5765      20200301   13      101      102    601\n",
              "5766      20200301   10      101      102    588\n",
              "5767      20200301   10      101      102    557\n",
              "5768      20200301   10      101      102    600\n",
              "...            ...  ...      ...      ...    ...\n",
              "24148880  20200331    4      101      105    637\n",
              "24148938  20200331   13      101      222   9437\n",
              "24149114  20200331   15      101      237  14297\n",
              "24149137  20200331   19      101      252  13472\n",
              "24149223  20200331   10      101      736   2882\n",
              "\n",
              "[257463 rows x 5 columns]"
            ]
          },
          "metadata": {
            "tags": []
          },
          "execution_count": 30
        }
      ]
    },
    {
      "cell_type": "code",
      "metadata": {
        "colab": {
          "base_uri": "https://localhost:8080/",
          "height": 424
        },
        "id": "5cK5lI40bn3C",
        "outputId": "d6b4d244-f205-49b9-a29d-1bf3200e4206"
      },
      "source": [
        "# 101,서울 105,기흥 110,목천 115,대전 120,황간 125,남구미 130,동김천 135,경주 140,부산\n",
        "start_from_101_to_140 = start_from_101[start_from_101['도착영업소코드'].isin([105, 110, 115, 120, 125, 130, 135, 140])]\n",
        "start_from_101_to_140"
      ],
      "execution_count": 31,
      "outputs": [
        {
          "output_type": "execute_result",
          "data": {
            "text/html": [
              "<div>\n",
              "<style scoped>\n",
              "    .dataframe tbody tr th:only-of-type {\n",
              "        vertical-align: middle;\n",
              "    }\n",
              "\n",
              "    .dataframe tbody tr th {\n",
              "        vertical-align: top;\n",
              "    }\n",
              "\n",
              "    .dataframe thead th {\n",
              "        text-align: right;\n",
              "    }\n",
              "</style>\n",
              "<table border=\"1\" class=\"dataframe\">\n",
              "  <thead>\n",
              "    <tr style=\"text-align: right;\">\n",
              "      <th></th>\n",
              "      <th>집계일자</th>\n",
              "      <th>집계시</th>\n",
              "      <th>출발영업소코드</th>\n",
              "      <th>도착영업소코드</th>\n",
              "      <th>통행시간</th>\n",
              "    </tr>\n",
              "  </thead>\n",
              "  <tbody>\n",
              "    <tr>\n",
              "      <th>5989</th>\n",
              "      <td>20200301</td>\n",
              "      <td>16</td>\n",
              "      <td>101</td>\n",
              "      <td>105</td>\n",
              "      <td>688</td>\n",
              "    </tr>\n",
              "    <tr>\n",
              "      <th>5990</th>\n",
              "      <td>20200301</td>\n",
              "      <td>16</td>\n",
              "      <td>101</td>\n",
              "      <td>105</td>\n",
              "      <td>735</td>\n",
              "    </tr>\n",
              "    <tr>\n",
              "      <th>5991</th>\n",
              "      <td>20200301</td>\n",
              "      <td>16</td>\n",
              "      <td>101</td>\n",
              "      <td>105</td>\n",
              "      <td>693</td>\n",
              "    </tr>\n",
              "    <tr>\n",
              "      <th>5992</th>\n",
              "      <td>20200301</td>\n",
              "      <td>16</td>\n",
              "      <td>101</td>\n",
              "      <td>105</td>\n",
              "      <td>785</td>\n",
              "    </tr>\n",
              "    <tr>\n",
              "      <th>5993</th>\n",
              "      <td>20200301</td>\n",
              "      <td>16</td>\n",
              "      <td>101</td>\n",
              "      <td>105</td>\n",
              "      <td>820</td>\n",
              "    </tr>\n",
              "    <tr>\n",
              "      <th>...</th>\n",
              "      <td>...</td>\n",
              "      <td>...</td>\n",
              "      <td>...</td>\n",
              "      <td>...</td>\n",
              "      <td>...</td>\n",
              "    </tr>\n",
              "    <tr>\n",
              "      <th>24142846</th>\n",
              "      <td>20200331</td>\n",
              "      <td>10</td>\n",
              "      <td>101</td>\n",
              "      <td>105</td>\n",
              "      <td>885</td>\n",
              "    </tr>\n",
              "    <tr>\n",
              "      <th>24143457</th>\n",
              "      <td>20200331</td>\n",
              "      <td>8</td>\n",
              "      <td>101</td>\n",
              "      <td>140</td>\n",
              "      <td>13403</td>\n",
              "    </tr>\n",
              "    <tr>\n",
              "      <th>24146239</th>\n",
              "      <td>20200331</td>\n",
              "      <td>3</td>\n",
              "      <td>101</td>\n",
              "      <td>125</td>\n",
              "      <td>7074</td>\n",
              "    </tr>\n",
              "    <tr>\n",
              "      <th>24147802</th>\n",
              "      <td>20200331</td>\n",
              "      <td>10</td>\n",
              "      <td>101</td>\n",
              "      <td>110</td>\n",
              "      <td>3598</td>\n",
              "    </tr>\n",
              "    <tr>\n",
              "      <th>24148880</th>\n",
              "      <td>20200331</td>\n",
              "      <td>4</td>\n",
              "      <td>101</td>\n",
              "      <td>105</td>\n",
              "      <td>637</td>\n",
              "    </tr>\n",
              "  </tbody>\n",
              "</table>\n",
              "<p>12711 rows × 5 columns</p>\n",
              "</div>"
            ],
            "text/plain": [
              "              집계일자  집계시  출발영업소코드  도착영업소코드   통행시간\n",
              "5989      20200301   16      101      105    688\n",
              "5990      20200301   16      101      105    735\n",
              "5991      20200301   16      101      105    693\n",
              "5992      20200301   16      101      105    785\n",
              "5993      20200301   16      101      105    820\n",
              "...            ...  ...      ...      ...    ...\n",
              "24142846  20200331   10      101      105    885\n",
              "24143457  20200331    8      101      140  13403\n",
              "24146239  20200331    3      101      125   7074\n",
              "24147802  20200331   10      101      110   3598\n",
              "24148880  20200331    4      101      105    637\n",
              "\n",
              "[12711 rows x 5 columns]"
            ]
          },
          "metadata": {
            "tags": []
          },
          "execution_count": 31
        }
      ]
    },
    {
      "cell_type": "code",
      "metadata": {
        "colab": {
          "base_uri": "https://localhost:8080/"
        },
        "id": "VnimKIVlc3Pg",
        "outputId": "a5121730-5a25-465f-812f-52eaf4c90373"
      },
      "source": [
        "start_from_101_to_140.value_counts()"
      ],
      "execution_count": 32,
      "outputs": [
        {
          "output_type": "execute_result",
          "data": {
            "text/plain": [
              "집계일자      집계시  출발영업소코드  도착영업소코드  통행시간\n",
              "20200331  13   101      110      3641    2\n",
              "20200318  9    101      105      808     2\n",
              "          16   101      105      856     2\n",
              "20200302  14   101      105      822     2\n",
              "20200307  12   101      105      734     2\n",
              "                                        ..\n",
              "20200321  13   101      110      3888    1\n",
              "                                 3655    1\n",
              "                                 3652    1\n",
              "                                 3360    1\n",
              "20200301  0    101      105      587     1\n",
              "Length: 12681, dtype: int64"
            ]
          },
          "metadata": {
            "tags": []
          },
          "execution_count": 32
        }
      ]
    },
    {
      "cell_type": "markdown",
      "metadata": {
        "id": "DdY6Rj6DeFl0"
      },
      "source": [
        "# 원하는 데이터를 추가하기\n",
        "\n",
        "* 새로운 List column\n",
        "* .loc[]\n",
        "* .assign()"
      ]
    },
    {
      "cell_type": "markdown",
      "metadata": {
        "id": "BKFX0hlkQGFN"
      },
      "source": [
        "# Convert & Insert Data\n",
        "\n",
        "### The days are numbered from 0 to 6 where 0 is Monday and 6 is Sunday.\n",
        "\n",
        "```\n",
        "https://pandas.pydata.org/pandas-docs/stable/user_guide/indexing.html#returning-a-view-versus-a-copy\n",
        "\n",
        "\n",
        "```"
      ]
    },
    {
      "cell_type": "code",
      "metadata": {
        "colab": {
          "base_uri": "https://localhost:8080/"
        },
        "id": "Ca3JzJmBdjar",
        "outputId": "093b71e1-f238-4d3f-8a42-0d32a09e322d"
      },
      "source": [
        "# 1:By declaring a new list as a column\n",
        "start_from_101_to_140['요일'] = pd.to_datetime(start_from_101_to_140['집계일자'], format= '%Y%m%d').dt.dayofweek\n"
      ],
      "execution_count": 74,
      "outputs": [
        {
          "output_type": "stream",
          "text": [
            "/usr/local/lib/python3.7/dist-packages/ipykernel_launcher.py:2: SettingWithCopyWarning: \n",
            "A value is trying to be set on a copy of a slice from a DataFrame.\n",
            "Try using .loc[row_indexer,col_indexer] = value instead\n",
            "\n",
            "See the caveats in the documentation: https://pandas.pydata.org/pandas-docs/stable/user_guide/indexing.html#returning-a-view-versus-a-copy\n",
            "  \n"
          ],
          "name": "stderr"
        }
      ]
    },
    {
      "cell_type": "code",
      "metadata": {
        "colab": {
          "base_uri": "https://localhost:8080/",
          "height": 206
        },
        "id": "GUXaBTFbSOX9",
        "outputId": "59e1ab96-cc99-4227-9b90-19b555fd32da"
      },
      "source": [
        "start_from_101_to_140.head()"
      ],
      "execution_count": 75,
      "outputs": [
        {
          "output_type": "execute_result",
          "data": {
            "text/html": [
              "<div>\n",
              "<style scoped>\n",
              "    .dataframe tbody tr th:only-of-type {\n",
              "        vertical-align: middle;\n",
              "    }\n",
              "\n",
              "    .dataframe tbody tr th {\n",
              "        vertical-align: top;\n",
              "    }\n",
              "\n",
              "    .dataframe thead th {\n",
              "        text-align: right;\n",
              "    }\n",
              "</style>\n",
              "<table border=\"1\" class=\"dataframe\">\n",
              "  <thead>\n",
              "    <tr style=\"text-align: right;\">\n",
              "      <th></th>\n",
              "      <th>집계일자</th>\n",
              "      <th>집계시</th>\n",
              "      <th>출발영업소코드</th>\n",
              "      <th>도착영업소코드</th>\n",
              "      <th>통행시간</th>\n",
              "      <th>요일</th>\n",
              "    </tr>\n",
              "  </thead>\n",
              "  <tbody>\n",
              "    <tr>\n",
              "      <th>7573</th>\n",
              "      <td>20200201</td>\n",
              "      <td>14</td>\n",
              "      <td>101</td>\n",
              "      <td>105</td>\n",
              "      <td>800</td>\n",
              "      <td>5</td>\n",
              "    </tr>\n",
              "    <tr>\n",
              "      <th>7574</th>\n",
              "      <td>20200201</td>\n",
              "      <td>14</td>\n",
              "      <td>101</td>\n",
              "      <td>105</td>\n",
              "      <td>833</td>\n",
              "      <td>5</td>\n",
              "    </tr>\n",
              "    <tr>\n",
              "      <th>7575</th>\n",
              "      <td>20200201</td>\n",
              "      <td>14</td>\n",
              "      <td>101</td>\n",
              "      <td>105</td>\n",
              "      <td>752</td>\n",
              "      <td>5</td>\n",
              "    </tr>\n",
              "    <tr>\n",
              "      <th>7576</th>\n",
              "      <td>20200201</td>\n",
              "      <td>14</td>\n",
              "      <td>101</td>\n",
              "      <td>105</td>\n",
              "      <td>832</td>\n",
              "      <td>5</td>\n",
              "    </tr>\n",
              "    <tr>\n",
              "      <th>7577</th>\n",
              "      <td>20200201</td>\n",
              "      <td>14</td>\n",
              "      <td>101</td>\n",
              "      <td>105</td>\n",
              "      <td>869</td>\n",
              "      <td>5</td>\n",
              "    </tr>\n",
              "  </tbody>\n",
              "</table>\n",
              "</div>"
            ],
            "text/plain": [
              "          집계일자  집계시  출발영업소코드  도착영업소코드  통행시간  요일\n",
              "7573  20200201   14      101      105   800   5\n",
              "7574  20200201   14      101      105   833   5\n",
              "7575  20200201   14      101      105   752   5\n",
              "7576  20200201   14      101      105   832   5\n",
              "7577  20200201   14      101      105   869   5"
            ]
          },
          "metadata": {
            "tags": []
          },
          "execution_count": 75
        }
      ]
    },
    {
      "cell_type": "code",
      "metadata": {
        "colab": {
          "base_uri": "https://localhost:8080/"
        },
        "id": "GXPS8MF0SR6q",
        "outputId": "f5d3b0ac-e6ee-428d-a2b6-a2e0c63aa351"
      },
      "source": [
        "# 2: Using.loc[]\n",
        "start_from_101_to_140.loc[:,'요일'] = pd.to_datetime(start_from_101_to_140['집계일자'],format= '%Y%m%d').dt.dayofweek"
      ],
      "execution_count": 76,
      "outputs": [
        {
          "output_type": "stream",
          "text": [
            "/usr/local/lib/python3.7/dist-packages/pandas/core/indexing.py:1781: SettingWithCopyWarning: \n",
            "A value is trying to be set on a copy of a slice from a DataFrame.\n",
            "Try using .loc[row_indexer,col_indexer] = value instead\n",
            "\n",
            "See the caveats in the documentation: https://pandas.pydata.org/pandas-docs/stable/user_guide/indexing.html#returning-a-view-versus-a-copy\n",
            "  self.obj[item_labels[indexer[info_axis]]] = value\n"
          ],
          "name": "stderr"
        }
      ]
    },
    {
      "cell_type": "code",
      "metadata": {
        "colab": {
          "base_uri": "https://localhost:8080/",
          "height": 363
        },
        "id": "8ukL0JvaTPeE",
        "outputId": "677ef976-5ac8-41e4-8ca5-6d8a16b2e028"
      },
      "source": [
        "start_from_101_to_140.head(10)"
      ],
      "execution_count": 77,
      "outputs": [
        {
          "output_type": "execute_result",
          "data": {
            "text/html": [
              "<div>\n",
              "<style scoped>\n",
              "    .dataframe tbody tr th:only-of-type {\n",
              "        vertical-align: middle;\n",
              "    }\n",
              "\n",
              "    .dataframe tbody tr th {\n",
              "        vertical-align: top;\n",
              "    }\n",
              "\n",
              "    .dataframe thead th {\n",
              "        text-align: right;\n",
              "    }\n",
              "</style>\n",
              "<table border=\"1\" class=\"dataframe\">\n",
              "  <thead>\n",
              "    <tr style=\"text-align: right;\">\n",
              "      <th></th>\n",
              "      <th>집계일자</th>\n",
              "      <th>집계시</th>\n",
              "      <th>출발영업소코드</th>\n",
              "      <th>도착영업소코드</th>\n",
              "      <th>통행시간</th>\n",
              "      <th>요일</th>\n",
              "    </tr>\n",
              "  </thead>\n",
              "  <tbody>\n",
              "    <tr>\n",
              "      <th>7573</th>\n",
              "      <td>20200201</td>\n",
              "      <td>14</td>\n",
              "      <td>101</td>\n",
              "      <td>105</td>\n",
              "      <td>800</td>\n",
              "      <td>5</td>\n",
              "    </tr>\n",
              "    <tr>\n",
              "      <th>7574</th>\n",
              "      <td>20200201</td>\n",
              "      <td>14</td>\n",
              "      <td>101</td>\n",
              "      <td>105</td>\n",
              "      <td>833</td>\n",
              "      <td>5</td>\n",
              "    </tr>\n",
              "    <tr>\n",
              "      <th>7575</th>\n",
              "      <td>20200201</td>\n",
              "      <td>14</td>\n",
              "      <td>101</td>\n",
              "      <td>105</td>\n",
              "      <td>752</td>\n",
              "      <td>5</td>\n",
              "    </tr>\n",
              "    <tr>\n",
              "      <th>7576</th>\n",
              "      <td>20200201</td>\n",
              "      <td>14</td>\n",
              "      <td>101</td>\n",
              "      <td>105</td>\n",
              "      <td>832</td>\n",
              "      <td>5</td>\n",
              "    </tr>\n",
              "    <tr>\n",
              "      <th>7577</th>\n",
              "      <td>20200201</td>\n",
              "      <td>14</td>\n",
              "      <td>101</td>\n",
              "      <td>105</td>\n",
              "      <td>869</td>\n",
              "      <td>5</td>\n",
              "    </tr>\n",
              "    <tr>\n",
              "      <th>7578</th>\n",
              "      <td>20200201</td>\n",
              "      <td>14</td>\n",
              "      <td>101</td>\n",
              "      <td>105</td>\n",
              "      <td>860</td>\n",
              "      <td>5</td>\n",
              "    </tr>\n",
              "    <tr>\n",
              "      <th>7579</th>\n",
              "      <td>20200201</td>\n",
              "      <td>19</td>\n",
              "      <td>101</td>\n",
              "      <td>105</td>\n",
              "      <td>869</td>\n",
              "      <td>5</td>\n",
              "    </tr>\n",
              "    <tr>\n",
              "      <th>7580</th>\n",
              "      <td>20200201</td>\n",
              "      <td>19</td>\n",
              "      <td>101</td>\n",
              "      <td>105</td>\n",
              "      <td>748</td>\n",
              "      <td>5</td>\n",
              "    </tr>\n",
              "    <tr>\n",
              "      <th>7581</th>\n",
              "      <td>20200201</td>\n",
              "      <td>19</td>\n",
              "      <td>101</td>\n",
              "      <td>105</td>\n",
              "      <td>863</td>\n",
              "      <td>5</td>\n",
              "    </tr>\n",
              "    <tr>\n",
              "      <th>7582</th>\n",
              "      <td>20200201</td>\n",
              "      <td>19</td>\n",
              "      <td>101</td>\n",
              "      <td>105</td>\n",
              "      <td>908</td>\n",
              "      <td>5</td>\n",
              "    </tr>\n",
              "  </tbody>\n",
              "</table>\n",
              "</div>"
            ],
            "text/plain": [
              "          집계일자  집계시  출발영업소코드  도착영업소코드  통행시간  요일\n",
              "7573  20200201   14      101      105   800   5\n",
              "7574  20200201   14      101      105   833   5\n",
              "7575  20200201   14      101      105   752   5\n",
              "7576  20200201   14      101      105   832   5\n",
              "7577  20200201   14      101      105   869   5\n",
              "7578  20200201   14      101      105   860   5\n",
              "7579  20200201   19      101      105   869   5\n",
              "7580  20200201   19      101      105   748   5\n",
              "7581  20200201   19      101      105   863   5\n",
              "7582  20200201   19      101      105   908   5"
            ]
          },
          "metadata": {
            "tags": []
          },
          "execution_count": 77
        }
      ]
    },
    {
      "cell_type": "code",
      "metadata": {
        "id": "Rb6I-57LTXXX"
      },
      "source": [
        "# 3: Using the .assing() function\n",
        "start_from_101_to_140 = start_from_101_to_140.assign(요일 = pd.to_datetime(start_from_101_to_140['집계일자'],format= '%Y%m%d').dt.dayofweek)"
      ],
      "execution_count": 33,
      "outputs": []
    },
    {
      "cell_type": "code",
      "metadata": {
        "colab": {
          "base_uri": "https://localhost:8080/",
          "height": 206
        },
        "id": "7mvjl-7xUNli",
        "outputId": "3b8a0f2e-998c-42d4-8ba9-aa006e7ee13e"
      },
      "source": [
        "start_from_101_to_140.tail()"
      ],
      "execution_count": 34,
      "outputs": [
        {
          "output_type": "execute_result",
          "data": {
            "text/html": [
              "<div>\n",
              "<style scoped>\n",
              "    .dataframe tbody tr th:only-of-type {\n",
              "        vertical-align: middle;\n",
              "    }\n",
              "\n",
              "    .dataframe tbody tr th {\n",
              "        vertical-align: top;\n",
              "    }\n",
              "\n",
              "    .dataframe thead th {\n",
              "        text-align: right;\n",
              "    }\n",
              "</style>\n",
              "<table border=\"1\" class=\"dataframe\">\n",
              "  <thead>\n",
              "    <tr style=\"text-align: right;\">\n",
              "      <th></th>\n",
              "      <th>집계일자</th>\n",
              "      <th>집계시</th>\n",
              "      <th>출발영업소코드</th>\n",
              "      <th>도착영업소코드</th>\n",
              "      <th>통행시간</th>\n",
              "      <th>요일</th>\n",
              "    </tr>\n",
              "  </thead>\n",
              "  <tbody>\n",
              "    <tr>\n",
              "      <th>24142846</th>\n",
              "      <td>20200331</td>\n",
              "      <td>10</td>\n",
              "      <td>101</td>\n",
              "      <td>105</td>\n",
              "      <td>885</td>\n",
              "      <td>1</td>\n",
              "    </tr>\n",
              "    <tr>\n",
              "      <th>24143457</th>\n",
              "      <td>20200331</td>\n",
              "      <td>8</td>\n",
              "      <td>101</td>\n",
              "      <td>140</td>\n",
              "      <td>13403</td>\n",
              "      <td>1</td>\n",
              "    </tr>\n",
              "    <tr>\n",
              "      <th>24146239</th>\n",
              "      <td>20200331</td>\n",
              "      <td>3</td>\n",
              "      <td>101</td>\n",
              "      <td>125</td>\n",
              "      <td>7074</td>\n",
              "      <td>1</td>\n",
              "    </tr>\n",
              "    <tr>\n",
              "      <th>24147802</th>\n",
              "      <td>20200331</td>\n",
              "      <td>10</td>\n",
              "      <td>101</td>\n",
              "      <td>110</td>\n",
              "      <td>3598</td>\n",
              "      <td>1</td>\n",
              "    </tr>\n",
              "    <tr>\n",
              "      <th>24148880</th>\n",
              "      <td>20200331</td>\n",
              "      <td>4</td>\n",
              "      <td>101</td>\n",
              "      <td>105</td>\n",
              "      <td>637</td>\n",
              "      <td>1</td>\n",
              "    </tr>\n",
              "  </tbody>\n",
              "</table>\n",
              "</div>"
            ],
            "text/plain": [
              "              집계일자  집계시  출발영업소코드  도착영업소코드   통행시간  요일\n",
              "24142846  20200331   10      101      105    885   1\n",
              "24143457  20200331    8      101      140  13403   1\n",
              "24146239  20200331    3      101      125   7074   1\n",
              "24147802  20200331   10      101      110   3598   1\n",
              "24148880  20200331    4      101      105    637   1"
            ]
          },
          "metadata": {
            "tags": []
          },
          "execution_count": 34
        }
      ]
    },
    {
      "cell_type": "code",
      "metadata": {
        "colab": {
          "base_uri": "https://localhost:8080/"
        },
        "id": "evol4_P3UQp7",
        "outputId": "80b12580-5fed-4f0d-d1f0-e0fc839d0fae"
      },
      "source": [
        "start_from_101_to_140.dtypes"
      ],
      "execution_count": 35,
      "outputs": [
        {
          "output_type": "execute_result",
          "data": {
            "text/plain": [
              "집계일자       int64\n",
              "집계시        int64\n",
              "출발영업소코드    int64\n",
              "도착영업소코드    int64\n",
              "통행시간       int64\n",
              "요일         int64\n",
              "dtype: object"
            ]
          },
          "metadata": {
            "tags": []
          },
          "execution_count": 35
        }
      ]
    },
    {
      "cell_type": "markdown",
      "metadata": {
        "id": "92GLHoj7VP3T"
      },
      "source": [
        "# 데이터를 사용하고자 하는 형태로 정렬,그룹\n",
        "\n",
        "* 정렬\n",
        "* 그룹"
      ]
    },
    {
      "cell_type": "markdown",
      "metadata": {
        "id": "9TmJQjy7ayhc"
      },
      "source": [
        "# Sort & Group Data"
      ]
    },
    {
      "cell_type": "code",
      "metadata": {
        "colab": {
          "base_uri": "https://localhost:8080/",
          "height": 424
        },
        "id": "RYpqoJvbUp_h",
        "outputId": "541767a4-029d-480a-ef3b-6b994b8eb1bf"
      },
      "source": [
        "start_from_101_to_140.sort_values(by=['통행시간'])"
      ],
      "execution_count": 36,
      "outputs": [
        {
          "output_type": "execute_result",
          "data": {
            "text/html": [
              "<div>\n",
              "<style scoped>\n",
              "    .dataframe tbody tr th:only-of-type {\n",
              "        vertical-align: middle;\n",
              "    }\n",
              "\n",
              "    .dataframe tbody tr th {\n",
              "        vertical-align: top;\n",
              "    }\n",
              "\n",
              "    .dataframe thead th {\n",
              "        text-align: right;\n",
              "    }\n",
              "</style>\n",
              "<table border=\"1\" class=\"dataframe\">\n",
              "  <thead>\n",
              "    <tr style=\"text-align: right;\">\n",
              "      <th></th>\n",
              "      <th>집계일자</th>\n",
              "      <th>집계시</th>\n",
              "      <th>출발영업소코드</th>\n",
              "      <th>도착영업소코드</th>\n",
              "      <th>통행시간</th>\n",
              "      <th>요일</th>\n",
              "    </tr>\n",
              "  </thead>\n",
              "  <tbody>\n",
              "    <tr>\n",
              "      <th>10834703</th>\n",
              "      <td>20200316</td>\n",
              "      <td>0</td>\n",
              "      <td>101</td>\n",
              "      <td>105</td>\n",
              "      <td>561</td>\n",
              "      <td>0</td>\n",
              "    </tr>\n",
              "    <tr>\n",
              "      <th>10829704</th>\n",
              "      <td>20200316</td>\n",
              "      <td>2</td>\n",
              "      <td>101</td>\n",
              "      <td>105</td>\n",
              "      <td>562</td>\n",
              "      <td>0</td>\n",
              "    </tr>\n",
              "    <tr>\n",
              "      <th>10834708</th>\n",
              "      <td>20200316</td>\n",
              "      <td>1</td>\n",
              "      <td>101</td>\n",
              "      <td>105</td>\n",
              "      <td>563</td>\n",
              "      <td>0</td>\n",
              "    </tr>\n",
              "    <tr>\n",
              "      <th>13149579</th>\n",
              "      <td>20200319</td>\n",
              "      <td>0</td>\n",
              "      <td>101</td>\n",
              "      <td>105</td>\n",
              "      <td>564</td>\n",
              "      <td>3</td>\n",
              "    </tr>\n",
              "    <tr>\n",
              "      <th>13150503</th>\n",
              "      <td>20200319</td>\n",
              "      <td>1</td>\n",
              "      <td>101</td>\n",
              "      <td>105</td>\n",
              "      <td>568</td>\n",
              "      <td>3</td>\n",
              "    </tr>\n",
              "    <tr>\n",
              "      <th>...</th>\n",
              "      <td>...</td>\n",
              "      <td>...</td>\n",
              "      <td>...</td>\n",
              "      <td>...</td>\n",
              "      <td>...</td>\n",
              "      <td>...</td>\n",
              "    </tr>\n",
              "    <tr>\n",
              "      <th>15229601</th>\n",
              "      <td>20200320</td>\n",
              "      <td>5</td>\n",
              "      <td>101</td>\n",
              "      <td>140</td>\n",
              "      <td>33317</td>\n",
              "      <td>4</td>\n",
              "    </tr>\n",
              "    <tr>\n",
              "      <th>11183911</th>\n",
              "      <td>20200305</td>\n",
              "      <td>6</td>\n",
              "      <td>101</td>\n",
              "      <td>135</td>\n",
              "      <td>33939</td>\n",
              "      <td>3</td>\n",
              "    </tr>\n",
              "    <tr>\n",
              "      <th>14178791</th>\n",
              "      <td>20200320</td>\n",
              "      <td>4</td>\n",
              "      <td>101</td>\n",
              "      <td>140</td>\n",
              "      <td>34689</td>\n",
              "      <td>4</td>\n",
              "    </tr>\n",
              "    <tr>\n",
              "      <th>2652834</th>\n",
              "      <td>20200305</td>\n",
              "      <td>5</td>\n",
              "      <td>101</td>\n",
              "      <td>135</td>\n",
              "      <td>35389</td>\n",
              "      <td>3</td>\n",
              "    </tr>\n",
              "    <tr>\n",
              "      <th>14178624</th>\n",
              "      <td>20200320</td>\n",
              "      <td>3</td>\n",
              "      <td>101</td>\n",
              "      <td>140</td>\n",
              "      <td>40466</td>\n",
              "      <td>4</td>\n",
              "    </tr>\n",
              "  </tbody>\n",
              "</table>\n",
              "<p>12711 rows × 6 columns</p>\n",
              "</div>"
            ],
            "text/plain": [
              "              집계일자  집계시  출발영업소코드  도착영업소코드   통행시간  요일\n",
              "10834703  20200316    0      101      105    561   0\n",
              "10829704  20200316    2      101      105    562   0\n",
              "10834708  20200316    1      101      105    563   0\n",
              "13149579  20200319    0      101      105    564   3\n",
              "13150503  20200319    1      101      105    568   3\n",
              "...            ...  ...      ...      ...    ...  ..\n",
              "15229601  20200320    5      101      140  33317   4\n",
              "11183911  20200305    6      101      135  33939   3\n",
              "14178791  20200320    4      101      140  34689   4\n",
              "2652834   20200305    5      101      135  35389   3\n",
              "14178624  20200320    3      101      140  40466   4\n",
              "\n",
              "[12711 rows x 6 columns]"
            ]
          },
          "metadata": {
            "tags": []
          },
          "execution_count": 36
        }
      ]
    },
    {
      "cell_type": "code",
      "metadata": {
        "colab": {
          "base_uri": "https://localhost:8080/",
          "height": 424
        },
        "id": "AtkQYj4WbTJM",
        "outputId": "8c4b837a-5c64-4afc-b9e8-dfc727e2baec"
      },
      "source": [
        "start_from_101_to_140.sort_values(by=['통행시간'],ascending= False)"
      ],
      "execution_count": 37,
      "outputs": [
        {
          "output_type": "execute_result",
          "data": {
            "text/html": [
              "<div>\n",
              "<style scoped>\n",
              "    .dataframe tbody tr th:only-of-type {\n",
              "        vertical-align: middle;\n",
              "    }\n",
              "\n",
              "    .dataframe tbody tr th {\n",
              "        vertical-align: top;\n",
              "    }\n",
              "\n",
              "    .dataframe thead th {\n",
              "        text-align: right;\n",
              "    }\n",
              "</style>\n",
              "<table border=\"1\" class=\"dataframe\">\n",
              "  <thead>\n",
              "    <tr style=\"text-align: right;\">\n",
              "      <th></th>\n",
              "      <th>집계일자</th>\n",
              "      <th>집계시</th>\n",
              "      <th>출발영업소코드</th>\n",
              "      <th>도착영업소코드</th>\n",
              "      <th>통행시간</th>\n",
              "      <th>요일</th>\n",
              "    </tr>\n",
              "  </thead>\n",
              "  <tbody>\n",
              "    <tr>\n",
              "      <th>14178624</th>\n",
              "      <td>20200320</td>\n",
              "      <td>3</td>\n",
              "      <td>101</td>\n",
              "      <td>140</td>\n",
              "      <td>40466</td>\n",
              "      <td>4</td>\n",
              "    </tr>\n",
              "    <tr>\n",
              "      <th>2652834</th>\n",
              "      <td>20200305</td>\n",
              "      <td>5</td>\n",
              "      <td>101</td>\n",
              "      <td>135</td>\n",
              "      <td>35389</td>\n",
              "      <td>3</td>\n",
              "    </tr>\n",
              "    <tr>\n",
              "      <th>14178791</th>\n",
              "      <td>20200320</td>\n",
              "      <td>4</td>\n",
              "      <td>101</td>\n",
              "      <td>140</td>\n",
              "      <td>34689</td>\n",
              "      <td>4</td>\n",
              "    </tr>\n",
              "    <tr>\n",
              "      <th>11183911</th>\n",
              "      <td>20200305</td>\n",
              "      <td>6</td>\n",
              "      <td>101</td>\n",
              "      <td>135</td>\n",
              "      <td>33939</td>\n",
              "      <td>3</td>\n",
              "    </tr>\n",
              "    <tr>\n",
              "      <th>15229601</th>\n",
              "      <td>20200320</td>\n",
              "      <td>5</td>\n",
              "      <td>101</td>\n",
              "      <td>140</td>\n",
              "      <td>33317</td>\n",
              "      <td>4</td>\n",
              "    </tr>\n",
              "    <tr>\n",
              "      <th>...</th>\n",
              "      <td>...</td>\n",
              "      <td>...</td>\n",
              "      <td>...</td>\n",
              "      <td>...</td>\n",
              "      <td>...</td>\n",
              "      <td>...</td>\n",
              "    </tr>\n",
              "    <tr>\n",
              "      <th>13150503</th>\n",
              "      <td>20200319</td>\n",
              "      <td>1</td>\n",
              "      <td>101</td>\n",
              "      <td>105</td>\n",
              "      <td>568</td>\n",
              "      <td>3</td>\n",
              "    </tr>\n",
              "    <tr>\n",
              "      <th>13149579</th>\n",
              "      <td>20200319</td>\n",
              "      <td>0</td>\n",
              "      <td>101</td>\n",
              "      <td>105</td>\n",
              "      <td>564</td>\n",
              "      <td>3</td>\n",
              "    </tr>\n",
              "    <tr>\n",
              "      <th>10834708</th>\n",
              "      <td>20200316</td>\n",
              "      <td>1</td>\n",
              "      <td>101</td>\n",
              "      <td>105</td>\n",
              "      <td>563</td>\n",
              "      <td>0</td>\n",
              "    </tr>\n",
              "    <tr>\n",
              "      <th>10829704</th>\n",
              "      <td>20200316</td>\n",
              "      <td>2</td>\n",
              "      <td>101</td>\n",
              "      <td>105</td>\n",
              "      <td>562</td>\n",
              "      <td>0</td>\n",
              "    </tr>\n",
              "    <tr>\n",
              "      <th>10834703</th>\n",
              "      <td>20200316</td>\n",
              "      <td>0</td>\n",
              "      <td>101</td>\n",
              "      <td>105</td>\n",
              "      <td>561</td>\n",
              "      <td>0</td>\n",
              "    </tr>\n",
              "  </tbody>\n",
              "</table>\n",
              "<p>12711 rows × 6 columns</p>\n",
              "</div>"
            ],
            "text/plain": [
              "              집계일자  집계시  출발영업소코드  도착영업소코드   통행시간  요일\n",
              "14178624  20200320    3      101      140  40466   4\n",
              "2652834   20200305    5      101      135  35389   3\n",
              "14178791  20200320    4      101      140  34689   4\n",
              "11183911  20200305    6      101      135  33939   3\n",
              "15229601  20200320    5      101      140  33317   4\n",
              "...            ...  ...      ...      ...    ...  ..\n",
              "13150503  20200319    1      101      105    568   3\n",
              "13149579  20200319    0      101      105    564   3\n",
              "10834708  20200316    1      101      105    563   0\n",
              "10829704  20200316    2      101      105    562   0\n",
              "10834703  20200316    0      101      105    561   0\n",
              "\n",
              "[12711 rows x 6 columns]"
            ]
          },
          "metadata": {
            "tags": []
          },
          "execution_count": 37
        }
      ]
    },
    {
      "cell_type": "code",
      "metadata": {
        "colab": {
          "base_uri": "https://localhost:8080/",
          "height": 424
        },
        "id": "-6NO0Z6Cb7Ed",
        "outputId": "d8f08b6e-6671-4ffc-98de-3e4c8e2af9d4"
      },
      "source": [
        "start_from_101_to_140.sort_values(by=['집계일자','집계시'])"
      ],
      "execution_count": 38,
      "outputs": [
        {
          "output_type": "execute_result",
          "data": {
            "text/html": [
              "<div>\n",
              "<style scoped>\n",
              "    .dataframe tbody tr th:only-of-type {\n",
              "        vertical-align: middle;\n",
              "    }\n",
              "\n",
              "    .dataframe tbody tr th {\n",
              "        vertical-align: top;\n",
              "    }\n",
              "\n",
              "    .dataframe thead th {\n",
              "        text-align: right;\n",
              "    }\n",
              "</style>\n",
              "<table border=\"1\" class=\"dataframe\">\n",
              "  <thead>\n",
              "    <tr style=\"text-align: right;\">\n",
              "      <th></th>\n",
              "      <th>집계일자</th>\n",
              "      <th>집계시</th>\n",
              "      <th>출발영업소코드</th>\n",
              "      <th>도착영업소코드</th>\n",
              "      <th>통행시간</th>\n",
              "      <th>요일</th>\n",
              "    </tr>\n",
              "  </thead>\n",
              "  <tbody>\n",
              "    <tr>\n",
              "      <th>6034</th>\n",
              "      <td>20200301</td>\n",
              "      <td>0</td>\n",
              "      <td>101</td>\n",
              "      <td>105</td>\n",
              "      <td>587</td>\n",
              "      <td>6</td>\n",
              "    </tr>\n",
              "    <tr>\n",
              "      <th>6035</th>\n",
              "      <td>20200301</td>\n",
              "      <td>0</td>\n",
              "      <td>101</td>\n",
              "      <td>105</td>\n",
              "      <td>740</td>\n",
              "      <td>6</td>\n",
              "    </tr>\n",
              "    <tr>\n",
              "      <th>6036</th>\n",
              "      <td>20200301</td>\n",
              "      <td>0</td>\n",
              "      <td>101</td>\n",
              "      <td>105</td>\n",
              "      <td>681</td>\n",
              "      <td>6</td>\n",
              "    </tr>\n",
              "    <tr>\n",
              "      <th>6037</th>\n",
              "      <td>20200301</td>\n",
              "      <td>0</td>\n",
              "      <td>101</td>\n",
              "      <td>105</td>\n",
              "      <td>678</td>\n",
              "      <td>6</td>\n",
              "    </tr>\n",
              "    <tr>\n",
              "      <th>6482</th>\n",
              "      <td>20200301</td>\n",
              "      <td>0</td>\n",
              "      <td>101</td>\n",
              "      <td>110</td>\n",
              "      <td>2441</td>\n",
              "      <td>6</td>\n",
              "    </tr>\n",
              "    <tr>\n",
              "      <th>...</th>\n",
              "      <td>...</td>\n",
              "      <td>...</td>\n",
              "      <td>...</td>\n",
              "      <td>...</td>\n",
              "      <td>...</td>\n",
              "      <td>...</td>\n",
              "    </tr>\n",
              "    <tr>\n",
              "      <th>23299022</th>\n",
              "      <td>20200331</td>\n",
              "      <td>23</td>\n",
              "      <td>101</td>\n",
              "      <td>110</td>\n",
              "      <td>3126</td>\n",
              "      <td>1</td>\n",
              "    </tr>\n",
              "    <tr>\n",
              "      <th>23299024</th>\n",
              "      <td>20200331</td>\n",
              "      <td>23</td>\n",
              "      <td>101</td>\n",
              "      <td>110</td>\n",
              "      <td>3730</td>\n",
              "      <td>1</td>\n",
              "    </tr>\n",
              "    <tr>\n",
              "      <th>23299433</th>\n",
              "      <td>20200331</td>\n",
              "      <td>23</td>\n",
              "      <td>101</td>\n",
              "      <td>115</td>\n",
              "      <td>5247</td>\n",
              "      <td>1</td>\n",
              "    </tr>\n",
              "    <tr>\n",
              "      <th>23299434</th>\n",
              "      <td>20200331</td>\n",
              "      <td>23</td>\n",
              "      <td>101</td>\n",
              "      <td>115</td>\n",
              "      <td>4702</td>\n",
              "      <td>1</td>\n",
              "    </tr>\n",
              "    <tr>\n",
              "      <th>23299640</th>\n",
              "      <td>20200331</td>\n",
              "      <td>23</td>\n",
              "      <td>101</td>\n",
              "      <td>125</td>\n",
              "      <td>8940</td>\n",
              "      <td>1</td>\n",
              "    </tr>\n",
              "  </tbody>\n",
              "</table>\n",
              "<p>12711 rows × 6 columns</p>\n",
              "</div>"
            ],
            "text/plain": [
              "              집계일자  집계시  출발영업소코드  도착영업소코드  통행시간  요일\n",
              "6034      20200301    0      101      105   587   6\n",
              "6035      20200301    0      101      105   740   6\n",
              "6036      20200301    0      101      105   681   6\n",
              "6037      20200301    0      101      105   678   6\n",
              "6482      20200301    0      101      110  2441   6\n",
              "...            ...  ...      ...      ...   ...  ..\n",
              "23299022  20200331   23      101      110  3126   1\n",
              "23299024  20200331   23      101      110  3730   1\n",
              "23299433  20200331   23      101      115  5247   1\n",
              "23299434  20200331   23      101      115  4702   1\n",
              "23299640  20200331   23      101      125  8940   1\n",
              "\n",
              "[12711 rows x 6 columns]"
            ]
          },
          "metadata": {
            "tags": []
          },
          "execution_count": 38
        }
      ]
    },
    {
      "cell_type": "code",
      "metadata": {
        "colab": {
          "base_uri": "https://localhost:8080/",
          "height": 424
        },
        "id": "YIo-5eHYcKfQ",
        "outputId": "ace1230b-ee4e-4bcc-f011-53a0e458a80e"
      },
      "source": [
        "start_from_101_to_140.sort_values(by=['집계일자','집계시'],ascending= False)"
      ],
      "execution_count": 39,
      "outputs": [
        {
          "output_type": "execute_result",
          "data": {
            "text/html": [
              "<div>\n",
              "<style scoped>\n",
              "    .dataframe tbody tr th:only-of-type {\n",
              "        vertical-align: middle;\n",
              "    }\n",
              "\n",
              "    .dataframe tbody tr th {\n",
              "        vertical-align: top;\n",
              "    }\n",
              "\n",
              "    .dataframe thead th {\n",
              "        text-align: right;\n",
              "    }\n",
              "</style>\n",
              "<table border=\"1\" class=\"dataframe\">\n",
              "  <thead>\n",
              "    <tr style=\"text-align: right;\">\n",
              "      <th></th>\n",
              "      <th>집계일자</th>\n",
              "      <th>집계시</th>\n",
              "      <th>출발영업소코드</th>\n",
              "      <th>도착영업소코드</th>\n",
              "      <th>통행시간</th>\n",
              "      <th>요일</th>\n",
              "    </tr>\n",
              "  </thead>\n",
              "  <tbody>\n",
              "    <tr>\n",
              "      <th>23298590</th>\n",
              "      <td>20200331</td>\n",
              "      <td>23</td>\n",
              "      <td>101</td>\n",
              "      <td>105</td>\n",
              "      <td>720</td>\n",
              "      <td>1</td>\n",
              "    </tr>\n",
              "    <tr>\n",
              "      <th>23298591</th>\n",
              "      <td>20200331</td>\n",
              "      <td>23</td>\n",
              "      <td>101</td>\n",
              "      <td>105</td>\n",
              "      <td>821</td>\n",
              "      <td>1</td>\n",
              "    </tr>\n",
              "    <tr>\n",
              "      <th>23298592</th>\n",
              "      <td>20200331</td>\n",
              "      <td>23</td>\n",
              "      <td>101</td>\n",
              "      <td>105</td>\n",
              "      <td>1392</td>\n",
              "      <td>1</td>\n",
              "    </tr>\n",
              "    <tr>\n",
              "      <th>23298593</th>\n",
              "      <td>20200331</td>\n",
              "      <td>23</td>\n",
              "      <td>101</td>\n",
              "      <td>105</td>\n",
              "      <td>803</td>\n",
              "      <td>1</td>\n",
              "    </tr>\n",
              "    <tr>\n",
              "      <th>23298595</th>\n",
              "      <td>20200331</td>\n",
              "      <td>23</td>\n",
              "      <td>101</td>\n",
              "      <td>105</td>\n",
              "      <td>774</td>\n",
              "      <td>1</td>\n",
              "    </tr>\n",
              "    <tr>\n",
              "      <th>...</th>\n",
              "      <td>...</td>\n",
              "      <td>...</td>\n",
              "      <td>...</td>\n",
              "      <td>...</td>\n",
              "      <td>...</td>\n",
              "      <td>...</td>\n",
              "    </tr>\n",
              "    <tr>\n",
              "      <th>6482</th>\n",
              "      <td>20200301</td>\n",
              "      <td>0</td>\n",
              "      <td>101</td>\n",
              "      <td>110</td>\n",
              "      <td>2441</td>\n",
              "      <td>6</td>\n",
              "    </tr>\n",
              "    <tr>\n",
              "      <th>6483</th>\n",
              "      <td>20200301</td>\n",
              "      <td>0</td>\n",
              "      <td>101</td>\n",
              "      <td>110</td>\n",
              "      <td>3686</td>\n",
              "      <td>6</td>\n",
              "    </tr>\n",
              "    <tr>\n",
              "      <th>6731</th>\n",
              "      <td>20200301</td>\n",
              "      <td>0</td>\n",
              "      <td>101</td>\n",
              "      <td>115</td>\n",
              "      <td>5177</td>\n",
              "      <td>6</td>\n",
              "    </tr>\n",
              "    <tr>\n",
              "      <th>6732</th>\n",
              "      <td>20200301</td>\n",
              "      <td>0</td>\n",
              "      <td>101</td>\n",
              "      <td>115</td>\n",
              "      <td>4534</td>\n",
              "      <td>6</td>\n",
              "    </tr>\n",
              "    <tr>\n",
              "      <th>7155</th>\n",
              "      <td>20200301</td>\n",
              "      <td>0</td>\n",
              "      <td>101</td>\n",
              "      <td>140</td>\n",
              "      <td>12281</td>\n",
              "      <td>6</td>\n",
              "    </tr>\n",
              "  </tbody>\n",
              "</table>\n",
              "<p>12711 rows × 6 columns</p>\n",
              "</div>"
            ],
            "text/plain": [
              "              집계일자  집계시  출발영업소코드  도착영업소코드   통행시간  요일\n",
              "23298590  20200331   23      101      105    720   1\n",
              "23298591  20200331   23      101      105    821   1\n",
              "23298592  20200331   23      101      105   1392   1\n",
              "23298593  20200331   23      101      105    803   1\n",
              "23298595  20200331   23      101      105    774   1\n",
              "...            ...  ...      ...      ...    ...  ..\n",
              "6482      20200301    0      101      110   2441   6\n",
              "6483      20200301    0      101      110   3686   6\n",
              "6731      20200301    0      101      115   5177   6\n",
              "6732      20200301    0      101      115   4534   6\n",
              "7155      20200301    0      101      140  12281   6\n",
              "\n",
              "[12711 rows x 6 columns]"
            ]
          },
          "metadata": {
            "tags": []
          },
          "execution_count": 39
        }
      ]
    },
    {
      "cell_type": "code",
      "metadata": {
        "colab": {
          "base_uri": "https://localhost:8080/",
          "height": 332
        },
        "id": "QtzuFCiicswR",
        "outputId": "f6afbddf-281e-4859-ad56-0f4a66a1335c"
      },
      "source": [
        "start_from_101_to_140.groupby(start_from_101_to_140['도착영업소코드']).mean()"
      ],
      "execution_count": 40,
      "outputs": [
        {
          "output_type": "execute_result",
          "data": {
            "text/html": [
              "<div>\n",
              "<style scoped>\n",
              "    .dataframe tbody tr th:only-of-type {\n",
              "        vertical-align: middle;\n",
              "    }\n",
              "\n",
              "    .dataframe tbody tr th {\n",
              "        vertical-align: top;\n",
              "    }\n",
              "\n",
              "    .dataframe thead th {\n",
              "        text-align: right;\n",
              "    }\n",
              "</style>\n",
              "<table border=\"1\" class=\"dataframe\">\n",
              "  <thead>\n",
              "    <tr style=\"text-align: right;\">\n",
              "      <th></th>\n",
              "      <th>집계일자</th>\n",
              "      <th>집계시</th>\n",
              "      <th>출발영업소코드</th>\n",
              "      <th>통행시간</th>\n",
              "      <th>요일</th>\n",
              "    </tr>\n",
              "    <tr>\n",
              "      <th>도착영업소코드</th>\n",
              "      <th></th>\n",
              "      <th></th>\n",
              "      <th></th>\n",
              "      <th></th>\n",
              "      <th></th>\n",
              "    </tr>\n",
              "  </thead>\n",
              "  <tbody>\n",
              "    <tr>\n",
              "      <th>105</th>\n",
              "      <td>2.020032e+07</td>\n",
              "      <td>11.522230</td>\n",
              "      <td>101.0</td>\n",
              "      <td>825.543637</td>\n",
              "      <td>2.865443</td>\n",
              "    </tr>\n",
              "    <tr>\n",
              "      <th>110</th>\n",
              "      <td>2.020032e+07</td>\n",
              "      <td>11.493748</td>\n",
              "      <td>101.0</td>\n",
              "      <td>3402.957609</td>\n",
              "      <td>2.689844</td>\n",
              "    </tr>\n",
              "    <tr>\n",
              "      <th>115</th>\n",
              "      <td>2.020032e+07</td>\n",
              "      <td>11.915951</td>\n",
              "      <td>101.0</td>\n",
              "      <td>5378.971532</td>\n",
              "      <td>2.896972</td>\n",
              "    </tr>\n",
              "    <tr>\n",
              "      <th>120</th>\n",
              "      <td>2.020032e+07</td>\n",
              "      <td>13.301010</td>\n",
              "      <td>101.0</td>\n",
              "      <td>7507.163636</td>\n",
              "      <td>3.040404</td>\n",
              "    </tr>\n",
              "    <tr>\n",
              "      <th>125</th>\n",
              "      <td>2.020032e+07</td>\n",
              "      <td>12.861456</td>\n",
              "      <td>101.0</td>\n",
              "      <td>8989.323268</td>\n",
              "      <td>2.754885</td>\n",
              "    </tr>\n",
              "    <tr>\n",
              "      <th>130</th>\n",
              "      <td>2.020032e+07</td>\n",
              "      <td>13.462400</td>\n",
              "      <td>101.0</td>\n",
              "      <td>8425.878400</td>\n",
              "      <td>2.780800</td>\n",
              "    </tr>\n",
              "    <tr>\n",
              "      <th>135</th>\n",
              "      <td>2.020032e+07</td>\n",
              "      <td>13.445065</td>\n",
              "      <td>101.0</td>\n",
              "      <td>12966.087523</td>\n",
              "      <td>3.057728</td>\n",
              "    </tr>\n",
              "    <tr>\n",
              "      <th>140</th>\n",
              "      <td>2.020032e+07</td>\n",
              "      <td>12.237968</td>\n",
              "      <td>101.0</td>\n",
              "      <td>15117.600267</td>\n",
              "      <td>2.889037</td>\n",
              "    </tr>\n",
              "  </tbody>\n",
              "</table>\n",
              "</div>"
            ],
            "text/plain": [
              "                 집계일자        집계시  출발영업소코드          통행시간        요일\n",
              "도착영업소코드                                                          \n",
              "105      2.020032e+07  11.522230    101.0    825.543637  2.865443\n",
              "110      2.020032e+07  11.493748    101.0   3402.957609  2.689844\n",
              "115      2.020032e+07  11.915951    101.0   5378.971532  2.896972\n",
              "120      2.020032e+07  13.301010    101.0   7507.163636  3.040404\n",
              "125      2.020032e+07  12.861456    101.0   8989.323268  2.754885\n",
              "130      2.020032e+07  13.462400    101.0   8425.878400  2.780800\n",
              "135      2.020032e+07  13.445065    101.0  12966.087523  3.057728\n",
              "140      2.020032e+07  12.237968    101.0  15117.600267  2.889037"
            ]
          },
          "metadata": {
            "tags": []
          },
          "execution_count": 40
        }
      ]
    },
    {
      "cell_type": "code",
      "metadata": {
        "colab": {
          "base_uri": "https://localhost:8080/"
        },
        "id": "55bqOrGcc5WO",
        "outputId": "94b1b829-8e68-49a5-e6f0-c7cd5c99c6a5"
      },
      "source": [
        "start_from_101_to_140['통행시간'].groupby(start_from_101_to_140['도착영업소코드']).mean()"
      ],
      "execution_count": 41,
      "outputs": [
        {
          "output_type": "execute_result",
          "data": {
            "text/plain": [
              "도착영업소코드\n",
              "105      825.543637\n",
              "110     3402.957609\n",
              "115     5378.971532\n",
              "120     7507.163636\n",
              "125     8989.323268\n",
              "130     8425.878400\n",
              "135    12966.087523\n",
              "140    15117.600267\n",
              "Name: 통행시간, dtype: float64"
            ]
          },
          "metadata": {
            "tags": []
          },
          "execution_count": 41
        }
      ]
    },
    {
      "cell_type": "code",
      "metadata": {
        "id": "bPYwxRRsdV4m"
      },
      "source": [
        "groupby_destination = start_from_101_to_140['통행시간'].groupby(start_from_101_to_140['도착영업소코드'])"
      ],
      "execution_count": 43,
      "outputs": []
    },
    {
      "cell_type": "code",
      "metadata": {
        "colab": {
          "base_uri": "https://localhost:8080/"
        },
        "id": "tWwpXWIld-L3",
        "outputId": "ccd2f00e-76ab-4372-a5bf-f81c4b6acdb1"
      },
      "source": [
        "groupby_destination.size()"
      ],
      "execution_count": 44,
      "outputs": [
        {
          "output_type": "execute_result",
          "data": {
            "text/plain": [
              "도착영업소코드\n",
              "105    4251\n",
              "110    3279\n",
              "115    2213\n",
              "120     495\n",
              "125     563\n",
              "130     625\n",
              "135     537\n",
              "140     748\n",
              "Name: 통행시간, dtype: int64"
            ]
          },
          "metadata": {
            "tags": []
          },
          "execution_count": 44
        }
      ]
    },
    {
      "cell_type": "code",
      "metadata": {
        "colab": {
          "base_uri": "https://localhost:8080/"
        },
        "id": "IMjUZYwDeA8y",
        "outputId": "0b678832-8dc2-44af-c09a-ccc1f0a16c6d"
      },
      "source": [
        "groupby_destination.sum()"
      ],
      "execution_count": 45,
      "outputs": [
        {
          "output_type": "execute_result",
          "data": {
            "text/plain": [
              "도착영업소코드\n",
              "105     3509386\n",
              "110    11158298\n",
              "115    11903664\n",
              "120     3716046\n",
              "125     5060989\n",
              "130     5266174\n",
              "135     6962789\n",
              "140    11307965\n",
              "Name: 통행시간, dtype: int64"
            ]
          },
          "metadata": {
            "tags": []
          },
          "execution_count": 45
        }
      ]
    },
    {
      "cell_type": "code",
      "metadata": {
        "colab": {
          "base_uri": "https://localhost:8080/"
        },
        "id": "8eOt0vdheG7s",
        "outputId": "6739babf-dbe7-4a55-c7b6-b0f0d3747070"
      },
      "source": [
        "groupby_destination.mean()"
      ],
      "execution_count": 46,
      "outputs": [
        {
          "output_type": "execute_result",
          "data": {
            "text/plain": [
              "도착영업소코드\n",
              "105      825.543637\n",
              "110     3402.957609\n",
              "115     5378.971532\n",
              "120     7507.163636\n",
              "125     8989.323268\n",
              "130     8425.878400\n",
              "135    12966.087523\n",
              "140    15117.600267\n",
              "Name: 통행시간, dtype: float64"
            ]
          },
          "metadata": {
            "tags": []
          },
          "execution_count": 46
        }
      ]
    },
    {
      "cell_type": "code",
      "metadata": {
        "colab": {
          "base_uri": "https://localhost:8080/"
        },
        "id": "mjyCzQ2_eLz6",
        "outputId": "fe832748-e6d7-45b6-8d68-e9cc428cc7f9"
      },
      "source": [
        "groupby_destination.max()"
      ],
      "execution_count": 47,
      "outputs": [
        {
          "output_type": "execute_result",
          "data": {
            "text/plain": [
              "도착영업소코드\n",
              "105     2439\n",
              "110    11495\n",
              "115    25280\n",
              "120    17555\n",
              "125    21865\n",
              "130    21778\n",
              "135    35389\n",
              "140    40466\n",
              "Name: 통행시간, dtype: int64"
            ]
          },
          "metadata": {
            "tags": []
          },
          "execution_count": 47
        }
      ]
    },
    {
      "cell_type": "code",
      "metadata": {
        "colab": {
          "base_uri": "https://localhost:8080/"
        },
        "id": "J85tsBkdeP5_",
        "outputId": "76af682a-ff8c-4a9f-c3a6-281b02fbccd7"
      },
      "source": [
        "groupby_destination.min()"
      ],
      "execution_count": 48,
      "outputs": [
        {
          "output_type": "execute_result",
          "data": {
            "text/plain": [
              "도착영업소코드\n",
              "105     561\n",
              "110    2182\n",
              "115    3835\n",
              "120    5758\n",
              "125    5307\n",
              "130    6325\n",
              "135    8126\n",
              "140    9358\n",
              "Name: 통행시간, dtype: int64"
            ]
          },
          "metadata": {
            "tags": []
          },
          "execution_count": 48
        }
      ]
    },
    {
      "cell_type": "markdown",
      "metadata": {
        "id": "y2XMM9riebcM"
      },
      "source": [
        "# 가공한 데이터를 저장하기\n",
        "\n",
        "* 데이터 저장\n",
        "* 데이터 취합"
      ]
    },
    {
      "cell_type": "markdown",
      "metadata": {
        "id": "7TicTh7DCbFi"
      },
      "source": [
        "# Save Data"
      ]
    },
    {
      "cell_type": "code",
      "metadata": {
        "id": "PlfX9eZSeWqN"
      },
      "source": [
        "output = '/MyDrive/MyDrive/MyData/TCS_202003.csv'\n",
        "start_from_101_to_140.to_csv(output, index= None, header= True)"
      ],
      "execution_count": 49,
      "outputs": []
    },
    {
      "cell_type": "code",
      "metadata": {
        "colab": {
          "base_uri": "https://localhost:8080/"
        },
        "id": "acvzmtxgCscL",
        "outputId": "0c6e430f-df74-43b7-b156-3d1285c7a022"
      },
      "source": [
        "!ls -al '/MyDrive/MyDrive/MyData/TCS_202003.csv'"
      ],
      "execution_count": 50,
      "outputs": [
        {
          "output_type": "stream",
          "text": [
            "-rw------- 1 root root 335953 May 11 01:49 /MyDrive/MyDrive/MyData/TCS_202003.csv\n"
          ],
          "name": "stdout"
        }
      ]
    },
    {
      "cell_type": "markdown",
      "metadata": {
        "id": "Dl2oWEzVIbmH"
      },
      "source": [
        "# Merge Data\n"
      ]
    },
    {
      "cell_type": "code",
      "metadata": {
        "id": "nv2H7g0IC-uu"
      },
      "source": [
        "data_202001 = pd.read_csv('/MyDrive/MyDrive/MyData/TCS_202001.csv')\n",
        "data_202002 = pd.read_csv('/MyDrive/MyDrive/MyData/TCS_202002.csv')\n",
        "data_202003 = pd.read_csv('/MyDrive/MyDrive/MyData/TCS_202003.csv')"
      ],
      "execution_count": 53,
      "outputs": []
    },
    {
      "cell_type": "code",
      "metadata": {
        "id": "jIhBPN2aJ7dc"
      },
      "source": [
        "data_2020 = pd.concat([data_202001, data_202002, data_202003], ignore_index= True, sort= False)"
      ],
      "execution_count": 54,
      "outputs": []
    },
    {
      "cell_type": "code",
      "metadata": {
        "colab": {
          "base_uri": "https://localhost:8080/",
          "height": 206
        },
        "id": "9FqJuopVJ-rF",
        "outputId": "d24b5942-6e78-435d-c2f0-642a11fcaa55"
      },
      "source": [
        "data_2020.head()"
      ],
      "execution_count": 55,
      "outputs": [
        {
          "output_type": "execute_result",
          "data": {
            "text/html": [
              "<div>\n",
              "<style scoped>\n",
              "    .dataframe tbody tr th:only-of-type {\n",
              "        vertical-align: middle;\n",
              "    }\n",
              "\n",
              "    .dataframe tbody tr th {\n",
              "        vertical-align: top;\n",
              "    }\n",
              "\n",
              "    .dataframe thead th {\n",
              "        text-align: right;\n",
              "    }\n",
              "</style>\n",
              "<table border=\"1\" class=\"dataframe\">\n",
              "  <thead>\n",
              "    <tr style=\"text-align: right;\">\n",
              "      <th></th>\n",
              "      <th>집계일자</th>\n",
              "      <th>집계시</th>\n",
              "      <th>출발영업소코드</th>\n",
              "      <th>도착영업소코드</th>\n",
              "      <th>통행시간</th>\n",
              "      <th>요일</th>\n",
              "    </tr>\n",
              "  </thead>\n",
              "  <tbody>\n",
              "    <tr>\n",
              "      <th>0</th>\n",
              "      <td>20200101</td>\n",
              "      <td>4</td>\n",
              "      <td>101</td>\n",
              "      <td>105</td>\n",
              "      <td>637</td>\n",
              "      <td>2</td>\n",
              "    </tr>\n",
              "    <tr>\n",
              "      <th>1</th>\n",
              "      <td>20200101</td>\n",
              "      <td>4</td>\n",
              "      <td>101</td>\n",
              "      <td>105</td>\n",
              "      <td>773</td>\n",
              "      <td>2</td>\n",
              "    </tr>\n",
              "    <tr>\n",
              "      <th>2</th>\n",
              "      <td>20200101</td>\n",
              "      <td>4</td>\n",
              "      <td>101</td>\n",
              "      <td>105</td>\n",
              "      <td>762</td>\n",
              "      <td>2</td>\n",
              "    </tr>\n",
              "    <tr>\n",
              "      <th>3</th>\n",
              "      <td>20200101</td>\n",
              "      <td>4</td>\n",
              "      <td>101</td>\n",
              "      <td>105</td>\n",
              "      <td>746</td>\n",
              "      <td>2</td>\n",
              "    </tr>\n",
              "    <tr>\n",
              "      <th>4</th>\n",
              "      <td>20200101</td>\n",
              "      <td>4</td>\n",
              "      <td>101</td>\n",
              "      <td>105</td>\n",
              "      <td>875</td>\n",
              "      <td>2</td>\n",
              "    </tr>\n",
              "  </tbody>\n",
              "</table>\n",
              "</div>"
            ],
            "text/plain": [
              "       집계일자  집계시  출발영업소코드  도착영업소코드  통행시간  요일\n",
              "0  20200101    4      101      105   637   2\n",
              "1  20200101    4      101      105   773   2\n",
              "2  20200101    4      101      105   762   2\n",
              "3  20200101    4      101      105   746   2\n",
              "4  20200101    4      101      105   875   2"
            ]
          },
          "metadata": {
            "tags": []
          },
          "execution_count": 55
        }
      ]
    },
    {
      "cell_type": "code",
      "metadata": {
        "colab": {
          "base_uri": "https://localhost:8080/",
          "height": 206
        },
        "id": "AORoC4dYKwQS",
        "outputId": "28622cd3-4447-47e7-ff4b-c75505b1a9c1"
      },
      "source": [
        "data_2020.tail()"
      ],
      "execution_count": 56,
      "outputs": [
        {
          "output_type": "execute_result",
          "data": {
            "text/html": [
              "<div>\n",
              "<style scoped>\n",
              "    .dataframe tbody tr th:only-of-type {\n",
              "        vertical-align: middle;\n",
              "    }\n",
              "\n",
              "    .dataframe tbody tr th {\n",
              "        vertical-align: top;\n",
              "    }\n",
              "\n",
              "    .dataframe thead th {\n",
              "        text-align: right;\n",
              "    }\n",
              "</style>\n",
              "<table border=\"1\" class=\"dataframe\">\n",
              "  <thead>\n",
              "    <tr style=\"text-align: right;\">\n",
              "      <th></th>\n",
              "      <th>집계일자</th>\n",
              "      <th>집계시</th>\n",
              "      <th>출발영업소코드</th>\n",
              "      <th>도착영업소코드</th>\n",
              "      <th>통행시간</th>\n",
              "      <th>요일</th>\n",
              "    </tr>\n",
              "  </thead>\n",
              "  <tbody>\n",
              "    <tr>\n",
              "      <th>37351</th>\n",
              "      <td>20200331</td>\n",
              "      <td>10</td>\n",
              "      <td>101</td>\n",
              "      <td>105</td>\n",
              "      <td>885</td>\n",
              "      <td>1</td>\n",
              "    </tr>\n",
              "    <tr>\n",
              "      <th>37352</th>\n",
              "      <td>20200331</td>\n",
              "      <td>8</td>\n",
              "      <td>101</td>\n",
              "      <td>140</td>\n",
              "      <td>13403</td>\n",
              "      <td>1</td>\n",
              "    </tr>\n",
              "    <tr>\n",
              "      <th>37353</th>\n",
              "      <td>20200331</td>\n",
              "      <td>3</td>\n",
              "      <td>101</td>\n",
              "      <td>125</td>\n",
              "      <td>7074</td>\n",
              "      <td>1</td>\n",
              "    </tr>\n",
              "    <tr>\n",
              "      <th>37354</th>\n",
              "      <td>20200331</td>\n",
              "      <td>10</td>\n",
              "      <td>101</td>\n",
              "      <td>110</td>\n",
              "      <td>3598</td>\n",
              "      <td>1</td>\n",
              "    </tr>\n",
              "    <tr>\n",
              "      <th>37355</th>\n",
              "      <td>20200331</td>\n",
              "      <td>4</td>\n",
              "      <td>101</td>\n",
              "      <td>105</td>\n",
              "      <td>637</td>\n",
              "      <td>1</td>\n",
              "    </tr>\n",
              "  </tbody>\n",
              "</table>\n",
              "</div>"
            ],
            "text/plain": [
              "           집계일자  집계시  출발영업소코드  도착영업소코드   통행시간  요일\n",
              "37351  20200331   10      101      105    885   1\n",
              "37352  20200331    8      101      140  13403   1\n",
              "37353  20200331    3      101      125   7074   1\n",
              "37354  20200331   10      101      110   3598   1\n",
              "37355  20200331    4      101      105    637   1"
            ]
          },
          "metadata": {
            "tags": []
          },
          "execution_count": 56
        }
      ]
    },
    {
      "cell_type": "code",
      "metadata": {
        "id": "FWe8si6YKy2I"
      },
      "source": [
        "data_2020_by_time = data_2020 = pd.concat([data_202001, data_202002, data_202003], ignore_index= True, sort= False).set_index('통행시간')"
      ],
      "execution_count": 57,
      "outputs": []
    },
    {
      "cell_type": "code",
      "metadata": {
        "colab": {
          "base_uri": "https://localhost:8080/",
          "height": 238
        },
        "id": "w_qMwPzMLMjM",
        "outputId": "adbf784b-d96e-46d3-e0b7-b70c4ca7c29d"
      },
      "source": [
        "data_2020_by_time.head()"
      ],
      "execution_count": 58,
      "outputs": [
        {
          "output_type": "execute_result",
          "data": {
            "text/html": [
              "<div>\n",
              "<style scoped>\n",
              "    .dataframe tbody tr th:only-of-type {\n",
              "        vertical-align: middle;\n",
              "    }\n",
              "\n",
              "    .dataframe tbody tr th {\n",
              "        vertical-align: top;\n",
              "    }\n",
              "\n",
              "    .dataframe thead th {\n",
              "        text-align: right;\n",
              "    }\n",
              "</style>\n",
              "<table border=\"1\" class=\"dataframe\">\n",
              "  <thead>\n",
              "    <tr style=\"text-align: right;\">\n",
              "      <th></th>\n",
              "      <th>집계일자</th>\n",
              "      <th>집계시</th>\n",
              "      <th>출발영업소코드</th>\n",
              "      <th>도착영업소코드</th>\n",
              "      <th>요일</th>\n",
              "    </tr>\n",
              "    <tr>\n",
              "      <th>통행시간</th>\n",
              "      <th></th>\n",
              "      <th></th>\n",
              "      <th></th>\n",
              "      <th></th>\n",
              "      <th></th>\n",
              "    </tr>\n",
              "  </thead>\n",
              "  <tbody>\n",
              "    <tr>\n",
              "      <th>637</th>\n",
              "      <td>20200101</td>\n",
              "      <td>4</td>\n",
              "      <td>101</td>\n",
              "      <td>105</td>\n",
              "      <td>2</td>\n",
              "    </tr>\n",
              "    <tr>\n",
              "      <th>773</th>\n",
              "      <td>20200101</td>\n",
              "      <td>4</td>\n",
              "      <td>101</td>\n",
              "      <td>105</td>\n",
              "      <td>2</td>\n",
              "    </tr>\n",
              "    <tr>\n",
              "      <th>762</th>\n",
              "      <td>20200101</td>\n",
              "      <td>4</td>\n",
              "      <td>101</td>\n",
              "      <td>105</td>\n",
              "      <td>2</td>\n",
              "    </tr>\n",
              "    <tr>\n",
              "      <th>746</th>\n",
              "      <td>20200101</td>\n",
              "      <td>4</td>\n",
              "      <td>101</td>\n",
              "      <td>105</td>\n",
              "      <td>2</td>\n",
              "    </tr>\n",
              "    <tr>\n",
              "      <th>875</th>\n",
              "      <td>20200101</td>\n",
              "      <td>4</td>\n",
              "      <td>101</td>\n",
              "      <td>105</td>\n",
              "      <td>2</td>\n",
              "    </tr>\n",
              "  </tbody>\n",
              "</table>\n",
              "</div>"
            ],
            "text/plain": [
              "          집계일자  집계시  출발영업소코드  도착영업소코드  요일\n",
              "통행시간                                     \n",
              "637   20200101    4      101      105   2\n",
              "773   20200101    4      101      105   2\n",
              "762   20200101    4      101      105   2\n",
              "746   20200101    4      101      105   2\n",
              "875   20200101    4      101      105   2"
            ]
          },
          "metadata": {
            "tags": []
          },
          "execution_count": 58
        }
      ]
    },
    {
      "cell_type": "code",
      "metadata": {
        "id": "Vq1lsMUkLRbW"
      },
      "source": [
        "final = '/MyDrive/MyDrive/MyData/TCS_2020.csv'\n",
        "data_2020.to_csv(final, index= None, header= True)"
      ],
      "execution_count": 59,
      "outputs": []
    },
    {
      "cell_type": "code",
      "metadata": {
        "colab": {
          "base_uri": "https://localhost:8080/"
        },
        "id": "GC1dmjPHLy5W",
        "outputId": "3d9f4a59-aff5-4fc3-f79c-cc85fa57e04f"
      },
      "source": [
        "!ls -al '/MyDrive/MyDrive/MyData/TCS_2020.csv'"
      ],
      "execution_count": 62,
      "outputs": [
        {
          "output_type": "stream",
          "text": [
            "-rw------- 1 root root 807644 May 11 02:08 /MyDrive/MyDrive/MyData/TCS_2020.csv\n"
          ],
          "name": "stdout"
        }
      ]
    },
    {
      "cell_type": "code",
      "metadata": {
        "id": "7Fop7BKpL6qV"
      },
      "source": [
        ""
      ],
      "execution_count": null,
      "outputs": []
    }
  ]
}