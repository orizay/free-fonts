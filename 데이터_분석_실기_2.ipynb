{
  "nbformat": 4,
  "nbformat_minor": 0,
  "metadata": {
    "colab": {
      "name": "데이터 분석 실기-2.ipynb",
      "provenance": [],
      "authorship_tag": "ABX9TyMvWbgMBsU8BD+rJGnThc+u",
      "include_colab_link": true
    },
    "kernelspec": {
      "name": "python3",
      "display_name": "Python 3"
    },
    "language_info": {
      "name": "python"
    }
  },
  "cells": [
    {
      "cell_type": "markdown",
      "metadata": {
        "id": "view-in-github",
        "colab_type": "text"
      },
      "source": [
        "<a href=\"https://colab.research.google.com/github/orizay/free-fonts/blob/master/%EB%8D%B0%EC%9D%B4%ED%84%B0_%EB%B6%84%EC%84%9D_%EC%8B%A4%EA%B8%B0_2.ipynb\" target=\"_parent\"><img src=\"https://colab.research.google.com/assets/colab-badge.svg\" alt=\"Open In Colab\"/></a>"
      ]
    },
    {
      "cell_type": "markdown",
      "metadata": {
        "id": "Xp5onc40hHg5"
      },
      "source": [
        "#1. 파일 다운(drinks.csv)"
      ]
    },
    {
      "cell_type": "code",
      "metadata": {
        "colab": {
          "base_uri": "https://localhost:8080/"
        },
        "id": "lKKmTbckhT-I",
        "outputId": "d8632d1d-2ec8-4bad-c906-397536c6c7e4"
      },
      "source": [
        "!git clone https://github.com/Soyoung-Yoon/data_01"
      ],
      "execution_count": 1,
      "outputs": [
        {
          "output_type": "stream",
          "name": "stdout",
          "text": [
            "Cloning into 'data_01'...\n",
            "remote: Enumerating objects: 47, done.\u001b[K\n",
            "remote: Counting objects: 100% (47/47), done.\u001b[K\n",
            "remote: Compressing objects: 100% (47/47), done.\u001b[K\n",
            "remote: Total 47 (delta 15), reused 0 (delta 0), pack-reused 0\u001b[K\n",
            "Unpacking objects: 100% (47/47), done.\n"
          ]
        }
      ]
    },
    {
      "cell_type": "markdown",
      "metadata": {
        "id": "kx9BjdK_iE_J"
      },
      "source": [
        "#2. Colab에서 한글폰트 사용하기"
      ]
    },
    {
      "cell_type": "markdown",
      "metadata": {
        "id": "U33GcMFniNZR"
      },
      "source": [
        "# 3.알코올을 가장 많이 마히는 나라는?\n",
        "- country: 국가명\n",
        "- beer_servings: 맥주 소비량\n",
        "- spirit_servings: 중류주 소비량(독주,알코올 함량 20%이상의 설탕을 첨가하지 않은 중류주)\n",
        "- wine_servings: 와인 소비량\n",
        "- total_litres_of_pure_alcohol: 순수 알코올\n",
        "- continent: 대륙"
      ]
    },
    {
      "cell_type": "code",
      "metadata": {
        "id": "Zw5sYBuHhc4T"
      },
      "source": [
        "#[2-0] 라이브러리 import\n",
        "import pandas as pd"
      ],
      "execution_count": 2,
      "outputs": []
    },
    {
      "cell_type": "markdown",
      "metadata": {
        "id": "nieqxMHCjSAe"
      },
      "source": [
        "# 3-1.파일 가져오기\n",
        "- csv 파일은 컬럼 구분이 콤마(,)로 이루어진 파일\n",
        "- df = pd.read_csv(파일이름): csv 형식의 파일을 읽어 DataFrame객체로 가져옴\n",
        "- DataFrame.to_csv(파일이름,index=True): DataFrame은 csv 파일로 저장\n",
        "  - index는 제외하고 저장하기 위해서는 index=False로 지정"
      ]
    },
    {
      "cell_type": "code",
      "metadata": {
        "id": "yfKK0qc_jPJ6"
      },
      "source": [
        "#[2-1]drink.csv 파일을 DataFrame으로 불러 오기 합니다\n",
        "df = pd.read_csv('data_01/drinks.csv')"
      ],
      "execution_count": 3,
      "outputs": []
    },
    {
      "cell_type": "code",
      "metadata": {
        "colab": {
          "base_uri": "https://localhost:8080/",
          "height": 204
        },
        "id": "LYLr4j9IkRbi",
        "outputId": "f4f30a82-7433-4e4a-b388-7559868eb130"
      },
      "source": [
        "#[2-2]df의 데이터 모습을 확인하기 위해 첫 5개 데이터를 출력합니다\n",
        "df.head()"
      ],
      "execution_count": 4,
      "outputs": [
        {
          "output_type": "execute_result",
          "data": {
            "text/html": [
              "<div>\n",
              "<style scoped>\n",
              "    .dataframe tbody tr th:only-of-type {\n",
              "        vertical-align: middle;\n",
              "    }\n",
              "\n",
              "    .dataframe tbody tr th {\n",
              "        vertical-align: top;\n",
              "    }\n",
              "\n",
              "    .dataframe thead th {\n",
              "        text-align: right;\n",
              "    }\n",
              "</style>\n",
              "<table border=\"1\" class=\"dataframe\">\n",
              "  <thead>\n",
              "    <tr style=\"text-align: right;\">\n",
              "      <th></th>\n",
              "      <th>country</th>\n",
              "      <th>beer_servings</th>\n",
              "      <th>spirit_servings</th>\n",
              "      <th>wine_servings</th>\n",
              "      <th>total_litres_of_pure_alcohol</th>\n",
              "      <th>continent</th>\n",
              "    </tr>\n",
              "  </thead>\n",
              "  <tbody>\n",
              "    <tr>\n",
              "      <th>0</th>\n",
              "      <td>Afghanistan</td>\n",
              "      <td>0</td>\n",
              "      <td>0</td>\n",
              "      <td>0</td>\n",
              "      <td>0.0</td>\n",
              "      <td>AS</td>\n",
              "    </tr>\n",
              "    <tr>\n",
              "      <th>1</th>\n",
              "      <td>Albania</td>\n",
              "      <td>89</td>\n",
              "      <td>132</td>\n",
              "      <td>54</td>\n",
              "      <td>4.9</td>\n",
              "      <td>EU</td>\n",
              "    </tr>\n",
              "    <tr>\n",
              "      <th>2</th>\n",
              "      <td>Algeria</td>\n",
              "      <td>25</td>\n",
              "      <td>0</td>\n",
              "      <td>14</td>\n",
              "      <td>0.7</td>\n",
              "      <td>AF</td>\n",
              "    </tr>\n",
              "    <tr>\n",
              "      <th>3</th>\n",
              "      <td>Andorra</td>\n",
              "      <td>245</td>\n",
              "      <td>138</td>\n",
              "      <td>312</td>\n",
              "      <td>12.4</td>\n",
              "      <td>EU</td>\n",
              "    </tr>\n",
              "    <tr>\n",
              "      <th>4</th>\n",
              "      <td>Angola</td>\n",
              "      <td>217</td>\n",
              "      <td>57</td>\n",
              "      <td>45</td>\n",
              "      <td>5.9</td>\n",
              "      <td>AF</td>\n",
              "    </tr>\n",
              "  </tbody>\n",
              "</table>\n",
              "</div>"
            ],
            "text/plain": [
              "       country  beer_servings  ...  total_litres_of_pure_alcohol  continent\n",
              "0  Afghanistan              0  ...                           0.0         AS\n",
              "1      Albania             89  ...                           4.9         EU\n",
              "2      Algeria             25  ...                           0.7         AF\n",
              "3      Andorra            245  ...                          12.4         EU\n",
              "4       Angola            217  ...                           5.9         AF\n",
              "\n",
              "[5 rows x 6 columns]"
            ]
          },
          "metadata": {},
          "execution_count": 4
        }
      ]
    },
    {
      "cell_type": "code",
      "metadata": {
        "colab": {
          "base_uri": "https://localhost:8080/",
          "height": 142
        },
        "id": "84FJvdBEkSR_",
        "outputId": "2b885d07-8b21-403f-97db-acd1da8de65e"
      },
      "source": [
        "#[2-3]df의 컬럼명을 한글로 변경합니다['국가', '맥주', '증류주', '와인', '알코올', '대륙']\n",
        "df.columns = ['국가', '맥주', '증류주', '와인', '알코올', '대륙']\n",
        "df.head(3)"
      ],
      "execution_count": 5,
      "outputs": [
        {
          "output_type": "execute_result",
          "data": {
            "text/html": [
              "<div>\n",
              "<style scoped>\n",
              "    .dataframe tbody tr th:only-of-type {\n",
              "        vertical-align: middle;\n",
              "    }\n",
              "\n",
              "    .dataframe tbody tr th {\n",
              "        vertical-align: top;\n",
              "    }\n",
              "\n",
              "    .dataframe thead th {\n",
              "        text-align: right;\n",
              "    }\n",
              "</style>\n",
              "<table border=\"1\" class=\"dataframe\">\n",
              "  <thead>\n",
              "    <tr style=\"text-align: right;\">\n",
              "      <th></th>\n",
              "      <th>국가</th>\n",
              "      <th>맥주</th>\n",
              "      <th>증류주</th>\n",
              "      <th>와인</th>\n",
              "      <th>알코올</th>\n",
              "      <th>대륙</th>\n",
              "    </tr>\n",
              "  </thead>\n",
              "  <tbody>\n",
              "    <tr>\n",
              "      <th>0</th>\n",
              "      <td>Afghanistan</td>\n",
              "      <td>0</td>\n",
              "      <td>0</td>\n",
              "      <td>0</td>\n",
              "      <td>0.0</td>\n",
              "      <td>AS</td>\n",
              "    </tr>\n",
              "    <tr>\n",
              "      <th>1</th>\n",
              "      <td>Albania</td>\n",
              "      <td>89</td>\n",
              "      <td>132</td>\n",
              "      <td>54</td>\n",
              "      <td>4.9</td>\n",
              "      <td>EU</td>\n",
              "    </tr>\n",
              "    <tr>\n",
              "      <th>2</th>\n",
              "      <td>Algeria</td>\n",
              "      <td>25</td>\n",
              "      <td>0</td>\n",
              "      <td>14</td>\n",
              "      <td>0.7</td>\n",
              "      <td>AF</td>\n",
              "    </tr>\n",
              "  </tbody>\n",
              "</table>\n",
              "</div>"
            ],
            "text/plain": [
              "            국가  맥주  증류주  와인  알코올  대륙\n",
              "0  Afghanistan   0    0   0  0.0  AS\n",
              "1      Albania  89  132  54  4.9  EU\n",
              "2      Algeria  25    0  14  0.7  AF"
            ]
          },
          "metadata": {},
          "execution_count": 5
        }
      ]
    },
    {
      "cell_type": "code",
      "metadata": {
        "colab": {
          "base_uri": "https://localhost:8080/"
        },
        "id": "uCIwRbkvlHPP",
        "outputId": "744a3df2-e881-469c-b95f-14e8b8281b6a"
      },
      "source": [
        "#[2-4]df의 row의 개수와 각 columns의 정보 및 메모리 사용량을 확인하기\n",
        "df.info()"
      ],
      "execution_count": 6,
      "outputs": [
        {
          "output_type": "stream",
          "name": "stdout",
          "text": [
            "<class 'pandas.core.frame.DataFrame'>\n",
            "RangeIndex: 193 entries, 0 to 192\n",
            "Data columns (total 6 columns):\n",
            " #   Column  Non-Null Count  Dtype  \n",
            "---  ------  --------------  -----  \n",
            " 0   국가      193 non-null    object \n",
            " 1   맥주      193 non-null    int64  \n",
            " 2   증류주     193 non-null    int64  \n",
            " 3   와인      193 non-null    int64  \n",
            " 4   알코올     193 non-null    float64\n",
            " 5   대륙      170 non-null    object \n",
            "dtypes: float64(1), int64(3), object(2)\n",
            "memory usage: 9.2+ KB\n"
          ]
        }
      ]
    },
    {
      "cell_type": "code",
      "metadata": {
        "colab": {
          "base_uri": "https://localhost:8080/"
        },
        "id": "3GXy2ooklTuM",
        "outputId": "4a9acb70-77a7-484c-a918-f55c8d152014"
      },
      "source": [
        "#object 타입정보까지 확인하려면(info(memory_usage='deep'))\n",
        "df.info(memory_usage='deep')"
      ],
      "execution_count": 7,
      "outputs": [
        {
          "output_type": "stream",
          "name": "stdout",
          "text": [
            "<class 'pandas.core.frame.DataFrame'>\n",
            "RangeIndex: 193 entries, 0 to 192\n",
            "Data columns (total 6 columns):\n",
            " #   Column  Non-Null Count  Dtype  \n",
            "---  ------  --------------  -----  \n",
            " 0   국가      193 non-null    object \n",
            " 1   맥주      193 non-null    int64  \n",
            " 2   증류주     193 non-null    int64  \n",
            " 3   와인      193 non-null    int64  \n",
            " 4   알코올     193 non-null    float64\n",
            " 5   대륙      170 non-null    object \n",
            "dtypes: float64(1), int64(3), object(2)\n",
            "memory usage: 29.0 KB\n"
          ]
        }
      ]
    },
    {
      "cell_type": "markdown",
      "metadata": {
        "id": "so_6tIISlxhh"
      },
      "source": [
        "### '대륙'에 대한 정보가 부족한것을 확인할수 있습니다.이유가 무엇일 까요?\n",
        "- 아시아: AS, 유럽: EU, 아프리카: AF, 북아메리카: NA, 남아메리카: SA, 오세아니아: OC"
      ]
    },
    {
      "cell_type": "markdown",
      "metadata": {
        "id": "sW1Gslh0rP1Q"
      },
      "source": [
        "## 3-2.결측치 확인 및 해결\n",
        "- 결측치\n",
        "  - 값이 없음을 나타냄\n",
        "  - NaN, NaT, None등으로 표시되며,NA,Value, MissingValue라고함\n",
        "\n",
        "- 결측치 확인 \n",
        "  - DataFrame.isna(): 결측치에 대해 True,아니면 False\n",
        "  - DataFrame.isnull(): DataFrame.isna()와 동일함\n",
        "  - DataFrame.notna(): 결측치가 이닌것에 대해 True, 결측치면 False\n",
        "  - DataFrame.notnull(): DataFrame.isnull()와 동일함\n",
        "  - Series에도 결측치 확인을 위한 isna() ~ notnull()의 메서드 있음\n",
        "  - DataFrame.isna().sum(): 결측치에 대해 컬럼별 개수"
      ]
    },
    {
      "cell_type": "markdown",
      "metadata": {
        "id": "qvBhFnyuss4v"
      },
      "source": [
        "## 데이터 종류 확인\n",
        "- 주로 범주형 데이터데 사용함\n",
        "  - 성별,지역,부서 등의 몇개의 그룹으로 표현되는 데이터\n",
        "  - 수자 또는 문자열로 표현될수 있음\n",
        "- Series.unique(): 결측치를 포함하여,중복을 제외환 데이터의 종류를 ndarray로 반환\n",
        "- Series.value_counts(): 결측치를 포함하지 않으며, 데이터 종류별 개수를 Series로 반환"
      ]
    },
    {
      "cell_type": "code",
      "metadata": {
        "colab": {
          "base_uri": "https://localhost:8080/"
        },
        "id": "0e0FJpBwlnsa",
        "outputId": "f6ef1535-2080-46b9-fbca-04ec1f1f2073"
      },
      "source": [
        "#[2-5] 대륙의 종류를 알아봅니다\n",
        "# 결과를 보면 csv파일에서 'NA'로 되어 있는 데이터를 'NaN(nan)으로 가져온 것입니다.\n",
        "df['대륙'].unique()"
      ],
      "execution_count": 8,
      "outputs": [
        {
          "output_type": "execute_result",
          "data": {
            "text/plain": [
              "array(['AS', 'EU', 'AF', nan, 'SA', 'OC'], dtype=object)"
            ]
          },
          "metadata": {},
          "execution_count": 8
        }
      ]
    },
    {
      "cell_type": "code",
      "metadata": {
        "colab": {
          "base_uri": "https://localhost:8080/"
        },
        "id": "qM9K9c2sulaP",
        "outputId": "1f4ee26f-36ea-4f65-c60f-c25b79ed6c42"
      },
      "source": [
        "pd.Series(df['대륙'].unique())"
      ],
      "execution_count": 9,
      "outputs": [
        {
          "output_type": "execute_result",
          "data": {
            "text/plain": [
              "0     AS\n",
              "1     EU\n",
              "2     AF\n",
              "3    NaN\n",
              "4     SA\n",
              "5     OC\n",
              "dtype: object"
            ]
          },
          "metadata": {},
          "execution_count": 9
        }
      ]
    },
    {
      "cell_type": "code",
      "metadata": {
        "colab": {
          "base_uri": "https://localhost:8080/"
        },
        "id": "8zTUrogRus7a",
        "outputId": "95e36df3-bb0d-461d-fa48-b44584e0503d"
      },
      "source": [
        "#[2-6] 대륙별 개수를 알아봅니다\n",
        "df['대륙'].value_counts()"
      ],
      "execution_count": 10,
      "outputs": [
        {
          "output_type": "execute_result",
          "data": {
            "text/plain": [
              "AF    53\n",
              "EU    45\n",
              "AS    44\n",
              "OC    16\n",
              "SA    12\n",
              "Name: 대륙, dtype: int64"
            ]
          },
          "metadata": {},
          "execution_count": 10
        }
      ]
    },
    {
      "cell_type": "code",
      "metadata": {
        "colab": {
          "base_uri": "https://localhost:8080/",
          "height": 419
        },
        "id": "ugonWZzVu3D9",
        "outputId": "cb406172-a20f-4591-a828-d3674bdb924b"
      },
      "source": [
        "#[2-7] 결측치를 컬럼 별로 집계해 봅니다\n",
        "df.isna()"
      ],
      "execution_count": 11,
      "outputs": [
        {
          "output_type": "execute_result",
          "data": {
            "text/html": [
              "<div>\n",
              "<style scoped>\n",
              "    .dataframe tbody tr th:only-of-type {\n",
              "        vertical-align: middle;\n",
              "    }\n",
              "\n",
              "    .dataframe tbody tr th {\n",
              "        vertical-align: top;\n",
              "    }\n",
              "\n",
              "    .dataframe thead th {\n",
              "        text-align: right;\n",
              "    }\n",
              "</style>\n",
              "<table border=\"1\" class=\"dataframe\">\n",
              "  <thead>\n",
              "    <tr style=\"text-align: right;\">\n",
              "      <th></th>\n",
              "      <th>국가</th>\n",
              "      <th>맥주</th>\n",
              "      <th>증류주</th>\n",
              "      <th>와인</th>\n",
              "      <th>알코올</th>\n",
              "      <th>대륙</th>\n",
              "    </tr>\n",
              "  </thead>\n",
              "  <tbody>\n",
              "    <tr>\n",
              "      <th>0</th>\n",
              "      <td>False</td>\n",
              "      <td>False</td>\n",
              "      <td>False</td>\n",
              "      <td>False</td>\n",
              "      <td>False</td>\n",
              "      <td>False</td>\n",
              "    </tr>\n",
              "    <tr>\n",
              "      <th>1</th>\n",
              "      <td>False</td>\n",
              "      <td>False</td>\n",
              "      <td>False</td>\n",
              "      <td>False</td>\n",
              "      <td>False</td>\n",
              "      <td>False</td>\n",
              "    </tr>\n",
              "    <tr>\n",
              "      <th>2</th>\n",
              "      <td>False</td>\n",
              "      <td>False</td>\n",
              "      <td>False</td>\n",
              "      <td>False</td>\n",
              "      <td>False</td>\n",
              "      <td>False</td>\n",
              "    </tr>\n",
              "    <tr>\n",
              "      <th>3</th>\n",
              "      <td>False</td>\n",
              "      <td>False</td>\n",
              "      <td>False</td>\n",
              "      <td>False</td>\n",
              "      <td>False</td>\n",
              "      <td>False</td>\n",
              "    </tr>\n",
              "    <tr>\n",
              "      <th>4</th>\n",
              "      <td>False</td>\n",
              "      <td>False</td>\n",
              "      <td>False</td>\n",
              "      <td>False</td>\n",
              "      <td>False</td>\n",
              "      <td>False</td>\n",
              "    </tr>\n",
              "    <tr>\n",
              "      <th>...</th>\n",
              "      <td>...</td>\n",
              "      <td>...</td>\n",
              "      <td>...</td>\n",
              "      <td>...</td>\n",
              "      <td>...</td>\n",
              "      <td>...</td>\n",
              "    </tr>\n",
              "    <tr>\n",
              "      <th>188</th>\n",
              "      <td>False</td>\n",
              "      <td>False</td>\n",
              "      <td>False</td>\n",
              "      <td>False</td>\n",
              "      <td>False</td>\n",
              "      <td>False</td>\n",
              "    </tr>\n",
              "    <tr>\n",
              "      <th>189</th>\n",
              "      <td>False</td>\n",
              "      <td>False</td>\n",
              "      <td>False</td>\n",
              "      <td>False</td>\n",
              "      <td>False</td>\n",
              "      <td>False</td>\n",
              "    </tr>\n",
              "    <tr>\n",
              "      <th>190</th>\n",
              "      <td>False</td>\n",
              "      <td>False</td>\n",
              "      <td>False</td>\n",
              "      <td>False</td>\n",
              "      <td>False</td>\n",
              "      <td>False</td>\n",
              "    </tr>\n",
              "    <tr>\n",
              "      <th>191</th>\n",
              "      <td>False</td>\n",
              "      <td>False</td>\n",
              "      <td>False</td>\n",
              "      <td>False</td>\n",
              "      <td>False</td>\n",
              "      <td>False</td>\n",
              "    </tr>\n",
              "    <tr>\n",
              "      <th>192</th>\n",
              "      <td>False</td>\n",
              "      <td>False</td>\n",
              "      <td>False</td>\n",
              "      <td>False</td>\n",
              "      <td>False</td>\n",
              "      <td>False</td>\n",
              "    </tr>\n",
              "  </tbody>\n",
              "</table>\n",
              "<p>193 rows × 6 columns</p>\n",
              "</div>"
            ],
            "text/plain": [
              "        국가     맥주    증류주     와인    알코올     대륙\n",
              "0    False  False  False  False  False  False\n",
              "1    False  False  False  False  False  False\n",
              "2    False  False  False  False  False  False\n",
              "3    False  False  False  False  False  False\n",
              "4    False  False  False  False  False  False\n",
              "..     ...    ...    ...    ...    ...    ...\n",
              "188  False  False  False  False  False  False\n",
              "189  False  False  False  False  False  False\n",
              "190  False  False  False  False  False  False\n",
              "191  False  False  False  False  False  False\n",
              "192  False  False  False  False  False  False\n",
              "\n",
              "[193 rows x 6 columns]"
            ]
          },
          "metadata": {},
          "execution_count": 11
        }
      ]
    },
    {
      "cell_type": "code",
      "metadata": {
        "colab": {
          "base_uri": "https://localhost:8080/"
        },
        "id": "7TEv0zGbvEQX",
        "outputId": "d8ae2c86-d3c9-4cca-b9d2-9c3d8852c19d"
      },
      "source": [
        "df.isna().sum()"
      ],
      "execution_count": 12,
      "outputs": [
        {
          "output_type": "execute_result",
          "data": {
            "text/plain": [
              "국가      0\n",
              "맥주      0\n",
              "증류주     0\n",
              "와인      0\n",
              "알코올     0\n",
              "대륙     23\n",
              "dtype: int64"
            ]
          },
          "metadata": {},
          "execution_count": 12
        }
      ]
    },
    {
      "cell_type": "code",
      "metadata": {
        "colab": {
          "base_uri": "https://localhost:8080/"
        },
        "id": "bff9QAbFvKM2",
        "outputId": "25ca2060-03aa-48d3-9835-3e983d0c52a0"
      },
      "source": [
        "#[2-8] isna()를 사용해 대륙에서 결측치로 취급된 데이터만 출력해봅니다\n",
        "#북아메리카(NA)에 포함되는 국가들인 것을 확인할 수 있습니다\n",
        "df['대륙'].isna()"
      ],
      "execution_count": 13,
      "outputs": [
        {
          "output_type": "execute_result",
          "data": {
            "text/plain": [
              "0      False\n",
              "1      False\n",
              "2      False\n",
              "3      False\n",
              "4      False\n",
              "       ...  \n",
              "188    False\n",
              "189    False\n",
              "190    False\n",
              "191    False\n",
              "192    False\n",
              "Name: 대륙, Length: 193, dtype: bool"
            ]
          },
          "metadata": {},
          "execution_count": 13
        }
      ]
    },
    {
      "cell_type": "code",
      "metadata": {
        "colab": {
          "base_uri": "https://localhost:8080/",
          "height": 762
        },
        "id": "1I7rck0pvpQA",
        "outputId": "4c43f19e-55e8-42a8-99cc-fc8f61471ec9"
      },
      "source": [
        "df[df['대륙'].isna()]"
      ],
      "execution_count": 14,
      "outputs": [
        {
          "output_type": "execute_result",
          "data": {
            "text/html": [
              "<div>\n",
              "<style scoped>\n",
              "    .dataframe tbody tr th:only-of-type {\n",
              "        vertical-align: middle;\n",
              "    }\n",
              "\n",
              "    .dataframe tbody tr th {\n",
              "        vertical-align: top;\n",
              "    }\n",
              "\n",
              "    .dataframe thead th {\n",
              "        text-align: right;\n",
              "    }\n",
              "</style>\n",
              "<table border=\"1\" class=\"dataframe\">\n",
              "  <thead>\n",
              "    <tr style=\"text-align: right;\">\n",
              "      <th></th>\n",
              "      <th>국가</th>\n",
              "      <th>맥주</th>\n",
              "      <th>증류주</th>\n",
              "      <th>와인</th>\n",
              "      <th>알코올</th>\n",
              "      <th>대륙</th>\n",
              "    </tr>\n",
              "  </thead>\n",
              "  <tbody>\n",
              "    <tr>\n",
              "      <th>5</th>\n",
              "      <td>Antigua &amp; Barbuda</td>\n",
              "      <td>102</td>\n",
              "      <td>128</td>\n",
              "      <td>45</td>\n",
              "      <td>4.9</td>\n",
              "      <td>NaN</td>\n",
              "    </tr>\n",
              "    <tr>\n",
              "      <th>11</th>\n",
              "      <td>Bahamas</td>\n",
              "      <td>122</td>\n",
              "      <td>176</td>\n",
              "      <td>51</td>\n",
              "      <td>6.3</td>\n",
              "      <td>NaN</td>\n",
              "    </tr>\n",
              "    <tr>\n",
              "      <th>14</th>\n",
              "      <td>Barbados</td>\n",
              "      <td>143</td>\n",
              "      <td>173</td>\n",
              "      <td>36</td>\n",
              "      <td>6.3</td>\n",
              "      <td>NaN</td>\n",
              "    </tr>\n",
              "    <tr>\n",
              "      <th>17</th>\n",
              "      <td>Belize</td>\n",
              "      <td>263</td>\n",
              "      <td>114</td>\n",
              "      <td>8</td>\n",
              "      <td>6.8</td>\n",
              "      <td>NaN</td>\n",
              "    </tr>\n",
              "    <tr>\n",
              "      <th>32</th>\n",
              "      <td>Canada</td>\n",
              "      <td>240</td>\n",
              "      <td>122</td>\n",
              "      <td>100</td>\n",
              "      <td>8.2</td>\n",
              "      <td>NaN</td>\n",
              "    </tr>\n",
              "    <tr>\n",
              "      <th>41</th>\n",
              "      <td>Costa Rica</td>\n",
              "      <td>149</td>\n",
              "      <td>87</td>\n",
              "      <td>11</td>\n",
              "      <td>4.4</td>\n",
              "      <td>NaN</td>\n",
              "    </tr>\n",
              "    <tr>\n",
              "      <th>43</th>\n",
              "      <td>Cuba</td>\n",
              "      <td>93</td>\n",
              "      <td>137</td>\n",
              "      <td>5</td>\n",
              "      <td>4.2</td>\n",
              "      <td>NaN</td>\n",
              "    </tr>\n",
              "    <tr>\n",
              "      <th>50</th>\n",
              "      <td>Dominica</td>\n",
              "      <td>52</td>\n",
              "      <td>286</td>\n",
              "      <td>26</td>\n",
              "      <td>6.6</td>\n",
              "      <td>NaN</td>\n",
              "    </tr>\n",
              "    <tr>\n",
              "      <th>51</th>\n",
              "      <td>Dominican Republic</td>\n",
              "      <td>193</td>\n",
              "      <td>147</td>\n",
              "      <td>9</td>\n",
              "      <td>6.2</td>\n",
              "      <td>NaN</td>\n",
              "    </tr>\n",
              "    <tr>\n",
              "      <th>54</th>\n",
              "      <td>El Salvador</td>\n",
              "      <td>52</td>\n",
              "      <td>69</td>\n",
              "      <td>2</td>\n",
              "      <td>2.2</td>\n",
              "      <td>NaN</td>\n",
              "    </tr>\n",
              "    <tr>\n",
              "      <th>68</th>\n",
              "      <td>Grenada</td>\n",
              "      <td>199</td>\n",
              "      <td>438</td>\n",
              "      <td>28</td>\n",
              "      <td>11.9</td>\n",
              "      <td>NaN</td>\n",
              "    </tr>\n",
              "    <tr>\n",
              "      <th>69</th>\n",
              "      <td>Guatemala</td>\n",
              "      <td>53</td>\n",
              "      <td>69</td>\n",
              "      <td>2</td>\n",
              "      <td>2.2</td>\n",
              "      <td>NaN</td>\n",
              "    </tr>\n",
              "    <tr>\n",
              "      <th>73</th>\n",
              "      <td>Haiti</td>\n",
              "      <td>1</td>\n",
              "      <td>326</td>\n",
              "      <td>1</td>\n",
              "      <td>5.9</td>\n",
              "      <td>NaN</td>\n",
              "    </tr>\n",
              "    <tr>\n",
              "      <th>74</th>\n",
              "      <td>Honduras</td>\n",
              "      <td>69</td>\n",
              "      <td>98</td>\n",
              "      <td>2</td>\n",
              "      <td>3.0</td>\n",
              "      <td>NaN</td>\n",
              "    </tr>\n",
              "    <tr>\n",
              "      <th>84</th>\n",
              "      <td>Jamaica</td>\n",
              "      <td>82</td>\n",
              "      <td>97</td>\n",
              "      <td>9</td>\n",
              "      <td>3.4</td>\n",
              "      <td>NaN</td>\n",
              "    </tr>\n",
              "    <tr>\n",
              "      <th>109</th>\n",
              "      <td>Mexico</td>\n",
              "      <td>238</td>\n",
              "      <td>68</td>\n",
              "      <td>5</td>\n",
              "      <td>5.5</td>\n",
              "      <td>NaN</td>\n",
              "    </tr>\n",
              "    <tr>\n",
              "      <th>122</th>\n",
              "      <td>Nicaragua</td>\n",
              "      <td>78</td>\n",
              "      <td>118</td>\n",
              "      <td>1</td>\n",
              "      <td>3.5</td>\n",
              "      <td>NaN</td>\n",
              "    </tr>\n",
              "    <tr>\n",
              "      <th>130</th>\n",
              "      <td>Panama</td>\n",
              "      <td>285</td>\n",
              "      <td>104</td>\n",
              "      <td>18</td>\n",
              "      <td>7.2</td>\n",
              "      <td>NaN</td>\n",
              "    </tr>\n",
              "    <tr>\n",
              "      <th>143</th>\n",
              "      <td>St. Kitts &amp; Nevis</td>\n",
              "      <td>194</td>\n",
              "      <td>205</td>\n",
              "      <td>32</td>\n",
              "      <td>7.7</td>\n",
              "      <td>NaN</td>\n",
              "    </tr>\n",
              "    <tr>\n",
              "      <th>144</th>\n",
              "      <td>St. Lucia</td>\n",
              "      <td>171</td>\n",
              "      <td>315</td>\n",
              "      <td>71</td>\n",
              "      <td>10.1</td>\n",
              "      <td>NaN</td>\n",
              "    </tr>\n",
              "    <tr>\n",
              "      <th>145</th>\n",
              "      <td>St. Vincent &amp; the Grenadines</td>\n",
              "      <td>120</td>\n",
              "      <td>221</td>\n",
              "      <td>11</td>\n",
              "      <td>6.3</td>\n",
              "      <td>NaN</td>\n",
              "    </tr>\n",
              "    <tr>\n",
              "      <th>174</th>\n",
              "      <td>Trinidad &amp; Tobago</td>\n",
              "      <td>197</td>\n",
              "      <td>156</td>\n",
              "      <td>7</td>\n",
              "      <td>6.4</td>\n",
              "      <td>NaN</td>\n",
              "    </tr>\n",
              "    <tr>\n",
              "      <th>184</th>\n",
              "      <td>USA</td>\n",
              "      <td>249</td>\n",
              "      <td>158</td>\n",
              "      <td>84</td>\n",
              "      <td>8.7</td>\n",
              "      <td>NaN</td>\n",
              "    </tr>\n",
              "  </tbody>\n",
              "</table>\n",
              "</div>"
            ],
            "text/plain": [
              "                               국가   맥주  증류주   와인   알코올   대륙\n",
              "5               Antigua & Barbuda  102  128   45   4.9  NaN\n",
              "11                        Bahamas  122  176   51   6.3  NaN\n",
              "14                       Barbados  143  173   36   6.3  NaN\n",
              "17                         Belize  263  114    8   6.8  NaN\n",
              "32                         Canada  240  122  100   8.2  NaN\n",
              "41                     Costa Rica  149   87   11   4.4  NaN\n",
              "43                           Cuba   93  137    5   4.2  NaN\n",
              "50                       Dominica   52  286   26   6.6  NaN\n",
              "51             Dominican Republic  193  147    9   6.2  NaN\n",
              "54                    El Salvador   52   69    2   2.2  NaN\n",
              "68                        Grenada  199  438   28  11.9  NaN\n",
              "69                      Guatemala   53   69    2   2.2  NaN\n",
              "73                          Haiti    1  326    1   5.9  NaN\n",
              "74                       Honduras   69   98    2   3.0  NaN\n",
              "84                        Jamaica   82   97    9   3.4  NaN\n",
              "109                        Mexico  238   68    5   5.5  NaN\n",
              "122                     Nicaragua   78  118    1   3.5  NaN\n",
              "130                        Panama  285  104   18   7.2  NaN\n",
              "143             St. Kitts & Nevis  194  205   32   7.7  NaN\n",
              "144                     St. Lucia  171  315   71  10.1  NaN\n",
              "145  St. Vincent & the Grenadines  120  221   11   6.3  NaN\n",
              "174             Trinidad & Tobago  197  156    7   6.4  NaN\n",
              "184                           USA  249  158   84   8.7  NaN"
            ]
          },
          "metadata": {},
          "execution_count": 14
        }
      ]
    },
    {
      "cell_type": "markdown",
      "metadata": {
        "id": "XgjmqmHyv5I2"
      },
      "source": [
        "## 결측치 해결방법\n",
        "- 'NA'를 'NaN'(결측치)로 읽는 동작을 멈추게 함\n",
        "  - pd.read_csv(파일이름, na_filter=False): 파일에서 데이터를 가져올 때 결측치로 인지되는 데이터를 결측치로 읽어 오는 동작을 멈추도록 함\n",
        "\n",
        "- 결측치를 다른 값으로 채우기 함\n",
        "  - DataFrame.fillna(값) 또는 Sreies.fillna(값): 결측값을 특정 값으로 채우기\n",
        "    - 연속형 데이터 : 0 을 채우기, 평균값으로 채우기, 범주별 평균값 채우기 등\n",
        "    - 범주형 데이터 : 다른 범주로 만들어 채우기\n",
        "- DataFrame.loc[Series.isna(), 컬럼명]=값"
      ]
    },
    {
      "cell_type": "code",
      "metadata": {
        "colab": {
          "base_uri": "https://localhost:8080/",
          "height": 419
        },
        "id": "d4pCwZtGvwPR",
        "outputId": "04f96d65-94f3-4cec-ba64-e452439b4c44"
      },
      "source": [
        "#[2-9] 해결방법1\n",
        "#read_csv의 옵션을 사용하여 해결 함\n",
        "#read_csv에서 'NA'를 'NaN'으로 읽도록 하는 동작을 멈추게 합니다.\n",
        "#na_filter=False를 사용하면 'NA'를 'NaN'으로 읽지 않습니다.\n",
        "\n",
        "temp = pd.read_csv('data_01/drinks.csv', na_filter=False)\n",
        "temp"
      ],
      "execution_count": 15,
      "outputs": [
        {
          "output_type": "execute_result",
          "data": {
            "text/html": [
              "<div>\n",
              "<style scoped>\n",
              "    .dataframe tbody tr th:only-of-type {\n",
              "        vertical-align: middle;\n",
              "    }\n",
              "\n",
              "    .dataframe tbody tr th {\n",
              "        vertical-align: top;\n",
              "    }\n",
              "\n",
              "    .dataframe thead th {\n",
              "        text-align: right;\n",
              "    }\n",
              "</style>\n",
              "<table border=\"1\" class=\"dataframe\">\n",
              "  <thead>\n",
              "    <tr style=\"text-align: right;\">\n",
              "      <th></th>\n",
              "      <th>country</th>\n",
              "      <th>beer_servings</th>\n",
              "      <th>spirit_servings</th>\n",
              "      <th>wine_servings</th>\n",
              "      <th>total_litres_of_pure_alcohol</th>\n",
              "      <th>continent</th>\n",
              "    </tr>\n",
              "  </thead>\n",
              "  <tbody>\n",
              "    <tr>\n",
              "      <th>0</th>\n",
              "      <td>Afghanistan</td>\n",
              "      <td>0</td>\n",
              "      <td>0</td>\n",
              "      <td>0</td>\n",
              "      <td>0.0</td>\n",
              "      <td>AS</td>\n",
              "    </tr>\n",
              "    <tr>\n",
              "      <th>1</th>\n",
              "      <td>Albania</td>\n",
              "      <td>89</td>\n",
              "      <td>132</td>\n",
              "      <td>54</td>\n",
              "      <td>4.9</td>\n",
              "      <td>EU</td>\n",
              "    </tr>\n",
              "    <tr>\n",
              "      <th>2</th>\n",
              "      <td>Algeria</td>\n",
              "      <td>25</td>\n",
              "      <td>0</td>\n",
              "      <td>14</td>\n",
              "      <td>0.7</td>\n",
              "      <td>AF</td>\n",
              "    </tr>\n",
              "    <tr>\n",
              "      <th>3</th>\n",
              "      <td>Andorra</td>\n",
              "      <td>245</td>\n",
              "      <td>138</td>\n",
              "      <td>312</td>\n",
              "      <td>12.4</td>\n",
              "      <td>EU</td>\n",
              "    </tr>\n",
              "    <tr>\n",
              "      <th>4</th>\n",
              "      <td>Angola</td>\n",
              "      <td>217</td>\n",
              "      <td>57</td>\n",
              "      <td>45</td>\n",
              "      <td>5.9</td>\n",
              "      <td>AF</td>\n",
              "    </tr>\n",
              "    <tr>\n",
              "      <th>...</th>\n",
              "      <td>...</td>\n",
              "      <td>...</td>\n",
              "      <td>...</td>\n",
              "      <td>...</td>\n",
              "      <td>...</td>\n",
              "      <td>...</td>\n",
              "    </tr>\n",
              "    <tr>\n",
              "      <th>188</th>\n",
              "      <td>Venezuela</td>\n",
              "      <td>333</td>\n",
              "      <td>100</td>\n",
              "      <td>3</td>\n",
              "      <td>7.7</td>\n",
              "      <td>SA</td>\n",
              "    </tr>\n",
              "    <tr>\n",
              "      <th>189</th>\n",
              "      <td>Vietnam</td>\n",
              "      <td>111</td>\n",
              "      <td>2</td>\n",
              "      <td>1</td>\n",
              "      <td>2.0</td>\n",
              "      <td>AS</td>\n",
              "    </tr>\n",
              "    <tr>\n",
              "      <th>190</th>\n",
              "      <td>Yemen</td>\n",
              "      <td>6</td>\n",
              "      <td>0</td>\n",
              "      <td>0</td>\n",
              "      <td>0.1</td>\n",
              "      <td>AS</td>\n",
              "    </tr>\n",
              "    <tr>\n",
              "      <th>191</th>\n",
              "      <td>Zambia</td>\n",
              "      <td>32</td>\n",
              "      <td>19</td>\n",
              "      <td>4</td>\n",
              "      <td>2.5</td>\n",
              "      <td>AF</td>\n",
              "    </tr>\n",
              "    <tr>\n",
              "      <th>192</th>\n",
              "      <td>Zimbabwe</td>\n",
              "      <td>64</td>\n",
              "      <td>18</td>\n",
              "      <td>4</td>\n",
              "      <td>4.7</td>\n",
              "      <td>AF</td>\n",
              "    </tr>\n",
              "  </tbody>\n",
              "</table>\n",
              "<p>193 rows × 6 columns</p>\n",
              "</div>"
            ],
            "text/plain": [
              "         country  beer_servings  ...  total_litres_of_pure_alcohol  continent\n",
              "0    Afghanistan              0  ...                           0.0         AS\n",
              "1        Albania             89  ...                           4.9         EU\n",
              "2        Algeria             25  ...                           0.7         AF\n",
              "3        Andorra            245  ...                          12.4         EU\n",
              "4         Angola            217  ...                           5.9         AF\n",
              "..           ...            ...  ...                           ...        ...\n",
              "188    Venezuela            333  ...                           7.7         SA\n",
              "189      Vietnam            111  ...                           2.0         AS\n",
              "190        Yemen              6  ...                           0.1         AS\n",
              "191       Zambia             32  ...                           2.5         AF\n",
              "192     Zimbabwe             64  ...                           4.7         AF\n",
              "\n",
              "[193 rows x 6 columns]"
            ]
          },
          "metadata": {},
          "execution_count": 15
        }
      ]
    },
    {
      "cell_type": "code",
      "metadata": {
        "colab": {
          "base_uri": "https://localhost:8080/"
        },
        "id": "MGKyL9veyMki",
        "outputId": "8fa4c73c-a07b-45b0-f3a2-584a82e456fa"
      },
      "source": [
        "#[2-10] temp의 'continent'(대륙)에 포함된 값의 종류를 unique()를 사용해 살펴 봅니다.\n",
        "#'NaN'대신 'NA'가 있는 것을 확인할수 있습니다.\n",
        "temp['continent'].unique()"
      ],
      "execution_count": 16,
      "outputs": [
        {
          "output_type": "execute_result",
          "data": {
            "text/plain": [
              "array(['AS', 'EU', 'AF', 'NA', 'SA', 'OC'], dtype=object)"
            ]
          },
          "metadata": {},
          "execution_count": 16
        }
      ]
    },
    {
      "cell_type": "code",
      "metadata": {
        "colab": {
          "base_uri": "https://localhost:8080/"
        },
        "id": "W3b63TwYyyCT",
        "outputId": "b12b6b25-3aa8-4629-9b89-9d13a33b5b57"
      },
      "source": [
        "temp.isna().sum()"
      ],
      "execution_count": 17,
      "outputs": [
        {
          "output_type": "execute_result",
          "data": {
            "text/plain": [
              "country                         0\n",
              "beer_servings                   0\n",
              "spirit_servings                 0\n",
              "wine_servings                   0\n",
              "total_litres_of_pure_alcohol    0\n",
              "continent                       0\n",
              "dtype: int64"
            ]
          },
          "metadata": {},
          "execution_count": 17
        }
      ]
    },
    {
      "cell_type": "code",
      "metadata": {
        "colab": {
          "base_uri": "https://localhost:8080/"
        },
        "id": "4cf2P1pMy-G1",
        "outputId": "071fe037-c3aa-4c70-9ca1-adc19dbc956d"
      },
      "source": [
        "#[2-10] 해결방법 2\n",
        "# NaN으로 읽어온 데이터를 'NA'로 변경합니다\n",
        "df['대륙'].fillna('NA'). # 그냥 이렇게 쓰면 적용이 안됩니다"
      ],
      "execution_count": 19,
      "outputs": [
        {
          "output_type": "execute_result",
          "data": {
            "text/plain": [
              "0      AS\n",
              "1      EU\n",
              "2      AF\n",
              "3      EU\n",
              "4      AF\n",
              "       ..\n",
              "188    SA\n",
              "189    AS\n",
              "190    AS\n",
              "191    AF\n",
              "192    AF\n",
              "Name: 대륙, Length: 193, dtype: object"
            ]
          },
          "metadata": {},
          "execution_count": 19
        }
      ]
    },
    {
      "cell_type": "code",
      "metadata": {
        "id": "XfBj5ryJkDxL"
      },
      "source": [
        "df['대륙'] = df['대륙'].fillna('NA')"
      ],
      "execution_count": 20,
      "outputs": []
    },
    {
      "cell_type": "code",
      "metadata": {
        "colab": {
          "base_uri": "https://localhost:8080/",
          "height": 419
        },
        "id": "std5ra2QkRQe",
        "outputId": "11221d5b-edbf-43e2-c59f-b9a559dbaf1d"
      },
      "source": [
        "df"
      ],
      "execution_count": 21,
      "outputs": [
        {
          "output_type": "execute_result",
          "data": {
            "text/html": [
              "<div>\n",
              "<style scoped>\n",
              "    .dataframe tbody tr th:only-of-type {\n",
              "        vertical-align: middle;\n",
              "    }\n",
              "\n",
              "    .dataframe tbody tr th {\n",
              "        vertical-align: top;\n",
              "    }\n",
              "\n",
              "    .dataframe thead th {\n",
              "        text-align: right;\n",
              "    }\n",
              "</style>\n",
              "<table border=\"1\" class=\"dataframe\">\n",
              "  <thead>\n",
              "    <tr style=\"text-align: right;\">\n",
              "      <th></th>\n",
              "      <th>국가</th>\n",
              "      <th>맥주</th>\n",
              "      <th>증류주</th>\n",
              "      <th>와인</th>\n",
              "      <th>알코올</th>\n",
              "      <th>대륙</th>\n",
              "    </tr>\n",
              "  </thead>\n",
              "  <tbody>\n",
              "    <tr>\n",
              "      <th>0</th>\n",
              "      <td>Afghanistan</td>\n",
              "      <td>0</td>\n",
              "      <td>0</td>\n",
              "      <td>0</td>\n",
              "      <td>0.0</td>\n",
              "      <td>AS</td>\n",
              "    </tr>\n",
              "    <tr>\n",
              "      <th>1</th>\n",
              "      <td>Albania</td>\n",
              "      <td>89</td>\n",
              "      <td>132</td>\n",
              "      <td>54</td>\n",
              "      <td>4.9</td>\n",
              "      <td>EU</td>\n",
              "    </tr>\n",
              "    <tr>\n",
              "      <th>2</th>\n",
              "      <td>Algeria</td>\n",
              "      <td>25</td>\n",
              "      <td>0</td>\n",
              "      <td>14</td>\n",
              "      <td>0.7</td>\n",
              "      <td>AF</td>\n",
              "    </tr>\n",
              "    <tr>\n",
              "      <th>3</th>\n",
              "      <td>Andorra</td>\n",
              "      <td>245</td>\n",
              "      <td>138</td>\n",
              "      <td>312</td>\n",
              "      <td>12.4</td>\n",
              "      <td>EU</td>\n",
              "    </tr>\n",
              "    <tr>\n",
              "      <th>4</th>\n",
              "      <td>Angola</td>\n",
              "      <td>217</td>\n",
              "      <td>57</td>\n",
              "      <td>45</td>\n",
              "      <td>5.9</td>\n",
              "      <td>AF</td>\n",
              "    </tr>\n",
              "    <tr>\n",
              "      <th>...</th>\n",
              "      <td>...</td>\n",
              "      <td>...</td>\n",
              "      <td>...</td>\n",
              "      <td>...</td>\n",
              "      <td>...</td>\n",
              "      <td>...</td>\n",
              "    </tr>\n",
              "    <tr>\n",
              "      <th>188</th>\n",
              "      <td>Venezuela</td>\n",
              "      <td>333</td>\n",
              "      <td>100</td>\n",
              "      <td>3</td>\n",
              "      <td>7.7</td>\n",
              "      <td>SA</td>\n",
              "    </tr>\n",
              "    <tr>\n",
              "      <th>189</th>\n",
              "      <td>Vietnam</td>\n",
              "      <td>111</td>\n",
              "      <td>2</td>\n",
              "      <td>1</td>\n",
              "      <td>2.0</td>\n",
              "      <td>AS</td>\n",
              "    </tr>\n",
              "    <tr>\n",
              "      <th>190</th>\n",
              "      <td>Yemen</td>\n",
              "      <td>6</td>\n",
              "      <td>0</td>\n",
              "      <td>0</td>\n",
              "      <td>0.1</td>\n",
              "      <td>AS</td>\n",
              "    </tr>\n",
              "    <tr>\n",
              "      <th>191</th>\n",
              "      <td>Zambia</td>\n",
              "      <td>32</td>\n",
              "      <td>19</td>\n",
              "      <td>4</td>\n",
              "      <td>2.5</td>\n",
              "      <td>AF</td>\n",
              "    </tr>\n",
              "    <tr>\n",
              "      <th>192</th>\n",
              "      <td>Zimbabwe</td>\n",
              "      <td>64</td>\n",
              "      <td>18</td>\n",
              "      <td>4</td>\n",
              "      <td>4.7</td>\n",
              "      <td>AF</td>\n",
              "    </tr>\n",
              "  </tbody>\n",
              "</table>\n",
              "<p>193 rows × 6 columns</p>\n",
              "</div>"
            ],
            "text/plain": [
              "              국가   맥주  증류주   와인   알코올  대륙\n",
              "0    Afghanistan    0    0    0   0.0  AS\n",
              "1        Albania   89  132   54   4.9  EU\n",
              "2        Algeria   25    0   14   0.7  AF\n",
              "3        Andorra  245  138  312  12.4  EU\n",
              "4         Angola  217   57   45   5.9  AF\n",
              "..           ...  ...  ...  ...   ...  ..\n",
              "188    Venezuela  333  100    3   7.7  SA\n",
              "189      Vietnam  111    2    1   2.0  AS\n",
              "190        Yemen    6    0    0   0.1  AS\n",
              "191       Zambia   32   19    4   2.5  AF\n",
              "192     Zimbabwe   64   18    4   4.7  AF\n",
              "\n",
              "[193 rows x 6 columns]"
            ]
          },
          "metadata": {},
          "execution_count": 21
        }
      ]
    },
    {
      "cell_type": "code",
      "metadata": {
        "id": "McL6hTXQkSaM"
      },
      "source": [
        "df.loc[df['대륙'].isna(),'대륙'] = 'NA'"
      ],
      "execution_count": 22,
      "outputs": []
    },
    {
      "cell_type": "code",
      "metadata": {
        "colab": {
          "base_uri": "https://localhost:8080/"
        },
        "id": "oTc-mqwgkody",
        "outputId": "a99342d1-9b59-4d3e-f829-bef6237f2c29"
      },
      "source": [
        "#[2-11] 결측치가 제거되었는지 컬럼 별 결측치 개수를 출력해 확인합니다\n",
        "df.isna().sum()"
      ],
      "execution_count": 25,
      "outputs": [
        {
          "output_type": "execute_result",
          "data": {
            "text/plain": [
              "국가     0\n",
              "맥주     0\n",
              "증류주    0\n",
              "와인     0\n",
              "알코올    0\n",
              "대륙     0\n",
              "dtype: int64"
            ]
          },
          "metadata": {},
          "execution_count": 25
        }
      ]
    },
    {
      "cell_type": "code",
      "metadata": {
        "colab": {
          "base_uri": "https://localhost:8080/"
        },
        "id": "IGOxRT1jkpcM",
        "outputId": "c3fef7cb-3d17-4a2b-98a4-a787f7d56909"
      },
      "source": [
        "#[2-12] unique()를 사용하여 '대룩'의 종류를 확인해 봅니다\n",
        "df['대륙'].unique()"
      ],
      "execution_count": 26,
      "outputs": [
        {
          "output_type": "execute_result",
          "data": {
            "text/plain": [
              "array(['AS', 'EU', 'AF', 'NA', 'SA', 'OC'], dtype=object)"
            ]
          },
          "metadata": {},
          "execution_count": 26
        }
      ]
    },
    {
      "cell_type": "markdown",
      "metadata": {
        "id": "4tucL59GlYEV"
      },
      "source": [
        "## 3-3. 통계값 구하기\n",
        "- DataFrame.describer(): 컬럼별 count,mean, std, min, max, Q1, Q2, Q3 등의 통계값 구하기\n",
        "- DataFrame.count(): 개수\n",
        "- DataFrame.sum(): 합계\n",
        "- DataFrame.mean(): 평균\n",
        "- DataFrame.median(): 중앙값\n",
        "- DataFrame.std(): 표준편차\n",
        "- DataFrame.var(): 분산\n",
        "- DataFrame.quantile(): 분위수\n",
        "- DataFrame.함수(axis= 1)을 사용하여 행별 통계값을 구할수 있습니다\n",
        "  - axis= 0 : 기본값이며, 행을 이동하며, 행과행의 연산을 수행함\n",
        "  - axis= 1 : 컬럼을 이동하며 컬럼과 컬럼의 연산을 수행합"
      ]
    },
    {
      "cell_type": "code",
      "metadata": {
        "colab": {
          "base_uri": "https://localhost:8080/",
          "height": 297
        },
        "id": "rlFb-Zx6lTf0",
        "outputId": "28020b6c-7806-4847-cf07-3e19317775d9"
      },
      "source": [
        "#[2-13] describe 함수를 사용해 전세계 맥주, 증류주, 와인, 알코올 소비에 대한 통계치를 구해봅니다\n",
        "df.describe()"
      ],
      "execution_count": 27,
      "outputs": [
        {
          "output_type": "execute_result",
          "data": {
            "text/html": [
              "<div>\n",
              "<style scoped>\n",
              "    .dataframe tbody tr th:only-of-type {\n",
              "        vertical-align: middle;\n",
              "    }\n",
              "\n",
              "    .dataframe tbody tr th {\n",
              "        vertical-align: top;\n",
              "    }\n",
              "\n",
              "    .dataframe thead th {\n",
              "        text-align: right;\n",
              "    }\n",
              "</style>\n",
              "<table border=\"1\" class=\"dataframe\">\n",
              "  <thead>\n",
              "    <tr style=\"text-align: right;\">\n",
              "      <th></th>\n",
              "      <th>맥주</th>\n",
              "      <th>증류주</th>\n",
              "      <th>와인</th>\n",
              "      <th>알코올</th>\n",
              "    </tr>\n",
              "  </thead>\n",
              "  <tbody>\n",
              "    <tr>\n",
              "      <th>count</th>\n",
              "      <td>193.000000</td>\n",
              "      <td>193.000000</td>\n",
              "      <td>193.000000</td>\n",
              "      <td>193.000000</td>\n",
              "    </tr>\n",
              "    <tr>\n",
              "      <th>mean</th>\n",
              "      <td>106.160622</td>\n",
              "      <td>80.994819</td>\n",
              "      <td>49.450777</td>\n",
              "      <td>4.717098</td>\n",
              "    </tr>\n",
              "    <tr>\n",
              "      <th>std</th>\n",
              "      <td>101.143103</td>\n",
              "      <td>88.284312</td>\n",
              "      <td>79.697598</td>\n",
              "      <td>3.773298</td>\n",
              "    </tr>\n",
              "    <tr>\n",
              "      <th>min</th>\n",
              "      <td>0.000000</td>\n",
              "      <td>0.000000</td>\n",
              "      <td>0.000000</td>\n",
              "      <td>0.000000</td>\n",
              "    </tr>\n",
              "    <tr>\n",
              "      <th>25%</th>\n",
              "      <td>20.000000</td>\n",
              "      <td>4.000000</td>\n",
              "      <td>1.000000</td>\n",
              "      <td>1.300000</td>\n",
              "    </tr>\n",
              "    <tr>\n",
              "      <th>50%</th>\n",
              "      <td>76.000000</td>\n",
              "      <td>56.000000</td>\n",
              "      <td>8.000000</td>\n",
              "      <td>4.200000</td>\n",
              "    </tr>\n",
              "    <tr>\n",
              "      <th>75%</th>\n",
              "      <td>188.000000</td>\n",
              "      <td>128.000000</td>\n",
              "      <td>59.000000</td>\n",
              "      <td>7.200000</td>\n",
              "    </tr>\n",
              "    <tr>\n",
              "      <th>max</th>\n",
              "      <td>376.000000</td>\n",
              "      <td>438.000000</td>\n",
              "      <td>370.000000</td>\n",
              "      <td>14.400000</td>\n",
              "    </tr>\n",
              "  </tbody>\n",
              "</table>\n",
              "</div>"
            ],
            "text/plain": [
              "               맥주         증류주          와인         알코올\n",
              "count  193.000000  193.000000  193.000000  193.000000\n",
              "mean   106.160622   80.994819   49.450777    4.717098\n",
              "std    101.143103   88.284312   79.697598    3.773298\n",
              "min      0.000000    0.000000    0.000000    0.000000\n",
              "25%     20.000000    4.000000    1.000000    1.300000\n",
              "50%     76.000000   56.000000    8.000000    4.200000\n",
              "75%    188.000000  128.000000   59.000000    7.200000\n",
              "max    376.000000  438.000000  370.000000   14.400000"
            ]
          },
          "metadata": {},
          "execution_count": 27
        }
      ]
    },
    {
      "cell_type": "code",
      "metadata": {
        "colab": {
          "base_uri": "https://localhost:8080/",
          "height": 204
        },
        "id": "tG7kAT9xnW2R",
        "outputId": "ef041fc0-2aea-4820-b82d-29e55447441f"
      },
      "source": [
        "#[2-14] 전세계맥주, 증류주, 와인, 알코올 소비에 대한 정보만 추출하여 df2로 지정합니다\n",
        "df2 = df[['맥주','증류주','와인','알코올']]\n",
        "df2.head()"
      ],
      "execution_count": 28,
      "outputs": [
        {
          "output_type": "execute_result",
          "data": {
            "text/html": [
              "<div>\n",
              "<style scoped>\n",
              "    .dataframe tbody tr th:only-of-type {\n",
              "        vertical-align: middle;\n",
              "    }\n",
              "\n",
              "    .dataframe tbody tr th {\n",
              "        vertical-align: top;\n",
              "    }\n",
              "\n",
              "    .dataframe thead th {\n",
              "        text-align: right;\n",
              "    }\n",
              "</style>\n",
              "<table border=\"1\" class=\"dataframe\">\n",
              "  <thead>\n",
              "    <tr style=\"text-align: right;\">\n",
              "      <th></th>\n",
              "      <th>맥주</th>\n",
              "      <th>증류주</th>\n",
              "      <th>와인</th>\n",
              "      <th>알코올</th>\n",
              "    </tr>\n",
              "  </thead>\n",
              "  <tbody>\n",
              "    <tr>\n",
              "      <th>0</th>\n",
              "      <td>0</td>\n",
              "      <td>0</td>\n",
              "      <td>0</td>\n",
              "      <td>0.0</td>\n",
              "    </tr>\n",
              "    <tr>\n",
              "      <th>1</th>\n",
              "      <td>89</td>\n",
              "      <td>132</td>\n",
              "      <td>54</td>\n",
              "      <td>4.9</td>\n",
              "    </tr>\n",
              "    <tr>\n",
              "      <th>2</th>\n",
              "      <td>25</td>\n",
              "      <td>0</td>\n",
              "      <td>14</td>\n",
              "      <td>0.7</td>\n",
              "    </tr>\n",
              "    <tr>\n",
              "      <th>3</th>\n",
              "      <td>245</td>\n",
              "      <td>138</td>\n",
              "      <td>312</td>\n",
              "      <td>12.4</td>\n",
              "    </tr>\n",
              "    <tr>\n",
              "      <th>4</th>\n",
              "      <td>217</td>\n",
              "      <td>57</td>\n",
              "      <td>45</td>\n",
              "      <td>5.9</td>\n",
              "    </tr>\n",
              "  </tbody>\n",
              "</table>\n",
              "</div>"
            ],
            "text/plain": [
              "    맥주  증류주   와인   알코올\n",
              "0    0    0    0   0.0\n",
              "1   89  132   54   4.9\n",
              "2   25    0   14   0.7\n",
              "3  245  138  312  12.4\n",
              "4  217   57   45   5.9"
            ]
          },
          "metadata": {},
          "execution_count": 28
        }
      ]
    },
    {
      "cell_type": "code",
      "metadata": {
        "colab": {
          "base_uri": "https://localhost:8080/"
        },
        "id": "u03-DLcbnw6o",
        "outputId": "89b879e2-d744-4206-ec56-0c5cbf72ffe3"
      },
      "source": [
        "#[2-15] 전세계 맥주,증류주,와인, 알코올이 소비에 대한(df2)'평균'만 구해봅니다\n",
        "df2.mean()"
      ],
      "execution_count": 29,
      "outputs": [
        {
          "output_type": "execute_result",
          "data": {
            "text/plain": [
              "맥주     106.160622\n",
              "증류주     80.994819\n",
              "와인      49.450777\n",
              "알코올      4.717098\n",
              "dtype: float64"
            ]
          },
          "metadata": {},
          "execution_count": 29
        }
      ]
    },
    {
      "cell_type": "code",
      "metadata": {
        "colab": {
          "base_uri": "https://localhost:8080/"
        },
        "id": "19cCK0MLoPuJ",
        "outputId": "0563c85d-b97d-4eee-8916-b6685ff18dab"
      },
      "source": [
        "#[2-16] 전세계 맥주,증류주,와인, 알코올이 소비에 대한(df2)'중앙값'만 구해봅니다\n",
        "df2.median()"
      ],
      "execution_count": 31,
      "outputs": [
        {
          "output_type": "execute_result",
          "data": {
            "text/plain": [
              "맥주     76.0\n",
              "증류주    56.0\n",
              "와인      8.0\n",
              "알코올     4.2\n",
              "dtype: float64"
            ]
          },
          "metadata": {},
          "execution_count": 31
        }
      ]
    },
    {
      "cell_type": "code",
      "metadata": {
        "colab": {
          "base_uri": "https://localhost:8080/"
        },
        "id": "OCy2kGQzoXcG",
        "outputId": "fac41723-bacb-41ab-f912-66fb7e1ea81c"
      },
      "source": [
        "#[2-17] 전세계 맥주,증류주,와인, 알코올이 소비에 대한(df2)'최대값'만 구해봅니다\n",
        "df2.max()"
      ],
      "execution_count": 32,
      "outputs": [
        {
          "output_type": "execute_result",
          "data": {
            "text/plain": [
              "맥주     376.0\n",
              "증류주    438.0\n",
              "와인     370.0\n",
              "알코올     14.4\n",
              "dtype: float64"
            ]
          },
          "metadata": {},
          "execution_count": 32
        }
      ]
    },
    {
      "cell_type": "code",
      "metadata": {
        "colab": {
          "base_uri": "https://localhost:8080/"
        },
        "id": "i9GDAQE0ojO6",
        "outputId": "0c5fe305-19de-4695-fdc1-e861da8624e7"
      },
      "source": [
        "#[2-18] 전세계 맥주,증류주,와인, 알코올이 소비에 대한(df2)'최소값'만 구해봅니다\n",
        "df2.min()"
      ],
      "execution_count": 33,
      "outputs": [
        {
          "output_type": "execute_result",
          "data": {
            "text/plain": [
              "맥주     0.0\n",
              "증류주    0.0\n",
              "와인     0.0\n",
              "알코올    0.0\n",
              "dtype: float64"
            ]
          },
          "metadata": {},
          "execution_count": 33
        }
      ]
    },
    {
      "cell_type": "code",
      "metadata": {
        "colab": {
          "base_uri": "https://localhost:8080/",
          "height": 142
        },
        "id": "ONGThN3iooeL",
        "outputId": "02bb6606-077c-417d-ad71-443cc759ca12"
      },
      "source": [
        "#[2-19] 전세계 맥주,증류주,와인, 알코올이 소비에 대한(df2)'Q1, Q2, Q3를 구해봅니다\n",
        "df2.quantile([0.25, 0.5, 0.75])"
      ],
      "execution_count": 34,
      "outputs": [
        {
          "output_type": "execute_result",
          "data": {
            "text/html": [
              "<div>\n",
              "<style scoped>\n",
              "    .dataframe tbody tr th:only-of-type {\n",
              "        vertical-align: middle;\n",
              "    }\n",
              "\n",
              "    .dataframe tbody tr th {\n",
              "        vertical-align: top;\n",
              "    }\n",
              "\n",
              "    .dataframe thead th {\n",
              "        text-align: right;\n",
              "    }\n",
              "</style>\n",
              "<table border=\"1\" class=\"dataframe\">\n",
              "  <thead>\n",
              "    <tr style=\"text-align: right;\">\n",
              "      <th></th>\n",
              "      <th>맥주</th>\n",
              "      <th>증류주</th>\n",
              "      <th>와인</th>\n",
              "      <th>알코올</th>\n",
              "    </tr>\n",
              "  </thead>\n",
              "  <tbody>\n",
              "    <tr>\n",
              "      <th>0.25</th>\n",
              "      <td>20.0</td>\n",
              "      <td>4.0</td>\n",
              "      <td>1.0</td>\n",
              "      <td>1.3</td>\n",
              "    </tr>\n",
              "    <tr>\n",
              "      <th>0.50</th>\n",
              "      <td>76.0</td>\n",
              "      <td>56.0</td>\n",
              "      <td>8.0</td>\n",
              "      <td>4.2</td>\n",
              "    </tr>\n",
              "    <tr>\n",
              "      <th>0.75</th>\n",
              "      <td>188.0</td>\n",
              "      <td>128.0</td>\n",
              "      <td>59.0</td>\n",
              "      <td>7.2</td>\n",
              "    </tr>\n",
              "  </tbody>\n",
              "</table>\n",
              "</div>"
            ],
            "text/plain": [
              "         맥주    증류주    와인  알코올\n",
              "0.25   20.0    4.0   1.0  1.3\n",
              "0.50   76.0   56.0   8.0  4.2\n",
              "0.75  188.0  128.0  59.0  7.2"
            ]
          },
          "metadata": {},
          "execution_count": 34
        }
      ]
    },
    {
      "cell_type": "code",
      "metadata": {
        "colab": {
          "base_uri": "https://localhost:8080/",
          "height": 142
        },
        "id": "LgrhLAPUo4M8",
        "outputId": "dc69cbb1-cb47-455d-92cc-286a2b773ca9"
      },
      "source": [
        "temp = df2.quantile([0.25, 0.5, 0.75])\n",
        "temp.index = ['Q1','Q2','Q3']\n",
        "temp"
      ],
      "execution_count": 35,
      "outputs": [
        {
          "output_type": "execute_result",
          "data": {
            "text/html": [
              "<div>\n",
              "<style scoped>\n",
              "    .dataframe tbody tr th:only-of-type {\n",
              "        vertical-align: middle;\n",
              "    }\n",
              "\n",
              "    .dataframe tbody tr th {\n",
              "        vertical-align: top;\n",
              "    }\n",
              "\n",
              "    .dataframe thead th {\n",
              "        text-align: right;\n",
              "    }\n",
              "</style>\n",
              "<table border=\"1\" class=\"dataframe\">\n",
              "  <thead>\n",
              "    <tr style=\"text-align: right;\">\n",
              "      <th></th>\n",
              "      <th>맥주</th>\n",
              "      <th>증류주</th>\n",
              "      <th>와인</th>\n",
              "      <th>알코올</th>\n",
              "    </tr>\n",
              "  </thead>\n",
              "  <tbody>\n",
              "    <tr>\n",
              "      <th>Q1</th>\n",
              "      <td>20.0</td>\n",
              "      <td>4.0</td>\n",
              "      <td>1.0</td>\n",
              "      <td>1.3</td>\n",
              "    </tr>\n",
              "    <tr>\n",
              "      <th>Q2</th>\n",
              "      <td>76.0</td>\n",
              "      <td>56.0</td>\n",
              "      <td>8.0</td>\n",
              "      <td>4.2</td>\n",
              "    </tr>\n",
              "    <tr>\n",
              "      <th>Q3</th>\n",
              "      <td>188.0</td>\n",
              "      <td>128.0</td>\n",
              "      <td>59.0</td>\n",
              "      <td>7.2</td>\n",
              "    </tr>\n",
              "  </tbody>\n",
              "</table>\n",
              "</div>"
            ],
            "text/plain": [
              "       맥주    증류주    와인  알코올\n",
              "Q1   20.0    4.0   1.0  1.3\n",
              "Q2   76.0   56.0   8.0  4.2\n",
              "Q3  188.0  128.0  59.0  7.2"
            ]
          },
          "metadata": {},
          "execution_count": 35
        }
      ]
    },
    {
      "cell_type": "code",
      "metadata": {
        "colab": {
          "base_uri": "https://localhost:8080/"
        },
        "id": "HQpYHWTDpEbh",
        "outputId": "37e00e3f-1339-4833-de6f-0e9161f7f141"
      },
      "source": [
        "# * 전세계 맥주,증류주,와인, 알코올이 소비에 대한(df2)'표준편차','분산'에 대해서도 작업해봅니다\n",
        "df2.std()"
      ],
      "execution_count": 36,
      "outputs": [
        {
          "output_type": "execute_result",
          "data": {
            "text/plain": [
              "맥주     101.143103\n",
              "증류주     88.284312\n",
              "와인      79.697598\n",
              "알코올      3.773298\n",
              "dtype: float64"
            ]
          },
          "metadata": {},
          "execution_count": 36
        }
      ]
    },
    {
      "cell_type": "code",
      "metadata": {
        "colab": {
          "base_uri": "https://localhost:8080/"
        },
        "id": "4O6EYTm3pckF",
        "outputId": "e1292cf4-cdd6-4767-e2c1-1a153efcdf64"
      },
      "source": [
        "df2.var()"
      ],
      "execution_count": 37,
      "outputs": [
        {
          "output_type": "execute_result",
          "data": {
            "text/plain": [
              "맥주     10229.927191\n",
              "증류주     7794.119765\n",
              "와인      6351.707200\n",
              "알코올       14.237779\n",
              "dtype: float64"
            ]
          },
          "metadata": {},
          "execution_count": 37
        }
      ]
    },
    {
      "cell_type": "code",
      "metadata": {
        "colab": {
          "base_uri": "https://localhost:8080/"
        },
        "id": "ZLE19W3LpecU",
        "outputId": "14eaafb0-4482-4ea9-df89-7e7e8fa3ebda"
      },
      "source": [
        "#[2-20] df(object dtype이 존재함)에 대해서 컬럼별 min을 구해 봅니다\n",
        "# dtype()이 object이 컬럼의 min은 오름차순 정렬시 가장앞에 있는것\n",
        "# dtype()이 object이 컬럼의 max는 오름차순 정렬시 가장뒤에 있는것\n",
        "# 문자열 정렬시에는 문자의 코드값을 사용함: ord(문자)\n",
        "df.min()"
      ],
      "execution_count": 38,
      "outputs": [
        {
          "output_type": "execute_result",
          "data": {
            "text/plain": [
              "국가     Afghanistan\n",
              "맥주               0\n",
              "증류주              0\n",
              "와인               0\n",
              "알코올              0\n",
              "대륙              AF\n",
              "dtype: object"
            ]
          },
          "metadata": {},
          "execution_count": 38
        }
      ]
    },
    {
      "cell_type": "code",
      "metadata": {
        "colab": {
          "base_uri": "https://localhost:8080/"
        },
        "id": "8e8InvEbqQwy",
        "outputId": "500e3fd5-8beb-4ba7-9832-736ac4f845ad"
      },
      "source": [
        "df.max()"
      ],
      "execution_count": 39,
      "outputs": [
        {
          "output_type": "execute_result",
          "data": {
            "text/plain": [
              "국가     Zimbabwe\n",
              "맥주          376\n",
              "증류주         438\n",
              "와인          370\n",
              "알코올        14.4\n",
              "대륙           SA\n",
              "dtype: object"
            ]
          },
          "metadata": {},
          "execution_count": 39
        }
      ]
    },
    {
      "cell_type": "code",
      "metadata": {
        "colab": {
          "base_uri": "https://localhost:8080/"
        },
        "id": "OpK8qqw5qS_k",
        "outputId": "aaab0e75-602c-4a3b-d799-cfc3e42e829b"
      },
      "source": [
        "ord('0'), ord('1'), ord('A'), ord('B'), ord('a'), ord('b')"
      ],
      "execution_count": 41,
      "outputs": [
        {
          "output_type": "execute_result",
          "data": {
            "text/plain": [
              "(48, 49, 65, 66, 97, 98)"
            ]
          },
          "metadata": {},
          "execution_count": 41
        }
      ]
    },
    {
      "cell_type": "code",
      "metadata": {
        "id": "-Mk3OkUSqWeF"
      },
      "source": [
        ""
      ],
      "execution_count": null,
      "outputs": []
    }
  ]
}