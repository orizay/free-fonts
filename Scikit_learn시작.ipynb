{
  "nbformat": 4,
  "nbformat_minor": 0,
  "metadata": {
    "colab": {
      "name": "Scikit-learn시작.ipynb",
      "provenance": [],
      "collapsed_sections": [],
      "authorship_tag": "ABX9TyOfw4RqPIzkF1N7uZ2hDgL3",
      "include_colab_link": true
    },
    "kernelspec": {
      "name": "python3",
      "display_name": "Python 3"
    },
    "language_info": {
      "name": "python"
    }
  },
  "cells": [
    {
      "cell_type": "markdown",
      "metadata": {
        "id": "view-in-github",
        "colab_type": "text"
      },
      "source": [
        "<a href=\"https://colab.research.google.com/github/orizay/free-fonts/blob/master/Scikit_learn%EC%8B%9C%EC%9E%91.ipynb\" target=\"_parent\"><img src=\"https://colab.research.google.com/assets/colab-badge.svg\" alt=\"Open In Colab\"/></a>"
      ]
    },
    {
      "cell_type": "markdown",
      "metadata": {
        "id": "z3iZLxTfZeX-"
      },
      "source": [
        "# ***사이킷런(scikit-learn)시작***\n",
        "![sklearn.png](data:image/png;base64,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)"
      ]
    },
    {
      "cell_type": "markdown",
      "metadata": {
        "id": "JfmVcOhyZq2w"
      },
      "source": [
        "## scikit-learn 특징\n",
        "  - 다양한 머신러닝 알고리즘을 구현한 파이썬 라이브러리\n",
        "  - 심플화고 일관성 있는 API,유용한 온라인 문서,풍부한 예제\n",
        "  - 머신러닝을 위한 쉽고 효율적인 개발 라이브러리 제고\n",
        "  - 다양한 머신러닝 관련 알고리즘과 개발을 위한 프레임워크와 API 제공\n",
        "  - 많은 사람들이 사용하며 다양한 환경에서 검증된 라이브러리"
      ]
    },
    {
      "cell_type": "markdown",
      "metadata": {
        "id": "tkBkXv_TbFYH"
      },
      "source": [
        "## scikit-learn 주요 모듈\n",
        "```sklearn.datasets```    내장된 예제 데이터 세트\n",
        "\n",
        "```sklearn.preprocessing```   다양한 데이터 전처리 기능 제공(변환,정규화,스케일링 등)\n",
        "\n",
        "```sklearn.feature_selection```   특징(feature)를 선택할 수  있는 기능 제공\n",
        "\n",
        "```sklearn.feature_extraction```  특징(feature)추출에 사용\n",
        "\n",
        "```sklearn.decomposition```  차원 축소 관련 알고리즘 지원(PCA,NMF,Truncated SVD 등)\n",
        "\n",
        "```sklearn.model_selection```  교차 검증을 위해 데이터를 학습/테스트용으로 분리,최적 파라미터를 추출하는 API제공(GridSearch등)\n",
        "\n",
        "```sklearn.metrics```  분류,회귀,클러스터링,Pairwise에 대한 다양한 성능 측정 방법 제공(Accuracy,Precision,Recall,ROC-AUC,RMSE등)\n",
        "\n",
        "```sklearn.pipeline```  특징 처리 등의 변환과ML알고리즘 학습,예측 등을 묶어서 실행할 수 있는 유틸리티 제공\n",
        "\n",
        "```sklearn.linear_mode```  선형 회귀,릿지(Ridge),라쏘(Lasso),로지스틱 회귀 등 회귀 관련 알고리즘과 SGD(Stochastic Gradient Descent)알고리즘 제공\n",
        "\n",
        "```sklearn.svm```  서포트 벡터 머신 알고리즘 제공\n",
        "\n",
        "```sklearn.neighbors```  최근접 이웃 알고리즘 제공(K-NN등)\n",
        "\n",
        "```sklearn.naive_bayes```  나이브 베이즈 알고리즘 제공(가우시안NB,다항 분포NB 등)\n",
        "\n",
        "```sklearn.tree```  의사 결정 트리 알고리즘 제공\n",
        "\n",
        "```sklearn.ensemble```  앙상블 알고리즘 제공(Random Forest,AdaBoost,GradientBoost 등)\n",
        "\n",
        "```sklearn.cluster```  비지도 클러스터링 알고리즘 제공(K-Means,계층형 클러스터링, DBSCAN 등)"
      ]
    },
    {
      "cell_type": "markdown",
      "metadata": {
        "id": "rZuiBoP0p6js"
      },
      "source": [
        "# estimator API\n",
        "- 일관성:모든 객체는 일관된 문서를 갖춘 제한된 메서드 집합에서 비롯된 고통 인터페이스 공유\n",
        "- 검사(inspection):모든 지정된 파라미터 값은 공개 속성으로 노출\n",
        "- 제한된 객체 계층 구조\n",
        "  - 알고리즘만 파이썬 클래스에 의해 표현\n",
        "  - 데이터 세트는 표준 포맷(NumPy 배열,Pandas DataFrame, Scipy 희소 행렬)으로 표현\n",
        "  - 매개변수명은 표준 파이썬 문자열 사용\n",
        "- 구성:많은 머신러닝 작업은 기본 알고리즘의  시퀀스로 나타낼 수 있으며,Scikit-Learn은 가능한 곳이라면 어디서든 이 방식을 사용\n",
        "- 합리적인 기본값: 모델이 사용자 지정 파라미터를 필요로 할 때 라이브러리가 적적한 기본값을 정의"
      ]
    },
    {
      "cell_type": "markdown",
      "metadata": {
        "id": "jS9bSIxmrMiu"
      },
      "source": [
        "# API 사용 방법\n",
        "1. Scikit-Learn으로 부터 적절한택```estimator``` 클래스를 임포트 해서 모델의 클래스 선택\n",
        "2. 클래스를 원하는 값으로 인스턴스화해서 모델의 하이퍼파라미터 선택\n",
        "3. 데이터를 특징 배열과 대상 벡터로 배치\n",
        "4. 모델 인스턴스의 ```fit()``` 메서드를 호출해 모델을 데이터에 적합\n",
        "5. 모델을 새 데이터에 대해서 적용\n",
        "\n",
        "\n",
        "- 지도 학습:대체로 ```priedict()``` 메서드를 사용해 알려지지 않은 데이터에 대한 레이블 예측\n",
        "- 비지도 학습:데체체 ```transform()``` 이나 ```predict()``` 메서드를 상용해 데이터의 속성을 변환하거나 추론"
      ]
    },
    {
      "cell_type": "markdown",
      "metadata": {
        "id": "uNkXX1KAs2w6"
      },
      "source": [
        "# API 사용 예제"
      ]
    },
    {
      "cell_type": "code",
      "metadata": {
        "id": "Svo9WGCqs7I6"
      },
      "source": [
        "import numpy as np\n",
        "import matplotlib.pyplot as plt\n",
        "plt.style.use(['seaborn-whitegrid'])"
      ],
      "execution_count": 16,
      "outputs": []
    },
    {
      "cell_type": "code",
      "metadata": {
        "colab": {
          "base_uri": "https://localhost:8080/",
          "height": 262
        },
        "id": "1i3tqIO_s-vZ",
        "outputId": "98285cdd-2afd-422f-8419-3cd827f7695f"
      },
      "source": [
        "x = 10 * np.random.rand(50)\n",
        "y = 2 * x + np.random.rand(50)\n",
        "\n",
        "plt.scatter(x,y);"
      ],
      "execution_count": 2,
      "outputs": [
        {
          "output_type": "display_data",
          "data": {
            "image/png": "[encoded data removed]",
            "text/plain": [
              "<Figure size 432x288 with 1 Axes>"
            ]
          },
          "metadata": {
            "tags": [],
            "needs_background": "light"
          }
        }
      ]
    },
    {
      "cell_type": "code",
      "metadata": {
        "id": "ddWVWBPdtl6D"
      },
      "source": [
        "# 1.적절한 estimator 클래스를 임포트해서 모델의 클래스 선택\n",
        "from sklearn.linear_model import LinearRegression"
      ],
      "execution_count": 3,
      "outputs": []
    },
    {
      "cell_type": "code",
      "metadata": {
        "colab": {
          "base_uri": "https://localhost:8080/"
        },
        "id": "Jx8syZMAuKGd",
        "outputId": "efe797cf-2e4c-4e28-c4fd-79dc22bfa433"
      },
      "source": [
        "# 2.클래스를 원하는 값으로 인스턴스화해서 모델의 하이퍼파라미터 선택\n",
        "model = LinearRegression(fit_intercept=True)\n",
        "model"
      ],
      "execution_count": 4,
      "outputs": [
        {
          "output_type": "execute_result",
          "data": {
            "text/plain": [
              "LinearRegression(copy_X=True, fit_intercept=True, n_jobs=None, normalize=False)"
            ]
          },
          "metadata": {
            "tags": []
          },
          "execution_count": 4
        }
      ]
    },
    {
      "cell_type": "code",
      "metadata": {
        "id": "yeM1vBzZufgY",
        "colab": {
          "base_uri": "https://localhost:8080/"
        },
        "outputId": "5ccffa3f-47c9-429b-92ff-6d163645a241"
      },
      "source": [
        "# 3.데이터를 특징 배열과 대상 벡터로 배치\n",
        "x"
      ],
      "execution_count": 5,
      "outputs": [
        {
          "output_type": "execute_result",
          "data": {
            "text/plain": [
              "array([2.40260041, 8.00099993, 1.04214733, 2.73037957, 3.54796087,\n",
              "       2.21579292, 8.32859567, 4.32959915, 0.20941959, 5.33317392,\n",
              "       8.14317363, 7.29855889, 3.02165505, 0.05982281, 2.16318682,\n",
              "       2.09767362, 3.64522179, 4.78868584, 9.07665738, 2.6293675 ,\n",
              "       7.86808424, 0.78244627, 2.26695735, 0.74727441, 3.87299841,\n",
              "       5.10950975, 4.26922679, 0.9871649 , 3.58228015, 9.75316466,\n",
              "       9.99502943, 6.0934215 , 6.02141473, 6.10654619, 1.55151302,\n",
              "       7.93466668, 3.04898378, 9.47959757, 8.59360247, 7.37446008,\n",
              "       9.32427321, 4.56811965, 7.26558658, 2.59200074, 3.36161519,\n",
              "       9.05824284, 9.0782036 , 1.70154009, 9.88689441, 5.85374485])"
            ]
          },
          "metadata": {
            "tags": []
          },
          "execution_count": 5
        }
      ]
    },
    {
      "cell_type": "code",
      "metadata": {
        "colab": {
          "base_uri": "https://localhost:8080/"
        },
        "id": "Dt4KLtaWVhVn",
        "outputId": "69d15ff5-59bc-4b21-85f7-8692f6782fd3"
      },
      "source": [
        "X = x[:, np.newaxis]\n",
        "X"
      ],
      "execution_count": 6,
      "outputs": [
        {
          "output_type": "execute_result",
          "data": {
            "text/plain": [
              "array([[2.40260041],\n",
              "       [8.00099993],\n",
              "       [1.04214733],\n",
              "       [2.73037957],\n",
              "       [3.54796087],\n",
              "       [2.21579292],\n",
              "       [8.32859567],\n",
              "       [4.32959915],\n",
              "       [0.20941959],\n",
              "       [5.33317392],\n",
              "       [8.14317363],\n",
              "       [7.29855889],\n",
              "       [3.02165505],\n",
              "       [0.05982281],\n",
              "       [2.16318682],\n",
              "       [2.09767362],\n",
              "       [3.64522179],\n",
              "       [4.78868584],\n",
              "       [9.07665738],\n",
              "       [2.6293675 ],\n",
              "       [7.86808424],\n",
              "       [0.78244627],\n",
              "       [2.26695735],\n",
              "       [0.74727441],\n",
              "       [3.87299841],\n",
              "       [5.10950975],\n",
              "       [4.26922679],\n",
              "       [0.9871649 ],\n",
              "       [3.58228015],\n",
              "       [9.75316466],\n",
              "       [9.99502943],\n",
              "       [6.0934215 ],\n",
              "       [6.02141473],\n",
              "       [6.10654619],\n",
              "       [1.55151302],\n",
              "       [7.93466668],\n",
              "       [3.04898378],\n",
              "       [9.47959757],\n",
              "       [8.59360247],\n",
              "       [7.37446008],\n",
              "       [9.32427321],\n",
              "       [4.56811965],\n",
              "       [7.26558658],\n",
              "       [2.59200074],\n",
              "       [3.36161519],\n",
              "       [9.05824284],\n",
              "       [9.0782036 ],\n",
              "       [1.70154009],\n",
              "       [9.88689441],\n",
              "       [5.85374485]])"
            ]
          },
          "metadata": {
            "tags": []
          },
          "execution_count": 6
        }
      ]
    },
    {
      "cell_type": "code",
      "metadata": {
        "colab": {
          "base_uri": "https://localhost:8080/"
        },
        "id": "JBB_oX2IVxkb",
        "outputId": "20fc29e0-ed63-4bc8-c0e5-81cc72144d3f"
      },
      "source": [
        "# 4.모델 인스턴스의 fit()메서드를 호출해 모델을 데이터에 적합\n",
        "model.fit(X,y)"
      ],
      "execution_count": 7,
      "outputs": [
        {
          "output_type": "execute_result",
          "data": {
            "text/plain": [
              "LinearRegression(copy_X=True, fit_intercept=True, n_jobs=None, normalize=False)"
            ]
          },
          "metadata": {
            "tags": []
          },
          "execution_count": 7
        }
      ]
    },
    {
      "cell_type": "code",
      "metadata": {
        "colab": {
          "base_uri": "https://localhost:8080/"
        },
        "id": "MKrY2qmzWKB-",
        "outputId": "3579f96f-992c-499d-e9f9-d0a6fc9957aa"
      },
      "source": [
        "model.coef_"
      ],
      "execution_count": 8,
      "outputs": [
        {
          "output_type": "execute_result",
          "data": {
            "text/plain": [
              "array([1.98291987])"
            ]
          },
          "metadata": {
            "tags": []
          },
          "execution_count": 8
        }
      ]
    },
    {
      "cell_type": "code",
      "metadata": {
        "colab": {
          "base_uri": "https://localhost:8080/"
        },
        "id": "c1pLutFTWOJq",
        "outputId": "7f16cabd-b985-4bb5-e4db-448c4c635330"
      },
      "source": [
        "model.intercept_"
      ],
      "execution_count": 9,
      "outputs": [
        {
          "output_type": "execute_result",
          "data": {
            "text/plain": [
              "0.573503413973981"
            ]
          },
          "metadata": {
            "tags": []
          },
          "execution_count": 9
        }
      ]
    },
    {
      "cell_type": "code",
      "metadata": {
        "id": "KWMASDb_WX_5"
      },
      "source": [
        "# 5.모델을 새 데이터에 대해서 적용\n",
        "xfit = np.linspace(-1,11)\n",
        "Xfit = xfit[:, np.newaxis]\n",
        "yfit = model.predict(Xfit)"
      ],
      "execution_count": 10,
      "outputs": []
    },
    {
      "cell_type": "code",
      "metadata": {
        "colab": {
          "base_uri": "https://localhost:8080/",
          "height": 262
        },
        "id": "GEdVHXxHXIUF",
        "outputId": "a03691c4-54c9-4968-e3a7-2c3fa8d766b9"
      },
      "source": [
        "plt.scatter(x,y)\n",
        "plt.plot(xfit, yfit,'--r');"
      ],
      "execution_count": 16,
      "outputs": [
        {
          "output_type": "display_data",
          "data": {
            "image/png": "[encoded data removed]",
            "text/plain": [
              "<Figure size 432x288 with 1 Axes>"
            ]
          },
          "metadata": {
            "tags": []
          }
        }
      ]
    },
    {
      "cell_type": "markdown",
      "metadata": {
        "id": "VURf9XZnv9Bx"
      },
      "source": [
        "# ***예제 데이터 세트***"
      ]
    },
    {
      "cell_type": "markdown",
      "metadata": {
        "id": "p5aRJKkqwGl4"
      },
      "source": [
        "# 분류 또는 회귀용 데이터 세\n",
        "\n",
        "```datasets.load_boston()```  미국 보스턴의 집에 대한 특징과 가격 데이터(회귀용)\n",
        "\n",
        "```datasets.load_breast_cancer()```  위스콘신 유방암 특징들과 아성/음성 레이블 데이터(분류용)\n",
        "\n",
        "```datasets.load_diabetes()```  당뇨 데이터(회귀용)\n",
        "\n",
        "```datasets.load_digits()```  0 에서 9 까지 숫자 이미지 픽셀 데이터 (분류용)\n",
        "\n",
        "```datasets.laod_iris()```  붓꽃에 대한 특징을 가진 데이터 (분류용)\n"
      ]
    },
    {
      "cell_type": "markdown",
      "metadata": {
        "id": "nbncoDnHxwFT"
      },
      "source": [
        "# 온라인 데이터 세트\n",
        "- 데이터 크가가 커서 온라인에서 데이터를 다운로드 한 후에 불러오는 예제 데이터 세트\n",
        "\n",
        "```fetch_california_housing()```  캘리포니아 주택 가격 데이터 \n",
        "\n",
        "```fetch_covtype()```  회귀 분석용 토지 조사 데이터\n",
        "\n",
        "```fetch_olivetti_faces()```  얼굴 이지미 데이터\n",
        "\n",
        "```fetch_lfw_people()```  얼굴 이미지 데이터\n",
        "\n",
        "```fetch_lfw_paris()```  얼굴 이미지 데이터\n",
        "\n",
        "```fetch_rcv1()```  로이터 뉴스 말몽치 데이터\n",
        "\n",
        "```fetch_mldata()```  ML 웹사이트에서 다운로드"
      ]
    },
    {
      "cell_type": "markdown",
      "metadata": {
        "id": "c1VuROgi4CyU"
      },
      "source": [
        "# 분류와 클러스터링을 위한 표본 데이터 생성\n",
        "\n",
        "```datasets.make_classification()```  분류를 위한 데이터 세트 생성,높은 상관도,불필요한 속성 등의 노이즈를 고려한 데이터를 무작위로 생성\n",
        "\n",
        "```datasets.make_blobs()``` 클러스터링을 위한 데이터 세트 생성,군집 지정 개수에 따라 여러 가지 클러스터링을 위한 데이터 셋트를 무작위로 생성"
      ]
    },
    {
      "cell_type": "markdown",
      "metadata": {
        "id": "v1pQd-DvYtAp"
      },
      "source": [
        "# 예제 데이터 세트 구조\n",
        "- 일반적으로 딕셔너리 형태로 구성\n",
        "- data: 특징 데이터 세트\n",
        "- target: 분류용은 레이블 값,회구용은 숫자 결과값 데이터\n",
        "- target_names: 개별 레이블의 이름(분류용)\n",
        "- feature_naames: 특징 이름\n",
        "- DESCR: 데이터 세트에 대한 설명과 각 특징 설명"
      ]
    },
    {
      "cell_type": "code",
      "metadata": {
        "colab": {
          "base_uri": "https://localhost:8080/"
        },
        "id": "HwDz8TcoZ3jR",
        "outputId": "1f1b4b1b-2cae-4532-e5c0-afc6918ff397"
      },
      "source": [
        "from sklearn.datasets import load_diabetes\n",
        "# 당뇨 데이터 세트\n",
        "\n",
        "diabetes = load_diabetes()\n",
        "print(diabetes.keys())"
      ],
      "execution_count": 7,
      "outputs": [
        {
          "output_type": "stream",
          "text": [
            "dict_keys(['data', 'target', 'DESCR', 'feature_names', 'data_filename', 'target_filename'])\n"
          ],
          "name": "stdout"
        }
      ]
    },
    {
      "cell_type": "code",
      "metadata": {
        "colab": {
          "base_uri": "https://localhost:8080/"
        },
        "id": "Z-Bx0ZvlaWjz",
        "outputId": "ba86dde9-a43d-4b52-98ab-3f6247170e45"
      },
      "source": [
        "print(diabetes.data)"
      ],
      "execution_count": 8,
      "outputs": [
        {
          "output_type": "stream",
          "text": [
            "[[ 0.03807591  0.05068012  0.06169621 ... -0.00259226  0.01990842\n",
            "  -0.01764613]\n",
            " [-0.00188202 -0.04464164 -0.05147406 ... -0.03949338 -0.06832974\n",
            "  -0.09220405]\n",
            " [ 0.08529891  0.05068012  0.04445121 ... -0.00259226  0.00286377\n",
            "  -0.02593034]\n",
            " ...\n",
            " [ 0.04170844  0.05068012 -0.01590626 ... -0.01107952 -0.04687948\n",
            "   0.01549073]\n",
            " [-0.04547248 -0.04464164  0.03906215 ...  0.02655962  0.04452837\n",
            "  -0.02593034]\n",
            " [-0.04547248 -0.04464164 -0.0730303  ... -0.03949338 -0.00421986\n",
            "   0.00306441]]\n"
          ],
          "name": "stdout"
        }
      ]
    },
    {
      "cell_type": "code",
      "metadata": {
        "colab": {
          "base_uri": "https://localhost:8080/"
        },
        "id": "WYlDymmvaiTX",
        "outputId": "8d80b24b-e744-4ec5-ac1b-7b4e372974f1"
      },
      "source": [
        "print(diabetes.target)"
      ],
      "execution_count": 9,
      "outputs": [
        {
          "output_type": "stream",
          "text": [
            "[151.  75. 141. 206. 135.  97. 138.  63. 110. 310. 101.  69. 179. 185.\n",
            " 118. 171. 166. 144.  97. 168.  68.  49.  68. 245. 184. 202. 137.  85.\n",
            " 131. 283. 129.  59. 341.  87.  65. 102. 265. 276. 252.  90. 100.  55.\n",
            "  61.  92. 259.  53. 190. 142.  75. 142. 155. 225.  59. 104. 182. 128.\n",
            "  52.  37. 170. 170.  61. 144.  52. 128.  71. 163. 150.  97. 160. 178.\n",
            "  48. 270. 202. 111.  85.  42. 170. 200. 252. 113. 143.  51.  52. 210.\n",
            "  65. 141.  55. 134.  42. 111.  98. 164.  48.  96.  90. 162. 150. 279.\n",
            "  92.  83. 128. 102. 302. 198.  95.  53. 134. 144. 232.  81. 104.  59.\n",
            " 246. 297. 258. 229. 275. 281. 179. 200. 200. 173. 180.  84. 121. 161.\n",
            "  99. 109. 115. 268. 274. 158. 107.  83. 103. 272.  85. 280. 336. 281.\n",
            " 118. 317. 235.  60. 174. 259. 178. 128.  96. 126. 288.  88. 292.  71.\n",
            " 197. 186.  25.  84.  96. 195.  53. 217. 172. 131. 214.  59.  70. 220.\n",
            " 268. 152.  47.  74. 295. 101. 151. 127. 237. 225.  81. 151. 107.  64.\n",
            " 138. 185. 265. 101. 137. 143. 141.  79. 292. 178.  91. 116.  86. 122.\n",
            "  72. 129. 142.  90. 158.  39. 196. 222. 277.  99. 196. 202. 155.  77.\n",
            " 191.  70.  73.  49.  65. 263. 248. 296. 214. 185.  78.  93. 252. 150.\n",
            "  77. 208.  77. 108. 160.  53. 220. 154. 259.  90. 246. 124.  67.  72.\n",
            " 257. 262. 275. 177.  71.  47. 187. 125.  78.  51. 258. 215. 303. 243.\n",
            "  91. 150. 310. 153. 346.  63.  89.  50.  39. 103. 308. 116. 145.  74.\n",
            "  45. 115. 264.  87. 202. 127. 182. 241.  66.  94. 283.  64. 102. 200.\n",
            " 265.  94. 230. 181. 156. 233.  60. 219.  80.  68. 332. 248.  84. 200.\n",
            "  55.  85.  89.  31. 129.  83. 275.  65. 198. 236. 253. 124.  44. 172.\n",
            " 114. 142. 109. 180. 144. 163. 147.  97. 220. 190. 109. 191. 122. 230.\n",
            " 242. 248. 249. 192. 131. 237.  78. 135. 244. 199. 270. 164.  72.  96.\n",
            " 306.  91. 214.  95. 216. 263. 178. 113. 200. 139. 139.  88. 148.  88.\n",
            " 243.  71.  77. 109. 272.  60.  54. 221.  90. 311. 281. 182. 321.  58.\n",
            " 262. 206. 233. 242. 123. 167.  63. 197.  71. 168. 140. 217. 121. 235.\n",
            " 245.  40.  52. 104. 132.  88.  69. 219.  72. 201. 110.  51. 277.  63.\n",
            " 118.  69. 273. 258.  43. 198. 242. 232. 175.  93. 168. 275. 293. 281.\n",
            "  72. 140. 189. 181. 209. 136. 261. 113. 131. 174. 257.  55.  84.  42.\n",
            " 146. 212. 233.  91. 111. 152. 120.  67. 310.  94. 183.  66. 173.  72.\n",
            "  49.  64.  48. 178. 104. 132. 220.  57.]\n"
          ],
          "name": "stdout"
        }
      ]
    },
    {
      "cell_type": "code",
      "metadata": {
        "colab": {
          "base_uri": "https://localhost:8080/"
        },
        "id": "c6rxDqvjanz1",
        "outputId": "37bc632f-893b-4915-dcf2-0e6adbada26a"
      },
      "source": [
        "print(diabetes.DESCR)"
      ],
      "execution_count": 10,
      "outputs": [
        {
          "output_type": "stream",
          "text": [
            ".. _diabetes_dataset:\n",
            "\n",
            "Diabetes dataset\n",
            "----------------\n",
            "\n",
            "Ten baseline variables, age, sex, body mass index, average blood\n",
            "pressure, and six blood serum measurements were obtained for each of n =\n",
            "442 diabetes patients, as well as the response of interest, a\n",
            "quantitative measure of disease progression one year after baseline.\n",
            "\n",
            "**Data Set Characteristics:**\n",
            "\n",
            "  :Number of Instances: 442\n",
            "\n",
            "  :Number of Attributes: First 10 columns are numeric predictive values\n",
            "\n",
            "  :Target: Column 11 is a quantitative measure of disease progression one year after baseline\n",
            "\n",
            "  :Attribute Information:\n",
            "      - Age\n",
            "      - Sex\n",
            "      - Body mass index\n",
            "      - Average blood pressure\n",
            "      - S1\n",
            "      - S2\n",
            "      - S3\n",
            "      - S4\n",
            "      - S5\n",
            "      - S6\n",
            "\n",
            "Note: Each of these 10 feature variables have been mean centered and scaled by the standard deviation times `n_samples` (i.e. the sum of squares of each column totals 1).\n",
            "\n",
            "Source URL:\n",
            "https://www4.stat.ncsu.edu/~boos/var.select/diabetes.html\n",
            "\n",
            "For more information see:\n",
            "Bradley Efron, Trevor Hastie, Iain Johnstone and Robert Tibshirani (2004) \"Least Angle Regression,\" Annals of Statistics (with discussion), 407-499.\n",
            "(https://web.stanford.edu/~hastie/Papers/LARS/LeastAngle_2002.pdf)\n"
          ],
          "name": "stdout"
        }
      ]
    },
    {
      "cell_type": "code",
      "metadata": {
        "colab": {
          "base_uri": "https://localhost:8080/"
        },
        "id": "7GWJQrpIawyY",
        "outputId": "e6f01062-b58b-4224-fb87-0b75f1da96be"
      },
      "source": [
        "print(diabetes.feature_names)"
      ],
      "execution_count": 11,
      "outputs": [
        {
          "output_type": "stream",
          "text": [
            "['age', 'sex', 'bmi', 'bp', 's1', 's2', 's3', 's4', 's5', 's6']\n"
          ],
          "name": "stdout"
        }
      ]
    },
    {
      "cell_type": "code",
      "metadata": {
        "colab": {
          "base_uri": "https://localhost:8080/"
        },
        "id": "gJsEtvfKbLBP",
        "outputId": "9c64831a-d22f-488f-879b-c10dd512c525"
      },
      "source": [
        "print(diabetes.data_filename)\n",
        "print(diabetes.target_filename)"
      ],
      "execution_count": 12,
      "outputs": [
        {
          "output_type": "stream",
          "text": [
            "/usr/local/lib/python3.7/dist-packages/sklearn/datasets/data/diabetes_data.csv.gz\n",
            "/usr/local/lib/python3.7/dist-packages/sklearn/datasets/data/diabetes_target.csv.gz\n"
          ],
          "name": "stdout"
        }
      ]
    },
    {
      "cell_type": "markdown",
      "metadata": {
        "id": "7j6NkYhXbo_l"
      },
      "source": [
        "# ```model_selection``` 모듈\n",
        "- 학습용 데이터와 테스트 데이터로 분리\n",
        "- 교차 검증 분할 및 평가\n",
        "- Estimator의 하이퍼 파라미터 튜닝을 위한 다양한 함수와 클래스 제공"
      ]
    },
    {
      "cell_type": "markdown",
      "metadata": {
        "id": "YwUB1ZfvcFje"
      },
      "source": [
        "# ```train_test_split()```: 학습/테스트 데이터 세트 분리"
      ]
    },
    {
      "cell_type": "code",
      "metadata": {
        "colab": {
          "base_uri": "https://localhost:8080/"
        },
        "id": "-rh3hoNebh4e",
        "outputId": "99d9ab63-8609-4829-906b-660b1eb693e9"
      },
      "source": [
        "from sklearn.linear_model import LinearRegression\n",
        "from sklearn.model_selection import train_test_split\n",
        "from sklearn.datasets import load_diabetes\n",
        "\n",
        "diabetes = load_diabetes()\n",
        "X_train, X_test, y_train, y_test = train_test_split(diabetes.data,diabetes.target,test_size=.3)\n",
        "\n",
        "model = LinearRegression()\n",
        "model.fit(X_train,y_train)\n",
        "\n",
        "print('학습 데이터 점수:{}'.format(model.score(X_train,y_train)))\n",
        "print('평가 데이터 점수:{}'.format(model.score(X_test,y_test)))"
      ],
      "execution_count": 13,
      "outputs": [
        {
          "output_type": "stream",
          "text": [
            "학습 데이터 점수:0.47270271630596283\n",
            "평가 데이터 점수:0.5914120524409182\n"
          ],
          "name": "stdout"
        }
      ]
    },
    {
      "cell_type": "code",
      "metadata": {
        "colab": {
          "base_uri": "https://localhost:8080/",
          "height": 369
        },
        "id": "i4_XFZLmecCe",
        "outputId": "c0ae05b8-3145-4795-bc14-616219b49a4c"
      },
      "source": [
        "import matplotlib.pyplot as plt\n",
        "\n",
        "predicted = model.predict(X_test)\n",
        "expected = y_test\n",
        "plt.figure(figsize=(10,5))\n",
        "plt.scatter(expected,predicted)\n",
        "plt.plot([30,350],[30,350],'--r')\n",
        "plt.tight_layout()"
      ],
      "execution_count": 14,
      "outputs": [
        {
          "output_type": "display_data",
          "data": {
            "image/png": "[encoded data removed]",
            "text/plain": [
              "<Figure size 720x360 with 1 Axes>"
            ]
          },
          "metadata": {
            "tags": [],
            "needs_background": "light"
          }
        }
      ]
    },
    {
      "cell_type": "markdown",
      "metadata": {
        "id": "MFOwsH6jf0bH"
      },
      "source": [
        "# ```cross_val_score()```:  교차 검증"
      ]
    },
    {
      "cell_type": "code",
      "metadata": {
        "colab": {
          "base_uri": "https://localhost:8080/"
        },
        "id": "_Fe7CD0ffZ31",
        "outputId": "5aba3008-f62a-4a2c-b750-c3b112d2961c"
      },
      "source": [
        "from sklearn.model_selection import cross_val_score,cross_validate\n",
        "\n",
        "scores = cross_val_score(model,diabetes.data,diabetes.target,cv=5)\n",
        "\n",
        "print('교차 검증 정확도:{}'.format(scores))\n",
        "print('교차 검증 정확도:{} +/- {}'.format(np.mean(scores),np.std(scores)))\n",
        "\n"
      ],
      "execution_count": 17,
      "outputs": [
        {
          "output_type": "stream",
          "text": [
            "교차 검증 정확도:[0.42955643 0.52259828 0.4826784  0.42650827 0.55024923]\n",
            "교차 검증 정확도:0.48231812211149394 +/- 0.049266197765632194\n"
          ],
          "name": "stdout"
        }
      ]
    },
    {
      "cell_type": "markdown",
      "metadata": {
        "id": "-a5ldos_hotv"
      },
      "source": [
        "# ```GridSearchCV```: 교차 검증과 최적 하이퍼 파라미터 찾기\n",
        "- 훈련 단계에서 학습한 파라미터에 영향을 받아서 최상의 파라미터를 찾는 일은 항상 어려운 문제\n",
        "- 다양한 모델의 훈련 과정을 자동화하고 ,교차 검사를 사용해 최적 값을 제공하는 도구 필요"
      ]
    },
    {
      "cell_type": "code",
      "metadata": {
        "colab": {
          "base_uri": "https://localhost:8080/",
          "height": 480
        },
        "id": "BCQ_IRIAg6DA",
        "outputId": "846bbe43-c25b-444b-9011-b37180ab568c"
      },
      "source": [
        "from sklearn.model_selection import GridSearchCV\n",
        "from sklearn.linear_model import Ridge\n",
        "import pandas as pd\n",
        "\n",
        "alpha = [0.001, 0.01, 0.1, 1, 10, 100, 1000]\n",
        "param_grid = dict(alpha=alpha)\n",
        "\n",
        "gs = GridSearchCV(estimator=Ridge(), param_grid=param_grid, cv=10)\n",
        "result = gs.fit(diabetes.data, diabetes.target)\n",
        "\n",
        "print('최적 점수: {}'.format(result.best_score_))\n",
        "print('최적 파라미터:{}'.format(result.best_params_))\n",
        "print(gs.best_estimator_)\n",
        "\n",
        "pd.DataFrame(result.cv_results_)"
      ],
      "execution_count": 19,
      "outputs": [
        {
          "output_type": "stream",
          "text": [
            "최적 점수: 0.4633240541517593\n",
            "최적 파라미터:{'alpha': 0.1}\n",
            "Ridge(alpha=0.1, copy_X=True, fit_intercept=True, max_iter=None,\n",
            "      normalize=False, random_state=None, solver='auto', tol=0.001)\n"
          ],
          "name": "stdout"
        },
        {
          "output_type": "execute_result",
          "data": {
            "text/html": [
              "<div>\n",
              "<style scoped>\n",
              "    .dataframe tbody tr th:only-of-type {\n",
              "        vertical-align: middle;\n",
              "    }\n",
              "\n",
              "    .dataframe tbody tr th {\n",
              "        vertical-align: top;\n",
              "    }\n",
              "\n",
              "    .dataframe thead th {\n",
              "        text-align: right;\n",
              "    }\n",
              "</style>\n",
              "<table border=\"1\" class=\"dataframe\">\n",
              "  <thead>\n",
              "    <tr style=\"text-align: right;\">\n",
              "      <th></th>\n",
              "      <th>mean_fit_time</th>\n",
              "      <th>std_fit_time</th>\n",
              "      <th>mean_score_time</th>\n",
              "      <th>std_score_time</th>\n",
              "      <th>param_alpha</th>\n",
              "      <th>params</th>\n",
              "      <th>split0_test_score</th>\n",
              "      <th>split1_test_score</th>\n",
              "      <th>split2_test_score</th>\n",
              "      <th>split3_test_score</th>\n",
              "      <th>split4_test_score</th>\n",
              "      <th>split5_test_score</th>\n",
              "      <th>split6_test_score</th>\n",
              "      <th>split7_test_score</th>\n",
              "      <th>split8_test_score</th>\n",
              "      <th>split9_test_score</th>\n",
              "      <th>mean_test_score</th>\n",
              "      <th>std_test_score</th>\n",
              "      <th>rank_test_score</th>\n",
              "    </tr>\n",
              "  </thead>\n",
              "  <tbody>\n",
              "    <tr>\n",
              "      <th>0</th>\n",
              "      <td>0.001621</td>\n",
              "      <td>0.001205</td>\n",
              "      <td>0.001285</td>\n",
              "      <td>0.001249</td>\n",
              "      <td>0.001</td>\n",
              "      <td>{'alpha': 0.001}</td>\n",
              "      <td>0.554415</td>\n",
              "      <td>0.233686</td>\n",
              "      <td>0.356799</td>\n",
              "      <td>0.620259</td>\n",
              "      <td>0.267033</td>\n",
              "      <td>0.619397</td>\n",
              "      <td>0.419907</td>\n",
              "      <td>0.433019</td>\n",
              "      <td>0.433431</td>\n",
              "      <td>0.684984</td>\n",
              "      <td>0.462293</td>\n",
              "      <td>0.145848</td>\n",
              "      <td>3</td>\n",
              "    </tr>\n",
              "    <tr>\n",
              "      <th>1</th>\n",
              "      <td>0.002140</td>\n",
              "      <td>0.001852</td>\n",
              "      <td>0.000872</td>\n",
              "      <td>0.000095</td>\n",
              "      <td>0.01</td>\n",
              "      <td>{'alpha': 0.01}</td>\n",
              "      <td>0.546297</td>\n",
              "      <td>0.244132</td>\n",
              "      <td>0.368901</td>\n",
              "      <td>0.613732</td>\n",
              "      <td>0.271717</td>\n",
              "      <td>0.623089</td>\n",
              "      <td>0.426074</td>\n",
              "      <td>0.424759</td>\n",
              "      <td>0.429484</td>\n",
              "      <td>0.680912</td>\n",
              "      <td>0.462910</td>\n",
              "      <td>0.141446</td>\n",
              "      <td>2</td>\n",
              "    </tr>\n",
              "    <tr>\n",
              "      <th>2</th>\n",
              "      <td>0.000857</td>\n",
              "      <td>0.000060</td>\n",
              "      <td>0.000731</td>\n",
              "      <td>0.000012</td>\n",
              "      <td>0.1</td>\n",
              "      <td>{'alpha': 0.1}</td>\n",
              "      <td>0.526550</td>\n",
              "      <td>0.244987</td>\n",
              "      <td>0.383530</td>\n",
              "      <td>0.606594</td>\n",
              "      <td>0.286094</td>\n",
              "      <td>0.618033</td>\n",
              "      <td>0.431230</td>\n",
              "      <td>0.441788</td>\n",
              "      <td>0.431968</td>\n",
              "      <td>0.662466</td>\n",
              "      <td>0.463324</td>\n",
              "      <td>0.132681</td>\n",
              "      <td>1</td>\n",
              "    </tr>\n",
              "    <tr>\n",
              "      <th>3</th>\n",
              "      <td>0.001057</td>\n",
              "      <td>0.000415</td>\n",
              "      <td>0.000835</td>\n",
              "      <td>0.000142</td>\n",
              "      <td>1</td>\n",
              "      <td>{'alpha': 1}</td>\n",
              "      <td>0.421593</td>\n",
              "      <td>0.168442</td>\n",
              "      <td>0.358004</td>\n",
              "      <td>0.512608</td>\n",
              "      <td>0.284928</td>\n",
              "      <td>0.514264</td>\n",
              "      <td>0.388246</td>\n",
              "      <td>0.484448</td>\n",
              "      <td>0.396502</td>\n",
              "      <td>0.525132</td>\n",
              "      <td>0.405417</td>\n",
              "      <td>0.108385</td>\n",
              "      <td>4</td>\n",
              "    </tr>\n",
              "    <tr>\n",
              "      <th>4</th>\n",
              "      <td>0.000884</td>\n",
              "      <td>0.000106</td>\n",
              "      <td>0.000889</td>\n",
              "      <td>0.000401</td>\n",
              "      <td>10</td>\n",
              "      <td>{'alpha': 10}</td>\n",
              "      <td>0.159386</td>\n",
              "      <td>-0.081177</td>\n",
              "      <td>0.152190</td>\n",
              "      <td>0.165690</td>\n",
              "      <td>0.119349</td>\n",
              "      <td>0.186933</td>\n",
              "      <td>0.158147</td>\n",
              "      <td>0.203748</td>\n",
              "      <td>0.153627</td>\n",
              "      <td>0.189440</td>\n",
              "      <td>0.140733</td>\n",
              "      <td>0.077298</td>\n",
              "      <td>5</td>\n",
              "    </tr>\n",
              "    <tr>\n",
              "      <th>5</th>\n",
              "      <td>0.000880</td>\n",
              "      <td>0.000057</td>\n",
              "      <td>0.000745</td>\n",
              "      <td>0.000027</td>\n",
              "      <td>100</td>\n",
              "      <td>{'alpha': 100}</td>\n",
              "      <td>0.012468</td>\n",
              "      <td>-0.234480</td>\n",
              "      <td>0.013522</td>\n",
              "      <td>-0.012820</td>\n",
              "      <td>0.004838</td>\n",
              "      <td>0.022647</td>\n",
              "      <td>0.022028</td>\n",
              "      <td>-0.009908</td>\n",
              "      <td>0.015589</td>\n",
              "      <td>0.026427</td>\n",
              "      <td>-0.013969</td>\n",
              "      <td>0.074561</td>\n",
              "      <td>6</td>\n",
              "    </tr>\n",
              "    <tr>\n",
              "      <th>6</th>\n",
              "      <td>0.001006</td>\n",
              "      <td>0.000175</td>\n",
              "      <td>0.000939</td>\n",
              "      <td>0.000326</td>\n",
              "      <td>1000</td>\n",
              "      <td>{'alpha': 1000}</td>\n",
              "      <td>-0.009602</td>\n",
              "      <td>-0.258118</td>\n",
              "      <td>-0.007849</td>\n",
              "      <td>-0.038479</td>\n",
              "      <td>-0.012933</td>\n",
              "      <td>-0.000932</td>\n",
              "      <td>0.001768</td>\n",
              "      <td>-0.042679</td>\n",
              "      <td>-0.004652</td>\n",
              "      <td>0.002744</td>\n",
              "      <td>-0.037073</td>\n",
              "      <td>0.075191</td>\n",
              "      <td>7</td>\n",
              "    </tr>\n",
              "  </tbody>\n",
              "</table>\n",
              "</div>"
            ],
            "text/plain": [
              "   mean_fit_time  std_fit_time  ...  std_test_score  rank_test_score\n",
              "0       0.001621      0.001205  ...        0.145848                3\n",
              "1       0.002140      0.001852  ...        0.141446                2\n",
              "2       0.000857      0.000060  ...        0.132681                1\n",
              "3       0.001057      0.000415  ...        0.108385                4\n",
              "4       0.000884      0.000106  ...        0.077298                5\n",
              "5       0.000880      0.000057  ...        0.074561                6\n",
              "6       0.001006      0.000175  ...        0.075191                7\n",
              "\n",
              "[7 rows x 19 columns]"
            ]
          },
          "metadata": {
            "tags": []
          },
          "execution_count": 19
        }
      ]
    },
    {
      "cell_type": "markdown",
      "metadata": {
        "id": "0WI2UGpAl_L_"
      },
      "source": [
        "- # ```multiprocessing```을 이용한 ```GridSearchCV```"
      ]
    },
    {
      "cell_type": "code",
      "metadata": {
        "colab": {
          "base_uri": "https://localhost:8080/",
          "height": 991
        },
        "id": "FSDDcJnSloPB",
        "outputId": "02f670be-4d17-44b8-8944-34a6ab6b3f81"
      },
      "source": [
        "import multiprocessing\n",
        "from sklearn.datasets import load_iris\n",
        "from sklearn.linear_model import LogisticRegression\n",
        "\n",
        "iris = load_iris()\n",
        "\n",
        "param_grid = [{'penalty':['l1','l2'],\n",
        "               'C':[1.5, 2.0, 2.5, 3.0, 3.5]}]\n",
        "\n",
        "gs = GridSearchCV(estimator=LogisticRegression(),param_grid=param_grid,scoring='accuracy', cv=10, n_jobs=multiprocessing.cpu_count())\n",
        "result = gs.fit(iris.data, iris.target)\n",
        "\n",
        "\n",
        "print('최적 점수: {}'.format(result.best_score_))\n",
        "print('최적 파라미터:{}'.format(result.best_params_))\n",
        "print(gs.best_estimator_)\n",
        "\n",
        "pd.DataFrame(result.cv_results_)"
      ],
      "execution_count": 20,
      "outputs": [
        {
          "output_type": "stream",
          "text": [
            "최적 점수: 0.9800000000000001\n",
            "최적 파라미터:{'C': 2.5, 'penalty': 'l2'}\n",
            "LogisticRegression(C=2.5, class_weight=None, dual=False, fit_intercept=True,\n",
            "                   intercept_scaling=1, l1_ratio=None, max_iter=100,\n",
            "                   multi_class='auto', n_jobs=None, penalty='l2',\n",
            "                   random_state=None, solver='lbfgs', tol=0.0001, verbose=0,\n",
            "                   warm_start=False)\n"
          ],
          "name": "stdout"
        },
        {
          "output_type": "stream",
          "text": [
            "/usr/local/lib/python3.7/dist-packages/sklearn/linear_model/_logistic.py:940: ConvergenceWarning: lbfgs failed to converge (status=1):\n",
            "STOP: TOTAL NO. of ITERATIONS REACHED LIMIT.\n",
            "\n",
            "Increase the number of iterations (max_iter) or scale the data as shown in:\n",
            "    https://scikit-learn.org/stable/modules/preprocessing.html\n",
            "Please also refer to the documentation for alternative solver options:\n",
            "    https://scikit-learn.org/stable/modules/linear_model.html#logistic-regression\n",
            "  extra_warning_msg=_LOGISTIC_SOLVER_CONVERGENCE_MSG)\n"
          ],
          "name": "stderr"
        },
        {
          "output_type": "execute_result",
          "data": {
            "text/html": [
              "<div>\n",
              "<style scoped>\n",
              "    .dataframe tbody tr th:only-of-type {\n",
              "        vertical-align: middle;\n",
              "    }\n",
              "\n",
              "    .dataframe tbody tr th {\n",
              "        vertical-align: top;\n",
              "    }\n",
              "\n",
              "    .dataframe thead th {\n",
              "        text-align: right;\n",
              "    }\n",
              "</style>\n",
              "<table border=\"1\" class=\"dataframe\">\n",
              "  <thead>\n",
              "    <tr style=\"text-align: right;\">\n",
              "      <th></th>\n",
              "      <th>mean_fit_time</th>\n",
              "      <th>std_fit_time</th>\n",
              "      <th>mean_score_time</th>\n",
              "      <th>std_score_time</th>\n",
              "      <th>param_C</th>\n",
              "      <th>param_penalty</th>\n",
              "      <th>params</th>\n",
              "      <th>split0_test_score</th>\n",
              "      <th>split1_test_score</th>\n",
              "      <th>split2_test_score</th>\n",
              "      <th>split3_test_score</th>\n",
              "      <th>split4_test_score</th>\n",
              "      <th>split5_test_score</th>\n",
              "      <th>split6_test_score</th>\n",
              "      <th>split7_test_score</th>\n",
              "      <th>split8_test_score</th>\n",
              "      <th>split9_test_score</th>\n",
              "      <th>mean_test_score</th>\n",
              "      <th>std_test_score</th>\n",
              "      <th>rank_test_score</th>\n",
              "    </tr>\n",
              "  </thead>\n",
              "  <tbody>\n",
              "    <tr>\n",
              "      <th>0</th>\n",
              "      <td>0.000115</td>\n",
              "      <td>0.000022</td>\n",
              "      <td>0.000000</td>\n",
              "      <td>0.000000</td>\n",
              "      <td>1.5</td>\n",
              "      <td>l1</td>\n",
              "      <td>{'C': 1.5, 'penalty': 'l1'}</td>\n",
              "      <td>NaN</td>\n",
              "      <td>NaN</td>\n",
              "      <td>NaN</td>\n",
              "      <td>NaN</td>\n",
              "      <td>NaN</td>\n",
              "      <td>NaN</td>\n",
              "      <td>NaN</td>\n",
              "      <td>NaN</td>\n",
              "      <td>NaN</td>\n",
              "      <td>NaN</td>\n",
              "      <td>NaN</td>\n",
              "      <td>NaN</td>\n",
              "      <td>6</td>\n",
              "    </tr>\n",
              "    <tr>\n",
              "      <th>1</th>\n",
              "      <td>0.054855</td>\n",
              "      <td>0.005195</td>\n",
              "      <td>0.000614</td>\n",
              "      <td>0.000072</td>\n",
              "      <td>1.5</td>\n",
              "      <td>l2</td>\n",
              "      <td>{'C': 1.5, 'penalty': 'l2'}</td>\n",
              "      <td>1.0</td>\n",
              "      <td>0.933333</td>\n",
              "      <td>1.0</td>\n",
              "      <td>1.0</td>\n",
              "      <td>0.933333</td>\n",
              "      <td>0.933333</td>\n",
              "      <td>0.933333</td>\n",
              "      <td>1.0</td>\n",
              "      <td>1.0</td>\n",
              "      <td>1.0</td>\n",
              "      <td>0.973333</td>\n",
              "      <td>0.032660</td>\n",
              "      <td>4</td>\n",
              "    </tr>\n",
              "    <tr>\n",
              "      <th>2</th>\n",
              "      <td>0.000081</td>\n",
              "      <td>0.000018</td>\n",
              "      <td>0.000000</td>\n",
              "      <td>0.000000</td>\n",
              "      <td>2</td>\n",
              "      <td>l1</td>\n",
              "      <td>{'C': 2.0, 'penalty': 'l1'}</td>\n",
              "      <td>NaN</td>\n",
              "      <td>NaN</td>\n",
              "      <td>NaN</td>\n",
              "      <td>NaN</td>\n",
              "      <td>NaN</td>\n",
              "      <td>NaN</td>\n",
              "      <td>NaN</td>\n",
              "      <td>NaN</td>\n",
              "      <td>NaN</td>\n",
              "      <td>NaN</td>\n",
              "      <td>NaN</td>\n",
              "      <td>NaN</td>\n",
              "      <td>7</td>\n",
              "    </tr>\n",
              "    <tr>\n",
              "      <th>3</th>\n",
              "      <td>0.055076</td>\n",
              "      <td>0.006560</td>\n",
              "      <td>0.001368</td>\n",
              "      <td>0.002373</td>\n",
              "      <td>2</td>\n",
              "      <td>l2</td>\n",
              "      <td>{'C': 2.0, 'penalty': 'l2'}</td>\n",
              "      <td>1.0</td>\n",
              "      <td>0.933333</td>\n",
              "      <td>1.0</td>\n",
              "      <td>1.0</td>\n",
              "      <td>0.933333</td>\n",
              "      <td>0.933333</td>\n",
              "      <td>0.933333</td>\n",
              "      <td>1.0</td>\n",
              "      <td>1.0</td>\n",
              "      <td>1.0</td>\n",
              "      <td>0.973333</td>\n",
              "      <td>0.032660</td>\n",
              "      <td>4</td>\n",
              "    </tr>\n",
              "    <tr>\n",
              "      <th>4</th>\n",
              "      <td>0.000083</td>\n",
              "      <td>0.000016</td>\n",
              "      <td>0.000000</td>\n",
              "      <td>0.000000</td>\n",
              "      <td>2.5</td>\n",
              "      <td>l1</td>\n",
              "      <td>{'C': 2.5, 'penalty': 'l1'}</td>\n",
              "      <td>NaN</td>\n",
              "      <td>NaN</td>\n",
              "      <td>NaN</td>\n",
              "      <td>NaN</td>\n",
              "      <td>NaN</td>\n",
              "      <td>NaN</td>\n",
              "      <td>NaN</td>\n",
              "      <td>NaN</td>\n",
              "      <td>NaN</td>\n",
              "      <td>NaN</td>\n",
              "      <td>NaN</td>\n",
              "      <td>NaN</td>\n",
              "      <td>8</td>\n",
              "    </tr>\n",
              "    <tr>\n",
              "      <th>5</th>\n",
              "      <td>0.060568</td>\n",
              "      <td>0.020972</td>\n",
              "      <td>0.000624</td>\n",
              "      <td>0.000129</td>\n",
              "      <td>2.5</td>\n",
              "      <td>l2</td>\n",
              "      <td>{'C': 2.5, 'penalty': 'l2'}</td>\n",
              "      <td>1.0</td>\n",
              "      <td>0.933333</td>\n",
              "      <td>1.0</td>\n",
              "      <td>1.0</td>\n",
              "      <td>0.933333</td>\n",
              "      <td>1.000000</td>\n",
              "      <td>0.933333</td>\n",
              "      <td>1.0</td>\n",
              "      <td>1.0</td>\n",
              "      <td>1.0</td>\n",
              "      <td>0.980000</td>\n",
              "      <td>0.030551</td>\n",
              "      <td>1</td>\n",
              "    </tr>\n",
              "    <tr>\n",
              "      <th>6</th>\n",
              "      <td>0.000529</td>\n",
              "      <td>0.001393</td>\n",
              "      <td>0.000000</td>\n",
              "      <td>0.000000</td>\n",
              "      <td>3</td>\n",
              "      <td>l1</td>\n",
              "      <td>{'C': 3.0, 'penalty': 'l1'}</td>\n",
              "      <td>NaN</td>\n",
              "      <td>NaN</td>\n",
              "      <td>NaN</td>\n",
              "      <td>NaN</td>\n",
              "      <td>NaN</td>\n",
              "      <td>NaN</td>\n",
              "      <td>NaN</td>\n",
              "      <td>NaN</td>\n",
              "      <td>NaN</td>\n",
              "      <td>NaN</td>\n",
              "      <td>NaN</td>\n",
              "      <td>NaN</td>\n",
              "      <td>9</td>\n",
              "    </tr>\n",
              "    <tr>\n",
              "      <th>7</th>\n",
              "      <td>0.056122</td>\n",
              "      <td>0.008064</td>\n",
              "      <td>0.000611</td>\n",
              "      <td>0.000095</td>\n",
              "      <td>3</td>\n",
              "      <td>l2</td>\n",
              "      <td>{'C': 3.0, 'penalty': 'l2'}</td>\n",
              "      <td>1.0</td>\n",
              "      <td>0.933333</td>\n",
              "      <td>1.0</td>\n",
              "      <td>1.0</td>\n",
              "      <td>0.933333</td>\n",
              "      <td>1.000000</td>\n",
              "      <td>0.933333</td>\n",
              "      <td>1.0</td>\n",
              "      <td>1.0</td>\n",
              "      <td>1.0</td>\n",
              "      <td>0.980000</td>\n",
              "      <td>0.030551</td>\n",
              "      <td>1</td>\n",
              "    </tr>\n",
              "    <tr>\n",
              "      <th>8</th>\n",
              "      <td>0.000072</td>\n",
              "      <td>0.000013</td>\n",
              "      <td>0.000000</td>\n",
              "      <td>0.000000</td>\n",
              "      <td>3.5</td>\n",
              "      <td>l1</td>\n",
              "      <td>{'C': 3.5, 'penalty': 'l1'}</td>\n",
              "      <td>NaN</td>\n",
              "      <td>NaN</td>\n",
              "      <td>NaN</td>\n",
              "      <td>NaN</td>\n",
              "      <td>NaN</td>\n",
              "      <td>NaN</td>\n",
              "      <td>NaN</td>\n",
              "      <td>NaN</td>\n",
              "      <td>NaN</td>\n",
              "      <td>NaN</td>\n",
              "      <td>NaN</td>\n",
              "      <td>NaN</td>\n",
              "      <td>10</td>\n",
              "    </tr>\n",
              "    <tr>\n",
              "      <th>9</th>\n",
              "      <td>0.052712</td>\n",
              "      <td>0.008292</td>\n",
              "      <td>0.000922</td>\n",
              "      <td>0.000919</td>\n",
              "      <td>3.5</td>\n",
              "      <td>l2</td>\n",
              "      <td>{'C': 3.5, 'penalty': 'l2'}</td>\n",
              "      <td>1.0</td>\n",
              "      <td>0.933333</td>\n",
              "      <td>1.0</td>\n",
              "      <td>1.0</td>\n",
              "      <td>0.933333</td>\n",
              "      <td>1.000000</td>\n",
              "      <td>0.933333</td>\n",
              "      <td>1.0</td>\n",
              "      <td>1.0</td>\n",
              "      <td>1.0</td>\n",
              "      <td>0.980000</td>\n",
              "      <td>0.030551</td>\n",
              "      <td>1</td>\n",
              "    </tr>\n",
              "  </tbody>\n",
              "</table>\n",
              "</div>"
            ],
            "text/plain": [
              "   mean_fit_time  std_fit_time  ...  std_test_score  rank_test_score\n",
              "0       0.000115      0.000022  ...             NaN                6\n",
              "1       0.054855      0.005195  ...        0.032660                4\n",
              "2       0.000081      0.000018  ...             NaN                7\n",
              "3       0.055076      0.006560  ...        0.032660                4\n",
              "4       0.000083      0.000016  ...             NaN                8\n",
              "5       0.060568      0.020972  ...        0.030551                1\n",
              "6       0.000529      0.001393  ...             NaN                9\n",
              "7       0.056122      0.008064  ...        0.030551                1\n",
              "8       0.000072      0.000013  ...             NaN               10\n",
              "9       0.052712      0.008292  ...        0.030551                1\n",
              "\n",
              "[10 rows x 20 columns]"
            ]
          },
          "metadata": {
            "tags": []
          },
          "execution_count": 20
        }
      ]
    },
    {
      "cell_type": "markdown",
      "metadata": {
        "id": "W2psl9fIrVLw"
      },
      "source": [
        "# ```preprocessing``` 데이터 전처리 모듈\n",
        "- 데이터의 특징 스케일링(feature scaling)을 위한 방법으로 표준화(Standardization)와 정규화(Normalization)사용\n",
        "- 표준화 방법\n",
        "\n",
        "\n",
        "\n",
        "\n",
        "\n",
        "![std-1.png](data:image/png;base64,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)\n",
        "- 정규화 방법\n",
        "\n",
        "\n",
        "\n",
        "![nor-1.png](data:image/png;base64,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)\n",
        "\n",
        "- scikit-learn에서는 개별 벡터 크기를 맞추는 형태로 정규화"
      ]
    },
    {
      "cell_type": "markdown",
      "metadata": {
        "id": "6N2OY9QktWhV"
      },
      "source": [
        "# ```StandardScaler``` : 표준화 클래스"
      ]
    },
    {
      "cell_type": "code",
      "metadata": {
        "colab": {
          "base_uri": "https://localhost:8080/",
          "height": 300
        },
        "id": "vdqpnZezn-ZJ",
        "outputId": "a9b99ecc-9dcf-4800-b85d-eb91bc4d4455"
      },
      "source": [
        "iris = load_iris()\n",
        "iris_df = pd.DataFrame(data=iris.data, columns=iris.feature_names)\n",
        "iris_df.describe()"
      ],
      "execution_count": 23,
      "outputs": [
        {
          "output_type": "execute_result",
          "data": {
            "text/html": [
              "<div>\n",
              "<style scoped>\n",
              "    .dataframe tbody tr th:only-of-type {\n",
              "        vertical-align: middle;\n",
              "    }\n",
              "\n",
              "    .dataframe tbody tr th {\n",
              "        vertical-align: top;\n",
              "    }\n",
              "\n",
              "    .dataframe thead th {\n",
              "        text-align: right;\n",
              "    }\n",
              "</style>\n",
              "<table border=\"1\" class=\"dataframe\">\n",
              "  <thead>\n",
              "    <tr style=\"text-align: right;\">\n",
              "      <th></th>\n",
              "      <th>sepal length (cm)</th>\n",
              "      <th>sepal width (cm)</th>\n",
              "      <th>petal length (cm)</th>\n",
              "      <th>petal width (cm)</th>\n",
              "    </tr>\n",
              "  </thead>\n",
              "  <tbody>\n",
              "    <tr>\n",
              "      <th>count</th>\n",
              "      <td>150.000000</td>\n",
              "      <td>150.000000</td>\n",
              "      <td>150.000000</td>\n",
              "      <td>150.000000</td>\n",
              "    </tr>\n",
              "    <tr>\n",
              "      <th>mean</th>\n",
              "      <td>5.843333</td>\n",
              "      <td>3.057333</td>\n",
              "      <td>3.758000</td>\n",
              "      <td>1.199333</td>\n",
              "    </tr>\n",
              "    <tr>\n",
              "      <th>std</th>\n",
              "      <td>0.828066</td>\n",
              "      <td>0.435866</td>\n",
              "      <td>1.765298</td>\n",
              "      <td>0.762238</td>\n",
              "    </tr>\n",
              "    <tr>\n",
              "      <th>min</th>\n",
              "      <td>4.300000</td>\n",
              "      <td>2.000000</td>\n",
              "      <td>1.000000</td>\n",
              "      <td>0.100000</td>\n",
              "    </tr>\n",
              "    <tr>\n",
              "      <th>25%</th>\n",
              "      <td>5.100000</td>\n",
              "      <td>2.800000</td>\n",
              "      <td>1.600000</td>\n",
              "      <td>0.300000</td>\n",
              "    </tr>\n",
              "    <tr>\n",
              "      <th>50%</th>\n",
              "      <td>5.800000</td>\n",
              "      <td>3.000000</td>\n",
              "      <td>4.350000</td>\n",
              "      <td>1.300000</td>\n",
              "    </tr>\n",
              "    <tr>\n",
              "      <th>75%</th>\n",
              "      <td>6.400000</td>\n",
              "      <td>3.300000</td>\n",
              "      <td>5.100000</td>\n",
              "      <td>1.800000</td>\n",
              "    </tr>\n",
              "    <tr>\n",
              "      <th>max</th>\n",
              "      <td>7.900000</td>\n",
              "      <td>4.400000</td>\n",
              "      <td>6.900000</td>\n",
              "      <td>2.500000</td>\n",
              "    </tr>\n",
              "  </tbody>\n",
              "</table>\n",
              "</div>"
            ],
            "text/plain": [
              "       sepal length (cm)  sepal width (cm)  petal length (cm)  petal width (cm)\n",
              "count         150.000000        150.000000         150.000000        150.000000\n",
              "mean            5.843333          3.057333           3.758000          1.199333\n",
              "std             0.828066          0.435866           1.765298          0.762238\n",
              "min             4.300000          2.000000           1.000000          0.100000\n",
              "25%             5.100000          2.800000           1.600000          0.300000\n",
              "50%             5.800000          3.000000           4.350000          1.300000\n",
              "75%             6.400000          3.300000           5.100000          1.800000\n",
              "max             7.900000          4.400000           6.900000          2.500000"
            ]
          },
          "metadata": {
            "tags": []
          },
          "execution_count": 23
        }
      ]
    },
    {
      "cell_type": "code",
      "metadata": {
        "colab": {
          "base_uri": "https://localhost:8080/",
          "height": 300
        },
        "id": "sXIb1jSKShVa",
        "outputId": "cf63eb84-9f47-4a52-ac85-3a9bf4d9fec6"
      },
      "source": [
        "from sklearn.preprocessing import StandardScaler\n",
        "\n",
        "scaler = StandardScaler()\n",
        "iris_scaled = scaler.fit_transform(iris_df)\n",
        "iris_df_scaled = pd.DataFrame(data=iris_scaled,columns=iris.feature_names)\n",
        "iris_df_scaled.describe()"
      ],
      "execution_count": 24,
      "outputs": [
        {
          "output_type": "execute_result",
          "data": {
            "text/html": [
              "<div>\n",
              "<style scoped>\n",
              "    .dataframe tbody tr th:only-of-type {\n",
              "        vertical-align: middle;\n",
              "    }\n",
              "\n",
              "    .dataframe tbody tr th {\n",
              "        vertical-align: top;\n",
              "    }\n",
              "\n",
              "    .dataframe thead th {\n",
              "        text-align: right;\n",
              "    }\n",
              "</style>\n",
              "<table border=\"1\" class=\"dataframe\">\n",
              "  <thead>\n",
              "    <tr style=\"text-align: right;\">\n",
              "      <th></th>\n",
              "      <th>sepal length (cm)</th>\n",
              "      <th>sepal width (cm)</th>\n",
              "      <th>petal length (cm)</th>\n",
              "      <th>petal width (cm)</th>\n",
              "    </tr>\n",
              "  </thead>\n",
              "  <tbody>\n",
              "    <tr>\n",
              "      <th>count</th>\n",
              "      <td>1.500000e+02</td>\n",
              "      <td>1.500000e+02</td>\n",
              "      <td>1.500000e+02</td>\n",
              "      <td>1.500000e+02</td>\n",
              "    </tr>\n",
              "    <tr>\n",
              "      <th>mean</th>\n",
              "      <td>-1.690315e-15</td>\n",
              "      <td>-1.842970e-15</td>\n",
              "      <td>-1.698641e-15</td>\n",
              "      <td>-1.409243e-15</td>\n",
              "    </tr>\n",
              "    <tr>\n",
              "      <th>std</th>\n",
              "      <td>1.003350e+00</td>\n",
              "      <td>1.003350e+00</td>\n",
              "      <td>1.003350e+00</td>\n",
              "      <td>1.003350e+00</td>\n",
              "    </tr>\n",
              "    <tr>\n",
              "      <th>min</th>\n",
              "      <td>-1.870024e+00</td>\n",
              "      <td>-2.433947e+00</td>\n",
              "      <td>-1.567576e+00</td>\n",
              "      <td>-1.447076e+00</td>\n",
              "    </tr>\n",
              "    <tr>\n",
              "      <th>25%</th>\n",
              "      <td>-9.006812e-01</td>\n",
              "      <td>-5.923730e-01</td>\n",
              "      <td>-1.226552e+00</td>\n",
              "      <td>-1.183812e+00</td>\n",
              "    </tr>\n",
              "    <tr>\n",
              "      <th>50%</th>\n",
              "      <td>-5.250608e-02</td>\n",
              "      <td>-1.319795e-01</td>\n",
              "      <td>3.364776e-01</td>\n",
              "      <td>1.325097e-01</td>\n",
              "    </tr>\n",
              "    <tr>\n",
              "      <th>75%</th>\n",
              "      <td>6.745011e-01</td>\n",
              "      <td>5.586108e-01</td>\n",
              "      <td>7.627583e-01</td>\n",
              "      <td>7.906707e-01</td>\n",
              "    </tr>\n",
              "    <tr>\n",
              "      <th>max</th>\n",
              "      <td>2.492019e+00</td>\n",
              "      <td>3.090775e+00</td>\n",
              "      <td>1.785832e+00</td>\n",
              "      <td>1.712096e+00</td>\n",
              "    </tr>\n",
              "  </tbody>\n",
              "</table>\n",
              "</div>"
            ],
            "text/plain": [
              "       sepal length (cm)  sepal width (cm)  petal length (cm)  petal width (cm)\n",
              "count       1.500000e+02      1.500000e+02       1.500000e+02      1.500000e+02\n",
              "mean       -1.690315e-15     -1.842970e-15      -1.698641e-15     -1.409243e-15\n",
              "std         1.003350e+00      1.003350e+00       1.003350e+00      1.003350e+00\n",
              "min        -1.870024e+00     -2.433947e+00      -1.567576e+00     -1.447076e+00\n",
              "25%        -9.006812e-01     -5.923730e-01      -1.226552e+00     -1.183812e+00\n",
              "50%        -5.250608e-02     -1.319795e-01       3.364776e-01      1.325097e-01\n",
              "75%         6.745011e-01      5.586108e-01       7.627583e-01      7.906707e-01\n",
              "max         2.492019e+00      3.090775e+00       1.785832e+00      1.712096e+00"
            ]
          },
          "metadata": {
            "tags": []
          },
          "execution_count": 24
        }
      ]
    },
    {
      "cell_type": "code",
      "metadata": {
        "colab": {
          "base_uri": "https://localhost:8080/"
        },
        "id": "50hwlxcNT-pz",
        "outputId": "1c1ace05-950b-4637-ea6f-83cc907f7ee2"
      },
      "source": [
        "X_train, X_test, y_train, y_test = train_test_split(iris_df_scaled,iris.target,test_size=.3)\n",
        "\n",
        "model = LogisticRegression()\n",
        "model.fit(X_train, y_train)\n",
        "\n",
        "print('훈련 데이터 점수:{}'.format(model.score(X_train, y_train)))\n",
        "print('평가 데이터 점수:{}'.format(model.score(X_test, y_test)))"
      ],
      "execution_count": 25,
      "outputs": [
        {
          "output_type": "stream",
          "text": [
            "훈련 데이터 점수:0.9619047619047619\n",
            "평가 데이터 점수:0.9555555555555556\n"
          ],
          "name": "stdout"
        }
      ]
    },
    {
      "cell_type": "markdown",
      "metadata": {
        "id": "RxWNT9GUWrA6"
      },
      "source": [
        "# ```MinMaxScaler:```:정규화 클래스"
      ]
    },
    {
      "cell_type": "code",
      "metadata": {
        "colab": {
          "base_uri": "https://localhost:8080/",
          "height": 300
        },
        "id": "j2ei2NK4VohA",
        "outputId": "d4616e99-8572-4840-d21a-77e9bb3ba3cb"
      },
      "source": [
        "from sklearn.preprocessing import MinMaxScaler\n",
        "\n",
        "scaler = MinMaxScaler()\n",
        "iris_scaled = scaler.fit_transform(iris_df)\n",
        "iris_df_scaled = pd.DataFrame(data=iris_scaled,columns=iris.feature_names)\n",
        "iris_df_scaled.describe()"
      ],
      "execution_count": 26,
      "outputs": [
        {
          "output_type": "execute_result",
          "data": {
            "text/html": [
              "<div>\n",
              "<style scoped>\n",
              "    .dataframe tbody tr th:only-of-type {\n",
              "        vertical-align: middle;\n",
              "    }\n",
              "\n",
              "    .dataframe tbody tr th {\n",
              "        vertical-align: top;\n",
              "    }\n",
              "\n",
              "    .dataframe thead th {\n",
              "        text-align: right;\n",
              "    }\n",
              "</style>\n",
              "<table border=\"1\" class=\"dataframe\">\n",
              "  <thead>\n",
              "    <tr style=\"text-align: right;\">\n",
              "      <th></th>\n",
              "      <th>sepal length (cm)</th>\n",
              "      <th>sepal width (cm)</th>\n",
              "      <th>petal length (cm)</th>\n",
              "      <th>petal width (cm)</th>\n",
              "    </tr>\n",
              "  </thead>\n",
              "  <tbody>\n",
              "    <tr>\n",
              "      <th>count</th>\n",
              "      <td>150.000000</td>\n",
              "      <td>150.000000</td>\n",
              "      <td>150.000000</td>\n",
              "      <td>150.000000</td>\n",
              "    </tr>\n",
              "    <tr>\n",
              "      <th>mean</th>\n",
              "      <td>0.428704</td>\n",
              "      <td>0.440556</td>\n",
              "      <td>0.467458</td>\n",
              "      <td>0.458056</td>\n",
              "    </tr>\n",
              "    <tr>\n",
              "      <th>std</th>\n",
              "      <td>0.230018</td>\n",
              "      <td>0.181611</td>\n",
              "      <td>0.299203</td>\n",
              "      <td>0.317599</td>\n",
              "    </tr>\n",
              "    <tr>\n",
              "      <th>min</th>\n",
              "      <td>0.000000</td>\n",
              "      <td>0.000000</td>\n",
              "      <td>0.000000</td>\n",
              "      <td>0.000000</td>\n",
              "    </tr>\n",
              "    <tr>\n",
              "      <th>25%</th>\n",
              "      <td>0.222222</td>\n",
              "      <td>0.333333</td>\n",
              "      <td>0.101695</td>\n",
              "      <td>0.083333</td>\n",
              "    </tr>\n",
              "    <tr>\n",
              "      <th>50%</th>\n",
              "      <td>0.416667</td>\n",
              "      <td>0.416667</td>\n",
              "      <td>0.567797</td>\n",
              "      <td>0.500000</td>\n",
              "    </tr>\n",
              "    <tr>\n",
              "      <th>75%</th>\n",
              "      <td>0.583333</td>\n",
              "      <td>0.541667</td>\n",
              "      <td>0.694915</td>\n",
              "      <td>0.708333</td>\n",
              "    </tr>\n",
              "    <tr>\n",
              "      <th>max</th>\n",
              "      <td>1.000000</td>\n",
              "      <td>1.000000</td>\n",
              "      <td>1.000000</td>\n",
              "      <td>1.000000</td>\n",
              "    </tr>\n",
              "  </tbody>\n",
              "</table>\n",
              "</div>"
            ],
            "text/plain": [
              "       sepal length (cm)  sepal width (cm)  petal length (cm)  petal width (cm)\n",
              "count         150.000000        150.000000         150.000000        150.000000\n",
              "mean            0.428704          0.440556           0.467458          0.458056\n",
              "std             0.230018          0.181611           0.299203          0.317599\n",
              "min             0.000000          0.000000           0.000000          0.000000\n",
              "25%             0.222222          0.333333           0.101695          0.083333\n",
              "50%             0.416667          0.416667           0.567797          0.500000\n",
              "75%             0.583333          0.541667           0.694915          0.708333\n",
              "max             1.000000          1.000000           1.000000          1.000000"
            ]
          },
          "metadata": {
            "tags": []
          },
          "execution_count": 26
        }
      ]
    },
    {
      "cell_type": "code",
      "metadata": {
        "colab": {
          "base_uri": "https://localhost:8080/"
        },
        "id": "ZHBdIWYoXdHN",
        "outputId": "702a13fd-8e2b-472a-a6cf-1c30493193b4"
      },
      "source": [
        "X_train, X_test, y_train, y_test = train_test_split(iris_df_scaled, iris.target, test_size=.3)\n",
        "\n",
        "model = LogisticRegression()\n",
        "model.fit(X_train, y_train)\n",
        "\n",
        "print('훈련 데이터 점수:{}'.format(model.score(X_train, y_train)))\n",
        "print('평가 데이터 점수:{}'.format(model.score(X_test, y_test)))"
      ],
      "execution_count": 27,
      "outputs": [
        {
          "output_type": "stream",
          "text": [
            "훈련 데이터 점수:0.9238095238095239\n",
            "평가 데이터 점수:0.9555555555555556\n"
          ],
          "name": "stdout"
        }
      ]
    },
    {
      "cell_type": "markdown",
      "metadata": {
        "id": "pSiYUnpsZSNR"
      },
      "source": [
        "# **성능 평가 지표**"
      ]
    },
    {
      "cell_type": "markdown",
      "metadata": {
        "id": "OoORxE_LZaM9"
      },
      "source": [
        "# 정확도(Accuracy)\n",
        "- 정확도는 전체 예측 데이터 건수 중 예측 결과가 동일한 데이터 건수로ㅗ 계산\n",
        "- scikit-learn에서는 ```accuracy_score```함수를 제공"
      ]
    },
    {
      "cell_type": "code",
      "metadata": {
        "colab": {
          "base_uri": "https://localhost:8080/"
        },
        "id": "sDHBVjZQY7rA",
        "outputId": "687b5e70-a8d2-434e-e065-cf969687c9fb"
      },
      "source": [
        "from sklearn.datasets import make_classification\n",
        "from sklearn.linear_model import LogisticRegression\n",
        "from sklearn.metrics import accuracy_score\n",
        "\n",
        "X, y = make_classification(n_samples=1000, n_features=2, n_informative=2, n_redundant=0, n_clusters_per_class=1)\n",
        "\n",
        "X_train ,X_test, y_train, y_test = train_test_split(X,y, test_size= 0.3)\n",
        "\n",
        "model = LogisticRegression()\n",
        "model.fit(X_train, y_train)\n",
        "\n",
        "print('훈련 데이터 점수:{}'.format(model.score(X_train, y_train)))\n",
        "print('평가 데이터 점수:{}'.format(model.score(X_test, y_test)))\n",
        "\n",
        "predict = model.predict(X_test)\n",
        "print('정확도:{}'.format(accuracy_score(y_test, predict)))"
      ],
      "execution_count": 30,
      "outputs": [
        {
          "output_type": "stream",
          "text": [
            "훈련 데이터 점수:0.9442857142857143\n",
            "평가 데이터 점수:0.9566666666666667\n",
            "정확도:0.9566666666666667\n"
          ],
          "name": "stdout"
        }
      ]
    },
    {
      "cell_type": "markdown",
      "metadata": {
        "id": "x3FD9r7BkJLz"
      },
      "source": [
        "# 오차 행렬(Confusion Matrix)\n",
        "- True Negative:예측값을 Negative 값 0으로 예측했고,실제 값도 Nagetive 값 0\n",
        "- False Positive:예측값을 Positive 값 1로 예측했는데,실제 값은 Negative 값 0\n",
        "- False Negative:예측값을 Negative 값 0으로 예측했는데,실제 값은 Positive 값 1\n",
        "- True Positive:예측값을 Positive 값 1로 예측했고,실제 값도 Positive 값 1"
      ]
    },
    {
      "cell_type": "code",
      "metadata": {
        "colab": {
          "base_uri": "https://localhost:8080/"
        },
        "id": "6vRI52Qoc8s_",
        "outputId": "1e90f9a7-3c8c-46f5-c951-ea170be17a93"
      },
      "source": [
        "from sklearn.metrics import confusion_matrix\n",
        "\n",
        "confmat = confusion_matrix(y_true=y_test,y_pred=predict)\n",
        "print(confmat)"
      ],
      "execution_count": 33,
      "outputs": [
        {
          "output_type": "stream",
          "text": [
            "[[146   9]\n",
            " [  4 141]]\n"
          ],
          "name": "stdout"
        }
      ]
    },
    {
      "cell_type": "code",
      "metadata": {
        "colab": {
          "base_uri": "https://localhost:8080/",
          "height": 369
        },
        "id": "bHlTcFunl8Z4",
        "outputId": "3c69d757-fcdc-4c0e-be16-849ec4588d8a"
      },
      "source": [
        "fig, ax = plt.subplots(figsize=(5, 5))\n",
        "ax.matshow(confmat, cmap=plt.cm.Blues, alpha=.3)\n",
        "for i in range(confmat.shape[0]):\n",
        "    for j in range(confmat.shape[1]):\n",
        "        ax.text(x=j, y=i, s=confmat[i, j],va='center',ha='center')\n",
        "\n",
        "plt.xlabel('Predicted label')\n",
        "plt.ylabel('True label')\n",
        "plt.tight_layout()\n",
        "plt.show()\n"
      ],
      "execution_count": 36,
      "outputs": [
        {
          "output_type": "display_data",
          "data": {
            "image/png": "[encoded data removed]",
            "text/plain": [
              "<Figure size 360x360 with 1 Axes>"
            ]
          },
          "metadata": {
            "tags": []
          }
        }
      ]
    },
    {
      "cell_type": "markdown",
      "metadata": {
        "id": "uCCYZov2oRIG"
      },
      "source": [
        "# 정밀도(Precision)와 재현율(Recall)\n",
        "- 정밀도 = TP/(FP + TP) \n",
        "- 재현율 = TP/(FN + TP)\n",
        "- 정확도 = (TN + TP)/(TN + FP + FN + TP)\n",
        "- 오류율 = (FN + FP)/(TN + FP + FN +TP)"
      ]
    },
    {
      "cell_type": "markdown",
      "metadata": {
        "id": "TxiU0E06pEWb"
      },
      "source": [
        "# ROC 곡선 AUC\n",
        "- ROC 곡선은 FPR(False Positive Rate)이 변할 때 TPR(True Positive Rate)이 어떻게 변하는지 나타내는 곡선\n",
        "  - TPR(True Positive Rate): TP/(FN + TP),재현율\n",
        "  - TNR(True Negative Rate): TN/(FP + TN)\n",
        "  - FPR(False Positive Rate): FP/(FP + TN),1 -TNR\n",
        "\n",
        "- AUC(Area Under Curve)값은 ROC곡선 밑에 면적을 구한 값(1 이 가까울수로 좋은 값)"
      ]
    }
  ]
}