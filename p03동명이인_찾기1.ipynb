{
  "nbformat": 4,
  "nbformat_minor": 0,
  "metadata": {
    "colab": {
      "name": "p03동명이인 찾기1.ipynb",
      "provenance": [],
      "authorship_tag": "ABX9TyNTjZaNDMt3GRsPeCr+AulG",
      "include_colab_link": true
    },
    "kernelspec": {
      "name": "python3",
      "display_name": "Python 3"
    }
  },
  "cells": [
    {
      "cell_type": "markdown",
      "metadata": {
        "id": "view-in-github",
        "colab_type": "text"
      },
      "source": [
        "<a href=\"https://colab.research.google.com/github/orizay/free-fonts/blob/master/p03%EB%8F%99%EB%AA%85%EC%9D%B4%EC%9D%B8_%EC%B0%BE%EA%B8%B01.ipynb\" target=\"_parent\"><img src=\"https://colab.research.google.com/assets/colab-badge.svg\" alt=\"Open In Colab\"/></a>"
      ]
    },
    {
      "cell_type": "markdown",
      "metadata": {
        "id": "-UG8W6Yg_n08",
        "colab_type": "text"
      },
      "source": [
        "# n명의 사람 이름 중에서 같은 이름을 찾아 집합으로 만들어 돌려주는 알고리즘을 만들어 보세요."
      ]
    },
    {
      "cell_type": "code",
      "metadata": {
        "id": "JP_p9nnjAOiJ",
        "colab_type": "code",
        "colab": {}
      },
      "source": [
        "s = set()"
      ],
      "execution_count": 1,
      "outputs": []
    },
    {
      "cell_type": "code",
      "metadata": {
        "id": "K5AmITZAAWG-",
        "colab_type": "code",
        "colab": {
          "base_uri": "https://localhost:8080/",
          "height": 34
        },
        "outputId": "7da7af71-8137-4f98-a9ad-ada74184fdf9"
      },
      "source": [
        "s.add(1)\n",
        "s"
      ],
      "execution_count": 13,
      "outputs": [
        {
          "output_type": "execute_result",
          "data": {
            "text/plain": [
              "{1, 2, 3}"
            ]
          },
          "metadata": {
            "tags": []
          },
          "execution_count": 13
        }
      ]
    },
    {
      "cell_type": "code",
      "metadata": {
        "id": "0pJXugW6AauR",
        "colab_type": "code",
        "colab": {
          "base_uri": "https://localhost:8080/",
          "height": 34
        },
        "outputId": "cd2f6566-204d-4fec-8af8-b0be25b7d23a"
      },
      "source": [
        "s.add(2)\n",
        "s"
      ],
      "execution_count": 14,
      "outputs": [
        {
          "output_type": "execute_result",
          "data": {
            "text/plain": [
              "{1, 2, 3}"
            ]
          },
          "metadata": {
            "tags": []
          },
          "execution_count": 14
        }
      ]
    },
    {
      "cell_type": "code",
      "metadata": {
        "id": "V0RFbpSmAdqi",
        "colab_type": "code",
        "colab": {
          "base_uri": "https://localhost:8080/",
          "height": 34
        },
        "outputId": "ce1ba45b-588a-4e15-c267-855bb1a54671"
      },
      "source": [
        "s.add(3)\n",
        "s"
      ],
      "execution_count": 15,
      "outputs": [
        {
          "output_type": "execute_result",
          "data": {
            "text/plain": [
              "{1, 2, 3}"
            ]
          },
          "metadata": {
            "tags": []
          },
          "execution_count": 15
        }
      ]
    },
    {
      "cell_type": "code",
      "metadata": {
        "id": "72zcT68-AgUY",
        "colab_type": "code",
        "colab": {
          "base_uri": "https://localhost:8080/",
          "height": 34
        },
        "outputId": "403ec36b-a28e-4558-be22-4f09bffe998d"
      },
      "source": [
        "len(s)"
      ],
      "execution_count": 8,
      "outputs": [
        {
          "output_type": "execute_result",
          "data": {
            "text/plain": [
              "3"
            ]
          },
          "metadata": {
            "tags": []
          },
          "execution_count": 8
        }
      ]
    },
    {
      "cell_type": "code",
      "metadata": {
        "id": "8C6K2v4cAjE3",
        "colab_type": "code",
        "colab": {
          "base_uri": "https://localhost:8080/",
          "height": 34
        },
        "outputId": "1e137910-0474-482e-d617-6e2fa360fec0"
      },
      "source": [
        "s.add(5)\n",
        "s"
      ],
      "execution_count": 9,
      "outputs": [
        {
          "output_type": "execute_result",
          "data": {
            "text/plain": [
              "{1, 2, 3, 5}"
            ]
          },
          "metadata": {
            "tags": []
          },
          "execution_count": 9
        }
      ]
    },
    {
      "cell_type": "code",
      "metadata": {
        "id": "FyFEaLXxAozK",
        "colab_type": "code",
        "colab": {
          "base_uri": "https://localhost:8080/",
          "height": 34
        },
        "outputId": "7d5eefb1-0af9-4665-c8e3-61b2acb10ecd"
      },
      "source": [
        "s.discard(5)\n",
        "s"
      ],
      "execution_count": 10,
      "outputs": [
        {
          "output_type": "execute_result",
          "data": {
            "text/plain": [
              "{1, 2, 3}"
            ]
          },
          "metadata": {
            "tags": []
          },
          "execution_count": 10
        }
      ]
    },
    {
      "cell_type": "code",
      "metadata": {
        "id": "kxZgipuuAsen",
        "colab_type": "code",
        "colab": {
          "base_uri": "https://localhost:8080/",
          "height": 34
        },
        "outputId": "5cacada5-ab72-45a3-f467-cfba2412f144"
      },
      "source": [
        "3 in s"
      ],
      "execution_count": 11,
      "outputs": [
        {
          "output_type": "execute_result",
          "data": {
            "text/plain": [
              "True"
            ]
          },
          "metadata": {
            "tags": []
          },
          "execution_count": 11
        }
      ]
    },
    {
      "cell_type": "code",
      "metadata": {
        "id": "xj5vIdT5AyjM",
        "colab_type": "code",
        "colab": {
          "base_uri": "https://localhost:8080/",
          "height": 34
        },
        "outputId": "3a5091d4-58ec-45f9-bfaf-308f150e9235"
      },
      "source": [
        "4 in s"
      ],
      "execution_count": 12,
      "outputs": [
        {
          "output_type": "execute_result",
          "data": {
            "text/plain": [
              "False"
            ]
          },
          "metadata": {
            "tags": []
          },
          "execution_count": 12
        }
      ]
    },
    {
      "cell_type": "markdown",
      "metadata": {
        "id": "swf6pQAgA0vr",
        "colab_type": "text"
      },
      "source": [
        "# 동명인을 찾는 알고리즘\n",
        "\n",
        "\n",
        "## 이 알고리즘에서 주의 할 점:\n",
        " - 첫째 : 이번에 비교할 이름을 뽑은 다음에는 뽑은 이름보다 순서상 뒤에 있는 이름하고만 비교하면 됩니다.자기 자신과 비교하는 것은 무의미하고 앞에 있는 이름과는 이미 비교가 끝났기 때문입니다.\n",
        " - 둘째 : 리스트의 마지막 이름을 기준으로는 비교하지 않아도 됩니다.자신의 뒤에 는 비교할 이름이 없고,앞과는 이미 비교가 끝났기 때문입니다.\n",
        " - 섯째 : 같은 이름을 찾으면 결과 집합에 그 이름을 추가합니다."
      ]
    },
    {
      "cell_type": "code",
      "metadata": {
        "id": "hdBmfKqvENVo",
        "colab_type": "code",
        "colab": {
          "base_uri": "https://localhost:8080/",
          "height": 51
        },
        "outputId": "b4cbab04-89e9-483f-86a0-fccae3a63fe2"
      },
      "source": [
        "# 두 번 이상 나온 이름 찾기\n",
        "# 입력 : 이름이 n개 들어 있는 리스트\n",
        "# 출력 : 이름n개 중 반복되는 이름의 집합\n",
        "\n",
        "def find_same_name(a):\n",
        "    n = len(a)                 # 리스트의 자료 개수를 n에 저장\n",
        "    result = set()             # 결과를 저장할 빈 집합\n",
        "    for i in range(0,n-1):     # 0부터 n-2까지 반복\n",
        "        for j in range(i+1,n): # i+1부터 n-1까지 반복\n",
        "            if a[i] == a[j]:   # 이름이 같으면\n",
        "                result.add(a[i]) # 찾은 이름을 result에 추가\n",
        "    return result\n",
        "\n",
        "name = ['Tom','Jerry','Mike','Tom']\n",
        "print(find_same_name(name))\n",
        "name2 = ['Tom','Jerry','Mike','Tom','Mike']\n",
        "print(find_same_name(name2))"
      ],
      "execution_count": 19,
      "outputs": [
        {
          "output_type": "stream",
          "text": [
            "{'Tom'}\n",
            "{'Mike', 'Tom'}\n"
          ],
          "name": "stdout"
        }
      ]
    },
    {
      "cell_type": "markdown",
      "metadata": {
        "id": "IKmSjV4SM3N6",
        "colab_type": "text"
      },
      "source": [
        "## 리스트 안에 있는 자료를 서로 빠짐없이 비교하되 중복해서 비교하지 않도록 반복문을 두개 겹쳐서 사용하였습니다.\n",
        " - 첫번째 반복문 : for i in range(0,n-1): 은 i를 0부터 n-2까지 반복한다는 뜻입니다.리스트의 마지막 값에 해당하는 a[n-1]은 이미 앞에서 다른 자료와 한번씩 다 비교했으므로 제외해도 됩니다.(즉,마지막 Tom을 기준으로 비교하지 않아도 됩니다.)\n",
        " - 두번째 반복문 for j in range(i +1,n): 은 비교 기준으로 정해진 i번째 위치에 1을 더한 위치의 값부터 끝까지 비교하는 것을 뜻합니다."
      ]
    },
    {
      "cell_type": "markdown",
      "metadata": {
        "id": "bXav_06LOX8-",
        "colab_type": "text"
      },
      "source": [
        "# 연습 문제"
      ]
    },
    {
      "cell_type": "markdown",
      "metadata": {
        "id": "A_ngDRFjPBWP",
        "colab_type": "text"
      },
      "source": [
        "### n명 중 두 명을 뽑아 짝을 짓는다고 할 때 짝을 지을 수 있는 모든 조합을 출력하는 알고리즘을 만들어 보세오.\n",
        "- 예를 들어 입력이 리스트['Tom','Jerry','Mike']라면 다음과 같은 세가지 경우를 출력합니다.\n",
        "  -  Tom - Jerry\n",
        "  -  Tom - Mike\n",
        "  -  Jerry - Mike"
      ]
    },
    {
      "cell_type": "markdown",
      "metadata": {
        "id": "yyUh72aDPoen",
        "colab_type": "text"
      },
      "source": [
        "### -- 사람이 총 n명일 때 두 명을 뽑아 짝으로 만드는 방법은 동명이인 찾기 문제에서 비교 부분을 출력 문자으로 고치면 쉽게 풀 수 있습니다."
      ]
    },
    {
      "cell_type": "code",
      "metadata": {
        "id": "4qdKwkVZQOws",
        "colab_type": "code",
        "colab": {
          "base_uri": "https://localhost:8080/",
          "height": 187
        },
        "outputId": "b3b3a6f2-75ba-4280-c07d-1eb194abd588"
      },
      "source": [
        "# n명에서 두 명을 뽑아 짝으로 만드는 모든 경우를 찾는 알고리즘\n",
        "# 입력: n명의 이름이 들어 있는 리스트\n",
        "# 출력: 두 명을 뽑아 만들 수 있는 모든 짝\n",
        "\n",
        "def print_pairs(a):\n",
        "    n = len(a)\n",
        "    for i in range(0,n-1):\n",
        "        for j in range(i+1,n):\n",
        "            print(a[i],'-',a[j])\n",
        "\n",
        "name = ['Tom','Jerry','Mike']\n",
        "print_pairs(name)\n",
        "print()\n",
        "name2 = ['Tom','Jerry','Mike','John']\n",
        "print_pairs(name2)"
      ],
      "execution_count": 20,
      "outputs": [
        {
          "output_type": "stream",
          "text": [
            "Tom - Jerry\n",
            "Tom - Mike\n",
            "Jerry - Mike\n",
            "\n",
            "Tom - Jerry\n",
            "Tom - Mike\n",
            "Tom - John\n",
            "Jerry - Mike\n",
            "Jerry - John\n",
            "Mike - John\n"
          ],
          "name": "stdout"
        }
      ]
    },
    {
      "cell_type": "markdown",
      "metadata": {
        "id": "MyD4K6_2RSEL",
        "colab_type": "text"
      },
      "source": [
        "### **참고로 n명에서 두 명을 뽑아 짝으로 만들면 짝 조합이 n(n-1)/2 까지 출력됩니다.이 경우의 수를 nC2라고도 표현합니다.**"
      ]
    }
  ]
}