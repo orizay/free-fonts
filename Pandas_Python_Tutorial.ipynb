{
  "nbformat": 4,
  "nbformat_minor": 0,
  "metadata": {
    "colab": {
      "name": "Pandas Python Tutorial.ipynb",
      "provenance": [],
      "authorship_tag": "ABX9TyMiUsT2URFUZQNCILUgSRpo",
      "include_colab_link": true
    },
    "kernelspec": {
      "name": "python3",
      "display_name": "Python 3"
    }
  },
  "cells": [
    {
      "cell_type": "markdown",
      "metadata": {
        "id": "view-in-github",
        "colab_type": "text"
      },
      "source": [
        "<a href=\"https://colab.research.google.com/github/orizay/free-fonts/blob/master/Pandas_Python_Tutorial.ipynb\" target=\"_parent\"><img src=\"https://colab.research.google.com/assets/colab-badge.svg\" alt=\"Open In Colab\"/></a>"
      ]
    },
    {
      "cell_type": "markdown",
      "metadata": {
        "id": "eALE1j7bfuF3",
        "colab_type": "text"
      },
      "source": [
        "![대체 텍스트](https://s3.us-east-1.amazonaws.com/qz-production-atlas-assets/charts/atlas_rJ9sZ5syf@2x.png)"
      ]
    },
    {
      "cell_type": "code",
      "metadata": {
        "id": "1HwWjChiiRj7",
        "colab_type": "code",
        "colab": {}
      },
      "source": [
        "import pandas as pd\n",
        "import numpy as np\n",
        "import seaborn as sns\n",
        "import matplotlib.pyplot as plt\n",
        "\n",
        "%matplotlib inline"
      ],
      "execution_count": 74,
      "outputs": []
    },
    {
      "cell_type": "markdown",
      "metadata": {
        "id": "hgBRSxpmiWeg",
        "colab_type": "text"
      },
      "source": [
        "# Series & DataFrame"
      ]
    },
    {
      "cell_type": "code",
      "metadata": {
        "id": "sP5VvBqKjjm5",
        "colab_type": "code",
        "colab": {
          "base_uri": "https://localhost:8080/",
          "height": 34
        },
        "outputId": "7fa56126-b98b-4299-91b5-21ae847f73fa"
      },
      "source": [
        "data = {\n",
        "    'apple':[3,1,4,5],\n",
        "    'orange':[1,5,6,8]\n",
        "}\n",
        "\n",
        "data"
      ],
      "execution_count": 2,
      "outputs": [
        {
          "output_type": "execute_result",
          "data": {
            "text/plain": [
              "{'apple': [3, 1, 4, 5], 'orange': [1, 5, 6, 8]}"
            ]
          },
          "metadata": {
            "tags": []
          },
          "execution_count": 2
        }
      ]
    },
    {
      "cell_type": "code",
      "metadata": {
        "id": "PWl-ydAyj1c4",
        "colab_type": "code",
        "colab": {
          "base_uri": "https://localhost:8080/",
          "height": 34
        },
        "outputId": "156fbfb8-db71-4638-b370-5be3d39b301f"
      },
      "source": [
        "type(data)"
      ],
      "execution_count": 3,
      "outputs": [
        {
          "output_type": "execute_result",
          "data": {
            "text/plain": [
              "dict"
            ]
          },
          "metadata": {
            "tags": []
          },
          "execution_count": 3
        }
      ]
    },
    {
      "cell_type": "code",
      "metadata": {
        "id": "AD-fSxLhj46X",
        "colab_type": "code",
        "colab": {
          "base_uri": "https://localhost:8080/",
          "height": 173
        },
        "outputId": "a8894cb0-c89a-4e33-c02c-147dd9a10262"
      },
      "source": [
        "df = pd.DataFrame(data)\n",
        "df"
      ],
      "execution_count": 4,
      "outputs": [
        {
          "output_type": "execute_result",
          "data": {
            "text/html": [
              "<div>\n",
              "<style scoped>\n",
              "    .dataframe tbody tr th:only-of-type {\n",
              "        vertical-align: middle;\n",
              "    }\n",
              "\n",
              "    .dataframe tbody tr th {\n",
              "        vertical-align: top;\n",
              "    }\n",
              "\n",
              "    .dataframe thead th {\n",
              "        text-align: right;\n",
              "    }\n",
              "</style>\n",
              "<table border=\"1\" class=\"dataframe\">\n",
              "  <thead>\n",
              "    <tr style=\"text-align: right;\">\n",
              "      <th></th>\n",
              "      <th>apple</th>\n",
              "      <th>orange</th>\n",
              "    </tr>\n",
              "  </thead>\n",
              "  <tbody>\n",
              "    <tr>\n",
              "      <th>0</th>\n",
              "      <td>3</td>\n",
              "      <td>1</td>\n",
              "    </tr>\n",
              "    <tr>\n",
              "      <th>1</th>\n",
              "      <td>1</td>\n",
              "      <td>5</td>\n",
              "    </tr>\n",
              "    <tr>\n",
              "      <th>2</th>\n",
              "      <td>4</td>\n",
              "      <td>6</td>\n",
              "    </tr>\n",
              "    <tr>\n",
              "      <th>3</th>\n",
              "      <td>5</td>\n",
              "      <td>8</td>\n",
              "    </tr>\n",
              "  </tbody>\n",
              "</table>\n",
              "</div>"
            ],
            "text/plain": [
              "   apple  orange\n",
              "0      3       1\n",
              "1      1       5\n",
              "2      4       6\n",
              "3      5       8"
            ]
          },
          "metadata": {
            "tags": []
          },
          "execution_count": 4
        }
      ]
    },
    {
      "cell_type": "code",
      "metadata": {
        "id": "AMZ1w0n1kDRP",
        "colab_type": "code",
        "colab": {
          "base_uri": "https://localhost:8080/",
          "height": 102
        },
        "outputId": "33455243-035a-4ba2-ecef-2c524da87916"
      },
      "source": [
        "df['apple']"
      ],
      "execution_count": 5,
      "outputs": [
        {
          "output_type": "execute_result",
          "data": {
            "text/plain": [
              "0    3\n",
              "1    1\n",
              "2    4\n",
              "3    5\n",
              "Name: apple, dtype: int64"
            ]
          },
          "metadata": {
            "tags": []
          },
          "execution_count": 5
        }
      ]
    },
    {
      "cell_type": "code",
      "metadata": {
        "id": "dyYc6JoDkM2b",
        "colab_type": "code",
        "colab": {
          "base_uri": "https://localhost:8080/",
          "height": 34
        },
        "outputId": "d821c52e-1bd0-4268-ff07-58226c9746cd"
      },
      "source": [
        "type(df['apple'])"
      ],
      "execution_count": 6,
      "outputs": [
        {
          "output_type": "execute_result",
          "data": {
            "text/plain": [
              "pandas.core.series.Series"
            ]
          },
          "metadata": {
            "tags": []
          },
          "execution_count": 6
        }
      ]
    },
    {
      "cell_type": "markdown",
      "metadata": {
        "id": "vt_sDJv6kQFq",
        "colab_type": "text"
      },
      "source": [
        "# how to read.csv files"
      ]
    },
    {
      "cell_type": "code",
      "metadata": {
        "id": "2Fdez9b9mCS-",
        "colab_type": "code",
        "colab": {
          "base_uri": "https://localhost:8080/",
          "height": 122
        },
        "outputId": "ea0ac267-75b0-4311-f98d-dd534a71a6f3"
      },
      "source": [
        "from google.colab import drive\n",
        "drive.mount('/content/drive')"
      ],
      "execution_count": 7,
      "outputs": [
        {
          "output_type": "stream",
          "text": [
            "Go to this URL in a browser: https://accounts.google.com/o/oauth2/auth?client_id=947318989803-6bn6qk8qdgf4n4g3pfee6491hc0brc4i.apps.googleusercontent.com&redirect_uri=urn%3aietf%3awg%3aoauth%3a2.0%3aoob&response_type=code&scope=email%20https%3a%2f%2fwww.googleapis.com%2fauth%2fdocs.test%20https%3a%2f%2fwww.googleapis.com%2fauth%2fdrive%20https%3a%2f%2fwww.googleapis.com%2fauth%2fdrive.photos.readonly%20https%3a%2f%2fwww.googleapis.com%2fauth%2fpeopleapi.readonly\n",
            "\n",
            "Enter your authorization code:\n",
            "··········\n",
            "Mounted at /content/drive\n"
          ],
          "name": "stdout"
        }
      ]
    },
    {
      "cell_type": "code",
      "metadata": {
        "id": "Ch1NRiX7lwWl",
        "colab_type": "code",
        "colab": {
          "base_uri": "https://localhost:8080/",
          "height": 359
        },
        "outputId": "6918f4a9-19d2-4f69-96e9-1d8753f9cfba"
      },
      "source": [
        "df = pd.read_csv('/content/drive/My Drive/MyData/All-CSV-ML-Data-Files-Download-master/nba.csv')\n",
        "df.head(10) "
      ],
      "execution_count": 8,
      "outputs": [
        {
          "output_type": "execute_result",
          "data": {
            "text/html": [
              "<div>\n",
              "<style scoped>\n",
              "    .dataframe tbody tr th:only-of-type {\n",
              "        vertical-align: middle;\n",
              "    }\n",
              "\n",
              "    .dataframe tbody tr th {\n",
              "        vertical-align: top;\n",
              "    }\n",
              "\n",
              "    .dataframe thead th {\n",
              "        text-align: right;\n",
              "    }\n",
              "</style>\n",
              "<table border=\"1\" class=\"dataframe\">\n",
              "  <thead>\n",
              "    <tr style=\"text-align: right;\">\n",
              "      <th></th>\n",
              "      <th>Name</th>\n",
              "      <th>Team</th>\n",
              "      <th>Number</th>\n",
              "      <th>Position</th>\n",
              "      <th>Age</th>\n",
              "      <th>Height</th>\n",
              "      <th>Weight</th>\n",
              "      <th>College</th>\n",
              "      <th>Salary</th>\n",
              "    </tr>\n",
              "  </thead>\n",
              "  <tbody>\n",
              "    <tr>\n",
              "      <th>0</th>\n",
              "      <td>Avery Bradley</td>\n",
              "      <td>Boston Celtics</td>\n",
              "      <td>0.0</td>\n",
              "      <td>PG</td>\n",
              "      <td>25.0</td>\n",
              "      <td>6-2</td>\n",
              "      <td>180.0</td>\n",
              "      <td>Texas</td>\n",
              "      <td>7730337.0</td>\n",
              "    </tr>\n",
              "    <tr>\n",
              "      <th>1</th>\n",
              "      <td>Jae Crowder</td>\n",
              "      <td>Boston Celtics</td>\n",
              "      <td>99.0</td>\n",
              "      <td>SF</td>\n",
              "      <td>25.0</td>\n",
              "      <td>6-6</td>\n",
              "      <td>235.0</td>\n",
              "      <td>Marquette</td>\n",
              "      <td>6796117.0</td>\n",
              "    </tr>\n",
              "    <tr>\n",
              "      <th>2</th>\n",
              "      <td>John Holland</td>\n",
              "      <td>Boston Celtics</td>\n",
              "      <td>30.0</td>\n",
              "      <td>SG</td>\n",
              "      <td>27.0</td>\n",
              "      <td>6-5</td>\n",
              "      <td>205.0</td>\n",
              "      <td>Boston University</td>\n",
              "      <td>NaN</td>\n",
              "    </tr>\n",
              "    <tr>\n",
              "      <th>3</th>\n",
              "      <td>R.J. Hunter</td>\n",
              "      <td>Boston Celtics</td>\n",
              "      <td>28.0</td>\n",
              "      <td>SG</td>\n",
              "      <td>22.0</td>\n",
              "      <td>6-5</td>\n",
              "      <td>185.0</td>\n",
              "      <td>Georgia State</td>\n",
              "      <td>1148640.0</td>\n",
              "    </tr>\n",
              "    <tr>\n",
              "      <th>4</th>\n",
              "      <td>Jonas Jerebko</td>\n",
              "      <td>Boston Celtics</td>\n",
              "      <td>8.0</td>\n",
              "      <td>PF</td>\n",
              "      <td>29.0</td>\n",
              "      <td>6-10</td>\n",
              "      <td>231.0</td>\n",
              "      <td>NaN</td>\n",
              "      <td>5000000.0</td>\n",
              "    </tr>\n",
              "    <tr>\n",
              "      <th>5</th>\n",
              "      <td>Amir Johnson</td>\n",
              "      <td>Boston Celtics</td>\n",
              "      <td>90.0</td>\n",
              "      <td>PF</td>\n",
              "      <td>29.0</td>\n",
              "      <td>6-9</td>\n",
              "      <td>240.0</td>\n",
              "      <td>NaN</td>\n",
              "      <td>12000000.0</td>\n",
              "    </tr>\n",
              "    <tr>\n",
              "      <th>6</th>\n",
              "      <td>Jordan Mickey</td>\n",
              "      <td>Boston Celtics</td>\n",
              "      <td>55.0</td>\n",
              "      <td>PF</td>\n",
              "      <td>21.0</td>\n",
              "      <td>6-8</td>\n",
              "      <td>235.0</td>\n",
              "      <td>LSU</td>\n",
              "      <td>1170960.0</td>\n",
              "    </tr>\n",
              "    <tr>\n",
              "      <th>7</th>\n",
              "      <td>Kelly Olynyk</td>\n",
              "      <td>Boston Celtics</td>\n",
              "      <td>41.0</td>\n",
              "      <td>C</td>\n",
              "      <td>25.0</td>\n",
              "      <td>7-0</td>\n",
              "      <td>238.0</td>\n",
              "      <td>Gonzaga</td>\n",
              "      <td>2165160.0</td>\n",
              "    </tr>\n",
              "    <tr>\n",
              "      <th>8</th>\n",
              "      <td>Terry Rozier</td>\n",
              "      <td>Boston Celtics</td>\n",
              "      <td>12.0</td>\n",
              "      <td>PG</td>\n",
              "      <td>22.0</td>\n",
              "      <td>6-2</td>\n",
              "      <td>190.0</td>\n",
              "      <td>Louisville</td>\n",
              "      <td>1824360.0</td>\n",
              "    </tr>\n",
              "    <tr>\n",
              "      <th>9</th>\n",
              "      <td>Marcus Smart</td>\n",
              "      <td>Boston Celtics</td>\n",
              "      <td>36.0</td>\n",
              "      <td>PG</td>\n",
              "      <td>22.0</td>\n",
              "      <td>6-4</td>\n",
              "      <td>220.0</td>\n",
              "      <td>Oklahoma State</td>\n",
              "      <td>3431040.0</td>\n",
              "    </tr>\n",
              "  </tbody>\n",
              "</table>\n",
              "</div>"
            ],
            "text/plain": [
              "            Name            Team  Number  ... Weight            College      Salary\n",
              "0  Avery Bradley  Boston Celtics     0.0  ...  180.0              Texas   7730337.0\n",
              "1    Jae Crowder  Boston Celtics    99.0  ...  235.0          Marquette   6796117.0\n",
              "2   John Holland  Boston Celtics    30.0  ...  205.0  Boston University         NaN\n",
              "3    R.J. Hunter  Boston Celtics    28.0  ...  185.0      Georgia State   1148640.0\n",
              "4  Jonas Jerebko  Boston Celtics     8.0  ...  231.0                NaN   5000000.0\n",
              "5   Amir Johnson  Boston Celtics    90.0  ...  240.0                NaN  12000000.0\n",
              "6  Jordan Mickey  Boston Celtics    55.0  ...  235.0                LSU   1170960.0\n",
              "7   Kelly Olynyk  Boston Celtics    41.0  ...  238.0            Gonzaga   2165160.0\n",
              "8   Terry Rozier  Boston Celtics    12.0  ...  190.0         Louisville   1824360.0\n",
              "9   Marcus Smart  Boston Celtics    36.0  ...  220.0     Oklahoma State   3431040.0\n",
              "\n",
              "[10 rows x 9 columns]"
            ]
          },
          "metadata": {
            "tags": []
          },
          "execution_count": 8
        }
      ]
    },
    {
      "cell_type": "code",
      "metadata": {
        "id": "Yrpdhsl4mfzK",
        "colab_type": "code",
        "colab": {
          "base_uri": "https://localhost:8080/",
          "height": 142
        },
        "outputId": "a20ad9f4-91f9-4a0a-dabf-dde856a5f130"
      },
      "source": [
        "df.tail(3)"
      ],
      "execution_count": 9,
      "outputs": [
        {
          "output_type": "execute_result",
          "data": {
            "text/html": [
              "<div>\n",
              "<style scoped>\n",
              "    .dataframe tbody tr th:only-of-type {\n",
              "        vertical-align: middle;\n",
              "    }\n",
              "\n",
              "    .dataframe tbody tr th {\n",
              "        vertical-align: top;\n",
              "    }\n",
              "\n",
              "    .dataframe thead th {\n",
              "        text-align: right;\n",
              "    }\n",
              "</style>\n",
              "<table border=\"1\" class=\"dataframe\">\n",
              "  <thead>\n",
              "    <tr style=\"text-align: right;\">\n",
              "      <th></th>\n",
              "      <th>Name</th>\n",
              "      <th>Team</th>\n",
              "      <th>Number</th>\n",
              "      <th>Position</th>\n",
              "      <th>Age</th>\n",
              "      <th>Height</th>\n",
              "      <th>Weight</th>\n",
              "      <th>College</th>\n",
              "      <th>Salary</th>\n",
              "    </tr>\n",
              "  </thead>\n",
              "  <tbody>\n",
              "    <tr>\n",
              "      <th>455</th>\n",
              "      <td>Tibor Pleiss</td>\n",
              "      <td>Utah Jazz</td>\n",
              "      <td>21.0</td>\n",
              "      <td>C</td>\n",
              "      <td>26.0</td>\n",
              "      <td>7-3</td>\n",
              "      <td>256.0</td>\n",
              "      <td>NaN</td>\n",
              "      <td>2900000.0</td>\n",
              "    </tr>\n",
              "    <tr>\n",
              "      <th>456</th>\n",
              "      <td>Jeff Withey</td>\n",
              "      <td>Utah Jazz</td>\n",
              "      <td>24.0</td>\n",
              "      <td>C</td>\n",
              "      <td>26.0</td>\n",
              "      <td>7-0</td>\n",
              "      <td>231.0</td>\n",
              "      <td>Kansas</td>\n",
              "      <td>947276.0</td>\n",
              "    </tr>\n",
              "    <tr>\n",
              "      <th>457</th>\n",
              "      <td>NaN</td>\n",
              "      <td>NaN</td>\n",
              "      <td>NaN</td>\n",
              "      <td>NaN</td>\n",
              "      <td>NaN</td>\n",
              "      <td>NaN</td>\n",
              "      <td>NaN</td>\n",
              "      <td>NaN</td>\n",
              "      <td>NaN</td>\n",
              "    </tr>\n",
              "  </tbody>\n",
              "</table>\n",
              "</div>"
            ],
            "text/plain": [
              "             Name       Team  Number Position  ...  Height Weight  College     Salary\n",
              "455  Tibor Pleiss  Utah Jazz    21.0        C  ...     7-3  256.0      NaN  2900000.0\n",
              "456   Jeff Withey  Utah Jazz    24.0        C  ...     7-0  231.0   Kansas   947276.0\n",
              "457           NaN        NaN     NaN      NaN  ...     NaN    NaN      NaN        NaN\n",
              "\n",
              "[3 rows x 9 columns]"
            ]
          },
          "metadata": {
            "tags": []
          },
          "execution_count": 9
        }
      ]
    },
    {
      "cell_type": "code",
      "metadata": {
        "id": "VbdRbH5Zm4ve",
        "colab_type": "code",
        "colab": {
          "base_uri": "https://localhost:8080/",
          "height": 235
        },
        "outputId": "2293c998-761f-4caa-9406-4efc9cdc4eda"
      },
      "source": [
        "df = pd.read_csv('/content/drive/My Drive/MyData/All-CSV-ML-Data-Files-Download-master/nba.csv',index_col= 'Name')\n",
        "df.head()"
      ],
      "execution_count": 10,
      "outputs": [
        {
          "output_type": "execute_result",
          "data": {
            "text/html": [
              "<div>\n",
              "<style scoped>\n",
              "    .dataframe tbody tr th:only-of-type {\n",
              "        vertical-align: middle;\n",
              "    }\n",
              "\n",
              "    .dataframe tbody tr th {\n",
              "        vertical-align: top;\n",
              "    }\n",
              "\n",
              "    .dataframe thead th {\n",
              "        text-align: right;\n",
              "    }\n",
              "</style>\n",
              "<table border=\"1\" class=\"dataframe\">\n",
              "  <thead>\n",
              "    <tr style=\"text-align: right;\">\n",
              "      <th></th>\n",
              "      <th>Team</th>\n",
              "      <th>Number</th>\n",
              "      <th>Position</th>\n",
              "      <th>Age</th>\n",
              "      <th>Height</th>\n",
              "      <th>Weight</th>\n",
              "      <th>College</th>\n",
              "      <th>Salary</th>\n",
              "    </tr>\n",
              "    <tr>\n",
              "      <th>Name</th>\n",
              "      <th></th>\n",
              "      <th></th>\n",
              "      <th></th>\n",
              "      <th></th>\n",
              "      <th></th>\n",
              "      <th></th>\n",
              "      <th></th>\n",
              "      <th></th>\n",
              "    </tr>\n",
              "  </thead>\n",
              "  <tbody>\n",
              "    <tr>\n",
              "      <th>Avery Bradley</th>\n",
              "      <td>Boston Celtics</td>\n",
              "      <td>0.0</td>\n",
              "      <td>PG</td>\n",
              "      <td>25.0</td>\n",
              "      <td>6-2</td>\n",
              "      <td>180.0</td>\n",
              "      <td>Texas</td>\n",
              "      <td>7730337.0</td>\n",
              "    </tr>\n",
              "    <tr>\n",
              "      <th>Jae Crowder</th>\n",
              "      <td>Boston Celtics</td>\n",
              "      <td>99.0</td>\n",
              "      <td>SF</td>\n",
              "      <td>25.0</td>\n",
              "      <td>6-6</td>\n",
              "      <td>235.0</td>\n",
              "      <td>Marquette</td>\n",
              "      <td>6796117.0</td>\n",
              "    </tr>\n",
              "    <tr>\n",
              "      <th>John Holland</th>\n",
              "      <td>Boston Celtics</td>\n",
              "      <td>30.0</td>\n",
              "      <td>SG</td>\n",
              "      <td>27.0</td>\n",
              "      <td>6-5</td>\n",
              "      <td>205.0</td>\n",
              "      <td>Boston University</td>\n",
              "      <td>NaN</td>\n",
              "    </tr>\n",
              "    <tr>\n",
              "      <th>R.J. Hunter</th>\n",
              "      <td>Boston Celtics</td>\n",
              "      <td>28.0</td>\n",
              "      <td>SG</td>\n",
              "      <td>22.0</td>\n",
              "      <td>6-5</td>\n",
              "      <td>185.0</td>\n",
              "      <td>Georgia State</td>\n",
              "      <td>1148640.0</td>\n",
              "    </tr>\n",
              "    <tr>\n",
              "      <th>Jonas Jerebko</th>\n",
              "      <td>Boston Celtics</td>\n",
              "      <td>8.0</td>\n",
              "      <td>PF</td>\n",
              "      <td>29.0</td>\n",
              "      <td>6-10</td>\n",
              "      <td>231.0</td>\n",
              "      <td>NaN</td>\n",
              "      <td>5000000.0</td>\n",
              "    </tr>\n",
              "  </tbody>\n",
              "</table>\n",
              "</div>"
            ],
            "text/plain": [
              "                         Team  Number  ...            College     Salary\n",
              "Name                                   ...                              \n",
              "Avery Bradley  Boston Celtics     0.0  ...              Texas  7730337.0\n",
              "Jae Crowder    Boston Celtics    99.0  ...          Marquette  6796117.0\n",
              "John Holland   Boston Celtics    30.0  ...  Boston University        NaN\n",
              "R.J. Hunter    Boston Celtics    28.0  ...      Georgia State  1148640.0\n",
              "Jonas Jerebko  Boston Celtics     8.0  ...                NaN  5000000.0\n",
              "\n",
              "[5 rows x 8 columns]"
            ]
          },
          "metadata": {
            "tags": []
          },
          "execution_count": 10
        }
      ]
    },
    {
      "cell_type": "code",
      "metadata": {
        "id": "jzMHrk9cnVgR",
        "colab_type": "code",
        "colab": {
          "base_uri": "https://localhost:8080/",
          "height": 337
        },
        "outputId": "676fb7c3-e596-44a2-b147-47f47f1ff8da"
      },
      "source": [
        "df = pd.read_csv('/content/drive/My Drive/MyData/All-CSV-ML-Data-Files-Download-master/IMDB-Movie-Data.csv'\n",
        ",index_col= 'Rank')\n",
        "df.head()"
      ],
      "execution_count": 11,
      "outputs": [
        {
          "output_type": "execute_result",
          "data": {
            "text/html": [
              "<div>\n",
              "<style scoped>\n",
              "    .dataframe tbody tr th:only-of-type {\n",
              "        vertical-align: middle;\n",
              "    }\n",
              "\n",
              "    .dataframe tbody tr th {\n",
              "        vertical-align: top;\n",
              "    }\n",
              "\n",
              "    .dataframe thead th {\n",
              "        text-align: right;\n",
              "    }\n",
              "</style>\n",
              "<table border=\"1\" class=\"dataframe\">\n",
              "  <thead>\n",
              "    <tr style=\"text-align: right;\">\n",
              "      <th></th>\n",
              "      <th>Title</th>\n",
              "      <th>Genre</th>\n",
              "      <th>Description</th>\n",
              "      <th>Director</th>\n",
              "      <th>Actors</th>\n",
              "      <th>Year</th>\n",
              "      <th>Runtime (Minutes)</th>\n",
              "      <th>Rating</th>\n",
              "      <th>Votes</th>\n",
              "      <th>Revenue (Millions)</th>\n",
              "      <th>Metascore</th>\n",
              "    </tr>\n",
              "    <tr>\n",
              "      <th>Rank</th>\n",
              "      <th></th>\n",
              "      <th></th>\n",
              "      <th></th>\n",
              "      <th></th>\n",
              "      <th></th>\n",
              "      <th></th>\n",
              "      <th></th>\n",
              "      <th></th>\n",
              "      <th></th>\n",
              "      <th></th>\n",
              "      <th></th>\n",
              "    </tr>\n",
              "  </thead>\n",
              "  <tbody>\n",
              "    <tr>\n",
              "      <th>1</th>\n",
              "      <td>Guardians of the Galaxy</td>\n",
              "      <td>Action,Adventure,Sci-Fi</td>\n",
              "      <td>A group of intergalactic criminals are forced ...</td>\n",
              "      <td>James Gunn</td>\n",
              "      <td>Chris Pratt, Vin Diesel, Bradley Cooper, Zoe S...</td>\n",
              "      <td>2014</td>\n",
              "      <td>121</td>\n",
              "      <td>8.1</td>\n",
              "      <td>757074</td>\n",
              "      <td>333.13</td>\n",
              "      <td>76.0</td>\n",
              "    </tr>\n",
              "    <tr>\n",
              "      <th>2</th>\n",
              "      <td>Prometheus</td>\n",
              "      <td>Adventure,Mystery,Sci-Fi</td>\n",
              "      <td>Following clues to the origin of mankind, a te...</td>\n",
              "      <td>Ridley Scott</td>\n",
              "      <td>Noomi Rapace, Logan Marshall-Green, Michael Fa...</td>\n",
              "      <td>2012</td>\n",
              "      <td>124</td>\n",
              "      <td>7.0</td>\n",
              "      <td>485820</td>\n",
              "      <td>126.46</td>\n",
              "      <td>65.0</td>\n",
              "    </tr>\n",
              "    <tr>\n",
              "      <th>3</th>\n",
              "      <td>Split</td>\n",
              "      <td>Horror,Thriller</td>\n",
              "      <td>Three girls are kidnapped by a man with a diag...</td>\n",
              "      <td>M. Night Shyamalan</td>\n",
              "      <td>James McAvoy, Anya Taylor-Joy, Haley Lu Richar...</td>\n",
              "      <td>2016</td>\n",
              "      <td>117</td>\n",
              "      <td>7.3</td>\n",
              "      <td>157606</td>\n",
              "      <td>138.12</td>\n",
              "      <td>62.0</td>\n",
              "    </tr>\n",
              "    <tr>\n",
              "      <th>4</th>\n",
              "      <td>Sing</td>\n",
              "      <td>Animation,Comedy,Family</td>\n",
              "      <td>In a city of humanoid animals, a hustling thea...</td>\n",
              "      <td>Christophe Lourdelet</td>\n",
              "      <td>Matthew McConaughey,Reese Witherspoon, Seth Ma...</td>\n",
              "      <td>2016</td>\n",
              "      <td>108</td>\n",
              "      <td>7.2</td>\n",
              "      <td>60545</td>\n",
              "      <td>270.32</td>\n",
              "      <td>59.0</td>\n",
              "    </tr>\n",
              "    <tr>\n",
              "      <th>5</th>\n",
              "      <td>Suicide Squad</td>\n",
              "      <td>Action,Adventure,Fantasy</td>\n",
              "      <td>A secret government agency recruits some of th...</td>\n",
              "      <td>David Ayer</td>\n",
              "      <td>Will Smith, Jared Leto, Margot Robbie, Viola D...</td>\n",
              "      <td>2016</td>\n",
              "      <td>123</td>\n",
              "      <td>6.2</td>\n",
              "      <td>393727</td>\n",
              "      <td>325.02</td>\n",
              "      <td>40.0</td>\n",
              "    </tr>\n",
              "  </tbody>\n",
              "</table>\n",
              "</div>"
            ],
            "text/plain": [
              "                        Title  ... Metascore\n",
              "Rank                           ...          \n",
              "1     Guardians of the Galaxy  ...      76.0\n",
              "2                  Prometheus  ...      65.0\n",
              "3                       Split  ...      62.0\n",
              "4                        Sing  ...      59.0\n",
              "5               Suicide Squad  ...      40.0\n",
              "\n",
              "[5 rows x 11 columns]"
            ]
          },
          "metadata": {
            "tags": []
          },
          "execution_count": 11
        }
      ]
    },
    {
      "cell_type": "code",
      "metadata": {
        "id": "Hs8RAm6On4oF",
        "colab_type": "code",
        "colab": {
          "base_uri": "https://localhost:8080/",
          "height": 337
        },
        "outputId": "c1ebe0bc-6d61-405a-fd51-0ef09c689924"
      },
      "source": [
        "df.tail()"
      ],
      "execution_count": 12,
      "outputs": [
        {
          "output_type": "execute_result",
          "data": {
            "text/html": [
              "<div>\n",
              "<style scoped>\n",
              "    .dataframe tbody tr th:only-of-type {\n",
              "        vertical-align: middle;\n",
              "    }\n",
              "\n",
              "    .dataframe tbody tr th {\n",
              "        vertical-align: top;\n",
              "    }\n",
              "\n",
              "    .dataframe thead th {\n",
              "        text-align: right;\n",
              "    }\n",
              "</style>\n",
              "<table border=\"1\" class=\"dataframe\">\n",
              "  <thead>\n",
              "    <tr style=\"text-align: right;\">\n",
              "      <th></th>\n",
              "      <th>Title</th>\n",
              "      <th>Genre</th>\n",
              "      <th>Description</th>\n",
              "      <th>Director</th>\n",
              "      <th>Actors</th>\n",
              "      <th>Year</th>\n",
              "      <th>Runtime (Minutes)</th>\n",
              "      <th>Rating</th>\n",
              "      <th>Votes</th>\n",
              "      <th>Revenue (Millions)</th>\n",
              "      <th>Metascore</th>\n",
              "    </tr>\n",
              "    <tr>\n",
              "      <th>Rank</th>\n",
              "      <th></th>\n",
              "      <th></th>\n",
              "      <th></th>\n",
              "      <th></th>\n",
              "      <th></th>\n",
              "      <th></th>\n",
              "      <th></th>\n",
              "      <th></th>\n",
              "      <th></th>\n",
              "      <th></th>\n",
              "      <th></th>\n",
              "    </tr>\n",
              "  </thead>\n",
              "  <tbody>\n",
              "    <tr>\n",
              "      <th>996</th>\n",
              "      <td>Secret in Their Eyes</td>\n",
              "      <td>Crime,Drama,Mystery</td>\n",
              "      <td>A tight-knit team of rising investigators, alo...</td>\n",
              "      <td>Billy Ray</td>\n",
              "      <td>Chiwetel Ejiofor, Nicole Kidman, Julia Roberts...</td>\n",
              "      <td>2015</td>\n",
              "      <td>111</td>\n",
              "      <td>6.2</td>\n",
              "      <td>27585</td>\n",
              "      <td>NaN</td>\n",
              "      <td>45.0</td>\n",
              "    </tr>\n",
              "    <tr>\n",
              "      <th>997</th>\n",
              "      <td>Hostel: Part II</td>\n",
              "      <td>Horror</td>\n",
              "      <td>Three American college students studying abroa...</td>\n",
              "      <td>Eli Roth</td>\n",
              "      <td>Lauren German, Heather Matarazzo, Bijou Philli...</td>\n",
              "      <td>2007</td>\n",
              "      <td>94</td>\n",
              "      <td>5.5</td>\n",
              "      <td>73152</td>\n",
              "      <td>17.54</td>\n",
              "      <td>46.0</td>\n",
              "    </tr>\n",
              "    <tr>\n",
              "      <th>998</th>\n",
              "      <td>Step Up 2: The Streets</td>\n",
              "      <td>Drama,Music,Romance</td>\n",
              "      <td>Romantic sparks occur between two dance studen...</td>\n",
              "      <td>Jon M. Chu</td>\n",
              "      <td>Robert Hoffman, Briana Evigan, Cassie Ventura,...</td>\n",
              "      <td>2008</td>\n",
              "      <td>98</td>\n",
              "      <td>6.2</td>\n",
              "      <td>70699</td>\n",
              "      <td>58.01</td>\n",
              "      <td>50.0</td>\n",
              "    </tr>\n",
              "    <tr>\n",
              "      <th>999</th>\n",
              "      <td>Search Party</td>\n",
              "      <td>Adventure,Comedy</td>\n",
              "      <td>A pair of friends embark on a mission to reuni...</td>\n",
              "      <td>Scot Armstrong</td>\n",
              "      <td>Adam Pally, T.J. Miller, Thomas Middleditch,Sh...</td>\n",
              "      <td>2014</td>\n",
              "      <td>93</td>\n",
              "      <td>5.6</td>\n",
              "      <td>4881</td>\n",
              "      <td>NaN</td>\n",
              "      <td>22.0</td>\n",
              "    </tr>\n",
              "    <tr>\n",
              "      <th>1000</th>\n",
              "      <td>Nine Lives</td>\n",
              "      <td>Comedy,Family,Fantasy</td>\n",
              "      <td>A stuffy businessman finds himself trapped ins...</td>\n",
              "      <td>Barry Sonnenfeld</td>\n",
              "      <td>Kevin Spacey, Jennifer Garner, Robbie Amell,Ch...</td>\n",
              "      <td>2016</td>\n",
              "      <td>87</td>\n",
              "      <td>5.3</td>\n",
              "      <td>12435</td>\n",
              "      <td>19.64</td>\n",
              "      <td>11.0</td>\n",
              "    </tr>\n",
              "  </tbody>\n",
              "</table>\n",
              "</div>"
            ],
            "text/plain": [
              "                       Title  ... Metascore\n",
              "Rank                          ...          \n",
              "996     Secret in Their Eyes  ...      45.0\n",
              "997          Hostel: Part II  ...      46.0\n",
              "998   Step Up 2: The Streets  ...      50.0\n",
              "999             Search Party  ...      22.0\n",
              "1000              Nine Lives  ...      11.0\n",
              "\n",
              "[5 rows x 11 columns]"
            ]
          },
          "metadata": {
            "tags": []
          },
          "execution_count": 12
        }
      ]
    },
    {
      "cell_type": "code",
      "metadata": {
        "id": "kYP6yifzoaT0",
        "colab_type": "code",
        "colab": {
          "base_uri": "https://localhost:8080/",
          "height": 323
        },
        "outputId": "60511b00-00b4-4e4e-9c73-4125fa0e2192"
      },
      "source": [
        "df.info()"
      ],
      "execution_count": 13,
      "outputs": [
        {
          "output_type": "stream",
          "text": [
            "<class 'pandas.core.frame.DataFrame'>\n",
            "Int64Index: 1000 entries, 1 to 1000\n",
            "Data columns (total 11 columns):\n",
            " #   Column              Non-Null Count  Dtype  \n",
            "---  ------              --------------  -----  \n",
            " 0   Title               1000 non-null   object \n",
            " 1   Genre               1000 non-null   object \n",
            " 2   Description         1000 non-null   object \n",
            " 3   Director            1000 non-null   object \n",
            " 4   Actors              1000 non-null   object \n",
            " 5   Year                1000 non-null   int64  \n",
            " 6   Runtime (Minutes)   1000 non-null   int64  \n",
            " 7   Rating              1000 non-null   float64\n",
            " 8   Votes               1000 non-null   int64  \n",
            " 9   Revenue (Millions)  872 non-null    float64\n",
            " 10  Metascore           936 non-null    float64\n",
            "dtypes: float64(3), int64(3), object(5)\n",
            "memory usage: 93.8+ KB\n"
          ],
          "name": "stdout"
        }
      ]
    },
    {
      "cell_type": "code",
      "metadata": {
        "id": "xysTj-yPofNE",
        "colab_type": "code",
        "colab": {
          "base_uri": "https://localhost:8080/",
          "height": 34
        },
        "outputId": "cf335ac9-ab2b-4b65-b362-76681de66b10"
      },
      "source": [
        "df.shape"
      ],
      "execution_count": 14,
      "outputs": [
        {
          "output_type": "execute_result",
          "data": {
            "text/plain": [
              "(1000, 11)"
            ]
          },
          "metadata": {
            "tags": []
          },
          "execution_count": 14
        }
      ]
    },
    {
      "cell_type": "code",
      "metadata": {
        "id": "OdS3A-kexX-y",
        "colab_type": "code",
        "colab": {
          "base_uri": "https://localhost:8080/",
          "height": 34
        },
        "outputId": "97df9159-31c8-43d9-ebab-cb6e567fd376"
      },
      "source": [
        "sum(df.duplicated())"
      ],
      "execution_count": 15,
      "outputs": [
        {
          "output_type": "execute_result",
          "data": {
            "text/plain": [
              "0"
            ]
          },
          "metadata": {
            "tags": []
          },
          "execution_count": 15
        }
      ]
    },
    {
      "cell_type": "code",
      "metadata": {
        "id": "Inq3xzOuxoQS",
        "colab_type": "code",
        "colab": {
          "base_uri": "https://localhost:8080/",
          "height": 34
        },
        "outputId": "d3307699-f53f-4a93-96be-1dd8bab08f4d"
      },
      "source": [
        "df1 = df.append(df)\n",
        "df1.shape"
      ],
      "execution_count": 16,
      "outputs": [
        {
          "output_type": "execute_result",
          "data": {
            "text/plain": [
              "(2000, 11)"
            ]
          },
          "metadata": {
            "tags": []
          },
          "execution_count": 16
        }
      ]
    },
    {
      "cell_type": "code",
      "metadata": {
        "id": "BpCL_LUhyAIY",
        "colab_type": "code",
        "colab": {
          "base_uri": "https://localhost:8080/",
          "height": 34
        },
        "outputId": "021b0590-3c34-4618-d24b-878c96d09c10"
      },
      "source": [
        "df1.duplicated().sum()"
      ],
      "execution_count": 17,
      "outputs": [
        {
          "output_type": "execute_result",
          "data": {
            "text/plain": [
              "1000"
            ]
          },
          "metadata": {
            "tags": []
          },
          "execution_count": 17
        }
      ]
    },
    {
      "cell_type": "code",
      "metadata": {
        "id": "cm7_VaS2yEvb",
        "colab_type": "code",
        "colab": {
          "base_uri": "https://localhost:8080/",
          "height": 34
        },
        "outputId": "db3f10c6-e307-4277-e956-ca652eec05b5"
      },
      "source": [
        "df2 = df1.drop_duplicates()\n",
        "\n",
        "df2.shape"
      ],
      "execution_count": 18,
      "outputs": [
        {
          "output_type": "execute_result",
          "data": {
            "text/plain": [
              "(1000, 11)"
            ]
          },
          "metadata": {
            "tags": []
          },
          "execution_count": 18
        }
      ]
    },
    {
      "cell_type": "code",
      "metadata": {
        "id": "p2gVKTwUyi2F",
        "colab_type": "code",
        "colab": {
          "base_uri": "https://localhost:8080/",
          "height": 34
        },
        "outputId": "61427d5e-df85-4e7e-e5e0-ebdc56c07882"
      },
      "source": [
        "df1.shape"
      ],
      "execution_count": 19,
      "outputs": [
        {
          "output_type": "execute_result",
          "data": {
            "text/plain": [
              "(2000, 11)"
            ]
          },
          "metadata": {
            "tags": []
          },
          "execution_count": 19
        }
      ]
    },
    {
      "cell_type": "code",
      "metadata": {
        "id": "75gXBXZTyoSl",
        "colab_type": "code",
        "colab": {
          "base_uri": "https://localhost:8080/",
          "height": 34
        },
        "outputId": "b88a952c-a810-4be1-adba-d4dc257f5dde"
      },
      "source": [
        "df1.drop_duplicates(inplace= True)\n",
        "df1.shape"
      ],
      "execution_count": 20,
      "outputs": [
        {
          "output_type": "execute_result",
          "data": {
            "text/plain": [
              "(1000, 11)"
            ]
          },
          "metadata": {
            "tags": []
          },
          "execution_count": 20
        }
      ]
    },
    {
      "cell_type": "markdown",
      "metadata": {
        "id": "vobfvJ78y43G",
        "colab_type": "text"
      },
      "source": [
        "# columns cleanup"
      ]
    },
    {
      "cell_type": "code",
      "metadata": {
        "id": "PKjmRTyEzQkz",
        "colab_type": "code",
        "colab": {}
      },
      "source": [
        "col = df.columns"
      ],
      "execution_count": 21,
      "outputs": []
    },
    {
      "cell_type": "code",
      "metadata": {
        "id": "5rx6hz5_zTiH",
        "colab_type": "code",
        "colab": {
          "base_uri": "https://localhost:8080/",
          "height": 34
        },
        "outputId": "e820d53f-1e7e-4108-9e80-9c44bfa9c8b4"
      },
      "source": [
        "len(df.columns)"
      ],
      "execution_count": 22,
      "outputs": [
        {
          "output_type": "execute_result",
          "data": {
            "text/plain": [
              "11"
            ]
          },
          "metadata": {
            "tags": []
          },
          "execution_count": 22
        }
      ]
    },
    {
      "cell_type": "code",
      "metadata": {
        "id": "tJrxIuZfzWT8",
        "colab_type": "code",
        "colab": {
          "base_uri": "https://localhost:8080/",
          "height": 297
        },
        "outputId": "97e78144-062d-4401-dc85-7b6687fb41fe"
      },
      "source": [
        "df.describe()"
      ],
      "execution_count": 23,
      "outputs": [
        {
          "output_type": "execute_result",
          "data": {
            "text/html": [
              "<div>\n",
              "<style scoped>\n",
              "    .dataframe tbody tr th:only-of-type {\n",
              "        vertical-align: middle;\n",
              "    }\n",
              "\n",
              "    .dataframe tbody tr th {\n",
              "        vertical-align: top;\n",
              "    }\n",
              "\n",
              "    .dataframe thead th {\n",
              "        text-align: right;\n",
              "    }\n",
              "</style>\n",
              "<table border=\"1\" class=\"dataframe\">\n",
              "  <thead>\n",
              "    <tr style=\"text-align: right;\">\n",
              "      <th></th>\n",
              "      <th>Year</th>\n",
              "      <th>Runtime (Minutes)</th>\n",
              "      <th>Rating</th>\n",
              "      <th>Votes</th>\n",
              "      <th>Revenue (Millions)</th>\n",
              "      <th>Metascore</th>\n",
              "    </tr>\n",
              "  </thead>\n",
              "  <tbody>\n",
              "    <tr>\n",
              "      <th>count</th>\n",
              "      <td>1000.000000</td>\n",
              "      <td>1000.000000</td>\n",
              "      <td>1000.000000</td>\n",
              "      <td>1.000000e+03</td>\n",
              "      <td>872.000000</td>\n",
              "      <td>936.000000</td>\n",
              "    </tr>\n",
              "    <tr>\n",
              "      <th>mean</th>\n",
              "      <td>2012.783000</td>\n",
              "      <td>113.172000</td>\n",
              "      <td>6.723200</td>\n",
              "      <td>1.698083e+05</td>\n",
              "      <td>82.956376</td>\n",
              "      <td>58.985043</td>\n",
              "    </tr>\n",
              "    <tr>\n",
              "      <th>std</th>\n",
              "      <td>3.205962</td>\n",
              "      <td>18.810908</td>\n",
              "      <td>0.945429</td>\n",
              "      <td>1.887626e+05</td>\n",
              "      <td>103.253540</td>\n",
              "      <td>17.194757</td>\n",
              "    </tr>\n",
              "    <tr>\n",
              "      <th>min</th>\n",
              "      <td>2006.000000</td>\n",
              "      <td>66.000000</td>\n",
              "      <td>1.900000</td>\n",
              "      <td>6.100000e+01</td>\n",
              "      <td>0.000000</td>\n",
              "      <td>11.000000</td>\n",
              "    </tr>\n",
              "    <tr>\n",
              "      <th>25%</th>\n",
              "      <td>2010.000000</td>\n",
              "      <td>100.000000</td>\n",
              "      <td>6.200000</td>\n",
              "      <td>3.630900e+04</td>\n",
              "      <td>13.270000</td>\n",
              "      <td>47.000000</td>\n",
              "    </tr>\n",
              "    <tr>\n",
              "      <th>50%</th>\n",
              "      <td>2014.000000</td>\n",
              "      <td>111.000000</td>\n",
              "      <td>6.800000</td>\n",
              "      <td>1.107990e+05</td>\n",
              "      <td>47.985000</td>\n",
              "      <td>59.500000</td>\n",
              "    </tr>\n",
              "    <tr>\n",
              "      <th>75%</th>\n",
              "      <td>2016.000000</td>\n",
              "      <td>123.000000</td>\n",
              "      <td>7.400000</td>\n",
              "      <td>2.399098e+05</td>\n",
              "      <td>113.715000</td>\n",
              "      <td>72.000000</td>\n",
              "    </tr>\n",
              "    <tr>\n",
              "      <th>max</th>\n",
              "      <td>2016.000000</td>\n",
              "      <td>191.000000</td>\n",
              "      <td>9.000000</td>\n",
              "      <td>1.791916e+06</td>\n",
              "      <td>936.630000</td>\n",
              "      <td>100.000000</td>\n",
              "    </tr>\n",
              "  </tbody>\n",
              "</table>\n",
              "</div>"
            ],
            "text/plain": [
              "              Year  Runtime (Minutes)  ...  Revenue (Millions)   Metascore\n",
              "count  1000.000000        1000.000000  ...          872.000000  936.000000\n",
              "mean   2012.783000         113.172000  ...           82.956376   58.985043\n",
              "std       3.205962          18.810908  ...          103.253540   17.194757\n",
              "min    2006.000000          66.000000  ...            0.000000   11.000000\n",
              "25%    2010.000000         100.000000  ...           13.270000   47.000000\n",
              "50%    2014.000000         111.000000  ...           47.985000   59.500000\n",
              "75%    2016.000000         123.000000  ...          113.715000   72.000000\n",
              "max    2016.000000         191.000000  ...          936.630000  100.000000\n",
              "\n",
              "[8 rows x 6 columns]"
            ]
          },
          "metadata": {
            "tags": []
          },
          "execution_count": 23
        }
      ]
    },
    {
      "cell_type": "code",
      "metadata": {
        "id": "xidgXNLpzfBH",
        "colab_type": "code",
        "colab": {
          "base_uri": "https://localhost:8080/",
          "height": 85
        },
        "outputId": "f7d7c375-5604-4495-b73f-573aea0caa9a"
      },
      "source": [
        "col"
      ],
      "execution_count": 24,
      "outputs": [
        {
          "output_type": "execute_result",
          "data": {
            "text/plain": [
              "Index(['Title', 'Genre', 'Description', 'Director', 'Actors', 'Year',\n",
              "       'Runtime (Minutes)', 'Rating', 'Votes', 'Revenue (Millions)',\n",
              "       'Metascore'],\n",
              "      dtype='object')"
            ]
          },
          "metadata": {
            "tags": []
          },
          "execution_count": 24
        }
      ]
    },
    {
      "cell_type": "code",
      "metadata": {
        "id": "3bbh-5bGzsyQ",
        "colab_type": "code",
        "colab": {
          "base_uri": "https://localhost:8080/",
          "height": 34
        },
        "outputId": "15b057c8-932f-4535-fca1-bdf13c1dc202"
      },
      "source": [
        "type(col)"
      ],
      "execution_count": 25,
      "outputs": [
        {
          "output_type": "execute_result",
          "data": {
            "text/plain": [
              "pandas.core.indexes.base.Index"
            ]
          },
          "metadata": {
            "tags": []
          },
          "execution_count": 25
        }
      ]
    },
    {
      "cell_type": "code",
      "metadata": {
        "id": "Cle2G6kUz05u",
        "colab_type": "code",
        "colab": {
          "base_uri": "https://localhost:8080/",
          "height": 204
        },
        "outputId": "00569f2b-227f-4479-d228-6ae48205b3ac"
      },
      "source": [
        "list(col)"
      ],
      "execution_count": 26,
      "outputs": [
        {
          "output_type": "execute_result",
          "data": {
            "text/plain": [
              "['Title',\n",
              " 'Genre',\n",
              " 'Description',\n",
              " 'Director',\n",
              " 'Actors',\n",
              " 'Year',\n",
              " 'Runtime (Minutes)',\n",
              " 'Rating',\n",
              " 'Votes',\n",
              " 'Revenue (Millions)',\n",
              " 'Metascore']"
            ]
          },
          "metadata": {
            "tags": []
          },
          "execution_count": 26
        }
      ]
    },
    {
      "cell_type": "code",
      "metadata": {
        "id": "aRZ1v9dsz6Or",
        "colab_type": "code",
        "colab": {
          "base_uri": "https://localhost:8080/",
          "height": 34
        },
        "outputId": "c4591844-7cff-4539-83f6-c0e24f26c490"
      },
      "source": [
        "type(list(col))"
      ],
      "execution_count": 27,
      "outputs": [
        {
          "output_type": "execute_result",
          "data": {
            "text/plain": [
              "list"
            ]
          },
          "metadata": {
            "tags": []
          },
          "execution_count": 27
        }
      ]
    },
    {
      "cell_type": "code",
      "metadata": {
        "id": "Hf7Y65etz-Nu",
        "colab_type": "code",
        "colab": {}
      },
      "source": [
        "col1 = ['a','b','c','d','e','f','g','h','i','j','k']\n",
        "\n",
        "df.columns = col1"
      ],
      "execution_count": 28,
      "outputs": []
    },
    {
      "cell_type": "code",
      "metadata": {
        "id": "c3OER2C8bR_w",
        "colab_type": "code",
        "colab": {
          "base_uri": "https://localhost:8080/",
          "height": 320
        },
        "outputId": "23007292-3a24-478e-c274-d05df79c4194"
      },
      "source": [
        "df.head()"
      ],
      "execution_count": 29,
      "outputs": [
        {
          "output_type": "execute_result",
          "data": {
            "text/html": [
              "<div>\n",
              "<style scoped>\n",
              "    .dataframe tbody tr th:only-of-type {\n",
              "        vertical-align: middle;\n",
              "    }\n",
              "\n",
              "    .dataframe tbody tr th {\n",
              "        vertical-align: top;\n",
              "    }\n",
              "\n",
              "    .dataframe thead th {\n",
              "        text-align: right;\n",
              "    }\n",
              "</style>\n",
              "<table border=\"1\" class=\"dataframe\">\n",
              "  <thead>\n",
              "    <tr style=\"text-align: right;\">\n",
              "      <th></th>\n",
              "      <th>a</th>\n",
              "      <th>b</th>\n",
              "      <th>c</th>\n",
              "      <th>d</th>\n",
              "      <th>e</th>\n",
              "      <th>f</th>\n",
              "      <th>g</th>\n",
              "      <th>h</th>\n",
              "      <th>i</th>\n",
              "      <th>j</th>\n",
              "      <th>k</th>\n",
              "    </tr>\n",
              "    <tr>\n",
              "      <th>Rank</th>\n",
              "      <th></th>\n",
              "      <th></th>\n",
              "      <th></th>\n",
              "      <th></th>\n",
              "      <th></th>\n",
              "      <th></th>\n",
              "      <th></th>\n",
              "      <th></th>\n",
              "      <th></th>\n",
              "      <th></th>\n",
              "      <th></th>\n",
              "    </tr>\n",
              "  </thead>\n",
              "  <tbody>\n",
              "    <tr>\n",
              "      <th>1</th>\n",
              "      <td>Guardians of the Galaxy</td>\n",
              "      <td>Action,Adventure,Sci-Fi</td>\n",
              "      <td>A group of intergalactic criminals are forced ...</td>\n",
              "      <td>James Gunn</td>\n",
              "      <td>Chris Pratt, Vin Diesel, Bradley Cooper, Zoe S...</td>\n",
              "      <td>2014</td>\n",
              "      <td>121</td>\n",
              "      <td>8.1</td>\n",
              "      <td>757074</td>\n",
              "      <td>333.13</td>\n",
              "      <td>76.0</td>\n",
              "    </tr>\n",
              "    <tr>\n",
              "      <th>2</th>\n",
              "      <td>Prometheus</td>\n",
              "      <td>Adventure,Mystery,Sci-Fi</td>\n",
              "      <td>Following clues to the origin of mankind, a te...</td>\n",
              "      <td>Ridley Scott</td>\n",
              "      <td>Noomi Rapace, Logan Marshall-Green, Michael Fa...</td>\n",
              "      <td>2012</td>\n",
              "      <td>124</td>\n",
              "      <td>7.0</td>\n",
              "      <td>485820</td>\n",
              "      <td>126.46</td>\n",
              "      <td>65.0</td>\n",
              "    </tr>\n",
              "    <tr>\n",
              "      <th>3</th>\n",
              "      <td>Split</td>\n",
              "      <td>Horror,Thriller</td>\n",
              "      <td>Three girls are kidnapped by a man with a diag...</td>\n",
              "      <td>M. Night Shyamalan</td>\n",
              "      <td>James McAvoy, Anya Taylor-Joy, Haley Lu Richar...</td>\n",
              "      <td>2016</td>\n",
              "      <td>117</td>\n",
              "      <td>7.3</td>\n",
              "      <td>157606</td>\n",
              "      <td>138.12</td>\n",
              "      <td>62.0</td>\n",
              "    </tr>\n",
              "    <tr>\n",
              "      <th>4</th>\n",
              "      <td>Sing</td>\n",
              "      <td>Animation,Comedy,Family</td>\n",
              "      <td>In a city of humanoid animals, a hustling thea...</td>\n",
              "      <td>Christophe Lourdelet</td>\n",
              "      <td>Matthew McConaughey,Reese Witherspoon, Seth Ma...</td>\n",
              "      <td>2016</td>\n",
              "      <td>108</td>\n",
              "      <td>7.2</td>\n",
              "      <td>60545</td>\n",
              "      <td>270.32</td>\n",
              "      <td>59.0</td>\n",
              "    </tr>\n",
              "    <tr>\n",
              "      <th>5</th>\n",
              "      <td>Suicide Squad</td>\n",
              "      <td>Action,Adventure,Fantasy</td>\n",
              "      <td>A secret government agency recruits some of th...</td>\n",
              "      <td>David Ayer</td>\n",
              "      <td>Will Smith, Jared Leto, Margot Robbie, Viola D...</td>\n",
              "      <td>2016</td>\n",
              "      <td>123</td>\n",
              "      <td>6.2</td>\n",
              "      <td>393727</td>\n",
              "      <td>325.02</td>\n",
              "      <td>40.0</td>\n",
              "    </tr>\n",
              "  </tbody>\n",
              "</table>\n",
              "</div>"
            ],
            "text/plain": [
              "                            a                         b  ...       j     k\n",
              "Rank                                                     ...              \n",
              "1     Guardians of the Galaxy   Action,Adventure,Sci-Fi  ...  333.13  76.0\n",
              "2                  Prometheus  Adventure,Mystery,Sci-Fi  ...  126.46  65.0\n",
              "3                       Split           Horror,Thriller  ...  138.12  62.0\n",
              "4                        Sing   Animation,Comedy,Family  ...  270.32  59.0\n",
              "5               Suicide Squad  Action,Adventure,Fantasy  ...  325.02  40.0\n",
              "\n",
              "[5 rows x 11 columns]"
            ]
          },
          "metadata": {
            "tags": []
          },
          "execution_count": 29
        }
      ]
    },
    {
      "cell_type": "code",
      "metadata": {
        "id": "x8JoclkEb35s",
        "colab_type": "code",
        "colab": {
          "base_uri": "https://localhost:8080/",
          "height": 34
        },
        "outputId": "0fdacdcd-a13d-44c8-8cc2-035a58e2c44e"
      },
      "source": [
        "df.columns"
      ],
      "execution_count": 30,
      "outputs": [
        {
          "output_type": "execute_result",
          "data": {
            "text/plain": [
              "Index(['a', 'b', 'c', 'd', 'e', 'f', 'g', 'h', 'i', 'j', 'k'], dtype='object')"
            ]
          },
          "metadata": {
            "tags": []
          },
          "execution_count": 30
        }
      ]
    },
    {
      "cell_type": "code",
      "metadata": {
        "id": "e7pzNjpybT6a",
        "colab_type": "code",
        "colab": {}
      },
      "source": [
        "df.rename(columns= {\n",
        "    'Runtime (Minutes)':'Runtime',\n",
        "    'Revenue (Millions)':'Revenue'\n",
        "},inplace= True)"
      ],
      "execution_count": 31,
      "outputs": []
    },
    {
      "cell_type": "code",
      "metadata": {
        "id": "hU_5EfHqcYzQ",
        "colab_type": "code",
        "colab": {
          "base_uri": "https://localhost:8080/",
          "height": 34
        },
        "outputId": "b54e2c35-dadd-497b-8800-b0fbcaf0663a"
      },
      "source": [
        "df.columns"
      ],
      "execution_count": 32,
      "outputs": [
        {
          "output_type": "execute_result",
          "data": {
            "text/plain": [
              "Index(['a', 'b', 'c', 'd', 'e', 'f', 'g', 'h', 'i', 'j', 'k'], dtype='object')"
            ]
          },
          "metadata": {
            "tags": []
          },
          "execution_count": 32
        }
      ]
    },
    {
      "cell_type": "code",
      "metadata": {
        "id": "I1W4tc49ce-K",
        "colab_type": "code",
        "colab": {
          "base_uri": "https://localhost:8080/",
          "height": 85
        },
        "outputId": "a93ff3dc-a45e-4c0d-84d7-68a0c42e009a"
      },
      "source": [
        "col"
      ],
      "execution_count": 33,
      "outputs": [
        {
          "output_type": "execute_result",
          "data": {
            "text/plain": [
              "Index(['Title', 'Genre', 'Description', 'Director', 'Actors', 'Year',\n",
              "       'Runtime (Minutes)', 'Rating', 'Votes', 'Revenue (Millions)',\n",
              "       'Metascore'],\n",
              "      dtype='object')"
            ]
          },
          "metadata": {
            "tags": []
          },
          "execution_count": 33
        }
      ]
    },
    {
      "cell_type": "code",
      "metadata": {
        "id": "3w9vIgzccmPU",
        "colab_type": "code",
        "colab": {
          "base_uri": "https://localhost:8080/",
          "height": 450
        },
        "outputId": "0e948c29-56bf-4004-ddcb-04360889b54c"
      },
      "source": [
        "df.isnull()"
      ],
      "execution_count": 35,
      "outputs": [
        {
          "output_type": "execute_result",
          "data": {
            "text/html": [
              "<div>\n",
              "<style scoped>\n",
              "    .dataframe tbody tr th:only-of-type {\n",
              "        vertical-align: middle;\n",
              "    }\n",
              "\n",
              "    .dataframe tbody tr th {\n",
              "        vertical-align: top;\n",
              "    }\n",
              "\n",
              "    .dataframe thead th {\n",
              "        text-align: right;\n",
              "    }\n",
              "</style>\n",
              "<table border=\"1\" class=\"dataframe\">\n",
              "  <thead>\n",
              "    <tr style=\"text-align: right;\">\n",
              "      <th></th>\n",
              "      <th>a</th>\n",
              "      <th>b</th>\n",
              "      <th>c</th>\n",
              "      <th>d</th>\n",
              "      <th>e</th>\n",
              "      <th>f</th>\n",
              "      <th>g</th>\n",
              "      <th>h</th>\n",
              "      <th>i</th>\n",
              "      <th>j</th>\n",
              "      <th>k</th>\n",
              "    </tr>\n",
              "    <tr>\n",
              "      <th>Rank</th>\n",
              "      <th></th>\n",
              "      <th></th>\n",
              "      <th></th>\n",
              "      <th></th>\n",
              "      <th></th>\n",
              "      <th></th>\n",
              "      <th></th>\n",
              "      <th></th>\n",
              "      <th></th>\n",
              "      <th></th>\n",
              "      <th></th>\n",
              "    </tr>\n",
              "  </thead>\n",
              "  <tbody>\n",
              "    <tr>\n",
              "      <th>1</th>\n",
              "      <td>False</td>\n",
              "      <td>False</td>\n",
              "      <td>False</td>\n",
              "      <td>False</td>\n",
              "      <td>False</td>\n",
              "      <td>False</td>\n",
              "      <td>False</td>\n",
              "      <td>False</td>\n",
              "      <td>False</td>\n",
              "      <td>False</td>\n",
              "      <td>False</td>\n",
              "    </tr>\n",
              "    <tr>\n",
              "      <th>2</th>\n",
              "      <td>False</td>\n",
              "      <td>False</td>\n",
              "      <td>False</td>\n",
              "      <td>False</td>\n",
              "      <td>False</td>\n",
              "      <td>False</td>\n",
              "      <td>False</td>\n",
              "      <td>False</td>\n",
              "      <td>False</td>\n",
              "      <td>False</td>\n",
              "      <td>False</td>\n",
              "    </tr>\n",
              "    <tr>\n",
              "      <th>3</th>\n",
              "      <td>False</td>\n",
              "      <td>False</td>\n",
              "      <td>False</td>\n",
              "      <td>False</td>\n",
              "      <td>False</td>\n",
              "      <td>False</td>\n",
              "      <td>False</td>\n",
              "      <td>False</td>\n",
              "      <td>False</td>\n",
              "      <td>False</td>\n",
              "      <td>False</td>\n",
              "    </tr>\n",
              "    <tr>\n",
              "      <th>4</th>\n",
              "      <td>False</td>\n",
              "      <td>False</td>\n",
              "      <td>False</td>\n",
              "      <td>False</td>\n",
              "      <td>False</td>\n",
              "      <td>False</td>\n",
              "      <td>False</td>\n",
              "      <td>False</td>\n",
              "      <td>False</td>\n",
              "      <td>False</td>\n",
              "      <td>False</td>\n",
              "    </tr>\n",
              "    <tr>\n",
              "      <th>5</th>\n",
              "      <td>False</td>\n",
              "      <td>False</td>\n",
              "      <td>False</td>\n",
              "      <td>False</td>\n",
              "      <td>False</td>\n",
              "      <td>False</td>\n",
              "      <td>False</td>\n",
              "      <td>False</td>\n",
              "      <td>False</td>\n",
              "      <td>False</td>\n",
              "      <td>False</td>\n",
              "    </tr>\n",
              "    <tr>\n",
              "      <th>...</th>\n",
              "      <td>...</td>\n",
              "      <td>...</td>\n",
              "      <td>...</td>\n",
              "      <td>...</td>\n",
              "      <td>...</td>\n",
              "      <td>...</td>\n",
              "      <td>...</td>\n",
              "      <td>...</td>\n",
              "      <td>...</td>\n",
              "      <td>...</td>\n",
              "      <td>...</td>\n",
              "    </tr>\n",
              "    <tr>\n",
              "      <th>996</th>\n",
              "      <td>False</td>\n",
              "      <td>False</td>\n",
              "      <td>False</td>\n",
              "      <td>False</td>\n",
              "      <td>False</td>\n",
              "      <td>False</td>\n",
              "      <td>False</td>\n",
              "      <td>False</td>\n",
              "      <td>False</td>\n",
              "      <td>True</td>\n",
              "      <td>False</td>\n",
              "    </tr>\n",
              "    <tr>\n",
              "      <th>997</th>\n",
              "      <td>False</td>\n",
              "      <td>False</td>\n",
              "      <td>False</td>\n",
              "      <td>False</td>\n",
              "      <td>False</td>\n",
              "      <td>False</td>\n",
              "      <td>False</td>\n",
              "      <td>False</td>\n",
              "      <td>False</td>\n",
              "      <td>False</td>\n",
              "      <td>False</td>\n",
              "    </tr>\n",
              "    <tr>\n",
              "      <th>998</th>\n",
              "      <td>False</td>\n",
              "      <td>False</td>\n",
              "      <td>False</td>\n",
              "      <td>False</td>\n",
              "      <td>False</td>\n",
              "      <td>False</td>\n",
              "      <td>False</td>\n",
              "      <td>False</td>\n",
              "      <td>False</td>\n",
              "      <td>False</td>\n",
              "      <td>False</td>\n",
              "    </tr>\n",
              "    <tr>\n",
              "      <th>999</th>\n",
              "      <td>False</td>\n",
              "      <td>False</td>\n",
              "      <td>False</td>\n",
              "      <td>False</td>\n",
              "      <td>False</td>\n",
              "      <td>False</td>\n",
              "      <td>False</td>\n",
              "      <td>False</td>\n",
              "      <td>False</td>\n",
              "      <td>True</td>\n",
              "      <td>False</td>\n",
              "    </tr>\n",
              "    <tr>\n",
              "      <th>1000</th>\n",
              "      <td>False</td>\n",
              "      <td>False</td>\n",
              "      <td>False</td>\n",
              "      <td>False</td>\n",
              "      <td>False</td>\n",
              "      <td>False</td>\n",
              "      <td>False</td>\n",
              "      <td>False</td>\n",
              "      <td>False</td>\n",
              "      <td>False</td>\n",
              "      <td>False</td>\n",
              "    </tr>\n",
              "  </tbody>\n",
              "</table>\n",
              "<p>1000 rows × 11 columns</p>\n",
              "</div>"
            ],
            "text/plain": [
              "          a      b      c      d      e  ...      g      h      i      j      k\n",
              "Rank                                     ...                                   \n",
              "1     False  False  False  False  False  ...  False  False  False  False  False\n",
              "2     False  False  False  False  False  ...  False  False  False  False  False\n",
              "3     False  False  False  False  False  ...  False  False  False  False  False\n",
              "4     False  False  False  False  False  ...  False  False  False  False  False\n",
              "5     False  False  False  False  False  ...  False  False  False  False  False\n",
              "...     ...    ...    ...    ...    ...  ...    ...    ...    ...    ...    ...\n",
              "996   False  False  False  False  False  ...  False  False  False   True  False\n",
              "997   False  False  False  False  False  ...  False  False  False  False  False\n",
              "998   False  False  False  False  False  ...  False  False  False  False  False\n",
              "999   False  False  False  False  False  ...  False  False  False   True  False\n",
              "1000  False  False  False  False  False  ...  False  False  False  False  False\n",
              "\n",
              "[1000 rows x 11 columns]"
            ]
          },
          "metadata": {
            "tags": []
          },
          "execution_count": 35
        }
      ]
    },
    {
      "cell_type": "code",
      "metadata": {
        "id": "1L17UQqNdJgM",
        "colab_type": "code",
        "colab": {
          "base_uri": "https://localhost:8080/",
          "height": 221
        },
        "outputId": "a4ae9ccd-d3de-45d9-fb9c-23d615850262"
      },
      "source": [
        "df.isnull().sum()"
      ],
      "execution_count": 36,
      "outputs": [
        {
          "output_type": "execute_result",
          "data": {
            "text/plain": [
              "a      0\n",
              "b      0\n",
              "c      0\n",
              "d      0\n",
              "e      0\n",
              "f      0\n",
              "g      0\n",
              "h      0\n",
              "i      0\n",
              "j    128\n",
              "k     64\n",
              "dtype: int64"
            ]
          },
          "metadata": {
            "tags": []
          },
          "execution_count": 36
        }
      ]
    },
    {
      "cell_type": "code",
      "metadata": {
        "id": "6xP3nXOZdTMm",
        "colab_type": "code",
        "colab": {
          "base_uri": "https://localhost:8080/",
          "height": 221
        },
        "outputId": "f65c35af-e5cd-4137-db11-4bc506fc8b2e"
      },
      "source": [
        "df.isna().sum()"
      ],
      "execution_count": 37,
      "outputs": [
        {
          "output_type": "execute_result",
          "data": {
            "text/plain": [
              "a      0\n",
              "b      0\n",
              "c      0\n",
              "d      0\n",
              "e      0\n",
              "f      0\n",
              "g      0\n",
              "h      0\n",
              "i      0\n",
              "j    128\n",
              "k     64\n",
              "dtype: int64"
            ]
          },
          "metadata": {
            "tags": []
          },
          "execution_count": 37
        }
      ]
    },
    {
      "cell_type": "code",
      "metadata": {
        "id": "bH68OlqKdhOO",
        "colab_type": "code",
        "colab": {
          "base_uri": "https://localhost:8080/",
          "height": 34
        },
        "outputId": "20de77bf-b854-42e5-9f0b-6eb7615ea4d4"
      },
      "source": [
        "df1 = df.dropna()\n",
        "df1.shape"
      ],
      "execution_count": 38,
      "outputs": [
        {
          "output_type": "execute_result",
          "data": {
            "text/plain": [
              "(838, 11)"
            ]
          },
          "metadata": {
            "tags": []
          },
          "execution_count": 38
        }
      ]
    },
    {
      "cell_type": "code",
      "metadata": {
        "id": "R_-00vtAdu_R",
        "colab_type": "code",
        "colab": {
          "base_uri": "https://localhost:8080/",
          "height": 286
        },
        "outputId": "d1b358e5-febd-4c1d-bd75-f1382d76ca12"
      },
      "source": [
        "df2 = df.dropna(axis= 1)\n",
        "df2.head()"
      ],
      "execution_count": 39,
      "outputs": [
        {
          "output_type": "execute_result",
          "data": {
            "text/html": [
              "<div>\n",
              "<style scoped>\n",
              "    .dataframe tbody tr th:only-of-type {\n",
              "        vertical-align: middle;\n",
              "    }\n",
              "\n",
              "    .dataframe tbody tr th {\n",
              "        vertical-align: top;\n",
              "    }\n",
              "\n",
              "    .dataframe thead th {\n",
              "        text-align: right;\n",
              "    }\n",
              "</style>\n",
              "<table border=\"1\" class=\"dataframe\">\n",
              "  <thead>\n",
              "    <tr style=\"text-align: right;\">\n",
              "      <th></th>\n",
              "      <th>a</th>\n",
              "      <th>b</th>\n",
              "      <th>c</th>\n",
              "      <th>d</th>\n",
              "      <th>e</th>\n",
              "      <th>f</th>\n",
              "      <th>g</th>\n",
              "      <th>h</th>\n",
              "      <th>i</th>\n",
              "    </tr>\n",
              "    <tr>\n",
              "      <th>Rank</th>\n",
              "      <th></th>\n",
              "      <th></th>\n",
              "      <th></th>\n",
              "      <th></th>\n",
              "      <th></th>\n",
              "      <th></th>\n",
              "      <th></th>\n",
              "      <th></th>\n",
              "      <th></th>\n",
              "    </tr>\n",
              "  </thead>\n",
              "  <tbody>\n",
              "    <tr>\n",
              "      <th>1</th>\n",
              "      <td>Guardians of the Galaxy</td>\n",
              "      <td>Action,Adventure,Sci-Fi</td>\n",
              "      <td>A group of intergalactic criminals are forced ...</td>\n",
              "      <td>James Gunn</td>\n",
              "      <td>Chris Pratt, Vin Diesel, Bradley Cooper, Zoe S...</td>\n",
              "      <td>2014</td>\n",
              "      <td>121</td>\n",
              "      <td>8.1</td>\n",
              "      <td>757074</td>\n",
              "    </tr>\n",
              "    <tr>\n",
              "      <th>2</th>\n",
              "      <td>Prometheus</td>\n",
              "      <td>Adventure,Mystery,Sci-Fi</td>\n",
              "      <td>Following clues to the origin of mankind, a te...</td>\n",
              "      <td>Ridley Scott</td>\n",
              "      <td>Noomi Rapace, Logan Marshall-Green, Michael Fa...</td>\n",
              "      <td>2012</td>\n",
              "      <td>124</td>\n",
              "      <td>7.0</td>\n",
              "      <td>485820</td>\n",
              "    </tr>\n",
              "    <tr>\n",
              "      <th>3</th>\n",
              "      <td>Split</td>\n",
              "      <td>Horror,Thriller</td>\n",
              "      <td>Three girls are kidnapped by a man with a diag...</td>\n",
              "      <td>M. Night Shyamalan</td>\n",
              "      <td>James McAvoy, Anya Taylor-Joy, Haley Lu Richar...</td>\n",
              "      <td>2016</td>\n",
              "      <td>117</td>\n",
              "      <td>7.3</td>\n",
              "      <td>157606</td>\n",
              "    </tr>\n",
              "    <tr>\n",
              "      <th>4</th>\n",
              "      <td>Sing</td>\n",
              "      <td>Animation,Comedy,Family</td>\n",
              "      <td>In a city of humanoid animals, a hustling thea...</td>\n",
              "      <td>Christophe Lourdelet</td>\n",
              "      <td>Matthew McConaughey,Reese Witherspoon, Seth Ma...</td>\n",
              "      <td>2016</td>\n",
              "      <td>108</td>\n",
              "      <td>7.2</td>\n",
              "      <td>60545</td>\n",
              "    </tr>\n",
              "    <tr>\n",
              "      <th>5</th>\n",
              "      <td>Suicide Squad</td>\n",
              "      <td>Action,Adventure,Fantasy</td>\n",
              "      <td>A secret government agency recruits some of th...</td>\n",
              "      <td>David Ayer</td>\n",
              "      <td>Will Smith, Jared Leto, Margot Robbie, Viola D...</td>\n",
              "      <td>2016</td>\n",
              "      <td>123</td>\n",
              "      <td>6.2</td>\n",
              "      <td>393727</td>\n",
              "    </tr>\n",
              "  </tbody>\n",
              "</table>\n",
              "</div>"
            ],
            "text/plain": [
              "                            a                         b  ...    h       i\n",
              "Rank                                                     ...             \n",
              "1     Guardians of the Galaxy   Action,Adventure,Sci-Fi  ...  8.1  757074\n",
              "2                  Prometheus  Adventure,Mystery,Sci-Fi  ...  7.0  485820\n",
              "3                       Split           Horror,Thriller  ...  7.3  157606\n",
              "4                        Sing   Animation,Comedy,Family  ...  7.2   60545\n",
              "5               Suicide Squad  Action,Adventure,Fantasy  ...  6.2  393727\n",
              "\n",
              "[5 rows x 9 columns]"
            ]
          },
          "metadata": {
            "tags": []
          },
          "execution_count": 39
        }
      ]
    },
    {
      "cell_type": "code",
      "metadata": {
        "id": "ijCbswRMeM0l",
        "colab_type": "code",
        "colab": {
          "base_uri": "https://localhost:8080/",
          "height": 221
        },
        "outputId": "6d0f1c38-5d2f-4521-9627-c5a3bad67adc"
      },
      "source": [
        "df3 = df.fillna(0)\n",
        "df3.isna().sum()"
      ],
      "execution_count": 40,
      "outputs": [
        {
          "output_type": "execute_result",
          "data": {
            "text/plain": [
              "a    0\n",
              "b    0\n",
              "c    0\n",
              "d    0\n",
              "e    0\n",
              "f    0\n",
              "g    0\n",
              "h    0\n",
              "i    0\n",
              "j    0\n",
              "k    0\n",
              "dtype: int64"
            ]
          },
          "metadata": {
            "tags": []
          },
          "execution_count": 40
        }
      ]
    },
    {
      "cell_type": "markdown",
      "metadata": {
        "id": "gb-AQebSeryc",
        "colab_type": "text"
      },
      "source": [
        "# **Imputation**"
      ]
    },
    {
      "cell_type": "code",
      "metadata": {
        "id": "OsjRJh45fTed",
        "colab_type": "code",
        "colab": {
          "base_uri": "https://localhost:8080/",
          "height": 221
        },
        "outputId": "7c4bda68-8aa4-4529-ca64-a635b93de854"
      },
      "source": [
        "df.isnull().sum()"
      ],
      "execution_count": 41,
      "outputs": [
        {
          "output_type": "execute_result",
          "data": {
            "text/plain": [
              "a      0\n",
              "b      0\n",
              "c      0\n",
              "d      0\n",
              "e      0\n",
              "f      0\n",
              "g      0\n",
              "h      0\n",
              "i      0\n",
              "j    128\n",
              "k     64\n",
              "dtype: int64"
            ]
          },
          "metadata": {
            "tags": []
          },
          "execution_count": 41
        }
      ]
    },
    {
      "cell_type": "code",
      "metadata": {
        "id": "lhr2Siu0fmEm",
        "colab_type": "code",
        "colab": {
          "base_uri": "https://localhost:8080/",
          "height": 34
        },
        "outputId": "42def7cf-75e1-4214-f5da-abe18d71af92"
      },
      "source": [
        "revenue = df['j']\n",
        "\n",
        "type(revenue)"
      ],
      "execution_count": 42,
      "outputs": [
        {
          "output_type": "execute_result",
          "data": {
            "text/plain": [
              "pandas.core.series.Series"
            ]
          },
          "metadata": {
            "tags": []
          },
          "execution_count": 42
        }
      ]
    },
    {
      "cell_type": "code",
      "metadata": {
        "id": "L-aVNh3of8AS",
        "colab_type": "code",
        "colab": {
          "base_uri": "https://localhost:8080/",
          "height": 136
        },
        "outputId": "8a2dacc3-45af-42f0-a79b-c404c682df3b"
      },
      "source": [
        "revenue.tail()"
      ],
      "execution_count": 43,
      "outputs": [
        {
          "output_type": "execute_result",
          "data": {
            "text/plain": [
              "Rank\n",
              "996       NaN\n",
              "997     17.54\n",
              "998     58.01\n",
              "999       NaN\n",
              "1000    19.64\n",
              "Name: j, dtype: float64"
            ]
          },
          "metadata": {
            "tags": []
          },
          "execution_count": 43
        }
      ]
    },
    {
      "cell_type": "code",
      "metadata": {
        "id": "oluSCkPjgHR1",
        "colab_type": "code",
        "colab": {
          "base_uri": "https://localhost:8080/",
          "height": 34
        },
        "outputId": "8a10e449-17b3-4e95-f0f5-a84b0ccae3b8"
      },
      "source": [
        "revenue_mean = revenue.mean()\n",
        "\n",
        "revenue_mean"
      ],
      "execution_count": 44,
      "outputs": [
        {
          "output_type": "execute_result",
          "data": {
            "text/plain": [
              "82.95637614678897"
            ]
          },
          "metadata": {
            "tags": []
          },
          "execution_count": 44
        }
      ]
    },
    {
      "cell_type": "code",
      "metadata": {
        "id": "iFgI0JVngYb9",
        "colab_type": "code",
        "colab": {
          "base_uri": "https://localhost:8080/",
          "height": 136
        },
        "outputId": "6ae102f5-0d99-4fde-dc84-6dabc465e151"
      },
      "source": [
        "revenue.fillna(revenue_mean,inplace= True)\n",
        "\n",
        "revenue.tail()"
      ],
      "execution_count": 47,
      "outputs": [
        {
          "output_type": "execute_result",
          "data": {
            "text/plain": [
              "Rank\n",
              "996     82.956376\n",
              "997     17.540000\n",
              "998     58.010000\n",
              "999     82.956376\n",
              "1000    19.640000\n",
              "Name: j, dtype: float64"
            ]
          },
          "metadata": {
            "tags": []
          },
          "execution_count": 47
        }
      ]
    },
    {
      "cell_type": "code",
      "metadata": {
        "id": "FiCfSUCOgozt",
        "colab_type": "code",
        "colab": {
          "base_uri": "https://localhost:8080/",
          "height": 34
        },
        "outputId": "2e2b5b14-ce2b-4636-8b77-1fb2dba801c5"
      },
      "source": [
        "revenue.isnull().sum()"
      ],
      "execution_count": 48,
      "outputs": [
        {
          "output_type": "execute_result",
          "data": {
            "text/plain": [
              "0"
            ]
          },
          "metadata": {
            "tags": []
          },
          "execution_count": 48
        }
      ]
    },
    {
      "cell_type": "code",
      "metadata": {
        "id": "C4H8iYq2hJ-0",
        "colab_type": "code",
        "colab": {
          "base_uri": "https://localhost:8080/",
          "height": 221
        },
        "outputId": "09f7142c-98c5-486e-b1d7-567539c935c0"
      },
      "source": [
        "df['j'] = revenue\n",
        "\n",
        "df.isnull().sum()"
      ],
      "execution_count": 49,
      "outputs": [
        {
          "output_type": "execute_result",
          "data": {
            "text/plain": [
              "a     0\n",
              "b     0\n",
              "c     0\n",
              "d     0\n",
              "e     0\n",
              "f     0\n",
              "g     0\n",
              "h     0\n",
              "i     0\n",
              "j     0\n",
              "k    64\n",
              "dtype: int64"
            ]
          },
          "metadata": {
            "tags": []
          },
          "execution_count": 49
        }
      ]
    },
    {
      "cell_type": "code",
      "metadata": {
        "id": "DVX_2mrehnsJ",
        "colab_type": "code",
        "colab": {
          "base_uri": "https://localhost:8080/",
          "height": 221
        },
        "outputId": "19a072fc-b0b4-4439-a10f-dd9a863e3be1"
      },
      "source": [
        "metascore = df['k']\n",
        "metascore_mean = metascore.mean()\n",
        "metascore.fillna(metascore_mean,inplace= True)\n",
        "df['k'] = metascore\n",
        "df.isnull().sum()"
      ],
      "execution_count": 61,
      "outputs": [
        {
          "output_type": "execute_result",
          "data": {
            "text/plain": [
              "a    0\n",
              "b    0\n",
              "c    0\n",
              "d    0\n",
              "e    0\n",
              "f    0\n",
              "g    0\n",
              "h    0\n",
              "i    0\n",
              "j    0\n",
              "k    0\n",
              "dtype: int64"
            ]
          },
          "metadata": {
            "tags": []
          },
          "execution_count": 61
        }
      ]
    },
    {
      "cell_type": "code",
      "metadata": {
        "id": "V43hu_1MiO8F",
        "colab_type": "code",
        "colab": {
          "base_uri": "https://localhost:8080/",
          "height": 297
        },
        "outputId": "182fa992-1383-46f7-be74-f0cd50f49999"
      },
      "source": [
        "df.describe()"
      ],
      "execution_count": 62,
      "outputs": [
        {
          "output_type": "execute_result",
          "data": {
            "text/html": [
              "<div>\n",
              "<style scoped>\n",
              "    .dataframe tbody tr th:only-of-type {\n",
              "        vertical-align: middle;\n",
              "    }\n",
              "\n",
              "    .dataframe tbody tr th {\n",
              "        vertical-align: top;\n",
              "    }\n",
              "\n",
              "    .dataframe thead th {\n",
              "        text-align: right;\n",
              "    }\n",
              "</style>\n",
              "<table border=\"1\" class=\"dataframe\">\n",
              "  <thead>\n",
              "    <tr style=\"text-align: right;\">\n",
              "      <th></th>\n",
              "      <th>f</th>\n",
              "      <th>g</th>\n",
              "      <th>h</th>\n",
              "      <th>i</th>\n",
              "      <th>j</th>\n",
              "      <th>k</th>\n",
              "    </tr>\n",
              "  </thead>\n",
              "  <tbody>\n",
              "    <tr>\n",
              "      <th>count</th>\n",
              "      <td>1000.000000</td>\n",
              "      <td>1000.000000</td>\n",
              "      <td>1000.000000</td>\n",
              "      <td>1.000000e+03</td>\n",
              "      <td>1000.000000</td>\n",
              "      <td>1000.000000</td>\n",
              "    </tr>\n",
              "    <tr>\n",
              "      <th>mean</th>\n",
              "      <td>2012.783000</td>\n",
              "      <td>113.172000</td>\n",
              "      <td>6.723200</td>\n",
              "      <td>1.698083e+05</td>\n",
              "      <td>82.956376</td>\n",
              "      <td>58.985043</td>\n",
              "    </tr>\n",
              "    <tr>\n",
              "      <th>std</th>\n",
              "      <td>3.205962</td>\n",
              "      <td>18.810908</td>\n",
              "      <td>0.945429</td>\n",
              "      <td>1.887626e+05</td>\n",
              "      <td>96.412043</td>\n",
              "      <td>16.634858</td>\n",
              "    </tr>\n",
              "    <tr>\n",
              "      <th>min</th>\n",
              "      <td>2006.000000</td>\n",
              "      <td>66.000000</td>\n",
              "      <td>1.900000</td>\n",
              "      <td>6.100000e+01</td>\n",
              "      <td>0.000000</td>\n",
              "      <td>11.000000</td>\n",
              "    </tr>\n",
              "    <tr>\n",
              "      <th>25%</th>\n",
              "      <td>2010.000000</td>\n",
              "      <td>100.000000</td>\n",
              "      <td>6.200000</td>\n",
              "      <td>3.630900e+04</td>\n",
              "      <td>17.442500</td>\n",
              "      <td>47.750000</td>\n",
              "    </tr>\n",
              "    <tr>\n",
              "      <th>50%</th>\n",
              "      <td>2014.000000</td>\n",
              "      <td>111.000000</td>\n",
              "      <td>6.800000</td>\n",
              "      <td>1.107990e+05</td>\n",
              "      <td>60.375000</td>\n",
              "      <td>58.985043</td>\n",
              "    </tr>\n",
              "    <tr>\n",
              "      <th>75%</th>\n",
              "      <td>2016.000000</td>\n",
              "      <td>123.000000</td>\n",
              "      <td>7.400000</td>\n",
              "      <td>2.399098e+05</td>\n",
              "      <td>99.177500</td>\n",
              "      <td>71.000000</td>\n",
              "    </tr>\n",
              "    <tr>\n",
              "      <th>max</th>\n",
              "      <td>2016.000000</td>\n",
              "      <td>191.000000</td>\n",
              "      <td>9.000000</td>\n",
              "      <td>1.791916e+06</td>\n",
              "      <td>936.630000</td>\n",
              "      <td>100.000000</td>\n",
              "    </tr>\n",
              "  </tbody>\n",
              "</table>\n",
              "</div>"
            ],
            "text/plain": [
              "                 f            g  ...            j            k\n",
              "count  1000.000000  1000.000000  ...  1000.000000  1000.000000\n",
              "mean   2012.783000   113.172000  ...    82.956376    58.985043\n",
              "std       3.205962    18.810908  ...    96.412043    16.634858\n",
              "min    2006.000000    66.000000  ...     0.000000    11.000000\n",
              "25%    2010.000000   100.000000  ...    17.442500    47.750000\n",
              "50%    2014.000000   111.000000  ...    60.375000    58.985043\n",
              "75%    2016.000000   123.000000  ...    99.177500    71.000000\n",
              "max    2016.000000   191.000000  ...   936.630000   100.000000\n",
              "\n",
              "[8 rows x 6 columns]"
            ]
          },
          "metadata": {
            "tags": []
          },
          "execution_count": 62
        }
      ]
    },
    {
      "cell_type": "code",
      "metadata": {
        "id": "GgPBS-gBq6SQ",
        "colab_type": "code",
        "colab": {
          "base_uri": "https://localhost:8080/",
          "height": 323
        },
        "outputId": "6be824e0-4cf0-43ca-f825-d3afbfbace8e"
      },
      "source": [
        "df.info()"
      ],
      "execution_count": 63,
      "outputs": [
        {
          "output_type": "stream",
          "text": [
            "<class 'pandas.core.frame.DataFrame'>\n",
            "Int64Index: 1000 entries, 1 to 1000\n",
            "Data columns (total 11 columns):\n",
            " #   Column  Non-Null Count  Dtype  \n",
            "---  ------  --------------  -----  \n",
            " 0   a       1000 non-null   object \n",
            " 1   b       1000 non-null   object \n",
            " 2   c       1000 non-null   object \n",
            " 3   d       1000 non-null   object \n",
            " 4   e       1000 non-null   object \n",
            " 5   f       1000 non-null   int64  \n",
            " 6   g       1000 non-null   int64  \n",
            " 7   h       1000 non-null   float64\n",
            " 8   i       1000 non-null   int64  \n",
            " 9   j       1000 non-null   float64\n",
            " 10  k       1000 non-null   float64\n",
            "dtypes: float64(3), int64(3), object(5)\n",
            "memory usage: 93.8+ KB\n"
          ],
          "name": "stdout"
        }
      ]
    },
    {
      "cell_type": "code",
      "metadata": {
        "id": "ssz7sqIMrE7t",
        "colab_type": "code",
        "colab": {
          "base_uri": "https://localhost:8080/",
          "height": 102
        },
        "outputId": "614256ea-4847-4638-95b6-b40c77975342"
      },
      "source": [
        "df['b'].describe()"
      ],
      "execution_count": 65,
      "outputs": [
        {
          "output_type": "execute_result",
          "data": {
            "text/plain": [
              "count                        1000\n",
              "unique                        207\n",
              "top       Action,Adventure,Sci-Fi\n",
              "freq                           50\n",
              "Name: b, dtype: object"
            ]
          },
          "metadata": {
            "tags": []
          },
          "execution_count": 65
        }
      ]
    },
    {
      "cell_type": "code",
      "metadata": {
        "id": "p70-d3Aarqb1",
        "colab_type": "code",
        "colab": {
          "base_uri": "https://localhost:8080/",
          "height": 204
        },
        "outputId": "d0c07036-a822-4b03-bed8-0bf0b35545e6"
      },
      "source": [
        "df['b'].value_counts().head(10)"
      ],
      "execution_count": 68,
      "outputs": [
        {
          "output_type": "execute_result",
          "data": {
            "text/plain": [
              "Action,Adventure,Sci-Fi       50\n",
              "Drama                         48\n",
              "Comedy,Drama,Romance          35\n",
              "Comedy                        32\n",
              "Drama,Romance                 31\n",
              "Animation,Adventure,Comedy    27\n",
              "Action,Adventure,Fantasy      27\n",
              "Comedy,Drama                  27\n",
              "Comedy,Romance                26\n",
              "Crime,Drama,Thriller          24\n",
              "Name: b, dtype: int64"
            ]
          },
          "metadata": {
            "tags": []
          },
          "execution_count": 68
        }
      ]
    },
    {
      "cell_type": "code",
      "metadata": {
        "id": "86sl2IXDsCcO",
        "colab_type": "code",
        "colab": {
          "base_uri": "https://localhost:8080/",
          "height": 34
        },
        "outputId": "636e74ba-404b-49c6-8286-bfda765a5058"
      },
      "source": [
        "len(df['b'].unique())"
      ],
      "execution_count": 70,
      "outputs": [
        {
          "output_type": "execute_result",
          "data": {
            "text/plain": [
              "207"
            ]
          },
          "metadata": {
            "tags": []
          },
          "execution_count": 70
        }
      ]
    },
    {
      "cell_type": "markdown",
      "metadata": {
        "id": "QVg_TYldsc3r",
        "colab_type": "text"
      },
      "source": [
        "# **Corr method**"
      ]
    },
    {
      "cell_type": "code",
      "metadata": {
        "id": "qEhhOZGGstIE",
        "colab_type": "code",
        "colab": {
          "base_uri": "https://localhost:8080/",
          "height": 235
        },
        "outputId": "f8ef9fad-97f7-47b6-e484-8b862947091f"
      },
      "source": [
        "corrmat = df.corr()\n",
        "\n",
        "corrmat"
      ],
      "execution_count": 71,
      "outputs": [
        {
          "output_type": "execute_result",
          "data": {
            "text/html": [
              "<div>\n",
              "<style scoped>\n",
              "    .dataframe tbody tr th:only-of-type {\n",
              "        vertical-align: middle;\n",
              "    }\n",
              "\n",
              "    .dataframe tbody tr th {\n",
              "        vertical-align: top;\n",
              "    }\n",
              "\n",
              "    .dataframe thead th {\n",
              "        text-align: right;\n",
              "    }\n",
              "</style>\n",
              "<table border=\"1\" class=\"dataframe\">\n",
              "  <thead>\n",
              "    <tr style=\"text-align: right;\">\n",
              "      <th></th>\n",
              "      <th>f</th>\n",
              "      <th>g</th>\n",
              "      <th>h</th>\n",
              "      <th>i</th>\n",
              "      <th>j</th>\n",
              "      <th>k</th>\n",
              "    </tr>\n",
              "  </thead>\n",
              "  <tbody>\n",
              "    <tr>\n",
              "      <th>f</th>\n",
              "      <td>1.000000</td>\n",
              "      <td>-0.164900</td>\n",
              "      <td>-0.211219</td>\n",
              "      <td>-0.411904</td>\n",
              "      <td>-0.117562</td>\n",
              "      <td>-0.076077</td>\n",
              "    </tr>\n",
              "    <tr>\n",
              "      <th>g</th>\n",
              "      <td>-0.164900</td>\n",
              "      <td>1.000000</td>\n",
              "      <td>0.392214</td>\n",
              "      <td>0.407062</td>\n",
              "      <td>0.247834</td>\n",
              "      <td>0.202239</td>\n",
              "    </tr>\n",
              "    <tr>\n",
              "      <th>h</th>\n",
              "      <td>-0.211219</td>\n",
              "      <td>0.392214</td>\n",
              "      <td>1.000000</td>\n",
              "      <td>0.511537</td>\n",
              "      <td>0.189527</td>\n",
              "      <td>0.604723</td>\n",
              "    </tr>\n",
              "    <tr>\n",
              "      <th>i</th>\n",
              "      <td>-0.411904</td>\n",
              "      <td>0.407062</td>\n",
              "      <td>0.511537</td>\n",
              "      <td>1.000000</td>\n",
              "      <td>0.607941</td>\n",
              "      <td>0.318116</td>\n",
              "    </tr>\n",
              "    <tr>\n",
              "      <th>j</th>\n",
              "      <td>-0.117562</td>\n",
              "      <td>0.247834</td>\n",
              "      <td>0.189527</td>\n",
              "      <td>0.607941</td>\n",
              "      <td>1.000000</td>\n",
              "      <td>0.132304</td>\n",
              "    </tr>\n",
              "    <tr>\n",
              "      <th>k</th>\n",
              "      <td>-0.076077</td>\n",
              "      <td>0.202239</td>\n",
              "      <td>0.604723</td>\n",
              "      <td>0.318116</td>\n",
              "      <td>0.132304</td>\n",
              "      <td>1.000000</td>\n",
              "    </tr>\n",
              "  </tbody>\n",
              "</table>\n",
              "</div>"
            ],
            "text/plain": [
              "          f         g         h         i         j         k\n",
              "f  1.000000 -0.164900 -0.211219 -0.411904 -0.117562 -0.076077\n",
              "g -0.164900  1.000000  0.392214  0.407062  0.247834  0.202239\n",
              "h -0.211219  0.392214  1.000000  0.511537  0.189527  0.604723\n",
              "i -0.411904  0.407062  0.511537  1.000000  0.607941  0.318116\n",
              "j -0.117562  0.247834  0.189527  0.607941  1.000000  0.132304\n",
              "k -0.076077  0.202239  0.604723  0.318116  0.132304  1.000000"
            ]
          },
          "metadata": {
            "tags": []
          },
          "execution_count": 71
        }
      ]
    },
    {
      "cell_type": "code",
      "metadata": {
        "id": "wgqFWUrUtE09",
        "colab_type": "code",
        "colab": {
          "base_uri": "https://localhost:8080/",
          "height": 286
        },
        "outputId": "3d05dea0-f5b8-4ae3-b8d6-eb3a25859473"
      },
      "source": [
        "sns.heatmap(corrmat)"
      ],
      "execution_count": 73,
      "outputs": [
        {
          "output_type": "execute_result",
          "data": {
            "text/plain": [
              "<matplotlib.axes._subplots.AxesSubplot at 0x7f3888f37d30>"
            ]
          },
          "metadata": {
            "tags": []
          },
          "execution_count": 73
        },
        {
          "output_type": "display_data",
          "data": {
            "image/png": "[encoded data removed]",
            "text/plain": [
              "<Figure size 432x288 with 2 Axes>"
            ]
          },
          "metadata": {
            "tags": [],
            "needs_background": "light"
          }
        }
      ]
    },
    {
      "cell_type": "code",
      "metadata": {
        "id": "qXTz63uut0Q9",
        "colab_type": "code",
        "colab": {
          "base_uri": "https://localhost:8080/",
          "height": 312
        },
        "outputId": "531b85b2-3632-4e41-8ce9-a7c47da43b65"
      },
      "source": [
        "df.plot(kind= 'scatter',x= 'h',y= 'j',title= 'Revenue vs Rating')"
      ],
      "execution_count": 76,
      "outputs": [
        {
          "output_type": "execute_result",
          "data": {
            "text/plain": [
              "<matplotlib.axes._subplots.AxesSubplot at 0x7f3883637940>"
            ]
          },
          "metadata": {
            "tags": []
          },
          "execution_count": 76
        },
        {
          "output_type": "display_data",
          "data": {
            "image/png": "[encoded data removed]",
            "text/plain": [
              "<Figure size 432x288 with 1 Axes>"
            ]
          },
          "metadata": {
            "tags": [],
            "needs_background": "light"
          }
        }
      ]
    },
    {
      "cell_type": "code",
      "metadata": {
        "id": "CtNPyjWku3EF",
        "colab_type": "code",
        "colab": {
          "base_uri": "https://localhost:8080/",
          "height": 298
        },
        "outputId": "5f64b19d-4fc1-48fb-d4cc-49804df80d37"
      },
      "source": [
        "df['h'].plot(kind= 'hist',title= 'Rating')"
      ],
      "execution_count": 77,
      "outputs": [
        {
          "output_type": "execute_result",
          "data": {
            "text/plain": [
              "<matplotlib.axes._subplots.AxesSubplot at 0x7f38836b9ba8>"
            ]
          },
          "metadata": {
            "tags": []
          },
          "execution_count": 77
        },
        {
          "output_type": "display_data",
          "data": {
            "image/png": "[encoded data removed]",
            "text/plain": [
              "<Figure size 432x288 with 1 Axes>"
            ]
          },
          "metadata": {
            "tags": [],
            "needs_background": "light"
          }
        }
      ]
    },
    {
      "cell_type": "code",
      "metadata": {
        "id": "AbzmJZ1uw1V4",
        "colab_type": "code",
        "colab": {
          "base_uri": "https://localhost:8080/",
          "height": 298
        },
        "outputId": "c3aa65cf-3543-4d9a-f12f-d645f5438b36"
      },
      "source": [
        "df['h'].plot(kind= 'kde',title= 'Rating')"
      ],
      "execution_count": 80,
      "outputs": [
        {
          "output_type": "execute_result",
          "data": {
            "text/plain": [
              "<matplotlib.axes._subplots.AxesSubplot at 0x7f3883520da0>"
            ]
          },
          "metadata": {
            "tags": []
          },
          "execution_count": 80
        },
        {
          "output_type": "display_data",
          "data": {
            "image/png": "[encoded data removed]",
            "text/plain": [
              "<Figure size 432x288 with 1 Axes>"
            ]
          },
          "metadata": {
            "tags": [],
            "needs_background": "light"
          }
        }
      ]
    },
    {
      "cell_type": "code",
      "metadata": {
        "id": "FkvxLFrwvdqh",
        "colab_type": "code",
        "colab": {
          "base_uri": "https://localhost:8080/",
          "height": 969
        },
        "outputId": "523716f5-8d40-4680-9347-dc29db8986bb"
      },
      "source": [
        "df['h'].value_counts()"
      ],
      "execution_count": 78,
      "outputs": [
        {
          "output_type": "execute_result",
          "data": {
            "text/plain": [
              "7.1    52\n",
              "6.7    48\n",
              "7.0    46\n",
              "6.3    44\n",
              "6.6    42\n",
              "7.2    42\n",
              "7.3    42\n",
              "6.5    40\n",
              "7.8    40\n",
              "6.2    37\n",
              "6.8    37\n",
              "7.5    35\n",
              "6.4    35\n",
              "7.4    33\n",
              "6.9    31\n",
              "6.1    31\n",
              "7.6    27\n",
              "7.7    27\n",
              "5.8    26\n",
              "6.0    26\n",
              "8.1    26\n",
              "7.9    23\n",
              "5.7    21\n",
              "8.0    19\n",
              "5.9    19\n",
              "5.6    17\n",
              "5.5    14\n",
              "5.3    12\n",
              "5.4    12\n",
              "5.2    11\n",
              "8.2    10\n",
              "4.9     7\n",
              "8.3     7\n",
              "4.7     6\n",
              "8.5     6\n",
              "4.6     5\n",
              "5.1     5\n",
              "5.0     4\n",
              "4.8     4\n",
              "4.3     4\n",
              "8.4     4\n",
              "3.9     3\n",
              "8.6     3\n",
              "8.8     2\n",
              "2.7     2\n",
              "4.2     2\n",
              "3.5     2\n",
              "3.7     2\n",
              "9.0     1\n",
              "3.2     1\n",
              "4.0     1\n",
              "4.5     1\n",
              "4.4     1\n",
              "4.1     1\n",
              "1.9     1\n",
              "Name: h, dtype: int64"
            ]
          },
          "metadata": {
            "tags": []
          },
          "execution_count": 78
        }
      ]
    },
    {
      "cell_type": "code",
      "metadata": {
        "id": "m5dOOl_dv0PC",
        "colab_type": "code",
        "colab": {
          "base_uri": "https://localhost:8080/",
          "height": 282
        },
        "outputId": "ee6bd20e-d110-401c-8679-70b5c96cb9a9"
      },
      "source": [
        "df['h'].plot(kind= 'box')"
      ],
      "execution_count": 79,
      "outputs": [
        {
          "output_type": "execute_result",
          "data": {
            "text/plain": [
              "<matplotlib.axes._subplots.AxesSubplot at 0x7f388359de48>"
            ]
          },
          "metadata": {
            "tags": []
          },
          "execution_count": 79
        },
        {
          "output_type": "display_data",
          "data": {
            "image/png": "[encoded data removed]",
            "text/plain": [
              "<Figure size 432x288 with 1 Axes>"
            ]
          },
          "metadata": {
            "tags": [],
            "needs_background": "light"
          }
        }
      ]
    },
    {
      "cell_type": "code",
      "metadata": {
        "id": "9mznX2sDwoBm",
        "colab_type": "code",
        "colab": {
          "base_uri": "https://localhost:8080/",
          "height": 170
        },
        "outputId": "f3a445a8-3b1f-4b5c-cd57-e31ff5ef8666"
      },
      "source": [
        "df['h'].describe()"
      ],
      "execution_count": 81,
      "outputs": [
        {
          "output_type": "execute_result",
          "data": {
            "text/plain": [
              "count    1000.000000\n",
              "mean        6.723200\n",
              "std         0.945429\n",
              "min         1.900000\n",
              "25%         6.200000\n",
              "50%         6.800000\n",
              "75%         7.400000\n",
              "max         9.000000\n",
              "Name: h, dtype: float64"
            ]
          },
          "metadata": {
            "tags": []
          },
          "execution_count": 81
        }
      ]
    },
    {
      "cell_type": "code",
      "metadata": {
        "id": "_e9oMV2bxvxS",
        "colab_type": "code",
        "colab": {}
      },
      "source": [
        "rating_cat = []\n",
        "for rete in df['h']:\n",
        "    if rete >6.2:\n",
        "        rating_cat.append('Good')\n",
        "    else:\n",
        "        rating_cat.append('Bad')\n",
        "        "
      ],
      "execution_count": 82,
      "outputs": []
    },
    {
      "cell_type": "code",
      "metadata": {
        "id": "qTl357KYyf0o",
        "colab_type": "code",
        "colab": {
          "base_uri": "https://localhost:8080/",
          "height": 1000
        },
        "outputId": "9b7d4e2e-5d09-46a2-87ac-4c2ae9426f87"
      },
      "source": [
        "rating_cat"
      ],
      "execution_count": 83,
      "outputs": [
        {
          "output_type": "execute_result",
          "data": {
            "text/plain": [
              "['Good',\n",
              " 'Good',\n",
              " 'Good',\n",
              " 'Good',\n",
              " 'Bad',\n",
              " 'Bad',\n",
              " 'Good',\n",
              " 'Good',\n",
              " 'Good',\n",
              " 'Good',\n",
              " 'Good',\n",
              " 'Good',\n",
              " 'Good',\n",
              " 'Good',\n",
              " 'Good',\n",
              " 'Good',\n",
              " 'Good',\n",
              " 'Good',\n",
              " 'Good',\n",
              " 'Good',\n",
              " 'Good',\n",
              " 'Good',\n",
              " 'Good',\n",
              " 'Good',\n",
              " 'Bad',\n",
              " 'Good',\n",
              " 'Good',\n",
              " 'Bad',\n",
              " 'Bad',\n",
              " 'Bad',\n",
              " 'Good',\n",
              " 'Good',\n",
              " 'Good',\n",
              " 'Good',\n",
              " 'Bad',\n",
              " 'Good',\n",
              " 'Good',\n",
              " 'Good',\n",
              " 'Good',\n",
              " 'Good',\n",
              " 'Good',\n",
              " 'Good',\n",
              " 'Bad',\n",
              " 'Good',\n",
              " 'Good',\n",
              " 'Good',\n",
              " 'Good',\n",
              " 'Bad',\n",
              " 'Good',\n",
              " 'Bad',\n",
              " 'Good',\n",
              " 'Bad',\n",
              " 'Bad',\n",
              " 'Good',\n",
              " 'Good',\n",
              " 'Good',\n",
              " 'Good',\n",
              " 'Good',\n",
              " 'Good',\n",
              " 'Good',\n",
              " 'Good',\n",
              " 'Good',\n",
              " 'Good',\n",
              " 'Bad',\n",
              " 'Good',\n",
              " 'Good',\n",
              " 'Good',\n",
              " 'Good',\n",
              " 'Good',\n",
              " 'Good',\n",
              " 'Bad',\n",
              " 'Good',\n",
              " 'Good',\n",
              " 'Good',\n",
              " 'Good',\n",
              " 'Good',\n",
              " 'Good',\n",
              " 'Good',\n",
              " 'Good',\n",
              " 'Bad',\n",
              " 'Good',\n",
              " 'Good',\n",
              " 'Good',\n",
              " 'Good',\n",
              " 'Good',\n",
              " 'Good',\n",
              " 'Good',\n",
              " 'Good',\n",
              " 'Good',\n",
              " 'Good',\n",
              " 'Good',\n",
              " 'Good',\n",
              " 'Good',\n",
              " 'Good',\n",
              " 'Good',\n",
              " 'Good',\n",
              " 'Good',\n",
              " 'Bad',\n",
              " 'Good',\n",
              " 'Good',\n",
              " 'Good',\n",
              " 'Good',\n",
              " 'Good',\n",
              " 'Good',\n",
              " 'Good',\n",
              " 'Good',\n",
              " 'Bad',\n",
              " 'Good',\n",
              " 'Bad',\n",
              " 'Good',\n",
              " 'Good',\n",
              " 'Good',\n",
              " 'Bad',\n",
              " 'Good',\n",
              " 'Good',\n",
              " 'Bad',\n",
              " 'Bad',\n",
              " 'Good',\n",
              " 'Good',\n",
              " 'Good',\n",
              " 'Good',\n",
              " 'Good',\n",
              " 'Bad',\n",
              " 'Good',\n",
              " 'Good',\n",
              " 'Good',\n",
              " 'Bad',\n",
              " 'Good',\n",
              " 'Good',\n",
              " 'Good',\n",
              " 'Good',\n",
              " 'Bad',\n",
              " 'Good',\n",
              " 'Good',\n",
              " 'Good',\n",
              " 'Good',\n",
              " 'Good',\n",
              " 'Good',\n",
              " 'Good',\n",
              " 'Good',\n",
              " 'Good',\n",
              " 'Bad',\n",
              " 'Good',\n",
              " 'Good',\n",
              " 'Good',\n",
              " 'Good',\n",
              " 'Good',\n",
              " 'Good',\n",
              " 'Good',\n",
              " 'Bad',\n",
              " 'Good',\n",
              " 'Good',\n",
              " 'Bad',\n",
              " 'Good',\n",
              " 'Good',\n",
              " 'Bad',\n",
              " 'Good',\n",
              " 'Good',\n",
              " 'Good',\n",
              " 'Good',\n",
              " 'Bad',\n",
              " 'Good',\n",
              " 'Good',\n",
              " 'Bad',\n",
              " 'Good',\n",
              " 'Bad',\n",
              " 'Good',\n",
              " 'Good',\n",
              " 'Good',\n",
              " 'Good',\n",
              " 'Good',\n",
              " 'Good',\n",
              " 'Bad',\n",
              " 'Good',\n",
              " 'Good',\n",
              " 'Good',\n",
              " 'Good',\n",
              " 'Good',\n",
              " 'Good',\n",
              " 'Good',\n",
              " 'Good',\n",
              " 'Good',\n",
              " 'Good',\n",
              " 'Bad',\n",
              " 'Good',\n",
              " 'Bad',\n",
              " 'Good',\n",
              " 'Good',\n",
              " 'Good',\n",
              " 'Good',\n",
              " 'Good',\n",
              " 'Bad',\n",
              " 'Good',\n",
              " 'Bad',\n",
              " 'Good',\n",
              " 'Good',\n",
              " 'Good',\n",
              " 'Good',\n",
              " 'Good',\n",
              " 'Good',\n",
              " 'Good',\n",
              " 'Good',\n",
              " 'Good',\n",
              " 'Good',\n",
              " 'Bad',\n",
              " 'Good',\n",
              " 'Good',\n",
              " 'Good',\n",
              " 'Good',\n",
              " 'Good',\n",
              " 'Bad',\n",
              " 'Bad',\n",
              " 'Good',\n",
              " 'Bad',\n",
              " 'Good',\n",
              " 'Bad',\n",
              " 'Good',\n",
              " 'Bad',\n",
              " 'Bad',\n",
              " 'Good',\n",
              " 'Good',\n",
              " 'Good',\n",
              " 'Good',\n",
              " 'Good',\n",
              " 'Good',\n",
              " 'Good',\n",
              " 'Good',\n",
              " 'Good',\n",
              " 'Good',\n",
              " 'Bad',\n",
              " 'Good',\n",
              " 'Bad',\n",
              " 'Good',\n",
              " 'Good',\n",
              " 'Bad',\n",
              " 'Good',\n",
              " 'Good',\n",
              " 'Bad',\n",
              " 'Good',\n",
              " 'Bad',\n",
              " 'Good',\n",
              " 'Good',\n",
              " 'Bad',\n",
              " 'Good',\n",
              " 'Bad',\n",
              " 'Good',\n",
              " 'Good',\n",
              " 'Good',\n",
              " 'Good',\n",
              " 'Good',\n",
              " 'Bad',\n",
              " 'Good',\n",
              " 'Good',\n",
              " 'Good',\n",
              " 'Good',\n",
              " 'Good',\n",
              " 'Bad',\n",
              " 'Good',\n",
              " 'Good',\n",
              " 'Good',\n",
              " 'Good',\n",
              " 'Good',\n",
              " 'Bad',\n",
              " 'Good',\n",
              " 'Bad',\n",
              " 'Bad',\n",
              " 'Bad',\n",
              " 'Good',\n",
              " 'Good',\n",
              " 'Bad',\n",
              " 'Good',\n",
              " 'Good',\n",
              " 'Good',\n",
              " 'Good',\n",
              " 'Good',\n",
              " 'Good',\n",
              " 'Good',\n",
              " 'Good',\n",
              " 'Good',\n",
              " 'Good',\n",
              " 'Good',\n",
              " 'Good',\n",
              " 'Good',\n",
              " 'Good',\n",
              " 'Bad',\n",
              " 'Bad',\n",
              " 'Bad',\n",
              " 'Bad',\n",
              " 'Bad',\n",
              " 'Bad',\n",
              " 'Good',\n",
              " 'Good',\n",
              " 'Bad',\n",
              " 'Good',\n",
              " 'Good',\n",
              " 'Good',\n",
              " 'Bad',\n",
              " 'Good',\n",
              " 'Good',\n",
              " 'Good',\n",
              " 'Good',\n",
              " 'Good',\n",
              " 'Good',\n",
              " 'Bad',\n",
              " 'Good',\n",
              " 'Good',\n",
              " 'Bad',\n",
              " 'Bad',\n",
              " 'Bad',\n",
              " 'Bad',\n",
              " 'Good',\n",
              " 'Good',\n",
              " 'Good',\n",
              " 'Good',\n",
              " 'Good',\n",
              " 'Good',\n",
              " 'Bad',\n",
              " 'Bad',\n",
              " 'Bad',\n",
              " 'Good',\n",
              " 'Good',\n",
              " 'Good',\n",
              " 'Good',\n",
              " 'Good',\n",
              " 'Good',\n",
              " 'Bad',\n",
              " 'Bad',\n",
              " 'Good',\n",
              " 'Good',\n",
              " 'Bad',\n",
              " 'Good',\n",
              " 'Good',\n",
              " 'Good',\n",
              " 'Good',\n",
              " 'Good',\n",
              " 'Bad',\n",
              " 'Good',\n",
              " 'Bad',\n",
              " 'Good',\n",
              " 'Good',\n",
              " 'Good',\n",
              " 'Good',\n",
              " 'Good',\n",
              " 'Good',\n",
              " 'Bad',\n",
              " 'Bad',\n",
              " 'Good',\n",
              " 'Good',\n",
              " 'Bad',\n",
              " 'Good',\n",
              " 'Good',\n",
              " 'Good',\n",
              " 'Good',\n",
              " 'Good',\n",
              " 'Good',\n",
              " 'Bad',\n",
              " 'Good',\n",
              " 'Good',\n",
              " 'Good',\n",
              " 'Good',\n",
              " 'Good',\n",
              " 'Bad',\n",
              " 'Good',\n",
              " 'Good',\n",
              " 'Good',\n",
              " 'Good',\n",
              " 'Bad',\n",
              " 'Good',\n",
              " 'Good',\n",
              " 'Bad',\n",
              " 'Bad',\n",
              " 'Good',\n",
              " 'Good',\n",
              " 'Good',\n",
              " 'Good',\n",
              " 'Bad',\n",
              " 'Good',\n",
              " 'Good',\n",
              " 'Good',\n",
              " 'Bad',\n",
              " 'Good',\n",
              " 'Good',\n",
              " 'Good',\n",
              " 'Good',\n",
              " 'Good',\n",
              " 'Good',\n",
              " 'Bad',\n",
              " 'Good',\n",
              " 'Good',\n",
              " 'Good',\n",
              " 'Good',\n",
              " 'Bad',\n",
              " 'Good',\n",
              " 'Bad',\n",
              " 'Bad',\n",
              " 'Good',\n",
              " 'Good',\n",
              " 'Bad',\n",
              " 'Bad',\n",
              " 'Bad',\n",
              " 'Good',\n",
              " 'Bad',\n",
              " 'Good',\n",
              " 'Good',\n",
              " 'Good',\n",
              " 'Good',\n",
              " 'Good',\n",
              " 'Good',\n",
              " 'Good',\n",
              " 'Bad',\n",
              " 'Good',\n",
              " 'Good',\n",
              " 'Good',\n",
              " 'Good',\n",
              " 'Bad',\n",
              " 'Bad',\n",
              " 'Good',\n",
              " 'Good',\n",
              " 'Good',\n",
              " 'Good',\n",
              " 'Good',\n",
              " 'Bad',\n",
              " 'Bad',\n",
              " 'Bad',\n",
              " 'Bad',\n",
              " 'Good',\n",
              " 'Good',\n",
              " 'Good',\n",
              " 'Bad',\n",
              " 'Bad',\n",
              " 'Good',\n",
              " 'Bad',\n",
              " 'Good',\n",
              " 'Good',\n",
              " 'Good',\n",
              " 'Good',\n",
              " 'Good',\n",
              " 'Good',\n",
              " 'Good',\n",
              " 'Bad',\n",
              " 'Good',\n",
              " 'Good',\n",
              " 'Good',\n",
              " 'Good',\n",
              " 'Bad',\n",
              " 'Good',\n",
              " 'Good',\n",
              " 'Good',\n",
              " 'Good',\n",
              " 'Bad',\n",
              " 'Good',\n",
              " 'Good',\n",
              " 'Good',\n",
              " 'Good',\n",
              " 'Bad',\n",
              " 'Good',\n",
              " 'Good',\n",
              " 'Bad',\n",
              " 'Good',\n",
              " 'Good',\n",
              " 'Good',\n",
              " 'Bad',\n",
              " 'Good',\n",
              " 'Good',\n",
              " 'Good',\n",
              " 'Good',\n",
              " 'Good',\n",
              " 'Good',\n",
              " 'Good',\n",
              " 'Good',\n",
              " 'Good',\n",
              " 'Good',\n",
              " 'Bad',\n",
              " 'Good',\n",
              " 'Good',\n",
              " 'Good',\n",
              " 'Good',\n",
              " 'Bad',\n",
              " 'Good',\n",
              " 'Good',\n",
              " 'Good',\n",
              " 'Good',\n",
              " 'Good',\n",
              " 'Good',\n",
              " 'Good',\n",
              " 'Good',\n",
              " 'Good',\n",
              " 'Good',\n",
              " 'Good',\n",
              " 'Good',\n",
              " 'Good',\n",
              " 'Good',\n",
              " 'Good',\n",
              " 'Bad',\n",
              " 'Good',\n",
              " 'Good',\n",
              " 'Good',\n",
              " 'Good',\n",
              " 'Good',\n",
              " 'Good',\n",
              " 'Good',\n",
              " 'Good',\n",
              " 'Good',\n",
              " 'Good',\n",
              " 'Good',\n",
              " 'Bad',\n",
              " 'Good',\n",
              " 'Good',\n",
              " 'Bad',\n",
              " 'Good',\n",
              " 'Good',\n",
              " 'Good',\n",
              " 'Bad',\n",
              " 'Good',\n",
              " 'Bad',\n",
              " 'Good',\n",
              " 'Bad',\n",
              " 'Good',\n",
              " 'Good',\n",
              " 'Bad',\n",
              " 'Good',\n",
              " 'Bad',\n",
              " 'Bad',\n",
              " 'Good',\n",
              " 'Good',\n",
              " 'Bad',\n",
              " 'Good',\n",
              " 'Bad',\n",
              " 'Good',\n",
              " 'Good',\n",
              " 'Good',\n",
              " 'Bad',\n",
              " 'Good',\n",
              " 'Good',\n",
              " 'Good',\n",
              " 'Good',\n",
              " 'Good',\n",
              " 'Bad',\n",
              " 'Good',\n",
              " 'Bad',\n",
              " 'Good',\n",
              " 'Good',\n",
              " 'Good',\n",
              " 'Good',\n",
              " 'Bad',\n",
              " 'Good',\n",
              " 'Good',\n",
              " 'Good',\n",
              " 'Good',\n",
              " 'Good',\n",
              " 'Bad',\n",
              " 'Good',\n",
              " 'Bad',\n",
              " 'Good',\n",
              " 'Good',\n",
              " 'Bad',\n",
              " 'Good',\n",
              " 'Good',\n",
              " 'Good',\n",
              " 'Good',\n",
              " 'Good',\n",
              " 'Good',\n",
              " 'Good',\n",
              " 'Good',\n",
              " 'Bad',\n",
              " 'Bad',\n",
              " 'Good',\n",
              " 'Good',\n",
              " 'Bad',\n",
              " 'Good',\n",
              " 'Bad',\n",
              " 'Good',\n",
              " 'Good',\n",
              " 'Good',\n",
              " 'Good',\n",
              " 'Bad',\n",
              " 'Good',\n",
              " 'Good',\n",
              " 'Good',\n",
              " 'Good',\n",
              " 'Bad',\n",
              " 'Bad',\n",
              " 'Bad',\n",
              " 'Bad',\n",
              " 'Good',\n",
              " 'Bad',\n",
              " 'Good',\n",
              " 'Bad',\n",
              " 'Good',\n",
              " 'Good',\n",
              " 'Good',\n",
              " 'Bad',\n",
              " 'Good',\n",
              " 'Good',\n",
              " 'Bad',\n",
              " 'Good',\n",
              " 'Good',\n",
              " 'Bad',\n",
              " 'Good',\n",
              " 'Good',\n",
              " 'Good',\n",
              " 'Good',\n",
              " 'Good',\n",
              " 'Good',\n",
              " 'Bad',\n",
              " 'Good',\n",
              " 'Good',\n",
              " 'Good',\n",
              " 'Good',\n",
              " 'Good',\n",
              " 'Bad',\n",
              " 'Good',\n",
              " 'Good',\n",
              " 'Good',\n",
              " 'Good',\n",
              " 'Good',\n",
              " 'Bad',\n",
              " 'Good',\n",
              " 'Good',\n",
              " 'Good',\n",
              " 'Good',\n",
              " 'Good',\n",
              " 'Good',\n",
              " 'Bad',\n",
              " 'Bad',\n",
              " 'Good',\n",
              " 'Good',\n",
              " 'Bad',\n",
              " 'Bad',\n",
              " 'Bad',\n",
              " 'Good',\n",
              " 'Good',\n",
              " 'Good',\n",
              " 'Bad',\n",
              " 'Good',\n",
              " 'Good',\n",
              " 'Good',\n",
              " 'Good',\n",
              " 'Bad',\n",
              " 'Good',\n",
              " 'Good',\n",
              " 'Good',\n",
              " 'Bad',\n",
              " 'Good',\n",
              " 'Bad',\n",
              " 'Good',\n",
              " 'Good',\n",
              " 'Bad',\n",
              " 'Bad',\n",
              " 'Bad',\n",
              " 'Good',\n",
              " 'Good',\n",
              " 'Good',\n",
              " 'Good',\n",
              " 'Good',\n",
              " 'Good',\n",
              " 'Good',\n",
              " 'Bad',\n",
              " 'Good',\n",
              " 'Good',\n",
              " 'Good',\n",
              " 'Good',\n",
              " 'Good',\n",
              " 'Good',\n",
              " 'Good',\n",
              " 'Good',\n",
              " 'Bad',\n",
              " 'Good',\n",
              " 'Good',\n",
              " 'Good',\n",
              " 'Bad',\n",
              " 'Good',\n",
              " 'Good',\n",
              " 'Bad',\n",
              " 'Bad',\n",
              " 'Good',\n",
              " 'Good',\n",
              " 'Good',\n",
              " 'Good',\n",
              " 'Good',\n",
              " 'Good',\n",
              " 'Good',\n",
              " 'Good',\n",
              " 'Bad',\n",
              " 'Good',\n",
              " 'Good',\n",
              " 'Good',\n",
              " 'Bad',\n",
              " 'Good',\n",
              " 'Good',\n",
              " 'Bad',\n",
              " 'Good',\n",
              " 'Good',\n",
              " 'Bad',\n",
              " 'Good',\n",
              " 'Good',\n",
              " 'Bad',\n",
              " 'Good',\n",
              " 'Good',\n",
              " 'Bad',\n",
              " 'Good',\n",
              " 'Good',\n",
              " 'Good',\n",
              " 'Good',\n",
              " 'Good',\n",
              " 'Bad',\n",
              " 'Good',\n",
              " 'Good',\n",
              " 'Good',\n",
              " 'Bad',\n",
              " 'Bad',\n",
              " 'Good',\n",
              " 'Good',\n",
              " 'Good',\n",
              " 'Bad',\n",
              " 'Good',\n",
              " 'Good',\n",
              " 'Bad',\n",
              " 'Bad',\n",
              " 'Good',\n",
              " 'Good',\n",
              " 'Good',\n",
              " 'Bad',\n",
              " 'Bad',\n",
              " 'Bad',\n",
              " 'Bad',\n",
              " 'Good',\n",
              " 'Good',\n",
              " 'Good',\n",
              " 'Good',\n",
              " 'Good',\n",
              " 'Good',\n",
              " 'Good',\n",
              " 'Good',\n",
              " 'Good',\n",
              " 'Good',\n",
              " 'Bad',\n",
              " 'Good',\n",
              " 'Bad',\n",
              " 'Bad',\n",
              " 'Bad',\n",
              " 'Good',\n",
              " 'Good',\n",
              " 'Good',\n",
              " 'Bad',\n",
              " 'Bad',\n",
              " 'Bad',\n",
              " 'Bad',\n",
              " 'Bad',\n",
              " 'Bad',\n",
              " 'Good',\n",
              " 'Good',\n",
              " 'Good',\n",
              " 'Good',\n",
              " 'Bad',\n",
              " 'Good',\n",
              " 'Bad',\n",
              " 'Good',\n",
              " 'Bad',\n",
              " 'Good',\n",
              " 'Good',\n",
              " 'Good',\n",
              " 'Good',\n",
              " 'Good',\n",
              " 'Bad',\n",
              " 'Good',\n",
              " 'Good',\n",
              " 'Bad',\n",
              " 'Good',\n",
              " 'Bad',\n",
              " 'Good',\n",
              " 'Bad',\n",
              " 'Good',\n",
              " 'Bad',\n",
              " 'Good',\n",
              " 'Bad',\n",
              " 'Bad',\n",
              " 'Bad',\n",
              " 'Bad',\n",
              " 'Good',\n",
              " 'Good',\n",
              " 'Good',\n",
              " 'Good',\n",
              " 'Good',\n",
              " 'Good',\n",
              " 'Good',\n",
              " 'Good',\n",
              " 'Bad',\n",
              " 'Good',\n",
              " 'Good',\n",
              " 'Bad',\n",
              " 'Good',\n",
              " 'Good',\n",
              " 'Good',\n",
              " 'Good',\n",
              " 'Bad',\n",
              " 'Good',\n",
              " 'Good',\n",
              " 'Good',\n",
              " 'Good',\n",
              " 'Bad',\n",
              " 'Good',\n",
              " 'Bad',\n",
              " 'Bad',\n",
              " 'Good',\n",
              " 'Bad',\n",
              " 'Good',\n",
              " 'Good',\n",
              " 'Good',\n",
              " 'Bad',\n",
              " 'Good',\n",
              " 'Bad',\n",
              " 'Good',\n",
              " 'Good',\n",
              " 'Good',\n",
              " 'Good',\n",
              " 'Bad',\n",
              " 'Good',\n",
              " 'Bad',\n",
              " 'Bad',\n",
              " 'Good',\n",
              " 'Good',\n",
              " 'Bad',\n",
              " 'Good',\n",
              " 'Bad',\n",
              " 'Bad',\n",
              " 'Bad',\n",
              " 'Bad',\n",
              " 'Good',\n",
              " 'Bad',\n",
              " 'Good',\n",
              " 'Good',\n",
              " 'Good',\n",
              " 'Bad',\n",
              " 'Good',\n",
              " 'Good',\n",
              " 'Good',\n",
              " 'Bad',\n",
              " 'Bad',\n",
              " 'Good',\n",
              " 'Good',\n",
              " 'Good',\n",
              " 'Good',\n",
              " 'Good',\n",
              " 'Good',\n",
              " 'Good',\n",
              " 'Good',\n",
              " 'Good',\n",
              " 'Good',\n",
              " 'Good',\n",
              " 'Good',\n",
              " 'Good',\n",
              " 'Good',\n",
              " 'Good',\n",
              " 'Good',\n",
              " 'Bad',\n",
              " 'Good',\n",
              " 'Good',\n",
              " 'Good',\n",
              " 'Good',\n",
              " 'Good',\n",
              " 'Good',\n",
              " 'Bad',\n",
              " 'Good',\n",
              " 'Good',\n",
              " 'Good',\n",
              " 'Good',\n",
              " 'Good',\n",
              " 'Good',\n",
              " 'Good',\n",
              " 'Good',\n",
              " 'Bad',\n",
              " 'Bad',\n",
              " 'Good',\n",
              " 'Good',\n",
              " 'Good',\n",
              " 'Good',\n",
              " 'Good',\n",
              " 'Bad',\n",
              " 'Bad',\n",
              " 'Good',\n",
              " 'Good',\n",
              " 'Good',\n",
              " 'Good',\n",
              " 'Bad',\n",
              " 'Good',\n",
              " 'Good',\n",
              " 'Good',\n",
              " 'Bad',\n",
              " 'Good',\n",
              " 'Bad',\n",
              " 'Bad',\n",
              " 'Good',\n",
              " 'Bad',\n",
              " 'Good',\n",
              " 'Good',\n",
              " 'Good',\n",
              " 'Good',\n",
              " 'Good',\n",
              " 'Bad',\n",
              " 'Good',\n",
              " 'Bad',\n",
              " 'Good',\n",
              " 'Good',\n",
              " 'Bad',\n",
              " 'Bad',\n",
              " 'Good',\n",
              " 'Good',\n",
              " 'Good',\n",
              " 'Good',\n",
              " 'Good',\n",
              " 'Bad',\n",
              " 'Good',\n",
              " 'Good',\n",
              " 'Good',\n",
              " 'Good',\n",
              " 'Good',\n",
              " 'Good',\n",
              " 'Good',\n",
              " 'Bad',\n",
              " 'Good',\n",
              " 'Good',\n",
              " 'Good',\n",
              " 'Good',\n",
              " 'Bad',\n",
              " 'Bad',\n",
              " 'Good',\n",
              " 'Bad',\n",
              " 'Bad',\n",
              " 'Good',\n",
              " 'Bad',\n",
              " 'Good',\n",
              " 'Bad',\n",
              " 'Good',\n",
              " 'Bad',\n",
              " 'Good',\n",
              " 'Bad',\n",
              " 'Good',\n",
              " 'Good',\n",
              " 'Good',\n",
              " 'Bad',\n",
              " 'Bad',\n",
              " 'Bad',\n",
              " 'Bad',\n",
              " 'Good',\n",
              " 'Good',\n",
              " 'Good',\n",
              " 'Bad',\n",
              " 'Bad',\n",
              " 'Bad',\n",
              " 'Good',\n",
              " 'Good',\n",
              " 'Bad',\n",
              " 'Good',\n",
              " 'Good',\n",
              " 'Bad',\n",
              " 'Bad',\n",
              " 'Good',\n",
              " 'Bad',\n",
              " 'Good',\n",
              " 'Good',\n",
              " 'Bad',\n",
              " 'Good',\n",
              " 'Good',\n",
              " 'Good',\n",
              " 'Good',\n",
              " 'Good',\n",
              " 'Good',\n",
              " 'Bad',\n",
              " 'Good',\n",
              " 'Bad',\n",
              " 'Good',\n",
              " 'Bad',\n",
              " 'Bad',\n",
              " 'Good',\n",
              " 'Bad',\n",
              " 'Bad',\n",
              " 'Bad',\n",
              " 'Good',\n",
              " 'Good',\n",
              " 'Good',\n",
              " 'Bad',\n",
              " 'Good',\n",
              " 'Good',\n",
              " 'Good',\n",
              " 'Bad',\n",
              " 'Bad',\n",
              " 'Good',\n",
              " 'Good',\n",
              " 'Good',\n",
              " 'Good',\n",
              " 'Good',\n",
              " 'Good',\n",
              " 'Bad',\n",
              " 'Good',\n",
              " 'Bad',\n",
              " 'Bad',\n",
              " 'Bad',\n",
              " 'Bad',\n",
              " 'Bad']"
            ]
          },
          "metadata": {
            "tags": []
          },
          "execution_count": 83
        }
      ]
    },
    {
      "cell_type": "code",
      "metadata": {
        "id": "iFF3zml-yh0w",
        "colab_type": "code",
        "colab": {
          "base_uri": "https://localhost:8080/",
          "height": 337
        },
        "outputId": "4223e59d-626d-4df2-c664-ab7b99dfb34b"
      },
      "source": [
        "df['Rating Category'] = rating_cat\n",
        "\n",
        "df.head()"
      ],
      "execution_count": 84,
      "outputs": [
        {
          "output_type": "execute_result",
          "data": {
            "text/html": [
              "<div>\n",
              "<style scoped>\n",
              "    .dataframe tbody tr th:only-of-type {\n",
              "        vertical-align: middle;\n",
              "    }\n",
              "\n",
              "    .dataframe tbody tr th {\n",
              "        vertical-align: top;\n",
              "    }\n",
              "\n",
              "    .dataframe thead th {\n",
              "        text-align: right;\n",
              "    }\n",
              "</style>\n",
              "<table border=\"1\" class=\"dataframe\">\n",
              "  <thead>\n",
              "    <tr style=\"text-align: right;\">\n",
              "      <th></th>\n",
              "      <th>a</th>\n",
              "      <th>b</th>\n",
              "      <th>c</th>\n",
              "      <th>d</th>\n",
              "      <th>e</th>\n",
              "      <th>f</th>\n",
              "      <th>g</th>\n",
              "      <th>h</th>\n",
              "      <th>i</th>\n",
              "      <th>j</th>\n",
              "      <th>k</th>\n",
              "      <th>Rating Category</th>\n",
              "    </tr>\n",
              "    <tr>\n",
              "      <th>Rank</th>\n",
              "      <th></th>\n",
              "      <th></th>\n",
              "      <th></th>\n",
              "      <th></th>\n",
              "      <th></th>\n",
              "      <th></th>\n",
              "      <th></th>\n",
              "      <th></th>\n",
              "      <th></th>\n",
              "      <th></th>\n",
              "      <th></th>\n",
              "      <th></th>\n",
              "    </tr>\n",
              "  </thead>\n",
              "  <tbody>\n",
              "    <tr>\n",
              "      <th>1</th>\n",
              "      <td>Guardians of the Galaxy</td>\n",
              "      <td>Action,Adventure,Sci-Fi</td>\n",
              "      <td>A group of intergalactic criminals are forced ...</td>\n",
              "      <td>James Gunn</td>\n",
              "      <td>Chris Pratt, Vin Diesel, Bradley Cooper, Zoe S...</td>\n",
              "      <td>2014</td>\n",
              "      <td>121</td>\n",
              "      <td>8.1</td>\n",
              "      <td>757074</td>\n",
              "      <td>333.13</td>\n",
              "      <td>76.0</td>\n",
              "      <td>Good</td>\n",
              "    </tr>\n",
              "    <tr>\n",
              "      <th>2</th>\n",
              "      <td>Prometheus</td>\n",
              "      <td>Adventure,Mystery,Sci-Fi</td>\n",
              "      <td>Following clues to the origin of mankind, a te...</td>\n",
              "      <td>Ridley Scott</td>\n",
              "      <td>Noomi Rapace, Logan Marshall-Green, Michael Fa...</td>\n",
              "      <td>2012</td>\n",
              "      <td>124</td>\n",
              "      <td>7.0</td>\n",
              "      <td>485820</td>\n",
              "      <td>126.46</td>\n",
              "      <td>65.0</td>\n",
              "      <td>Good</td>\n",
              "    </tr>\n",
              "    <tr>\n",
              "      <th>3</th>\n",
              "      <td>Split</td>\n",
              "      <td>Horror,Thriller</td>\n",
              "      <td>Three girls are kidnapped by a man with a diag...</td>\n",
              "      <td>M. Night Shyamalan</td>\n",
              "      <td>James McAvoy, Anya Taylor-Joy, Haley Lu Richar...</td>\n",
              "      <td>2016</td>\n",
              "      <td>117</td>\n",
              "      <td>7.3</td>\n",
              "      <td>157606</td>\n",
              "      <td>138.12</td>\n",
              "      <td>62.0</td>\n",
              "      <td>Good</td>\n",
              "    </tr>\n",
              "    <tr>\n",
              "      <th>4</th>\n",
              "      <td>Sing</td>\n",
              "      <td>Animation,Comedy,Family</td>\n",
              "      <td>In a city of humanoid animals, a hustling thea...</td>\n",
              "      <td>Christophe Lourdelet</td>\n",
              "      <td>Matthew McConaughey,Reese Witherspoon, Seth Ma...</td>\n",
              "      <td>2016</td>\n",
              "      <td>108</td>\n",
              "      <td>7.2</td>\n",
              "      <td>60545</td>\n",
              "      <td>270.32</td>\n",
              "      <td>59.0</td>\n",
              "      <td>Good</td>\n",
              "    </tr>\n",
              "    <tr>\n",
              "      <th>5</th>\n",
              "      <td>Suicide Squad</td>\n",
              "      <td>Action,Adventure,Fantasy</td>\n",
              "      <td>A secret government agency recruits some of th...</td>\n",
              "      <td>David Ayer</td>\n",
              "      <td>Will Smith, Jared Leto, Margot Robbie, Viola D...</td>\n",
              "      <td>2016</td>\n",
              "      <td>123</td>\n",
              "      <td>6.2</td>\n",
              "      <td>393727</td>\n",
              "      <td>325.02</td>\n",
              "      <td>40.0</td>\n",
              "      <td>Bad</td>\n",
              "    </tr>\n",
              "  </tbody>\n",
              "</table>\n",
              "</div>"
            ],
            "text/plain": [
              "                            a                         b  ...     k Rating Category\n",
              "Rank                                                     ...                      \n",
              "1     Guardians of the Galaxy   Action,Adventure,Sci-Fi  ...  76.0            Good\n",
              "2                  Prometheus  Adventure,Mystery,Sci-Fi  ...  65.0            Good\n",
              "3                       Split           Horror,Thriller  ...  62.0            Good\n",
              "4                        Sing   Animation,Comedy,Family  ...  59.0            Good\n",
              "5               Suicide Squad  Action,Adventure,Fantasy  ...  40.0             Bad\n",
              "\n",
              "[5 rows x 12 columns]"
            ]
          },
          "metadata": {
            "tags": []
          },
          "execution_count": 84
        }
      ]
    },
    {
      "cell_type": "code",
      "metadata": {
        "id": "S8289k-vy7gM",
        "colab_type": "code",
        "colab": {
          "base_uri": "https://localhost:8080/",
          "height": 318
        },
        "outputId": "24522da6-8ed1-480b-ceae-2f1082c778d6"
      },
      "source": [
        "df.boxplot(column= 'j',by='Rating Category')"
      ],
      "execution_count": 85,
      "outputs": [
        {
          "output_type": "execute_result",
          "data": {
            "text/plain": [
              "<matplotlib.axes._subplots.AxesSubplot at 0x7f3883484f98>"
            ]
          },
          "metadata": {
            "tags": []
          },
          "execution_count": 85
        },
        {
          "output_type": "display_data",
          "data": {
            "image/png": "[encoded data removed]",
            "text/plain": [
              "<Figure size 432x288 with 1 Axes>"
            ]
          },
          "metadata": {
            "tags": [],
            "needs_background": "light"
          }
        }
      ]
    }
  ]
}