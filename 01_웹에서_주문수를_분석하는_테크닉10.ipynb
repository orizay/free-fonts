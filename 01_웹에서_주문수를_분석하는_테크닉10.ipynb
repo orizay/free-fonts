{
  "nbformat": 4,
  "nbformat_minor": 0,
  "metadata": {
    "colab": {
      "name": "01-웹에서 주문수를 분석하는 테크닉10.ipynb",
      "provenance": [],
      "authorship_tag": "ABX9TyN5DGVabNg+XnPpZwkQXMcU",
      "include_colab_link": true
    },
    "kernelspec": {
      "name": "python3",
      "display_name": "Python 3"
    },
    "language_info": {
      "name": "python"
    }
  },
  "cells": [
    {
      "cell_type": "markdown",
      "metadata": {
        "id": "view-in-github",
        "colab_type": "text"
      },
      "source": [
        "<a href=\"https://colab.research.google.com/github/orizay/free-fonts/blob/master/01_%EC%9B%B9%EC%97%90%EC%84%9C_%EC%A3%BC%EB%AC%B8%EC%88%98%EB%A5%BC_%EB%B6%84%EC%84%9D%ED%95%98%EB%8A%94_%ED%85%8C%ED%81%AC%EB%8B%8910.ipynb\" target=\"_parent\"><img src=\"https://colab.research.google.com/assets/colab-badge.svg\" alt=\"Open In Colab\"/></a>"
      ]
    },
    {
      "cell_type": "markdown",
      "source": [
        "# 웹에서 주문 수를 분석하는 테크닉 10\n",
        "- 테크닉1_데이터를 읽어 들이자\n",
        "- 테크닉2_데이터를 결합(유니언)해 보자\n",
        "- 테크닉3_매출 데이터끼리 결합(조인)해 보자\n",
        "- 테크닉4_마스터데이터를 결합(조인)해 보자\n",
        "- 테크닉5_필요한 데이터 커럼을 만들자\n",
        "- 테크닉6_데이터를 검산하자\n",
        "- 테크닉7_각종 통계량을 파악하자\n",
        "- 테크닉8_월별로 데이터를 집계해 보자\n",
        "- 테크닉9_월별,상품별로 데이터를 집계해 보자\n",
        "- 테크닉10_상품별 매출 추이를 가시화해 보자\n"
      ],
      "metadata": {
        "id": "kNzc8kf8Uz7D"
      }
    },
    {
      "cell_type": "markdown",
      "source": [
        "## 전제 조건\n",
        "- customer_master.csv : 쇼핑몰 사이트 등을 이용할 때 회원 등록시 입력하는 정보\n",
        "- item_master.csv: 취급함는 상품데이터로,상품명과 가격이 포함\n",
        "- transaction_1.csv와 transaction_2.csv: 구매내역 상세 데이터(구체적으로 어떤 상품을 몇개 샀는지의 정보가 들어 있다)\n",
        "\n",
        "  - cutomer_master.csv: 고객 데이터 ,이름, 성별 등\n",
        "  - item_master.csv: 취급하는 상품 데이터, 상품명, 가격등\n",
        "  - transaction_1.csv: 구매내역 데이터\n",
        "  - transaction_2.csv: 3-1과 연결된 구매내역 분할 데이터\n",
        "  - transaction_detail_1.csv: 구매내역 상세 데이터\n",
        "  - transaction_detail_2.csv: 4-1과 연결된 분할 데이터"
      ],
      "metadata": {
        "id": "f2brq3PKWV3t"
      }
    },
    {
      "cell_type": "markdown",
      "source": [
        "# **001/ 데이터를 읽어 들이자**"
      ],
      "metadata": {
        "id": "KzD1JoVMfv6N"
      }
    },
    {
      "cell_type": "code",
      "execution_count": 34,
      "metadata": {
        "id": "JhYOthl6Ug5U"
      },
      "outputs": [],
      "source": [
        "import pandas as pd"
      ]
    },
    {
      "cell_type": "code",
      "source": [
        "!git clone https://github.com/wikibook/pyda100"
      ],
      "metadata": {
        "colab": {
          "base_uri": "https://localhost:8080/"
        },
        "id": "uZGbIlI9f5WG",
        "outputId": "a5a04c6d-a262-46f3-f02e-ee5defa84a0e"
      },
      "execution_count": 35,
      "outputs": [
        {
          "output_type": "stream",
          "name": "stdout",
          "text": [
            "fatal: destination path 'pyda100' already exists and is not an empty directory.\n"
          ]
        }
      ]
    },
    {
      "cell_type": "code",
      "source": [
        "customer_master = pd.read_csv('/content/pyda100/1장/customer_master.csv')\n",
        "customer_master.head()"
      ],
      "metadata": {
        "colab": {
          "base_uri": "https://localhost:8080/",
          "height": 204
        },
        "id": "6gQZOLqigWfc",
        "outputId": "b9af4db4-b425-436f-8bbc-9069d8646f26"
      },
      "execution_count": 36,
      "outputs": [
        {
          "output_type": "execute_result",
          "data": {
            "text/html": [
              "<div>\n",
              "<style scoped>\n",
              "    .dataframe tbody tr th:only-of-type {\n",
              "        vertical-align: middle;\n",
              "    }\n",
              "\n",
              "    .dataframe tbody tr th {\n",
              "        vertical-align: top;\n",
              "    }\n",
              "\n",
              "    .dataframe thead th {\n",
              "        text-align: right;\n",
              "    }\n",
              "</style>\n",
              "<table border=\"1\" class=\"dataframe\">\n",
              "  <thead>\n",
              "    <tr style=\"text-align: right;\">\n",
              "      <th></th>\n",
              "      <th>customer_id</th>\n",
              "      <th>customer_name</th>\n",
              "      <th>registration_date</th>\n",
              "      <th>email</th>\n",
              "      <th>gender</th>\n",
              "      <th>age</th>\n",
              "      <th>birth</th>\n",
              "      <th>pref</th>\n",
              "    </tr>\n",
              "  </thead>\n",
              "  <tbody>\n",
              "    <tr>\n",
              "      <th>0</th>\n",
              "      <td>IK152942</td>\n",
              "      <td>김서준</td>\n",
              "      <td>2019-01-01 0:25</td>\n",
              "      <td>hirata_yuujirou@example.com</td>\n",
              "      <td>M</td>\n",
              "      <td>29</td>\n",
              "      <td>1990-06-10</td>\n",
              "      <td>대전광역시</td>\n",
              "    </tr>\n",
              "    <tr>\n",
              "      <th>1</th>\n",
              "      <td>TS808488</td>\n",
              "      <td>김예준</td>\n",
              "      <td>2019-01-01 1:13</td>\n",
              "      <td>tamura_shiori@example.com</td>\n",
              "      <td>F</td>\n",
              "      <td>33</td>\n",
              "      <td>1986-05-20</td>\n",
              "      <td>인천광역시</td>\n",
              "    </tr>\n",
              "    <tr>\n",
              "      <th>2</th>\n",
              "      <td>AS834628</td>\n",
              "      <td>김도윤</td>\n",
              "      <td>2019-01-01 2:00</td>\n",
              "      <td>hisano_yuki@example.com</td>\n",
              "      <td>F</td>\n",
              "      <td>63</td>\n",
              "      <td>1956-01-02</td>\n",
              "      <td>광주광역시</td>\n",
              "    </tr>\n",
              "    <tr>\n",
              "      <th>3</th>\n",
              "      <td>AS345469</td>\n",
              "      <td>김시우</td>\n",
              "      <td>2019-01-01 4:48</td>\n",
              "      <td>tsuruoka_kaoru@example.com</td>\n",
              "      <td>M</td>\n",
              "      <td>74</td>\n",
              "      <td>1945-03-25</td>\n",
              "      <td>인천광역시</td>\n",
              "    </tr>\n",
              "    <tr>\n",
              "      <th>4</th>\n",
              "      <td>GD892565</td>\n",
              "      <td>김주원</td>\n",
              "      <td>2019-01-01 4:54</td>\n",
              "      <td>oouchi_takashi@example.com</td>\n",
              "      <td>M</td>\n",
              "      <td>54</td>\n",
              "      <td>1965-08-05</td>\n",
              "      <td>울산광역시</td>\n",
              "    </tr>\n",
              "  </tbody>\n",
              "</table>\n",
              "</div>"
            ],
            "text/plain": [
              "  customer_id customer_name registration_date  ... age       birth   pref\n",
              "0    IK152942           김서준   2019-01-01 0:25  ...  29  1990-06-10  대전광역시\n",
              "1    TS808488           김예준   2019-01-01 1:13  ...  33  1986-05-20  인천광역시\n",
              "2    AS834628           김도윤   2019-01-01 2:00  ...  63  1956-01-02  광주광역시\n",
              "3    AS345469           김시우   2019-01-01 4:48  ...  74  1945-03-25  인천광역시\n",
              "4    GD892565           김주원   2019-01-01 4:54  ...  54  1965-08-05  울산광역시\n",
              "\n",
              "[5 rows x 8 columns]"
            ]
          },
          "metadata": {},
          "execution_count": 36
        }
      ]
    },
    {
      "cell_type": "code",
      "source": [
        "item_master = pd.read_csv('/content/pyda100/1장/item_master.csv')\n",
        "item_master.head()"
      ],
      "metadata": {
        "colab": {
          "base_uri": "https://localhost:8080/",
          "height": 204
        },
        "id": "D3omYLQag5U3",
        "outputId": "baaff5d2-9644-4ad1-a384-6321d5a5da66"
      },
      "execution_count": 37,
      "outputs": [
        {
          "output_type": "execute_result",
          "data": {
            "text/html": [
              "<div>\n",
              "<style scoped>\n",
              "    .dataframe tbody tr th:only-of-type {\n",
              "        vertical-align: middle;\n",
              "    }\n",
              "\n",
              "    .dataframe tbody tr th {\n",
              "        vertical-align: top;\n",
              "    }\n",
              "\n",
              "    .dataframe thead th {\n",
              "        text-align: right;\n",
              "    }\n",
              "</style>\n",
              "<table border=\"1\" class=\"dataframe\">\n",
              "  <thead>\n",
              "    <tr style=\"text-align: right;\">\n",
              "      <th></th>\n",
              "      <th>item_id</th>\n",
              "      <th>item_name</th>\n",
              "      <th>item_price</th>\n",
              "    </tr>\n",
              "  </thead>\n",
              "  <tbody>\n",
              "    <tr>\n",
              "      <th>0</th>\n",
              "      <td>S001</td>\n",
              "      <td>PC-A</td>\n",
              "      <td>50000</td>\n",
              "    </tr>\n",
              "    <tr>\n",
              "      <th>1</th>\n",
              "      <td>S002</td>\n",
              "      <td>PC-B</td>\n",
              "      <td>85000</td>\n",
              "    </tr>\n",
              "    <tr>\n",
              "      <th>2</th>\n",
              "      <td>S003</td>\n",
              "      <td>PC-C</td>\n",
              "      <td>120000</td>\n",
              "    </tr>\n",
              "    <tr>\n",
              "      <th>3</th>\n",
              "      <td>S004</td>\n",
              "      <td>PC-D</td>\n",
              "      <td>180000</td>\n",
              "    </tr>\n",
              "    <tr>\n",
              "      <th>4</th>\n",
              "      <td>S005</td>\n",
              "      <td>PC-E</td>\n",
              "      <td>210000</td>\n",
              "    </tr>\n",
              "  </tbody>\n",
              "</table>\n",
              "</div>"
            ],
            "text/plain": [
              "  item_id item_name  item_price\n",
              "0    S001      PC-A       50000\n",
              "1    S002      PC-B       85000\n",
              "2    S003      PC-C      120000\n",
              "3    S004      PC-D      180000\n",
              "4    S005      PC-E      210000"
            ]
          },
          "metadata": {},
          "execution_count": 37
        }
      ]
    },
    {
      "cell_type": "code",
      "source": [
        "transaction_1 = pd.read_csv('/content/pyda100/1장/transaction_1.csv')\n",
        "transaction_1.head()"
      ],
      "metadata": {
        "colab": {
          "base_uri": "https://localhost:8080/",
          "height": 204
        },
        "id": "0BsQ9mHLhVnd",
        "outputId": "67a12b83-9835-4fe5-8707-723953580498"
      },
      "execution_count": 38,
      "outputs": [
        {
          "output_type": "execute_result",
          "data": {
            "text/html": [
              "<div>\n",
              "<style scoped>\n",
              "    .dataframe tbody tr th:only-of-type {\n",
              "        vertical-align: middle;\n",
              "    }\n",
              "\n",
              "    .dataframe tbody tr th {\n",
              "        vertical-align: top;\n",
              "    }\n",
              "\n",
              "    .dataframe thead th {\n",
              "        text-align: right;\n",
              "    }\n",
              "</style>\n",
              "<table border=\"1\" class=\"dataframe\">\n",
              "  <thead>\n",
              "    <tr style=\"text-align: right;\">\n",
              "      <th></th>\n",
              "      <th>transaction_id</th>\n",
              "      <th>price</th>\n",
              "      <th>payment_date</th>\n",
              "      <th>customer_id</th>\n",
              "    </tr>\n",
              "  </thead>\n",
              "  <tbody>\n",
              "    <tr>\n",
              "      <th>0</th>\n",
              "      <td>T0000000113</td>\n",
              "      <td>210000</td>\n",
              "      <td>2019-02-01 01:36:57</td>\n",
              "      <td>PL563502</td>\n",
              "    </tr>\n",
              "    <tr>\n",
              "      <th>1</th>\n",
              "      <td>T0000000114</td>\n",
              "      <td>50000</td>\n",
              "      <td>2019-02-01 01:37:23</td>\n",
              "      <td>HD678019</td>\n",
              "    </tr>\n",
              "    <tr>\n",
              "      <th>2</th>\n",
              "      <td>T0000000115</td>\n",
              "      <td>120000</td>\n",
              "      <td>2019-02-01 02:34:19</td>\n",
              "      <td>HD298120</td>\n",
              "    </tr>\n",
              "    <tr>\n",
              "      <th>3</th>\n",
              "      <td>T0000000116</td>\n",
              "      <td>210000</td>\n",
              "      <td>2019-02-01 02:47:23</td>\n",
              "      <td>IK452215</td>\n",
              "    </tr>\n",
              "    <tr>\n",
              "      <th>4</th>\n",
              "      <td>T0000000117</td>\n",
              "      <td>170000</td>\n",
              "      <td>2019-02-01 04:33:46</td>\n",
              "      <td>PL542865</td>\n",
              "    </tr>\n",
              "  </tbody>\n",
              "</table>\n",
              "</div>"
            ],
            "text/plain": [
              "  transaction_id   price         payment_date customer_id\n",
              "0    T0000000113  210000  2019-02-01 01:36:57    PL563502\n",
              "1    T0000000114   50000  2019-02-01 01:37:23    HD678019\n",
              "2    T0000000115  120000  2019-02-01 02:34:19    HD298120\n",
              "3    T0000000116  210000  2019-02-01 02:47:23    IK452215\n",
              "4    T0000000117  170000  2019-02-01 04:33:46    PL542865"
            ]
          },
          "metadata": {},
          "execution_count": 38
        }
      ]
    },
    {
      "cell_type": "code",
      "source": [
        "transaction_2 = pd.read_csv('/content/pyda100/1장/transaction_2.csv')\n",
        "transaction_2.head()"
      ],
      "metadata": {
        "colab": {
          "base_uri": "https://localhost:8080/",
          "height": 204
        },
        "id": "hXgUAsgChoPX",
        "outputId": "966e8af7-ae32-4cb4-86a8-90e333f5a966"
      },
      "execution_count": 39,
      "outputs": [
        {
          "output_type": "execute_result",
          "data": {
            "text/html": [
              "<div>\n",
              "<style scoped>\n",
              "    .dataframe tbody tr th:only-of-type {\n",
              "        vertical-align: middle;\n",
              "    }\n",
              "\n",
              "    .dataframe tbody tr th {\n",
              "        vertical-align: top;\n",
              "    }\n",
              "\n",
              "    .dataframe thead th {\n",
              "        text-align: right;\n",
              "    }\n",
              "</style>\n",
              "<table border=\"1\" class=\"dataframe\">\n",
              "  <thead>\n",
              "    <tr style=\"text-align: right;\">\n",
              "      <th></th>\n",
              "      <th>transaction_id</th>\n",
              "      <th>price</th>\n",
              "      <th>payment_date</th>\n",
              "      <th>customer_id</th>\n",
              "    </tr>\n",
              "  </thead>\n",
              "  <tbody>\n",
              "    <tr>\n",
              "      <th>0</th>\n",
              "      <td>T0000005113</td>\n",
              "      <td>295000</td>\n",
              "      <td>2019-06-15 07:20:27</td>\n",
              "      <td>TS169261</td>\n",
              "    </tr>\n",
              "    <tr>\n",
              "      <th>1</th>\n",
              "      <td>T0000005114</td>\n",
              "      <td>50000</td>\n",
              "      <td>2019-06-15 07:35:47</td>\n",
              "      <td>HI599892</td>\n",
              "    </tr>\n",
              "    <tr>\n",
              "      <th>2</th>\n",
              "      <td>T0000005115</td>\n",
              "      <td>85000</td>\n",
              "      <td>2019-06-15 07:56:36</td>\n",
              "      <td>HI421757</td>\n",
              "    </tr>\n",
              "    <tr>\n",
              "      <th>3</th>\n",
              "      <td>T0000005116</td>\n",
              "      <td>50000</td>\n",
              "      <td>2019-06-15 08:40:55</td>\n",
              "      <td>OA386378</td>\n",
              "    </tr>\n",
              "    <tr>\n",
              "      <th>4</th>\n",
              "      <td>T0000005117</td>\n",
              "      <td>120000</td>\n",
              "      <td>2019-06-15 08:44:23</td>\n",
              "      <td>TS506913</td>\n",
              "    </tr>\n",
              "  </tbody>\n",
              "</table>\n",
              "</div>"
            ],
            "text/plain": [
              "  transaction_id   price         payment_date customer_id\n",
              "0    T0000005113  295000  2019-06-15 07:20:27    TS169261\n",
              "1    T0000005114   50000  2019-06-15 07:35:47    HI599892\n",
              "2    T0000005115   85000  2019-06-15 07:56:36    HI421757\n",
              "3    T0000005116   50000  2019-06-15 08:40:55    OA386378\n",
              "4    T0000005117  120000  2019-06-15 08:44:23    TS506913"
            ]
          },
          "metadata": {},
          "execution_count": 39
        }
      ]
    },
    {
      "cell_type": "code",
      "source": [
        "transaction_detail_1 = pd.read_csv('/content/pyda100/1장/transaction_detail_1.csv')\n",
        "transaction_detail_1.head()"
      ],
      "metadata": {
        "colab": {
          "base_uri": "https://localhost:8080/",
          "height": 204
        },
        "id": "Fd4ReUTihzbs",
        "outputId": "49440cdc-93f4-46d2-b776-936fbb0607b4"
      },
      "execution_count": 40,
      "outputs": [
        {
          "output_type": "execute_result",
          "data": {
            "text/html": [
              "<div>\n",
              "<style scoped>\n",
              "    .dataframe tbody tr th:only-of-type {\n",
              "        vertical-align: middle;\n",
              "    }\n",
              "\n",
              "    .dataframe tbody tr th {\n",
              "        vertical-align: top;\n",
              "    }\n",
              "\n",
              "    .dataframe thead th {\n",
              "        text-align: right;\n",
              "    }\n",
              "</style>\n",
              "<table border=\"1\" class=\"dataframe\">\n",
              "  <thead>\n",
              "    <tr style=\"text-align: right;\">\n",
              "      <th></th>\n",
              "      <th>detail_id</th>\n",
              "      <th>transaction_id</th>\n",
              "      <th>item_id</th>\n",
              "      <th>quantity</th>\n",
              "    </tr>\n",
              "  </thead>\n",
              "  <tbody>\n",
              "    <tr>\n",
              "      <th>0</th>\n",
              "      <td>0</td>\n",
              "      <td>T0000000113</td>\n",
              "      <td>S005</td>\n",
              "      <td>1</td>\n",
              "    </tr>\n",
              "    <tr>\n",
              "      <th>1</th>\n",
              "      <td>1</td>\n",
              "      <td>T0000000114</td>\n",
              "      <td>S001</td>\n",
              "      <td>1</td>\n",
              "    </tr>\n",
              "    <tr>\n",
              "      <th>2</th>\n",
              "      <td>2</td>\n",
              "      <td>T0000000115</td>\n",
              "      <td>S003</td>\n",
              "      <td>1</td>\n",
              "    </tr>\n",
              "    <tr>\n",
              "      <th>3</th>\n",
              "      <td>3</td>\n",
              "      <td>T0000000116</td>\n",
              "      <td>S005</td>\n",
              "      <td>1</td>\n",
              "    </tr>\n",
              "    <tr>\n",
              "      <th>4</th>\n",
              "      <td>4</td>\n",
              "      <td>T0000000117</td>\n",
              "      <td>S002</td>\n",
              "      <td>2</td>\n",
              "    </tr>\n",
              "  </tbody>\n",
              "</table>\n",
              "</div>"
            ],
            "text/plain": [
              "   detail_id transaction_id item_id  quantity\n",
              "0          0    T0000000113    S005         1\n",
              "1          1    T0000000114    S001         1\n",
              "2          2    T0000000115    S003         1\n",
              "3          3    T0000000116    S005         1\n",
              "4          4    T0000000117    S002         2"
            ]
          },
          "metadata": {},
          "execution_count": 40
        }
      ]
    },
    {
      "cell_type": "code",
      "source": [
        "transaction_detail_2 = pd.read_csv('/content/pyda100/1장/transaction_detail_2.csv')\n",
        "transaction_detail_2.head()"
      ],
      "metadata": {
        "colab": {
          "base_uri": "https://localhost:8080/",
          "height": 204
        },
        "id": "_HjDT0bOiIBq",
        "outputId": "7b135d63-d09c-4cac-df92-7e384e4d8d8f"
      },
      "execution_count": 41,
      "outputs": [
        {
          "output_type": "execute_result",
          "data": {
            "text/html": [
              "<div>\n",
              "<style scoped>\n",
              "    .dataframe tbody tr th:only-of-type {\n",
              "        vertical-align: middle;\n",
              "    }\n",
              "\n",
              "    .dataframe tbody tr th {\n",
              "        vertical-align: top;\n",
              "    }\n",
              "\n",
              "    .dataframe thead th {\n",
              "        text-align: right;\n",
              "    }\n",
              "</style>\n",
              "<table border=\"1\" class=\"dataframe\">\n",
              "  <thead>\n",
              "    <tr style=\"text-align: right;\">\n",
              "      <th></th>\n",
              "      <th>detail_id</th>\n",
              "      <th>transaction_id</th>\n",
              "      <th>item_id</th>\n",
              "      <th>quantity</th>\n",
              "    </tr>\n",
              "  </thead>\n",
              "  <tbody>\n",
              "    <tr>\n",
              "      <th>0</th>\n",
              "      <td>5000</td>\n",
              "      <td>T0000004870</td>\n",
              "      <td>S002</td>\n",
              "      <td>3</td>\n",
              "    </tr>\n",
              "    <tr>\n",
              "      <th>1</th>\n",
              "      <td>5001</td>\n",
              "      <td>T0000004871</td>\n",
              "      <td>S003</td>\n",
              "      <td>1</td>\n",
              "    </tr>\n",
              "    <tr>\n",
              "      <th>2</th>\n",
              "      <td>5002</td>\n",
              "      <td>T0000004872</td>\n",
              "      <td>S001</td>\n",
              "      <td>2</td>\n",
              "    </tr>\n",
              "    <tr>\n",
              "      <th>3</th>\n",
              "      <td>5003</td>\n",
              "      <td>T0000004873</td>\n",
              "      <td>S004</td>\n",
              "      <td>1</td>\n",
              "    </tr>\n",
              "    <tr>\n",
              "      <th>4</th>\n",
              "      <td>5004</td>\n",
              "      <td>T0000004874</td>\n",
              "      <td>S003</td>\n",
              "      <td>2</td>\n",
              "    </tr>\n",
              "  </tbody>\n",
              "</table>\n",
              "</div>"
            ],
            "text/plain": [
              "   detail_id transaction_id item_id  quantity\n",
              "0       5000    T0000004870    S002         3\n",
              "1       5001    T0000004871    S003         1\n",
              "2       5002    T0000004872    S001         2\n",
              "3       5003    T0000004873    S004         1\n",
              "4       5004    T0000004874    S003         2"
            ]
          },
          "metadata": {},
          "execution_count": 41
        }
      ]
    },
    {
      "cell_type": "markdown",
      "source": [
        "### 그럼 어떤 데이터로 가공하는 것이 좋을 가요? 분석의 목적에 따라 다르지만'매출을 올리고 싶다'와 같은 추상적인 목적이든, '향후 우량고객을 찾고 싶다'와 같은 구체적인 목적이든 상관없이 먼저 데이터 전체를 파악하는 것이 중요합니다. 그래서 되도록 상세하게 나와 있는 쪽에 맞추어 데이터를 가공하는 것이 중요합니다.여기서 다루는 쇼핑몰 사이트의 경우 당연히 매출과 연관이 있고, 가장 상세한 데이터는 매출 관련데이터이므로 transaction_detail을 기준으로 생각해 봅시다."
      ],
      "metadata": {
        "id": "dXKMmRjAj-k8"
      }
    },
    {
      "cell_type": "markdown",
      "source": [
        "### transaction_detail을 기준으로 생각할 경우, 크게 2가지의 데이터 가공이 필요합니다.\n",
        "- 첫 번째는 transaction_detail_1과 transaction_detail_2,그리고 transaction_1과 transaction_2를 세로로 결합(유니언)하는 것입니다.\n",
        "- 두 번째는 transaction_detail을 기준으로, transaction,customer_master, item_master를 가로로 결합(조인)하는 것입니다."
      ],
      "metadata": {
        "id": "FktdD4jOleAE"
      }
    },
    {
      "cell_type": "markdown",
      "source": [
        "# **002/ 데이터를 결합(유니언)해 보자**"
      ],
      "metadata": {
        "id": "TW_IAi8bmwxT"
      }
    },
    {
      "cell_type": "code",
      "source": [
        "transaction = pd.concat([transaction_1, transaction_2], ignore_index= True)\n",
        "transaction.head()"
      ],
      "metadata": {
        "colab": {
          "base_uri": "https://localhost:8080/",
          "height": 204
        },
        "id": "7M1CUgbeiURM",
        "outputId": "0a4d9cbf-bd88-4ec5-cc8a-96d1d3846b4d"
      },
      "execution_count": 42,
      "outputs": [
        {
          "output_type": "execute_result",
          "data": {
            "text/html": [
              "<div>\n",
              "<style scoped>\n",
              "    .dataframe tbody tr th:only-of-type {\n",
              "        vertical-align: middle;\n",
              "    }\n",
              "\n",
              "    .dataframe tbody tr th {\n",
              "        vertical-align: top;\n",
              "    }\n",
              "\n",
              "    .dataframe thead th {\n",
              "        text-align: right;\n",
              "    }\n",
              "</style>\n",
              "<table border=\"1\" class=\"dataframe\">\n",
              "  <thead>\n",
              "    <tr style=\"text-align: right;\">\n",
              "      <th></th>\n",
              "      <th>transaction_id</th>\n",
              "      <th>price</th>\n",
              "      <th>payment_date</th>\n",
              "      <th>customer_id</th>\n",
              "    </tr>\n",
              "  </thead>\n",
              "  <tbody>\n",
              "    <tr>\n",
              "      <th>0</th>\n",
              "      <td>T0000000113</td>\n",
              "      <td>210000</td>\n",
              "      <td>2019-02-01 01:36:57</td>\n",
              "      <td>PL563502</td>\n",
              "    </tr>\n",
              "    <tr>\n",
              "      <th>1</th>\n",
              "      <td>T0000000114</td>\n",
              "      <td>50000</td>\n",
              "      <td>2019-02-01 01:37:23</td>\n",
              "      <td>HD678019</td>\n",
              "    </tr>\n",
              "    <tr>\n",
              "      <th>2</th>\n",
              "      <td>T0000000115</td>\n",
              "      <td>120000</td>\n",
              "      <td>2019-02-01 02:34:19</td>\n",
              "      <td>HD298120</td>\n",
              "    </tr>\n",
              "    <tr>\n",
              "      <th>3</th>\n",
              "      <td>T0000000116</td>\n",
              "      <td>210000</td>\n",
              "      <td>2019-02-01 02:47:23</td>\n",
              "      <td>IK452215</td>\n",
              "    </tr>\n",
              "    <tr>\n",
              "      <th>4</th>\n",
              "      <td>T0000000117</td>\n",
              "      <td>170000</td>\n",
              "      <td>2019-02-01 04:33:46</td>\n",
              "      <td>PL542865</td>\n",
              "    </tr>\n",
              "  </tbody>\n",
              "</table>\n",
              "</div>"
            ],
            "text/plain": [
              "  transaction_id   price         payment_date customer_id\n",
              "0    T0000000113  210000  2019-02-01 01:36:57    PL563502\n",
              "1    T0000000114   50000  2019-02-01 01:37:23    HD678019\n",
              "2    T0000000115  120000  2019-02-01 02:34:19    HD298120\n",
              "3    T0000000116  210000  2019-02-01 02:47:23    IK452215\n",
              "4    T0000000117  170000  2019-02-01 04:33:46    PL542865"
            ]
          },
          "metadata": {},
          "execution_count": 42
        }
      ]
    },
    {
      "cell_type": "code",
      "source": [
        "print(len(transaction_1))\n",
        "print(len(transaction_2))\n",
        "print(len(transaction))"
      ],
      "metadata": {
        "colab": {
          "base_uri": "https://localhost:8080/"
        },
        "id": "UBydr4L9nfE8",
        "outputId": "699576bc-1e95-47a2-8210-9eafc42a34ea"
      },
      "execution_count": 43,
      "outputs": [
        {
          "output_type": "stream",
          "name": "stdout",
          "text": [
            "5000\n",
            "1786\n",
            "6786\n"
          ]
        }
      ]
    },
    {
      "cell_type": "code",
      "source": [
        "transaction_detail = pd.concat([transaction_detail_1, transaction_detail_2], ignore_index=True)\n",
        "transaction_detail.head()"
      ],
      "metadata": {
        "colab": {
          "base_uri": "https://localhost:8080/",
          "height": 204
        },
        "id": "6o2q1IdroBAn",
        "outputId": "9085f5bf-c4ee-41e8-ae79-dab8d4393ce4"
      },
      "execution_count": 44,
      "outputs": [
        {
          "output_type": "execute_result",
          "data": {
            "text/html": [
              "<div>\n",
              "<style scoped>\n",
              "    .dataframe tbody tr th:only-of-type {\n",
              "        vertical-align: middle;\n",
              "    }\n",
              "\n",
              "    .dataframe tbody tr th {\n",
              "        vertical-align: top;\n",
              "    }\n",
              "\n",
              "    .dataframe thead th {\n",
              "        text-align: right;\n",
              "    }\n",
              "</style>\n",
              "<table border=\"1\" class=\"dataframe\">\n",
              "  <thead>\n",
              "    <tr style=\"text-align: right;\">\n",
              "      <th></th>\n",
              "      <th>detail_id</th>\n",
              "      <th>transaction_id</th>\n",
              "      <th>item_id</th>\n",
              "      <th>quantity</th>\n",
              "    </tr>\n",
              "  </thead>\n",
              "  <tbody>\n",
              "    <tr>\n",
              "      <th>0</th>\n",
              "      <td>0</td>\n",
              "      <td>T0000000113</td>\n",
              "      <td>S005</td>\n",
              "      <td>1</td>\n",
              "    </tr>\n",
              "    <tr>\n",
              "      <th>1</th>\n",
              "      <td>1</td>\n",
              "      <td>T0000000114</td>\n",
              "      <td>S001</td>\n",
              "      <td>1</td>\n",
              "    </tr>\n",
              "    <tr>\n",
              "      <th>2</th>\n",
              "      <td>2</td>\n",
              "      <td>T0000000115</td>\n",
              "      <td>S003</td>\n",
              "      <td>1</td>\n",
              "    </tr>\n",
              "    <tr>\n",
              "      <th>3</th>\n",
              "      <td>3</td>\n",
              "      <td>T0000000116</td>\n",
              "      <td>S005</td>\n",
              "      <td>1</td>\n",
              "    </tr>\n",
              "    <tr>\n",
              "      <th>4</th>\n",
              "      <td>4</td>\n",
              "      <td>T0000000117</td>\n",
              "      <td>S002</td>\n",
              "      <td>2</td>\n",
              "    </tr>\n",
              "  </tbody>\n",
              "</table>\n",
              "</div>"
            ],
            "text/plain": [
              "   detail_id transaction_id item_id  quantity\n",
              "0          0    T0000000113    S005         1\n",
              "1          1    T0000000114    S001         1\n",
              "2          2    T0000000115    S003         1\n",
              "3          3    T0000000116    S005         1\n",
              "4          4    T0000000117    S002         2"
            ]
          },
          "metadata": {},
          "execution_count": 44
        }
      ]
    },
    {
      "cell_type": "code",
      "source": [
        "print(len(transaction_detail_1))\n",
        "print(len(transaction_detail_2))\n",
        "print(len(transaction_detail))"
      ],
      "metadata": {
        "colab": {
          "base_uri": "https://localhost:8080/"
        },
        "id": "jrhb148FosOz",
        "outputId": "238afd60-a1da-4604-ce6d-4e9adbd10e25"
      },
      "execution_count": 45,
      "outputs": [
        {
          "output_type": "stream",
          "name": "stdout",
          "text": [
            "5000\n",
            "2144\n",
            "7144\n"
          ]
        }
      ]
    },
    {
      "cell_type": "markdown",
      "source": [
        "# **003/ 매출 데이터끼리 결합(조인)해 보자**"
      ],
      "metadata": {
        "id": "y8Rix_SDqdvs"
      }
    },
    {
      "cell_type": "markdown",
      "source": [
        "### 데이터를 조인할 때는 기준이 되는 데이터를 정확하게 결정하고, 어떤 칼럼을 키로 조인할지 생각합니다.가징 상세한 데이터인 transaction_detail을 기준 데이터로 결정합니다.우선,매출 데이터를 조인할 때 부족한(추가하고 싶은)데이터 칼럼이 무엇인가와 공통되는 데이터 칼럼은 무엇인가를 생각합니다.\n",
        "  - 이번 경우에 추가하고 싶은 데이터는 transaction이 payment_date, customer_id입니다.\n",
        "  - transaction의 price는 한 번 구매할 때의 합계 금액이기 때문에 transaction_detail의 quntity와 item_master의 item_price로 부터 계산된 것입니다.transaction_detail 쪽이 사세한 정보가 많아 추가하면 중복해서 계산되기 때문에 price는 추가하지 않습니다.\n",
        "  - 공통 데이터 칼럼은 transaction_id 입니다.\n",
        "  "
      ],
      "metadata": {
        "id": "KvZOYq-rrFlA"
      }
    },
    {
      "cell_type": "code",
      "source": [
        "join_data = pd.merge(transaction_detail, transaction[['transaction_id', 'payment_date', 'customer_id']], on='transaction_id', how='left')\n",
        "join_data.head()"
      ],
      "metadata": {
        "colab": {
          "base_uri": "https://localhost:8080/",
          "height": 204
        },
        "id": "eK4oEkPUo3z5",
        "outputId": "f9fe8722-14d2-4501-b433-4001a37b0883"
      },
      "execution_count": 46,
      "outputs": [
        {
          "output_type": "execute_result",
          "data": {
            "text/html": [
              "<div>\n",
              "<style scoped>\n",
              "    .dataframe tbody tr th:only-of-type {\n",
              "        vertical-align: middle;\n",
              "    }\n",
              "\n",
              "    .dataframe tbody tr th {\n",
              "        vertical-align: top;\n",
              "    }\n",
              "\n",
              "    .dataframe thead th {\n",
              "        text-align: right;\n",
              "    }\n",
              "</style>\n",
              "<table border=\"1\" class=\"dataframe\">\n",
              "  <thead>\n",
              "    <tr style=\"text-align: right;\">\n",
              "      <th></th>\n",
              "      <th>detail_id</th>\n",
              "      <th>transaction_id</th>\n",
              "      <th>item_id</th>\n",
              "      <th>quantity</th>\n",
              "      <th>payment_date</th>\n",
              "      <th>customer_id</th>\n",
              "    </tr>\n",
              "  </thead>\n",
              "  <tbody>\n",
              "    <tr>\n",
              "      <th>0</th>\n",
              "      <td>0</td>\n",
              "      <td>T0000000113</td>\n",
              "      <td>S005</td>\n",
              "      <td>1</td>\n",
              "      <td>2019-02-01 01:36:57</td>\n",
              "      <td>PL563502</td>\n",
              "    </tr>\n",
              "    <tr>\n",
              "      <th>1</th>\n",
              "      <td>1</td>\n",
              "      <td>T0000000114</td>\n",
              "      <td>S001</td>\n",
              "      <td>1</td>\n",
              "      <td>2019-02-01 01:37:23</td>\n",
              "      <td>HD678019</td>\n",
              "    </tr>\n",
              "    <tr>\n",
              "      <th>2</th>\n",
              "      <td>2</td>\n",
              "      <td>T0000000115</td>\n",
              "      <td>S003</td>\n",
              "      <td>1</td>\n",
              "      <td>2019-02-01 02:34:19</td>\n",
              "      <td>HD298120</td>\n",
              "    </tr>\n",
              "    <tr>\n",
              "      <th>3</th>\n",
              "      <td>3</td>\n",
              "      <td>T0000000116</td>\n",
              "      <td>S005</td>\n",
              "      <td>1</td>\n",
              "      <td>2019-02-01 02:47:23</td>\n",
              "      <td>IK452215</td>\n",
              "    </tr>\n",
              "    <tr>\n",
              "      <th>4</th>\n",
              "      <td>4</td>\n",
              "      <td>T0000000117</td>\n",
              "      <td>S002</td>\n",
              "      <td>2</td>\n",
              "      <td>2019-02-01 04:33:46</td>\n",
              "      <td>PL542865</td>\n",
              "    </tr>\n",
              "  </tbody>\n",
              "</table>\n",
              "</div>"
            ],
            "text/plain": [
              "   detail_id transaction_id item_id  quantity         payment_date customer_id\n",
              "0          0    T0000000113    S005         1  2019-02-01 01:36:57    PL563502\n",
              "1          1    T0000000114    S001         1  2019-02-01 01:37:23    HD678019\n",
              "2          2    T0000000115    S003         1  2019-02-01 02:34:19    HD298120\n",
              "3          3    T0000000116    S005         1  2019-02-01 02:47:23    IK452215\n",
              "4          4    T0000000117    S002         2  2019-02-01 04:33:46    PL542865"
            ]
          },
          "metadata": {},
          "execution_count": 46
        }
      ]
    },
    {
      "cell_type": "code",
      "source": [
        "print(len(transaction_detail))\n",
        "print(len(transaction))\n",
        "print(len(join_data))"
      ],
      "metadata": {
        "colab": {
          "base_uri": "https://localhost:8080/"
        },
        "id": "lPQ-Ike7B_US",
        "outputId": "61f210e3-c85f-430f-90cf-85f55a7bac15"
      },
      "execution_count": 47,
      "outputs": [
        {
          "output_type": "stream",
          "name": "stdout",
          "text": [
            "7144\n",
            "6786\n",
            "7144\n"
          ]
        }
      ]
    },
    {
      "cell_type": "markdown",
      "source": [
        "# **004/ 마스터데이터를 결합(조인)해 보자**"
      ],
      "metadata": {
        "id": "L1PJre0lD7qi"
      }
    },
    {
      "cell_type": "markdown",
      "source": [
        "### 테크닉 3과 동일하게 조인\n",
        "- 1.부족한(추가하고 싶은) 데이터는 무엇인가와 2.공통 칼럼은 무언인가를 생각해 봅시다.\n",
        "  - 이번 경우 추가할 데이터는 customer_master와 item_master에 포함된 데이터입니다.\n",
        "  - 공통칼럼은 각각 customer_id와 item_id로 연결 가능합니다"
      ],
      "metadata": {
        "id": "L0aUCafiEIF0"
      }
    },
    {
      "cell_type": "code",
      "source": [
        "join_data = pd.merge(join_data, customer_master, on='customer_id', how='left')\n",
        "join_data.head()"
      ],
      "metadata": {
        "colab": {
          "base_uri": "https://localhost:8080/",
          "height": 374
        },
        "id": "NNj9XbtnDsRf",
        "outputId": "f3ab2265-ba9d-43cf-f7d8-e709d51fd80a"
      },
      "execution_count": 48,
      "outputs": [
        {
          "output_type": "execute_result",
          "data": {
            "text/html": [
              "<div>\n",
              "<style scoped>\n",
              "    .dataframe tbody tr th:only-of-type {\n",
              "        vertical-align: middle;\n",
              "    }\n",
              "\n",
              "    .dataframe tbody tr th {\n",
              "        vertical-align: top;\n",
              "    }\n",
              "\n",
              "    .dataframe thead th {\n",
              "        text-align: right;\n",
              "    }\n",
              "</style>\n",
              "<table border=\"1\" class=\"dataframe\">\n",
              "  <thead>\n",
              "    <tr style=\"text-align: right;\">\n",
              "      <th></th>\n",
              "      <th>detail_id</th>\n",
              "      <th>transaction_id</th>\n",
              "      <th>item_id</th>\n",
              "      <th>quantity</th>\n",
              "      <th>payment_date</th>\n",
              "      <th>customer_id</th>\n",
              "      <th>customer_name</th>\n",
              "      <th>registration_date</th>\n",
              "      <th>email</th>\n",
              "      <th>gender</th>\n",
              "      <th>age</th>\n",
              "      <th>birth</th>\n",
              "      <th>pref</th>\n",
              "    </tr>\n",
              "  </thead>\n",
              "  <tbody>\n",
              "    <tr>\n",
              "      <th>0</th>\n",
              "      <td>0</td>\n",
              "      <td>T0000000113</td>\n",
              "      <td>S005</td>\n",
              "      <td>1</td>\n",
              "      <td>2019-02-01 01:36:57</td>\n",
              "      <td>PL563502</td>\n",
              "      <td>김태경</td>\n",
              "      <td>2019-01-07 14:34</td>\n",
              "      <td>imoto_yoshimasa@example.com</td>\n",
              "      <td>M</td>\n",
              "      <td>30</td>\n",
              "      <td>1989-07-15</td>\n",
              "      <td>대전광역시</td>\n",
              "    </tr>\n",
              "    <tr>\n",
              "      <th>1</th>\n",
              "      <td>1</td>\n",
              "      <td>T0000000114</td>\n",
              "      <td>S001</td>\n",
              "      <td>1</td>\n",
              "      <td>2019-02-01 01:37:23</td>\n",
              "      <td>HD678019</td>\n",
              "      <td>김영웅</td>\n",
              "      <td>2019-01-27 18:00</td>\n",
              "      <td>mifune_rokurou@example.com</td>\n",
              "      <td>M</td>\n",
              "      <td>73</td>\n",
              "      <td>1945-11-29</td>\n",
              "      <td>서울특별시</td>\n",
              "    </tr>\n",
              "    <tr>\n",
              "      <th>2</th>\n",
              "      <td>2</td>\n",
              "      <td>T0000000115</td>\n",
              "      <td>S003</td>\n",
              "      <td>1</td>\n",
              "      <td>2019-02-01 02:34:19</td>\n",
              "      <td>HD298120</td>\n",
              "      <td>김강현</td>\n",
              "      <td>2019-01-11 8:16</td>\n",
              "      <td>yamane_kogan@example.com</td>\n",
              "      <td>M</td>\n",
              "      <td>42</td>\n",
              "      <td>1977-05-17</td>\n",
              "      <td>광주광역시</td>\n",
              "    </tr>\n",
              "    <tr>\n",
              "      <th>3</th>\n",
              "      <td>3</td>\n",
              "      <td>T0000000116</td>\n",
              "      <td>S005</td>\n",
              "      <td>1</td>\n",
              "      <td>2019-02-01 02:47:23</td>\n",
              "      <td>IK452215</td>\n",
              "      <td>김주한</td>\n",
              "      <td>2019-01-10 5:07</td>\n",
              "      <td>ikeda_natsumi@example.com</td>\n",
              "      <td>F</td>\n",
              "      <td>47</td>\n",
              "      <td>1972-03-17</td>\n",
              "      <td>인천광역시</td>\n",
              "    </tr>\n",
              "    <tr>\n",
              "      <th>4</th>\n",
              "      <td>4</td>\n",
              "      <td>T0000000117</td>\n",
              "      <td>S002</td>\n",
              "      <td>2</td>\n",
              "      <td>2019-02-01 04:33:46</td>\n",
              "      <td>PL542865</td>\n",
              "      <td>김영빈</td>\n",
              "      <td>2019-01-25 6:46</td>\n",
              "      <td>kurita_kenichi@example.com</td>\n",
              "      <td>M</td>\n",
              "      <td>74</td>\n",
              "      <td>1944-12-17</td>\n",
              "      <td>광주광역시</td>\n",
              "    </tr>\n",
              "  </tbody>\n",
              "</table>\n",
              "</div>"
            ],
            "text/plain": [
              "   detail_id transaction_id item_id  quantity  ... gender age       birth   pref\n",
              "0          0    T0000000113    S005         1  ...      M  30  1989-07-15  대전광역시\n",
              "1          1    T0000000114    S001         1  ...      M  73  1945-11-29  서울특별시\n",
              "2          2    T0000000115    S003         1  ...      M  42  1977-05-17  광주광역시\n",
              "3          3    T0000000116    S005         1  ...      F  47  1972-03-17  인천광역시\n",
              "4          4    T0000000117    S002         2  ...      M  74  1944-12-17  광주광역시\n",
              "\n",
              "[5 rows x 13 columns]"
            ]
          },
          "metadata": {},
          "execution_count": 48
        }
      ]
    },
    {
      "cell_type": "code",
      "source": [
        "join_data = pd.merge(join_data, item_master, on='item_id', how='left')\n",
        "join_data.head()"
      ],
      "metadata": {
        "colab": {
          "base_uri": "https://localhost:8080/",
          "height": 394
        },
        "id": "XHwjnzbVFb4X",
        "outputId": "54beff4b-44a3-4d56-a9eb-e409559de951"
      },
      "execution_count": 49,
      "outputs": [
        {
          "output_type": "execute_result",
          "data": {
            "text/html": [
              "<div>\n",
              "<style scoped>\n",
              "    .dataframe tbody tr th:only-of-type {\n",
              "        vertical-align: middle;\n",
              "    }\n",
              "\n",
              "    .dataframe tbody tr th {\n",
              "        vertical-align: top;\n",
              "    }\n",
              "\n",
              "    .dataframe thead th {\n",
              "        text-align: right;\n",
              "    }\n",
              "</style>\n",
              "<table border=\"1\" class=\"dataframe\">\n",
              "  <thead>\n",
              "    <tr style=\"text-align: right;\">\n",
              "      <th></th>\n",
              "      <th>detail_id</th>\n",
              "      <th>transaction_id</th>\n",
              "      <th>item_id</th>\n",
              "      <th>quantity</th>\n",
              "      <th>payment_date</th>\n",
              "      <th>customer_id</th>\n",
              "      <th>customer_name</th>\n",
              "      <th>registration_date</th>\n",
              "      <th>email</th>\n",
              "      <th>gender</th>\n",
              "      <th>age</th>\n",
              "      <th>birth</th>\n",
              "      <th>pref</th>\n",
              "      <th>item_name</th>\n",
              "      <th>item_price</th>\n",
              "    </tr>\n",
              "  </thead>\n",
              "  <tbody>\n",
              "    <tr>\n",
              "      <th>0</th>\n",
              "      <td>0</td>\n",
              "      <td>T0000000113</td>\n",
              "      <td>S005</td>\n",
              "      <td>1</td>\n",
              "      <td>2019-02-01 01:36:57</td>\n",
              "      <td>PL563502</td>\n",
              "      <td>김태경</td>\n",
              "      <td>2019-01-07 14:34</td>\n",
              "      <td>imoto_yoshimasa@example.com</td>\n",
              "      <td>M</td>\n",
              "      <td>30</td>\n",
              "      <td>1989-07-15</td>\n",
              "      <td>대전광역시</td>\n",
              "      <td>PC-E</td>\n",
              "      <td>210000</td>\n",
              "    </tr>\n",
              "    <tr>\n",
              "      <th>1</th>\n",
              "      <td>1</td>\n",
              "      <td>T0000000114</td>\n",
              "      <td>S001</td>\n",
              "      <td>1</td>\n",
              "      <td>2019-02-01 01:37:23</td>\n",
              "      <td>HD678019</td>\n",
              "      <td>김영웅</td>\n",
              "      <td>2019-01-27 18:00</td>\n",
              "      <td>mifune_rokurou@example.com</td>\n",
              "      <td>M</td>\n",
              "      <td>73</td>\n",
              "      <td>1945-11-29</td>\n",
              "      <td>서울특별시</td>\n",
              "      <td>PC-A</td>\n",
              "      <td>50000</td>\n",
              "    </tr>\n",
              "    <tr>\n",
              "      <th>2</th>\n",
              "      <td>2</td>\n",
              "      <td>T0000000115</td>\n",
              "      <td>S003</td>\n",
              "      <td>1</td>\n",
              "      <td>2019-02-01 02:34:19</td>\n",
              "      <td>HD298120</td>\n",
              "      <td>김강현</td>\n",
              "      <td>2019-01-11 8:16</td>\n",
              "      <td>yamane_kogan@example.com</td>\n",
              "      <td>M</td>\n",
              "      <td>42</td>\n",
              "      <td>1977-05-17</td>\n",
              "      <td>광주광역시</td>\n",
              "      <td>PC-C</td>\n",
              "      <td>120000</td>\n",
              "    </tr>\n",
              "    <tr>\n",
              "      <th>3</th>\n",
              "      <td>3</td>\n",
              "      <td>T0000000116</td>\n",
              "      <td>S005</td>\n",
              "      <td>1</td>\n",
              "      <td>2019-02-01 02:47:23</td>\n",
              "      <td>IK452215</td>\n",
              "      <td>김주한</td>\n",
              "      <td>2019-01-10 5:07</td>\n",
              "      <td>ikeda_natsumi@example.com</td>\n",
              "      <td>F</td>\n",
              "      <td>47</td>\n",
              "      <td>1972-03-17</td>\n",
              "      <td>인천광역시</td>\n",
              "      <td>PC-E</td>\n",
              "      <td>210000</td>\n",
              "    </tr>\n",
              "    <tr>\n",
              "      <th>4</th>\n",
              "      <td>4</td>\n",
              "      <td>T0000000117</td>\n",
              "      <td>S002</td>\n",
              "      <td>2</td>\n",
              "      <td>2019-02-01 04:33:46</td>\n",
              "      <td>PL542865</td>\n",
              "      <td>김영빈</td>\n",
              "      <td>2019-01-25 6:46</td>\n",
              "      <td>kurita_kenichi@example.com</td>\n",
              "      <td>M</td>\n",
              "      <td>74</td>\n",
              "      <td>1944-12-17</td>\n",
              "      <td>광주광역시</td>\n",
              "      <td>PC-B</td>\n",
              "      <td>85000</td>\n",
              "    </tr>\n",
              "  </tbody>\n",
              "</table>\n",
              "</div>"
            ],
            "text/plain": [
              "   detail_id transaction_id item_id  ...   pref item_name item_price\n",
              "0          0    T0000000113    S005  ...  대전광역시      PC-E     210000\n",
              "1          1    T0000000114    S001  ...  서울특별시      PC-A      50000\n",
              "2          2    T0000000115    S003  ...  광주광역시      PC-C     120000\n",
              "3          3    T0000000116    S005  ...  인천광역시      PC-E     210000\n",
              "4          4    T0000000117    S002  ...  광주광역시      PC-B      85000\n",
              "\n",
              "[5 rows x 15 columns]"
            ]
          },
          "metadata": {},
          "execution_count": 49
        }
      ]
    },
    {
      "cell_type": "markdown",
      "source": [
        "## ***@결합의 영향으로 매출(price)이 사라졌기 때문에 다시 계산해야 합니다.@***"
      ],
      "metadata": {
        "id": "eoV4KSUuGJYE"
      }
    },
    {
      "cell_type": "markdown",
      "source": [
        "# **005/ 필요한 데이터 칼럼을 만들자**"
      ],
      "metadata": {
        "id": "ESnlAWk_GbO6"
      }
    },
    {
      "cell_type": "markdown",
      "source": [
        "### 매출은 quantity와 item_price의 곱을 계산해서 추가할 수 있습니다.\n",
        "- 계산후 확인을 위해 quantity,item_price, price 열의 처음 5행을 출력해 봅시다"
      ],
      "metadata": {
        "id": "7khJEUpTGiLy"
      }
    },
    {
      "cell_type": "code",
      "source": [
        "join_data['price'] = join_data['quantity'] * join_data['item_price']"
      ],
      "metadata": {
        "id": "Nm9qY2ENF1PV"
      },
      "execution_count": 50,
      "outputs": []
    },
    {
      "cell_type": "code",
      "source": [
        "join_data.head()"
      ],
      "metadata": {
        "colab": {
          "base_uri": "https://localhost:8080/",
          "height": 394
        },
        "id": "kXCkMhFNUMWh",
        "outputId": "0d8e8726-5a87-4425-87d7-25f487e719b4"
      },
      "execution_count": 51,
      "outputs": [
        {
          "output_type": "execute_result",
          "data": {
            "text/html": [
              "<div>\n",
              "<style scoped>\n",
              "    .dataframe tbody tr th:only-of-type {\n",
              "        vertical-align: middle;\n",
              "    }\n",
              "\n",
              "    .dataframe tbody tr th {\n",
              "        vertical-align: top;\n",
              "    }\n",
              "\n",
              "    .dataframe thead th {\n",
              "        text-align: right;\n",
              "    }\n",
              "</style>\n",
              "<table border=\"1\" class=\"dataframe\">\n",
              "  <thead>\n",
              "    <tr style=\"text-align: right;\">\n",
              "      <th></th>\n",
              "      <th>detail_id</th>\n",
              "      <th>transaction_id</th>\n",
              "      <th>item_id</th>\n",
              "      <th>quantity</th>\n",
              "      <th>payment_date</th>\n",
              "      <th>customer_id</th>\n",
              "      <th>customer_name</th>\n",
              "      <th>registration_date</th>\n",
              "      <th>email</th>\n",
              "      <th>gender</th>\n",
              "      <th>age</th>\n",
              "      <th>birth</th>\n",
              "      <th>pref</th>\n",
              "      <th>item_name</th>\n",
              "      <th>item_price</th>\n",
              "      <th>price</th>\n",
              "    </tr>\n",
              "  </thead>\n",
              "  <tbody>\n",
              "    <tr>\n",
              "      <th>0</th>\n",
              "      <td>0</td>\n",
              "      <td>T0000000113</td>\n",
              "      <td>S005</td>\n",
              "      <td>1</td>\n",
              "      <td>2019-02-01 01:36:57</td>\n",
              "      <td>PL563502</td>\n",
              "      <td>김태경</td>\n",
              "      <td>2019-01-07 14:34</td>\n",
              "      <td>imoto_yoshimasa@example.com</td>\n",
              "      <td>M</td>\n",
              "      <td>30</td>\n",
              "      <td>1989-07-15</td>\n",
              "      <td>대전광역시</td>\n",
              "      <td>PC-E</td>\n",
              "      <td>210000</td>\n",
              "      <td>210000</td>\n",
              "    </tr>\n",
              "    <tr>\n",
              "      <th>1</th>\n",
              "      <td>1</td>\n",
              "      <td>T0000000114</td>\n",
              "      <td>S001</td>\n",
              "      <td>1</td>\n",
              "      <td>2019-02-01 01:37:23</td>\n",
              "      <td>HD678019</td>\n",
              "      <td>김영웅</td>\n",
              "      <td>2019-01-27 18:00</td>\n",
              "      <td>mifune_rokurou@example.com</td>\n",
              "      <td>M</td>\n",
              "      <td>73</td>\n",
              "      <td>1945-11-29</td>\n",
              "      <td>서울특별시</td>\n",
              "      <td>PC-A</td>\n",
              "      <td>50000</td>\n",
              "      <td>50000</td>\n",
              "    </tr>\n",
              "    <tr>\n",
              "      <th>2</th>\n",
              "      <td>2</td>\n",
              "      <td>T0000000115</td>\n",
              "      <td>S003</td>\n",
              "      <td>1</td>\n",
              "      <td>2019-02-01 02:34:19</td>\n",
              "      <td>HD298120</td>\n",
              "      <td>김강현</td>\n",
              "      <td>2019-01-11 8:16</td>\n",
              "      <td>yamane_kogan@example.com</td>\n",
              "      <td>M</td>\n",
              "      <td>42</td>\n",
              "      <td>1977-05-17</td>\n",
              "      <td>광주광역시</td>\n",
              "      <td>PC-C</td>\n",
              "      <td>120000</td>\n",
              "      <td>120000</td>\n",
              "    </tr>\n",
              "    <tr>\n",
              "      <th>3</th>\n",
              "      <td>3</td>\n",
              "      <td>T0000000116</td>\n",
              "      <td>S005</td>\n",
              "      <td>1</td>\n",
              "      <td>2019-02-01 02:47:23</td>\n",
              "      <td>IK452215</td>\n",
              "      <td>김주한</td>\n",
              "      <td>2019-01-10 5:07</td>\n",
              "      <td>ikeda_natsumi@example.com</td>\n",
              "      <td>F</td>\n",
              "      <td>47</td>\n",
              "      <td>1972-03-17</td>\n",
              "      <td>인천광역시</td>\n",
              "      <td>PC-E</td>\n",
              "      <td>210000</td>\n",
              "      <td>210000</td>\n",
              "    </tr>\n",
              "    <tr>\n",
              "      <th>4</th>\n",
              "      <td>4</td>\n",
              "      <td>T0000000117</td>\n",
              "      <td>S002</td>\n",
              "      <td>2</td>\n",
              "      <td>2019-02-01 04:33:46</td>\n",
              "      <td>PL542865</td>\n",
              "      <td>김영빈</td>\n",
              "      <td>2019-01-25 6:46</td>\n",
              "      <td>kurita_kenichi@example.com</td>\n",
              "      <td>M</td>\n",
              "      <td>74</td>\n",
              "      <td>1944-12-17</td>\n",
              "      <td>광주광역시</td>\n",
              "      <td>PC-B</td>\n",
              "      <td>85000</td>\n",
              "      <td>170000</td>\n",
              "    </tr>\n",
              "  </tbody>\n",
              "</table>\n",
              "</div>"
            ],
            "text/plain": [
              "   detail_id transaction_id item_id  ...  item_name item_price   price\n",
              "0          0    T0000000113    S005  ...       PC-E     210000  210000\n",
              "1          1    T0000000114    S001  ...       PC-A      50000   50000\n",
              "2          2    T0000000115    S003  ...       PC-C     120000  120000\n",
              "3          3    T0000000116    S005  ...       PC-E     210000  210000\n",
              "4          4    T0000000117    S002  ...       PC-B      85000  170000\n",
              "\n",
              "[5 rows x 16 columns]"
            ]
          },
          "metadata": {},
          "execution_count": 51
        }
      ]
    },
    {
      "cell_type": "code",
      "source": [
        "join_data[['quantity','item_price', 'price']].head()"
      ],
      "metadata": {
        "colab": {
          "base_uri": "https://localhost:8080/",
          "height": 204
        },
        "id": "BhD6PucVUPnS",
        "outputId": "cd1b8e91-252d-47fb-bebd-5109e9f830b7"
      },
      "execution_count": 52,
      "outputs": [
        {
          "output_type": "execute_result",
          "data": {
            "text/html": [
              "<div>\n",
              "<style scoped>\n",
              "    .dataframe tbody tr th:only-of-type {\n",
              "        vertical-align: middle;\n",
              "    }\n",
              "\n",
              "    .dataframe tbody tr th {\n",
              "        vertical-align: top;\n",
              "    }\n",
              "\n",
              "    .dataframe thead th {\n",
              "        text-align: right;\n",
              "    }\n",
              "</style>\n",
              "<table border=\"1\" class=\"dataframe\">\n",
              "  <thead>\n",
              "    <tr style=\"text-align: right;\">\n",
              "      <th></th>\n",
              "      <th>quantity</th>\n",
              "      <th>item_price</th>\n",
              "      <th>price</th>\n",
              "    </tr>\n",
              "  </thead>\n",
              "  <tbody>\n",
              "    <tr>\n",
              "      <th>0</th>\n",
              "      <td>1</td>\n",
              "      <td>210000</td>\n",
              "      <td>210000</td>\n",
              "    </tr>\n",
              "    <tr>\n",
              "      <th>1</th>\n",
              "      <td>1</td>\n",
              "      <td>50000</td>\n",
              "      <td>50000</td>\n",
              "    </tr>\n",
              "    <tr>\n",
              "      <th>2</th>\n",
              "      <td>1</td>\n",
              "      <td>120000</td>\n",
              "      <td>120000</td>\n",
              "    </tr>\n",
              "    <tr>\n",
              "      <th>3</th>\n",
              "      <td>1</td>\n",
              "      <td>210000</td>\n",
              "      <td>210000</td>\n",
              "    </tr>\n",
              "    <tr>\n",
              "      <th>4</th>\n",
              "      <td>2</td>\n",
              "      <td>85000</td>\n",
              "      <td>170000</td>\n",
              "    </tr>\n",
              "  </tbody>\n",
              "</table>\n",
              "</div>"
            ],
            "text/plain": [
              "   quantity  item_price   price\n",
              "0         1      210000  210000\n",
              "1         1       50000   50000\n",
              "2         1      120000  120000\n",
              "3         1      210000  210000\n",
              "4         2       85000  170000"
            ]
          },
          "metadata": {},
          "execution_count": 52
        }
      ]
    },
    {
      "cell_type": "markdown",
      "source": [
        "### 이렇게 해서 일련의 데이터 가공이 완료됐습니다.\n",
        "- 데이터 가공은 한번 잘못하면 집계 실수로 인해 수치상 에러가 생깁니다.\n",
        "- 잘못된 데이터를 제공하는 것은 회사이 경영에 막대한 영향을 미치며 최악의 경우 회사를 망하게 할 수도 있습니다.\n",
        "- 데이터로 말하는 데이터 사이언티스트가 잘못된 데이터를 제공하면 고객의 신뢰를 잃게 됩니다.\n",
        "- 데이터를 결합할 때는 신중히 개수를 확인해야 합니다.\n",
        "- 되도록 검산이 가능한 데이터 칼럼을 찾고 계산합니다.\n",
        "  - 이번 사례는 price칼럼을 이용하면 간단히 데이터 검산이 가능할 것 같으니 검산해 봅시다."
      ],
      "metadata": {
        "id": "_J6e91rZU3EE"
      }
    },
    {
      "cell_type": "markdown",
      "source": [
        "# **006/ 데이터를 검산학자**"
      ],
      "metadata": {
        "id": "3ODP9nQSWE8I"
      }
    },
    {
      "cell_type": "markdown",
      "source": [
        "### 데이터 가공전 transaction의 price 총합과 데이터 가공 후에 계산한 price의 총합은 같은 값일 것입니다.\n",
        "- 세세하게 데이터를 살펴보는 경우도 있지만,이번에는 간단히 각각의 price총합을 확인해 봅시다"
      ],
      "metadata": {
        "id": "DSCOW7WQWKx_"
      }
    },
    {
      "cell_type": "code",
      "source": [
        "print(join_data['price'].sum())\n",
        "print(transaction['price'].sum())"
      ],
      "metadata": {
        "colab": {
          "base_uri": "https://localhost:8080/"
        },
        "id": "icbqVfmMUhOI",
        "outputId": "94b487f3-e4b9-4b80-d89c-6647b2402a2c"
      },
      "execution_count": 53,
      "outputs": [
        {
          "output_type": "stream",
          "name": "stdout",
          "text": [
            "971135000\n",
            "971135000\n"
          ]
        }
      ]
    },
    {
      "cell_type": "code",
      "source": [
        "join_data['price'].sum() == transaction['price'].sum()"
      ],
      "metadata": {
        "colab": {
          "base_uri": "https://localhost:8080/"
        },
        "id": "xReJapEQW02u",
        "outputId": "f3abf677-9eb6-4fc7-893c-3e27bb5d8b42"
      },
      "execution_count": 54,
      "outputs": [
        {
          "output_type": "execute_result",
          "data": {
            "text/plain": [
              "True"
            ]
          },
          "metadata": {},
          "execution_count": 54
        }
      ]
    },
    {
      "cell_type": "markdown",
      "source": [
        "### 이것으로 데이터 검산도 무사히 마쳤습니다.틀린 데이터로 분석하지 않게 데이터 가공 후 검산은 항상 신경 써야 합니다"
      ],
      "metadata": {
        "id": "IWoNE-E-XPLc"
      }
    },
    {
      "cell_type": "markdown",
      "source": [
        "# **007/ 각종 통계량을 파악하기**"
      ],
      "metadata": {
        "id": "AsOaGcHPXfkj"
      }
    },
    {
      "cell_type": "markdown",
      "source": [
        "### 데이터 분석을 진행할 때는 크게 두 가지 숫자를 파악해야 합니다\n",
        "- 첫번째는 결손치의 개수\n",
        "- 두번째는 전체를 파악할 수 있는 숫자감입니다\n",
        "  - 데이터에는 항상 결손치가 포함될 가능성이 있습니다.결손치는 계산이나 머신러닝의 결과에 큰 영향을 미치기 때문에 숫자를 파악해두고 제거하거나 보간해야 합니다."
      ],
      "metadata": {
        "id": "8JpEV0XzXoGD"
      }
    },
    {
      "cell_type": "code",
      "source": [
        "join_data.isnull().sum()"
      ],
      "metadata": {
        "colab": {
          "base_uri": "https://localhost:8080/"
        },
        "id": "ldEpVu9nXMsu",
        "outputId": "bf38d981-6bf7-4a0b-e14d-e7241472f60a"
      },
      "execution_count": 55,
      "outputs": [
        {
          "output_type": "execute_result",
          "data": {
            "text/plain": [
              "detail_id            0\n",
              "transaction_id       0\n",
              "item_id              0\n",
              "quantity             0\n",
              "payment_date         0\n",
              "customer_id          0\n",
              "customer_name        0\n",
              "registration_date    0\n",
              "email                0\n",
              "gender               0\n",
              "age                  0\n",
              "birth                0\n",
              "pref                 0\n",
              "item_name            0\n",
              "item_price           0\n",
              "price                0\n",
              "dtype: int64"
            ]
          },
          "metadata": {},
          "execution_count": 55
        }
      ]
    },
    {
      "cell_type": "code",
      "source": [
        "join_data.describe()"
      ],
      "metadata": {
        "colab": {
          "base_uri": "https://localhost:8080/",
          "height": 297
        },
        "id": "WssR-N6SYpgl",
        "outputId": "6bf152cd-a4a4-456d-ddd1-f0c9f2fe6145"
      },
      "execution_count": 56,
      "outputs": [
        {
          "output_type": "execute_result",
          "data": {
            "text/html": [
              "<div>\n",
              "<style scoped>\n",
              "    .dataframe tbody tr th:only-of-type {\n",
              "        vertical-align: middle;\n",
              "    }\n",
              "\n",
              "    .dataframe tbody tr th {\n",
              "        vertical-align: top;\n",
              "    }\n",
              "\n",
              "    .dataframe thead th {\n",
              "        text-align: right;\n",
              "    }\n",
              "</style>\n",
              "<table border=\"1\" class=\"dataframe\">\n",
              "  <thead>\n",
              "    <tr style=\"text-align: right;\">\n",
              "      <th></th>\n",
              "      <th>detail_id</th>\n",
              "      <th>quantity</th>\n",
              "      <th>age</th>\n",
              "      <th>item_price</th>\n",
              "      <th>price</th>\n",
              "    </tr>\n",
              "  </thead>\n",
              "  <tbody>\n",
              "    <tr>\n",
              "      <th>count</th>\n",
              "      <td>7144.000000</td>\n",
              "      <td>7144.000000</td>\n",
              "      <td>7144.000000</td>\n",
              "      <td>7144.000000</td>\n",
              "      <td>7144.000000</td>\n",
              "    </tr>\n",
              "    <tr>\n",
              "      <th>mean</th>\n",
              "      <td>3571.500000</td>\n",
              "      <td>1.199888</td>\n",
              "      <td>50.265677</td>\n",
              "      <td>121698.628219</td>\n",
              "      <td>135937.150056</td>\n",
              "    </tr>\n",
              "    <tr>\n",
              "      <th>std</th>\n",
              "      <td>2062.439494</td>\n",
              "      <td>0.513647</td>\n",
              "      <td>17.190314</td>\n",
              "      <td>64571.311830</td>\n",
              "      <td>68511.453297</td>\n",
              "    </tr>\n",
              "    <tr>\n",
              "      <th>min</th>\n",
              "      <td>0.000000</td>\n",
              "      <td>1.000000</td>\n",
              "      <td>20.000000</td>\n",
              "      <td>50000.000000</td>\n",
              "      <td>50000.000000</td>\n",
              "    </tr>\n",
              "    <tr>\n",
              "      <th>25%</th>\n",
              "      <td>1785.750000</td>\n",
              "      <td>1.000000</td>\n",
              "      <td>36.000000</td>\n",
              "      <td>50000.000000</td>\n",
              "      <td>85000.000000</td>\n",
              "    </tr>\n",
              "    <tr>\n",
              "      <th>50%</th>\n",
              "      <td>3571.500000</td>\n",
              "      <td>1.000000</td>\n",
              "      <td>50.000000</td>\n",
              "      <td>102500.000000</td>\n",
              "      <td>120000.000000</td>\n",
              "    </tr>\n",
              "    <tr>\n",
              "      <th>75%</th>\n",
              "      <td>5357.250000</td>\n",
              "      <td>1.000000</td>\n",
              "      <td>65.000000</td>\n",
              "      <td>187500.000000</td>\n",
              "      <td>210000.000000</td>\n",
              "    </tr>\n",
              "    <tr>\n",
              "      <th>max</th>\n",
              "      <td>7143.000000</td>\n",
              "      <td>4.000000</td>\n",
              "      <td>80.000000</td>\n",
              "      <td>210000.000000</td>\n",
              "      <td>420000.000000</td>\n",
              "    </tr>\n",
              "  </tbody>\n",
              "</table>\n",
              "</div>"
            ],
            "text/plain": [
              "         detail_id     quantity          age     item_price          price\n",
              "count  7144.000000  7144.000000  7144.000000    7144.000000    7144.000000\n",
              "mean   3571.500000     1.199888    50.265677  121698.628219  135937.150056\n",
              "std    2062.439494     0.513647    17.190314   64571.311830   68511.453297\n",
              "min       0.000000     1.000000    20.000000   50000.000000   50000.000000\n",
              "25%    1785.750000     1.000000    36.000000   50000.000000   85000.000000\n",
              "50%    3571.500000     1.000000    50.000000  102500.000000  120000.000000\n",
              "75%    5357.250000     1.000000    65.000000  187500.000000  210000.000000\n",
              "max    7143.000000     4.000000    80.000000  210000.000000  420000.000000"
            ]
          },
          "metadata": {},
          "execution_count": 56
        }
      ]
    },
    {
      "cell_type": "markdown",
      "source": [
        "### 각조 통계량 \n",
        "- describe()를 이용하면 데이터 개수(count), 평균값(mean),표준편차(std), 최솟값(min), 사분위수(25%, 75%), 중앙값(50%), 최댓값(max) 을 간단히 출력할 수 있습니다.\n",
        "  - price를 보면, 평균이 135,937원 입니다. \n",
        "  - 가장 비싼 금액은 420,000원인데 ,이것은 단가 210,000원인 pc를 2대 산 유저가 있다고 생각할 수 있습니다.\n",
        "  - quantity를 보면 가장 큰 수가 4 이고 75%가 1이기 때문에 대부분의 고객이 pc 한 대를 구입한다는 것을 알 수 있습니다.\n",
        "  - age는 20살부터 80살 까지의 범위인 것을 알 수 있습니다"
      ],
      "metadata": {
        "id": "Qsj9xxTVZGeL"
      }
    },
    {
      "cell_type": "code",
      "source": [
        "print(join_data['payment_date'].min())\n",
        "print(join_data['payment_date'].max())"
      ],
      "metadata": {
        "colab": {
          "base_uri": "https://localhost:8080/"
        },
        "id": "bg4BGBdRYs1X",
        "outputId": "bb2a1952-2ba4-4c44-a32c-64713a2334a3"
      },
      "execution_count": 57,
      "outputs": [
        {
          "output_type": "stream",
          "name": "stdout",
          "text": [
            "2019-02-01 01:36:57\n",
            "2019-07-31 23:41:38\n"
          ]
        }
      ]
    },
    {
      "cell_type": "markdown",
      "source": [
        "# **008/ 월별로 데이터를 집계해 보자**"
      ],
      "metadata": {
        "id": "B-0gcl4XbMf9"
      }
    },
    {
      "cell_type": "markdown",
      "source": [
        "### 전체적으로 매출이 늘어나고 있는지 줄어들고 있는지를 파악하는 것이 분석의 첫걸음이라고 할 수 있습니다.\n",
        "- 월별로 집계해서 표시해 보겠습니다.\n",
        "- 구입일인 payment_date에서 연월을 추출해서 새롭게 칼럼을 작성한 후 연월 단위로 price를 지계해서 표시합니다"
      ],
      "metadata": {
        "id": "NWjIK8LybVRc"
      }
    },
    {
      "cell_type": "code",
      "source": [
        "join_data.dtypes"
      ],
      "metadata": {
        "colab": {
          "base_uri": "https://localhost:8080/"
        },
        "id": "gGoDJoD9a6Zo",
        "outputId": "f5d0979a-d649-4bf4-cfab-e52af382938a"
      },
      "execution_count": 58,
      "outputs": [
        {
          "output_type": "execute_result",
          "data": {
            "text/plain": [
              "detail_id             int64\n",
              "transaction_id       object\n",
              "item_id              object\n",
              "quantity              int64\n",
              "payment_date         object\n",
              "customer_id          object\n",
              "customer_name        object\n",
              "registration_date    object\n",
              "email                object\n",
              "gender               object\n",
              "age                   int64\n",
              "birth                object\n",
              "pref                 object\n",
              "item_name            object\n",
              "item_price            int64\n",
              "price                 int64\n",
              "dtype: object"
            ]
          },
          "metadata": {},
          "execution_count": 58
        }
      ]
    },
    {
      "cell_type": "markdown",
      "source": [
        "### 이번에 가공할 데이터는 payment_date로 , object형입니다. 그대로 문자열로 다룰 수도 있지만, 향후 편의를 위해 datetime형으로 변환해서 연월 카럼을 작성합니다"
      ],
      "metadata": {
        "id": "lSH6J-M8cpob"
      }
    },
    {
      "cell_type": "code",
      "source": [
        "join_data['payment_date'] = pd.to_datetime(join_data['payment_date'])\n",
        "join_data['payment_month'] = join_data['payment_date'].dt.strftime('%Y%m')\n",
        "join_data[['payment_date', 'payment_month']].head()"
      ],
      "metadata": {
        "colab": {
          "base_uri": "https://localhost:8080/",
          "height": 204
        },
        "id": "m_pOShIOcYmm",
        "outputId": "bffa6d95-ea6b-465d-f4ba-79cbdd39a42e"
      },
      "execution_count": 59,
      "outputs": [
        {
          "output_type": "execute_result",
          "data": {
            "text/html": [
              "<div>\n",
              "<style scoped>\n",
              "    .dataframe tbody tr th:only-of-type {\n",
              "        vertical-align: middle;\n",
              "    }\n",
              "\n",
              "    .dataframe tbody tr th {\n",
              "        vertical-align: top;\n",
              "    }\n",
              "\n",
              "    .dataframe thead th {\n",
              "        text-align: right;\n",
              "    }\n",
              "</style>\n",
              "<table border=\"1\" class=\"dataframe\">\n",
              "  <thead>\n",
              "    <tr style=\"text-align: right;\">\n",
              "      <th></th>\n",
              "      <th>payment_date</th>\n",
              "      <th>payment_month</th>\n",
              "    </tr>\n",
              "  </thead>\n",
              "  <tbody>\n",
              "    <tr>\n",
              "      <th>0</th>\n",
              "      <td>2019-02-01 01:36:57</td>\n",
              "      <td>201902</td>\n",
              "    </tr>\n",
              "    <tr>\n",
              "      <th>1</th>\n",
              "      <td>2019-02-01 01:37:23</td>\n",
              "      <td>201902</td>\n",
              "    </tr>\n",
              "    <tr>\n",
              "      <th>2</th>\n",
              "      <td>2019-02-01 02:34:19</td>\n",
              "      <td>201902</td>\n",
              "    </tr>\n",
              "    <tr>\n",
              "      <th>3</th>\n",
              "      <td>2019-02-01 02:47:23</td>\n",
              "      <td>201902</td>\n",
              "    </tr>\n",
              "    <tr>\n",
              "      <th>4</th>\n",
              "      <td>2019-02-01 04:33:46</td>\n",
              "      <td>201902</td>\n",
              "    </tr>\n",
              "  </tbody>\n",
              "</table>\n",
              "</div>"
            ],
            "text/plain": [
              "         payment_date payment_month\n",
              "0 2019-02-01 01:36:57        201902\n",
              "1 2019-02-01 01:37:23        201902\n",
              "2 2019-02-01 02:34:19        201902\n",
              "3 2019-02-01 02:47:23        201902\n",
              "4 2019-02-01 04:33:46        201902"
            ]
          },
          "metadata": {},
          "execution_count": 59
        }
      ]
    },
    {
      "cell_type": "markdown",
      "source": [
        "### 연월 칼럼 작성 결고\n",
        "- 1행에서 datetime형으로 변환\n",
        "- 2행에서 새로운 칼럼 payment_month를 연월 단위로 작성합니다\n",
        "- pandas의 dt를 사용하면 년,월의 추출이 가능합니다\n",
        "- strftime 을 사용해 연월을 작성합니다"
      ],
      "metadata": {
        "id": "eEuUaHafeqBw"
      }
    },
    {
      "cell_type": "code",
      "source": [
        "join_data.groupby('payment_month').sum()['price']"
      ],
      "metadata": {
        "colab": {
          "base_uri": "https://localhost:8080/"
        },
        "id": "JaAoo1I1eN6e",
        "outputId": "a72ec8ff-3a5f-487e-f835-957812436cf0"
      },
      "execution_count": 60,
      "outputs": [
        {
          "output_type": "execute_result",
          "data": {
            "text/plain": [
              "payment_month\n",
              "201902    160185000\n",
              "201903    160370000\n",
              "201904    160510000\n",
              "201905    155420000\n",
              "201906    164030000\n",
              "201907    170620000\n",
              "Name: price, dtype: int64"
            ]
          },
          "metadata": {},
          "execution_count": 60
        }
      ]
    },
    {
      "cell_type": "markdown",
      "source": [
        "### 월별 매출 집계 결과\n",
        "- groupby는 집계하고 싶은 칼럼(payment_month)과 집계 방법(sum)을 기술 합니다\n",
        "- price만 표시하기 위해 마지막에 price컬럼을 지정했습니다."
      ],
      "metadata": {
        "id": "tLv3n-AofqLl"
      }
    },
    {
      "cell_type": "markdown",
      "source": [
        "# **009/ 월별, 상품별로 데이터를 집계해 보자**"
      ],
      "metadata": {
        "id": "ysr4UOfmgI0m"
      }
    },
    {
      "cell_type": "markdown",
      "source": [
        "### 월별, 상품별로 매출의 합계, 수량을 표시해 봅시다. groupby를 사용해 집계합니다"
      ],
      "metadata": {
        "id": "tjUUH1H7gUVo"
      }
    },
    {
      "cell_type": "code",
      "source": [
        "join_data.groupby(['payment_month', 'item_name']).sum()[['price','quantity']]"
      ],
      "metadata": {
        "colab": {
          "base_uri": "https://localhost:8080/",
          "height": 1000
        },
        "id": "kEhrWNJKfjqu",
        "outputId": "4cf608a5-a726-4bba-ee29-4a2f17b8cb76"
      },
      "execution_count": 61,
      "outputs": [
        {
          "output_type": "execute_result",
          "data": {
            "text/html": [
              "<div>\n",
              "<style scoped>\n",
              "    .dataframe tbody tr th:only-of-type {\n",
              "        vertical-align: middle;\n",
              "    }\n",
              "\n",
              "    .dataframe tbody tr th {\n",
              "        vertical-align: top;\n",
              "    }\n",
              "\n",
              "    .dataframe thead th {\n",
              "        text-align: right;\n",
              "    }\n",
              "</style>\n",
              "<table border=\"1\" class=\"dataframe\">\n",
              "  <thead>\n",
              "    <tr style=\"text-align: right;\">\n",
              "      <th></th>\n",
              "      <th></th>\n",
              "      <th>price</th>\n",
              "      <th>quantity</th>\n",
              "    </tr>\n",
              "    <tr>\n",
              "      <th>payment_month</th>\n",
              "      <th>item_name</th>\n",
              "      <th></th>\n",
              "      <th></th>\n",
              "    </tr>\n",
              "  </thead>\n",
              "  <tbody>\n",
              "    <tr>\n",
              "      <th rowspan=\"5\" valign=\"top\">201902</th>\n",
              "      <th>PC-A</th>\n",
              "      <td>24150000</td>\n",
              "      <td>483</td>\n",
              "    </tr>\n",
              "    <tr>\n",
              "      <th>PC-B</th>\n",
              "      <td>25245000</td>\n",
              "      <td>297</td>\n",
              "    </tr>\n",
              "    <tr>\n",
              "      <th>PC-C</th>\n",
              "      <td>19800000</td>\n",
              "      <td>165</td>\n",
              "    </tr>\n",
              "    <tr>\n",
              "      <th>PC-D</th>\n",
              "      <td>31140000</td>\n",
              "      <td>173</td>\n",
              "    </tr>\n",
              "    <tr>\n",
              "      <th>PC-E</th>\n",
              "      <td>59850000</td>\n",
              "      <td>285</td>\n",
              "    </tr>\n",
              "    <tr>\n",
              "      <th rowspan=\"5\" valign=\"top\">201903</th>\n",
              "      <th>PC-A</th>\n",
              "      <td>26000000</td>\n",
              "      <td>520</td>\n",
              "    </tr>\n",
              "    <tr>\n",
              "      <th>PC-B</th>\n",
              "      <td>25500000</td>\n",
              "      <td>300</td>\n",
              "    </tr>\n",
              "    <tr>\n",
              "      <th>PC-C</th>\n",
              "      <td>19080000</td>\n",
              "      <td>159</td>\n",
              "    </tr>\n",
              "    <tr>\n",
              "      <th>PC-D</th>\n",
              "      <td>25740000</td>\n",
              "      <td>143</td>\n",
              "    </tr>\n",
              "    <tr>\n",
              "      <th>PC-E</th>\n",
              "      <td>64050000</td>\n",
              "      <td>305</td>\n",
              "    </tr>\n",
              "    <tr>\n",
              "      <th rowspan=\"5\" valign=\"top\">201904</th>\n",
              "      <th>PC-A</th>\n",
              "      <td>25900000</td>\n",
              "      <td>518</td>\n",
              "    </tr>\n",
              "    <tr>\n",
              "      <th>PC-B</th>\n",
              "      <td>23460000</td>\n",
              "      <td>276</td>\n",
              "    </tr>\n",
              "    <tr>\n",
              "      <th>PC-C</th>\n",
              "      <td>21960000</td>\n",
              "      <td>183</td>\n",
              "    </tr>\n",
              "    <tr>\n",
              "      <th>PC-D</th>\n",
              "      <td>24300000</td>\n",
              "      <td>135</td>\n",
              "    </tr>\n",
              "    <tr>\n",
              "      <th>PC-E</th>\n",
              "      <td>64890000</td>\n",
              "      <td>309</td>\n",
              "    </tr>\n",
              "    <tr>\n",
              "      <th rowspan=\"5\" valign=\"top\">201905</th>\n",
              "      <th>PC-A</th>\n",
              "      <td>24850000</td>\n",
              "      <td>497</td>\n",
              "    </tr>\n",
              "    <tr>\n",
              "      <th>PC-B</th>\n",
              "      <td>25330000</td>\n",
              "      <td>298</td>\n",
              "    </tr>\n",
              "    <tr>\n",
              "      <th>PC-C</th>\n",
              "      <td>20520000</td>\n",
              "      <td>171</td>\n",
              "    </tr>\n",
              "    <tr>\n",
              "      <th>PC-D</th>\n",
              "      <td>25920000</td>\n",
              "      <td>144</td>\n",
              "    </tr>\n",
              "    <tr>\n",
              "      <th>PC-E</th>\n",
              "      <td>58800000</td>\n",
              "      <td>280</td>\n",
              "    </tr>\n",
              "    <tr>\n",
              "      <th rowspan=\"5\" valign=\"top\">201906</th>\n",
              "      <th>PC-A</th>\n",
              "      <td>26000000</td>\n",
              "      <td>520</td>\n",
              "    </tr>\n",
              "    <tr>\n",
              "      <th>PC-B</th>\n",
              "      <td>23970000</td>\n",
              "      <td>282</td>\n",
              "    </tr>\n",
              "    <tr>\n",
              "      <th>PC-C</th>\n",
              "      <td>21840000</td>\n",
              "      <td>182</td>\n",
              "    </tr>\n",
              "    <tr>\n",
              "      <th>PC-D</th>\n",
              "      <td>28800000</td>\n",
              "      <td>160</td>\n",
              "    </tr>\n",
              "    <tr>\n",
              "      <th>PC-E</th>\n",
              "      <td>63420000</td>\n",
              "      <td>302</td>\n",
              "    </tr>\n",
              "    <tr>\n",
              "      <th rowspan=\"5\" valign=\"top\">201907</th>\n",
              "      <th>PC-A</th>\n",
              "      <td>25250000</td>\n",
              "      <td>505</td>\n",
              "    </tr>\n",
              "    <tr>\n",
              "      <th>PC-B</th>\n",
              "      <td>28220000</td>\n",
              "      <td>332</td>\n",
              "    </tr>\n",
              "    <tr>\n",
              "      <th>PC-C</th>\n",
              "      <td>19440000</td>\n",
              "      <td>162</td>\n",
              "    </tr>\n",
              "    <tr>\n",
              "      <th>PC-D</th>\n",
              "      <td>26100000</td>\n",
              "      <td>145</td>\n",
              "    </tr>\n",
              "    <tr>\n",
              "      <th>PC-E</th>\n",
              "      <td>71610000</td>\n",
              "      <td>341</td>\n",
              "    </tr>\n",
              "  </tbody>\n",
              "</table>\n",
              "</div>"
            ],
            "text/plain": [
              "                            price  quantity\n",
              "payment_month item_name                    \n",
              "201902        PC-A       24150000       483\n",
              "              PC-B       25245000       297\n",
              "              PC-C       19800000       165\n",
              "              PC-D       31140000       173\n",
              "              PC-E       59850000       285\n",
              "201903        PC-A       26000000       520\n",
              "              PC-B       25500000       300\n",
              "              PC-C       19080000       159\n",
              "              PC-D       25740000       143\n",
              "              PC-E       64050000       305\n",
              "201904        PC-A       25900000       518\n",
              "              PC-B       23460000       276\n",
              "              PC-C       21960000       183\n",
              "              PC-D       24300000       135\n",
              "              PC-E       64890000       309\n",
              "201905        PC-A       24850000       497\n",
              "              PC-B       25330000       298\n",
              "              PC-C       20520000       171\n",
              "              PC-D       25920000       144\n",
              "              PC-E       58800000       280\n",
              "201906        PC-A       26000000       520\n",
              "              PC-B       23970000       282\n",
              "              PC-C       21840000       182\n",
              "              PC-D       28800000       160\n",
              "              PC-E       63420000       302\n",
              "201907        PC-A       25250000       505\n",
              "              PC-B       28220000       332\n",
              "              PC-C       19440000       162\n",
              "              PC-D       26100000       145\n",
              "              PC-E       71610000       341"
            ]
          },
          "metadata": {},
          "execution_count": 61
        }
      ]
    },
    {
      "cell_type": "markdown",
      "source": [
        "### 코드를 실행하면 월별, 상품별로 price와 quantity의 집계 결과가 표시됩니다.groupby에서 출력하고 싶은 칼럼이 여러 개 있을 경우, 리스트형으로 지정하면 됩니다.\n",
        "- 출력 결과가 직관적으로 이해하기 어려우니 pivot_toble을 사용해 다시 집계해 봅니다"
      ],
      "metadata": {
        "id": "ELR84Jmm1FJi"
      }
    },
    {
      "cell_type": "code",
      "source": [
        "pd.pivot_table(join_data, index='item_name', columns='payment_month', values=['price','quantity'],aggfunc='sum')"
      ],
      "metadata": {
        "colab": {
          "base_uri": "https://localhost:8080/",
          "height": 266
        },
        "id": "_XUnRfnI0vC7",
        "outputId": "e3a8cbc6-5ec5-4040-afa4-4a24d729a297"
      },
      "execution_count": 62,
      "outputs": [
        {
          "output_type": "execute_result",
          "data": {
            "text/html": [
              "<div>\n",
              "<style scoped>\n",
              "    .dataframe tbody tr th:only-of-type {\n",
              "        vertical-align: middle;\n",
              "    }\n",
              "\n",
              "    .dataframe tbody tr th {\n",
              "        vertical-align: top;\n",
              "    }\n",
              "\n",
              "    .dataframe thead tr th {\n",
              "        text-align: left;\n",
              "    }\n",
              "\n",
              "    .dataframe thead tr:last-of-type th {\n",
              "        text-align: right;\n",
              "    }\n",
              "</style>\n",
              "<table border=\"1\" class=\"dataframe\">\n",
              "  <thead>\n",
              "    <tr>\n",
              "      <th></th>\n",
              "      <th colspan=\"6\" halign=\"left\">price</th>\n",
              "      <th colspan=\"6\" halign=\"left\">quantity</th>\n",
              "    </tr>\n",
              "    <tr>\n",
              "      <th>payment_month</th>\n",
              "      <th>201902</th>\n",
              "      <th>201903</th>\n",
              "      <th>201904</th>\n",
              "      <th>201905</th>\n",
              "      <th>201906</th>\n",
              "      <th>201907</th>\n",
              "      <th>201902</th>\n",
              "      <th>201903</th>\n",
              "      <th>201904</th>\n",
              "      <th>201905</th>\n",
              "      <th>201906</th>\n",
              "      <th>201907</th>\n",
              "    </tr>\n",
              "    <tr>\n",
              "      <th>item_name</th>\n",
              "      <th></th>\n",
              "      <th></th>\n",
              "      <th></th>\n",
              "      <th></th>\n",
              "      <th></th>\n",
              "      <th></th>\n",
              "      <th></th>\n",
              "      <th></th>\n",
              "      <th></th>\n",
              "      <th></th>\n",
              "      <th></th>\n",
              "      <th></th>\n",
              "    </tr>\n",
              "  </thead>\n",
              "  <tbody>\n",
              "    <tr>\n",
              "      <th>PC-A</th>\n",
              "      <td>24150000</td>\n",
              "      <td>26000000</td>\n",
              "      <td>25900000</td>\n",
              "      <td>24850000</td>\n",
              "      <td>26000000</td>\n",
              "      <td>25250000</td>\n",
              "      <td>483</td>\n",
              "      <td>520</td>\n",
              "      <td>518</td>\n",
              "      <td>497</td>\n",
              "      <td>520</td>\n",
              "      <td>505</td>\n",
              "    </tr>\n",
              "    <tr>\n",
              "      <th>PC-B</th>\n",
              "      <td>25245000</td>\n",
              "      <td>25500000</td>\n",
              "      <td>23460000</td>\n",
              "      <td>25330000</td>\n",
              "      <td>23970000</td>\n",
              "      <td>28220000</td>\n",
              "      <td>297</td>\n",
              "      <td>300</td>\n",
              "      <td>276</td>\n",
              "      <td>298</td>\n",
              "      <td>282</td>\n",
              "      <td>332</td>\n",
              "    </tr>\n",
              "    <tr>\n",
              "      <th>PC-C</th>\n",
              "      <td>19800000</td>\n",
              "      <td>19080000</td>\n",
              "      <td>21960000</td>\n",
              "      <td>20520000</td>\n",
              "      <td>21840000</td>\n",
              "      <td>19440000</td>\n",
              "      <td>165</td>\n",
              "      <td>159</td>\n",
              "      <td>183</td>\n",
              "      <td>171</td>\n",
              "      <td>182</td>\n",
              "      <td>162</td>\n",
              "    </tr>\n",
              "    <tr>\n",
              "      <th>PC-D</th>\n",
              "      <td>31140000</td>\n",
              "      <td>25740000</td>\n",
              "      <td>24300000</td>\n",
              "      <td>25920000</td>\n",
              "      <td>28800000</td>\n",
              "      <td>26100000</td>\n",
              "      <td>173</td>\n",
              "      <td>143</td>\n",
              "      <td>135</td>\n",
              "      <td>144</td>\n",
              "      <td>160</td>\n",
              "      <td>145</td>\n",
              "    </tr>\n",
              "    <tr>\n",
              "      <th>PC-E</th>\n",
              "      <td>59850000</td>\n",
              "      <td>64050000</td>\n",
              "      <td>64890000</td>\n",
              "      <td>58800000</td>\n",
              "      <td>63420000</td>\n",
              "      <td>71610000</td>\n",
              "      <td>285</td>\n",
              "      <td>305</td>\n",
              "      <td>309</td>\n",
              "      <td>280</td>\n",
              "      <td>302</td>\n",
              "      <td>341</td>\n",
              "    </tr>\n",
              "  </tbody>\n",
              "</table>\n",
              "</div>"
            ],
            "text/plain": [
              "                  price                      ... quantity              \n",
              "payment_month    201902    201903    201904  ...   201905 201906 201907\n",
              "item_name                                    ...                       \n",
              "PC-A           24150000  26000000  25900000  ...      497    520    505\n",
              "PC-B           25245000  25500000  23460000  ...      298    282    332\n",
              "PC-C           19800000  19080000  21960000  ...      171    182    162\n",
              "PC-D           31140000  25740000  24300000  ...      144    160    145\n",
              "PC-E           59850000  64050000  64890000  ...      280    302    341\n",
              "\n",
              "[5 rows x 12 columns]"
            ]
          },
          "metadata": {},
          "execution_count": 62
        }
      ]
    },
    {
      "cell_type": "markdown",
      "source": [
        "### pivot_table은 행과 칼럼을 지정할 수 있습니다.행에는 상품명, 칼럼에는 월이 오게 index와 columns로 지정합니다.values에는 집계하고 싶은 칼럼(price, quantity), aggfunc에는 집계 방법(sum)을 지정합니다.\n",
        "- 매출의 합계는 PC-E가 가장 높지만, 수량에는 역시 가장 싼 PC-A가 많습니다.\n",
        "- 앞의 웝별 추세에서 5월에 매출이 감소하고,6월과7월에 중가 했습니다.\n",
        "- 상품별로 보면, 5원은 PC-B와 PC-D가 증가 했지만,큰 매출을 차지하는 PC-E의 매출이 많이 감소한 것이 영향을 크게 미친 것 같습니다.\n",
        "- 6월과 7월은 PC-E의 매출이 크게 상승했습니다."
      ],
      "metadata": {
        "id": "XVbQDsCi2WQU"
      }
    },
    {
      "cell_type": "markdown",
      "source": [
        "# **010/ 상품별 매출 추이를 가시화해 보자**"
      ],
      "metadata": {
        "id": "skdc6HhP4LuW"
      }
    },
    {
      "cell_type": "markdown",
      "source": [
        "### 이번에는 지금까지 살펴본 월별 및 상품별 추이를 그래프로 그려보겠습니다\n",
        "- 우선 pivot_table을 이용해서 데이터를 집계합니다"
      ],
      "metadata": {
        "id": "_m0l1sxC4Xqb"
      }
    },
    {
      "cell_type": "code",
      "source": [
        "graph_data = pd.pivot_table(join_data, index='payment_month', columns='item_name', values='price', aggfunc='sum')\n",
        "graph_data.head()"
      ],
      "metadata": {
        "colab": {
          "base_uri": "https://localhost:8080/",
          "height": 235
        },
        "id": "J49iYaYL18KV",
        "outputId": "b4e1ff3b-17b5-4662-9a2c-2551bae619c0"
      },
      "execution_count": 63,
      "outputs": [
        {
          "output_type": "execute_result",
          "data": {
            "text/html": [
              "<div>\n",
              "<style scoped>\n",
              "    .dataframe tbody tr th:only-of-type {\n",
              "        vertical-align: middle;\n",
              "    }\n",
              "\n",
              "    .dataframe tbody tr th {\n",
              "        vertical-align: top;\n",
              "    }\n",
              "\n",
              "    .dataframe thead th {\n",
              "        text-align: right;\n",
              "    }\n",
              "</style>\n",
              "<table border=\"1\" class=\"dataframe\">\n",
              "  <thead>\n",
              "    <tr style=\"text-align: right;\">\n",
              "      <th>item_name</th>\n",
              "      <th>PC-A</th>\n",
              "      <th>PC-B</th>\n",
              "      <th>PC-C</th>\n",
              "      <th>PC-D</th>\n",
              "      <th>PC-E</th>\n",
              "    </tr>\n",
              "    <tr>\n",
              "      <th>payment_month</th>\n",
              "      <th></th>\n",
              "      <th></th>\n",
              "      <th></th>\n",
              "      <th></th>\n",
              "      <th></th>\n",
              "    </tr>\n",
              "  </thead>\n",
              "  <tbody>\n",
              "    <tr>\n",
              "      <th>201902</th>\n",
              "      <td>24150000</td>\n",
              "      <td>25245000</td>\n",
              "      <td>19800000</td>\n",
              "      <td>31140000</td>\n",
              "      <td>59850000</td>\n",
              "    </tr>\n",
              "    <tr>\n",
              "      <th>201903</th>\n",
              "      <td>26000000</td>\n",
              "      <td>25500000</td>\n",
              "      <td>19080000</td>\n",
              "      <td>25740000</td>\n",
              "      <td>64050000</td>\n",
              "    </tr>\n",
              "    <tr>\n",
              "      <th>201904</th>\n",
              "      <td>25900000</td>\n",
              "      <td>23460000</td>\n",
              "      <td>21960000</td>\n",
              "      <td>24300000</td>\n",
              "      <td>64890000</td>\n",
              "    </tr>\n",
              "    <tr>\n",
              "      <th>201905</th>\n",
              "      <td>24850000</td>\n",
              "      <td>25330000</td>\n",
              "      <td>20520000</td>\n",
              "      <td>25920000</td>\n",
              "      <td>58800000</td>\n",
              "    </tr>\n",
              "    <tr>\n",
              "      <th>201906</th>\n",
              "      <td>26000000</td>\n",
              "      <td>23970000</td>\n",
              "      <td>21840000</td>\n",
              "      <td>28800000</td>\n",
              "      <td>63420000</td>\n",
              "    </tr>\n",
              "  </tbody>\n",
              "</table>\n",
              "</div>"
            ],
            "text/plain": [
              "item_name          PC-A      PC-B      PC-C      PC-D      PC-E\n",
              "payment_month                                                  \n",
              "201902         24150000  25245000  19800000  31140000  59850000\n",
              "201903         26000000  25500000  19080000  25740000  64050000\n",
              "201904         25900000  23460000  21960000  24300000  64890000\n",
              "201905         24850000  25330000  20520000  25920000  58800000\n",
              "201906         26000000  23970000  21840000  28800000  63420000"
            ]
          },
          "metadata": {},
          "execution_count": 63
        }
      ]
    },
    {
      "cell_type": "markdown",
      "source": [
        "### 테크닉 9와 달리 index와 columns를 바꿨습니다.그 결과,payment_month는 데이터프레임의 index로 ,상품명은 칼럼으로 작성됩니다.그래프를 그리기 위해 가로축에 payment_month를 ,세로축에 graph_data의 해당 상품명을 지정합니다."
      ],
      "metadata": {
        "id": "qBMyXcIM5M_W"
      }
    },
    {
      "cell_type": "code",
      "source": [
        "import matplotlib.pyplot as plt\n",
        "%matplotlib inline"
      ],
      "metadata": {
        "id": "0cdOEO7z5EvQ"
      },
      "execution_count": 64,
      "outputs": []
    },
    {
      "cell_type": "code",
      "source": [
        "plt.plot(list(graph_data.index), graph_data['PC-A'],label='PC-A')\n",
        "plt.plot(list(graph_data.index), graph_data['PC-B'],label='PC-B')\n",
        "plt.plot(list(graph_data.index), graph_data['PC-C'],label='PC-C')\n",
        "plt.plot(list(graph_data.index), graph_data['PC-D'],label='PC-D')\n",
        "plt.plot(list(graph_data.index), graph_data['PC-E'],label='PC-E')\n",
        "plt.legend()"
      ],
      "metadata": {
        "colab": {
          "base_uri": "https://localhost:8080/",
          "height": 293
        },
        "id": "ybRLb8Fg59pM",
        "outputId": "6a1e4673-6b15-45dc-e9e1-314f19aabd45"
      },
      "execution_count": 65,
      "outputs": [
        {
          "output_type": "execute_result",
          "data": {
            "text/plain": [
              "<matplotlib.legend.Legend at 0x7fb439112c50>"
            ]
          },
          "metadata": {},
          "execution_count": 65
        },
        {
          "output_type": "display_data",
          "data": {
            "image/png": "[encoded data removed]",
            "text/plain": [
              "<Figure size 432x288 with 1 Axes>"
            ]
          },
          "metadata": {
            "needs_background": "light"
          }
        }
      ]
    },
    {
      "cell_type": "markdown",
      "source": [
        "### 1,2 행은 matplotlib을 임포트하는 코드입니다.\n",
        "- 3-7행 까지는 상품마다 그래프를 그리고 8행은 범례를 표시합니다."
      ],
      "metadata": {
        "id": "nwTCHI6N6myr"
      }
    }
  ]
}