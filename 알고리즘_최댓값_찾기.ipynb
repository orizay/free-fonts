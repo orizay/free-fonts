{
  "nbformat": 4,
  "nbformat_minor": 0,
  "metadata": {
    "colab": {
      "name": "알고리즘-최댓값 찾기.ipynb",
      "provenance": [],
      "authorship_tag": "ABX9TyPb0uiD1Uq7iLDCmk3qA8fA",
      "include_colab_link": true
    },
    "kernelspec": {
      "name": "python3",
      "display_name": "Python 3"
    }
  },
  "cells": [
    {
      "cell_type": "markdown",
      "metadata": {
        "id": "view-in-github",
        "colab_type": "text"
      },
      "source": [
        "<a href=\"https://colab.research.google.com/github/orizay/free-fonts/blob/master/%EC%95%8C%EA%B3%A0%EB%A6%AC%EC%A6%98_%EC%B5%9C%EB%8C%93%EA%B0%92_%EC%B0%BE%EA%B8%B0.ipynb\" target=\"_parent\"><img src=\"https://colab.research.google.com/assets/colab-badge.svg\" alt=\"Open In Colab\"/></a>"
      ]
    },
    {
      "cell_type": "code",
      "metadata": {
        "id": "H8hBCraAieMN",
        "colab_type": "code",
        "colab": {}
      },
      "source": [
        "# 최댓값 구하기\n",
        "# 입력: 숫자가 n개 들어 있는 리스트\n",
        "# 출력: 숫자 n개중 최댓값"
      ],
      "execution_count": 27,
      "outputs": []
    },
    {
      "cell_type": "code",
      "metadata": {
        "id": "i4Ql0WKsi_Hg",
        "colab_type": "code",
        "colab": {
          "base_uri": "https://localhost:8080/",
          "height": 34
        },
        "outputId": "40fc42df-4f83-402c-f8d7-de06a340d340"
      },
      "source": [
        "def find_max(a):\n",
        "    n = len(a)  # 입력 크기 n\n",
        "    max_v = a[0] # 리스트의 첫 번째 값을 최대값으로 기억\n",
        "    for i in range(1,n): # 1부터 n-1까지 반복\n",
        "        if a[i] > max_v: # 이번 값이 현재까지 기억된 최댓값보다 크면\n",
        "            max_v = a[i] # 최댓값을 변경\n",
        "    return max_v\n",
        "\n",
        "v = [17,92,18,33,58,7,33,42]\n",
        "print(find_max(v))\n"
      ],
      "execution_count": 34,
      "outputs": [
        {
          "output_type": "stream",
          "text": [
            "92\n"
          ],
          "name": "stdout"
        }
      ]
    },
    {
      "cell_type": "markdown",
      "metadata": {
        "id": "GwUX7niukJda",
        "colab_type": "text"
      },
      "source": [
        "### 알고리즘 분석\n",
        "- 최댓값 구하기 프로그램의 계산 복잡도(시간 복잡도)를 생각해 봅시다.입력 크기가 n일때, 즉 숫자 n개 중에서 최댓값을 구할 경우 자료 개수 n은 리스트 a의 크기인 len(a)로 쉽게 구할 수 있습니다.\n",
        "- 그렇다면 최댓값을 구하는 데 컴퓨터가 해야 하는 가장 중요한 계산은 무엇일까요? 두 값 중 어느 것이 큰지를 비교하는 판단문 (if a[i] > max_v:)이 있어 자료 n개 중에서 최댓값을 찾으려면 비교를 n-1번 해야 합니다.\n",
        "- 이때 계산 복잡도는O(n-1)일까요? 정답은 O(n)입니다.문제에서 설명한 것처럼 n이 굉장히 커질 때는 n번과 n-1번의 차이가 무의미하므로 간단히 O(n)으로 표현합니다.\n",
        "   - 계산 복잡도 O(n)의 가장 중요한 특징은 입력 크기와 계산 시간이 대체로 비례한다는 것입니다.(바꿔 말하면 숫자 10000개 중 최댓값을 찾는 데 걸리는 시간이 10초 였다면 20000개를 입력할 때는 대략 20초가 걸릴것으로 예상할 수 있다는 말입니다."
      ]
    },
    {
      "cell_type": "markdown",
      "metadata": {
        "id": "SThlI7HQnRe5",
        "colab_type": "text"
      },
      "source": [
        "# 응용하기\n",
        " - **리스트에 숫자가 n개 있을 때 가장 큰 값이 있는 위치 번호를 돌려주는 알고리즘을 만들어 보세요.**"
      ]
    },
    {
      "cell_type": "code",
      "metadata": {
        "id": "B6KgQl4An0JZ",
        "colab_type": "code",
        "colab": {
          "base_uri": "https://localhost:8080/",
          "height": 34
        },
        "outputId": "2d8832cb-6b1f-4150-d7b1-0854404acc9e"
      },
      "source": [
        "def find_idx(a):\n",
        "    n = len(a)\n",
        "    max_idx = 0\n",
        "    for i in range(1,n):\n",
        "        if a[i] > a[max_idx]:\n",
        "            max_idx = i\n",
        "    return max_idx\n",
        "v = [17,92,18,33,58,7,33,42]\n",
        "print(find_idx(v))"
      ],
      "execution_count": 35,
      "outputs": [
        {
          "output_type": "stream",
          "text": [
            "1\n"
          ],
          "name": "stdout"
        }
      ]
    },
    {
      "cell_type": "markdown",
      "metadata": {
        "id": "OMCeap45oamq",
        "colab_type": "text"
      },
      "source": [
        "# 연습 문제 \n",
        "- 숫자 n개를 리스트로 입력받아 최솟값을 구하는 프로그램을 만들어 보세요."
      ]
    },
    {
      "cell_type": "code",
      "metadata": {
        "id": "phCRTs3DovQY",
        "colab_type": "code",
        "colab": {
          "base_uri": "https://localhost:8080/",
          "height": 34
        },
        "outputId": "25513ec0-3ba2-4d7e-ae87-f30e7bf2e5bd"
      },
      "source": [
        "def find_min(a):\n",
        "    n = len(a)\n",
        "    min_v = a[0]\n",
        "    for i in range(1,n):\n",
        "        if a[i] < min_v:\n",
        "            min_v = a[i]\n",
        "    return min_v\n",
        "\n",
        "v = [17,92,18,33,58,7,33,42]\n",
        "print(find_min(v))"
      ],
      "execution_count": 41,
      "outputs": [
        {
          "output_type": "stream",
          "text": [
            "7\n"
          ],
          "name": "stdout"
        }
      ]
    },
    {
      "cell_type": "code",
      "metadata": {
        "id": "opoydBXjpTdb",
        "colab_type": "code",
        "colab": {}
      },
      "source": [
        ""
      ],
      "execution_count": null,
      "outputs": []
    }
  ]
}