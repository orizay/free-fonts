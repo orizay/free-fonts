{
  "nbformat": 4,
  "nbformat_minor": 0,
  "metadata": {
    "colab": {
      "name": "Python-Numpy(II).ipynb",
      "provenance": [],
      "authorship_tag": "ABX9TyMVnWzs1RiB+bMrbVSWKP7P",
      "include_colab_link": true
    },
    "kernelspec": {
      "name": "python3",
      "display_name": "Python 3"
    },
    "language_info": {
      "name": "python"
    }
  },
  "cells": [
    {
      "cell_type": "markdown",
      "metadata": {
        "id": "view-in-github",
        "colab_type": "text"
      },
      "source": [
        "<a href=\"https://colab.research.google.com/github/orizay/free-fonts/blob/master/Python_Numpy(II).ipynb\" target=\"_parent\"><img src=\"https://colab.research.google.com/assets/colab-badge.svg\" alt=\"Open In Colab\"/></a>"
      ]
    },
    {
      "cell_type": "code",
      "metadata": {
        "id": "JYJ4rjr_QwWf"
      },
      "source": [
        "import numpy as np"
      ],
      "execution_count": 1,
      "outputs": []
    },
    {
      "cell_type": "markdown",
      "metadata": {
        "id": "zYb2SsSfQ7QE"
      },
      "source": [
        "# numpy\n",
        "* vector / matrix\n",
        "* dot product 행렬 곱\n",
        "* broadcast\n",
        "* index /slice /iterator\n",
        "* concatenate\n",
        "* useful function(loadtxt(),rand(),argmax(),...)"
      ]
    },
    {
      "cell_type": "markdown",
      "metadata": {
        "id": "FPj96TrJG2Kt"
      },
      "source": [
        "## dot product (행렬 곱)\n",
        "* => A 행렬과 B 행렬의 행렬 곱은 np.dot(A,B)나타내며, 행렬 A의 벡터와 B 행렬의 행 벡터가 같아야 함.만약 같지 않다면 `reshape 또는 전치 행렬(transpose)등을 사용하여 형 변환 한 후에 행렬 곱 실행 해야 함`"
      ]
    },
    {
      "cell_type": "code",
      "metadata": {
        "id": "E4AV9HJ5RWdu"
      },
      "source": [
        "A = np.array([[1,2,3],[4,5,6]])   # 2 x 3 행렬\n",
        "B = np.array([[-1,-2],[-3,-4],[-5,-6]])  # 3 x 2 행렬"
      ],
      "execution_count": 2,
      "outputs": []
    },
    {
      "cell_type": "code",
      "metadata": {
        "id": "GrjEbDd3I6UI"
      },
      "source": [
        "# (2 x 3) dot prodoct (3 x 2) == (2 x 2) 행렬\n",
        "C = np.dot(A,B) # 행렬 곱 수행"
      ],
      "execution_count": 3,
      "outputs": []
    },
    {
      "cell_type": "code",
      "metadata": {
        "colab": {
          "base_uri": "https://localhost:8080/"
        },
        "id": "Xw0EmUXzJWib",
        "outputId": "a1575191-04a5-420a-db4b-4285f2193e21"
      },
      "source": [
        "# matrix A, B 형상 출력 => shape\n",
        "print(A.shape, B.shape)\n",
        "print(C.shape)\n",
        "print(C)"
      ],
      "execution_count": 4,
      "outputs": [
        {
          "output_type": "stream",
          "text": [
            "(2, 3) (3, 2)\n",
            "(2, 2)\n",
            "[[-22 -28]\n",
            " [-49 -64]]\n"
          ],
          "name": "stdout"
        }
      ]
    },
    {
      "cell_type": "markdown",
      "metadata": {
        "id": "Ky8NH5HaKurZ"
      },
      "source": [
        "## dot product (행렬 곱)\n",
        "* => 행렬 곱은 , 행렬의 원소 개수 가 같아야 만 계산할 수 있는 사칙연산의 한계를 벗어나됨`1:행렬 곱 조건을 만족하는 다양한 크기의 행렬을 연속으로 만들고 2: 행렬 곱을 연속으로 계산하면서 3: 결과값을 만들 수 있기 때문에 머신러닝과 이미지 프로세싱 분야에서 자주 사용됨`"
      ]
    },
    {
      "cell_type": "markdown",
      "metadata": {
        "id": "SwI0CIk0Ll4P"
      },
      "source": [
        "* [예] 입력 행렬 형상이 64 x 64 이고 ,결과 행렬 형상이  64 x 10 이라면,중간에 dot product 를 만족시키는 어떤 형상의 행렬이라도 가질 수 있음.\n",
        "\n",
        "* 행렬 곱을 사용하지 않고 산술연산만 가능하다면, 입력 행렬의  64 x 64 크기를 가지는 특성 값 만을 사용해야 하기 때문에 `다양한 특성을 갖는 필터 개발이 불가능함`"
      ]
    },
    {
      "cell_type": "markdown",
      "metadata": {
        "id": "LCZ7zUqdNBGz"
      },
      "source": [
        "# 라이브러리 - numpy broadcast\n",
        "* 행렬의 사칙연산은 기본적으로 두 개의 행렬 크기가 같은 경우에만 수행할 수 있음 그러나 `numpy에서는 크기가 다른 두 행렬간에도 사칙연산( + , - , * , / )을 할수 있는데 이를 브로드캐스트(broadcast)라고 지칭함.`\n",
        "\n",
        "* => `차원이 작은 쪽이 큰 쪽의 행 단위로 반복적으로 크기를 맞춘 후에 계산`"
      ]
    },
    {
      "cell_type": "code",
      "metadata": {
        "colab": {
          "base_uri": "https://localhost:8080/"
        },
        "id": "ksDwmzJzJpE0",
        "outputId": "1ac84cd3-6254-4d88-b9c1-94d205a54d29"
      },
      "source": [
        "A = np.array([[1,2],[3,4]])\n",
        "B = 5\n",
        "\n",
        "print(A + B)"
      ],
      "execution_count": 7,
      "outputs": [
        {
          "output_type": "stream",
          "text": [
            "[[6 7]\n",
            " [8 9]]\n"
          ],
          "name": "stdout"
        }
      ]
    },
    {
      "cell_type": "code",
      "metadata": {
        "colab": {
          "base_uri": "https://localhost:8080/"
        },
        "id": "ukHkTyqcOTQo",
        "outputId": "bb22dbe6-650f-4f3a-b33c-403cf93d9065"
      },
      "source": [
        "C = np.array([[1,2],[3,4]])\n",
        "D = np.array([4,5])\n",
        "\n",
        "print(C + D)"
      ],
      "execution_count": 8,
      "outputs": [
        {
          "output_type": "stream",
          "text": [
            "[[5 7]\n",
            " [7 9]]\n"
          ],
          "name": "stdout"
        }
      ]
    },
    {
      "cell_type": "code",
      "metadata": {
        "colab": {
          "base_uri": "https://localhost:8080/"
        },
        "id": "iS14kFASOg5d",
        "outputId": "8bd3cd5f-1176-4551-9704-006a08818ed6"
      },
      "source": [
        "from google.colab import drive\n",
        "drive.mount('MyDrive',force_remount= True)\n"
      ],
      "execution_count": 9,
      "outputs": [
        {
          "output_type": "stream",
          "text": [
            "Mounted at MyDrive\n"
          ],
          "name": "stdout"
        }
      ]
    },
    {
      "cell_type": "code",
      "metadata": {
        "colab": {
          "base_uri": "https://localhost:8080/",
          "height": 575
        },
        "id": "K5lO4lReQAGI",
        "outputId": "5c9a5b2d-a9ec-415f-99a0-cd8f8437de4b"
      },
      "source": [
        "from IPython.display import Image\n",
        "Image('//content/MyDrive/MyDrive/Images/Transpose a .png')"
      ],
      "execution_count": 11,
      "outputs": [
        {
          "output_type": "execute_result",
          "data": {
            "image/png": "[encoded data removed]",
            "text/plain": [
              "<IPython.core.display.Image object>"
            ]
          },
          "metadata": {
            "tags": []
          },
          "execution_count": 11
        }
      ]
    },
    {
      "cell_type": "markdown",
      "metadata": {
        "id": "vHOD0tYBQbpN"
      },
      "source": [
        "# 라이브러리 - numpy transpose 전치행렬\n",
        "* 전치행렬(transpose)\n",
        "\n",
        "  - => 어떤 행렬의 전치행렬(transpose matrix)은 원본 행렬의 열은 행으로,행은 열로 바꾼 것으로서, 원본 행렬을 A라고 하면 전치행렬은 AT로 나타냄.\n",
        "  - 즉, 1행은 1열로 바꾸고 2행은 2열로,3행은 3열로 바꾼 행렬을 의미"
      ]
    },
    {
      "cell_type": "code",
      "metadata": {
        "colab": {
          "base_uri": "https://localhost:8080/"
        },
        "id": "0dtaATH8Qac_",
        "outputId": "a0671fa6-a36f-4013-f174-73003d7947d7"
      },
      "source": [
        "A = np.array([[1,2],[3,4],[5,6]])  # 3 x 2 행렬\n",
        "B = A.T  # A의 전치행렬,  2 x 3 행렬\n",
        "\n",
        "print(A.shape, B.shape)\n",
        "print(A)\n",
        "print(B)"
      ],
      "execution_count": 12,
      "outputs": [
        {
          "output_type": "stream",
          "text": [
            "(3, 2) (2, 3)\n",
            "[[1 2]\n",
            " [3 4]\n",
            " [5 6]]\n",
            "[[1 3 5]\n",
            " [2 4 6]]\n"
          ],
          "name": "stdout"
        }
      ]
    },
    {
      "cell_type": "markdown",
      "metadata": {
        "id": "tlz7UnACVE6s"
      },
      "source": [
        "# 라이브러리 - numpy 행렬 indexing / slicing\n",
        "* 행렬 원소 접근(I)\n",
        " - => 행렬 원소를 명시적(explicit)으로 접근 하기 위해서는 list(리스트)에서 처럼, `인덱싱 /슬라이싱 모두 사용 가능 함.`\n",
        " - [예제 1] A[0,0] 또는 A[0][0]은  1행1열, A[2,1] 또는 A[2][1]은 3행2열 임\n",
        " - [예제 2] A[:,0] 은 모든 행 1열을 나타냄.\n",
        " - [예제 3] A[0:-1, 1:2] 인덱스 0인 1행부터, 인덱스 -1-1 = -2인 2행까지의 모든 데이터,그리고 인덱스 1인 2열부터 인덱스 2-1 = 1인 2열까지의 모든 데이터\n",
        " - [예제 4] A[:,:] 은 모든 행,모든 열"
      ]
    },
    {
      "cell_type": "code",
      "metadata": {
        "colab": {
          "base_uri": "https://localhost:8080/"
        },
        "id": "FSJYvM1MSBBs",
        "outputId": "78becbf2-b1a7-4749-b20a-7b3e52765f65"
      },
      "source": [
        "A = np.array([10,20,30,40,50,60]).reshape(3,2)\n",
        "\n",
        "print(\"A.shape==\", A.shape)\n",
        "print(A)"
      ],
      "execution_count": 3,
      "outputs": [
        {
          "output_type": "stream",
          "text": [
            "A.shape== (3, 2)\n",
            "[[10 20]\n",
            " [30 40]\n",
            " [50 60]]\n"
          ],
          "name": "stdout"
        }
      ]
    },
    {
      "cell_type": "code",
      "metadata": {
        "colab": {
          "base_uri": "https://localhost:8080/"
        },
        "id": "vdxsEXqVX8VI",
        "outputId": "20dfafb1-2834-462e-9c00-598e17b29f07"
      },
      "source": [
        "print(\"A[0,0]==\",A[0,0],\"A[0][0]==\",A[0][0])\n",
        "print(\"A[2,1]==\",A[2,1],\"A[2][1]==\",A[2][1])"
      ],
      "execution_count": 6,
      "outputs": [
        {
          "output_type": "stream",
          "text": [
            "A[0,0]== 10 A[0][0]== 10\n",
            "A[2,1]== 60 A[2][1]== 60\n"
          ],
          "name": "stdout"
        }
      ]
    },
    {
      "cell_type": "code",
      "metadata": {
        "colab": {
          "base_uri": "https://localhost:8080/"
        },
        "id": "egFcR7EOYbs7",
        "outputId": "8d30580c-f28f-41ff-b44e-2822c9480763"
      },
      "source": [
        "print(\"A[0,-1,1:2]==\",A[0:-1,1:2])"
      ],
      "execution_count": 7,
      "outputs": [
        {
          "output_type": "stream",
          "text": [
            "A[0,-1,1:2]== [[20]\n",
            " [40]]\n"
          ],
          "name": "stdout"
        }
      ]
    },
    {
      "cell_type": "code",
      "metadata": {
        "colab": {
          "base_uri": "https://localhost:8080/"
        },
        "id": "QtWinIDKZFUw",
        "outputId": "4ecdbb9b-7ffd-4e86-c5fe-9b520a5d898c"
      },
      "source": [
        "print(\"A[:,0]==\",A[:,0])\n",
        "print(\"A[:,:]==\",A[:,:])"
      ],
      "execution_count": 9,
      "outputs": [
        {
          "output_type": "stream",
          "text": [
            "A[:,0]== [10 30 50]\n",
            "A[:,:]== [[10 20]\n",
            " [30 40]\n",
            " [50 60]]\n"
          ],
          "name": "stdout"
        }
      ]
    },
    {
      "cell_type": "markdown",
      "metadata": {
        "id": "D9wpBGiTasuz"
      },
      "source": [
        "# 라이브러리 - numpy 행렬 iterator\n",
        "* 행렬 원소 접근(II)\n",
        " - => 명시적(explicit)인덱싱/슬라이싱 이외에 ,`행렬 모든 원소를 access하는 경우에는 iterator 사용가능`\n",
        "\n",
        " - => numpy iterator C++,Java iterator처럼 next()메소드를 통해 데이터 값을 처음부터 끝까지 순차적으로 읽어 들이는 방법을 제공"
      ]
    },
    {
      "cell_type": "code",
      "metadata": {
        "colab": {
          "base_uri": "https://localhost:8080/"
        },
        "id": "45uVgbA9ZgPf",
        "outputId": "a62ce334-a4d8-4392-9a9a-476a3d984a0a"
      },
      "source": [
        "A = np.array([[10,20,30,40],[50,60,70,80]])\n",
        "\n",
        "print(A, \"\\n\")\n",
        "print(\"A.shape==\",A.shape,\"\\n\")\n",
        "\n",
        "# 행렬 A 의 iterator생성\n",
        "it = np.nditer(A,flags= ['multi_index'], op_flags=['readwrite'])\n",
        "\n",
        "while not it.finished:\n",
        "    idx = it.multi_index\n",
        "    print('current value =>',A[idx])\n",
        "    it.iternext()"
      ],
      "execution_count": 11,
      "outputs": [
        {
          "output_type": "stream",
          "text": [
            "[[10 20 30 40]\n",
            " [50 60 70 80]] \n",
            "\n",
            "A.shape== (2, 4) \n",
            "\n",
            "current value => 10\n",
            "current value => 20\n",
            "current value => 30\n",
            "current value => 40\n",
            "current value => 50\n",
            "current value => 60\n",
            "current value => 70\n",
            "current value => 80\n"
          ],
          "name": "stdout"
        }
      ]
    },
    {
      "cell_type": "code",
      "metadata": {
        "id": "RGGYfmnWdSuO"
      },
      "source": [
        ""
      ],
      "execution_count": null,
      "outputs": []
    }
  ]
}