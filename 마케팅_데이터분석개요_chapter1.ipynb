{
  "nbformat": 4,
  "nbformat_minor": 0,
  "metadata": {
    "colab": {
      "name": "마케팅 데이터분석개요 chapter1.ipynb",
      "provenance": [],
      "authorship_tag": "ABX9TyOSYGWLM52dBNGBPYJRuyTe",
      "include_colab_link": true
    },
    "kernelspec": {
      "name": "python3",
      "display_name": "Python 3"
    }
  },
  "cells": [
    {
      "cell_type": "markdown",
      "metadata": {
        "id": "view-in-github",
        "colab_type": "text"
      },
      "source": [
        "<a href=\"https://colab.research.google.com/github/orizay/free-fonts/blob/master/%EB%A7%88%EC%BC%80%ED%8C%85_%EB%8D%B0%EC%9D%B4%ED%84%B0%EB%B6%84%EC%84%9D%EA%B0%9C%EC%9A%94_chapter1.ipynb\" target=\"_parent\"><img src=\"https://colab.research.google.com/assets/colab-badge.svg\" alt=\"Open In Colab\"/></a>"
      ]
    },
    {
      "cell_type": "markdown",
      "metadata": {
        "id": "vvZqdUmQrPeC",
        "colab_type": "text"
      },
      "source": [
        "# 마케팅 데이터 분석 개요\n",
        "- 재료(DATA)\n",
        "- 조리법(Processing,Algorithm)\n",
        "- 요리(Application)\n",
        "  - Acquisition:users come to the from various channels\n",
        "  - Activation:users enjoy 1st visit:\"happy\"user experience\n",
        "  - Retention:users come back,visit site multiple times\n",
        "  - Refrral:users like product enough to refer others\n",
        "  - Revenue:users conduct some monetization behavior"
      ]
    },
    {
      "cell_type": "markdown",
      "metadata": {
        "id": "Yjp29dhotpZI",
        "colab_type": "text"
      },
      "source": [
        "![대체 텍스트](https://t3.daumcdn.net/thumb/R720x0.fpng/?fname=http://t1.daumcdn.net/brunch/service/user/3Dfu/image/9qkRBiKwT7oTvXwSPTOzzG5k9wA.png)"
      ]
    },
    {
      "cell_type": "markdown",
      "metadata": {
        "id": "UtoilHvtuKei",
        "colab_type": "text"
      },
      "source": [
        "## ACQUISITION(사용자회득) = 사용자가 어떻게 서비스를 접하는가?(DAU,MAU,New,방문자 수)\n",
        "\n",
        "## ACTIVATION(사용자 활성화) = 사용자가 처음 서비스를 이용했을 때 경험이 좋았는가?(Avg.PV,Avg.Duration,가입자 수)\n",
        "\n",
        "## RETENTION(사용자 유지) = 사용자가 우리 서비스를 계속 이용하는가?(Retention Rate)\n",
        "\n",
        "## REVENUE(매출) = 어떻게 돈을 버는가?(Conversion)\n",
        "\n",
        "## REFERRAL(추천) = 사용자가 다른 사람들에게 제품을 소개하는가?(SNS Share Rete)"
      ]
    },
    {
      "cell_type": "markdown",
      "metadata": {
        "id": "j_11EV8LvyA6",
        "colab_type": "text"
      },
      "source": [
        "![대체 텍스트](https://lh3.google.com/u/0/d/1VghbvqBgAhjkl2iwHZyyHpgA7RNvW7kq=w2880-h1362-iv1)"
      ]
    },
    {
      "cell_type": "code",
      "metadata": {
        "id": "xXCGtA9I0BzY",
        "colab_type": "code",
        "colab": {}
      },
      "source": [
        ""
      ],
      "execution_count": null,
      "outputs": []
    }
  ]
}