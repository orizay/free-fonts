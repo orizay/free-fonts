{
  "nbformat": 4,
  "nbformat_minor": 0,
  "metadata": {
    "colab": {
      "name": "seaborn-barplot.ipynb",
      "provenance": [],
      "authorship_tag": "ABX9TyPxuTQJFbSY14Qh9lm8dM3R",
      "include_colab_link": true
    },
    "kernelspec": {
      "name": "python3",
      "display_name": "Python 3"
    }
  },
  "cells": [
    {
      "cell_type": "markdown",
      "metadata": {
        "id": "view-in-github",
        "colab_type": "text"
      },
      "source": [
        "<a href=\"https://colab.research.google.com/github/orizay/free-fonts/blob/master/seaborn_barplot.ipynb\" target=\"_parent\"><img src=\"https://colab.research.google.com/assets/colab-badge.svg\" alt=\"Open In Colab\"/></a>"
      ]
    },
    {
      "cell_type": "code",
      "metadata": {
        "id": "ADznfhgyPELO",
        "colab_type": "code",
        "colab": {}
      },
      "source": [
        "import numpy as np\n",
        "import seaborn as sns\n",
        "import matplotlib.pyplot as plt\n",
        "sns.set(style=\"white\", context=\"talk\")\n",
        "\n",
        "%matplotlib inline"
      ],
      "execution_count": 3,
      "outputs": []
    },
    {
      "cell_type": "code",
      "metadata": {
        "id": "D71l-73bPhDX",
        "colab_type": "code",
        "colab": {
          "base_uri": "https://localhost:8080/",
          "height": 34
        },
        "outputId": "de0853b4-f40d-4130-b4f8-b6c7f6093e74"
      },
      "source": [
        "rs = np.random.RandomState(8)\n",
        "rs"
      ],
      "execution_count": 4,
      "outputs": [
        {
          "output_type": "execute_result",
          "data": {
            "text/plain": [
              "RandomState(MT19937) at 0x7F863073B570"
            ]
          },
          "metadata": {
            "tags": []
          },
          "execution_count": 4
        }
      ]
    },
    {
      "cell_type": "code",
      "metadata": {
        "id": "MTY1QOpQQRR_",
        "colab_type": "code",
        "colab": {
          "base_uri": "https://localhost:8080/",
          "height": 34
        },
        "outputId": "da49ac00-31da-46e5-c774-4df734e007e4"
      },
      "source": [
        "x = np.array(list(\"ABCDEFGHIJ\"))\n",
        "x"
      ],
      "execution_count": 5,
      "outputs": [
        {
          "output_type": "execute_result",
          "data": {
            "text/plain": [
              "array(['A', 'B', 'C', 'D', 'E', 'F', 'G', 'H', 'I', 'J'], dtype='<U1')"
            ]
          },
          "metadata": {
            "tags": []
          },
          "execution_count": 5
        }
      ]
    },
    {
      "cell_type": "code",
      "metadata": {
        "id": "r5tZM5fZQa3Q",
        "colab_type": "code",
        "colab": {
          "base_uri": "https://localhost:8080/",
          "height": 34
        },
        "outputId": "8e3b0ae8-b7cc-4740-93b4-1425b4fad8fd"
      },
      "source": [
        "y1 = np.arange(1, 11)\n",
        "y1"
      ],
      "execution_count": 6,
      "outputs": [
        {
          "output_type": "execute_result",
          "data": {
            "text/plain": [
              "array([ 1,  2,  3,  4,  5,  6,  7,  8,  9, 10])"
            ]
          },
          "metadata": {
            "tags": []
          },
          "execution_count": 6
        }
      ]
    },
    {
      "cell_type": "code",
      "metadata": {
        "id": "VXXuFxmKQu7m",
        "colab_type": "code",
        "colab": {
          "base_uri": "https://localhost:8080/",
          "height": 296
        },
        "outputId": "46f98182-b274-43a0-f74d-cb9d4b7eb74f"
      },
      "source": [
        "plt.figure(figsize=(10,4))\n",
        "sns.barplot(x=x, y=y1, palette=\"rocket\").axhline(0, color=\"k\", clip_on=False)\n"
      ],
      "execution_count": 10,
      "outputs": [
        {
          "output_type": "execute_result",
          "data": {
            "text/plain": [
              "<matplotlib.lines.Line2D at 0x7f862cc94c88>"
            ]
          },
          "metadata": {
            "tags": []
          },
          "execution_count": 10
        },
        {
          "output_type": "display_data",
          "data": {
            "image/png": "[encoded data removed]",
            "text/plain": [
              "<Figure size 720x288 with 1 Axes>"
            ]
          },
          "metadata": {
            "tags": [],
            "needs_background": "light"
          }
        }
      ]
    },
    {
      "cell_type": "code",
      "metadata": {
        "id": "6eAqpcWFRdhW",
        "colab_type": "code",
        "colab": {
          "base_uri": "https://localhost:8080/",
          "height": 34
        },
        "outputId": "8ef3a4b1-7d03-4d57-8dc5-7eaa4183b857"
      },
      "source": [
        "y2 = y1 - 5.5\n",
        "y2"
      ],
      "execution_count": 11,
      "outputs": [
        {
          "output_type": "execute_result",
          "data": {
            "text/plain": [
              "array([-4.5, -3.5, -2.5, -1.5, -0.5,  0.5,  1.5,  2.5,  3.5,  4.5])"
            ]
          },
          "metadata": {
            "tags": []
          },
          "execution_count": 11
        }
      ]
    },
    {
      "cell_type": "code",
      "metadata": {
        "id": "3b3zES-9RlwQ",
        "colab_type": "code",
        "colab": {
          "base_uri": "https://localhost:8080/",
          "height": 296
        },
        "outputId": "1e24a00b-59eb-48f1-cbdb-a62833432fd9"
      },
      "source": [
        "plt.figure(figsize=(10,4))\n",
        "sns.barplot(x=x, y=y2, palette=\"vlag\").axhline(0, color=\"k\", clip_on=False)"
      ],
      "execution_count": 14,
      "outputs": [
        {
          "output_type": "execute_result",
          "data": {
            "text/plain": [
              "<matplotlib.lines.Line2D at 0x7f862ca05a58>"
            ]
          },
          "metadata": {
            "tags": []
          },
          "execution_count": 14
        },
        {
          "output_type": "display_data",
          "data": {
            "image/png": "[encoded data removed]",
            "text/plain": [
              "<Figure size 720x288 with 1 Axes>"
            ]
          },
          "metadata": {
            "tags": [],
            "needs_background": "light"
          }
        }
      ]
    },
    {
      "cell_type": "code",
      "metadata": {
        "id": "o-IicctcSHCR",
        "colab_type": "code",
        "colab": {
          "base_uri": "https://localhost:8080/",
          "height": 34
        },
        "outputId": "ca92276f-8477-4124-ec9f-81935185637f"
      },
      "source": [
        "y3 = rs.choice(y1, len(y1), replace=False)\n",
        "y3"
      ],
      "execution_count": 15,
      "outputs": [
        {
          "output_type": "execute_result",
          "data": {
            "text/plain": [
              "array([ 9,  7, 10,  1,  3,  6,  8,  2,  5,  4])"
            ]
          },
          "metadata": {
            "tags": []
          },
          "execution_count": 15
        }
      ]
    },
    {
      "cell_type": "code",
      "metadata": {
        "id": "ZwXPXZnHSUd5",
        "colab_type": "code",
        "colab": {
          "base_uri": "https://localhost:8080/",
          "height": 296
        },
        "outputId": "39db2a94-f1e7-4f43-9ae3-66e1c59a4340"
      },
      "source": [
        "plt.figure(figsize=(10,4))\n",
        "sns.barplot(x=x, y=y3, palette=\"deep\").axhline(0, color=\"k\", clip_on=False)"
      ],
      "execution_count": 18,
      "outputs": [
        {
          "output_type": "execute_result",
          "data": {
            "text/plain": [
              "<matplotlib.lines.Line2D at 0x7f862cb45278>"
            ]
          },
          "metadata": {
            "tags": []
          },
          "execution_count": 18
        },
        {
          "output_type": "display_data",
          "data": {
            "image/png": "[encoded data removed]",
            "text/plain": [
              "<Figure size 720x288 with 1 Axes>"
            ]
          },
          "metadata": {
            "tags": [],
            "needs_background": "light"
          }
        }
      ]
    },
    {
      "cell_type": "code",
      "metadata": {
        "id": "uJcZslzESuC4",
        "colab_type": "code",
        "colab": {
          "base_uri": "https://localhost:8080/",
          "height": 279
        },
        "outputId": "e7140849-e8d0-4749-fc92-e8ff9a88dee8"
      },
      "source": [
        "plt.figure(figsize=(10,4))\n",
        "sns.barplot(x=x, y=y3, palette=\"deep\").axhline(0, color=\"k\", clip_on=False)\n",
        "sns.despine(bottom=True)"
      ],
      "execution_count": 19,
      "outputs": [
        {
          "output_type": "display_data",
          "data": {
            "image/png": "[encoded data removed]",
            "text/plain": [
              "<Figure size 720x288 with 1 Axes>"
            ]
          },
          "metadata": {
            "tags": [],
            "needs_background": "light"
          }
        }
      ]
    },
    {
      "cell_type": "code",
      "metadata": {
        "id": "rK8RUt_WPY8L",
        "colab_type": "code",
        "colab": {
          "base_uri": "https://localhost:8080/",
          "height": 358
        },
        "outputId": "9634bd31-5203-4eaf-dc80-100a17efb210"
      },
      "source": [
        "# Set up the matplotlib figure\n",
        "f, (ax1, ax2, ax3) = plt.subplots(3, 1, figsize=(7, 5), sharex=True)\n",
        "\n",
        "plt.figure(figsize=(30,15))\n",
        "# Generate some sequential data\n",
        "x = np.array(list(\"ABCDEFGHIJ\"))\n",
        "y1 = np.arange(1, 11)\n",
        "sns.barplot(x=x, y=y1, palette=\"rocket\", ax=ax1)\n",
        "ax1.axhline(0, color=\"k\", clip_on=False)\n",
        "ax1.set_ylabel(\"Sequential\")\n",
        "\n",
        "# Center the data to make it diverging\n",
        "y2 = y1 - 5.5\n",
        "sns.barplot(x=x, y=y2, palette=\"vlag\", ax=ax2)\n",
        "ax2.axhline(0, color=\"k\", clip_on=False)\n",
        "ax2.set_ylabel(\"Diverging\")\n",
        "\n",
        "# Randomly reorder the data to make it qualitative\n",
        "y3 = rs.choice(y1, len(y1), replace=False)\n",
        "sns.barplot(x=x, y=y3, palette=\"deep\", ax=ax3)\n",
        "ax3.axhline(0, color=\"k\", clip_on=False)\n",
        "ax3.set_ylabel(\"Qualitative\")\n",
        "\n",
        "# Finalize the plot\n",
        "sns.despine(bottom=True)\n",
        "plt.setp(f.axes, yticks=[])\n",
        "plt.tight_layout(h_pad=2)"
      ],
      "execution_count": 25,
      "outputs": [
        {
          "output_type": "display_data",
          "data": {
            "image/png": "[encoded data removed]",
            "text/plain": [
              "<Figure size 504x360 with 3 Axes>"
            ]
          },
          "metadata": {
            "tags": [],
            "needs_background": "light"
          }
        },
        {
          "output_type": "display_data",
          "data": {
            "text/plain": [
              "<Figure size 2160x1080 with 0 Axes>"
            ]
          },
          "metadata": {
            "tags": []
          }
        }
      ]
    },
    {
      "cell_type": "code",
      "metadata": {
        "id": "MQsF6VKXTCv9",
        "colab_type": "code",
        "colab": {}
      },
      "source": [
        ""
      ],
      "execution_count": null,
      "outputs": []
    }
  ]
}