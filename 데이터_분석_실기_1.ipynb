{
  "nbformat": 4,
  "nbformat_minor": 0,
  "metadata": {
    "colab": {
      "name": "데이터 분석 실기-1.ipynb",
      "provenance": [],
      "authorship_tag": "ABX9TyMzYs/65Vy+B2zJO/2yiqWW",
      "include_colab_link": true
    },
    "kernelspec": {
      "name": "python3",
      "display_name": "Python 3"
    },
    "language_info": {
      "name": "python"
    }
  },
  "cells": [
    {
      "cell_type": "markdown",
      "metadata": {
        "id": "view-in-github",
        "colab_type": "text"
      },
      "source": [
        "<a href=\"https://colab.research.google.com/github/orizay/free-fonts/blob/master/%EB%8D%B0%EC%9D%B4%ED%84%B0_%EB%B6%84%EC%84%9D_%EC%8B%A4%EA%B8%B0_1.ipynb\" target=\"_parent\"><img src=\"https://colab.research.google.com/assets/colab-badge.svg\" alt=\"Open In Colab\"/></a>"
      ]
    },
    {
      "cell_type": "code",
      "metadata": {
        "colab": {
          "base_uri": "https://localhost:8080/"
        },
        "id": "jUPzEELeoaiA",
        "outputId": "24961651-1ba0-46aa-ff30-312a4ed61661"
      },
      "source": [
        "!git clone https://github.com/Soyoung-Yoon/data_01"
      ],
      "execution_count": 18,
      "outputs": [
        {
          "output_type": "stream",
          "name": "stdout",
          "text": [
            "fatal: destination path 'data_01' already exists and is not an empty directory.\n"
          ]
        }
      ]
    },
    {
      "cell_type": "markdown",
      "metadata": {
        "id": "49WbJah4pZFD"
      },
      "source": [
        "# Youtube 인기채널은?\n",
        "- title: 채널명\n",
        "- category: 카테고리\n",
        "- subscriber: 구독자수\n",
        "- view: 조회수\n",
        "- video: 영상개수"
      ]
    },
    {
      "cell_type": "code",
      "metadata": {
        "id": "jTQmsWoPos2r"
      },
      "source": [
        "import pandas as pd\n",
        "import numpy as np"
      ],
      "execution_count": 19,
      "outputs": []
    },
    {
      "cell_type": "code",
      "metadata": {
        "id": "y8xJHRD_xuHu"
      },
      "source": [
        "df = pd.read_csv('data_01/youtube_rank.csv')"
      ],
      "execution_count": 20,
      "outputs": []
    },
    {
      "cell_type": "code",
      "metadata": {
        "colab": {
          "base_uri": "https://localhost:8080/",
          "height": 204
        },
        "id": "qy6VdLtWOQ4Z",
        "outputId": "87170a45-b884-4371-87ad-9fee958eb1df"
      },
      "source": [
        "df.head()"
      ],
      "execution_count": 21,
      "outputs": [
        {
          "output_type": "execute_result",
          "data": {
            "text/html": [
              "<div>\n",
              "<style scoped>\n",
              "    .dataframe tbody tr th:only-of-type {\n",
              "        vertical-align: middle;\n",
              "    }\n",
              "\n",
              "    .dataframe tbody tr th {\n",
              "        vertical-align: top;\n",
              "    }\n",
              "\n",
              "    .dataframe thead th {\n",
              "        text-align: right;\n",
              "    }\n",
              "</style>\n",
              "<table border=\"1\" class=\"dataframe\">\n",
              "  <thead>\n",
              "    <tr style=\"text-align: right;\">\n",
              "      <th></th>\n",
              "      <th>title</th>\n",
              "      <th>category</th>\n",
              "      <th>subscriber</th>\n",
              "      <th>view</th>\n",
              "      <th>video</th>\n",
              "    </tr>\n",
              "  </thead>\n",
              "  <tbody>\n",
              "    <tr>\n",
              "      <th>0</th>\n",
              "      <td>BLACKPINK</td>\n",
              "      <td>[음악/댄스/가수]</td>\n",
              "      <td>5140만</td>\n",
              "      <td>128억5130만</td>\n",
              "      <td>319개</td>\n",
              "    </tr>\n",
              "    <tr>\n",
              "      <th>1</th>\n",
              "      <td>Big Hit Labels</td>\n",
              "      <td>[음악/댄스/가수]</td>\n",
              "      <td>4550만</td>\n",
              "      <td>120억8966만</td>\n",
              "      <td>433개</td>\n",
              "    </tr>\n",
              "    <tr>\n",
              "      <th>2</th>\n",
              "      <td>BANGTANTV</td>\n",
              "      <td>[음악/댄스/가수]</td>\n",
              "      <td>3870만</td>\n",
              "      <td>54억7598만</td>\n",
              "      <td>1,319개</td>\n",
              "    </tr>\n",
              "    <tr>\n",
              "      <th>3</th>\n",
              "      <td>Boram Tube Vlog [보람튜브 브이로그]</td>\n",
              "      <td>[키즈/어린이]</td>\n",
              "      <td>2650만</td>\n",
              "      <td>110억5288만</td>\n",
              "      <td>223개</td>\n",
              "    </tr>\n",
              "    <tr>\n",
              "      <th>4</th>\n",
              "      <td>SMTOWN</td>\n",
              "      <td>[음악/댄스/가수]</td>\n",
              "      <td>2450만</td>\n",
              "      <td>180억7532만</td>\n",
              "      <td>3,583개</td>\n",
              "    </tr>\n",
              "  </tbody>\n",
              "</table>\n",
              "</div>"
            ],
            "text/plain": [
              "                         title    category subscriber       view   video\n",
              "0                    BLACKPINK  [음악/댄스/가수]      5140만  128억5130만    319개\n",
              "1               Big Hit Labels  [음악/댄스/가수]      4550만  120억8966만    433개\n",
              "2                    BANGTANTV  [음악/댄스/가수]      3870만   54억7598만  1,319개\n",
              "3  Boram Tube Vlog [보람튜브 브이로그]    [키즈/어린이]      2650만  110억5288만    223개\n",
              "4                       SMTOWN  [음악/댄스/가수]      2450만  180억7532만  3,583개"
            ]
          },
          "metadata": {},
          "execution_count": 21
        }
      ]
    },
    {
      "cell_type": "code",
      "metadata": {
        "colab": {
          "base_uri": "https://localhost:8080/"
        },
        "id": "hJMZF3NmORno",
        "outputId": "788786dc-0d00-4acf-8b1c-293121428dcc"
      },
      "source": [
        "df.dtypes"
      ],
      "execution_count": 22,
      "outputs": [
        {
          "output_type": "execute_result",
          "data": {
            "text/plain": [
              "title         object\n",
              "category      object\n",
              "subscriber    object\n",
              "view          object\n",
              "video         object\n",
              "dtype: object"
            ]
          },
          "metadata": {},
          "execution_count": 22
        }
      ]
    },
    {
      "cell_type": "code",
      "metadata": {
        "colab": {
          "base_uri": "https://localhost:8080/"
        },
        "id": "iUsWcA-bOoag",
        "outputId": "f3e75b66-11b0-40b1-a0e1-6f5983722cc9"
      },
      "source": [
        "df['subscriber'].dtype"
      ],
      "execution_count": 23,
      "outputs": [
        {
          "output_type": "execute_result",
          "data": {
            "text/plain": [
              "dtype('O')"
            ]
          },
          "metadata": {},
          "execution_count": 23
        }
      ]
    },
    {
      "cell_type": "code",
      "metadata": {
        "id": "qwgEbx1dQALS",
        "colab": {
          "base_uri": "https://localhost:8080/"
        },
        "outputId": "b347cecd-46dc-41ea-b424-65cbb2b86327"
      },
      "source": [
        "#1-14 df의 각 column 별 dtype을 확인합니다\n",
        "df.dtypes"
      ],
      "execution_count": 24,
      "outputs": [
        {
          "output_type": "execute_result",
          "data": {
            "text/plain": [
              "title         object\n",
              "category      object\n",
              "subscriber    object\n",
              "view          object\n",
              "video         object\n",
              "dtype: object"
            ]
          },
          "metadata": {},
          "execution_count": 24
        }
      ]
    },
    {
      "cell_type": "code",
      "metadata": {
        "colab": {
          "base_uri": "https://localhost:8080/"
        },
        "id": "ioNti0xzSLDX",
        "outputId": "de5ee431-99ef-4282-8f10-9745096dbdc4"
      },
      "source": [
        "#1-15 df의 'subscriber'컬럼의 데이터타입을 확인해 본다\n",
        "df['subscriber'].dtype"
      ],
      "execution_count": 25,
      "outputs": [
        {
          "output_type": "execute_result",
          "data": {
            "text/plain": [
              "dtype('O')"
            ]
          },
          "metadata": {},
          "execution_count": 25
        }
      ]
    },
    {
      "cell_type": "code",
      "metadata": {
        "colab": {
          "base_uri": "https://localhost:8080/"
        },
        "id": "A81WKJrkShjK",
        "outputId": "b544e9bf-f5a5-4ff0-ca48-8b3d6adc6ddf"
      },
      "source": [
        "#1-16 df의 'subscriber'의 첫3개행을 출력해 내용을 확인한다\n",
        "df['subscriber'].head(3)"
      ],
      "execution_count": 26,
      "outputs": [
        {
          "output_type": "execute_result",
          "data": {
            "text/plain": [
              "0    5140만\n",
              "1    4550만\n",
              "2    3870만\n",
              "Name: subscriber, dtype: object"
            ]
          },
          "metadata": {},
          "execution_count": 26
        }
      ]
    },
    {
      "cell_type": "markdown",
      "metadata": {
        "id": "XELcweaHTPbx"
      },
      "source": [
        "# 데이터 타입을 변격하는 방법\n",
        "- Series.astype(타입)\n",
        "\n",
        "- import numpy as np"
      ]
    },
    {
      "cell_type": "code",
      "metadata": {
        "id": "kXSesEuhSu2V"
      },
      "source": [
        "#1-17 df의 'subscriber'컬럼의 dtype을 int64으로 변경하여 보라\n",
        "#<오류 발생함> 한글,특수문자 드이 섞여 있으면 정수로 변경할수 없음."
      ],
      "execution_count": 27,
      "outputs": []
    },
    {
      "cell_type": "code",
      "metadata": {
        "colab": {
          "base_uri": "https://localhost:8080/"
        },
        "id": "rPlqSAADULYZ",
        "outputId": "6a22a568-31b2-4f78-8a5c-08be6b70becf"
      },
      "source": [
        "#1-18 df의 'subscriber'컬럼에 대해 '만'을 '0000'으로 변경하는 코드를 작성\n",
        "df['subscriber'].replace('만','0000').head()"
      ],
      "execution_count": 28,
      "outputs": [
        {
          "output_type": "execute_result",
          "data": {
            "text/plain": [
              "0    5140만\n",
              "1    4550만\n",
              "2    3870만\n",
              "3    2650만\n",
              "4    2450만\n",
              "Name: subscriber, dtype: object"
            ]
          },
          "metadata": {},
          "execution_count": 28
        }
      ]
    },
    {
      "cell_type": "code",
      "metadata": {
        "colab": {
          "base_uri": "https://localhost:8080/"
        },
        "id": "g0UIdyDEUrbw",
        "outputId": "2f56c953-53ea-4fc7-cad8-2199bb185813"
      },
      "source": [
        "df['subscriber'].replace('만','0000',regex=True).head()"
      ],
      "execution_count": 29,
      "outputs": [
        {
          "output_type": "execute_result",
          "data": {
            "text/plain": [
              "0    51400000\n",
              "1    45500000\n",
              "2    38700000\n",
              "3    26500000\n",
              "4    24500000\n",
              "Name: subscriber, dtype: object"
            ]
          },
          "metadata": {},
          "execution_count": 29
        }
      ]
    },
    {
      "cell_type": "code",
      "metadata": {
        "colab": {
          "base_uri": "https://localhost:8080/"
        },
        "id": "0J10sS8hU74P",
        "outputId": "cb40221d-ba28-4caa-d530-59efea235836"
      },
      "source": [
        "#1-19 df의 'subscriber'컬럼에 대해 '만'을 '0000'으로 변경한뒤,astype('int64')를 사용하여 dtype을 변경하세요\n",
        "df['subscriber'].replace('만','0000',regex=True).astype('int64').head()"
      ],
      "execution_count": 30,
      "outputs": [
        {
          "output_type": "execute_result",
          "data": {
            "text/plain": [
              "0    51400000\n",
              "1    45500000\n",
              "2    38700000\n",
              "3    26500000\n",
              "4    24500000\n",
              "Name: subscriber, dtype: int64"
            ]
          },
          "metadata": {},
          "execution_count": 30
        }
      ]
    },
    {
      "cell_type": "code",
      "metadata": {
        "colab": {
          "base_uri": "https://localhost:8080/"
        },
        "id": "wGiE9TnxVLIO",
        "outputId": "42bad551-f6ae-4bda-b6b2-984adbb336fd"
      },
      "source": [
        "#1-20 df의'view'컬럼에 대해 첫 5개 행을 조회합니다\n",
        "df['view'].head()"
      ],
      "execution_count": 31,
      "outputs": [
        {
          "output_type": "execute_result",
          "data": {
            "text/plain": [
              "0    128억5130만\n",
              "1    120억8966만\n",
              "2     54억7598만\n",
              "3    110억5288만\n",
              "4    180억7532만\n",
              "Name: view, dtype: object"
            ]
          },
          "metadata": {},
          "execution_count": 31
        }
      ]
    },
    {
      "cell_type": "code",
      "metadata": {
        "colab": {
          "base_uri": "https://localhost:8080/"
        },
        "id": "n6nbIVAGY9J8",
        "outputId": "6193c156-1bef-4f31-b472-37795a49ebe6"
      },
      "source": [
        "#1-21 df의 'view'컬럼에 대해 '억'에 대해 삭제,'만'에 대해서는 '0000'로 변경하는 작업을 수행한뒤,처음 5개 데이터를 출력합니다.\n",
        "# 변경할 내용이 여러 개일 경우 두개의 list 또는 dict를 사용합니다\n",
        "df['view'].replace(['억','만'],['','0000'],regex=True).head()"
      ],
      "execution_count": 32,
      "outputs": [
        {
          "output_type": "execute_result",
          "data": {
            "text/plain": [
              "0    12851300000\n",
              "1    12089660000\n",
              "2     5475980000\n",
              "3    11052880000\n",
              "4    18075320000\n",
              "Name: view, dtype: object"
            ]
          },
          "metadata": {},
          "execution_count": 32
        }
      ]
    },
    {
      "cell_type": "code",
      "metadata": {
        "colab": {
          "base_uri": "https://localhost:8080/"
        },
        "id": "EyHbL34gZ0f2",
        "outputId": "28c3fc22-5566-43d6-c91d-83bb02c2211f"
      },
      "source": [
        "df['view'].replace({'억':'','만':'0000'},regex=True).head()"
      ],
      "execution_count": 33,
      "outputs": [
        {
          "output_type": "execute_result",
          "data": {
            "text/plain": [
              "0    12851300000\n",
              "1    12089660000\n",
              "2     5475980000\n",
              "3    11052880000\n",
              "4    18075320000\n",
              "Name: view, dtype: object"
            ]
          },
          "metadata": {},
          "execution_count": 33
        }
      ]
    },
    {
      "cell_type": "code",
      "metadata": {
        "id": "amphkeR6aHBz",
        "colab": {
          "base_uri": "https://localhost:8080/"
        },
        "outputId": "4a410975-7685-4de1-a9ba-84574a8ebbcf"
      },
      "source": [
        "#1-22 df의 'view'컬럼에 대해 '억'에 대해서 삭제,'만'에 대해서는 '0000'로 변경하는 작업을 수행한뒤,astype('int64')를 사용하여 데이터 타입을 정수로 변경하고 처음 5개 데이터를 출력합니다.\n",
        "df['view'].replace({'억':'', '만':'0000'}, regex=True).astype('int64').head()"
      ],
      "execution_count": 34,
      "outputs": [
        {
          "output_type": "execute_result",
          "data": {
            "text/plain": [
              "0    12851300000\n",
              "1    12089660000\n",
              "2     5475980000\n",
              "3    11052880000\n",
              "4    18075320000\n",
              "Name: view, dtype: int64"
            ]
          },
          "metadata": {},
          "execution_count": 34
        }
      ]
    },
    {
      "cell_type": "code",
      "metadata": {
        "colab": {
          "base_uri": "https://localhost:8080/"
        },
        "id": "NvoNg7OV_sfJ",
        "outputId": "d6d18645-170d-4f1a-d696-2cd5b24db7d5"
      },
      "source": [
        "#1-23 df의 'video'컬럼의 첫5개 데이터를 확인합니다.\n",
        "df['video'].head()"
      ],
      "execution_count": 35,
      "outputs": [
        {
          "output_type": "execute_result",
          "data": {
            "text/plain": [
              "0      319개\n",
              "1      433개\n",
              "2    1,319개\n",
              "3      223개\n",
              "4    3,583개\n",
              "Name: video, dtype: object"
            ]
          },
          "metadata": {},
          "execution_count": 35
        }
      ]
    },
    {
      "cell_type": "code",
      "metadata": {
        "colab": {
          "base_uri": "https://localhost:8080/"
        },
        "id": "Yg9kTjkvAAt-",
        "outputId": "1632f3f0-2611-4eb2-a977-97a1843d01d8"
      },
      "source": [
        "#1-24 df의 'video'컬럼에서 '개'와 ' , '을 제거하는 작업을 수행한뒤, 처음 5개 데이터를 출력합니다.\n",
        "# 콤마','는 의미가 있는 문자이므로 (\\)를 함께 사용합니다.\n",
        "# 메타문자 : , . + ? * ^ % ...등 메타문자의 기능을 없애기 위해 (\\)\n",
        "df['video'].replace(['\\,' , '개' ],' ',regex=True).head()"
      ],
      "execution_count": 36,
      "outputs": [
        {
          "output_type": "execute_result",
          "data": {
            "text/plain": [
              "0      319 \n",
              "1      433 \n",
              "2    1 319 \n",
              "3      223 \n",
              "4    3 583 \n",
              "Name: video, dtype: object"
            ]
          },
          "metadata": {},
          "execution_count": 36
        }
      ]
    },
    {
      "cell_type": "code",
      "metadata": {
        "colab": {
          "base_uri": "https://localhost:8080/"
        },
        "id": "Jg3UnS-gCXii",
        "outputId": "df74ae13-41ae-47d3-bc91-a229b783d078"
      },
      "source": [
        "#1-25 df의 'video'컬럼에서 '개',' , '을 제거하고 ,astype(int64)를 사용하여 작업을 수행한뒤, 처음 5개 데이터를 출력합니다.\n",
        "df['video'].replace(['\\,','개'],'', regex=True).astype('int64').head()"
      ],
      "execution_count": 38,
      "outputs": [
        {
          "output_type": "execute_result",
          "data": {
            "text/plain": [
              "0     319\n",
              "1     433\n",
              "2    1319\n",
              "3     223\n",
              "4    3583\n",
              "Name: video, dtype: int64"
            ]
          },
          "metadata": {},
          "execution_count": 38
        }
      ]
    },
    {
      "cell_type": "markdown",
      "metadata": {
        "id": "-a_6QSnFIC8M"
      },
      "source": [
        "# 원래 데이터의 값별 개수 확인:\n",
        "- Series.value_conts():값 별 개수를 Series로 반환\n",
        "- 개수가 많은것 부터 내림차순 정렬되어 반환됨\n",
        "- 값이 index,개수가 value 로 사용됨\n",
        "\n",
        "## index 정렬\n",
        "- DataFrame/Series.sort_index(ascending=True)"
      ]
    },
    {
      "cell_type": "code",
      "metadata": {
        "colab": {
          "base_uri": "https://localhost:8080/"
        },
        "id": "T3LjeChIC-vZ",
        "outputId": "147206b1-8ff4-4c1e-ae91-09a2f3cfee27"
      },
      "source": [
        "#1-26 df의 열중'category'컬럼에 대해 값 별 개수를 확인합니다\n",
        "df['category'].value_counts()"
      ],
      "execution_count": 39,
      "outputs": [
        {
          "output_type": "execute_result",
          "data": {
            "text/plain": [
              "[음악/댄스/가수]     175\n",
              "[TV/방송]        161\n",
              "[게임]           101\n",
              "[키즈/어린이]        95\n",
              "[음식/요리/레시피]     88\n",
              "[BJ/인물/연예인]     68\n",
              "[패션/미용]         57\n",
              "[뉴스/정치/사회]      56\n",
              "[취미/라이프]        40\n",
              "[미분류]           40\n",
              "[영화/만화/애니]      33\n",
              "[교육/강의]         23\n",
              "[애완/반려동물]       20\n",
              "[스포츠/운동]        12\n",
              "[IT/기술/컴퓨터]      8\n",
              "[해외]             6\n",
              "[주식/경제/부동산]      5\n",
              "[국내/해외/여행]       5\n",
              "[회사/오피셜]         4\n",
              "[자동차]            2\n",
              "[취미]             1\n",
              "Name: category, dtype: int64"
            ]
          },
          "metadata": {},
          "execution_count": 39
        }
      ]
    },
    {
      "cell_type": "code",
      "metadata": {
        "colab": {
          "base_uri": "https://localhost:8080/"
        },
        "id": "FFvTQq3fJOTo",
        "outputId": "0cdef87d-225c-48df-feb3-2d0b5cd2b75a"
      },
      "source": [
        "#1-27 df의 'category'에 대해 첫 글자와 마지막글자인'[',']'을 제거 합니다.\n",
        "# replace를 사용하여 제거할수 있지만, Accessor 중 str을 사용하여 보도록 합니다.\n",
        "df['category'].replace({'\\[':'','\\]':''},regex=True).head() \n",
        "\n",
        "#첫글자,마지막글자가 아니라도 제거함"
      ],
      "execution_count": 43,
      "outputs": [
        {
          "output_type": "execute_result",
          "data": {
            "text/plain": [
              "0    음악/댄스/가수\n",
              "1    음악/댄스/가수\n",
              "2    음악/댄스/가수\n",
              "3      키즈/어린이\n",
              "4    음악/댄스/가수\n",
              "Name: category, dtype: object"
            ]
          },
          "metadata": {},
          "execution_count": 43
        }
      ]
    },
    {
      "cell_type": "code",
      "metadata": {
        "colab": {
          "base_uri": "https://localhost:8080/"
        },
        "id": "J0VG_WvhKKYd",
        "outputId": "c9c2f553-501b-4945-8530-1d25bc11644a"
      },
      "source": [
        "temp = df['category'].replace({'\\[':'','\\]':''},regex=True)\n",
        "temp"
      ],
      "execution_count": 44,
      "outputs": [
        {
          "output_type": "execute_result",
          "data": {
            "text/plain": [
              "0      음악/댄스/가수\n",
              "1      음악/댄스/가수\n",
              "2      음악/댄스/가수\n",
              "3        키즈/어린이\n",
              "4      음악/댄스/가수\n",
              "         ...   \n",
              "995         미분류\n",
              "996      취미/라이프\n",
              "997       TV/방송\n",
              "998         미분류\n",
              "999       TV/방송\n",
              "Name: category, Length: 1000, dtype: object"
            ]
          },
          "metadata": {},
          "execution_count": 44
        }
      ]
    },
    {
      "cell_type": "code",
      "metadata": {
        "colab": {
          "base_uri": "https://localhost:8080/"
        },
        "id": "5JQOWqGMLOAX",
        "outputId": "662a1530-4243-4e4e-ef24-4ecd95dfaa95"
      },
      "source": [
        "temp.value_counts()"
      ],
      "execution_count": 45,
      "outputs": [
        {
          "output_type": "execute_result",
          "data": {
            "text/plain": [
              "음악/댄스/가수     175\n",
              "TV/방송        161\n",
              "게임           101\n",
              "키즈/어린이        95\n",
              "음식/요리/레시피     88\n",
              "BJ/인물/연예인     68\n",
              "패션/미용         57\n",
              "뉴스/정치/사회      56\n",
              "취미/라이프        40\n",
              "미분류           40\n",
              "영화/만화/애니      33\n",
              "교육/강의         23\n",
              "애완/반려동물       20\n",
              "스포츠/운동        12\n",
              "IT/기술/컴퓨터      8\n",
              "해외             6\n",
              "주식/경제/부동산      5\n",
              "국내/해외/여행       5\n",
              "회사/오피셜         4\n",
              "자동차            2\n",
              "취미             1\n",
              "Name: category, dtype: int64"
            ]
          },
          "metadata": {},
          "execution_count": 45
        }
      ]
    },
    {
      "cell_type": "code",
      "metadata": {
        "id": "OIGiNWHJLSep"
      },
      "source": [
        ""
      ],
      "execution_count": null,
      "outputs": []
    }
  ]
}