{
  "nbformat": 4,
  "nbformat_minor": 0,
  "metadata": {
    "colab": {
      "name": "데이터 분석 실기-1.ipynb",
      "provenance": [],
      "authorship_tag": "ABX9TyNFjunKMOdcN5tlF5HlRRZK",
      "include_colab_link": true
    },
    "kernelspec": {
      "name": "python3",
      "display_name": "Python 3"
    },
    "language_info": {
      "name": "python"
    }
  },
  "cells": [
    {
      "cell_type": "markdown",
      "metadata": {
        "id": "view-in-github",
        "colab_type": "text"
      },
      "source": [
        "<a href=\"https://colab.research.google.com/github/orizay/free-fonts/blob/master/%EB%8D%B0%EC%9D%B4%ED%84%B0_%EB%B6%84%EC%84%9D_%EC%8B%A4%EA%B8%B0_1.ipynb\" target=\"_parent\"><img src=\"https://colab.research.google.com/assets/colab-badge.svg\" alt=\"Open In Colab\"/></a>"
      ]
    },
    {
      "cell_type": "code",
      "metadata": {
        "colab": {
          "base_uri": "https://localhost:8080/"
        },
        "id": "jUPzEELeoaiA",
        "outputId": "cbbaaa49-8d96-431d-a400-e42d428ca59f"
      },
      "source": [
        "!git clone https://github.com/Soyoung-Yoon/data_01"
      ],
      "execution_count": 1,
      "outputs": [
        {
          "output_type": "stream",
          "name": "stdout",
          "text": [
            "Cloning into 'data_01'...\n",
            "remote: Enumerating objects: 47, done.\u001b[K\n",
            "remote: Counting objects: 100% (47/47), done.\u001b[K\n",
            "remote: Compressing objects: 100% (47/47), done.\u001b[K\n",
            "remote: Total 47 (delta 15), reused 0 (delta 0), pack-reused 0\u001b[K\n",
            "Unpacking objects: 100% (47/47), done.\n"
          ]
        }
      ]
    },
    {
      "cell_type": "markdown",
      "metadata": {
        "id": "49WbJah4pZFD"
      },
      "source": [
        "# Youtube 인기채널은?\n",
        "- title: 채널명\n",
        "- category: 카테고리\n",
        "- subscriber: 구독자수\n",
        "- view: 조회수\n",
        "- video: 영상개수"
      ]
    },
    {
      "cell_type": "code",
      "metadata": {
        "id": "jTQmsWoPos2r"
      },
      "source": [
        "import pandas as pd\n",
        "import numpy as np"
      ],
      "execution_count": 2,
      "outputs": []
    },
    {
      "cell_type": "code",
      "metadata": {
        "id": "y8xJHRD_xuHu"
      },
      "source": [
        "df = pd.read_csv('data_01/youtube_rank.csv')"
      ],
      "execution_count": 3,
      "outputs": []
    },
    {
      "cell_type": "code",
      "metadata": {
        "colab": {
          "base_uri": "https://localhost:8080/",
          "height": 204
        },
        "id": "qy6VdLtWOQ4Z",
        "outputId": "234d0bc2-4634-43ee-da27-d945af690704"
      },
      "source": [
        "df.head()"
      ],
      "execution_count": 4,
      "outputs": [
        {
          "output_type": "execute_result",
          "data": {
            "text/html": [
              "<div>\n",
              "<style scoped>\n",
              "    .dataframe tbody tr th:only-of-type {\n",
              "        vertical-align: middle;\n",
              "    }\n",
              "\n",
              "    .dataframe tbody tr th {\n",
              "        vertical-align: top;\n",
              "    }\n",
              "\n",
              "    .dataframe thead th {\n",
              "        text-align: right;\n",
              "    }\n",
              "</style>\n",
              "<table border=\"1\" class=\"dataframe\">\n",
              "  <thead>\n",
              "    <tr style=\"text-align: right;\">\n",
              "      <th></th>\n",
              "      <th>title</th>\n",
              "      <th>category</th>\n",
              "      <th>subscriber</th>\n",
              "      <th>view</th>\n",
              "      <th>video</th>\n",
              "    </tr>\n",
              "  </thead>\n",
              "  <tbody>\n",
              "    <tr>\n",
              "      <th>0</th>\n",
              "      <td>BLACKPINK</td>\n",
              "      <td>[음악/댄스/가수]</td>\n",
              "      <td>5140만</td>\n",
              "      <td>128억5130만</td>\n",
              "      <td>319개</td>\n",
              "    </tr>\n",
              "    <tr>\n",
              "      <th>1</th>\n",
              "      <td>Big Hit Labels</td>\n",
              "      <td>[음악/댄스/가수]</td>\n",
              "      <td>4550만</td>\n",
              "      <td>120억8966만</td>\n",
              "      <td>433개</td>\n",
              "    </tr>\n",
              "    <tr>\n",
              "      <th>2</th>\n",
              "      <td>BANGTANTV</td>\n",
              "      <td>[음악/댄스/가수]</td>\n",
              "      <td>3870만</td>\n",
              "      <td>54억7598만</td>\n",
              "      <td>1,319개</td>\n",
              "    </tr>\n",
              "    <tr>\n",
              "      <th>3</th>\n",
              "      <td>Boram Tube Vlog [보람튜브 브이로그]</td>\n",
              "      <td>[키즈/어린이]</td>\n",
              "      <td>2650만</td>\n",
              "      <td>110억5288만</td>\n",
              "      <td>223개</td>\n",
              "    </tr>\n",
              "    <tr>\n",
              "      <th>4</th>\n",
              "      <td>SMTOWN</td>\n",
              "      <td>[음악/댄스/가수]</td>\n",
              "      <td>2450만</td>\n",
              "      <td>180억7532만</td>\n",
              "      <td>3,583개</td>\n",
              "    </tr>\n",
              "  </tbody>\n",
              "</table>\n",
              "</div>"
            ],
            "text/plain": [
              "                         title    category subscriber       view   video\n",
              "0                    BLACKPINK  [음악/댄스/가수]      5140만  128억5130만    319개\n",
              "1               Big Hit Labels  [음악/댄스/가수]      4550만  120억8966만    433개\n",
              "2                    BANGTANTV  [음악/댄스/가수]      3870만   54억7598만  1,319개\n",
              "3  Boram Tube Vlog [보람튜브 브이로그]    [키즈/어린이]      2650만  110억5288만    223개\n",
              "4                       SMTOWN  [음악/댄스/가수]      2450만  180억7532만  3,583개"
            ]
          },
          "metadata": {},
          "execution_count": 4
        }
      ]
    },
    {
      "cell_type": "code",
      "metadata": {
        "colab": {
          "base_uri": "https://localhost:8080/"
        },
        "id": "hJMZF3NmORno",
        "outputId": "7f0a80a1-9f24-4ac7-f70e-2be11b891ca0"
      },
      "source": [
        "df.dtypes"
      ],
      "execution_count": 5,
      "outputs": [
        {
          "output_type": "execute_result",
          "data": {
            "text/plain": [
              "title         object\n",
              "category      object\n",
              "subscriber    object\n",
              "view          object\n",
              "video         object\n",
              "dtype: object"
            ]
          },
          "metadata": {},
          "execution_count": 5
        }
      ]
    },
    {
      "cell_type": "code",
      "metadata": {
        "colab": {
          "base_uri": "https://localhost:8080/"
        },
        "id": "iUsWcA-bOoag",
        "outputId": "d555b3d5-057c-4629-c28f-0216f48b548e"
      },
      "source": [
        "df['subscriber'].dtype"
      ],
      "execution_count": 6,
      "outputs": [
        {
          "output_type": "execute_result",
          "data": {
            "text/plain": [
              "dtype('O')"
            ]
          },
          "metadata": {},
          "execution_count": 6
        }
      ]
    },
    {
      "cell_type": "code",
      "metadata": {
        "id": "qwgEbx1dQALS",
        "colab": {
          "base_uri": "https://localhost:8080/"
        },
        "outputId": "157ff501-b569-40e9-c159-f468191930b5"
      },
      "source": [
        "#1-14 df의 각 column 별 dtype을 확인합니다\n",
        "df.dtypes"
      ],
      "execution_count": 7,
      "outputs": [
        {
          "output_type": "execute_result",
          "data": {
            "text/plain": [
              "title         object\n",
              "category      object\n",
              "subscriber    object\n",
              "view          object\n",
              "video         object\n",
              "dtype: object"
            ]
          },
          "metadata": {},
          "execution_count": 7
        }
      ]
    },
    {
      "cell_type": "code",
      "metadata": {
        "colab": {
          "base_uri": "https://localhost:8080/"
        },
        "id": "ioNti0xzSLDX",
        "outputId": "6f371c25-681f-43a8-f747-40dd704a8ca8"
      },
      "source": [
        "#1-15 df의 'subscriber'컬럼의 데이터타입을 확인해 본다\n",
        "df['subscriber'].dtype"
      ],
      "execution_count": 8,
      "outputs": [
        {
          "output_type": "execute_result",
          "data": {
            "text/plain": [
              "dtype('O')"
            ]
          },
          "metadata": {},
          "execution_count": 8
        }
      ]
    },
    {
      "cell_type": "code",
      "metadata": {
        "colab": {
          "base_uri": "https://localhost:8080/"
        },
        "id": "A81WKJrkShjK",
        "outputId": "fa7ac18c-da14-41aa-c02d-f2cc23dfa2a5"
      },
      "source": [
        "#1-16 df의 'subscriber'의 첫3개행을 출력해 내용을 확인한다\n",
        "df['subscriber'].head(3)"
      ],
      "execution_count": 9,
      "outputs": [
        {
          "output_type": "execute_result",
          "data": {
            "text/plain": [
              "0    5140만\n",
              "1    4550만\n",
              "2    3870만\n",
              "Name: subscriber, dtype: object"
            ]
          },
          "metadata": {},
          "execution_count": 9
        }
      ]
    },
    {
      "cell_type": "markdown",
      "metadata": {
        "id": "XELcweaHTPbx"
      },
      "source": [
        "# 데이터 타입을 변격하는 방법\n",
        "- Series.astype(타입)\n",
        "\n",
        "- import numpy as np"
      ]
    },
    {
      "cell_type": "code",
      "metadata": {
        "id": "kXSesEuhSu2V"
      },
      "source": [
        "#1-17 df의 'subscriber'컬럼의 dtype을 int64으로 변경하여 보라\n",
        "#<오류 발생함> 한글,특수문자 드이 섞여 있으면 정수로 변경할수 없음."
      ],
      "execution_count": 10,
      "outputs": []
    },
    {
      "cell_type": "code",
      "metadata": {
        "colab": {
          "base_uri": "https://localhost:8080/"
        },
        "id": "rPlqSAADULYZ",
        "outputId": "95aca8a4-717e-42d7-d4ec-7100d693f2b6"
      },
      "source": [
        "#1-18 df의 'subscriber'컬럼에 대해 '만'을 '0000'으로 변경하는 코드를 작성\n",
        "df['subscriber'].replace('만','0000').head()"
      ],
      "execution_count": 11,
      "outputs": [
        {
          "output_type": "execute_result",
          "data": {
            "text/plain": [
              "0    5140만\n",
              "1    4550만\n",
              "2    3870만\n",
              "3    2650만\n",
              "4    2450만\n",
              "Name: subscriber, dtype: object"
            ]
          },
          "metadata": {},
          "execution_count": 11
        }
      ]
    },
    {
      "cell_type": "code",
      "metadata": {
        "colab": {
          "base_uri": "https://localhost:8080/"
        },
        "id": "g0UIdyDEUrbw",
        "outputId": "fce621a4-91ab-4b5c-d776-996c9d6c57ae"
      },
      "source": [
        "df['subscriber'].replace('만','0000',regex=True).head()"
      ],
      "execution_count": 12,
      "outputs": [
        {
          "output_type": "execute_result",
          "data": {
            "text/plain": [
              "0    51400000\n",
              "1    45500000\n",
              "2    38700000\n",
              "3    26500000\n",
              "4    24500000\n",
              "Name: subscriber, dtype: object"
            ]
          },
          "metadata": {},
          "execution_count": 12
        }
      ]
    },
    {
      "cell_type": "code",
      "metadata": {
        "colab": {
          "base_uri": "https://localhost:8080/"
        },
        "id": "0J10sS8hU74P",
        "outputId": "fa067fda-e28d-4137-9360-a8dd8146d321"
      },
      "source": [
        "#1-19 df의 'subscriber'컬럼에 대해 '만'을 '0000'으로 변경한뒤,astype('int64')를 사용하여 dtype을 변경하세요\n",
        "df['subscriber'].replace('만','0000',regex=True).astype('int64').head()"
      ],
      "execution_count": 13,
      "outputs": [
        {
          "output_type": "execute_result",
          "data": {
            "text/plain": [
              "0    51400000\n",
              "1    45500000\n",
              "2    38700000\n",
              "3    26500000\n",
              "4    24500000\n",
              "Name: subscriber, dtype: int64"
            ]
          },
          "metadata": {},
          "execution_count": 13
        }
      ]
    },
    {
      "cell_type": "code",
      "metadata": {
        "colab": {
          "base_uri": "https://localhost:8080/"
        },
        "id": "wGiE9TnxVLIO",
        "outputId": "799f3f50-66c1-41fb-cedf-dd324ce75967"
      },
      "source": [
        "#1-20 df의'view'컬럼에 대해 첫 5개 행을 조회합니다\n",
        "df['view'].head()"
      ],
      "execution_count": 14,
      "outputs": [
        {
          "output_type": "execute_result",
          "data": {
            "text/plain": [
              "0    128억5130만\n",
              "1    120억8966만\n",
              "2     54억7598만\n",
              "3    110억5288만\n",
              "4    180억7532만\n",
              "Name: view, dtype: object"
            ]
          },
          "metadata": {},
          "execution_count": 14
        }
      ]
    },
    {
      "cell_type": "code",
      "metadata": {
        "colab": {
          "base_uri": "https://localhost:8080/"
        },
        "id": "n6nbIVAGY9J8",
        "outputId": "5133d45e-aaa7-4c67-bb35-d37468e826b8"
      },
      "source": [
        "#1-21 df의 'view'컬럼에 대해 '억'에 대해 삭제,'만'에 대해서는 '0000'로 변경하는 작업을 수행한뒤,처음 5개 데이터를 출력합니다.\n",
        "# 변경할 내용이 여러 개일 경우 두개의 list 또는 dict를 사용합니다\n",
        "df['view'].replace(['억','만'],['','0000'],regex=True).head()"
      ],
      "execution_count": 15,
      "outputs": [
        {
          "output_type": "execute_result",
          "data": {
            "text/plain": [
              "0    12851300000\n",
              "1    12089660000\n",
              "2     5475980000\n",
              "3    11052880000\n",
              "4    18075320000\n",
              "Name: view, dtype: object"
            ]
          },
          "metadata": {},
          "execution_count": 15
        }
      ]
    },
    {
      "cell_type": "code",
      "metadata": {
        "colab": {
          "base_uri": "https://localhost:8080/"
        },
        "id": "EyHbL34gZ0f2",
        "outputId": "afd35463-2d93-4b69-9330-4d5d17ea12af"
      },
      "source": [
        "df['view'].replace({'억':'','만':'0000'},regex=True).head()"
      ],
      "execution_count": 16,
      "outputs": [
        {
          "output_type": "execute_result",
          "data": {
            "text/plain": [
              "0    12851300000\n",
              "1    12089660000\n",
              "2     5475980000\n",
              "3    11052880000\n",
              "4    18075320000\n",
              "Name: view, dtype: object"
            ]
          },
          "metadata": {},
          "execution_count": 16
        }
      ]
    },
    {
      "cell_type": "code",
      "metadata": {
        "id": "amphkeR6aHBz",
        "colab": {
          "base_uri": "https://localhost:8080/"
        },
        "outputId": "4de24970-ff87-401e-b94f-437aaeb8d5fa"
      },
      "source": [
        "#1-22 df의 'view'컬럼에 대해 '억'에 대해서 삭제,'만'에 대해서는 '0000'로 변경하는 작업을 수행한뒤,astype('int64')를 사용하여 데이터 타입을 정수로 변경하고 처음 5개 데이터를 출력합니다.\n",
        "df['view'].replace({'억':'', '만':'0000'}, regex=True).astype('int64').head()"
      ],
      "execution_count": 17,
      "outputs": [
        {
          "output_type": "execute_result",
          "data": {
            "text/plain": [
              "0    12851300000\n",
              "1    12089660000\n",
              "2     5475980000\n",
              "3    11052880000\n",
              "4    18075320000\n",
              "Name: view, dtype: int64"
            ]
          },
          "metadata": {},
          "execution_count": 17
        }
      ]
    },
    {
      "cell_type": "code",
      "metadata": {
        "colab": {
          "base_uri": "https://localhost:8080/"
        },
        "id": "NvoNg7OV_sfJ",
        "outputId": "4496051f-57a8-490b-8ecf-559bd5b6b03e"
      },
      "source": [
        "#1-23 df의 'video'컬럼의 첫5개 데이터를 확인합니다.\n",
        "df['video'].head()"
      ],
      "execution_count": 18,
      "outputs": [
        {
          "output_type": "execute_result",
          "data": {
            "text/plain": [
              "0      319개\n",
              "1      433개\n",
              "2    1,319개\n",
              "3      223개\n",
              "4    3,583개\n",
              "Name: video, dtype: object"
            ]
          },
          "metadata": {},
          "execution_count": 18
        }
      ]
    },
    {
      "cell_type": "code",
      "metadata": {
        "colab": {
          "base_uri": "https://localhost:8080/"
        },
        "id": "Yg9kTjkvAAt-",
        "outputId": "2d00f7a6-23d4-4015-bf58-d1745a0921a4"
      },
      "source": [
        "#1-24 df의 'video'컬럼에서 '개'와 ' , '을 제거하는 작업을 수행한뒤, 처음 5개 데이터를 출력합니다.\n",
        "# 콤마','는 의미가 있는 문자이므로 (\\)를 함께 사용합니다.\n",
        "# 메타문자 : , . + ? * ^ % ...등 메타문자의 기능을 없애기 위해 (\\)\n",
        "df['video'].replace(['\\,' , '개' ],' ',regex=True).head()"
      ],
      "execution_count": 19,
      "outputs": [
        {
          "output_type": "execute_result",
          "data": {
            "text/plain": [
              "0      319 \n",
              "1      433 \n",
              "2    1 319 \n",
              "3      223 \n",
              "4    3 583 \n",
              "Name: video, dtype: object"
            ]
          },
          "metadata": {},
          "execution_count": 19
        }
      ]
    },
    {
      "cell_type": "code",
      "metadata": {
        "colab": {
          "base_uri": "https://localhost:8080/"
        },
        "id": "Jg3UnS-gCXii",
        "outputId": "f6cbba12-1aa5-4e46-b631-35890ffa8c95"
      },
      "source": [
        "#1-25 df의 'video'컬럼에서 '개',' , '을 제거하고 ,astype(int64)를 사용하여 작업을 수행한뒤, 처음 5개 데이터를 출력합니다.\n",
        "df['video'].replace(['\\,','개'],'', regex=True).astype('int64').head()"
      ],
      "execution_count": 20,
      "outputs": [
        {
          "output_type": "execute_result",
          "data": {
            "text/plain": [
              "0     319\n",
              "1     433\n",
              "2    1319\n",
              "3     223\n",
              "4    3583\n",
              "Name: video, dtype: int64"
            ]
          },
          "metadata": {},
          "execution_count": 20
        }
      ]
    },
    {
      "cell_type": "markdown",
      "metadata": {
        "id": "-a_6QSnFIC8M"
      },
      "source": [
        "# 원래 데이터의 값별 개수 확인:\n",
        "- Series.value_conts():값 별 개수를 Series로 반환\n",
        "- 개수가 많은것 부터 내림차순 정렬되어 반환됨\n",
        "- 값이 index,개수가 value 로 사용됨\n",
        "\n",
        "## index 정렬\n",
        "- DataFrame/Series.sort_index(ascending=True)"
      ]
    },
    {
      "cell_type": "code",
      "metadata": {
        "colab": {
          "base_uri": "https://localhost:8080/"
        },
        "id": "T3LjeChIC-vZ",
        "outputId": "e6162856-a063-43d0-b710-0a46f5c52d15"
      },
      "source": [
        "#1-26 df의 열중'category'컬럼에 대해 값 별 개수를 확인합니다\n",
        "df['category'].value_counts()"
      ],
      "execution_count": 21,
      "outputs": [
        {
          "output_type": "execute_result",
          "data": {
            "text/plain": [
              "[음악/댄스/가수]     175\n",
              "[TV/방송]        161\n",
              "[게임]           101\n",
              "[키즈/어린이]        95\n",
              "[음식/요리/레시피]     88\n",
              "[BJ/인물/연예인]     68\n",
              "[패션/미용]         57\n",
              "[뉴스/정치/사회]      56\n",
              "[취미/라이프]        40\n",
              "[미분류]           40\n",
              "[영화/만화/애니]      33\n",
              "[교육/강의]         23\n",
              "[애완/반려동물]       20\n",
              "[스포츠/운동]        12\n",
              "[IT/기술/컴퓨터]      8\n",
              "[해외]             6\n",
              "[주식/경제/부동산]      5\n",
              "[국내/해외/여행]       5\n",
              "[회사/오피셜]         4\n",
              "[자동차]            2\n",
              "[취미]             1\n",
              "Name: category, dtype: int64"
            ]
          },
          "metadata": {},
          "execution_count": 21
        }
      ]
    },
    {
      "cell_type": "code",
      "metadata": {
        "colab": {
          "base_uri": "https://localhost:8080/"
        },
        "id": "FFvTQq3fJOTo",
        "outputId": "c83b74b5-8bee-438d-c921-4b5317ce850f"
      },
      "source": [
        "#1-27 df의 'category'에 대해 첫 글자와 마지막글자인'[',']'을 제거 합니다.\n",
        "# replace를 사용하여 제거할수 있지만, Accessor 중 str을 사용하여 보도록 합니다.\n",
        "df['category'].replace({'\\[':'','\\]':''},regex=True).head() \n",
        "\n",
        "#첫글자,마지막글자가 아니라도 제거함"
      ],
      "execution_count": 22,
      "outputs": [
        {
          "output_type": "execute_result",
          "data": {
            "text/plain": [
              "0    음악/댄스/가수\n",
              "1    음악/댄스/가수\n",
              "2    음악/댄스/가수\n",
              "3      키즈/어린이\n",
              "4    음악/댄스/가수\n",
              "Name: category, dtype: object"
            ]
          },
          "metadata": {},
          "execution_count": 22
        }
      ]
    },
    {
      "cell_type": "code",
      "metadata": {
        "colab": {
          "base_uri": "https://localhost:8080/"
        },
        "id": "J0VG_WvhKKYd",
        "outputId": "c2d929c2-7b7a-46da-89ca-07109fe81f1a"
      },
      "source": [
        "temp = df['category'].replace({'\\[':'','\\]':''},regex=True)\n",
        "temp"
      ],
      "execution_count": 23,
      "outputs": [
        {
          "output_type": "execute_result",
          "data": {
            "text/plain": [
              "0      음악/댄스/가수\n",
              "1      음악/댄스/가수\n",
              "2      음악/댄스/가수\n",
              "3        키즈/어린이\n",
              "4      음악/댄스/가수\n",
              "         ...   \n",
              "995         미분류\n",
              "996      취미/라이프\n",
              "997       TV/방송\n",
              "998         미분류\n",
              "999       TV/방송\n",
              "Name: category, Length: 1000, dtype: object"
            ]
          },
          "metadata": {},
          "execution_count": 23
        }
      ]
    },
    {
      "cell_type": "code",
      "metadata": {
        "colab": {
          "base_uri": "https://localhost:8080/"
        },
        "id": "5JQOWqGMLOAX",
        "outputId": "ac7778b2-80c1-4750-c74e-47b845fc3595"
      },
      "source": [
        "temp.value_counts()"
      ],
      "execution_count": 24,
      "outputs": [
        {
          "output_type": "execute_result",
          "data": {
            "text/plain": [
              "음악/댄스/가수     175\n",
              "TV/방송        161\n",
              "게임           101\n",
              "키즈/어린이        95\n",
              "음식/요리/레시피     88\n",
              "BJ/인물/연예인     68\n",
              "패션/미용         57\n",
              "뉴스/정치/사회      56\n",
              "미분류           40\n",
              "취미/라이프        40\n",
              "영화/만화/애니      33\n",
              "교육/강의         23\n",
              "애완/반려동물       20\n",
              "스포츠/운동        12\n",
              "IT/기술/컴퓨터      8\n",
              "해외             6\n",
              "국내/해외/여행       5\n",
              "주식/경제/부동산      5\n",
              "회사/오피셜         4\n",
              "자동차            2\n",
              "취미             1\n",
              "Name: category, dtype: int64"
            ]
          },
          "metadata": {},
          "execution_count": 24
        }
      ]
    },
    {
      "cell_type": "code",
      "metadata": {
        "colab": {
          "base_uri": "https://localhost:8080/"
        },
        "id": "OIGiNWHJLSep",
        "outputId": "a7eb10cd-c3f4-438a-d73e-f156613a908f"
      },
      "source": [
        "#1-28 df의 'category'에 대해 '[' ,']'을 제거하고 ,astype('category')를 사용하여 category타입으로 변경합니다.\n",
        "df['category'].replace(['\\[','\\]'],' ', regex=True).astype('category')"
      ],
      "execution_count": 25,
      "outputs": [
        {
          "output_type": "execute_result",
          "data": {
            "text/plain": [
              "0       음악/댄스/가수 \n",
              "1       음악/댄스/가수 \n",
              "2       음악/댄스/가수 \n",
              "3         키즈/어린이 \n",
              "4       음악/댄스/가수 \n",
              "          ...    \n",
              "995          미분류 \n",
              "996       취미/라이프 \n",
              "997        TV/방송 \n",
              "998          미분류 \n",
              "999        TV/방송 \n",
              "Name: category, Length: 1000, dtype: category\n",
              "Categories (21, object): [' BJ/인물/연예인 ', ' IT/기술/컴퓨터 ', ' TV/방송 ', ' 게임 ', ..., ' 키즈/어린이 ', ' 패션/미용 ',\n",
              "                          ' 해외 ', ' 회사/오피셜 ']"
            ]
          },
          "metadata": {},
          "execution_count": 25
        }
      ]
    },
    {
      "cell_type": "code",
      "metadata": {
        "colab": {
          "base_uri": "https://localhost:8080/"
        },
        "id": "EuNdYIZrhxUI",
        "outputId": "268a4262-eaef-415d-b337-741b15cda55e"
      },
      "source": [
        "df['category'].str[1:-1].astype('category')"
      ],
      "execution_count": 26,
      "outputs": [
        {
          "output_type": "execute_result",
          "data": {
            "text/plain": [
              "0      음악/댄스/가수\n",
              "1      음악/댄스/가수\n",
              "2      음악/댄스/가수\n",
              "3        키즈/어린이\n",
              "4      음악/댄스/가수\n",
              "         ...   \n",
              "995         미분류\n",
              "996      취미/라이프\n",
              "997       TV/방송\n",
              "998         미분류\n",
              "999       TV/방송\n",
              "Name: category, Length: 1000, dtype: category\n",
              "Categories (21, object): ['BJ/인물/연예인', 'IT/기술/컴퓨터', 'TV/방송', '게임', ..., '키즈/어린이', '패션/미용', '해외', '회사/오피셜']"
            ]
          },
          "metadata": {},
          "execution_count": 26
        }
      ]
    },
    {
      "cell_type": "code",
      "metadata": {
        "id": "D8BtNrq-iT6R"
      },
      "source": [
        "# str: 문자열에 대해서만 Accessor 할수 있다.\n",
        "# 차이점: str[1:-1] 제일 처음문자와 제일 마지막 문자를 제거\n",
        "# \\[ ,\\] 은 [] 같은 문자를 찾아서 제거"
      ],
      "execution_count": 27,
      "outputs": []
    },
    {
      "cell_type": "code",
      "metadata": {
        "colab": {
          "base_uri": "https://localhost:8080/"
        },
        "id": "TgvtYXENizq6",
        "outputId": "9f102760-6d01-4fd4-d1a3-0b927c1f3830"
      },
      "source": [
        "df.info()"
      ],
      "execution_count": 28,
      "outputs": [
        {
          "output_type": "stream",
          "name": "stdout",
          "text": [
            "<class 'pandas.core.frame.DataFrame'>\n",
            "RangeIndex: 1000 entries, 0 to 999\n",
            "Data columns (total 5 columns):\n",
            " #   Column      Non-Null Count  Dtype \n",
            "---  ------      --------------  ----- \n",
            " 0   title       1000 non-null   object\n",
            " 1   category    1000 non-null   object\n",
            " 2   subscriber  1000 non-null   object\n",
            " 3   view        1000 non-null   object\n",
            " 4   video       1000 non-null   object\n",
            "dtypes: object(5)\n",
            "memory usage: 39.2+ KB\n"
          ]
        }
      ]
    },
    {
      "cell_type": "code",
      "metadata": {
        "id": "UswLZCwDjtCq"
      },
      "source": [
        "#1-29 replace 및 Accessor-str 을 사용한 작업을 요약 해 봅니다\n",
        "df['subscriber'] = df['subscriber'].replace('만','0000',regex=True).astype('int64')\n",
        "df['video'] = df['video'].replace(['개','\\,'],'',regex=True).astype('int64')\n",
        "df['view'] = df['view'].replace({'억':'', '만':'0000'}, regex=True).astype('int64')\n",
        "df['category'] = df['category'].str[1:-1].astype('category')"
      ],
      "execution_count": 29,
      "outputs": []
    },
    {
      "cell_type": "code",
      "metadata": {
        "colab": {
          "base_uri": "https://localhost:8080/",
          "height": 419
        },
        "id": "g1zJHhKXksLj",
        "outputId": "6c3d4ed9-a116-442c-8a23-730c099531b0"
      },
      "source": [
        "df"
      ],
      "execution_count": 30,
      "outputs": [
        {
          "output_type": "execute_result",
          "data": {
            "text/html": [
              "<div>\n",
              "<style scoped>\n",
              "    .dataframe tbody tr th:only-of-type {\n",
              "        vertical-align: middle;\n",
              "    }\n",
              "\n",
              "    .dataframe tbody tr th {\n",
              "        vertical-align: top;\n",
              "    }\n",
              "\n",
              "    .dataframe thead th {\n",
              "        text-align: right;\n",
              "    }\n",
              "</style>\n",
              "<table border=\"1\" class=\"dataframe\">\n",
              "  <thead>\n",
              "    <tr style=\"text-align: right;\">\n",
              "      <th></th>\n",
              "      <th>title</th>\n",
              "      <th>category</th>\n",
              "      <th>subscriber</th>\n",
              "      <th>view</th>\n",
              "      <th>video</th>\n",
              "    </tr>\n",
              "  </thead>\n",
              "  <tbody>\n",
              "    <tr>\n",
              "      <th>0</th>\n",
              "      <td>BLACKPINK</td>\n",
              "      <td>음악/댄스/가수</td>\n",
              "      <td>51400000</td>\n",
              "      <td>12851300000</td>\n",
              "      <td>319</td>\n",
              "    </tr>\n",
              "    <tr>\n",
              "      <th>1</th>\n",
              "      <td>Big Hit Labels</td>\n",
              "      <td>음악/댄스/가수</td>\n",
              "      <td>45500000</td>\n",
              "      <td>12089660000</td>\n",
              "      <td>433</td>\n",
              "    </tr>\n",
              "    <tr>\n",
              "      <th>2</th>\n",
              "      <td>BANGTANTV</td>\n",
              "      <td>음악/댄스/가수</td>\n",
              "      <td>38700000</td>\n",
              "      <td>5475980000</td>\n",
              "      <td>1319</td>\n",
              "    </tr>\n",
              "    <tr>\n",
              "      <th>3</th>\n",
              "      <td>Boram Tube Vlog [보람튜브 브이로그]</td>\n",
              "      <td>키즈/어린이</td>\n",
              "      <td>26500000</td>\n",
              "      <td>11052880000</td>\n",
              "      <td>223</td>\n",
              "    </tr>\n",
              "    <tr>\n",
              "      <th>4</th>\n",
              "      <td>SMTOWN</td>\n",
              "      <td>음악/댄스/가수</td>\n",
              "      <td>24500000</td>\n",
              "      <td>18075320000</td>\n",
              "      <td>3583</td>\n",
              "    </tr>\n",
              "    <tr>\n",
              "      <th>...</th>\n",
              "      <td>...</td>\n",
              "      <td>...</td>\n",
              "      <td>...</td>\n",
              "      <td>...</td>\n",
              "      <td>...</td>\n",
              "    </tr>\n",
              "    <tr>\n",
              "      <th>995</th>\n",
              "      <td>Ranking World</td>\n",
              "      <td>미분류</td>\n",
              "      <td>400000</td>\n",
              "      <td>127520000</td>\n",
              "      <td>503</td>\n",
              "    </tr>\n",
              "    <tr>\n",
              "      <th>996</th>\n",
              "      <td>급식걸즈</td>\n",
              "      <td>취미/라이프</td>\n",
              "      <td>400000</td>\n",
              "      <td>239010000</td>\n",
              "      <td>226</td>\n",
              "    </tr>\n",
              "    <tr>\n",
              "      <th>997</th>\n",
              "      <td>OCN</td>\n",
              "      <td>TV/방송</td>\n",
              "      <td>400000</td>\n",
              "      <td>345830000</td>\n",
              "      <td>10071</td>\n",
              "    </tr>\n",
              "    <tr>\n",
              "      <th>998</th>\n",
              "      <td>Bravo jamoasi</td>\n",
              "      <td>미분류</td>\n",
              "      <td>400000</td>\n",
              "      <td>61930000</td>\n",
              "      <td>25</td>\n",
              "    </tr>\n",
              "    <tr>\n",
              "      <th>999</th>\n",
              "      <td>덕출 : DCTVGO</td>\n",
              "      <td>TV/방송</td>\n",
              "      <td>400000</td>\n",
              "      <td>82490000</td>\n",
              "      <td>202</td>\n",
              "    </tr>\n",
              "  </tbody>\n",
              "</table>\n",
              "<p>1000 rows × 5 columns</p>\n",
              "</div>"
            ],
            "text/plain": [
              "                           title  category  subscriber         view  video\n",
              "0                      BLACKPINK  음악/댄스/가수    51400000  12851300000    319\n",
              "1                 Big Hit Labels  음악/댄스/가수    45500000  12089660000    433\n",
              "2                      BANGTANTV  음악/댄스/가수    38700000   5475980000   1319\n",
              "3    Boram Tube Vlog [보람튜브 브이로그]    키즈/어린이    26500000  11052880000    223\n",
              "4                         SMTOWN  음악/댄스/가수    24500000  18075320000   3583\n",
              "..                           ...       ...         ...          ...    ...\n",
              "995                Ranking World       미분류      400000    127520000    503\n",
              "996                         급식걸즈    취미/라이프      400000    239010000    226\n",
              "997                          OCN     TV/방송      400000    345830000  10071\n",
              "998                Bravo jamoasi       미분류      400000     61930000     25\n",
              "999                  덕출 : DCTVGO     TV/방송      400000     82490000    202\n",
              "\n",
              "[1000 rows x 5 columns]"
            ]
          },
          "metadata": {},
          "execution_count": 30
        }
      ]
    },
    {
      "cell_type": "code",
      "metadata": {
        "colab": {
          "base_uri": "https://localhost:8080/"
        },
        "id": "M7QWr2I4k3LQ",
        "outputId": "88b3c968-e93e-4056-eaf8-2b772c3afce7"
      },
      "source": [
        "df.info()"
      ],
      "execution_count": 31,
      "outputs": [
        {
          "output_type": "stream",
          "name": "stdout",
          "text": [
            "<class 'pandas.core.frame.DataFrame'>\n",
            "RangeIndex: 1000 entries, 0 to 999\n",
            "Data columns (total 5 columns):\n",
            " #   Column      Non-Null Count  Dtype   \n",
            "---  ------      --------------  -----   \n",
            " 0   title       1000 non-null   object  \n",
            " 1   category    1000 non-null   category\n",
            " 2   subscriber  1000 non-null   int64   \n",
            " 3   view        1000 non-null   int64   \n",
            " 4   video       1000 non-null   int64   \n",
            "dtypes: category(1), int64(3), object(1)\n",
            "memory usage: 33.1+ KB\n"
          ]
        }
      ]
    },
    {
      "cell_type": "markdown",
      "metadata": {
        "id": "C5KvG3zThP2E"
      },
      "source": [
        "# 데이터 정렬하기\n",
        "- DataFrame.sort_values(컬럼명, ascending=True)\n",
        "- DataFrame.sort_values([컴럼명1,컬럼명2,...], ascending=True[...])\n",
        "\n",
        "- 오름차순이 기본이며 ,ascending=False를 사용하여 내림차순을 지정\n",
        "- 1차 기준, 2차 기준 등 여러 개 기준이 존재하는 경우\n",
        "  - 1차 기준 정렬된 후, 1차 기준이 같은것 내부에서 2차 기준으로 정렬됨\n",
        "  - 정렬방식은 각 기준별로 부여하거나 ,1개만 부여할수 있음\n"
      ]
    },
    {
      "cell_type": "code",
      "metadata": {
        "colab": {
          "base_uri": "https://localhost:8080/",
          "height": 204
        },
        "id": "4BPTasYKhOFb",
        "outputId": "1224af9b-ba28-4131-dafa-2cdefb49271d"
      },
      "source": [
        "#1-31 'subscriber'가 가장 많은 5개의 채널을 알아봅니다.\n",
        "df.sort_values('subscriber',ascending=False).head()"
      ],
      "execution_count": 32,
      "outputs": [
        {
          "output_type": "execute_result",
          "data": {
            "text/html": [
              "<div>\n",
              "<style scoped>\n",
              "    .dataframe tbody tr th:only-of-type {\n",
              "        vertical-align: middle;\n",
              "    }\n",
              "\n",
              "    .dataframe tbody tr th {\n",
              "        vertical-align: top;\n",
              "    }\n",
              "\n",
              "    .dataframe thead th {\n",
              "        text-align: right;\n",
              "    }\n",
              "</style>\n",
              "<table border=\"1\" class=\"dataframe\">\n",
              "  <thead>\n",
              "    <tr style=\"text-align: right;\">\n",
              "      <th></th>\n",
              "      <th>title</th>\n",
              "      <th>category</th>\n",
              "      <th>subscriber</th>\n",
              "      <th>view</th>\n",
              "      <th>video</th>\n",
              "    </tr>\n",
              "  </thead>\n",
              "  <tbody>\n",
              "    <tr>\n",
              "      <th>0</th>\n",
              "      <td>BLACKPINK</td>\n",
              "      <td>음악/댄스/가수</td>\n",
              "      <td>51400000</td>\n",
              "      <td>12851300000</td>\n",
              "      <td>319</td>\n",
              "    </tr>\n",
              "    <tr>\n",
              "      <th>1</th>\n",
              "      <td>Big Hit Labels</td>\n",
              "      <td>음악/댄스/가수</td>\n",
              "      <td>45500000</td>\n",
              "      <td>12089660000</td>\n",
              "      <td>433</td>\n",
              "    </tr>\n",
              "    <tr>\n",
              "      <th>2</th>\n",
              "      <td>BANGTANTV</td>\n",
              "      <td>음악/댄스/가수</td>\n",
              "      <td>38700000</td>\n",
              "      <td>5475980000</td>\n",
              "      <td>1319</td>\n",
              "    </tr>\n",
              "    <tr>\n",
              "      <th>3</th>\n",
              "      <td>Boram Tube Vlog [보람튜브 브이로그]</td>\n",
              "      <td>키즈/어린이</td>\n",
              "      <td>26500000</td>\n",
              "      <td>11052880000</td>\n",
              "      <td>223</td>\n",
              "    </tr>\n",
              "    <tr>\n",
              "      <th>4</th>\n",
              "      <td>SMTOWN</td>\n",
              "      <td>음악/댄스/가수</td>\n",
              "      <td>24500000</td>\n",
              "      <td>18075320000</td>\n",
              "      <td>3583</td>\n",
              "    </tr>\n",
              "  </tbody>\n",
              "</table>\n",
              "</div>"
            ],
            "text/plain": [
              "                         title  category  subscriber         view  video\n",
              "0                    BLACKPINK  음악/댄스/가수    51400000  12851300000    319\n",
              "1               Big Hit Labels  음악/댄스/가수    45500000  12089660000    433\n",
              "2                    BANGTANTV  음악/댄스/가수    38700000   5475980000   1319\n",
              "3  Boram Tube Vlog [보람튜브 브이로그]    키즈/어린이    26500000  11052880000    223\n",
              "4                       SMTOWN  음악/댄스/가수    24500000  18075320000   3583"
            ]
          },
          "metadata": {},
          "execution_count": 32
        }
      ]
    },
    {
      "cell_type": "code",
      "metadata": {
        "colab": {
          "base_uri": "https://localhost:8080/",
          "height": 204
        },
        "id": "-_sH3m5Vim50",
        "outputId": "18c7ec07-84b0-4ba6-ba04-5a3938f11873"
      },
      "source": [
        "#1-32 'view'가 가장 많은 5개 채널을 알아봅니다.\n",
        "df.sort_values('view',ascending=False).head()"
      ],
      "execution_count": 33,
      "outputs": [
        {
          "output_type": "execute_result",
          "data": {
            "text/html": [
              "<div>\n",
              "<style scoped>\n",
              "    .dataframe tbody tr th:only-of-type {\n",
              "        vertical-align: middle;\n",
              "    }\n",
              "\n",
              "    .dataframe tbody tr th {\n",
              "        vertical-align: top;\n",
              "    }\n",
              "\n",
              "    .dataframe thead th {\n",
              "        text-align: right;\n",
              "    }\n",
              "</style>\n",
              "<table border=\"1\" class=\"dataframe\">\n",
              "  <thead>\n",
              "    <tr style=\"text-align: right;\">\n",
              "      <th></th>\n",
              "      <th>title</th>\n",
              "      <th>category</th>\n",
              "      <th>subscriber</th>\n",
              "      <th>view</th>\n",
              "      <th>video</th>\n",
              "    </tr>\n",
              "  </thead>\n",
              "  <tbody>\n",
              "    <tr>\n",
              "      <th>4</th>\n",
              "      <td>SMTOWN</td>\n",
              "      <td>음악/댄스/가수</td>\n",
              "      <td>24500000</td>\n",
              "      <td>18075320000</td>\n",
              "      <td>3583</td>\n",
              "    </tr>\n",
              "    <tr>\n",
              "      <th>6</th>\n",
              "      <td>1theK (원더케이)</td>\n",
              "      <td>음악/댄스/가수</td>\n",
              "      <td>20900000</td>\n",
              "      <td>17860420000</td>\n",
              "      <td>13291</td>\n",
              "    </tr>\n",
              "    <tr>\n",
              "      <th>8</th>\n",
              "      <td>ArianaGrandeVevo</td>\n",
              "      <td>음악/댄스/가수</td>\n",
              "      <td>18200000</td>\n",
              "      <td>14796920000</td>\n",
              "      <td>112</td>\n",
              "    </tr>\n",
              "    <tr>\n",
              "      <th>0</th>\n",
              "      <td>BLACKPINK</td>\n",
              "      <td>음악/댄스/가수</td>\n",
              "      <td>51400000</td>\n",
              "      <td>12851300000</td>\n",
              "      <td>319</td>\n",
              "    </tr>\n",
              "    <tr>\n",
              "      <th>1</th>\n",
              "      <td>Big Hit Labels</td>\n",
              "      <td>음악/댄스/가수</td>\n",
              "      <td>45500000</td>\n",
              "      <td>12089660000</td>\n",
              "      <td>433</td>\n",
              "    </tr>\n",
              "  </tbody>\n",
              "</table>\n",
              "</div>"
            ],
            "text/plain": [
              "              title  category  subscriber         view  video\n",
              "4            SMTOWN  음악/댄스/가수    24500000  18075320000   3583\n",
              "6      1theK (원더케이)  음악/댄스/가수    20900000  17860420000  13291\n",
              "8  ArianaGrandeVevo  음악/댄스/가수    18200000  14796920000    112\n",
              "0         BLACKPINK  음악/댄스/가수    51400000  12851300000    319\n",
              "1    Big Hit Labels  음악/댄스/가수    45500000  12089660000    433"
            ]
          },
          "metadata": {},
          "execution_count": 33
        }
      ]
    },
    {
      "cell_type": "code",
      "metadata": {
        "colab": {
          "base_uri": "https://localhost:8080/",
          "height": 204
        },
        "id": "yYdX4P8Ai1lU",
        "outputId": "57e68861-63b8-4a0a-febf-e3757ca2b797"
      },
      "source": [
        "#1-33 'video'가 가장 많은 5개 채널을 알아봅니다.\n",
        "df.sort_values('video',ascending=False).head()"
      ],
      "execution_count": 34,
      "outputs": [
        {
          "output_type": "execute_result",
          "data": {
            "text/html": [
              "<div>\n",
              "<style scoped>\n",
              "    .dataframe tbody tr th:only-of-type {\n",
              "        vertical-align: middle;\n",
              "    }\n",
              "\n",
              "    .dataframe tbody tr th {\n",
              "        vertical-align: top;\n",
              "    }\n",
              "\n",
              "    .dataframe thead th {\n",
              "        text-align: right;\n",
              "    }\n",
              "</style>\n",
              "<table border=\"1\" class=\"dataframe\">\n",
              "  <thead>\n",
              "    <tr style=\"text-align: right;\">\n",
              "      <th></th>\n",
              "      <th>title</th>\n",
              "      <th>category</th>\n",
              "      <th>subscriber</th>\n",
              "      <th>view</th>\n",
              "      <th>video</th>\n",
              "    </tr>\n",
              "  </thead>\n",
              "  <tbody>\n",
              "    <tr>\n",
              "      <th>169</th>\n",
              "      <td>YTN news</td>\n",
              "      <td>뉴스/정치/사회</td>\n",
              "      <td>1970000</td>\n",
              "      <td>3801710000</td>\n",
              "      <td>492791</td>\n",
              "    </tr>\n",
              "    <tr>\n",
              "      <th>60</th>\n",
              "      <td>SBS Drama</td>\n",
              "      <td>TV/방송</td>\n",
              "      <td>4360000</td>\n",
              "      <td>4260860000</td>\n",
              "      <td>339029</td>\n",
              "    </tr>\n",
              "    <tr>\n",
              "      <th>737</th>\n",
              "      <td>연합뉴스TV</td>\n",
              "      <td>뉴스/정치/사회</td>\n",
              "      <td>550000</td>\n",
              "      <td>697650000</td>\n",
              "      <td>311370</td>\n",
              "    </tr>\n",
              "    <tr>\n",
              "      <th>57</th>\n",
              "      <td>SBS Entertainment</td>\n",
              "      <td>TV/방송</td>\n",
              "      <td>4490000</td>\n",
              "      <td>4516190000</td>\n",
              "      <td>210810</td>\n",
              "    </tr>\n",
              "    <tr>\n",
              "      <th>17</th>\n",
              "      <td>CNN</td>\n",
              "      <td>뉴스/정치/사회</td>\n",
              "      <td>10900000</td>\n",
              "      <td>7899750000</td>\n",
              "      <td>149530</td>\n",
              "    </tr>\n",
              "  </tbody>\n",
              "</table>\n",
              "</div>"
            ],
            "text/plain": [
              "                 title  category  subscriber        view   video\n",
              "169           YTN news  뉴스/정치/사회     1970000  3801710000  492791\n",
              "60           SBS Drama     TV/방송     4360000  4260860000  339029\n",
              "737             연합뉴스TV  뉴스/정치/사회      550000   697650000  311370\n",
              "57   SBS Entertainment     TV/방송     4490000  4516190000  210810\n",
              "17                 CNN  뉴스/정치/사회    10900000  7899750000  149530"
            ]
          },
          "metadata": {},
          "execution_count": 34
        }
      ]
    },
    {
      "cell_type": "code",
      "metadata": {
        "colab": {
          "base_uri": "https://localhost:8080/",
          "height": 204
        },
        "id": "dV55QKdYi9g9",
        "outputId": "2e8d1f60-75e7-4711-fa63-02a21da76711"
      },
      "source": [
        "#1-34 'video'가 가장 적은 5개 채널은 ?\n",
        "df.sort_values('video').head()"
      ],
      "execution_count": 35,
      "outputs": [
        {
          "output_type": "execute_result",
          "data": {
            "text/html": [
              "<div>\n",
              "<style scoped>\n",
              "    .dataframe tbody tr th:only-of-type {\n",
              "        vertical-align: middle;\n",
              "    }\n",
              "\n",
              "    .dataframe tbody tr th {\n",
              "        vertical-align: top;\n",
              "    }\n",
              "\n",
              "    .dataframe thead th {\n",
              "        text-align: right;\n",
              "    }\n",
              "</style>\n",
              "<table border=\"1\" class=\"dataframe\">\n",
              "  <thead>\n",
              "    <tr style=\"text-align: right;\">\n",
              "      <th></th>\n",
              "      <th>title</th>\n",
              "      <th>category</th>\n",
              "      <th>subscriber</th>\n",
              "      <th>view</th>\n",
              "      <th>video</th>\n",
              "    </tr>\n",
              "  </thead>\n",
              "  <tbody>\n",
              "    <tr>\n",
              "      <th>194</th>\n",
              "      <td>OfficialGDRAGON</td>\n",
              "      <td>음악/댄스/가수</td>\n",
              "      <td>1750000</td>\n",
              "      <td>0</td>\n",
              "      <td>0</td>\n",
              "    </tr>\n",
              "    <tr>\n",
              "      <th>128</th>\n",
              "      <td>tzuyang쯔양</td>\n",
              "      <td>음식/요리/레시피</td>\n",
              "      <td>2570000</td>\n",
              "      <td>2570000</td>\n",
              "      <td>1</td>\n",
              "    </tr>\n",
              "    <tr>\n",
              "      <th>964</th>\n",
              "      <td>fx</td>\n",
              "      <td>음악/댄스/가수</td>\n",
              "      <td>410000</td>\n",
              "      <td>380000</td>\n",
              "      <td>3</td>\n",
              "    </tr>\n",
              "    <tr>\n",
              "      <th>454</th>\n",
              "      <td>CL</td>\n",
              "      <td>음악/댄스/가수</td>\n",
              "      <td>840000</td>\n",
              "      <td>52470000</td>\n",
              "      <td>5</td>\n",
              "    </tr>\n",
              "    <tr>\n",
              "      <th>742</th>\n",
              "      <td>Trouble Maker (Official YouTube Channel)</td>\n",
              "      <td>음악/댄스/가수</td>\n",
              "      <td>540000</td>\n",
              "      <td>173840000</td>\n",
              "      <td>9</td>\n",
              "    </tr>\n",
              "  </tbody>\n",
              "</table>\n",
              "</div>"
            ],
            "text/plain": [
              "                                        title   category  ...       view  video\n",
              "194                           OfficialGDRAGON   음악/댄스/가수  ...          0      0\n",
              "128                                 tzuyang쯔양  음식/요리/레시피  ...    2570000      1\n",
              "964                                        fx   음악/댄스/가수  ...     380000      3\n",
              "454                                        CL   음악/댄스/가수  ...   52470000      5\n",
              "742  Trouble Maker (Official YouTube Channel)   음악/댄스/가수  ...  173840000      9\n",
              "\n",
              "[5 rows x 5 columns]"
            ]
          },
          "metadata": {},
          "execution_count": 35
        }
      ]
    },
    {
      "cell_type": "code",
      "metadata": {
        "colab": {
          "base_uri": "https://localhost:8080/",
          "height": 419
        },
        "id": "bXykiQB7jEDw",
        "outputId": "d08a3b30-fb36-4966-da27-6a6a44a7fa5d"
      },
      "source": [
        "#1-35 'category'로 오름차순, 'subscriber'로 내림차순 정렬해 봅니다.\n",
        "df.sort_values(['category','subscriber'],ascending=[True,False])"
      ],
      "execution_count": 36,
      "outputs": [
        {
          "output_type": "execute_result",
          "data": {
            "text/html": [
              "<div>\n",
              "<style scoped>\n",
              "    .dataframe tbody tr th:only-of-type {\n",
              "        vertical-align: middle;\n",
              "    }\n",
              "\n",
              "    .dataframe tbody tr th {\n",
              "        vertical-align: top;\n",
              "    }\n",
              "\n",
              "    .dataframe thead th {\n",
              "        text-align: right;\n",
              "    }\n",
              "</style>\n",
              "<table border=\"1\" class=\"dataframe\">\n",
              "  <thead>\n",
              "    <tr style=\"text-align: right;\">\n",
              "      <th></th>\n",
              "      <th>title</th>\n",
              "      <th>category</th>\n",
              "      <th>subscriber</th>\n",
              "      <th>view</th>\n",
              "      <th>video</th>\n",
              "    </tr>\n",
              "  </thead>\n",
              "  <tbody>\n",
              "    <tr>\n",
              "      <th>52</th>\n",
              "      <td>[Awesome Haeun]어썸하은</td>\n",
              "      <td>BJ/인물/연예인</td>\n",
              "      <td>4840000</td>\n",
              "      <td>703070000</td>\n",
              "      <td>419</td>\n",
              "    </tr>\n",
              "    <tr>\n",
              "      <th>75</th>\n",
              "      <td>영국남자 Korean Englishman</td>\n",
              "      <td>BJ/인물/연예인</td>\n",
              "      <td>3940000</td>\n",
              "      <td>1160110000</td>\n",
              "      <td>411</td>\n",
              "    </tr>\n",
              "    <tr>\n",
              "      <th>79</th>\n",
              "      <td>워크맨-Workman</td>\n",
              "      <td>BJ/인물/연예인</td>\n",
              "      <td>3810000</td>\n",
              "      <td>469330000</td>\n",
              "      <td>76</td>\n",
              "    </tr>\n",
              "    <tr>\n",
              "      <th>82</th>\n",
              "      <td>waveya 2011</td>\n",
              "      <td>BJ/인물/연예인</td>\n",
              "      <td>3720000</td>\n",
              "      <td>1299280000</td>\n",
              "      <td>647</td>\n",
              "    </tr>\n",
              "    <tr>\n",
              "      <th>84</th>\n",
              "      <td>허팝Heopop</td>\n",
              "      <td>BJ/인물/연예인</td>\n",
              "      <td>3710000</td>\n",
              "      <td>2748310000</td>\n",
              "      <td>1685</td>\n",
              "    </tr>\n",
              "    <tr>\n",
              "      <th>...</th>\n",
              "      <td>...</td>\n",
              "      <td>...</td>\n",
              "      <td>...</td>\n",
              "      <td>...</td>\n",
              "      <td>...</td>\n",
              "    </tr>\n",
              "    <tr>\n",
              "      <th>671</th>\n",
              "      <td>AshleyMariee</td>\n",
              "      <td>해외</td>\n",
              "      <td>590000</td>\n",
              "      <td>55950000</td>\n",
              "      <td>2033</td>\n",
              "    </tr>\n",
              "    <tr>\n",
              "      <th>53</th>\n",
              "      <td>Samsung</td>\n",
              "      <td>회사/오피셜</td>\n",
              "      <td>4780000</td>\n",
              "      <td>585350000</td>\n",
              "      <td>1135</td>\n",
              "    </tr>\n",
              "    <tr>\n",
              "      <th>108</th>\n",
              "      <td>Billboard</td>\n",
              "      <td>회사/오피셜</td>\n",
              "      <td>2900000</td>\n",
              "      <td>1010800000</td>\n",
              "      <td>6100</td>\n",
              "    </tr>\n",
              "    <tr>\n",
              "      <th>709</th>\n",
              "      <td>미스&amp;미스터트롯 공식계정</td>\n",
              "      <td>회사/오피셜</td>\n",
              "      <td>570000</td>\n",
              "      <td>202340000</td>\n",
              "      <td>659</td>\n",
              "    </tr>\n",
              "    <tr>\n",
              "      <th>722</th>\n",
              "      <td>KB국민카드</td>\n",
              "      <td>회사/오피셜</td>\n",
              "      <td>560000</td>\n",
              "      <td>187960000</td>\n",
              "      <td>443</td>\n",
              "    </tr>\n",
              "  </tbody>\n",
              "</table>\n",
              "<p>1000 rows × 5 columns</p>\n",
              "</div>"
            ],
            "text/plain": [
              "                      title   category  subscriber        view  video\n",
              "52      [Awesome Haeun]어썸하은  BJ/인물/연예인     4840000   703070000    419\n",
              "75   영국남자 Korean Englishman  BJ/인물/연예인     3940000  1160110000    411\n",
              "79              워크맨-Workman  BJ/인물/연예인     3810000   469330000     76\n",
              "82              waveya 2011  BJ/인물/연예인     3720000  1299280000    647\n",
              "84                 허팝Heopop  BJ/인물/연예인     3710000  2748310000   1685\n",
              "..                      ...        ...         ...         ...    ...\n",
              "671            AshleyMariee         해외      590000    55950000   2033\n",
              "53                  Samsung     회사/오피셜     4780000   585350000   1135\n",
              "108               Billboard     회사/오피셜     2900000  1010800000   6100\n",
              "709           미스&미스터트롯 공식계정     회사/오피셜      570000   202340000    659\n",
              "722                  KB국민카드     회사/오피셜      560000   187960000    443\n",
              "\n",
              "[1000 rows x 5 columns]"
            ]
          },
          "metadata": {},
          "execution_count": 36
        }
      ]
    },
    {
      "cell_type": "markdown",
      "metadata": {
        "id": "bh2SGC_ir5DQ"
      },
      "source": [
        "## Bolean Indexing 사용하여 조건에 맞는 데이터 가져오기\n",
        "- DataFrame.loc[조건, :]\n",
        "- DataFrame[조건]\n",
        "- 조건은 bolean dtype 이여야 하며 행의 수와 같아야 함\n",
        "- 복잡한 조건 작성\n",
        "- (조건1) | (조건2) :  조건1 또는 조건2를 만족하는 데이터\n",
        "- (조건1) & (조건2) :  조건1 ,조건2 모드 만족하는 데이터\n",
        "- ~(조건) : 조건이 거짓인 데이터"
      ]
    },
    {
      "cell_type": "code",
      "metadata": {
        "colab": {
          "base_uri": "https://localhost:8080/",
          "height": 173
        },
        "id": "m0NbRC1NrppT",
        "outputId": "7f0041bd-9b3e-43b4-8b42-46d8194dff50"
      },
      "source": [
        "temp = pd.DataFrame({'A': [1,2,3,4],\n",
        "                     'B': [6,5,4,3],\n",
        "                     'C': [3,4,5,2]})\n",
        "temp"
      ],
      "execution_count": 37,
      "outputs": [
        {
          "output_type": "execute_result",
          "data": {
            "text/html": [
              "<div>\n",
              "<style scoped>\n",
              "    .dataframe tbody tr th:only-of-type {\n",
              "        vertical-align: middle;\n",
              "    }\n",
              "\n",
              "    .dataframe tbody tr th {\n",
              "        vertical-align: top;\n",
              "    }\n",
              "\n",
              "    .dataframe thead th {\n",
              "        text-align: right;\n",
              "    }\n",
              "</style>\n",
              "<table border=\"1\" class=\"dataframe\">\n",
              "  <thead>\n",
              "    <tr style=\"text-align: right;\">\n",
              "      <th></th>\n",
              "      <th>A</th>\n",
              "      <th>B</th>\n",
              "      <th>C</th>\n",
              "    </tr>\n",
              "  </thead>\n",
              "  <tbody>\n",
              "    <tr>\n",
              "      <th>0</th>\n",
              "      <td>1</td>\n",
              "      <td>6</td>\n",
              "      <td>3</td>\n",
              "    </tr>\n",
              "    <tr>\n",
              "      <th>1</th>\n",
              "      <td>2</td>\n",
              "      <td>5</td>\n",
              "      <td>4</td>\n",
              "    </tr>\n",
              "    <tr>\n",
              "      <th>2</th>\n",
              "      <td>3</td>\n",
              "      <td>4</td>\n",
              "      <td>5</td>\n",
              "    </tr>\n",
              "    <tr>\n",
              "      <th>3</th>\n",
              "      <td>4</td>\n",
              "      <td>3</td>\n",
              "      <td>2</td>\n",
              "    </tr>\n",
              "  </tbody>\n",
              "</table>\n",
              "</div>"
            ],
            "text/plain": [
              "   A  B  C\n",
              "0  1  6  3\n",
              "1  2  5  4\n",
              "2  3  4  5\n",
              "3  4  3  2"
            ]
          },
          "metadata": {},
          "execution_count": 37
        }
      ]
    },
    {
      "cell_type": "code",
      "metadata": {
        "colab": {
          "base_uri": "https://localhost:8080/",
          "height": 111
        },
        "id": "BvBtY5FstOaB",
        "outputId": "8b4d3768-1c24-4fc6-a2fe-263789ed78f5"
      },
      "source": [
        "temp[[True,False,True,False]]"
      ],
      "execution_count": 38,
      "outputs": [
        {
          "output_type": "execute_result",
          "data": {
            "text/html": [
              "<div>\n",
              "<style scoped>\n",
              "    .dataframe tbody tr th:only-of-type {\n",
              "        vertical-align: middle;\n",
              "    }\n",
              "\n",
              "    .dataframe tbody tr th {\n",
              "        vertical-align: top;\n",
              "    }\n",
              "\n",
              "    .dataframe thead th {\n",
              "        text-align: right;\n",
              "    }\n",
              "</style>\n",
              "<table border=\"1\" class=\"dataframe\">\n",
              "  <thead>\n",
              "    <tr style=\"text-align: right;\">\n",
              "      <th></th>\n",
              "      <th>A</th>\n",
              "      <th>B</th>\n",
              "      <th>C</th>\n",
              "    </tr>\n",
              "  </thead>\n",
              "  <tbody>\n",
              "    <tr>\n",
              "      <th>0</th>\n",
              "      <td>1</td>\n",
              "      <td>6</td>\n",
              "      <td>3</td>\n",
              "    </tr>\n",
              "    <tr>\n",
              "      <th>2</th>\n",
              "      <td>3</td>\n",
              "      <td>4</td>\n",
              "      <td>5</td>\n",
              "    </tr>\n",
              "  </tbody>\n",
              "</table>\n",
              "</div>"
            ],
            "text/plain": [
              "   A  B  C\n",
              "0  1  6  3\n",
              "2  3  4  5"
            ]
          },
          "metadata": {},
          "execution_count": 38
        }
      ]
    },
    {
      "cell_type": "code",
      "metadata": {
        "colab": {
          "base_uri": "https://localhost:8080/"
        },
        "id": "ilxVtD9etYa2",
        "outputId": "fc67abed-3a90-48de-c073-fae504d58e9d"
      },
      "source": [
        "#1-36 'category'가 음악/댄스/가수' 인 채널의 subscriber TOP5를 알아봅니다.\n",
        "df['category'] == '악/댄스/가'"
      ],
      "execution_count": 39,
      "outputs": [
        {
          "output_type": "execute_result",
          "data": {
            "text/plain": [
              "0      False\n",
              "1      False\n",
              "2      False\n",
              "3      False\n",
              "4      False\n",
              "       ...  \n",
              "995    False\n",
              "996    False\n",
              "997    False\n",
              "998    False\n",
              "999    False\n",
              "Name: category, Length: 1000, dtype: bool"
            ]
          },
          "metadata": {},
          "execution_count": 39
        }
      ]
    },
    {
      "cell_type": "code",
      "metadata": {
        "colab": {
          "base_uri": "https://localhost:8080/"
        },
        "id": "zsPXQlgjvjKU",
        "outputId": "aed5b429-ea5a-4d90-fcec-ae9ed2e9dee0"
      },
      "source": [
        "(df['category'] == '악/댄스/가').sum()"
      ],
      "execution_count": 40,
      "outputs": [
        {
          "output_type": "execute_result",
          "data": {
            "text/plain": [
              "0"
            ]
          },
          "metadata": {},
          "execution_count": 40
        }
      ]
    },
    {
      "cell_type": "code",
      "metadata": {
        "colab": {
          "base_uri": "https://localhost:8080/",
          "height": 49
        },
        "id": "uqc8M9jFvyLM",
        "outputId": "e9002e1b-bec1-4be5-eb58-0881b4a097e0"
      },
      "source": [
        "df[df['category'] =='악/댄스/가'].sort_values('subscriber',ascending=False).head()"
      ],
      "execution_count": 41,
      "outputs": [
        {
          "output_type": "execute_result",
          "data": {
            "text/html": [
              "<div>\n",
              "<style scoped>\n",
              "    .dataframe tbody tr th:only-of-type {\n",
              "        vertical-align: middle;\n",
              "    }\n",
              "\n",
              "    .dataframe tbody tr th {\n",
              "        vertical-align: top;\n",
              "    }\n",
              "\n",
              "    .dataframe thead th {\n",
              "        text-align: right;\n",
              "    }\n",
              "</style>\n",
              "<table border=\"1\" class=\"dataframe\">\n",
              "  <thead>\n",
              "    <tr style=\"text-align: right;\">\n",
              "      <th></th>\n",
              "      <th>title</th>\n",
              "      <th>category</th>\n",
              "      <th>subscriber</th>\n",
              "      <th>view</th>\n",
              "      <th>video</th>\n",
              "    </tr>\n",
              "  </thead>\n",
              "  <tbody>\n",
              "  </tbody>\n",
              "</table>\n",
              "</div>"
            ],
            "text/plain": [
              "Empty DataFrame\n",
              "Columns: [title, category, subscriber, view, video]\n",
              "Index: []"
            ]
          },
          "metadata": {},
          "execution_count": 41
        }
      ]
    },
    {
      "cell_type": "code",
      "metadata": {
        "colab": {
          "base_uri": "https://localhost:8080/",
          "height": 204
        },
        "id": "kEmWuT18t-mq",
        "outputId": "ce2e2c43-34d3-4dd3-93dd-70e763566ce7"
      },
      "source": [
        "#1-37 'category'가 TV/방송'인 채널의 view TOP5를 알아봅니다.\n",
        "df[df['category'] == 'TV/방송'].sort_values('view',ascending=False).head()"
      ],
      "execution_count": 46,
      "outputs": [
        {
          "output_type": "execute_result",
          "data": {
            "text/html": [
              "<div>\n",
              "<style scoped>\n",
              "    .dataframe tbody tr th:only-of-type {\n",
              "        vertical-align: middle;\n",
              "    }\n",
              "\n",
              "    .dataframe tbody tr th {\n",
              "        vertical-align: top;\n",
              "    }\n",
              "\n",
              "    .dataframe thead th {\n",
              "        text-align: right;\n",
              "    }\n",
              "</style>\n",
              "<table border=\"1\" class=\"dataframe\">\n",
              "  <thead>\n",
              "    <tr style=\"text-align: right;\">\n",
              "      <th></th>\n",
              "      <th>title</th>\n",
              "      <th>category</th>\n",
              "      <th>subscriber</th>\n",
              "      <th>view</th>\n",
              "      <th>video</th>\n",
              "    </tr>\n",
              "  </thead>\n",
              "  <tbody>\n",
              "    <tr>\n",
              "      <th>12</th>\n",
              "      <td>KBS World</td>\n",
              "      <td>TV/방송</td>\n",
              "      <td>14300000</td>\n",
              "      <td>10158060000</td>\n",
              "      <td>46830</td>\n",
              "    </tr>\n",
              "    <tr>\n",
              "      <th>22</th>\n",
              "      <td>MBCkpop</td>\n",
              "      <td>TV/방송</td>\n",
              "      <td>8670000</td>\n",
              "      <td>6339380000</td>\n",
              "      <td>38695</td>\n",
              "    </tr>\n",
              "    <tr>\n",
              "      <th>76</th>\n",
              "      <td>KBS Entertain</td>\n",
              "      <td>TV/방송</td>\n",
              "      <td>3930000</td>\n",
              "      <td>5340910000</td>\n",
              "      <td>91783</td>\n",
              "    </tr>\n",
              "    <tr>\n",
              "      <th>57</th>\n",
              "      <td>SBS Entertainment</td>\n",
              "      <td>TV/방송</td>\n",
              "      <td>4490000</td>\n",
              "      <td>4516190000</td>\n",
              "      <td>210810</td>\n",
              "    </tr>\n",
              "    <tr>\n",
              "      <th>77</th>\n",
              "      <td>MBCdrama</td>\n",
              "      <td>TV/방송</td>\n",
              "      <td>3920000</td>\n",
              "      <td>4350540000</td>\n",
              "      <td>51543</td>\n",
              "    </tr>\n",
              "  </tbody>\n",
              "</table>\n",
              "</div>"
            ],
            "text/plain": [
              "                title category  subscriber         view   video\n",
              "12          KBS World    TV/방송    14300000  10158060000   46830\n",
              "22            MBCkpop    TV/방송     8670000   6339380000   38695\n",
              "76      KBS Entertain    TV/방송     3930000   5340910000   91783\n",
              "57  SBS Entertainment    TV/방송     4490000   4516190000  210810\n",
              "77           MBCdrama    TV/방송     3920000   4350540000   51543"
            ]
          },
          "metadata": {},
          "execution_count": 46
        }
      ]
    },
    {
      "cell_type": "code",
      "metadata": {
        "colab": {
          "base_uri": "https://localhost:8080/",
          "height": 142
        },
        "id": "-KuAg4bbuOHH",
        "outputId": "ae4f972a-af2f-4e01-be3f-99a474301ffd"
      },
      "source": [
        "#1-38 'subscriber'가 30000000(3천만)이상인 채널만 알아봅니다.\n",
        "df[df['subscriber'] >= 30000000]"
      ],
      "execution_count": 49,
      "outputs": [
        {
          "output_type": "execute_result",
          "data": {
            "text/html": [
              "<div>\n",
              "<style scoped>\n",
              "    .dataframe tbody tr th:only-of-type {\n",
              "        vertical-align: middle;\n",
              "    }\n",
              "\n",
              "    .dataframe tbody tr th {\n",
              "        vertical-align: top;\n",
              "    }\n",
              "\n",
              "    .dataframe thead th {\n",
              "        text-align: right;\n",
              "    }\n",
              "</style>\n",
              "<table border=\"1\" class=\"dataframe\">\n",
              "  <thead>\n",
              "    <tr style=\"text-align: right;\">\n",
              "      <th></th>\n",
              "      <th>title</th>\n",
              "      <th>category</th>\n",
              "      <th>subscriber</th>\n",
              "      <th>view</th>\n",
              "      <th>video</th>\n",
              "    </tr>\n",
              "  </thead>\n",
              "  <tbody>\n",
              "    <tr>\n",
              "      <th>0</th>\n",
              "      <td>BLACKPINK</td>\n",
              "      <td>음악/댄스/가수</td>\n",
              "      <td>51400000</td>\n",
              "      <td>12851300000</td>\n",
              "      <td>319</td>\n",
              "    </tr>\n",
              "    <tr>\n",
              "      <th>1</th>\n",
              "      <td>Big Hit Labels</td>\n",
              "      <td>음악/댄스/가수</td>\n",
              "      <td>45500000</td>\n",
              "      <td>12089660000</td>\n",
              "      <td>433</td>\n",
              "    </tr>\n",
              "    <tr>\n",
              "      <th>2</th>\n",
              "      <td>BANGTANTV</td>\n",
              "      <td>음악/댄스/가수</td>\n",
              "      <td>38700000</td>\n",
              "      <td>5475980000</td>\n",
              "      <td>1319</td>\n",
              "    </tr>\n",
              "  </tbody>\n",
              "</table>\n",
              "</div>"
            ],
            "text/plain": [
              "            title  category  subscriber         view  video\n",
              "0       BLACKPINK  음악/댄스/가수    51400000  12851300000    319\n",
              "1  Big Hit Labels  음악/댄스/가수    45500000  12089660000    433\n",
              "2       BANGTANTV  음악/댄스/가수    38700000   5475980000   1319"
            ]
          },
          "metadata": {},
          "execution_count": 49
        }
      ]
    },
    {
      "cell_type": "code",
      "metadata": {
        "id": "yzbp1-D2uXnh"
      },
      "source": [
        "#1-39 'video'개수가 30000이상 35000 이하인 채널을 알아봅니다.\n",
        "#df[(df['video'] >= 30000) & (df['video' <= 35000])]"
      ],
      "execution_count": 53,
      "outputs": []
    },
    {
      "cell_type": "code",
      "metadata": {
        "colab": {
          "base_uri": "https://localhost:8080/",
          "height": 855
        },
        "id": "Os2WahZuuiQi",
        "outputId": "31fefc56-0047-4fa0-d5ce-183780adc757"
      },
      "source": [
        "#1-40 'subscriber'가 3000000(3천만)이상이거나 'video'개수가 50000 이상인 채널을 알아봅니다.\n",
        "df[(df['subscriber']>=30000000) | (df['video'] >=50000)]"
      ],
      "execution_count": 55,
      "outputs": [
        {
          "output_type": "execute_result",
          "data": {
            "text/html": [
              "<div>\n",
              "<style scoped>\n",
              "    .dataframe tbody tr th:only-of-type {\n",
              "        vertical-align: middle;\n",
              "    }\n",
              "\n",
              "    .dataframe tbody tr th {\n",
              "        vertical-align: top;\n",
              "    }\n",
              "\n",
              "    .dataframe thead th {\n",
              "        text-align: right;\n",
              "    }\n",
              "</style>\n",
              "<table border=\"1\" class=\"dataframe\">\n",
              "  <thead>\n",
              "    <tr style=\"text-align: right;\">\n",
              "      <th></th>\n",
              "      <th>title</th>\n",
              "      <th>category</th>\n",
              "      <th>subscriber</th>\n",
              "      <th>view</th>\n",
              "      <th>video</th>\n",
              "    </tr>\n",
              "  </thead>\n",
              "  <tbody>\n",
              "    <tr>\n",
              "      <th>0</th>\n",
              "      <td>BLACKPINK</td>\n",
              "      <td>음악/댄스/가수</td>\n",
              "      <td>51400000</td>\n",
              "      <td>12851300000</td>\n",
              "      <td>319</td>\n",
              "    </tr>\n",
              "    <tr>\n",
              "      <th>1</th>\n",
              "      <td>Big Hit Labels</td>\n",
              "      <td>음악/댄스/가수</td>\n",
              "      <td>45500000</td>\n",
              "      <td>12089660000</td>\n",
              "      <td>433</td>\n",
              "    </tr>\n",
              "    <tr>\n",
              "      <th>2</th>\n",
              "      <td>BANGTANTV</td>\n",
              "      <td>음악/댄스/가수</td>\n",
              "      <td>38700000</td>\n",
              "      <td>5475980000</td>\n",
              "      <td>1319</td>\n",
              "    </tr>\n",
              "    <tr>\n",
              "      <th>17</th>\n",
              "      <td>CNN</td>\n",
              "      <td>뉴스/정치/사회</td>\n",
              "      <td>10900000</td>\n",
              "      <td>7899750000</td>\n",
              "      <td>149530</td>\n",
              "    </tr>\n",
              "    <tr>\n",
              "      <th>27</th>\n",
              "      <td>MBCentertainment</td>\n",
              "      <td>뉴스/정치/사회</td>\n",
              "      <td>7710000</td>\n",
              "      <td>11683060000</td>\n",
              "      <td>79567</td>\n",
              "    </tr>\n",
              "    <tr>\n",
              "      <th>38</th>\n",
              "      <td>JTBC Entertainment</td>\n",
              "      <td>뉴스/정치/사회</td>\n",
              "      <td>6020000</td>\n",
              "      <td>7638370000</td>\n",
              "      <td>58938</td>\n",
              "    </tr>\n",
              "    <tr>\n",
              "      <th>57</th>\n",
              "      <td>SBS Entertainment</td>\n",
              "      <td>TV/방송</td>\n",
              "      <td>4490000</td>\n",
              "      <td>4516190000</td>\n",
              "      <td>210810</td>\n",
              "    </tr>\n",
              "    <tr>\n",
              "      <th>60</th>\n",
              "      <td>SBS Drama</td>\n",
              "      <td>TV/방송</td>\n",
              "      <td>4360000</td>\n",
              "      <td>4260860000</td>\n",
              "      <td>339029</td>\n",
              "    </tr>\n",
              "    <tr>\n",
              "      <th>76</th>\n",
              "      <td>KBS Entertain</td>\n",
              "      <td>TV/방송</td>\n",
              "      <td>3930000</td>\n",
              "      <td>5340910000</td>\n",
              "      <td>91783</td>\n",
              "    </tr>\n",
              "    <tr>\n",
              "      <th>77</th>\n",
              "      <td>MBCdrama</td>\n",
              "      <td>TV/방송</td>\n",
              "      <td>3920000</td>\n",
              "      <td>4350540000</td>\n",
              "      <td>51543</td>\n",
              "    </tr>\n",
              "    <tr>\n",
              "      <th>101</th>\n",
              "      <td>KBS Drama</td>\n",
              "      <td>TV/방송</td>\n",
              "      <td>3040000</td>\n",
              "      <td>3538510000</td>\n",
              "      <td>105922</td>\n",
              "    </tr>\n",
              "    <tr>\n",
              "      <th>119</th>\n",
              "      <td>tvN</td>\n",
              "      <td>TV/방송</td>\n",
              "      <td>2680000</td>\n",
              "      <td>3307570000</td>\n",
              "      <td>52141</td>\n",
              "    </tr>\n",
              "    <tr>\n",
              "      <th>168</th>\n",
              "      <td>TV CHOSUN</td>\n",
              "      <td>뉴스/정치/사회</td>\n",
              "      <td>1990000</td>\n",
              "      <td>3255290000</td>\n",
              "      <td>53632</td>\n",
              "    </tr>\n",
              "    <tr>\n",
              "      <th>169</th>\n",
              "      <td>YTN news</td>\n",
              "      <td>뉴스/정치/사회</td>\n",
              "      <td>1970000</td>\n",
              "      <td>3801710000</td>\n",
              "      <td>492791</td>\n",
              "    </tr>\n",
              "    <tr>\n",
              "      <th>176</th>\n",
              "      <td>런닝맨 - 스브스 공식 채널</td>\n",
              "      <td>TV/방송</td>\n",
              "      <td>1880000</td>\n",
              "      <td>2116410000</td>\n",
              "      <td>52730</td>\n",
              "    </tr>\n",
              "    <tr>\n",
              "      <th>248</th>\n",
              "      <td>JTBC News</td>\n",
              "      <td>뉴스/정치/사회</td>\n",
              "      <td>1400000</td>\n",
              "      <td>1573740000</td>\n",
              "      <td>91379</td>\n",
              "    </tr>\n",
              "    <tr>\n",
              "      <th>366</th>\n",
              "      <td>SBS 뉴스</td>\n",
              "      <td>뉴스/정치/사회</td>\n",
              "      <td>1010000</td>\n",
              "      <td>1458080000</td>\n",
              "      <td>87768</td>\n",
              "    </tr>\n",
              "    <tr>\n",
              "      <th>373</th>\n",
              "      <td>SBS STORY</td>\n",
              "      <td>뉴스/정치/사회</td>\n",
              "      <td>990000</td>\n",
              "      <td>1254640000</td>\n",
              "      <td>75985</td>\n",
              "    </tr>\n",
              "    <tr>\n",
              "      <th>389</th>\n",
              "      <td>KBS News</td>\n",
              "      <td>뉴스/정치/사회</td>\n",
              "      <td>960000</td>\n",
              "      <td>1017410000</td>\n",
              "      <td>145515</td>\n",
              "    </tr>\n",
              "    <tr>\n",
              "      <th>402</th>\n",
              "      <td>채널A 뉴스</td>\n",
              "      <td>뉴스/정치/사회</td>\n",
              "      <td>940000</td>\n",
              "      <td>1039130000</td>\n",
              "      <td>52662</td>\n",
              "    </tr>\n",
              "    <tr>\n",
              "      <th>431</th>\n",
              "      <td>MBCNEWS</td>\n",
              "      <td>뉴스/정치/사회</td>\n",
              "      <td>890000</td>\n",
              "      <td>1388710000</td>\n",
              "      <td>87228</td>\n",
              "    </tr>\n",
              "    <tr>\n",
              "      <th>502</th>\n",
              "      <td>뉴스TVCHOSUN</td>\n",
              "      <td>뉴스/정치/사회</td>\n",
              "      <td>770000</td>\n",
              "      <td>623510000</td>\n",
              "      <td>57729</td>\n",
              "    </tr>\n",
              "    <tr>\n",
              "      <th>701</th>\n",
              "      <td>MBN News</td>\n",
              "      <td>뉴스/정치/사회</td>\n",
              "      <td>570000</td>\n",
              "      <td>623580000</td>\n",
              "      <td>72397</td>\n",
              "    </tr>\n",
              "    <tr>\n",
              "      <th>737</th>\n",
              "      <td>연합뉴스TV</td>\n",
              "      <td>뉴스/정치/사회</td>\n",
              "      <td>550000</td>\n",
              "      <td>697650000</td>\n",
              "      <td>311370</td>\n",
              "    </tr>\n",
              "    <tr>\n",
              "      <th>988</th>\n",
              "      <td>ARIRANG NEWS</td>\n",
              "      <td>뉴스/정치/사회</td>\n",
              "      <td>400000</td>\n",
              "      <td>190750000</td>\n",
              "      <td>114494</td>\n",
              "    </tr>\n",
              "    <tr>\n",
              "      <th>992</th>\n",
              "      <td>KBS 교양</td>\n",
              "      <td>뉴스/정치/사회</td>\n",
              "      <td>400000</td>\n",
              "      <td>297960000</td>\n",
              "      <td>64694</td>\n",
              "    </tr>\n",
              "  </tbody>\n",
              "</table>\n",
              "</div>"
            ],
            "text/plain": [
              "                  title  category  subscriber         view   video\n",
              "0             BLACKPINK  음악/댄스/가수    51400000  12851300000     319\n",
              "1        Big Hit Labels  음악/댄스/가수    45500000  12089660000     433\n",
              "2             BANGTANTV  음악/댄스/가수    38700000   5475980000    1319\n",
              "17                  CNN  뉴스/정치/사회    10900000   7899750000  149530\n",
              "27     MBCentertainment  뉴스/정치/사회     7710000  11683060000   79567\n",
              "38   JTBC Entertainment  뉴스/정치/사회     6020000   7638370000   58938\n",
              "57    SBS Entertainment     TV/방송     4490000   4516190000  210810\n",
              "60            SBS Drama     TV/방송     4360000   4260860000  339029\n",
              "76        KBS Entertain     TV/방송     3930000   5340910000   91783\n",
              "77             MBCdrama     TV/방송     3920000   4350540000   51543\n",
              "101           KBS Drama     TV/방송     3040000   3538510000  105922\n",
              "119                 tvN     TV/방송     2680000   3307570000   52141\n",
              "168           TV CHOSUN  뉴스/정치/사회     1990000   3255290000   53632\n",
              "169            YTN news  뉴스/정치/사회     1970000   3801710000  492791\n",
              "176     런닝맨 - 스브스 공식 채널     TV/방송     1880000   2116410000   52730\n",
              "248           JTBC News  뉴스/정치/사회     1400000   1573740000   91379\n",
              "366              SBS 뉴스  뉴스/정치/사회     1010000   1458080000   87768\n",
              "373           SBS STORY  뉴스/정치/사회      990000   1254640000   75985\n",
              "389            KBS News  뉴스/정치/사회      960000   1017410000  145515\n",
              "402              채널A 뉴스  뉴스/정치/사회      940000   1039130000   52662\n",
              "431             MBCNEWS  뉴스/정치/사회      890000   1388710000   87228\n",
              "502          뉴스TVCHOSUN  뉴스/정치/사회      770000    623510000   57729\n",
              "701            MBN News  뉴스/정치/사회      570000    623580000   72397\n",
              "737              연합뉴스TV  뉴스/정치/사회      550000    697650000  311370\n",
              "988        ARIRANG NEWS  뉴스/정치/사회      400000    190750000  114494\n",
              "992              KBS 교양  뉴스/정치/사회      400000    297960000   64694"
            ]
          },
          "metadata": {},
          "execution_count": 55
        }
      ]
    },
    {
      "cell_type": "code",
      "metadata": {
        "colab": {
          "base_uri": "https://localhost:8080/",
          "height": 855
        },
        "id": "xGj1aXD9fB_A",
        "outputId": "31cc6bd1-eee3-41f6-ff4d-02954ea2f246"
      },
      "source": [
        "df.loc[(df['subscriber'] >=30000000) | (df['video'] >=50000), :]"
      ],
      "execution_count": 56,
      "outputs": [
        {
          "output_type": "execute_result",
          "data": {
            "text/html": [
              "<div>\n",
              "<style scoped>\n",
              "    .dataframe tbody tr th:only-of-type {\n",
              "        vertical-align: middle;\n",
              "    }\n",
              "\n",
              "    .dataframe tbody tr th {\n",
              "        vertical-align: top;\n",
              "    }\n",
              "\n",
              "    .dataframe thead th {\n",
              "        text-align: right;\n",
              "    }\n",
              "</style>\n",
              "<table border=\"1\" class=\"dataframe\">\n",
              "  <thead>\n",
              "    <tr style=\"text-align: right;\">\n",
              "      <th></th>\n",
              "      <th>title</th>\n",
              "      <th>category</th>\n",
              "      <th>subscriber</th>\n",
              "      <th>view</th>\n",
              "      <th>video</th>\n",
              "    </tr>\n",
              "  </thead>\n",
              "  <tbody>\n",
              "    <tr>\n",
              "      <th>0</th>\n",
              "      <td>BLACKPINK</td>\n",
              "      <td>음악/댄스/가수</td>\n",
              "      <td>51400000</td>\n",
              "      <td>12851300000</td>\n",
              "      <td>319</td>\n",
              "    </tr>\n",
              "    <tr>\n",
              "      <th>1</th>\n",
              "      <td>Big Hit Labels</td>\n",
              "      <td>음악/댄스/가수</td>\n",
              "      <td>45500000</td>\n",
              "      <td>12089660000</td>\n",
              "      <td>433</td>\n",
              "    </tr>\n",
              "    <tr>\n",
              "      <th>2</th>\n",
              "      <td>BANGTANTV</td>\n",
              "      <td>음악/댄스/가수</td>\n",
              "      <td>38700000</td>\n",
              "      <td>5475980000</td>\n",
              "      <td>1319</td>\n",
              "    </tr>\n",
              "    <tr>\n",
              "      <th>17</th>\n",
              "      <td>CNN</td>\n",
              "      <td>뉴스/정치/사회</td>\n",
              "      <td>10900000</td>\n",
              "      <td>7899750000</td>\n",
              "      <td>149530</td>\n",
              "    </tr>\n",
              "    <tr>\n",
              "      <th>27</th>\n",
              "      <td>MBCentertainment</td>\n",
              "      <td>뉴스/정치/사회</td>\n",
              "      <td>7710000</td>\n",
              "      <td>11683060000</td>\n",
              "      <td>79567</td>\n",
              "    </tr>\n",
              "    <tr>\n",
              "      <th>38</th>\n",
              "      <td>JTBC Entertainment</td>\n",
              "      <td>뉴스/정치/사회</td>\n",
              "      <td>6020000</td>\n",
              "      <td>7638370000</td>\n",
              "      <td>58938</td>\n",
              "    </tr>\n",
              "    <tr>\n",
              "      <th>57</th>\n",
              "      <td>SBS Entertainment</td>\n",
              "      <td>TV/방송</td>\n",
              "      <td>4490000</td>\n",
              "      <td>4516190000</td>\n",
              "      <td>210810</td>\n",
              "    </tr>\n",
              "    <tr>\n",
              "      <th>60</th>\n",
              "      <td>SBS Drama</td>\n",
              "      <td>TV/방송</td>\n",
              "      <td>4360000</td>\n",
              "      <td>4260860000</td>\n",
              "      <td>339029</td>\n",
              "    </tr>\n",
              "    <tr>\n",
              "      <th>76</th>\n",
              "      <td>KBS Entertain</td>\n",
              "      <td>TV/방송</td>\n",
              "      <td>3930000</td>\n",
              "      <td>5340910000</td>\n",
              "      <td>91783</td>\n",
              "    </tr>\n",
              "    <tr>\n",
              "      <th>77</th>\n",
              "      <td>MBCdrama</td>\n",
              "      <td>TV/방송</td>\n",
              "      <td>3920000</td>\n",
              "      <td>4350540000</td>\n",
              "      <td>51543</td>\n",
              "    </tr>\n",
              "    <tr>\n",
              "      <th>101</th>\n",
              "      <td>KBS Drama</td>\n",
              "      <td>TV/방송</td>\n",
              "      <td>3040000</td>\n",
              "      <td>3538510000</td>\n",
              "      <td>105922</td>\n",
              "    </tr>\n",
              "    <tr>\n",
              "      <th>119</th>\n",
              "      <td>tvN</td>\n",
              "      <td>TV/방송</td>\n",
              "      <td>2680000</td>\n",
              "      <td>3307570000</td>\n",
              "      <td>52141</td>\n",
              "    </tr>\n",
              "    <tr>\n",
              "      <th>168</th>\n",
              "      <td>TV CHOSUN</td>\n",
              "      <td>뉴스/정치/사회</td>\n",
              "      <td>1990000</td>\n",
              "      <td>3255290000</td>\n",
              "      <td>53632</td>\n",
              "    </tr>\n",
              "    <tr>\n",
              "      <th>169</th>\n",
              "      <td>YTN news</td>\n",
              "      <td>뉴스/정치/사회</td>\n",
              "      <td>1970000</td>\n",
              "      <td>3801710000</td>\n",
              "      <td>492791</td>\n",
              "    </tr>\n",
              "    <tr>\n",
              "      <th>176</th>\n",
              "      <td>런닝맨 - 스브스 공식 채널</td>\n",
              "      <td>TV/방송</td>\n",
              "      <td>1880000</td>\n",
              "      <td>2116410000</td>\n",
              "      <td>52730</td>\n",
              "    </tr>\n",
              "    <tr>\n",
              "      <th>248</th>\n",
              "      <td>JTBC News</td>\n",
              "      <td>뉴스/정치/사회</td>\n",
              "      <td>1400000</td>\n",
              "      <td>1573740000</td>\n",
              "      <td>91379</td>\n",
              "    </tr>\n",
              "    <tr>\n",
              "      <th>366</th>\n",
              "      <td>SBS 뉴스</td>\n",
              "      <td>뉴스/정치/사회</td>\n",
              "      <td>1010000</td>\n",
              "      <td>1458080000</td>\n",
              "      <td>87768</td>\n",
              "    </tr>\n",
              "    <tr>\n",
              "      <th>373</th>\n",
              "      <td>SBS STORY</td>\n",
              "      <td>뉴스/정치/사회</td>\n",
              "      <td>990000</td>\n",
              "      <td>1254640000</td>\n",
              "      <td>75985</td>\n",
              "    </tr>\n",
              "    <tr>\n",
              "      <th>389</th>\n",
              "      <td>KBS News</td>\n",
              "      <td>뉴스/정치/사회</td>\n",
              "      <td>960000</td>\n",
              "      <td>1017410000</td>\n",
              "      <td>145515</td>\n",
              "    </tr>\n",
              "    <tr>\n",
              "      <th>402</th>\n",
              "      <td>채널A 뉴스</td>\n",
              "      <td>뉴스/정치/사회</td>\n",
              "      <td>940000</td>\n",
              "      <td>1039130000</td>\n",
              "      <td>52662</td>\n",
              "    </tr>\n",
              "    <tr>\n",
              "      <th>431</th>\n",
              "      <td>MBCNEWS</td>\n",
              "      <td>뉴스/정치/사회</td>\n",
              "      <td>890000</td>\n",
              "      <td>1388710000</td>\n",
              "      <td>87228</td>\n",
              "    </tr>\n",
              "    <tr>\n",
              "      <th>502</th>\n",
              "      <td>뉴스TVCHOSUN</td>\n",
              "      <td>뉴스/정치/사회</td>\n",
              "      <td>770000</td>\n",
              "      <td>623510000</td>\n",
              "      <td>57729</td>\n",
              "    </tr>\n",
              "    <tr>\n",
              "      <th>701</th>\n",
              "      <td>MBN News</td>\n",
              "      <td>뉴스/정치/사회</td>\n",
              "      <td>570000</td>\n",
              "      <td>623580000</td>\n",
              "      <td>72397</td>\n",
              "    </tr>\n",
              "    <tr>\n",
              "      <th>737</th>\n",
              "      <td>연합뉴스TV</td>\n",
              "      <td>뉴스/정치/사회</td>\n",
              "      <td>550000</td>\n",
              "      <td>697650000</td>\n",
              "      <td>311370</td>\n",
              "    </tr>\n",
              "    <tr>\n",
              "      <th>988</th>\n",
              "      <td>ARIRANG NEWS</td>\n",
              "      <td>뉴스/정치/사회</td>\n",
              "      <td>400000</td>\n",
              "      <td>190750000</td>\n",
              "      <td>114494</td>\n",
              "    </tr>\n",
              "    <tr>\n",
              "      <th>992</th>\n",
              "      <td>KBS 교양</td>\n",
              "      <td>뉴스/정치/사회</td>\n",
              "      <td>400000</td>\n",
              "      <td>297960000</td>\n",
              "      <td>64694</td>\n",
              "    </tr>\n",
              "  </tbody>\n",
              "</table>\n",
              "</div>"
            ],
            "text/plain": [
              "                  title  category  subscriber         view   video\n",
              "0             BLACKPINK  음악/댄스/가수    51400000  12851300000     319\n",
              "1        Big Hit Labels  음악/댄스/가수    45500000  12089660000     433\n",
              "2             BANGTANTV  음악/댄스/가수    38700000   5475980000    1319\n",
              "17                  CNN  뉴스/정치/사회    10900000   7899750000  149530\n",
              "27     MBCentertainment  뉴스/정치/사회     7710000  11683060000   79567\n",
              "38   JTBC Entertainment  뉴스/정치/사회     6020000   7638370000   58938\n",
              "57    SBS Entertainment     TV/방송     4490000   4516190000  210810\n",
              "60            SBS Drama     TV/방송     4360000   4260860000  339029\n",
              "76        KBS Entertain     TV/방송     3930000   5340910000   91783\n",
              "77             MBCdrama     TV/방송     3920000   4350540000   51543\n",
              "101           KBS Drama     TV/방송     3040000   3538510000  105922\n",
              "119                 tvN     TV/방송     2680000   3307570000   52141\n",
              "168           TV CHOSUN  뉴스/정치/사회     1990000   3255290000   53632\n",
              "169            YTN news  뉴스/정치/사회     1970000   3801710000  492791\n",
              "176     런닝맨 - 스브스 공식 채널     TV/방송     1880000   2116410000   52730\n",
              "248           JTBC News  뉴스/정치/사회     1400000   1573740000   91379\n",
              "366              SBS 뉴스  뉴스/정치/사회     1010000   1458080000   87768\n",
              "373           SBS STORY  뉴스/정치/사회      990000   1254640000   75985\n",
              "389            KBS News  뉴스/정치/사회      960000   1017410000  145515\n",
              "402              채널A 뉴스  뉴스/정치/사회      940000   1039130000   52662\n",
              "431             MBCNEWS  뉴스/정치/사회      890000   1388710000   87228\n",
              "502          뉴스TVCHOSUN  뉴스/정치/사회      770000    623510000   57729\n",
              "701            MBN News  뉴스/정치/사회      570000    623580000   72397\n",
              "737              연합뉴스TV  뉴스/정치/사회      550000    697650000  311370\n",
              "988        ARIRANG NEWS  뉴스/정치/사회      400000    190750000  114494\n",
              "992              KBS 교양  뉴스/정치/사회      400000    297960000   64694"
            ]
          },
          "metadata": {},
          "execution_count": 56
        }
      ]
    },
    {
      "cell_type": "code",
      "metadata": {
        "id": "k-JL8CSdfl4S"
      },
      "source": [
        ""
      ],
      "execution_count": null,
      "outputs": []
    }
  ]
}