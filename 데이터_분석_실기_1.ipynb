{
  "nbformat": 4,
  "nbformat_minor": 0,
  "metadata": {
    "colab": {
      "name": "데이터 분석 실기-1.ipynb",
      "provenance": [],
      "authorship_tag": "ABX9TyPubzvNOw+phLwCODIMKfQ9",
      "include_colab_link": true
    },
    "kernelspec": {
      "name": "python3",
      "display_name": "Python 3"
    },
    "language_info": {
      "name": "python"
    }
  },
  "cells": [
    {
      "cell_type": "markdown",
      "metadata": {
        "id": "view-in-github",
        "colab_type": "text"
      },
      "source": [
        "<a href=\"https://colab.research.google.com/github/orizay/free-fonts/blob/master/%EB%8D%B0%EC%9D%B4%ED%84%B0_%EB%B6%84%EC%84%9D_%EC%8B%A4%EA%B8%B0_1.ipynb\" target=\"_parent\"><img src=\"https://colab.research.google.com/assets/colab-badge.svg\" alt=\"Open In Colab\"/></a>"
      ]
    },
    {
      "cell_type": "code",
      "metadata": {
        "colab": {
          "base_uri": "https://localhost:8080/"
        },
        "id": "jUPzEELeoaiA",
        "outputId": "d10e64ec-d58d-4760-cc00-ac8459df9d7d"
      },
      "source": [
        "!git clone https://github.com/Soyoung-Yoon/data_01"
      ],
      "execution_count": 2,
      "outputs": [
        {
          "output_type": "stream",
          "name": "stdout",
          "text": [
            "Cloning into 'data_01'...\n",
            "remote: Enumerating objects: 47, done.\u001b[K\n",
            "remote: Counting objects: 100% (47/47), done.\u001b[K\n",
            "remote: Compressing objects: 100% (47/47), done.\u001b[K\n",
            "remote: Total 47 (delta 15), reused 0 (delta 0), pack-reused 0\u001b[K\n",
            "Unpacking objects: 100% (47/47), done.\n"
          ]
        }
      ]
    },
    {
      "cell_type": "markdown",
      "metadata": {
        "id": "49WbJah4pZFD"
      },
      "source": [
        "# Youtube 인기채널은?\n",
        "- title: 채널명\n",
        "- category: 카테고리\n",
        "- subscriber: 구독자수\n",
        "- view: 조회수\n",
        "- video: 영상개수"
      ]
    },
    {
      "cell_type": "code",
      "metadata": {
        "id": "jTQmsWoPos2r"
      },
      "source": [
        "import pandas as pd\n",
        "import numpy as np"
      ],
      "execution_count": 3,
      "outputs": []
    },
    {
      "cell_type": "code",
      "metadata": {
        "id": "y8xJHRD_xuHu"
      },
      "source": [
        "df = pd.read_csv('data_01/youtube_rank.csv')"
      ],
      "execution_count": 4,
      "outputs": []
    },
    {
      "cell_type": "code",
      "metadata": {
        "colab": {
          "base_uri": "https://localhost:8080/",
          "height": 204
        },
        "id": "qy6VdLtWOQ4Z",
        "outputId": "1d515f8f-7c02-4090-9c4c-5ab949e53aed"
      },
      "source": [
        "df.head()"
      ],
      "execution_count": 5,
      "outputs": [
        {
          "output_type": "execute_result",
          "data": {
            "text/html": [
              "<div>\n",
              "<style scoped>\n",
              "    .dataframe tbody tr th:only-of-type {\n",
              "        vertical-align: middle;\n",
              "    }\n",
              "\n",
              "    .dataframe tbody tr th {\n",
              "        vertical-align: top;\n",
              "    }\n",
              "\n",
              "    .dataframe thead th {\n",
              "        text-align: right;\n",
              "    }\n",
              "</style>\n",
              "<table border=\"1\" class=\"dataframe\">\n",
              "  <thead>\n",
              "    <tr style=\"text-align: right;\">\n",
              "      <th></th>\n",
              "      <th>title</th>\n",
              "      <th>category</th>\n",
              "      <th>subscriber</th>\n",
              "      <th>view</th>\n",
              "      <th>video</th>\n",
              "    </tr>\n",
              "  </thead>\n",
              "  <tbody>\n",
              "    <tr>\n",
              "      <th>0</th>\n",
              "      <td>BLACKPINK</td>\n",
              "      <td>[음악/댄스/가수]</td>\n",
              "      <td>5140만</td>\n",
              "      <td>128억5130만</td>\n",
              "      <td>319개</td>\n",
              "    </tr>\n",
              "    <tr>\n",
              "      <th>1</th>\n",
              "      <td>Big Hit Labels</td>\n",
              "      <td>[음악/댄스/가수]</td>\n",
              "      <td>4550만</td>\n",
              "      <td>120억8966만</td>\n",
              "      <td>433개</td>\n",
              "    </tr>\n",
              "    <tr>\n",
              "      <th>2</th>\n",
              "      <td>BANGTANTV</td>\n",
              "      <td>[음악/댄스/가수]</td>\n",
              "      <td>3870만</td>\n",
              "      <td>54억7598만</td>\n",
              "      <td>1,319개</td>\n",
              "    </tr>\n",
              "    <tr>\n",
              "      <th>3</th>\n",
              "      <td>Boram Tube Vlog [보람튜브 브이로그]</td>\n",
              "      <td>[키즈/어린이]</td>\n",
              "      <td>2650만</td>\n",
              "      <td>110억5288만</td>\n",
              "      <td>223개</td>\n",
              "    </tr>\n",
              "    <tr>\n",
              "      <th>4</th>\n",
              "      <td>SMTOWN</td>\n",
              "      <td>[음악/댄스/가수]</td>\n",
              "      <td>2450만</td>\n",
              "      <td>180억7532만</td>\n",
              "      <td>3,583개</td>\n",
              "    </tr>\n",
              "  </tbody>\n",
              "</table>\n",
              "</div>"
            ],
            "text/plain": [
              "                         title    category subscriber       view   video\n",
              "0                    BLACKPINK  [음악/댄스/가수]      5140만  128억5130만    319개\n",
              "1               Big Hit Labels  [음악/댄스/가수]      4550만  120억8966만    433개\n",
              "2                    BANGTANTV  [음악/댄스/가수]      3870만   54억7598만  1,319개\n",
              "3  Boram Tube Vlog [보람튜브 브이로그]    [키즈/어린이]      2650만  110억5288만    223개\n",
              "4                       SMTOWN  [음악/댄스/가수]      2450만  180억7532만  3,583개"
            ]
          },
          "metadata": {},
          "execution_count": 5
        }
      ]
    },
    {
      "cell_type": "code",
      "metadata": {
        "colab": {
          "base_uri": "https://localhost:8080/"
        },
        "id": "hJMZF3NmORno",
        "outputId": "25da6981-6c0a-43ca-afb0-5e04f5510e6f"
      },
      "source": [
        "df.dtypes"
      ],
      "execution_count": 6,
      "outputs": [
        {
          "output_type": "execute_result",
          "data": {
            "text/plain": [
              "title         object\n",
              "category      object\n",
              "subscriber    object\n",
              "view          object\n",
              "video         object\n",
              "dtype: object"
            ]
          },
          "metadata": {},
          "execution_count": 6
        }
      ]
    },
    {
      "cell_type": "code",
      "metadata": {
        "colab": {
          "base_uri": "https://localhost:8080/"
        },
        "id": "iUsWcA-bOoag",
        "outputId": "d9f958b0-a9fc-4a95-b3e2-951b12f3787a"
      },
      "source": [
        "df['subscriber'].dtype"
      ],
      "execution_count": 7,
      "outputs": [
        {
          "output_type": "execute_result",
          "data": {
            "text/plain": [
              "dtype('O')"
            ]
          },
          "metadata": {},
          "execution_count": 7
        }
      ]
    },
    {
      "cell_type": "code",
      "metadata": {
        "id": "qwgEbx1dQALS",
        "colab": {
          "base_uri": "https://localhost:8080/"
        },
        "outputId": "521f4d22-a453-4751-9b8a-b36741aa2c50"
      },
      "source": [
        "#1-14 df의 각 column 별 dtype을 확인합니다\n",
        "df.dtypes"
      ],
      "execution_count": 8,
      "outputs": [
        {
          "output_type": "execute_result",
          "data": {
            "text/plain": [
              "title         object\n",
              "category      object\n",
              "subscriber    object\n",
              "view          object\n",
              "video         object\n",
              "dtype: object"
            ]
          },
          "metadata": {},
          "execution_count": 8
        }
      ]
    },
    {
      "cell_type": "code",
      "metadata": {
        "colab": {
          "base_uri": "https://localhost:8080/"
        },
        "id": "ioNti0xzSLDX",
        "outputId": "dfed8a81-8c38-4d17-cd58-9352fa39643b"
      },
      "source": [
        "#1-15 df의 'subscriber'컬럼의 데이터타입을 확인해 본다\n",
        "df['subscriber'].dtype"
      ],
      "execution_count": 9,
      "outputs": [
        {
          "output_type": "execute_result",
          "data": {
            "text/plain": [
              "dtype('O')"
            ]
          },
          "metadata": {},
          "execution_count": 9
        }
      ]
    },
    {
      "cell_type": "code",
      "metadata": {
        "colab": {
          "base_uri": "https://localhost:8080/"
        },
        "id": "A81WKJrkShjK",
        "outputId": "f32a73a6-7a40-4493-fe4a-6c2fe1c030a0"
      },
      "source": [
        "#1-16 df의 'subscriber'의 첫3개행을 출력해 내용을 확인한다\n",
        "df['subscriber'].head(3)"
      ],
      "execution_count": 10,
      "outputs": [
        {
          "output_type": "execute_result",
          "data": {
            "text/plain": [
              "0    5140만\n",
              "1    4550만\n",
              "2    3870만\n",
              "Name: subscriber, dtype: object"
            ]
          },
          "metadata": {},
          "execution_count": 10
        }
      ]
    },
    {
      "cell_type": "markdown",
      "metadata": {
        "id": "XELcweaHTPbx"
      },
      "source": [
        "# 데이터 타입을 변격하는 방법\n",
        "- Series.astype(타입)\n",
        "\n",
        "- import numpy as np"
      ]
    },
    {
      "cell_type": "code",
      "metadata": {
        "id": "kXSesEuhSu2V"
      },
      "source": [
        "#1-17 df의 'subscriber'컬럼의 dtype을 int64으로 변경하여 보라\n",
        "#<오류 발생함> 한글,특수문자 드이 섞여 있으면 정수로 변경할수 없음."
      ],
      "execution_count": 11,
      "outputs": []
    },
    {
      "cell_type": "code",
      "metadata": {
        "colab": {
          "base_uri": "https://localhost:8080/"
        },
        "id": "rPlqSAADULYZ",
        "outputId": "beac3b1b-abad-43ee-a784-e2227336b058"
      },
      "source": [
        "#1-18 df의 'subscriber'컬럼에 대해 '만'을 '0000'으로 변경하는 코드를 작성\n",
        "df['subscriber'].replace('만','0000').head()"
      ],
      "execution_count": 12,
      "outputs": [
        {
          "output_type": "execute_result",
          "data": {
            "text/plain": [
              "0    5140만\n",
              "1    4550만\n",
              "2    3870만\n",
              "3    2650만\n",
              "4    2450만\n",
              "Name: subscriber, dtype: object"
            ]
          },
          "metadata": {},
          "execution_count": 12
        }
      ]
    },
    {
      "cell_type": "code",
      "metadata": {
        "colab": {
          "base_uri": "https://localhost:8080/"
        },
        "id": "g0UIdyDEUrbw",
        "outputId": "c31bf810-a808-40d6-fce0-5491473ecaf5"
      },
      "source": [
        "df['subscriber'].replace('만','0000',regex=True).head()"
      ],
      "execution_count": 13,
      "outputs": [
        {
          "output_type": "execute_result",
          "data": {
            "text/plain": [
              "0    51400000\n",
              "1    45500000\n",
              "2    38700000\n",
              "3    26500000\n",
              "4    24500000\n",
              "Name: subscriber, dtype: object"
            ]
          },
          "metadata": {},
          "execution_count": 13
        }
      ]
    },
    {
      "cell_type": "code",
      "metadata": {
        "colab": {
          "base_uri": "https://localhost:8080/"
        },
        "id": "0J10sS8hU74P",
        "outputId": "d893b173-e9d1-456a-84c9-6760605e3cac"
      },
      "source": [
        "#1-19 df의 'subscriber'컬럼에 대해 '만'을 '0000'으로 변경한뒤,astype('int64')를 사용하여 dtype을 변경하세요\n",
        "df['subscriber'].replace('만','0000',regex=True).astype('int64').head()"
      ],
      "execution_count": 14,
      "outputs": [
        {
          "output_type": "execute_result",
          "data": {
            "text/plain": [
              "0    51400000\n",
              "1    45500000\n",
              "2    38700000\n",
              "3    26500000\n",
              "4    24500000\n",
              "Name: subscriber, dtype: int64"
            ]
          },
          "metadata": {},
          "execution_count": 14
        }
      ]
    },
    {
      "cell_type": "code",
      "metadata": {
        "colab": {
          "base_uri": "https://localhost:8080/"
        },
        "id": "wGiE9TnxVLIO",
        "outputId": "05739e6a-c6f3-4277-d2e1-764f5fd10f72"
      },
      "source": [
        "#1-20 df의'view'컬럼에 대해 첫 5개 행을 조회합니다\n",
        "df['view'].head()"
      ],
      "execution_count": 15,
      "outputs": [
        {
          "output_type": "execute_result",
          "data": {
            "text/plain": [
              "0    128억5130만\n",
              "1    120억8966만\n",
              "2     54억7598만\n",
              "3    110억5288만\n",
              "4    180억7532만\n",
              "Name: view, dtype: object"
            ]
          },
          "metadata": {},
          "execution_count": 15
        }
      ]
    },
    {
      "cell_type": "code",
      "metadata": {
        "colab": {
          "base_uri": "https://localhost:8080/"
        },
        "id": "n6nbIVAGY9J8",
        "outputId": "658377d4-30d3-4a53-b464-000e3453e84c"
      },
      "source": [
        "#1-21 df의 'view'컬럼에 대해 '억'에 대해 삭제,'만'에 대해서는 '0000'로 변경하는 작업을 수행한뒤,처음 5개 데이터를 출력합니다.\n",
        "# 변경할 내용이 여러 개일 경우 두개의 list 또는 dict를 사용합니다\n",
        "df['view'].replace(['억','만'],['','0000'],regex=True).head()"
      ],
      "execution_count": 16,
      "outputs": [
        {
          "output_type": "execute_result",
          "data": {
            "text/plain": [
              "0    12851300000\n",
              "1    12089660000\n",
              "2     5475980000\n",
              "3    11052880000\n",
              "4    18075320000\n",
              "Name: view, dtype: object"
            ]
          },
          "metadata": {},
          "execution_count": 16
        }
      ]
    },
    {
      "cell_type": "code",
      "metadata": {
        "colab": {
          "base_uri": "https://localhost:8080/"
        },
        "id": "EyHbL34gZ0f2",
        "outputId": "2f86f30b-5a21-4029-c089-bd6b075cce1c"
      },
      "source": [
        "df['view'].replace({'억':'','만':'0000'},regex=True).head()"
      ],
      "execution_count": 17,
      "outputs": [
        {
          "output_type": "execute_result",
          "data": {
            "text/plain": [
              "0    12851300000\n",
              "1    12089660000\n",
              "2     5475980000\n",
              "3    11052880000\n",
              "4    18075320000\n",
              "Name: view, dtype: object"
            ]
          },
          "metadata": {},
          "execution_count": 17
        }
      ]
    },
    {
      "cell_type": "code",
      "metadata": {
        "id": "amphkeR6aHBz",
        "colab": {
          "base_uri": "https://localhost:8080/"
        },
        "outputId": "b4bb1b91-7e65-44fc-faec-0a4fabcc646e"
      },
      "source": [
        "#1-22 df의 'view'컬럼에 대해 '억'에 대해서 삭제,'만'에 대해서는 '0000'로 변경하는 작업을 수행한뒤,astype('int64')를 사용하여 데이터 타입을 정수로 변경하고 처음 5개 데이터를 출력합니다.\n",
        "df['view'].replace({'억':'', '만':'0000'}, regex=True).astype('int64').head()"
      ],
      "execution_count": 18,
      "outputs": [
        {
          "output_type": "execute_result",
          "data": {
            "text/plain": [
              "0    12851300000\n",
              "1    12089660000\n",
              "2     5475980000\n",
              "3    11052880000\n",
              "4    18075320000\n",
              "Name: view, dtype: int64"
            ]
          },
          "metadata": {},
          "execution_count": 18
        }
      ]
    },
    {
      "cell_type": "code",
      "metadata": {
        "colab": {
          "base_uri": "https://localhost:8080/"
        },
        "id": "NvoNg7OV_sfJ",
        "outputId": "db9c2da8-6a60-4aee-a491-3fed42275247"
      },
      "source": [
        "#1-23 df의 'video'컬럼의 첫5개 데이터를 확인합니다.\n",
        "df['video'].head()"
      ],
      "execution_count": 19,
      "outputs": [
        {
          "output_type": "execute_result",
          "data": {
            "text/plain": [
              "0      319개\n",
              "1      433개\n",
              "2    1,319개\n",
              "3      223개\n",
              "4    3,583개\n",
              "Name: video, dtype: object"
            ]
          },
          "metadata": {},
          "execution_count": 19
        }
      ]
    },
    {
      "cell_type": "code",
      "metadata": {
        "colab": {
          "base_uri": "https://localhost:8080/"
        },
        "id": "Yg9kTjkvAAt-",
        "outputId": "6c4c8f94-2e26-435d-b365-41e38505cbde"
      },
      "source": [
        "#1-24 df의 'video'컬럼에서 '개'와 ' , '을 제거하는 작업을 수행한뒤, 처음 5개 데이터를 출력합니다.\n",
        "# 콤마','는 의미가 있는 문자이므로 (\\)를 함께 사용합니다.\n",
        "# 메타문자 : , . + ? * ^ % ...등 메타문자의 기능을 없애기 위해 (\\)\n",
        "df['video'].replace(['\\,' , '개' ],' ',regex=True).head()"
      ],
      "execution_count": 20,
      "outputs": [
        {
          "output_type": "execute_result",
          "data": {
            "text/plain": [
              "0      319 \n",
              "1      433 \n",
              "2    1 319 \n",
              "3      223 \n",
              "4    3 583 \n",
              "Name: video, dtype: object"
            ]
          },
          "metadata": {},
          "execution_count": 20
        }
      ]
    },
    {
      "cell_type": "code",
      "metadata": {
        "colab": {
          "base_uri": "https://localhost:8080/"
        },
        "id": "Jg3UnS-gCXii",
        "outputId": "174e826b-0440-45e6-a1a6-6fbcd4c49b99"
      },
      "source": [
        "#1-25 df의 'video'컬럼에서 '개',' , '을 제거하고 ,astype(int64)를 사용하여 작업을 수행한뒤, 처음 5개 데이터를 출력합니다.\n",
        "df['video'].replace(['\\,','개'],'', regex=True).astype('int64').head()"
      ],
      "execution_count": 21,
      "outputs": [
        {
          "output_type": "execute_result",
          "data": {
            "text/plain": [
              "0     319\n",
              "1     433\n",
              "2    1319\n",
              "3     223\n",
              "4    3583\n",
              "Name: video, dtype: int64"
            ]
          },
          "metadata": {},
          "execution_count": 21
        }
      ]
    },
    {
      "cell_type": "markdown",
      "metadata": {
        "id": "-a_6QSnFIC8M"
      },
      "source": [
        "# 원래 데이터의 값별 개수 확인:\n",
        "- Series.value_conts():값 별 개수를 Series로 반환\n",
        "- 개수가 많은것 부터 내림차순 정렬되어 반환됨\n",
        "- 값이 index,개수가 value 로 사용됨\n",
        "\n",
        "## index 정렬\n",
        "- DataFrame/Series.sort_index(ascending=True)"
      ]
    },
    {
      "cell_type": "code",
      "metadata": {
        "colab": {
          "base_uri": "https://localhost:8080/"
        },
        "id": "T3LjeChIC-vZ",
        "outputId": "ed296bae-7976-4ca3-f0f5-16255937ba68"
      },
      "source": [
        "#1-26 df의 열중'category'컬럼에 대해 값 별 개수를 확인합니다\n",
        "df['category'].value_counts()"
      ],
      "execution_count": 22,
      "outputs": [
        {
          "output_type": "execute_result",
          "data": {
            "text/plain": [
              "[음악/댄스/가수]     175\n",
              "[TV/방송]        161\n",
              "[게임]           101\n",
              "[키즈/어린이]        95\n",
              "[음식/요리/레시피]     88\n",
              "[BJ/인물/연예인]     68\n",
              "[패션/미용]         57\n",
              "[뉴스/정치/사회]      56\n",
              "[취미/라이프]        40\n",
              "[미분류]           40\n",
              "[영화/만화/애니]      33\n",
              "[교육/강의]         23\n",
              "[애완/반려동물]       20\n",
              "[스포츠/운동]        12\n",
              "[IT/기술/컴퓨터]      8\n",
              "[해외]             6\n",
              "[국내/해외/여행]       5\n",
              "[주식/경제/부동산]      5\n",
              "[회사/오피셜]         4\n",
              "[자동차]            2\n",
              "[취미]             1\n",
              "Name: category, dtype: int64"
            ]
          },
          "metadata": {},
          "execution_count": 22
        }
      ]
    },
    {
      "cell_type": "code",
      "metadata": {
        "colab": {
          "base_uri": "https://localhost:8080/"
        },
        "id": "FFvTQq3fJOTo",
        "outputId": "6b19576e-7e2b-4ddf-91ee-511705248dd3"
      },
      "source": [
        "#1-27 df의 'category'에 대해 첫 글자와 마지막글자인'[',']'을 제거 합니다.\n",
        "# replace를 사용하여 제거할수 있지만, Accessor 중 str을 사용하여 보도록 합니다.\n",
        "df['category'].replace({'\\[':'','\\]':''},regex=True).head() \n",
        "\n",
        "#첫글자,마지막글자가 아니라도 제거함"
      ],
      "execution_count": 23,
      "outputs": [
        {
          "output_type": "execute_result",
          "data": {
            "text/plain": [
              "0    음악/댄스/가수\n",
              "1    음악/댄스/가수\n",
              "2    음악/댄스/가수\n",
              "3      키즈/어린이\n",
              "4    음악/댄스/가수\n",
              "Name: category, dtype: object"
            ]
          },
          "metadata": {},
          "execution_count": 23
        }
      ]
    },
    {
      "cell_type": "code",
      "metadata": {
        "colab": {
          "base_uri": "https://localhost:8080/"
        },
        "id": "J0VG_WvhKKYd",
        "outputId": "92a1f33d-3bca-4bc2-f380-81d1bddc22fa"
      },
      "source": [
        "temp = df['category'].replace({'\\[':'','\\]':''},regex=True)\n",
        "temp"
      ],
      "execution_count": 24,
      "outputs": [
        {
          "output_type": "execute_result",
          "data": {
            "text/plain": [
              "0      음악/댄스/가수\n",
              "1      음악/댄스/가수\n",
              "2      음악/댄스/가수\n",
              "3        키즈/어린이\n",
              "4      음악/댄스/가수\n",
              "         ...   \n",
              "995         미분류\n",
              "996      취미/라이프\n",
              "997       TV/방송\n",
              "998         미분류\n",
              "999       TV/방송\n",
              "Name: category, Length: 1000, dtype: object"
            ]
          },
          "metadata": {},
          "execution_count": 24
        }
      ]
    },
    {
      "cell_type": "code",
      "metadata": {
        "colab": {
          "base_uri": "https://localhost:8080/"
        },
        "id": "5JQOWqGMLOAX",
        "outputId": "27ecf79b-154f-4331-9987-cc6daadce3a6"
      },
      "source": [
        "temp.value_counts()"
      ],
      "execution_count": 25,
      "outputs": [
        {
          "output_type": "execute_result",
          "data": {
            "text/plain": [
              "음악/댄스/가수     175\n",
              "TV/방송        161\n",
              "게임           101\n",
              "키즈/어린이        95\n",
              "음식/요리/레시피     88\n",
              "BJ/인물/연예인     68\n",
              "패션/미용         57\n",
              "뉴스/정치/사회      56\n",
              "미분류           40\n",
              "취미/라이프        40\n",
              "영화/만화/애니      33\n",
              "교육/강의         23\n",
              "애완/반려동물       20\n",
              "스포츠/운동        12\n",
              "IT/기술/컴퓨터      8\n",
              "해외             6\n",
              "국내/해외/여행       5\n",
              "주식/경제/부동산      5\n",
              "회사/오피셜         4\n",
              "자동차            2\n",
              "취미             1\n",
              "Name: category, dtype: int64"
            ]
          },
          "metadata": {},
          "execution_count": 25
        }
      ]
    },
    {
      "cell_type": "code",
      "metadata": {
        "colab": {
          "base_uri": "https://localhost:8080/"
        },
        "id": "OIGiNWHJLSep",
        "outputId": "9279ffbc-7949-42b4-e967-56a5cdaf4f67"
      },
      "source": [
        "#1-28 df의 'category'에 대해 '[' ,']'을 제거하고 ,astype('category')를 사용하여 category타입으로 변경합니다.\n",
        "df['category'].replace(['\\[','\\]'],' ', regex=True).astype('category')"
      ],
      "execution_count": 26,
      "outputs": [
        {
          "output_type": "execute_result",
          "data": {
            "text/plain": [
              "0       음악/댄스/가수 \n",
              "1       음악/댄스/가수 \n",
              "2       음악/댄스/가수 \n",
              "3         키즈/어린이 \n",
              "4       음악/댄스/가수 \n",
              "          ...    \n",
              "995          미분류 \n",
              "996       취미/라이프 \n",
              "997        TV/방송 \n",
              "998          미분류 \n",
              "999        TV/방송 \n",
              "Name: category, Length: 1000, dtype: category\n",
              "Categories (21, object): [' BJ/인물/연예인 ', ' IT/기술/컴퓨터 ', ' TV/방송 ', ' 게임 ', ..., ' 키즈/어린이 ', ' 패션/미용 ',\n",
              "                          ' 해외 ', ' 회사/오피셜 ']"
            ]
          },
          "metadata": {},
          "execution_count": 26
        }
      ]
    },
    {
      "cell_type": "code",
      "metadata": {
        "colab": {
          "base_uri": "https://localhost:8080/"
        },
        "id": "EuNdYIZrhxUI",
        "outputId": "9fd26883-fff0-4334-da26-102ca2f129e6"
      },
      "source": [
        "df['category'].str[1:-1].astype('category')"
      ],
      "execution_count": 27,
      "outputs": [
        {
          "output_type": "execute_result",
          "data": {
            "text/plain": [
              "0      음악/댄스/가수\n",
              "1      음악/댄스/가수\n",
              "2      음악/댄스/가수\n",
              "3        키즈/어린이\n",
              "4      음악/댄스/가수\n",
              "         ...   \n",
              "995         미분류\n",
              "996      취미/라이프\n",
              "997       TV/방송\n",
              "998         미분류\n",
              "999       TV/방송\n",
              "Name: category, Length: 1000, dtype: category\n",
              "Categories (21, object): ['BJ/인물/연예인', 'IT/기술/컴퓨터', 'TV/방송', '게임', ..., '키즈/어린이', '패션/미용', '해외', '회사/오피셜']"
            ]
          },
          "metadata": {},
          "execution_count": 27
        }
      ]
    },
    {
      "cell_type": "code",
      "metadata": {
        "id": "D8BtNrq-iT6R"
      },
      "source": [
        "# str: 문자열에 대해서만 Accessor 할수 있다.\n",
        "# 차이점: str[1:-1] 제일 처음문자와 제일 마지막 문자를 제거\n",
        "# \\[ ,\\] 은 [] 같은 문자를 찾아서 제거"
      ],
      "execution_count": 28,
      "outputs": []
    },
    {
      "cell_type": "code",
      "metadata": {
        "colab": {
          "base_uri": "https://localhost:8080/"
        },
        "id": "TgvtYXENizq6",
        "outputId": "3be9afe1-6564-4085-fbae-1579346d24cd"
      },
      "source": [
        "df.info()"
      ],
      "execution_count": 29,
      "outputs": [
        {
          "output_type": "stream",
          "name": "stdout",
          "text": [
            "<class 'pandas.core.frame.DataFrame'>\n",
            "RangeIndex: 1000 entries, 0 to 999\n",
            "Data columns (total 5 columns):\n",
            " #   Column      Non-Null Count  Dtype \n",
            "---  ------      --------------  ----- \n",
            " 0   title       1000 non-null   object\n",
            " 1   category    1000 non-null   object\n",
            " 2   subscriber  1000 non-null   object\n",
            " 3   view        1000 non-null   object\n",
            " 4   video       1000 non-null   object\n",
            "dtypes: object(5)\n",
            "memory usage: 39.2+ KB\n"
          ]
        }
      ]
    },
    {
      "cell_type": "code",
      "metadata": {
        "id": "UswLZCwDjtCq"
      },
      "source": [
        "#1-29 replace 및 Accessor-str 을 사용한 작업을 요약 해 봅니다\n",
        "df['subscriber'] = df['subscriber'].replace('만','0000',regex=True).astype('int64')\n",
        "df['video'] = df['video'].replace(['개','\\,'],'',regex=True).astype('int64')\n",
        "df['view'] = df['view'].replace({'억':'', '만':'0000'}, regex=True).astype('int64')\n",
        "df['category'] = df['category'].str[1:-1].astype('category')"
      ],
      "execution_count": 30,
      "outputs": []
    },
    {
      "cell_type": "code",
      "metadata": {
        "colab": {
          "base_uri": "https://localhost:8080/",
          "height": 419
        },
        "id": "g1zJHhKXksLj",
        "outputId": "c3fb9f9f-985f-48da-b7b0-1290c28cbddb"
      },
      "source": [
        "df"
      ],
      "execution_count": 31,
      "outputs": [
        {
          "output_type": "execute_result",
          "data": {
            "text/html": [
              "<div>\n",
              "<style scoped>\n",
              "    .dataframe tbody tr th:only-of-type {\n",
              "        vertical-align: middle;\n",
              "    }\n",
              "\n",
              "    .dataframe tbody tr th {\n",
              "        vertical-align: top;\n",
              "    }\n",
              "\n",
              "    .dataframe thead th {\n",
              "        text-align: right;\n",
              "    }\n",
              "</style>\n",
              "<table border=\"1\" class=\"dataframe\">\n",
              "  <thead>\n",
              "    <tr style=\"text-align: right;\">\n",
              "      <th></th>\n",
              "      <th>title</th>\n",
              "      <th>category</th>\n",
              "      <th>subscriber</th>\n",
              "      <th>view</th>\n",
              "      <th>video</th>\n",
              "    </tr>\n",
              "  </thead>\n",
              "  <tbody>\n",
              "    <tr>\n",
              "      <th>0</th>\n",
              "      <td>BLACKPINK</td>\n",
              "      <td>음악/댄스/가수</td>\n",
              "      <td>51400000</td>\n",
              "      <td>12851300000</td>\n",
              "      <td>319</td>\n",
              "    </tr>\n",
              "    <tr>\n",
              "      <th>1</th>\n",
              "      <td>Big Hit Labels</td>\n",
              "      <td>음악/댄스/가수</td>\n",
              "      <td>45500000</td>\n",
              "      <td>12089660000</td>\n",
              "      <td>433</td>\n",
              "    </tr>\n",
              "    <tr>\n",
              "      <th>2</th>\n",
              "      <td>BANGTANTV</td>\n",
              "      <td>음악/댄스/가수</td>\n",
              "      <td>38700000</td>\n",
              "      <td>5475980000</td>\n",
              "      <td>1319</td>\n",
              "    </tr>\n",
              "    <tr>\n",
              "      <th>3</th>\n",
              "      <td>Boram Tube Vlog [보람튜브 브이로그]</td>\n",
              "      <td>키즈/어린이</td>\n",
              "      <td>26500000</td>\n",
              "      <td>11052880000</td>\n",
              "      <td>223</td>\n",
              "    </tr>\n",
              "    <tr>\n",
              "      <th>4</th>\n",
              "      <td>SMTOWN</td>\n",
              "      <td>음악/댄스/가수</td>\n",
              "      <td>24500000</td>\n",
              "      <td>18075320000</td>\n",
              "      <td>3583</td>\n",
              "    </tr>\n",
              "    <tr>\n",
              "      <th>...</th>\n",
              "      <td>...</td>\n",
              "      <td>...</td>\n",
              "      <td>...</td>\n",
              "      <td>...</td>\n",
              "      <td>...</td>\n",
              "    </tr>\n",
              "    <tr>\n",
              "      <th>995</th>\n",
              "      <td>Ranking World</td>\n",
              "      <td>미분류</td>\n",
              "      <td>400000</td>\n",
              "      <td>127520000</td>\n",
              "      <td>503</td>\n",
              "    </tr>\n",
              "    <tr>\n",
              "      <th>996</th>\n",
              "      <td>급식걸즈</td>\n",
              "      <td>취미/라이프</td>\n",
              "      <td>400000</td>\n",
              "      <td>239010000</td>\n",
              "      <td>226</td>\n",
              "    </tr>\n",
              "    <tr>\n",
              "      <th>997</th>\n",
              "      <td>OCN</td>\n",
              "      <td>TV/방송</td>\n",
              "      <td>400000</td>\n",
              "      <td>345830000</td>\n",
              "      <td>10071</td>\n",
              "    </tr>\n",
              "    <tr>\n",
              "      <th>998</th>\n",
              "      <td>Bravo jamoasi</td>\n",
              "      <td>미분류</td>\n",
              "      <td>400000</td>\n",
              "      <td>61930000</td>\n",
              "      <td>25</td>\n",
              "    </tr>\n",
              "    <tr>\n",
              "      <th>999</th>\n",
              "      <td>덕출 : DCTVGO</td>\n",
              "      <td>TV/방송</td>\n",
              "      <td>400000</td>\n",
              "      <td>82490000</td>\n",
              "      <td>202</td>\n",
              "    </tr>\n",
              "  </tbody>\n",
              "</table>\n",
              "<p>1000 rows × 5 columns</p>\n",
              "</div>"
            ],
            "text/plain": [
              "                           title  category  subscriber         view  video\n",
              "0                      BLACKPINK  음악/댄스/가수    51400000  12851300000    319\n",
              "1                 Big Hit Labels  음악/댄스/가수    45500000  12089660000    433\n",
              "2                      BANGTANTV  음악/댄스/가수    38700000   5475980000   1319\n",
              "3    Boram Tube Vlog [보람튜브 브이로그]    키즈/어린이    26500000  11052880000    223\n",
              "4                         SMTOWN  음악/댄스/가수    24500000  18075320000   3583\n",
              "..                           ...       ...         ...          ...    ...\n",
              "995                Ranking World       미분류      400000    127520000    503\n",
              "996                         급식걸즈    취미/라이프      400000    239010000    226\n",
              "997                          OCN     TV/방송      400000    345830000  10071\n",
              "998                Bravo jamoasi       미분류      400000     61930000     25\n",
              "999                  덕출 : DCTVGO     TV/방송      400000     82490000    202\n",
              "\n",
              "[1000 rows x 5 columns]"
            ]
          },
          "metadata": {},
          "execution_count": 31
        }
      ]
    },
    {
      "cell_type": "code",
      "metadata": {
        "colab": {
          "base_uri": "https://localhost:8080/"
        },
        "id": "M7QWr2I4k3LQ",
        "outputId": "4479ba81-cb47-4b96-e8e5-48dea42f2eea"
      },
      "source": [
        "df.info()"
      ],
      "execution_count": 32,
      "outputs": [
        {
          "output_type": "stream",
          "name": "stdout",
          "text": [
            "<class 'pandas.core.frame.DataFrame'>\n",
            "RangeIndex: 1000 entries, 0 to 999\n",
            "Data columns (total 5 columns):\n",
            " #   Column      Non-Null Count  Dtype   \n",
            "---  ------      --------------  -----   \n",
            " 0   title       1000 non-null   object  \n",
            " 1   category    1000 non-null   category\n",
            " 2   subscriber  1000 non-null   int64   \n",
            " 3   view        1000 non-null   int64   \n",
            " 4   video       1000 non-null   int64   \n",
            "dtypes: category(1), int64(3), object(1)\n",
            "memory usage: 33.1+ KB\n"
          ]
        }
      ]
    },
    {
      "cell_type": "markdown",
      "metadata": {
        "id": "C5KvG3zThP2E"
      },
      "source": [
        "# 데이터 정렬하기\n",
        "- DataFrame.sort_values(컬럼명, ascending=True)\n",
        "- DataFrame.sort_values([컴럼명1,컬럼명2,...], ascending=True[...])\n",
        "\n",
        "- 오름차순이 기본이며 ,ascending=False를 사용하여 내림차순을 지정\n",
        "- 1차 기준, 2차 기준 등 여러 개 기준이 존재하는 경우\n",
        "  - 1차 기준 정렬된 후, 1차 기준이 같은것 내부에서 2차 기준으로 정렬됨\n",
        "  - 정렬방식은 각 기준별로 부여하거나 ,1개만 부여할수 있음\n"
      ]
    },
    {
      "cell_type": "code",
      "metadata": {
        "colab": {
          "base_uri": "https://localhost:8080/",
          "height": 204
        },
        "id": "4BPTasYKhOFb",
        "outputId": "76c48e2b-7c94-423c-ed40-7a9d7870dd04"
      },
      "source": [
        "#1-31 'subscriber'가 가장 많은 5개의 채널을 알아봅니다.\n",
        "df.sort_values('subscriber',ascending=False).head()"
      ],
      "execution_count": 33,
      "outputs": [
        {
          "output_type": "execute_result",
          "data": {
            "text/html": [
              "<div>\n",
              "<style scoped>\n",
              "    .dataframe tbody tr th:only-of-type {\n",
              "        vertical-align: middle;\n",
              "    }\n",
              "\n",
              "    .dataframe tbody tr th {\n",
              "        vertical-align: top;\n",
              "    }\n",
              "\n",
              "    .dataframe thead th {\n",
              "        text-align: right;\n",
              "    }\n",
              "</style>\n",
              "<table border=\"1\" class=\"dataframe\">\n",
              "  <thead>\n",
              "    <tr style=\"text-align: right;\">\n",
              "      <th></th>\n",
              "      <th>title</th>\n",
              "      <th>category</th>\n",
              "      <th>subscriber</th>\n",
              "      <th>view</th>\n",
              "      <th>video</th>\n",
              "    </tr>\n",
              "  </thead>\n",
              "  <tbody>\n",
              "    <tr>\n",
              "      <th>0</th>\n",
              "      <td>BLACKPINK</td>\n",
              "      <td>음악/댄스/가수</td>\n",
              "      <td>51400000</td>\n",
              "      <td>12851300000</td>\n",
              "      <td>319</td>\n",
              "    </tr>\n",
              "    <tr>\n",
              "      <th>1</th>\n",
              "      <td>Big Hit Labels</td>\n",
              "      <td>음악/댄스/가수</td>\n",
              "      <td>45500000</td>\n",
              "      <td>12089660000</td>\n",
              "      <td>433</td>\n",
              "    </tr>\n",
              "    <tr>\n",
              "      <th>2</th>\n",
              "      <td>BANGTANTV</td>\n",
              "      <td>음악/댄스/가수</td>\n",
              "      <td>38700000</td>\n",
              "      <td>5475980000</td>\n",
              "      <td>1319</td>\n",
              "    </tr>\n",
              "    <tr>\n",
              "      <th>3</th>\n",
              "      <td>Boram Tube Vlog [보람튜브 브이로그]</td>\n",
              "      <td>키즈/어린이</td>\n",
              "      <td>26500000</td>\n",
              "      <td>11052880000</td>\n",
              "      <td>223</td>\n",
              "    </tr>\n",
              "    <tr>\n",
              "      <th>4</th>\n",
              "      <td>SMTOWN</td>\n",
              "      <td>음악/댄스/가수</td>\n",
              "      <td>24500000</td>\n",
              "      <td>18075320000</td>\n",
              "      <td>3583</td>\n",
              "    </tr>\n",
              "  </tbody>\n",
              "</table>\n",
              "</div>"
            ],
            "text/plain": [
              "                         title  category  subscriber         view  video\n",
              "0                    BLACKPINK  음악/댄스/가수    51400000  12851300000    319\n",
              "1               Big Hit Labels  음악/댄스/가수    45500000  12089660000    433\n",
              "2                    BANGTANTV  음악/댄스/가수    38700000   5475980000   1319\n",
              "3  Boram Tube Vlog [보람튜브 브이로그]    키즈/어린이    26500000  11052880000    223\n",
              "4                       SMTOWN  음악/댄스/가수    24500000  18075320000   3583"
            ]
          },
          "metadata": {},
          "execution_count": 33
        }
      ]
    },
    {
      "cell_type": "code",
      "metadata": {
        "colab": {
          "base_uri": "https://localhost:8080/",
          "height": 204
        },
        "id": "-_sH3m5Vim50",
        "outputId": "6443319c-7af9-43c6-9b1d-ae9d6c61ad53"
      },
      "source": [
        "#1-32 'view'가 가장 많은 5개 채널을 알아봅니다.\n",
        "df.sort_values('view',ascending=False).head()"
      ],
      "execution_count": 34,
      "outputs": [
        {
          "output_type": "execute_result",
          "data": {
            "text/html": [
              "<div>\n",
              "<style scoped>\n",
              "    .dataframe tbody tr th:only-of-type {\n",
              "        vertical-align: middle;\n",
              "    }\n",
              "\n",
              "    .dataframe tbody tr th {\n",
              "        vertical-align: top;\n",
              "    }\n",
              "\n",
              "    .dataframe thead th {\n",
              "        text-align: right;\n",
              "    }\n",
              "</style>\n",
              "<table border=\"1\" class=\"dataframe\">\n",
              "  <thead>\n",
              "    <tr style=\"text-align: right;\">\n",
              "      <th></th>\n",
              "      <th>title</th>\n",
              "      <th>category</th>\n",
              "      <th>subscriber</th>\n",
              "      <th>view</th>\n",
              "      <th>video</th>\n",
              "    </tr>\n",
              "  </thead>\n",
              "  <tbody>\n",
              "    <tr>\n",
              "      <th>4</th>\n",
              "      <td>SMTOWN</td>\n",
              "      <td>음악/댄스/가수</td>\n",
              "      <td>24500000</td>\n",
              "      <td>18075320000</td>\n",
              "      <td>3583</td>\n",
              "    </tr>\n",
              "    <tr>\n",
              "      <th>6</th>\n",
              "      <td>1theK (원더케이)</td>\n",
              "      <td>음악/댄스/가수</td>\n",
              "      <td>20900000</td>\n",
              "      <td>17860420000</td>\n",
              "      <td>13291</td>\n",
              "    </tr>\n",
              "    <tr>\n",
              "      <th>8</th>\n",
              "      <td>ArianaGrandeVevo</td>\n",
              "      <td>음악/댄스/가수</td>\n",
              "      <td>18200000</td>\n",
              "      <td>14796920000</td>\n",
              "      <td>112</td>\n",
              "    </tr>\n",
              "    <tr>\n",
              "      <th>0</th>\n",
              "      <td>BLACKPINK</td>\n",
              "      <td>음악/댄스/가수</td>\n",
              "      <td>51400000</td>\n",
              "      <td>12851300000</td>\n",
              "      <td>319</td>\n",
              "    </tr>\n",
              "    <tr>\n",
              "      <th>1</th>\n",
              "      <td>Big Hit Labels</td>\n",
              "      <td>음악/댄스/가수</td>\n",
              "      <td>45500000</td>\n",
              "      <td>12089660000</td>\n",
              "      <td>433</td>\n",
              "    </tr>\n",
              "  </tbody>\n",
              "</table>\n",
              "</div>"
            ],
            "text/plain": [
              "              title  category  subscriber         view  video\n",
              "4            SMTOWN  음악/댄스/가수    24500000  18075320000   3583\n",
              "6      1theK (원더케이)  음악/댄스/가수    20900000  17860420000  13291\n",
              "8  ArianaGrandeVevo  음악/댄스/가수    18200000  14796920000    112\n",
              "0         BLACKPINK  음악/댄스/가수    51400000  12851300000    319\n",
              "1    Big Hit Labels  음악/댄스/가수    45500000  12089660000    433"
            ]
          },
          "metadata": {},
          "execution_count": 34
        }
      ]
    },
    {
      "cell_type": "code",
      "metadata": {
        "colab": {
          "base_uri": "https://localhost:8080/",
          "height": 204
        },
        "id": "yYdX4P8Ai1lU",
        "outputId": "98debc01-d91f-4c22-9e1e-05400dfe9c2b"
      },
      "source": [
        "#1-33 'video'가 가장 많은 5개 채널을 알아봅니다.\n",
        "df.sort_values('video',ascending=False).head()"
      ],
      "execution_count": 35,
      "outputs": [
        {
          "output_type": "execute_result",
          "data": {
            "text/html": [
              "<div>\n",
              "<style scoped>\n",
              "    .dataframe tbody tr th:only-of-type {\n",
              "        vertical-align: middle;\n",
              "    }\n",
              "\n",
              "    .dataframe tbody tr th {\n",
              "        vertical-align: top;\n",
              "    }\n",
              "\n",
              "    .dataframe thead th {\n",
              "        text-align: right;\n",
              "    }\n",
              "</style>\n",
              "<table border=\"1\" class=\"dataframe\">\n",
              "  <thead>\n",
              "    <tr style=\"text-align: right;\">\n",
              "      <th></th>\n",
              "      <th>title</th>\n",
              "      <th>category</th>\n",
              "      <th>subscriber</th>\n",
              "      <th>view</th>\n",
              "      <th>video</th>\n",
              "    </tr>\n",
              "  </thead>\n",
              "  <tbody>\n",
              "    <tr>\n",
              "      <th>169</th>\n",
              "      <td>YTN news</td>\n",
              "      <td>뉴스/정치/사회</td>\n",
              "      <td>1970000</td>\n",
              "      <td>3801710000</td>\n",
              "      <td>492791</td>\n",
              "    </tr>\n",
              "    <tr>\n",
              "      <th>60</th>\n",
              "      <td>SBS Drama</td>\n",
              "      <td>TV/방송</td>\n",
              "      <td>4360000</td>\n",
              "      <td>4260860000</td>\n",
              "      <td>339029</td>\n",
              "    </tr>\n",
              "    <tr>\n",
              "      <th>737</th>\n",
              "      <td>연합뉴스TV</td>\n",
              "      <td>뉴스/정치/사회</td>\n",
              "      <td>550000</td>\n",
              "      <td>697650000</td>\n",
              "      <td>311370</td>\n",
              "    </tr>\n",
              "    <tr>\n",
              "      <th>57</th>\n",
              "      <td>SBS Entertainment</td>\n",
              "      <td>TV/방송</td>\n",
              "      <td>4490000</td>\n",
              "      <td>4516190000</td>\n",
              "      <td>210810</td>\n",
              "    </tr>\n",
              "    <tr>\n",
              "      <th>17</th>\n",
              "      <td>CNN</td>\n",
              "      <td>뉴스/정치/사회</td>\n",
              "      <td>10900000</td>\n",
              "      <td>7899750000</td>\n",
              "      <td>149530</td>\n",
              "    </tr>\n",
              "  </tbody>\n",
              "</table>\n",
              "</div>"
            ],
            "text/plain": [
              "                 title  category  subscriber        view   video\n",
              "169           YTN news  뉴스/정치/사회     1970000  3801710000  492791\n",
              "60           SBS Drama     TV/방송     4360000  4260860000  339029\n",
              "737             연합뉴스TV  뉴스/정치/사회      550000   697650000  311370\n",
              "57   SBS Entertainment     TV/방송     4490000  4516190000  210810\n",
              "17                 CNN  뉴스/정치/사회    10900000  7899750000  149530"
            ]
          },
          "metadata": {},
          "execution_count": 35
        }
      ]
    },
    {
      "cell_type": "code",
      "metadata": {
        "colab": {
          "base_uri": "https://localhost:8080/",
          "height": 204
        },
        "id": "dV55QKdYi9g9",
        "outputId": "915cecee-677d-4bb9-bb90-0ada957f116d"
      },
      "source": [
        "#1-34 'video'가 가장 적은 5개 채널은 ?\n",
        "df.sort_values('video').head()"
      ],
      "execution_count": 36,
      "outputs": [
        {
          "output_type": "execute_result",
          "data": {
            "text/html": [
              "<div>\n",
              "<style scoped>\n",
              "    .dataframe tbody tr th:only-of-type {\n",
              "        vertical-align: middle;\n",
              "    }\n",
              "\n",
              "    .dataframe tbody tr th {\n",
              "        vertical-align: top;\n",
              "    }\n",
              "\n",
              "    .dataframe thead th {\n",
              "        text-align: right;\n",
              "    }\n",
              "</style>\n",
              "<table border=\"1\" class=\"dataframe\">\n",
              "  <thead>\n",
              "    <tr style=\"text-align: right;\">\n",
              "      <th></th>\n",
              "      <th>title</th>\n",
              "      <th>category</th>\n",
              "      <th>subscriber</th>\n",
              "      <th>view</th>\n",
              "      <th>video</th>\n",
              "    </tr>\n",
              "  </thead>\n",
              "  <tbody>\n",
              "    <tr>\n",
              "      <th>194</th>\n",
              "      <td>OfficialGDRAGON</td>\n",
              "      <td>음악/댄스/가수</td>\n",
              "      <td>1750000</td>\n",
              "      <td>0</td>\n",
              "      <td>0</td>\n",
              "    </tr>\n",
              "    <tr>\n",
              "      <th>128</th>\n",
              "      <td>tzuyang쯔양</td>\n",
              "      <td>음식/요리/레시피</td>\n",
              "      <td>2570000</td>\n",
              "      <td>2570000</td>\n",
              "      <td>1</td>\n",
              "    </tr>\n",
              "    <tr>\n",
              "      <th>964</th>\n",
              "      <td>fx</td>\n",
              "      <td>음악/댄스/가수</td>\n",
              "      <td>410000</td>\n",
              "      <td>380000</td>\n",
              "      <td>3</td>\n",
              "    </tr>\n",
              "    <tr>\n",
              "      <th>454</th>\n",
              "      <td>CL</td>\n",
              "      <td>음악/댄스/가수</td>\n",
              "      <td>840000</td>\n",
              "      <td>52470000</td>\n",
              "      <td>5</td>\n",
              "    </tr>\n",
              "    <tr>\n",
              "      <th>742</th>\n",
              "      <td>Trouble Maker (Official YouTube Channel)</td>\n",
              "      <td>음악/댄스/가수</td>\n",
              "      <td>540000</td>\n",
              "      <td>173840000</td>\n",
              "      <td>9</td>\n",
              "    </tr>\n",
              "  </tbody>\n",
              "</table>\n",
              "</div>"
            ],
            "text/plain": [
              "                                        title   category  ...       view  video\n",
              "194                           OfficialGDRAGON   음악/댄스/가수  ...          0      0\n",
              "128                                 tzuyang쯔양  음식/요리/레시피  ...    2570000      1\n",
              "964                                        fx   음악/댄스/가수  ...     380000      3\n",
              "454                                        CL   음악/댄스/가수  ...   52470000      5\n",
              "742  Trouble Maker (Official YouTube Channel)   음악/댄스/가수  ...  173840000      9\n",
              "\n",
              "[5 rows x 5 columns]"
            ]
          },
          "metadata": {},
          "execution_count": 36
        }
      ]
    },
    {
      "cell_type": "code",
      "metadata": {
        "colab": {
          "base_uri": "https://localhost:8080/",
          "height": 419
        },
        "id": "bXykiQB7jEDw",
        "outputId": "3f81e3e7-7173-4cb6-fc8f-d112f12fa146"
      },
      "source": [
        "#1-35 'category'로 오름차순, 'subscriber'로 내림차순 정렬해 봅니다.\n",
        "df.sort_values(['category','subscriber'],ascending=[True,False])"
      ],
      "execution_count": 37,
      "outputs": [
        {
          "output_type": "execute_result",
          "data": {
            "text/html": [
              "<div>\n",
              "<style scoped>\n",
              "    .dataframe tbody tr th:only-of-type {\n",
              "        vertical-align: middle;\n",
              "    }\n",
              "\n",
              "    .dataframe tbody tr th {\n",
              "        vertical-align: top;\n",
              "    }\n",
              "\n",
              "    .dataframe thead th {\n",
              "        text-align: right;\n",
              "    }\n",
              "</style>\n",
              "<table border=\"1\" class=\"dataframe\">\n",
              "  <thead>\n",
              "    <tr style=\"text-align: right;\">\n",
              "      <th></th>\n",
              "      <th>title</th>\n",
              "      <th>category</th>\n",
              "      <th>subscriber</th>\n",
              "      <th>view</th>\n",
              "      <th>video</th>\n",
              "    </tr>\n",
              "  </thead>\n",
              "  <tbody>\n",
              "    <tr>\n",
              "      <th>52</th>\n",
              "      <td>[Awesome Haeun]어썸하은</td>\n",
              "      <td>BJ/인물/연예인</td>\n",
              "      <td>4840000</td>\n",
              "      <td>703070000</td>\n",
              "      <td>419</td>\n",
              "    </tr>\n",
              "    <tr>\n",
              "      <th>75</th>\n",
              "      <td>영국남자 Korean Englishman</td>\n",
              "      <td>BJ/인물/연예인</td>\n",
              "      <td>3940000</td>\n",
              "      <td>1160110000</td>\n",
              "      <td>411</td>\n",
              "    </tr>\n",
              "    <tr>\n",
              "      <th>79</th>\n",
              "      <td>워크맨-Workman</td>\n",
              "      <td>BJ/인물/연예인</td>\n",
              "      <td>3810000</td>\n",
              "      <td>469330000</td>\n",
              "      <td>76</td>\n",
              "    </tr>\n",
              "    <tr>\n",
              "      <th>82</th>\n",
              "      <td>waveya 2011</td>\n",
              "      <td>BJ/인물/연예인</td>\n",
              "      <td>3720000</td>\n",
              "      <td>1299280000</td>\n",
              "      <td>647</td>\n",
              "    </tr>\n",
              "    <tr>\n",
              "      <th>84</th>\n",
              "      <td>허팝Heopop</td>\n",
              "      <td>BJ/인물/연예인</td>\n",
              "      <td>3710000</td>\n",
              "      <td>2748310000</td>\n",
              "      <td>1685</td>\n",
              "    </tr>\n",
              "    <tr>\n",
              "      <th>...</th>\n",
              "      <td>...</td>\n",
              "      <td>...</td>\n",
              "      <td>...</td>\n",
              "      <td>...</td>\n",
              "      <td>...</td>\n",
              "    </tr>\n",
              "    <tr>\n",
              "      <th>671</th>\n",
              "      <td>AshleyMariee</td>\n",
              "      <td>해외</td>\n",
              "      <td>590000</td>\n",
              "      <td>55950000</td>\n",
              "      <td>2033</td>\n",
              "    </tr>\n",
              "    <tr>\n",
              "      <th>53</th>\n",
              "      <td>Samsung</td>\n",
              "      <td>회사/오피셜</td>\n",
              "      <td>4780000</td>\n",
              "      <td>585350000</td>\n",
              "      <td>1135</td>\n",
              "    </tr>\n",
              "    <tr>\n",
              "      <th>108</th>\n",
              "      <td>Billboard</td>\n",
              "      <td>회사/오피셜</td>\n",
              "      <td>2900000</td>\n",
              "      <td>1010800000</td>\n",
              "      <td>6100</td>\n",
              "    </tr>\n",
              "    <tr>\n",
              "      <th>709</th>\n",
              "      <td>미스&amp;미스터트롯 공식계정</td>\n",
              "      <td>회사/오피셜</td>\n",
              "      <td>570000</td>\n",
              "      <td>202340000</td>\n",
              "      <td>659</td>\n",
              "    </tr>\n",
              "    <tr>\n",
              "      <th>722</th>\n",
              "      <td>KB국민카드</td>\n",
              "      <td>회사/오피셜</td>\n",
              "      <td>560000</td>\n",
              "      <td>187960000</td>\n",
              "      <td>443</td>\n",
              "    </tr>\n",
              "  </tbody>\n",
              "</table>\n",
              "<p>1000 rows × 5 columns</p>\n",
              "</div>"
            ],
            "text/plain": [
              "                      title   category  subscriber        view  video\n",
              "52      [Awesome Haeun]어썸하은  BJ/인물/연예인     4840000   703070000    419\n",
              "75   영국남자 Korean Englishman  BJ/인물/연예인     3940000  1160110000    411\n",
              "79              워크맨-Workman  BJ/인물/연예인     3810000   469330000     76\n",
              "82              waveya 2011  BJ/인물/연예인     3720000  1299280000    647\n",
              "84                 허팝Heopop  BJ/인물/연예인     3710000  2748310000   1685\n",
              "..                      ...        ...         ...         ...    ...\n",
              "671            AshleyMariee         해외      590000    55950000   2033\n",
              "53                  Samsung     회사/오피셜     4780000   585350000   1135\n",
              "108               Billboard     회사/오피셜     2900000  1010800000   6100\n",
              "709           미스&미스터트롯 공식계정     회사/오피셜      570000   202340000    659\n",
              "722                  KB국민카드     회사/오피셜      560000   187960000    443\n",
              "\n",
              "[1000 rows x 5 columns]"
            ]
          },
          "metadata": {},
          "execution_count": 37
        }
      ]
    },
    {
      "cell_type": "markdown",
      "metadata": {
        "id": "bh2SGC_ir5DQ"
      },
      "source": [
        "## Bolean Indexing 사용하여 조건에 맞는 데이터 가져오기\n",
        "- DataFrame.loc[조건, :]\n",
        "- DataFrame[조건]\n",
        "- 조건은 bolean dtype 이여야 하며 행의 수와 같아야 함\n",
        "- 복잡한 조건 작성\n",
        "- (조건1) | (조건2) :  조건1 또는 조건2를 만족하는 데이터\n",
        "- (조건1) & (조건2) :  조건1 ,조건2 모드 만족하는 데이터\n",
        "- ~(조건) : 조건이 거짓인 데이터"
      ]
    },
    {
      "cell_type": "code",
      "metadata": {
        "colab": {
          "base_uri": "https://localhost:8080/",
          "height": 173
        },
        "id": "m0NbRC1NrppT",
        "outputId": "e2de2068-5b74-41be-e12a-67612c7224d2"
      },
      "source": [
        "temp = pd.DataFrame({'A': [1,2,3,4],\n",
        "                     'B': [6,5,4,3],\n",
        "                     'C': [3,4,5,2]})\n",
        "temp"
      ],
      "execution_count": 38,
      "outputs": [
        {
          "output_type": "execute_result",
          "data": {
            "text/html": [
              "<div>\n",
              "<style scoped>\n",
              "    .dataframe tbody tr th:only-of-type {\n",
              "        vertical-align: middle;\n",
              "    }\n",
              "\n",
              "    .dataframe tbody tr th {\n",
              "        vertical-align: top;\n",
              "    }\n",
              "\n",
              "    .dataframe thead th {\n",
              "        text-align: right;\n",
              "    }\n",
              "</style>\n",
              "<table border=\"1\" class=\"dataframe\">\n",
              "  <thead>\n",
              "    <tr style=\"text-align: right;\">\n",
              "      <th></th>\n",
              "      <th>A</th>\n",
              "      <th>B</th>\n",
              "      <th>C</th>\n",
              "    </tr>\n",
              "  </thead>\n",
              "  <tbody>\n",
              "    <tr>\n",
              "      <th>0</th>\n",
              "      <td>1</td>\n",
              "      <td>6</td>\n",
              "      <td>3</td>\n",
              "    </tr>\n",
              "    <tr>\n",
              "      <th>1</th>\n",
              "      <td>2</td>\n",
              "      <td>5</td>\n",
              "      <td>4</td>\n",
              "    </tr>\n",
              "    <tr>\n",
              "      <th>2</th>\n",
              "      <td>3</td>\n",
              "      <td>4</td>\n",
              "      <td>5</td>\n",
              "    </tr>\n",
              "    <tr>\n",
              "      <th>3</th>\n",
              "      <td>4</td>\n",
              "      <td>3</td>\n",
              "      <td>2</td>\n",
              "    </tr>\n",
              "  </tbody>\n",
              "</table>\n",
              "</div>"
            ],
            "text/plain": [
              "   A  B  C\n",
              "0  1  6  3\n",
              "1  2  5  4\n",
              "2  3  4  5\n",
              "3  4  3  2"
            ]
          },
          "metadata": {},
          "execution_count": 38
        }
      ]
    },
    {
      "cell_type": "code",
      "metadata": {
        "colab": {
          "base_uri": "https://localhost:8080/",
          "height": 111
        },
        "id": "BvBtY5FstOaB",
        "outputId": "89d8cc08-597d-4ccb-8342-e2b37b708cd5"
      },
      "source": [
        "temp[[True,False,True,False]]"
      ],
      "execution_count": 39,
      "outputs": [
        {
          "output_type": "execute_result",
          "data": {
            "text/html": [
              "<div>\n",
              "<style scoped>\n",
              "    .dataframe tbody tr th:only-of-type {\n",
              "        vertical-align: middle;\n",
              "    }\n",
              "\n",
              "    .dataframe tbody tr th {\n",
              "        vertical-align: top;\n",
              "    }\n",
              "\n",
              "    .dataframe thead th {\n",
              "        text-align: right;\n",
              "    }\n",
              "</style>\n",
              "<table border=\"1\" class=\"dataframe\">\n",
              "  <thead>\n",
              "    <tr style=\"text-align: right;\">\n",
              "      <th></th>\n",
              "      <th>A</th>\n",
              "      <th>B</th>\n",
              "      <th>C</th>\n",
              "    </tr>\n",
              "  </thead>\n",
              "  <tbody>\n",
              "    <tr>\n",
              "      <th>0</th>\n",
              "      <td>1</td>\n",
              "      <td>6</td>\n",
              "      <td>3</td>\n",
              "    </tr>\n",
              "    <tr>\n",
              "      <th>2</th>\n",
              "      <td>3</td>\n",
              "      <td>4</td>\n",
              "      <td>5</td>\n",
              "    </tr>\n",
              "  </tbody>\n",
              "</table>\n",
              "</div>"
            ],
            "text/plain": [
              "   A  B  C\n",
              "0  1  6  3\n",
              "2  3  4  5"
            ]
          },
          "metadata": {},
          "execution_count": 39
        }
      ]
    },
    {
      "cell_type": "code",
      "metadata": {
        "colab": {
          "base_uri": "https://localhost:8080/"
        },
        "id": "ilxVtD9etYa2",
        "outputId": "7c53258b-9029-4c67-d3a6-17a9dd349353"
      },
      "source": [
        "#1-36 'category'가 음악/댄스/가수' 인 채널의 subscriber TOP5를 알아봅니다.\n",
        "df['category'] == '악/댄스/가'"
      ],
      "execution_count": 40,
      "outputs": [
        {
          "output_type": "execute_result",
          "data": {
            "text/plain": [
              "0      False\n",
              "1      False\n",
              "2      False\n",
              "3      False\n",
              "4      False\n",
              "       ...  \n",
              "995    False\n",
              "996    False\n",
              "997    False\n",
              "998    False\n",
              "999    False\n",
              "Name: category, Length: 1000, dtype: bool"
            ]
          },
          "metadata": {},
          "execution_count": 40
        }
      ]
    },
    {
      "cell_type": "code",
      "metadata": {
        "colab": {
          "base_uri": "https://localhost:8080/"
        },
        "id": "zsPXQlgjvjKU",
        "outputId": "50b60a0a-0032-4de3-b2d2-3363fc835111"
      },
      "source": [
        "(df['category'] == '악/댄스/가').sum()"
      ],
      "execution_count": 41,
      "outputs": [
        {
          "output_type": "execute_result",
          "data": {
            "text/plain": [
              "0"
            ]
          },
          "metadata": {},
          "execution_count": 41
        }
      ]
    },
    {
      "cell_type": "code",
      "metadata": {
        "colab": {
          "base_uri": "https://localhost:8080/",
          "height": 49
        },
        "id": "uqc8M9jFvyLM",
        "outputId": "a0d9c5c1-8fb2-4f18-f1e0-6c03e2807992"
      },
      "source": [
        "df[df['category'] =='악/댄스/가'].sort_values('subscriber',ascending=False).head()"
      ],
      "execution_count": 42,
      "outputs": [
        {
          "output_type": "execute_result",
          "data": {
            "text/html": [
              "<div>\n",
              "<style scoped>\n",
              "    .dataframe tbody tr th:only-of-type {\n",
              "        vertical-align: middle;\n",
              "    }\n",
              "\n",
              "    .dataframe tbody tr th {\n",
              "        vertical-align: top;\n",
              "    }\n",
              "\n",
              "    .dataframe thead th {\n",
              "        text-align: right;\n",
              "    }\n",
              "</style>\n",
              "<table border=\"1\" class=\"dataframe\">\n",
              "  <thead>\n",
              "    <tr style=\"text-align: right;\">\n",
              "      <th></th>\n",
              "      <th>title</th>\n",
              "      <th>category</th>\n",
              "      <th>subscriber</th>\n",
              "      <th>view</th>\n",
              "      <th>video</th>\n",
              "    </tr>\n",
              "  </thead>\n",
              "  <tbody>\n",
              "  </tbody>\n",
              "</table>\n",
              "</div>"
            ],
            "text/plain": [
              "Empty DataFrame\n",
              "Columns: [title, category, subscriber, view, video]\n",
              "Index: []"
            ]
          },
          "metadata": {},
          "execution_count": 42
        }
      ]
    },
    {
      "cell_type": "code",
      "metadata": {
        "colab": {
          "base_uri": "https://localhost:8080/",
          "height": 204
        },
        "id": "kEmWuT18t-mq",
        "outputId": "1d4be3bf-5da3-48ce-b2c8-76dbdcdfe066"
      },
      "source": [
        "#1-37 'category'가 TV/방송'인 채널의 view TOP5를 알아봅니다.\n",
        "df[df['category'] == 'TV/방송'].sort_values('view',ascending=False).head()"
      ],
      "execution_count": 43,
      "outputs": [
        {
          "output_type": "execute_result",
          "data": {
            "text/html": [
              "<div>\n",
              "<style scoped>\n",
              "    .dataframe tbody tr th:only-of-type {\n",
              "        vertical-align: middle;\n",
              "    }\n",
              "\n",
              "    .dataframe tbody tr th {\n",
              "        vertical-align: top;\n",
              "    }\n",
              "\n",
              "    .dataframe thead th {\n",
              "        text-align: right;\n",
              "    }\n",
              "</style>\n",
              "<table border=\"1\" class=\"dataframe\">\n",
              "  <thead>\n",
              "    <tr style=\"text-align: right;\">\n",
              "      <th></th>\n",
              "      <th>title</th>\n",
              "      <th>category</th>\n",
              "      <th>subscriber</th>\n",
              "      <th>view</th>\n",
              "      <th>video</th>\n",
              "    </tr>\n",
              "  </thead>\n",
              "  <tbody>\n",
              "    <tr>\n",
              "      <th>12</th>\n",
              "      <td>KBS World</td>\n",
              "      <td>TV/방송</td>\n",
              "      <td>14300000</td>\n",
              "      <td>10158060000</td>\n",
              "      <td>46830</td>\n",
              "    </tr>\n",
              "    <tr>\n",
              "      <th>22</th>\n",
              "      <td>MBCkpop</td>\n",
              "      <td>TV/방송</td>\n",
              "      <td>8670000</td>\n",
              "      <td>6339380000</td>\n",
              "      <td>38695</td>\n",
              "    </tr>\n",
              "    <tr>\n",
              "      <th>76</th>\n",
              "      <td>KBS Entertain</td>\n",
              "      <td>TV/방송</td>\n",
              "      <td>3930000</td>\n",
              "      <td>5340910000</td>\n",
              "      <td>91783</td>\n",
              "    </tr>\n",
              "    <tr>\n",
              "      <th>57</th>\n",
              "      <td>SBS Entertainment</td>\n",
              "      <td>TV/방송</td>\n",
              "      <td>4490000</td>\n",
              "      <td>4516190000</td>\n",
              "      <td>210810</td>\n",
              "    </tr>\n",
              "    <tr>\n",
              "      <th>77</th>\n",
              "      <td>MBCdrama</td>\n",
              "      <td>TV/방송</td>\n",
              "      <td>3920000</td>\n",
              "      <td>4350540000</td>\n",
              "      <td>51543</td>\n",
              "    </tr>\n",
              "  </tbody>\n",
              "</table>\n",
              "</div>"
            ],
            "text/plain": [
              "                title category  subscriber         view   video\n",
              "12          KBS World    TV/방송    14300000  10158060000   46830\n",
              "22            MBCkpop    TV/방송     8670000   6339380000   38695\n",
              "76      KBS Entertain    TV/방송     3930000   5340910000   91783\n",
              "57  SBS Entertainment    TV/방송     4490000   4516190000  210810\n",
              "77           MBCdrama    TV/방송     3920000   4350540000   51543"
            ]
          },
          "metadata": {},
          "execution_count": 43
        }
      ]
    },
    {
      "cell_type": "code",
      "metadata": {
        "colab": {
          "base_uri": "https://localhost:8080/",
          "height": 142
        },
        "id": "-KuAg4bbuOHH",
        "outputId": "1522f6b7-e7a6-4733-91bf-e483837c427f"
      },
      "source": [
        "#1-38 'subscriber'가 30000000(3천만)이상인 채널만 알아봅니다.\n",
        "df[df['subscriber'] >= 30000000]"
      ],
      "execution_count": 44,
      "outputs": [
        {
          "output_type": "execute_result",
          "data": {
            "text/html": [
              "<div>\n",
              "<style scoped>\n",
              "    .dataframe tbody tr th:only-of-type {\n",
              "        vertical-align: middle;\n",
              "    }\n",
              "\n",
              "    .dataframe tbody tr th {\n",
              "        vertical-align: top;\n",
              "    }\n",
              "\n",
              "    .dataframe thead th {\n",
              "        text-align: right;\n",
              "    }\n",
              "</style>\n",
              "<table border=\"1\" class=\"dataframe\">\n",
              "  <thead>\n",
              "    <tr style=\"text-align: right;\">\n",
              "      <th></th>\n",
              "      <th>title</th>\n",
              "      <th>category</th>\n",
              "      <th>subscriber</th>\n",
              "      <th>view</th>\n",
              "      <th>video</th>\n",
              "    </tr>\n",
              "  </thead>\n",
              "  <tbody>\n",
              "    <tr>\n",
              "      <th>0</th>\n",
              "      <td>BLACKPINK</td>\n",
              "      <td>음악/댄스/가수</td>\n",
              "      <td>51400000</td>\n",
              "      <td>12851300000</td>\n",
              "      <td>319</td>\n",
              "    </tr>\n",
              "    <tr>\n",
              "      <th>1</th>\n",
              "      <td>Big Hit Labels</td>\n",
              "      <td>음악/댄스/가수</td>\n",
              "      <td>45500000</td>\n",
              "      <td>12089660000</td>\n",
              "      <td>433</td>\n",
              "    </tr>\n",
              "    <tr>\n",
              "      <th>2</th>\n",
              "      <td>BANGTANTV</td>\n",
              "      <td>음악/댄스/가수</td>\n",
              "      <td>38700000</td>\n",
              "      <td>5475980000</td>\n",
              "      <td>1319</td>\n",
              "    </tr>\n",
              "  </tbody>\n",
              "</table>\n",
              "</div>"
            ],
            "text/plain": [
              "            title  category  subscriber         view  video\n",
              "0       BLACKPINK  음악/댄스/가수    51400000  12851300000    319\n",
              "1  Big Hit Labels  음악/댄스/가수    45500000  12089660000    433\n",
              "2       BANGTANTV  음악/댄스/가수    38700000   5475980000   1319"
            ]
          },
          "metadata": {},
          "execution_count": 44
        }
      ]
    },
    {
      "cell_type": "code",
      "metadata": {
        "id": "yzbp1-D2uXnh"
      },
      "source": [
        "#1-39 'video'개수가 30000이상 35000 이하인 채널을 알아봅니다.\n",
        "#df[(df['video'] >= 30000) & (df['video' <= 35000])]"
      ],
      "execution_count": 45,
      "outputs": []
    },
    {
      "cell_type": "code",
      "metadata": {
        "colab": {
          "base_uri": "https://localhost:8080/",
          "height": 855
        },
        "id": "Os2WahZuuiQi",
        "outputId": "344e0f2e-922f-44c8-a5dd-7940c09f5846"
      },
      "source": [
        "#1-40 'subscriber'가 3000000(3천만)이상이거나 'video'개수가 50000 이상인 채널을 알아봅니다.\n",
        "df[(df['subscriber']>=30000000) | (df['video'] >=50000)]"
      ],
      "execution_count": 46,
      "outputs": [
        {
          "output_type": "execute_result",
          "data": {
            "text/html": [
              "<div>\n",
              "<style scoped>\n",
              "    .dataframe tbody tr th:only-of-type {\n",
              "        vertical-align: middle;\n",
              "    }\n",
              "\n",
              "    .dataframe tbody tr th {\n",
              "        vertical-align: top;\n",
              "    }\n",
              "\n",
              "    .dataframe thead th {\n",
              "        text-align: right;\n",
              "    }\n",
              "</style>\n",
              "<table border=\"1\" class=\"dataframe\">\n",
              "  <thead>\n",
              "    <tr style=\"text-align: right;\">\n",
              "      <th></th>\n",
              "      <th>title</th>\n",
              "      <th>category</th>\n",
              "      <th>subscriber</th>\n",
              "      <th>view</th>\n",
              "      <th>video</th>\n",
              "    </tr>\n",
              "  </thead>\n",
              "  <tbody>\n",
              "    <tr>\n",
              "      <th>0</th>\n",
              "      <td>BLACKPINK</td>\n",
              "      <td>음악/댄스/가수</td>\n",
              "      <td>51400000</td>\n",
              "      <td>12851300000</td>\n",
              "      <td>319</td>\n",
              "    </tr>\n",
              "    <tr>\n",
              "      <th>1</th>\n",
              "      <td>Big Hit Labels</td>\n",
              "      <td>음악/댄스/가수</td>\n",
              "      <td>45500000</td>\n",
              "      <td>12089660000</td>\n",
              "      <td>433</td>\n",
              "    </tr>\n",
              "    <tr>\n",
              "      <th>2</th>\n",
              "      <td>BANGTANTV</td>\n",
              "      <td>음악/댄스/가수</td>\n",
              "      <td>38700000</td>\n",
              "      <td>5475980000</td>\n",
              "      <td>1319</td>\n",
              "    </tr>\n",
              "    <tr>\n",
              "      <th>17</th>\n",
              "      <td>CNN</td>\n",
              "      <td>뉴스/정치/사회</td>\n",
              "      <td>10900000</td>\n",
              "      <td>7899750000</td>\n",
              "      <td>149530</td>\n",
              "    </tr>\n",
              "    <tr>\n",
              "      <th>27</th>\n",
              "      <td>MBCentertainment</td>\n",
              "      <td>뉴스/정치/사회</td>\n",
              "      <td>7710000</td>\n",
              "      <td>11683060000</td>\n",
              "      <td>79567</td>\n",
              "    </tr>\n",
              "    <tr>\n",
              "      <th>38</th>\n",
              "      <td>JTBC Entertainment</td>\n",
              "      <td>뉴스/정치/사회</td>\n",
              "      <td>6020000</td>\n",
              "      <td>7638370000</td>\n",
              "      <td>58938</td>\n",
              "    </tr>\n",
              "    <tr>\n",
              "      <th>57</th>\n",
              "      <td>SBS Entertainment</td>\n",
              "      <td>TV/방송</td>\n",
              "      <td>4490000</td>\n",
              "      <td>4516190000</td>\n",
              "      <td>210810</td>\n",
              "    </tr>\n",
              "    <tr>\n",
              "      <th>60</th>\n",
              "      <td>SBS Drama</td>\n",
              "      <td>TV/방송</td>\n",
              "      <td>4360000</td>\n",
              "      <td>4260860000</td>\n",
              "      <td>339029</td>\n",
              "    </tr>\n",
              "    <tr>\n",
              "      <th>76</th>\n",
              "      <td>KBS Entertain</td>\n",
              "      <td>TV/방송</td>\n",
              "      <td>3930000</td>\n",
              "      <td>5340910000</td>\n",
              "      <td>91783</td>\n",
              "    </tr>\n",
              "    <tr>\n",
              "      <th>77</th>\n",
              "      <td>MBCdrama</td>\n",
              "      <td>TV/방송</td>\n",
              "      <td>3920000</td>\n",
              "      <td>4350540000</td>\n",
              "      <td>51543</td>\n",
              "    </tr>\n",
              "    <tr>\n",
              "      <th>101</th>\n",
              "      <td>KBS Drama</td>\n",
              "      <td>TV/방송</td>\n",
              "      <td>3040000</td>\n",
              "      <td>3538510000</td>\n",
              "      <td>105922</td>\n",
              "    </tr>\n",
              "    <tr>\n",
              "      <th>119</th>\n",
              "      <td>tvN</td>\n",
              "      <td>TV/방송</td>\n",
              "      <td>2680000</td>\n",
              "      <td>3307570000</td>\n",
              "      <td>52141</td>\n",
              "    </tr>\n",
              "    <tr>\n",
              "      <th>168</th>\n",
              "      <td>TV CHOSUN</td>\n",
              "      <td>뉴스/정치/사회</td>\n",
              "      <td>1990000</td>\n",
              "      <td>3255290000</td>\n",
              "      <td>53632</td>\n",
              "    </tr>\n",
              "    <tr>\n",
              "      <th>169</th>\n",
              "      <td>YTN news</td>\n",
              "      <td>뉴스/정치/사회</td>\n",
              "      <td>1970000</td>\n",
              "      <td>3801710000</td>\n",
              "      <td>492791</td>\n",
              "    </tr>\n",
              "    <tr>\n",
              "      <th>176</th>\n",
              "      <td>런닝맨 - 스브스 공식 채널</td>\n",
              "      <td>TV/방송</td>\n",
              "      <td>1880000</td>\n",
              "      <td>2116410000</td>\n",
              "      <td>52730</td>\n",
              "    </tr>\n",
              "    <tr>\n",
              "      <th>248</th>\n",
              "      <td>JTBC News</td>\n",
              "      <td>뉴스/정치/사회</td>\n",
              "      <td>1400000</td>\n",
              "      <td>1573740000</td>\n",
              "      <td>91379</td>\n",
              "    </tr>\n",
              "    <tr>\n",
              "      <th>366</th>\n",
              "      <td>SBS 뉴스</td>\n",
              "      <td>뉴스/정치/사회</td>\n",
              "      <td>1010000</td>\n",
              "      <td>1458080000</td>\n",
              "      <td>87768</td>\n",
              "    </tr>\n",
              "    <tr>\n",
              "      <th>373</th>\n",
              "      <td>SBS STORY</td>\n",
              "      <td>뉴스/정치/사회</td>\n",
              "      <td>990000</td>\n",
              "      <td>1254640000</td>\n",
              "      <td>75985</td>\n",
              "    </tr>\n",
              "    <tr>\n",
              "      <th>389</th>\n",
              "      <td>KBS News</td>\n",
              "      <td>뉴스/정치/사회</td>\n",
              "      <td>960000</td>\n",
              "      <td>1017410000</td>\n",
              "      <td>145515</td>\n",
              "    </tr>\n",
              "    <tr>\n",
              "      <th>402</th>\n",
              "      <td>채널A 뉴스</td>\n",
              "      <td>뉴스/정치/사회</td>\n",
              "      <td>940000</td>\n",
              "      <td>1039130000</td>\n",
              "      <td>52662</td>\n",
              "    </tr>\n",
              "    <tr>\n",
              "      <th>431</th>\n",
              "      <td>MBCNEWS</td>\n",
              "      <td>뉴스/정치/사회</td>\n",
              "      <td>890000</td>\n",
              "      <td>1388710000</td>\n",
              "      <td>87228</td>\n",
              "    </tr>\n",
              "    <tr>\n",
              "      <th>502</th>\n",
              "      <td>뉴스TVCHOSUN</td>\n",
              "      <td>뉴스/정치/사회</td>\n",
              "      <td>770000</td>\n",
              "      <td>623510000</td>\n",
              "      <td>57729</td>\n",
              "    </tr>\n",
              "    <tr>\n",
              "      <th>701</th>\n",
              "      <td>MBN News</td>\n",
              "      <td>뉴스/정치/사회</td>\n",
              "      <td>570000</td>\n",
              "      <td>623580000</td>\n",
              "      <td>72397</td>\n",
              "    </tr>\n",
              "    <tr>\n",
              "      <th>737</th>\n",
              "      <td>연합뉴스TV</td>\n",
              "      <td>뉴스/정치/사회</td>\n",
              "      <td>550000</td>\n",
              "      <td>697650000</td>\n",
              "      <td>311370</td>\n",
              "    </tr>\n",
              "    <tr>\n",
              "      <th>988</th>\n",
              "      <td>ARIRANG NEWS</td>\n",
              "      <td>뉴스/정치/사회</td>\n",
              "      <td>400000</td>\n",
              "      <td>190750000</td>\n",
              "      <td>114494</td>\n",
              "    </tr>\n",
              "    <tr>\n",
              "      <th>992</th>\n",
              "      <td>KBS 교양</td>\n",
              "      <td>뉴스/정치/사회</td>\n",
              "      <td>400000</td>\n",
              "      <td>297960000</td>\n",
              "      <td>64694</td>\n",
              "    </tr>\n",
              "  </tbody>\n",
              "</table>\n",
              "</div>"
            ],
            "text/plain": [
              "                  title  category  subscriber         view   video\n",
              "0             BLACKPINK  음악/댄스/가수    51400000  12851300000     319\n",
              "1        Big Hit Labels  음악/댄스/가수    45500000  12089660000     433\n",
              "2             BANGTANTV  음악/댄스/가수    38700000   5475980000    1319\n",
              "17                  CNN  뉴스/정치/사회    10900000   7899750000  149530\n",
              "27     MBCentertainment  뉴스/정치/사회     7710000  11683060000   79567\n",
              "38   JTBC Entertainment  뉴스/정치/사회     6020000   7638370000   58938\n",
              "57    SBS Entertainment     TV/방송     4490000   4516190000  210810\n",
              "60            SBS Drama     TV/방송     4360000   4260860000  339029\n",
              "76        KBS Entertain     TV/방송     3930000   5340910000   91783\n",
              "77             MBCdrama     TV/방송     3920000   4350540000   51543\n",
              "101           KBS Drama     TV/방송     3040000   3538510000  105922\n",
              "119                 tvN     TV/방송     2680000   3307570000   52141\n",
              "168           TV CHOSUN  뉴스/정치/사회     1990000   3255290000   53632\n",
              "169            YTN news  뉴스/정치/사회     1970000   3801710000  492791\n",
              "176     런닝맨 - 스브스 공식 채널     TV/방송     1880000   2116410000   52730\n",
              "248           JTBC News  뉴스/정치/사회     1400000   1573740000   91379\n",
              "366              SBS 뉴스  뉴스/정치/사회     1010000   1458080000   87768\n",
              "373           SBS STORY  뉴스/정치/사회      990000   1254640000   75985\n",
              "389            KBS News  뉴스/정치/사회      960000   1017410000  145515\n",
              "402              채널A 뉴스  뉴스/정치/사회      940000   1039130000   52662\n",
              "431             MBCNEWS  뉴스/정치/사회      890000   1388710000   87228\n",
              "502          뉴스TVCHOSUN  뉴스/정치/사회      770000    623510000   57729\n",
              "701            MBN News  뉴스/정치/사회      570000    623580000   72397\n",
              "737              연합뉴스TV  뉴스/정치/사회      550000    697650000  311370\n",
              "988        ARIRANG NEWS  뉴스/정치/사회      400000    190750000  114494\n",
              "992              KBS 교양  뉴스/정치/사회      400000    297960000   64694"
            ]
          },
          "metadata": {},
          "execution_count": 46
        }
      ]
    },
    {
      "cell_type": "code",
      "metadata": {
        "colab": {
          "base_uri": "https://localhost:8080/",
          "height": 855
        },
        "id": "xGj1aXD9fB_A",
        "outputId": "41140c06-079c-4912-a830-6f0c89248879"
      },
      "source": [
        "df.loc[(df['subscriber'] >=30000000) | (df['video'] >=50000), :]"
      ],
      "execution_count": 47,
      "outputs": [
        {
          "output_type": "execute_result",
          "data": {
            "text/html": [
              "<div>\n",
              "<style scoped>\n",
              "    .dataframe tbody tr th:only-of-type {\n",
              "        vertical-align: middle;\n",
              "    }\n",
              "\n",
              "    .dataframe tbody tr th {\n",
              "        vertical-align: top;\n",
              "    }\n",
              "\n",
              "    .dataframe thead th {\n",
              "        text-align: right;\n",
              "    }\n",
              "</style>\n",
              "<table border=\"1\" class=\"dataframe\">\n",
              "  <thead>\n",
              "    <tr style=\"text-align: right;\">\n",
              "      <th></th>\n",
              "      <th>title</th>\n",
              "      <th>category</th>\n",
              "      <th>subscriber</th>\n",
              "      <th>view</th>\n",
              "      <th>video</th>\n",
              "    </tr>\n",
              "  </thead>\n",
              "  <tbody>\n",
              "    <tr>\n",
              "      <th>0</th>\n",
              "      <td>BLACKPINK</td>\n",
              "      <td>음악/댄스/가수</td>\n",
              "      <td>51400000</td>\n",
              "      <td>12851300000</td>\n",
              "      <td>319</td>\n",
              "    </tr>\n",
              "    <tr>\n",
              "      <th>1</th>\n",
              "      <td>Big Hit Labels</td>\n",
              "      <td>음악/댄스/가수</td>\n",
              "      <td>45500000</td>\n",
              "      <td>12089660000</td>\n",
              "      <td>433</td>\n",
              "    </tr>\n",
              "    <tr>\n",
              "      <th>2</th>\n",
              "      <td>BANGTANTV</td>\n",
              "      <td>음악/댄스/가수</td>\n",
              "      <td>38700000</td>\n",
              "      <td>5475980000</td>\n",
              "      <td>1319</td>\n",
              "    </tr>\n",
              "    <tr>\n",
              "      <th>17</th>\n",
              "      <td>CNN</td>\n",
              "      <td>뉴스/정치/사회</td>\n",
              "      <td>10900000</td>\n",
              "      <td>7899750000</td>\n",
              "      <td>149530</td>\n",
              "    </tr>\n",
              "    <tr>\n",
              "      <th>27</th>\n",
              "      <td>MBCentertainment</td>\n",
              "      <td>뉴스/정치/사회</td>\n",
              "      <td>7710000</td>\n",
              "      <td>11683060000</td>\n",
              "      <td>79567</td>\n",
              "    </tr>\n",
              "    <tr>\n",
              "      <th>38</th>\n",
              "      <td>JTBC Entertainment</td>\n",
              "      <td>뉴스/정치/사회</td>\n",
              "      <td>6020000</td>\n",
              "      <td>7638370000</td>\n",
              "      <td>58938</td>\n",
              "    </tr>\n",
              "    <tr>\n",
              "      <th>57</th>\n",
              "      <td>SBS Entertainment</td>\n",
              "      <td>TV/방송</td>\n",
              "      <td>4490000</td>\n",
              "      <td>4516190000</td>\n",
              "      <td>210810</td>\n",
              "    </tr>\n",
              "    <tr>\n",
              "      <th>60</th>\n",
              "      <td>SBS Drama</td>\n",
              "      <td>TV/방송</td>\n",
              "      <td>4360000</td>\n",
              "      <td>4260860000</td>\n",
              "      <td>339029</td>\n",
              "    </tr>\n",
              "    <tr>\n",
              "      <th>76</th>\n",
              "      <td>KBS Entertain</td>\n",
              "      <td>TV/방송</td>\n",
              "      <td>3930000</td>\n",
              "      <td>5340910000</td>\n",
              "      <td>91783</td>\n",
              "    </tr>\n",
              "    <tr>\n",
              "      <th>77</th>\n",
              "      <td>MBCdrama</td>\n",
              "      <td>TV/방송</td>\n",
              "      <td>3920000</td>\n",
              "      <td>4350540000</td>\n",
              "      <td>51543</td>\n",
              "    </tr>\n",
              "    <tr>\n",
              "      <th>101</th>\n",
              "      <td>KBS Drama</td>\n",
              "      <td>TV/방송</td>\n",
              "      <td>3040000</td>\n",
              "      <td>3538510000</td>\n",
              "      <td>105922</td>\n",
              "    </tr>\n",
              "    <tr>\n",
              "      <th>119</th>\n",
              "      <td>tvN</td>\n",
              "      <td>TV/방송</td>\n",
              "      <td>2680000</td>\n",
              "      <td>3307570000</td>\n",
              "      <td>52141</td>\n",
              "    </tr>\n",
              "    <tr>\n",
              "      <th>168</th>\n",
              "      <td>TV CHOSUN</td>\n",
              "      <td>뉴스/정치/사회</td>\n",
              "      <td>1990000</td>\n",
              "      <td>3255290000</td>\n",
              "      <td>53632</td>\n",
              "    </tr>\n",
              "    <tr>\n",
              "      <th>169</th>\n",
              "      <td>YTN news</td>\n",
              "      <td>뉴스/정치/사회</td>\n",
              "      <td>1970000</td>\n",
              "      <td>3801710000</td>\n",
              "      <td>492791</td>\n",
              "    </tr>\n",
              "    <tr>\n",
              "      <th>176</th>\n",
              "      <td>런닝맨 - 스브스 공식 채널</td>\n",
              "      <td>TV/방송</td>\n",
              "      <td>1880000</td>\n",
              "      <td>2116410000</td>\n",
              "      <td>52730</td>\n",
              "    </tr>\n",
              "    <tr>\n",
              "      <th>248</th>\n",
              "      <td>JTBC News</td>\n",
              "      <td>뉴스/정치/사회</td>\n",
              "      <td>1400000</td>\n",
              "      <td>1573740000</td>\n",
              "      <td>91379</td>\n",
              "    </tr>\n",
              "    <tr>\n",
              "      <th>366</th>\n",
              "      <td>SBS 뉴스</td>\n",
              "      <td>뉴스/정치/사회</td>\n",
              "      <td>1010000</td>\n",
              "      <td>1458080000</td>\n",
              "      <td>87768</td>\n",
              "    </tr>\n",
              "    <tr>\n",
              "      <th>373</th>\n",
              "      <td>SBS STORY</td>\n",
              "      <td>뉴스/정치/사회</td>\n",
              "      <td>990000</td>\n",
              "      <td>1254640000</td>\n",
              "      <td>75985</td>\n",
              "    </tr>\n",
              "    <tr>\n",
              "      <th>389</th>\n",
              "      <td>KBS News</td>\n",
              "      <td>뉴스/정치/사회</td>\n",
              "      <td>960000</td>\n",
              "      <td>1017410000</td>\n",
              "      <td>145515</td>\n",
              "    </tr>\n",
              "    <tr>\n",
              "      <th>402</th>\n",
              "      <td>채널A 뉴스</td>\n",
              "      <td>뉴스/정치/사회</td>\n",
              "      <td>940000</td>\n",
              "      <td>1039130000</td>\n",
              "      <td>52662</td>\n",
              "    </tr>\n",
              "    <tr>\n",
              "      <th>431</th>\n",
              "      <td>MBCNEWS</td>\n",
              "      <td>뉴스/정치/사회</td>\n",
              "      <td>890000</td>\n",
              "      <td>1388710000</td>\n",
              "      <td>87228</td>\n",
              "    </tr>\n",
              "    <tr>\n",
              "      <th>502</th>\n",
              "      <td>뉴스TVCHOSUN</td>\n",
              "      <td>뉴스/정치/사회</td>\n",
              "      <td>770000</td>\n",
              "      <td>623510000</td>\n",
              "      <td>57729</td>\n",
              "    </tr>\n",
              "    <tr>\n",
              "      <th>701</th>\n",
              "      <td>MBN News</td>\n",
              "      <td>뉴스/정치/사회</td>\n",
              "      <td>570000</td>\n",
              "      <td>623580000</td>\n",
              "      <td>72397</td>\n",
              "    </tr>\n",
              "    <tr>\n",
              "      <th>737</th>\n",
              "      <td>연합뉴스TV</td>\n",
              "      <td>뉴스/정치/사회</td>\n",
              "      <td>550000</td>\n",
              "      <td>697650000</td>\n",
              "      <td>311370</td>\n",
              "    </tr>\n",
              "    <tr>\n",
              "      <th>988</th>\n",
              "      <td>ARIRANG NEWS</td>\n",
              "      <td>뉴스/정치/사회</td>\n",
              "      <td>400000</td>\n",
              "      <td>190750000</td>\n",
              "      <td>114494</td>\n",
              "    </tr>\n",
              "    <tr>\n",
              "      <th>992</th>\n",
              "      <td>KBS 교양</td>\n",
              "      <td>뉴스/정치/사회</td>\n",
              "      <td>400000</td>\n",
              "      <td>297960000</td>\n",
              "      <td>64694</td>\n",
              "    </tr>\n",
              "  </tbody>\n",
              "</table>\n",
              "</div>"
            ],
            "text/plain": [
              "                  title  category  subscriber         view   video\n",
              "0             BLACKPINK  음악/댄스/가수    51400000  12851300000     319\n",
              "1        Big Hit Labels  음악/댄스/가수    45500000  12089660000     433\n",
              "2             BANGTANTV  음악/댄스/가수    38700000   5475980000    1319\n",
              "17                  CNN  뉴스/정치/사회    10900000   7899750000  149530\n",
              "27     MBCentertainment  뉴스/정치/사회     7710000  11683060000   79567\n",
              "38   JTBC Entertainment  뉴스/정치/사회     6020000   7638370000   58938\n",
              "57    SBS Entertainment     TV/방송     4490000   4516190000  210810\n",
              "60            SBS Drama     TV/방송     4360000   4260860000  339029\n",
              "76        KBS Entertain     TV/방송     3930000   5340910000   91783\n",
              "77             MBCdrama     TV/방송     3920000   4350540000   51543\n",
              "101           KBS Drama     TV/방송     3040000   3538510000  105922\n",
              "119                 tvN     TV/방송     2680000   3307570000   52141\n",
              "168           TV CHOSUN  뉴스/정치/사회     1990000   3255290000   53632\n",
              "169            YTN news  뉴스/정치/사회     1970000   3801710000  492791\n",
              "176     런닝맨 - 스브스 공식 채널     TV/방송     1880000   2116410000   52730\n",
              "248           JTBC News  뉴스/정치/사회     1400000   1573740000   91379\n",
              "366              SBS 뉴스  뉴스/정치/사회     1010000   1458080000   87768\n",
              "373           SBS STORY  뉴스/정치/사회      990000   1254640000   75985\n",
              "389            KBS News  뉴스/정치/사회      960000   1017410000  145515\n",
              "402              채널A 뉴스  뉴스/정치/사회      940000   1039130000   52662\n",
              "431             MBCNEWS  뉴스/정치/사회      890000   1388710000   87228\n",
              "502          뉴스TVCHOSUN  뉴스/정치/사회      770000    623510000   57729\n",
              "701            MBN News  뉴스/정치/사회      570000    623580000   72397\n",
              "737              연합뉴스TV  뉴스/정치/사회      550000    697650000  311370\n",
              "988        ARIRANG NEWS  뉴스/정치/사회      400000    190750000  114494\n",
              "992              KBS 교양  뉴스/정치/사회      400000    297960000   64694"
            ]
          },
          "metadata": {},
          "execution_count": 47
        }
      ]
    },
    {
      "cell_type": "markdown",
      "metadata": {
        "id": "JB_oc_Tkf4x_"
      },
      "source": [
        "## isin(), str Accessor 의 사용\n",
        "- Series.isin([내용1, 내용2, ...]) : Series 에 포함된 내용이 목록에 있는 경우 True 없으면 False 인 Boolean Series 반환(Boolean indexing 에 사용)"
      ]
    },
    {
      "cell_type": "code",
      "metadata": {
        "colab": {
          "base_uri": "https://localhost:8080/"
        },
        "id": "k-JL8CSdfl4S",
        "outputId": "cd80233e-ff84-45fc-e233-a5e872a2cc3d"
      },
      "source": [
        "#1-41 'category'의 값별 개수를 확인합니다\n",
        "df['category'].value_counts()"
      ],
      "execution_count": 48,
      "outputs": [
        {
          "output_type": "execute_result",
          "data": {
            "text/plain": [
              "음악/댄스/가수     175\n",
              "TV/방송        161\n",
              "게임           101\n",
              "키즈/어린이        95\n",
              "음식/요리/레시피     88\n",
              "BJ/인물/연예인     68\n",
              "패션/미용         57\n",
              "뉴스/정치/사회      56\n",
              "미분류           40\n",
              "취미/라이프        40\n",
              "영화/만화/애니      33\n",
              "교육/강의         23\n",
              "애완/반려동물       20\n",
              "스포츠/운동        12\n",
              "IT/기술/컴퓨터      8\n",
              "해외             6\n",
              "국내/해외/여행       5\n",
              "주식/경제/부동산      5\n",
              "회사/오피셜         4\n",
              "자동차            2\n",
              "취미             1\n",
              "Name: category, dtype: int64"
            ]
          },
          "metadata": {},
          "execution_count": 48
        }
      ]
    },
    {
      "cell_type": "code",
      "metadata": {
        "colab": {
          "base_uri": "https://localhost:8080/"
        },
        "id": "bqQ0xGoElKsy",
        "outputId": "a2a6f18a-88b5-4c92-ce12-38e7c8cd952b"
      },
      "source": [
        "#1-42 'category'가 'Tv/방송' 이거나 '게임'인 체널의 개수를 확인합니다.\n",
        "temp = df[(df['category'] == 'TV/방송 ') | (df['category'] == '게임')]\n",
        "len(temp)"
      ],
      "execution_count": 49,
      "outputs": [
        {
          "output_type": "execute_result",
          "data": {
            "text/plain": [
              "101"
            ]
          },
          "metadata": {},
          "execution_count": 49
        }
      ]
    },
    {
      "cell_type": "code",
      "metadata": {
        "colab": {
          "base_uri": "https://localhost:8080/"
        },
        "id": "8RYvxJKzmsO_",
        "outputId": "6dafeaa4-db02-4e92-efb7-ec5cbb4e5a69"
      },
      "source": [
        "temp = df[df['category'].isin(['TV/방송','게임'])]\n",
        "len(temp)"
      ],
      "execution_count": 50,
      "outputs": [
        {
          "output_type": "execute_result",
          "data": {
            "text/plain": [
              "262"
            ]
          },
          "metadata": {},
          "execution_count": 50
        }
      ]
    },
    {
      "cell_type": "code",
      "metadata": {
        "colab": {
          "base_uri": "https://localhost:8080/",
          "height": 204
        },
        "id": "GO16oBailiG7",
        "outputId": "53868e84-96af-4c07-ffc1-a2308c667d14"
      },
      "source": [
        "#1-43 'category'가 '음악/댄스/가수' 인 채널의 subscriber Top5를 알아봅니다.(isin 활용)\n",
        "df[df['category'].isin(['음악/댄스/가수'])].sort_values('subscriber', ascending=False).head()"
      ],
      "execution_count": 51,
      "outputs": [
        {
          "output_type": "execute_result",
          "data": {
            "text/html": [
              "<div>\n",
              "<style scoped>\n",
              "    .dataframe tbody tr th:only-of-type {\n",
              "        vertical-align: middle;\n",
              "    }\n",
              "\n",
              "    .dataframe tbody tr th {\n",
              "        vertical-align: top;\n",
              "    }\n",
              "\n",
              "    .dataframe thead th {\n",
              "        text-align: right;\n",
              "    }\n",
              "</style>\n",
              "<table border=\"1\" class=\"dataframe\">\n",
              "  <thead>\n",
              "    <tr style=\"text-align: right;\">\n",
              "      <th></th>\n",
              "      <th>title</th>\n",
              "      <th>category</th>\n",
              "      <th>subscriber</th>\n",
              "      <th>view</th>\n",
              "      <th>video</th>\n",
              "    </tr>\n",
              "  </thead>\n",
              "  <tbody>\n",
              "    <tr>\n",
              "      <th>0</th>\n",
              "      <td>BLACKPINK</td>\n",
              "      <td>음악/댄스/가수</td>\n",
              "      <td>51400000</td>\n",
              "      <td>12851300000</td>\n",
              "      <td>319</td>\n",
              "    </tr>\n",
              "    <tr>\n",
              "      <th>1</th>\n",
              "      <td>Big Hit Labels</td>\n",
              "      <td>음악/댄스/가수</td>\n",
              "      <td>45500000</td>\n",
              "      <td>12089660000</td>\n",
              "      <td>433</td>\n",
              "    </tr>\n",
              "    <tr>\n",
              "      <th>2</th>\n",
              "      <td>BANGTANTV</td>\n",
              "      <td>음악/댄스/가수</td>\n",
              "      <td>38700000</td>\n",
              "      <td>5475980000</td>\n",
              "      <td>1319</td>\n",
              "    </tr>\n",
              "    <tr>\n",
              "      <th>4</th>\n",
              "      <td>SMTOWN</td>\n",
              "      <td>음악/댄스/가수</td>\n",
              "      <td>24500000</td>\n",
              "      <td>18075320000</td>\n",
              "      <td>3583</td>\n",
              "    </tr>\n",
              "    <tr>\n",
              "      <th>5</th>\n",
              "      <td>1MILLION Dance Studio</td>\n",
              "      <td>음악/댄스/가수</td>\n",
              "      <td>22300000</td>\n",
              "      <td>5753580000</td>\n",
              "      <td>2205</td>\n",
              "    </tr>\n",
              "  </tbody>\n",
              "</table>\n",
              "</div>"
            ],
            "text/plain": [
              "                   title  category  subscriber         view  video\n",
              "0              BLACKPINK  음악/댄스/가수    51400000  12851300000    319\n",
              "1         Big Hit Labels  음악/댄스/가수    45500000  12089660000    433\n",
              "2              BANGTANTV  음악/댄스/가수    38700000   5475980000   1319\n",
              "4                 SMTOWN  음악/댄스/가수    24500000  18075320000   3583\n",
              "5  1MILLION Dance Studio  음악/댄스/가수    22300000   5753580000   2205"
            ]
          },
          "metadata": {},
          "execution_count": 51
        }
      ]
    },
    {
      "cell_type": "markdown",
      "metadata": {
        "id": "HZ2YHblSRmXm"
      },
      "source": [
        "## Series의 str Accessor 사용\n",
        "- str.contains('문자열'): 특정문자열을 포함하는지 아닌지를 True/False로 반환(Boolean Indexing)조건으로 사용가능\n",
        "- str.upper() : 영문자 소문자를 대문자로 변경\n",
        "- str.lower() : 영문자 대문자를 소문자로 변경\n"
      ]
    },
    {
      "cell_type": "markdown",
      "metadata": {
        "id": "-Uj50ynPSZ67"
      },
      "source": [
        "### Series의 데이터를 list 및 ndarray로 변환\n",
        "- Series.to_list() : Series의 values를 list로 변환\n",
        "- Series.to_numpy() : Series의 values를 ndarry로 반환(Series.values와 동일)"
      ]
    },
    {
      "cell_type": "code",
      "metadata": {
        "colab": {
          "base_uri": "https://localhost:8080/"
        },
        "id": "H9vuXWhknrYx",
        "outputId": "f19ca11e-5fd6-4919-e305-335a182880b2"
      },
      "source": [
        "#1-44 title에 'kBS'가 포함된 채널명 목록을 만들어 봅니다\n",
        "df[df['title'].str.contains('KBS')]['title'].to_list()"
      ],
      "execution_count": 53,
      "outputs": [
        {
          "output_type": "execute_result",
          "data": {
            "text/plain": [
              "['KBS World',\n",
              " 'KBS Kpop',\n",
              " 'KBS Entertain',\n",
              " 'KBS Drama',\n",
              " 'KBS 한국방송',\n",
              " 'KBS Drama Classic',\n",
              " 'KBS HUMAN: 뭉클티비',\n",
              " 'KBS News',\n",
              " 'KBS CoolFM',\n",
              " 'KBS N',\n",
              " 'KBS KONG',\n",
              " 'KBS Documentary [KBS 다큐]',\n",
              " 'KBS 교양']"
            ]
          },
          "metadata": {},
          "execution_count": 53
        }
      ]
    },
    {
      "cell_type": "code",
      "metadata": {
        "colab": {
          "base_uri": "https://localhost:8080/"
        },
        "id": "9UKOOmG3TTmk",
        "outputId": "26110b6f-f97f-4e63-8641-e4808c257b9a"
      },
      "source": [
        "df[df['title'].str.contains('KBS')]['title'].to_numpy()"
      ],
      "execution_count": 54,
      "outputs": [
        {
          "output_type": "execute_result",
          "data": {
            "text/plain": [
              "array(['KBS World', 'KBS Kpop', 'KBS Entertain', 'KBS Drama', 'KBS 한국방송',\n",
              "       'KBS Drama Classic', 'KBS HUMAN: 뭉클티비', 'KBS News', 'KBS CoolFM',\n",
              "       'KBS N', 'KBS KONG', 'KBS Documentary [KBS 다큐]', 'KBS 교양'],\n",
              "      dtype=object)"
            ]
          },
          "metadata": {},
          "execution_count": 54
        }
      ]
    },
    {
      "cell_type": "code",
      "metadata": {
        "colab": {
          "base_uri": "https://localhost:8080/"
        },
        "id": "_FnY8fPFUHrb",
        "outputId": "d243d4d3-d11b-4b5a-c4e1-af4ca374c526"
      },
      "source": [
        "df.loc[df['title'].str.contains('KBS'),'title'].to_list()"
      ],
      "execution_count": 55,
      "outputs": [
        {
          "output_type": "execute_result",
          "data": {
            "text/plain": [
              "['KBS World',\n",
              " 'KBS Kpop',\n",
              " 'KBS Entertain',\n",
              " 'KBS Drama',\n",
              " 'KBS 한국방송',\n",
              " 'KBS Drama Classic',\n",
              " 'KBS HUMAN: 뭉클티비',\n",
              " 'KBS News',\n",
              " 'KBS CoolFM',\n",
              " 'KBS N',\n",
              " 'KBS KONG',\n",
              " 'KBS Documentary [KBS 다큐]',\n",
              " 'KBS 교양']"
            ]
          },
          "metadata": {},
          "execution_count": 55
        }
      ]
    },
    {
      "cell_type": "code",
      "metadata": {
        "colab": {
          "base_uri": "https://localhost:8080/"
        },
        "id": "QEZGnijkUU7A",
        "outputId": "53502218-cb31-418c-d123-4041f6e7d4b6"
      },
      "source": [
        "df.loc[df['title'].str.contains('KBS'),'title'].to_numpy()"
      ],
      "execution_count": 56,
      "outputs": [
        {
          "output_type": "execute_result",
          "data": {
            "text/plain": [
              "array(['KBS World', 'KBS Kpop', 'KBS Entertain', 'KBS Drama', 'KBS 한국방송',\n",
              "       'KBS Drama Classic', 'KBS HUMAN: 뭉클티비', 'KBS News', 'KBS CoolFM',\n",
              "       'KBS N', 'KBS KONG', 'KBS Documentary [KBS 다큐]', 'KBS 교양'],\n",
              "      dtype=object)"
            ]
          },
          "metadata": {},
          "execution_count": 56
        }
      ]
    },
    {
      "cell_type": "code",
      "metadata": {
        "colab": {
          "base_uri": "https://localhost:8080/"
        },
        "id": "5zl4hyKvUbbN",
        "outputId": "ce2a60b8-5fa3-40cc-a3af-8c970594388b"
      },
      "source": [
        "# 대소문자 구분없이 검색하려면?\n",
        "df.loc[df['title'].str.upper().str.contains('KBS'),'title'].to_list()"
      ],
      "execution_count": 57,
      "outputs": [
        {
          "output_type": "execute_result",
          "data": {
            "text/plain": [
              "['KBS World',\n",
              " 'KBS Kpop',\n",
              " 'KBS Entertain',\n",
              " 'KBS Drama',\n",
              " 'KBS 한국방송',\n",
              " 'KBS Drama Classic',\n",
              " 'KBS HUMAN: 뭉클티비',\n",
              " 'KBS News',\n",
              " 'KBS CoolFM',\n",
              " 'KBS N',\n",
              " 'KBS KONG',\n",
              " 'KBS Documentary [KBS 다큐]',\n",
              " 'KBS 교양']"
            ]
          },
          "metadata": {},
          "execution_count": 57
        }
      ]
    },
    {
      "cell_type": "markdown",
      "metadata": {
        "id": "2zf634zrU3we"
      },
      "source": [
        "# 통계값 알아보기\n",
        "- DataFrame.describer() : 적용가능컬럼에 대해(count, mean, std, min, max, Q1, Q2, Q3)등 통계값 구하기\n",
        "- Series.count() : 개수\n",
        "- Series.sum() : 합계\n",
        "- Series.mean() : 평균\n",
        "- Series.std() : 표준편차\n",
        "- Series.var() : 분산\n",
        "- Series.medina() : 중앙값\n",
        "- Series.mode() : 최빈값\n",
        "- Series.quantile() : 분위수\n",
        "\n",
        "  - 소수점 아래 2번째 자리까지 표시되도록 설정하기\n",
        "  - pd.options.display.float_format='{:, .2f}.format\n"
      ]
    },
    {
      "cell_type": "code",
      "metadata": {
        "colab": {
          "base_uri": "https://localhost:8080/",
          "height": 297
        },
        "id": "W-ftRPQSUyeB",
        "outputId": "17030db5-150f-45cb-dd65-9fc7ed01f62b"
      },
      "source": [
        "#1-45 subscriber, view, video에 대한 통계값을 알아봅니다.(describe사용)\n",
        "df.describe()"
      ],
      "execution_count": 59,
      "outputs": [
        {
          "output_type": "execute_result",
          "data": {
            "text/html": [
              "<div>\n",
              "<style scoped>\n",
              "    .dataframe tbody tr th:only-of-type {\n",
              "        vertical-align: middle;\n",
              "    }\n",
              "\n",
              "    .dataframe tbody tr th {\n",
              "        vertical-align: top;\n",
              "    }\n",
              "\n",
              "    .dataframe thead th {\n",
              "        text-align: right;\n",
              "    }\n",
              "</style>\n",
              "<table border=\"1\" class=\"dataframe\">\n",
              "  <thead>\n",
              "    <tr style=\"text-align: right;\">\n",
              "      <th></th>\n",
              "      <th>subscriber</th>\n",
              "      <th>view</th>\n",
              "      <th>video</th>\n",
              "    </tr>\n",
              "  </thead>\n",
              "  <tbody>\n",
              "    <tr>\n",
              "      <th>count</th>\n",
              "      <td>1.000000e+03</td>\n",
              "      <td>1.000000e+03</td>\n",
              "      <td>1000.000000</td>\n",
              "    </tr>\n",
              "    <tr>\n",
              "      <th>mean</th>\n",
              "      <td>1.645040e+06</td>\n",
              "      <td>6.722941e+08</td>\n",
              "      <td>4766.680000</td>\n",
              "    </tr>\n",
              "    <tr>\n",
              "      <th>std</th>\n",
              "      <td>3.422952e+06</td>\n",
              "      <td>1.588076e+09</td>\n",
              "      <td>25424.801925</td>\n",
              "    </tr>\n",
              "    <tr>\n",
              "      <th>min</th>\n",
              "      <td>4.000000e+05</td>\n",
              "      <td>0.000000e+00</td>\n",
              "      <td>0.000000</td>\n",
              "    </tr>\n",
              "    <tr>\n",
              "      <th>25%</th>\n",
              "      <td>5.400000e+05</td>\n",
              "      <td>1.095600e+08</td>\n",
              "      <td>222.000000</td>\n",
              "    </tr>\n",
              "    <tr>\n",
              "      <th>50%</th>\n",
              "      <td>7.800000e+05</td>\n",
              "      <td>2.423650e+08</td>\n",
              "      <td>506.000000</td>\n",
              "    </tr>\n",
              "    <tr>\n",
              "      <th>75%</th>\n",
              "      <td>1.392500e+06</td>\n",
              "      <td>5.351825e+08</td>\n",
              "      <td>1491.500000</td>\n",
              "    </tr>\n",
              "    <tr>\n",
              "      <th>max</th>\n",
              "      <td>5.140000e+07</td>\n",
              "      <td>1.807532e+10</td>\n",
              "      <td>492791.000000</td>\n",
              "    </tr>\n",
              "  </tbody>\n",
              "</table>\n",
              "</div>"
            ],
            "text/plain": [
              "         subscriber          view          video\n",
              "count  1.000000e+03  1.000000e+03    1000.000000\n",
              "mean   1.645040e+06  6.722941e+08    4766.680000\n",
              "std    3.422952e+06  1.588076e+09   25424.801925\n",
              "min    4.000000e+05  0.000000e+00       0.000000\n",
              "25%    5.400000e+05  1.095600e+08     222.000000\n",
              "50%    7.800000e+05  2.423650e+08     506.000000\n",
              "75%    1.392500e+06  5.351825e+08    1491.500000\n",
              "max    5.140000e+07  1.807532e+10  492791.000000"
            ]
          },
          "metadata": {},
          "execution_count": 59
        }
      ]
    },
    {
      "cell_type": "code",
      "metadata": {
        "colab": {
          "base_uri": "https://localhost:8080/"
        },
        "id": "h5pFi9oAWkgf",
        "outputId": "8083b6b4-8019-4b5b-bfff-0aab1b055309"
      },
      "source": [
        "#1-46 'video'컬럼의 데이터 개수를 구합니다\n",
        "df['video'].count()"
      ],
      "execution_count": 60,
      "outputs": [
        {
          "output_type": "execute_result",
          "data": {
            "text/plain": [
              "1000"
            ]
          },
          "metadata": {},
          "execution_count": 60
        }
      ]
    },
    {
      "cell_type": "code",
      "metadata": {
        "colab": {
          "base_uri": "https://localhost:8080/"
        },
        "id": "KxzD5URrW3pD",
        "outputId": "9db4ed5e-a5ed-46a8-a83d-1e8bcb95bd62"
      },
      "source": [
        "#1-47 'video'합계를 구합니다\n",
        "df['video'].sum()"
      ],
      "execution_count": 61,
      "outputs": [
        {
          "output_type": "execute_result",
          "data": {
            "text/plain": [
              "4766680"
            ]
          },
          "metadata": {},
          "execution_count": 61
        }
      ]
    },
    {
      "cell_type": "code",
      "metadata": {
        "colab": {
          "base_uri": "https://localhost:8080/"
        },
        "id": "eF-VrhyBXAxA",
        "outputId": "2d78c8b9-640e-44e1-9a1c-6d7a487c57c3"
      },
      "source": [
        "#1-48 'video'컬럼의 평균,중앙값구하기\n",
        "df['video'].mean(),df['video'].median()"
      ],
      "execution_count": 62,
      "outputs": [
        {
          "output_type": "execute_result",
          "data": {
            "text/plain": [
              "(4766.68, 506.0)"
            ]
          },
          "metadata": {},
          "execution_count": 62
        }
      ]
    },
    {
      "cell_type": "code",
      "metadata": {
        "colab": {
          "base_uri": "https://localhost:8080/"
        },
        "id": "O4tLdZ9pXP5s",
        "outputId": "392120e1-7af2-4385-df69-2db026f5ddf5"
      },
      "source": [
        "#1-49 'video'의 분산과 표준편차를 구합니다.\n",
        "df['video'].var(),df['video'].std()"
      ],
      "execution_count": 63,
      "outputs": [
        {
          "output_type": "execute_result",
          "data": {
            "text/plain": [
              "(646420552.9165165, 25424.801924823652)"
            ]
          },
          "metadata": {},
          "execution_count": 63
        }
      ]
    },
    {
      "cell_type": "code",
      "metadata": {
        "colab": {
          "base_uri": "https://localhost:8080/"
        },
        "id": "CKn_pdv6Xcuf",
        "outputId": "9feeeae4-66ac-4962-814a-b358dbb8b446"
      },
      "source": [
        "#1-50 'subscriber'의 최대,최소값을 구합니다\n",
        "df['subscriber'].max(), df['subscriber'].min()"
      ],
      "execution_count": 64,
      "outputs": [
        {
          "output_type": "execute_result",
          "data": {
            "text/plain": [
              "(51400000, 400000)"
            ]
          },
          "metadata": {},
          "execution_count": 64
        }
      ]
    },
    {
      "cell_type": "code",
      "metadata": {
        "colab": {
          "base_uri": "https://localhost:8080/"
        },
        "id": "ZY34xI5qX1SE",
        "outputId": "fa9737e0-fec4-41be-fad7-7d3edf1c1933"
      },
      "source": [
        "#1-51 'subscriber'의 최빈값을 구하기 =>결과가 Series형태로\n",
        "df['subscriber'].mode()"
      ],
      "execution_count": 65,
      "outputs": [
        {
          "output_type": "execute_result",
          "data": {
            "text/plain": [
              "0    440000\n",
              "dtype: int64"
            ]
          },
          "metadata": {},
          "execution_count": 65
        }
      ]
    },
    {
      "cell_type": "code",
      "metadata": {
        "colab": {
          "base_uri": "https://localhost:8080/"
        },
        "id": "OOqBdtViYB4U",
        "outputId": "90b33089-790b-483b-c17a-546bd5cceb04"
      },
      "source": [
        "#1-52 'subscriber'의 Q1, Q2, Q3(25%, 50%, 75%)를 구합니다\n",
        "df['subscriber'].quantile()"
      ],
      "execution_count": 67,
      "outputs": [
        {
          "output_type": "execute_result",
          "data": {
            "text/plain": [
              "780000.0"
            ]
          },
          "metadata": {},
          "execution_count": 67
        }
      ]
    },
    {
      "cell_type": "code",
      "metadata": {
        "colab": {
          "base_uri": "https://localhost:8080/"
        },
        "id": "5Jsy-VFOYgz_",
        "outputId": "11eab3f1-901e-4ec0-f46a-1ba062d97978"
      },
      "source": [
        "df['subscriber'].quantile([0.25, 0.5, 0.75])"
      ],
      "execution_count": 68,
      "outputs": [
        {
          "output_type": "execute_result",
          "data": {
            "text/plain": [
              "0.25     540000.0\n",
              "0.50     780000.0\n",
              "0.75    1392500.0\n",
              "Name: subscriber, dtype: float64"
            ]
          },
          "metadata": {},
          "execution_count": 68
        }
      ]
    },
    {
      "cell_type": "markdown",
      "metadata": {
        "id": "luikVPG2Yz8E"
      },
      "source": [
        "## 그룹별 통계치 구하기\n",
        "- DataFrame.groupby(그룹명).적용할 통계수()\n",
        "  - DataFrame의 함수 적용 가능 컬럼들에 대해 그룹별 통계치를 구함\n",
        "  - 통계함수에는 sum, mean, std, var, min, max, count, quantile등이 있음\n",
        "\n",
        "- DataFrame.groupby(그룹명)[컬럼].적용할 통계함수() : Series\n",
        "- DataFrame.groupby(그룹명)[[컬럼1,컬럼2, ...]].적용할 통계함수() : DataFrame"
      ]
    },
    {
      "cell_type": "code",
      "metadata": {
        "colab": {
          "base_uri": "https://localhost:8080/",
          "height": 731
        },
        "id": "ZRSIRc61Ys9e",
        "outputId": "4dbefc97-050c-4686-a340-026104f2c327"
      },
      "source": [
        "#1-53 category별 평균을 구할수 있는 모든 컬럼에 대한 평균을 구합니다\n",
        "df.groupby('category').mean()"
      ],
      "execution_count": 69,
      "outputs": [
        {
          "output_type": "execute_result",
          "data": {
            "text/html": [
              "<div>\n",
              "<style scoped>\n",
              "    .dataframe tbody tr th:only-of-type {\n",
              "        vertical-align: middle;\n",
              "    }\n",
              "\n",
              "    .dataframe tbody tr th {\n",
              "        vertical-align: top;\n",
              "    }\n",
              "\n",
              "    .dataframe thead th {\n",
              "        text-align: right;\n",
              "    }\n",
              "</style>\n",
              "<table border=\"1\" class=\"dataframe\">\n",
              "  <thead>\n",
              "    <tr style=\"text-align: right;\">\n",
              "      <th></th>\n",
              "      <th>subscriber</th>\n",
              "      <th>view</th>\n",
              "      <th>video</th>\n",
              "    </tr>\n",
              "    <tr>\n",
              "      <th>category</th>\n",
              "      <th></th>\n",
              "      <th></th>\n",
              "      <th></th>\n",
              "    </tr>\n",
              "  </thead>\n",
              "  <tbody>\n",
              "    <tr>\n",
              "      <th>BJ/인물/연예인</th>\n",
              "      <td>1.274412e+06</td>\n",
              "      <td>4.101549e+08</td>\n",
              "      <td>837.735294</td>\n",
              "    </tr>\n",
              "    <tr>\n",
              "      <th>IT/기술/컴퓨터</th>\n",
              "      <td>8.062500e+05</td>\n",
              "      <td>1.766100e+08</td>\n",
              "      <td>1200.125000</td>\n",
              "    </tr>\n",
              "    <tr>\n",
              "      <th>TV/방송</th>\n",
              "      <td>1.219876e+06</td>\n",
              "      <td>7.184834e+08</td>\n",
              "      <td>9025.130435</td>\n",
              "    </tr>\n",
              "    <tr>\n",
              "      <th>게임</th>\n",
              "      <td>7.435644e+05</td>\n",
              "      <td>4.542535e+08</td>\n",
              "      <td>2527.009901</td>\n",
              "    </tr>\n",
              "    <tr>\n",
              "      <th>교육/강의</th>\n",
              "      <td>8.513043e+05</td>\n",
              "      <td>1.772183e+08</td>\n",
              "      <td>837.913043</td>\n",
              "    </tr>\n",
              "    <tr>\n",
              "      <th>국내/해외/여행</th>\n",
              "      <td>6.260000e+05</td>\n",
              "      <td>1.866240e+08</td>\n",
              "      <td>830.200000</td>\n",
              "    </tr>\n",
              "    <tr>\n",
              "      <th>뉴스/정치/사회</th>\n",
              "      <td>1.226964e+06</td>\n",
              "      <td>1.199936e+09</td>\n",
              "      <td>42048.089286</td>\n",
              "    </tr>\n",
              "    <tr>\n",
              "      <th>미분류</th>\n",
              "      <td>1.429500e+06</td>\n",
              "      <td>4.090340e+08</td>\n",
              "      <td>778.050000</td>\n",
              "    </tr>\n",
              "    <tr>\n",
              "      <th>스포츠/운동</th>\n",
              "      <td>9.325000e+05</td>\n",
              "      <td>2.791892e+08</td>\n",
              "      <td>3954.916667</td>\n",
              "    </tr>\n",
              "    <tr>\n",
              "      <th>애완/반려동물</th>\n",
              "      <td>1.161000e+06</td>\n",
              "      <td>4.213170e+08</td>\n",
              "      <td>786.250000</td>\n",
              "    </tr>\n",
              "    <tr>\n",
              "      <th>영화/만화/애니</th>\n",
              "      <td>8.527273e+05</td>\n",
              "      <td>3.185870e+08</td>\n",
              "      <td>770.181818</td>\n",
              "    </tr>\n",
              "    <tr>\n",
              "      <th>음식/요리/레시피</th>\n",
              "      <td>1.612045e+06</td>\n",
              "      <td>4.073819e+08</td>\n",
              "      <td>830.022727</td>\n",
              "    </tr>\n",
              "    <tr>\n",
              "      <th>음악/댄스/가수</th>\n",
              "      <td>3.195200e+06</td>\n",
              "      <td>1.091668e+09</td>\n",
              "      <td>1382.051429</td>\n",
              "    </tr>\n",
              "    <tr>\n",
              "      <th>자동차</th>\n",
              "      <td>4.900000e+05</td>\n",
              "      <td>1.856150e+08</td>\n",
              "      <td>670.000000</td>\n",
              "    </tr>\n",
              "    <tr>\n",
              "      <th>주식/경제/부동산</th>\n",
              "      <td>6.260000e+05</td>\n",
              "      <td>6.800000e+07</td>\n",
              "      <td>1026.400000</td>\n",
              "    </tr>\n",
              "    <tr>\n",
              "      <th>취미</th>\n",
              "      <td>5.600000e+05</td>\n",
              "      <td>1.061500e+08</td>\n",
              "      <td>237.000000</td>\n",
              "    </tr>\n",
              "    <tr>\n",
              "      <th>취미/라이프</th>\n",
              "      <td>9.745000e+05</td>\n",
              "      <td>2.043118e+08</td>\n",
              "      <td>359.325000</td>\n",
              "    </tr>\n",
              "    <tr>\n",
              "      <th>키즈/어린이</th>\n",
              "      <td>2.729158e+06</td>\n",
              "      <td>1.281384e+09</td>\n",
              "      <td>1069.157895</td>\n",
              "    </tr>\n",
              "    <tr>\n",
              "      <th>패션/미용</th>\n",
              "      <td>8.238596e+05</td>\n",
              "      <td>1.043774e+08</td>\n",
              "      <td>313.157895</td>\n",
              "    </tr>\n",
              "    <tr>\n",
              "      <th>해외</th>\n",
              "      <td>1.595000e+06</td>\n",
              "      <td>8.382533e+08</td>\n",
              "      <td>5043.500000</td>\n",
              "    </tr>\n",
              "    <tr>\n",
              "      <th>회사/오피셜</th>\n",
              "      <td>2.202500e+06</td>\n",
              "      <td>4.966125e+08</td>\n",
              "      <td>2084.250000</td>\n",
              "    </tr>\n",
              "  </tbody>\n",
              "</table>\n",
              "</div>"
            ],
            "text/plain": [
              "             subscriber          view         video\n",
              "category                                           \n",
              "BJ/인물/연예인  1.274412e+06  4.101549e+08    837.735294\n",
              "IT/기술/컴퓨터  8.062500e+05  1.766100e+08   1200.125000\n",
              "TV/방송      1.219876e+06  7.184834e+08   9025.130435\n",
              "게임         7.435644e+05  4.542535e+08   2527.009901\n",
              "교육/강의      8.513043e+05  1.772183e+08    837.913043\n",
              "국내/해외/여행   6.260000e+05  1.866240e+08    830.200000\n",
              "뉴스/정치/사회   1.226964e+06  1.199936e+09  42048.089286\n",
              "미분류        1.429500e+06  4.090340e+08    778.050000\n",
              "스포츠/운동     9.325000e+05  2.791892e+08   3954.916667\n",
              "애완/반려동물    1.161000e+06  4.213170e+08    786.250000\n",
              "영화/만화/애니   8.527273e+05  3.185870e+08    770.181818\n",
              "음식/요리/레시피  1.612045e+06  4.073819e+08    830.022727\n",
              "음악/댄스/가수   3.195200e+06  1.091668e+09   1382.051429\n",
              "자동차        4.900000e+05  1.856150e+08    670.000000\n",
              "주식/경제/부동산  6.260000e+05  6.800000e+07   1026.400000\n",
              "취미         5.600000e+05  1.061500e+08    237.000000\n",
              "취미/라이프     9.745000e+05  2.043118e+08    359.325000\n",
              "키즈/어린이     2.729158e+06  1.281384e+09   1069.157895\n",
              "패션/미용      8.238596e+05  1.043774e+08    313.157895\n",
              "해외         1.595000e+06  8.382533e+08   5043.500000\n",
              "회사/오피셜     2.202500e+06  4.966125e+08   2084.250000"
            ]
          },
          "metadata": {},
          "execution_count": 69
        }
      ]
    },
    {
      "cell_type": "code",
      "metadata": {
        "colab": {
          "base_uri": "https://localhost:8080/"
        },
        "id": "yXBYPNbRaz2C",
        "outputId": "d5fae7c2-b9aa-4fdc-e1f3-64d3e18e4aec"
      },
      "source": [
        "#1-54 'category'별 'view'에 대한 평균을 구하기\n",
        "df.groupby('category')['view'].mean()"
      ],
      "execution_count": 70,
      "outputs": [
        {
          "output_type": "execute_result",
          "data": {
            "text/plain": [
              "category\n",
              "BJ/인물/연예인    4.101549e+08\n",
              "IT/기술/컴퓨터    1.766100e+08\n",
              "TV/방송        7.184834e+08\n",
              "게임           4.542535e+08\n",
              "교육/강의        1.772183e+08\n",
              "국내/해외/여행     1.866240e+08\n",
              "뉴스/정치/사회     1.199936e+09\n",
              "미분류          4.090340e+08\n",
              "스포츠/운동       2.791892e+08\n",
              "애완/반려동물      4.213170e+08\n",
              "영화/만화/애니     3.185870e+08\n",
              "음식/요리/레시피    4.073819e+08\n",
              "음악/댄스/가수     1.091668e+09\n",
              "자동차          1.856150e+08\n",
              "주식/경제/부동산    6.800000e+07\n",
              "취미           1.061500e+08\n",
              "취미/라이프       2.043118e+08\n",
              "키즈/어린이       1.281384e+09\n",
              "패션/미용        1.043774e+08\n",
              "해외           8.382533e+08\n",
              "회사/오피셜       4.966125e+08\n",
              "Name: view, dtype: float64"
            ]
          },
          "metadata": {},
          "execution_count": 70
        }
      ]
    },
    {
      "cell_type": "code",
      "metadata": {
        "colab": {
          "base_uri": "https://localhost:8080/",
          "height": 731
        },
        "id": "STX-bmZjbk5v",
        "outputId": "c1b8b038-4550-482b-df8f-3d62d8be91a2"
      },
      "source": [
        "#1-55 'category'별 'view' , 'video'에 대한 합계 구하기\n",
        "df.groupby('category')[['view', 'video']].sum()"
      ],
      "execution_count": 71,
      "outputs": [
        {
          "output_type": "execute_result",
          "data": {
            "text/html": [
              "<div>\n",
              "<style scoped>\n",
              "    .dataframe tbody tr th:only-of-type {\n",
              "        vertical-align: middle;\n",
              "    }\n",
              "\n",
              "    .dataframe tbody tr th {\n",
              "        vertical-align: top;\n",
              "    }\n",
              "\n",
              "    .dataframe thead th {\n",
              "        text-align: right;\n",
              "    }\n",
              "</style>\n",
              "<table border=\"1\" class=\"dataframe\">\n",
              "  <thead>\n",
              "    <tr style=\"text-align: right;\">\n",
              "      <th></th>\n",
              "      <th>view</th>\n",
              "      <th>video</th>\n",
              "    </tr>\n",
              "    <tr>\n",
              "      <th>category</th>\n",
              "      <th></th>\n",
              "      <th></th>\n",
              "    </tr>\n",
              "  </thead>\n",
              "  <tbody>\n",
              "    <tr>\n",
              "      <th>BJ/인물/연예인</th>\n",
              "      <td>27890530000</td>\n",
              "      <td>56966</td>\n",
              "    </tr>\n",
              "    <tr>\n",
              "      <th>IT/기술/컴퓨터</th>\n",
              "      <td>1412880000</td>\n",
              "      <td>9601</td>\n",
              "    </tr>\n",
              "    <tr>\n",
              "      <th>TV/방송</th>\n",
              "      <td>115675830000</td>\n",
              "      <td>1453046</td>\n",
              "    </tr>\n",
              "    <tr>\n",
              "      <th>게임</th>\n",
              "      <td>45879600000</td>\n",
              "      <td>255228</td>\n",
              "    </tr>\n",
              "    <tr>\n",
              "      <th>교육/강의</th>\n",
              "      <td>4076020000</td>\n",
              "      <td>19272</td>\n",
              "    </tr>\n",
              "    <tr>\n",
              "      <th>국내/해외/여행</th>\n",
              "      <td>933120000</td>\n",
              "      <td>4151</td>\n",
              "    </tr>\n",
              "    <tr>\n",
              "      <th>뉴스/정치/사회</th>\n",
              "      <td>67196390000</td>\n",
              "      <td>2354693</td>\n",
              "    </tr>\n",
              "    <tr>\n",
              "      <th>미분류</th>\n",
              "      <td>16361360000</td>\n",
              "      <td>31122</td>\n",
              "    </tr>\n",
              "    <tr>\n",
              "      <th>스포츠/운동</th>\n",
              "      <td>3350270000</td>\n",
              "      <td>47459</td>\n",
              "    </tr>\n",
              "    <tr>\n",
              "      <th>애완/반려동물</th>\n",
              "      <td>8426340000</td>\n",
              "      <td>15725</td>\n",
              "    </tr>\n",
              "    <tr>\n",
              "      <th>영화/만화/애니</th>\n",
              "      <td>10513370000</td>\n",
              "      <td>25416</td>\n",
              "    </tr>\n",
              "    <tr>\n",
              "      <th>음식/요리/레시피</th>\n",
              "      <td>35849610000</td>\n",
              "      <td>73042</td>\n",
              "    </tr>\n",
              "    <tr>\n",
              "      <th>음악/댄스/가수</th>\n",
              "      <td>191041980000</td>\n",
              "      <td>241859</td>\n",
              "    </tr>\n",
              "    <tr>\n",
              "      <th>자동차</th>\n",
              "      <td>371230000</td>\n",
              "      <td>1340</td>\n",
              "    </tr>\n",
              "    <tr>\n",
              "      <th>주식/경제/부동산</th>\n",
              "      <td>340000000</td>\n",
              "      <td>5132</td>\n",
              "    </tr>\n",
              "    <tr>\n",
              "      <th>취미</th>\n",
              "      <td>106150000</td>\n",
              "      <td>237</td>\n",
              "    </tr>\n",
              "    <tr>\n",
              "      <th>취미/라이프</th>\n",
              "      <td>8172470000</td>\n",
              "      <td>14373</td>\n",
              "    </tr>\n",
              "    <tr>\n",
              "      <th>키즈/어린이</th>\n",
              "      <td>121731510000</td>\n",
              "      <td>101570</td>\n",
              "    </tr>\n",
              "    <tr>\n",
              "      <th>패션/미용</th>\n",
              "      <td>5949510000</td>\n",
              "      <td>17850</td>\n",
              "    </tr>\n",
              "    <tr>\n",
              "      <th>해외</th>\n",
              "      <td>5029520000</td>\n",
              "      <td>30261</td>\n",
              "    </tr>\n",
              "    <tr>\n",
              "      <th>회사/오피셜</th>\n",
              "      <td>1986450000</td>\n",
              "      <td>8337</td>\n",
              "    </tr>\n",
              "  </tbody>\n",
              "</table>\n",
              "</div>"
            ],
            "text/plain": [
              "                   view    video\n",
              "category                        \n",
              "BJ/인물/연예인   27890530000    56966\n",
              "IT/기술/컴퓨터    1412880000     9601\n",
              "TV/방송      115675830000  1453046\n",
              "게임          45879600000   255228\n",
              "교육/강의        4076020000    19272\n",
              "국내/해외/여행      933120000     4151\n",
              "뉴스/정치/사회    67196390000  2354693\n",
              "미분류         16361360000    31122\n",
              "스포츠/운동       3350270000    47459\n",
              "애완/반려동물      8426340000    15725\n",
              "영화/만화/애니    10513370000    25416\n",
              "음식/요리/레시피   35849610000    73042\n",
              "음악/댄스/가수   191041980000   241859\n",
              "자동차           371230000     1340\n",
              "주식/경제/부동산     340000000     5132\n",
              "취미            106150000      237\n",
              "취미/라이프       8172470000    14373\n",
              "키즈/어린이     121731510000   101570\n",
              "패션/미용        5949510000    17850\n",
              "해외           5029520000    30261\n",
              "회사/오피셜       1986450000     8337"
            ]
          },
          "metadata": {},
          "execution_count": 71
        }
      ]
    },
    {
      "cell_type": "code",
      "metadata": {
        "id": "8i5kjSBFb1SM"
      },
      "source": [
        ""
      ],
      "execution_count": null,
      "outputs": []
    }
  ]
}