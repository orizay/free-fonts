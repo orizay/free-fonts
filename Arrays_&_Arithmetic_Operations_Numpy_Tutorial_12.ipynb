{
  "nbformat": 4,
  "nbformat_minor": 0,
  "metadata": {
    "colab": {
      "name": "Arrays & Arithmetic Operations Numpy Tutorial 12.ipynb",
      "provenance": [],
      "authorship_tag": "ABX9TyPusbl3WqO5GRNF6hkEeJtZ",
      "include_colab_link": true
    },
    "kernelspec": {
      "name": "python3",
      "display_name": "Python 3"
    }
  },
  "cells": [
    {
      "cell_type": "markdown",
      "metadata": {
        "id": "view-in-github",
        "colab_type": "text"
      },
      "source": [
        "<a href=\"https://colab.research.google.com/github/orizay/free-fonts/blob/master/Arrays_%26_Arithmetic_Operations_Numpy_Tutorial_12.ipynb\" target=\"_parent\"><img src=\"https://colab.research.google.com/assets/colab-badge.svg\" alt=\"Open In Colab\"/></a>"
      ]
    },
    {
      "cell_type": "markdown",
      "metadata": {
        "id": "ngZEUG5qnO9z",
        "colab_type": "text"
      },
      "source": [
        "# Definitions\n",
        "\n",
        "\n",
        "- Arrays\n",
        "  - A one- dimensional container for elements all of the same data type\n",
        "\n",
        "\n",
        "- Matrices\n",
        "  - A two- dimensional container for elements stored in an array\n"
      ]
    },
    {
      "cell_type": "markdown",
      "metadata": {
        "id": "kx562AGbpF0z",
        "colab_type": "text"
      },
      "source": [
        "# Arithmetic Operators in Python\n",
        "![대체 텍스트](https://1.bp.blogspot.com/-N4BTD_uvqPg/XJh7TKNaH3I/AAAAAAAACI4/X73EKI50S-QGxynBSiT5i3kWjJS0vbCIgCLcBGAs/s1600/Arithmetic%2Boperators.png)"
      ]
    },
    {
      "cell_type": "markdown",
      "metadata": {
        "id": "dr0RcR-0pQRG",
        "colab_type": "text"
      },
      "source": [
        "# Dot Product\n",
        "![대체 텍스트](https://betterexplained.com/wp-content/uploads/2012/02/dot_product_components.png)"
      ]
    },
    {
      "cell_type": "markdown",
      "metadata": {
        "id": "rcVfWO-0qDPi",
        "colab_type": "text"
      },
      "source": [
        "# Matrix Multiplication\n",
        "![대체 텍스트](https://hackr.io/blog/numpy-matrix-multiplication/thumbnail/large)"
      ]
    },
    {
      "cell_type": "markdown",
      "metadata": {
        "id": "9xAWt7bdqy2k",
        "colab_type": "text"
      },
      "source": [
        "# **Using NumPy to perform arithmetic operations on data**"
      ]
    },
    {
      "cell_type": "code",
      "metadata": {
        "id": "nuk6pml5q9cG",
        "colab_type": "code",
        "colab": {}
      },
      "source": [
        "import numpy as np\n",
        "from numpy.random import randn"
      ],
      "execution_count": 2,
      "outputs": []
    },
    {
      "cell_type": "code",
      "metadata": {
        "id": "fM3MNcP_tEGv",
        "colab_type": "code",
        "colab": {}
      },
      "source": [
        "np.set_printoptions(precision= 2)"
      ],
      "execution_count": 3,
      "outputs": []
    },
    {
      "cell_type": "markdown",
      "metadata": {
        "id": "2SCeB6YK_-Ma",
        "colab_type": "text"
      },
      "source": [
        "# **Creating arrays**\n",
        "\n",
        "\n",
        "### Creating arrays using a list"
      ]
    },
    {
      "cell_type": "code",
      "metadata": {
        "id": "Dz_e9LVTANV0",
        "colab_type": "code",
        "colab": {
          "base_uri": "https://localhost:8080/",
          "height": 34
        },
        "outputId": "e4f5ff4a-7772-477c-a1bc-e822defc142a"
      },
      "source": [
        "a = np.array([1,2,3,4,5,6])\n",
        "a"
      ],
      "execution_count": 4,
      "outputs": [
        {
          "output_type": "execute_result",
          "data": {
            "text/plain": [
              "array([1, 2, 3, 4, 5, 6])"
            ]
          },
          "metadata": {
            "tags": []
          },
          "execution_count": 4
        }
      ]
    },
    {
      "cell_type": "code",
      "metadata": {
        "id": "aLfm3MWkA4fR",
        "colab_type": "code",
        "colab": {
          "base_uri": "https://localhost:8080/",
          "height": 51
        },
        "outputId": "7d94cad4-57da-48e3-b492-3003d6fcb054"
      },
      "source": [
        "b = np.array([[10,20,30],[40,50,60]])\n",
        "b"
      ],
      "execution_count": 5,
      "outputs": [
        {
          "output_type": "execute_result",
          "data": {
            "text/plain": [
              "array([[10, 20, 30],\n",
              "       [40, 50, 60]])"
            ]
          },
          "metadata": {
            "tags": []
          },
          "execution_count": 5
        }
      ]
    },
    {
      "cell_type": "markdown",
      "metadata": {
        "id": "RJVaSDeSBTn_",
        "colab_type": "text"
      },
      "source": [
        "# **Creating arrays via assignment**"
      ]
    },
    {
      "cell_type": "code",
      "metadata": {
        "id": "z4_fDVvBBCaP",
        "colab_type": "code",
        "colab": {
          "base_uri": "https://localhost:8080/",
          "height": 34
        },
        "outputId": "29dde1e1-53f6-4a15-fe8e-8d1132e62986"
      },
      "source": [
        "np.random.seed(25)\n",
        "c = 36*np.random.randn(6)\n",
        "c"
      ],
      "execution_count": 6,
      "outputs": [
        {
          "output_type": "execute_result",
          "data": {
            "text/plain": [
              "array([  8.22,  36.97, -30.23, -21.28, -34.45,  -8.  ])"
            ]
          },
          "metadata": {
            "tags": []
          },
          "execution_count": 6
        }
      ]
    },
    {
      "cell_type": "code",
      "metadata": {
        "id": "iFQ_5ikfB17h",
        "colab_type": "code",
        "colab": {
          "base_uri": "https://localhost:8080/",
          "height": 51
        },
        "outputId": "7c78b26b-0ded-42bc-d0e2-2f05a89197d7"
      },
      "source": [
        "d = np.arange(1,35)\n",
        "d"
      ],
      "execution_count": 7,
      "outputs": [
        {
          "output_type": "execute_result",
          "data": {
            "text/plain": [
              "array([ 1,  2,  3,  4,  5,  6,  7,  8,  9, 10, 11, 12, 13, 14, 15, 16, 17,\n",
              "       18, 19, 20, 21, 22, 23, 24, 25, 26, 27, 28, 29, 30, 31, 32, 33, 34])"
            ]
          },
          "metadata": {
            "tags": []
          },
          "execution_count": 7
        }
      ]
    },
    {
      "cell_type": "markdown",
      "metadata": {
        "id": "6y_fmv7uCBPj",
        "colab_type": "text"
      },
      "source": [
        "# **Performing arthimetic on arrays**"
      ]
    },
    {
      "cell_type": "code",
      "metadata": {
        "id": "fnH53cVcCXt2",
        "colab_type": "code",
        "colab": {
          "base_uri": "https://localhost:8080/",
          "height": 34
        },
        "outputId": "e64ad2de-dde6-4b8d-8826-06aa6a6fb1f0"
      },
      "source": [
        "a*10"
      ],
      "execution_count": 8,
      "outputs": [
        {
          "output_type": "execute_result",
          "data": {
            "text/plain": [
              "array([10, 20, 30, 40, 50, 60])"
            ]
          },
          "metadata": {
            "tags": []
          },
          "execution_count": 8
        }
      ]
    },
    {
      "cell_type": "code",
      "metadata": {
        "id": "GAajVd52CZDS",
        "colab_type": "code",
        "colab": {
          "base_uri": "https://localhost:8080/",
          "height": 34
        },
        "outputId": "c6bf6972-efa2-487d-afba-1f8aef2c41d6"
      },
      "source": [
        "c + a "
      ],
      "execution_count": 9,
      "outputs": [
        {
          "output_type": "execute_result",
          "data": {
            "text/plain": [
              "array([  9.22,  38.97, -27.23, -17.28, -29.45,  -2.  ])"
            ]
          },
          "metadata": {
            "tags": []
          },
          "execution_count": 9
        }
      ]
    },
    {
      "cell_type": "code",
      "metadata": {
        "id": "_b8F_rNrCkd1",
        "colab_type": "code",
        "colab": {
          "base_uri": "https://localhost:8080/",
          "height": 34
        },
        "outputId": "73632bfb-f2f5-4ac4-d12a-22a09a790739"
      },
      "source": [
        "c - a"
      ],
      "execution_count": 10,
      "outputs": [
        {
          "output_type": "execute_result",
          "data": {
            "text/plain": [
              "array([  7.22,  34.97, -33.23, -25.28, -39.45, -14.  ])"
            ]
          },
          "metadata": {
            "tags": []
          },
          "execution_count": 10
        }
      ]
    },
    {
      "cell_type": "code",
      "metadata": {
        "id": "9nBHr7PPCqVv",
        "colab_type": "code",
        "colab": {
          "base_uri": "https://localhost:8080/",
          "height": 34
        },
        "outputId": "843324a5-79f0-475b-b29f-2534f49195b0"
      },
      "source": [
        "c * a"
      ],
      "execution_count": 11,
      "outputs": [
        {
          "output_type": "execute_result",
          "data": {
            "text/plain": [
              "array([   8.22,   73.94,  -90.68,  -85.13, -172.24,  -48.02])"
            ]
          },
          "metadata": {
            "tags": []
          },
          "execution_count": 11
        }
      ]
    },
    {
      "cell_type": "code",
      "metadata": {
        "id": "8zMC0bUrCu32",
        "colab_type": "code",
        "colab": {
          "base_uri": "https://localhost:8080/",
          "height": 34
        },
        "outputId": "e5ee468f-2c10-44a1-d46e-1797f380fcdd"
      },
      "source": [
        "c / a"
      ],
      "execution_count": 12,
      "outputs": [
        {
          "output_type": "execute_result",
          "data": {
            "text/plain": [
              "array([  8.22,  18.48, -10.08,  -5.32,  -6.89,  -1.33])"
            ]
          },
          "metadata": {
            "tags": []
          },
          "execution_count": 12
        }
      ]
    },
    {
      "cell_type": "markdown",
      "metadata": {
        "id": "bvo-PJhLCzZD",
        "colab_type": "text"
      },
      "source": [
        "# **Multiplying matrices and basic linear algebra**"
      ]
    },
    {
      "cell_type": "code",
      "metadata": {
        "id": "ReGKhn42DD62",
        "colab_type": "code",
        "colab": {
          "base_uri": "https://localhost:8080/",
          "height": 68
        },
        "outputId": "f556c96b-a637-46fa-e11e-72c442706aa0"
      },
      "source": [
        "aa = np.array([[2.,4.,6.],[1.,3.,5.],[10.,20.,30.]])\n",
        "aa"
      ],
      "execution_count": 13,
      "outputs": [
        {
          "output_type": "execute_result",
          "data": {
            "text/plain": [
              "array([[ 2.,  4.,  6.],\n",
              "       [ 1.,  3.,  5.],\n",
              "       [10., 20., 30.]])"
            ]
          },
          "metadata": {
            "tags": []
          },
          "execution_count": 13
        }
      ]
    },
    {
      "cell_type": "code",
      "metadata": {
        "id": "wmEngioyDjwm",
        "colab_type": "code",
        "colab": {
          "base_uri": "https://localhost:8080/",
          "height": 68
        },
        "outputId": "c1eae066-21cb-4410-ad50-d4e74664f45d"
      },
      "source": [
        "bb = np.array([[0.,1.,2.],[3.,4.,5.],[6.,7.,8.]])\n",
        "bb"
      ],
      "execution_count": 14,
      "outputs": [
        {
          "output_type": "execute_result",
          "data": {
            "text/plain": [
              "array([[0., 1., 2.],\n",
              "       [3., 4., 5.],\n",
              "       [6., 7., 8.]])"
            ]
          },
          "metadata": {
            "tags": []
          },
          "execution_count": 14
        }
      ]
    },
    {
      "cell_type": "code",
      "metadata": {
        "id": "hafUq_ytD7VY",
        "colab_type": "code",
        "colab": {
          "base_uri": "https://localhost:8080/",
          "height": 68
        },
        "outputId": "75388232-2c04-4c8e-f119-49668153d121"
      },
      "source": [
        "aa * bb"
      ],
      "execution_count": 15,
      "outputs": [
        {
          "output_type": "execute_result",
          "data": {
            "text/plain": [
              "array([[  0.,   4.,  12.],\n",
              "       [  3.,  12.,  25.],\n",
              "       [ 60., 140., 240.]])"
            ]
          },
          "metadata": {
            "tags": []
          },
          "execution_count": 15
        }
      ]
    },
    {
      "cell_type": "code",
      "metadata": {
        "id": "sHNUq9cBEAc8",
        "colab_type": "code",
        "colab": {
          "base_uri": "https://localhost:8080/",
          "height": 68
        },
        "outputId": "0c0af791-5758-4da8-aa17-4acf4dbffc09"
      },
      "source": [
        "np.dot(aa,bb)"
      ],
      "execution_count": 16,
      "outputs": [
        {
          "output_type": "execute_result",
          "data": {
            "text/plain": [
              "array([[ 48.,  60.,  72.],\n",
              "       [ 39.,  48.,  57.],\n",
              "       [240., 300., 360.]])"
            ]
          },
          "metadata": {
            "tags": []
          },
          "execution_count": 16
        }
      ]
    }
  ]
}