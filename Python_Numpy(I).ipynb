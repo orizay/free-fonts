{
  "nbformat": 4,
  "nbformat_minor": 0,
  "metadata": {
    "colab": {
      "name": "Python-Numpy(I).ipynb",
      "provenance": [],
      "authorship_tag": "ABX9TyPhc8cSqKE3cMLKG+lXU5FK",
      "include_colab_link": true
    },
    "kernelspec": {
      "name": "python3",
      "display_name": "Python 3"
    },
    "language_info": {
      "name": "python"
    }
  },
  "cells": [
    {
      "cell_type": "markdown",
      "metadata": {
        "id": "view-in-github",
        "colab_type": "text"
      },
      "source": [
        "<a href=\"https://colab.research.google.com/github/orizay/free-fonts/blob/master/Python_Numpy(I).ipynb\" target=\"_parent\"><img src=\"https://colab.research.google.com/assets/colab-badge.svg\" alt=\"Open In Colab\"/></a>"
      ]
    },
    {
      "cell_type": "markdown",
      "metadata": {
        "id": "wkDTtZdnDcNb"
      },
      "source": [
        "# Python - Numpy(I)"
      ]
    },
    {
      "cell_type": "markdown",
      "metadata": {
        "id": "MFSokfVlDlGt"
      },
      "source": [
        "## 라이브러리 - Overview\n",
        "* 파이썬 코드에서 라이브러리 사용법"
      ]
    },
    {
      "cell_type": "code",
      "metadata": {
        "id": "Rrr-IH9sEBbP"
      },
      "source": [
        "import numpy as np"
      ],
      "execution_count": 1,
      "outputs": []
    },
    {
      "cell_type": "code",
      "metadata": {
        "colab": {
          "base_uri": "https://localhost:8080/"
        },
        "id": "caLbyJRhEF3V",
        "outputId": "59efd737-fd19-4d39-87b9-091394166aa3"
      },
      "source": [
        "A = np.array([1,2])\n",
        "print(A)\n",
        "print(type(A))"
      ],
      "execution_count": 10,
      "outputs": [
        {
          "output_type": "stream",
          "text": [
            "[1 2]\n",
            "<class 'numpy.ndarray'>\n"
          ],
          "name": "stdout"
        }
      ]
    },
    {
      "cell_type": "markdown",
      "metadata": {
        "id": "n2qdmPjFFW9A"
      },
      "source": [
        "# Numpy \n",
        "* => numpy는 머신러닝 코드 개발 할 경우 자주 사용되는 벡터, 행렬 등을 표현하고 연산할 때 반드시 필요한 라이브러리"
      ]
    },
    {
      "cell_type": "markdown",
      "metadata": {
        "id": "Bcyx7IjbFuNZ"
      },
      "source": [
        "* numpy vs list\n",
        "  \n",
        "   - => 머신러닝에서 숫자,사람,동물 등의 인식을 하기 위해서는 이미지(image)데이터를 행렬(matrix)로 변환하는 것이 중요함\n",
        "   - => 행렬을 나타내기 위해서는 리스트(list)를 사용할 수도 있지만,행렬 연산이 직곽적이지 않고 오류 가능성이 높기 때문에 , 행렬 연산을 위새서는 numpy 사용이 필수임"
      ]
    },
    {
      "cell_type": "code",
      "metadata": {
        "colab": {
          "base_uri": "https://localhost:8080/"
        },
        "id": "0BRTYJVCEZp8",
        "outputId": "2fe5d5fa-bee3-4803-e9a9-f00a81897ba6"
      },
      "source": [
        "# list 행렬 표현\n",
        "A = [[1,0],[0,1]]\n",
        "B = [[1,1],[1,1]]\n",
        "\n",
        "A + B  # 행렬 연산이 아닌 리스트 연산"
      ],
      "execution_count": 11,
      "outputs": [
        {
          "output_type": "execute_result",
          "data": {
            "text/plain": [
              "[[1, 0], [0, 1], [1, 1], [1, 1]]"
            ]
          },
          "metadata": {
            "tags": []
          },
          "execution_count": 11
        }
      ]
    },
    {
      "cell_type": "code",
      "metadata": {
        "colab": {
          "base_uri": "https://localhost:8080/"
        },
        "id": "wFaW6YtmHSY8",
        "outputId": "c7ab0cdf-c6e1-4508-b442-8319fc5527f1"
      },
      "source": [
        "A = np.array([[1,0], [0,1]])\n",
        "B = np.array([[1,1] ,[1,1]])\n",
        "\n",
        "A + B # 행렬 연사"
      ],
      "execution_count": 13,
      "outputs": [
        {
          "output_type": "execute_result",
          "data": {
            "text/plain": [
              "array([[2, 1],\n",
              "       [1, 2]])"
            ]
          },
          "metadata": {
            "tags": []
          },
          "execution_count": 13
        }
      ]
    },
    {
      "cell_type": "markdown",
      "metadata": {
        "id": "g_L_eMamFxe_"
      },
      "source": [
        "# numpy vector(1차원 배열)\n",
        "* 벡터(vector)생성 => vector는 np.array([...])를 사용하여 생성함\n",
        "* 머신러닝 코드 구현 시 ,,연산을 위해서 vector,matrix등의 형상(shape), 차원(dimension)을 확인하는 것이 피요함"
      ]
    },
    {
      "cell_type": "code",
      "metadata": {
        "colab": {
          "base_uri": "https://localhost:8080/"
        },
        "id": "a-aCiFiqIyCV",
        "outputId": "02cf1a41-4c5c-4a7d-f96d-78be35e836a3"
      },
      "source": [
        "A = np.array([1,2,3])\n",
        "B = np.array([4,5,6])\n",
        "\n",
        "print(A,B)  #vector A,B출력"
      ],
      "execution_count": 14,
      "outputs": [
        {
          "output_type": "stream",
          "text": [
            "[1 2 3] [4 5 6]\n"
          ],
          "name": "stdout"
        }
      ]
    },
    {
      "cell_type": "code",
      "metadata": {
        "colab": {
          "base_uri": "https://localhost:8080/"
        },
        "id": "q2ZOd_2LJPSu",
        "outputId": "5328e641-5ae6-4516-e5c6-dbb7fafb697c"
      },
      "source": [
        "# vector A, B형상 출력 => shape\n",
        "print(A.shape, B.shape)"
      ],
      "execution_count": 15,
      "outputs": [
        {
          "output_type": "stream",
          "text": [
            "(3,) (3,)\n"
          ],
          "name": "stdout"
        }
      ]
    },
    {
      "cell_type": "code",
      "metadata": {
        "colab": {
          "base_uri": "https://localhost:8080/"
        },
        "id": "Vh8qn1U2JiG8",
        "outputId": "02c6b523-19b6-4cab-e8b0-3d5a02b28b80"
      },
      "source": [
        "# vector A, B 차원 출력 => ndim\n",
        "print(A.ndim, B.ndim)"
      ],
      "execution_count": 16,
      "outputs": [
        {
          "output_type": "stream",
          "text": [
            "1 1\n"
          ],
          "name": "stdout"
        }
      ]
    },
    {
      "cell_type": "markdown",
      "metadata": {
        "id": "FqaAkQPnJ1cm"
      },
      "source": [
        "* vector 산술연산 => 벡터간 산술연산(+ , - , * , / )은 벡터의 각각의 원소에 대해서 행해짐"
      ]
    },
    {
      "cell_type": "code",
      "metadata": {
        "colab": {
          "base_uri": "https://localhost:8080/"
        },
        "id": "ghV9lZOtJzKp",
        "outputId": "853ec047-1f4b-4e78-c7a2-db65daf61306"
      },
      "source": [
        "print(A + B)\n",
        "print(A - B)\n",
        "print(A * B)\n",
        "print(A / B)"
      ],
      "execution_count": 18,
      "outputs": [
        {
          "output_type": "stream",
          "text": [
            "[5 7 9]\n",
            "[-3 -3 -3]\n",
            "[ 4 10 18]\n",
            "[0.25 0.4  0.5 ]\n"
          ],
          "name": "stdout"
        }
      ]
    },
    {
      "cell_type": "markdown",
      "metadata": {
        "id": "LEzt7RJPK38U"
      },
      "source": [
        "## matrix 행렬 생성\n",
        "* => matrix 는 vector와 마찬가지로 np.array([...],[...],[...])를 사용하여 생성함"
      ]
    },
    {
      "cell_type": "code",
      "metadata": {
        "colab": {
          "base_uri": "https://localhost:8080/"
        },
        "id": "JxzcIgzWKPwD",
        "outputId": "953aa0df-346c-43b1-83de-7b7cbe1109a5"
      },
      "source": [
        "A = np.array([[1,2,3],[4,5,6]])\n",
        "B = np.array([[-1,-2,-3],[-4,-5,-6]])\n",
        "\n",
        "# matrix A B 형상 출력 => shape\n",
        "print(A.shape, B.shape)\n",
        "\n",
        "# vector A, B 차원 출력 => ndim\n",
        "print(A.ndim, B.ndim)"
      ],
      "execution_count": 20,
      "outputs": [
        {
          "output_type": "stream",
          "text": [
            "(2, 3) (2, 3)\n",
            "2 2\n"
          ],
          "name": "stdout"
        }
      ]
    },
    {
      "cell_type": "markdown",
      "metadata": {
        "id": "iTrz3hBEOKFg"
      },
      "source": [
        "* 형 변환(reshape) => vector 를 matrix 로 변경하거나 matrix를 다른 형상의 matrix로 변경하기 위해서는 reshape()사용하여 행렬의 shape을 변경하여야 함"
      ]
    },
    {
      "cell_type": "code",
      "metadata": {
        "id": "W32__Z_vLwCt"
      },
      "source": [
        "# vector 생성\n",
        "C = np.array([1,2,3])"
      ],
      "execution_count": 21,
      "outputs": []
    },
    {
      "cell_type": "code",
      "metadata": {
        "colab": {
          "base_uri": "https://localhost:8080/"
        },
        "id": "DkLvLIfsO22P",
        "outputId": "2d8709a1-21a7-49fa-d372-1af6aa27d7c5"
      },
      "source": [
        "# vector C 형상 출력 => shape\n",
        "print(C.shape)"
      ],
      "execution_count": 22,
      "outputs": [
        {
          "output_type": "stream",
          "text": [
            "(3,)\n"
          ],
          "name": "stdout"
        }
      ]
    },
    {
      "cell_type": "code",
      "metadata": {
        "colab": {
          "base_uri": "https://localhost:8080/"
        },
        "id": "z7SH7J8VPBLP",
        "outputId": "a8f02d7f-dd9c-498c-f18b-6808325737b5"
      },
      "source": [
        "# vector 를 (1,3) 행렬로 형 변환\n",
        "C = C.reshape(1,3)\n",
        "print(C.shape)"
      ],
      "execution_count": 23,
      "outputs": [
        {
          "output_type": "stream",
          "text": [
            "(1, 3)\n"
          ],
          "name": "stdout"
        }
      ]
    },
    {
      "cell_type": "code",
      "metadata": {
        "id": "GPq952giPUpJ"
      },
      "source": [
        ""
      ],
      "execution_count": null,
      "outputs": []
    }
  ]
}