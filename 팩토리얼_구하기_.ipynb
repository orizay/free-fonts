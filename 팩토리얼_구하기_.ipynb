{
  "nbformat": 4,
  "nbformat_minor": 0,
  "metadata": {
    "colab": {
      "name": "팩토리얼 구하기 .ipynb",
      "provenance": [],
      "authorship_tag": "ABX9TyNNwsKyWEsNmSTxXIKSv7RV",
      "include_colab_link": true
    },
    "kernelspec": {
      "name": "python3",
      "display_name": "Python 3"
    }
  },
  "cells": [
    {
      "cell_type": "markdown",
      "metadata": {
        "id": "view-in-github",
        "colab_type": "text"
      },
      "source": [
        "<a href=\"https://colab.research.google.com/github/orizay/free-fonts/blob/master/%ED%8C%A9%ED%86%A0%EB%A6%AC%EC%96%BC_%EA%B5%AC%ED%95%98%EA%B8%B0_.ipynb\" target=\"_parent\"><img src=\"https://colab.research.google.com/assets/colab-badge.svg\" alt=\"Open In Colab\"/></a>"
      ]
    },
    {
      "cell_type": "markdown",
      "metadata": {
        "id": "_i0t_Yx-tJAj",
        "colab_type": "text"
      },
      "source": [
        "# 1부터 n까지 연속한 정수의 곱을 구하는 알고리즘을 만들어 보세요\n",
        "- 팩토리얼 : 숫자뒤에 느낌표(!)를 붙여 표기하며 1부터 n까지 연속한 숫자를 차례로 곱한 값입니다."
      ]
    },
    {
      "cell_type": "code",
      "metadata": {
        "id": "kMrqKo8LuXvc",
        "colab_type": "code",
        "colab": {
          "base_uri": "https://localhost:8080/",
          "height": 68
        },
        "outputId": "a8cb4a8f-7d6a-467f-d32d-76b22827650b"
      },
      "source": [
        "# 연속한 숫자의 곱을 구하는 알고리즘 1\n",
        "# 입력: n\n",
        "# 출력: 1부터 n까지 연속한 숫자를 곱한 값\n",
        "\n",
        "def fact(n):\n",
        "    f = 1                     # 곱을 계산할 변수,초깃값은 1\n",
        "    for i in range(1,n+1):    # 1부터 n까지 반복(n+1은 제외)\n",
        "        f = f * i             # 곱셈 연산으로 수정\n",
        "    return f\n",
        "\n",
        "print(fact(1))                # 1! = 1\n",
        "print(fact(5))                # 5! = 120\n",
        "print(fact(10))               # 10! = 3628800"
      ],
      "execution_count": 3,
      "outputs": [
        {
          "output_type": "stream",
          "text": [
            "1\n",
            "120\n",
            "3628800\n"
          ],
          "name": "stdout"
        }
      ]
    },
    {
      "cell_type": "markdown",
      "metadata": {
        "id": "4slJcWa1wDpA",
        "colab_type": "text"
      },
      "source": [
        "# 재귀 호출 알고리즘\n",
        " 1! = 1\n",
        "\n",
        "\n",
        "\n",
        " 2! = 2x1 = 2x1!\n",
        "\n",
        "\n",
        "\n",
        " 3! = 3x(2x1) = 3x2!\n",
        "\n",
        "\n",
        " \n",
        " 4! = 4x(3x2x1) = 4x3!\n",
        "\n",
        " # **n! = n x (n-1)!**"
      ]
    },
    {
      "cell_type": "code",
      "metadata": {
        "id": "v72ddZ0NwRYT",
        "colab_type": "code",
        "colab": {
          "base_uri": "https://localhost:8080/",
          "height": 68
        },
        "outputId": "ddf3a24c-84c4-434d-8f38-8e7bcb529d1a"
      },
      "source": [
        "# 연속한 숫자의 곱을 구하는 알고리즘 2\n",
        "# 입력: n\n",
        "# 출력: 1부터 n까지 연속한 숫자를 곱한 값\n",
        "\n",
        "def fact(n):\n",
        "    if n <=1:\n",
        "        return 1\n",
        "    return n * fact(n-1)\n",
        "\n",
        "print(fact(1))\n",
        "print(fact(5))\n",
        "print(fact(10))"
      ],
      "execution_count": 4,
      "outputs": [
        {
          "output_type": "stream",
          "text": [
            "1\n",
            "120\n",
            "3628800\n"
          ],
          "name": "stdout"
        }
      ]
    },
    {
      "cell_type": "markdown",
      "metadata": {
        "id": "QxL8SLe1xRRh",
        "colab_type": "text"
      },
      "source": [
        "### --연속한 숫자의 곱을 구하는 알고리즘 2 해석:\n",
        "- 우선 n이 1이하인지 비교합니다.1 이하(0포함)는 아주 작아서 더는 계산하지 않아도 되는 '종료 조건'입니다. 이때 결과값으로 돌려줍니다.\n",
        "- n이 1보다 크면 n! = n x (n-1)!이므로 n *fact(n-1)을 결과값으로 돌려줍니다.이 과정에서 n!을 구하기 위해서 약간 더 작은 값인(n-1)!을 구하는 fact(n-1)이 재귀 호출됩니다.\n",
        "  - fact(n)을 풀기 위해서 fact(n-1)을 재귀호출하였는데 호출된 fact(n-1)은 어떻게 실행될까요?\n",
        "  - 다시 종료 조건에 해당하는지 확인합니다.종료 조건이 아니라면 이번에는 fact(n-2)를 호출합니다.마찬가리로 fact(n-3),fact(n-4)...이렇게 반복하다 보면 결국 fact(n-1)을 만나게 됩니다.따라서 재구 호출이 영원히 반복되지 않고 결국 답을 얻게 됩니다.\n",
        "\n",
        "\n",
        "\n",
        "#  **반복문을 이용한 알고지즘이나 재귀 호출을 이용한 알고리즘의 계산 복잡도는 모두 O(n)입니다.**"
      ]
    },
    {
      "cell_type": "markdown",
      "metadata": {
        "id": "Q5rNQid90AyW",
        "colab_type": "text"
      },
      "source": [
        "# 연습 무제:\n",
        "- 1. 1 부터 n 까지의 합 구하기를 재귀 호출로 만들어 보세요.\n",
        "- 2. 숫자 n 개 중에서 최댓값 찾기를 재귀 호출로 만들어 보세요."
      ]
    },
    {
      "cell_type": "code",
      "metadata": {
        "id": "n76Vgvi50aTU",
        "colab_type": "code",
        "colab": {
          "base_uri": "https://localhost:8080/",
          "height": 51
        },
        "outputId": "5fd70d11-bda9-4350-9c5b-614581e99404"
      },
      "source": [
        "# 연속한 숫자의 합을 구하는 알고리즘 \n",
        "# 입력: n\n",
        "# 출력: 1부터 n까지 연속한 숫자를 더한 값\n",
        "\n",
        "def sum_n(n):\n",
        "    if n == 0 :\n",
        "        return 0\n",
        "\n",
        "    return sum_n(n-1) +n\n",
        "\n",
        "print(sum_n(10))\n",
        "print(sum_n(100))"
      ],
      "execution_count": 6,
      "outputs": [
        {
          "output_type": "stream",
          "text": [
            "55\n",
            "5050\n"
          ],
          "name": "stdout"
        }
      ]
    },
    {
      "cell_type": "code",
      "metadata": {
        "id": "TaLNpsaV0_Y7",
        "colab_type": "code",
        "colab": {
          "base_uri": "https://localhost:8080/",
          "height": 34
        },
        "outputId": "ae2623ac-ab76-4188-bd45-ba49aed71d5d"
      },
      "source": [
        "# 최댓값 구하기\n",
        "# 입력:숫자가 n개 들어 있는 리스트\n",
        "# 출력:숫자 n개 중 최댓값\n",
        "\n",
        "def find_max(a,n):               # 리스트 a의 앞부분 n개 중 최댓값을 구하는 재귀 함수\n",
        "    if n == 1:\n",
        "        return a[0]\n",
        "\n",
        "    max_n_1 = find_max(a,n-1)    # n-1개 중 최댓값을 구함\n",
        "    if max_n_1 > a[n-1]:         # n-1개 중 최댓값과 n-1번 위치 값을 비교\n",
        "        return max_n_1\n",
        "    else:\n",
        "        return a[n-1]\n",
        "\n",
        "v = [17,92,18,33,58,7,33,42]\n",
        "print(find_max(v,len(v)))        # 함수에 리스트의 자료 개수를 인자로 추가하여 호출"
      ],
      "execution_count": 9,
      "outputs": [
        {
          "output_type": "stream",
          "text": [
            "92\n"
          ],
          "name": "stdout"
        }
      ]
    },
    {
      "cell_type": "markdown",
      "metadata": {
        "id": "eS56l8-72R_U",
        "colab_type": "text"
      },
      "source": [
        "- 종료 조건: 자료 값이 한 개면(n = 1)그 값이 최댓값\n",
        "- 재기 호출 조건: n개 자료 중 최댓값 --> n -1 개 자료 중 최댓값과 n-1번 위치 값 중 더 큰 값"
      ]
    }
  ]
}