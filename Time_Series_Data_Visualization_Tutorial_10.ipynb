{
  "nbformat": 4,
  "nbformat_minor": 0,
  "metadata": {
    "colab": {
      "name": "Time Series Data Visualization Tutorial 10.ipynb",
      "provenance": [],
      "authorship_tag": "ABX9TyPR7iTvZwoTNHywOAZy96St",
      "include_colab_link": true
    },
    "kernelspec": {
      "name": "python3",
      "display_name": "Python 3"
    }
  },
  "cells": [
    {
      "cell_type": "markdown",
      "metadata": {
        "id": "view-in-github",
        "colab_type": "text"
      },
      "source": [
        "<a href=\"https://colab.research.google.com/github/orizay/free-fonts/blob/master/Time_Series_Data_Visualization_Tutorial_10.ipynb\" target=\"_parent\"><img src=\"https://colab.research.google.com/assets/colab-badge.svg\" alt=\"Open In Colab\"/></a>"
      ]
    },
    {
      "cell_type": "markdown",
      "metadata": {
        "id": "hixYNvk1errk",
        "colab_type": "text"
      },
      "source": [
        "# Time Series\n",
        "\n",
        "\n",
        "- A measure of unit change over time for any variable under observation\n",
        "\n",
        "\n",
        "- Useful for pre dicting & forecasting form historical data\n",
        "\n",
        "\n",
        "- Frequently used models : ARMA ,ARIMA(Box-jenkins)"
      ]
    },
    {
      "cell_type": "markdown",
      "metadata": {
        "id": "Fcee8oR-i-ui",
        "colab_type": "text"
      },
      "source": [
        "# Spltting Trend & Seasonality\n",
        "![대체 텍스트](https://miro.medium.com/max/1200/1*gzuuIKejjwxZQQH6AYjRNw.png)\n",
        "\n",
        "\n",
        "\n"
      ]
    },
    {
      "cell_type": "markdown",
      "metadata": {
        "id": "--ACzoC3jndN",
        "colab_type": "text"
      },
      "source": [
        "# **Creating visualizations from time series data**"
      ]
    },
    {
      "cell_type": "code",
      "metadata": {
        "id": "tWNPhJuHjxv9",
        "colab_type": "code",
        "colab": {}
      },
      "source": [
        "import numpy as np\n",
        "import pandas as pd\n",
        "from pandas import Series,DataFrame\n",
        "import matplotlib.pyplot as plt\n",
        "\n",
        "from pylab import rcParams\n",
        "import seaborn as sns\n",
        "\n",
        "\n",
        "from numpy.random import randn\n",
        "\n",
        "%matplotlib inline"
      ],
      "execution_count": 2,
      "outputs": []
    },
    {
      "cell_type": "code",
      "metadata": {
        "id": "88ELzrC1j5wj",
        "colab_type": "code",
        "colab": {}
      },
      "source": [
        "rcParams['figure.figsize'] = 5,4\n",
        "sns.set_style('whitegrid')"
      ],
      "execution_count": 3,
      "outputs": []
    },
    {
      "cell_type": "markdown",
      "metadata": {
        "id": "ogKEJ04HkxNV",
        "colab_type": "text"
      },
      "source": [
        "# **The simplest time series plot**"
      ]
    },
    {
      "cell_type": "code",
      "metadata": {
        "id": "6s4vTeUWk3U1",
        "colab_type": "code",
        "colab": {
          "base_uri": "https://localhost:8080/",
          "height": 122
        },
        "outputId": "0cf45eab-039b-4f52-8ea7-20d3ce3990e2"
      },
      "source": [
        "from google.colab import drive\n",
        "drive.mount('/content/drive')"
      ],
      "execution_count": 4,
      "outputs": [
        {
          "output_type": "stream",
          "text": [
            "Go to this URL in a browser: https://accounts.google.com/o/oauth2/auth?client_id=947318989803-6bn6qk8qdgf4n4g3pfee6491hc0brc4i.apps.googleusercontent.com&redirect_uri=urn%3aietf%3awg%3aoauth%3a2.0%3aoob&response_type=code&scope=email%20https%3a%2f%2fwww.googleapis.com%2fauth%2fdocs.test%20https%3a%2f%2fwww.googleapis.com%2fauth%2fdrive%20https%3a%2f%2fwww.googleapis.com%2fauth%2fdrive.photos.readonly%20https%3a%2f%2fwww.googleapis.com%2fauth%2fpeopleapi.readonly\n",
            "\n",
            "Enter your authorization code:\n",
            "··········\n",
            "Mounted at /content/drive\n"
          ],
          "name": "stdout"
        }
      ]
    },
    {
      "cell_type": "code",
      "metadata": {
        "id": "6tmneRIZnx7w",
        "colab_type": "code",
        "colab": {
          "base_uri": "https://localhost:8080/",
          "height": 646
        },
        "outputId": "09725c2e-4481-4475-9fb9-54cc3a6010d5"
      },
      "source": [
        "df = pd.read_csv('/content/drive/My Drive/MyData/Superstore-Sales.csv',index_col= 'Order Date',parse_dates= True)\n",
        "\n",
        "df.head()"
      ],
      "execution_count": 6,
      "outputs": [
        {
          "output_type": "execute_result",
          "data": {
            "text/html": [
              "<div>\n",
              "<style scoped>\n",
              "    .dataframe tbody tr th:only-of-type {\n",
              "        vertical-align: middle;\n",
              "    }\n",
              "\n",
              "    .dataframe tbody tr th {\n",
              "        vertical-align: top;\n",
              "    }\n",
              "\n",
              "    .dataframe thead th {\n",
              "        text-align: right;\n",
              "    }\n",
              "</style>\n",
              "<table border=\"1\" class=\"dataframe\">\n",
              "  <thead>\n",
              "    <tr style=\"text-align: right;\">\n",
              "      <th></th>\n",
              "      <th>Row ID</th>\n",
              "      <th>Order ID</th>\n",
              "      <th>Order Priority</th>\n",
              "      <th>Order Quantity</th>\n",
              "      <th>Sales</th>\n",
              "      <th>Discount</th>\n",
              "      <th>Ship Mode</th>\n",
              "      <th>Profit</th>\n",
              "      <th>Unit Price</th>\n",
              "      <th>Shipping Cost</th>\n",
              "      <th>Customer Name</th>\n",
              "      <th>Province</th>\n",
              "      <th>Region</th>\n",
              "      <th>Customer Segment</th>\n",
              "      <th>Product Category</th>\n",
              "      <th>Product Sub-Category</th>\n",
              "      <th>Product Name</th>\n",
              "      <th>Product Container</th>\n",
              "      <th>Product Base Margin</th>\n",
              "      <th>Ship Date</th>\n",
              "    </tr>\n",
              "    <tr>\n",
              "      <th>Order Date</th>\n",
              "      <th></th>\n",
              "      <th></th>\n",
              "      <th></th>\n",
              "      <th></th>\n",
              "      <th></th>\n",
              "      <th></th>\n",
              "      <th></th>\n",
              "      <th></th>\n",
              "      <th></th>\n",
              "      <th></th>\n",
              "      <th></th>\n",
              "      <th></th>\n",
              "      <th></th>\n",
              "      <th></th>\n",
              "      <th></th>\n",
              "      <th></th>\n",
              "      <th></th>\n",
              "      <th></th>\n",
              "      <th></th>\n",
              "      <th></th>\n",
              "    </tr>\n",
              "  </thead>\n",
              "  <tbody>\n",
              "    <tr>\n",
              "      <th>2010-10-13</th>\n",
              "      <td>1</td>\n",
              "      <td>3</td>\n",
              "      <td>Low</td>\n",
              "      <td>6</td>\n",
              "      <td>261.5400</td>\n",
              "      <td>0.04</td>\n",
              "      <td>Regular Air</td>\n",
              "      <td>-213.25</td>\n",
              "      <td>38.94</td>\n",
              "      <td>35.00</td>\n",
              "      <td>Muhammed MacIntyre</td>\n",
              "      <td>Nunavut</td>\n",
              "      <td>Nunavut</td>\n",
              "      <td>Small Business</td>\n",
              "      <td>Office Supplies</td>\n",
              "      <td>Storage &amp; Organization</td>\n",
              "      <td>Eldon Base for stackable storage shelf, platinum</td>\n",
              "      <td>Large Box</td>\n",
              "      <td>0.80</td>\n",
              "      <td>10/20/2010</td>\n",
              "    </tr>\n",
              "    <tr>\n",
              "      <th>2012-10-01</th>\n",
              "      <td>49</td>\n",
              "      <td>293</td>\n",
              "      <td>High</td>\n",
              "      <td>49</td>\n",
              "      <td>10123.0200</td>\n",
              "      <td>0.07</td>\n",
              "      <td>Delivery Truck</td>\n",
              "      <td>457.81</td>\n",
              "      <td>208.16</td>\n",
              "      <td>68.02</td>\n",
              "      <td>Barry French</td>\n",
              "      <td>Nunavut</td>\n",
              "      <td>Nunavut</td>\n",
              "      <td>Consumer</td>\n",
              "      <td>Office Supplies</td>\n",
              "      <td>Appliances</td>\n",
              "      <td>1.7 Cubic Foot Compact \"Cube\" Office Refrigera...</td>\n",
              "      <td>Jumbo Drum</td>\n",
              "      <td>0.58</td>\n",
              "      <td>10/2/2012</td>\n",
              "    </tr>\n",
              "    <tr>\n",
              "      <th>2012-10-01</th>\n",
              "      <td>50</td>\n",
              "      <td>293</td>\n",
              "      <td>High</td>\n",
              "      <td>27</td>\n",
              "      <td>244.5700</td>\n",
              "      <td>0.01</td>\n",
              "      <td>Regular Air</td>\n",
              "      <td>46.71</td>\n",
              "      <td>8.69</td>\n",
              "      <td>2.99</td>\n",
              "      <td>Barry French</td>\n",
              "      <td>Nunavut</td>\n",
              "      <td>Nunavut</td>\n",
              "      <td>Consumer</td>\n",
              "      <td>Office Supplies</td>\n",
              "      <td>Binders and Binder Accessories</td>\n",
              "      <td>Cardinal Slant-D® Ring Binder, Heavy Gauge Vinyl</td>\n",
              "      <td>Small Box</td>\n",
              "      <td>0.39</td>\n",
              "      <td>10/3/2012</td>\n",
              "    </tr>\n",
              "    <tr>\n",
              "      <th>2011-07-10</th>\n",
              "      <td>80</td>\n",
              "      <td>483</td>\n",
              "      <td>High</td>\n",
              "      <td>30</td>\n",
              "      <td>4965.7595</td>\n",
              "      <td>0.08</td>\n",
              "      <td>Regular Air</td>\n",
              "      <td>1198.97</td>\n",
              "      <td>195.99</td>\n",
              "      <td>3.99</td>\n",
              "      <td>Clay Rozendal</td>\n",
              "      <td>Nunavut</td>\n",
              "      <td>Nunavut</td>\n",
              "      <td>Corporate</td>\n",
              "      <td>Technology</td>\n",
              "      <td>Telephones and Communication</td>\n",
              "      <td>R380</td>\n",
              "      <td>Small Box</td>\n",
              "      <td>0.58</td>\n",
              "      <td>7/12/2011</td>\n",
              "    </tr>\n",
              "    <tr>\n",
              "      <th>2010-08-28</th>\n",
              "      <td>85</td>\n",
              "      <td>515</td>\n",
              "      <td>Not Specified</td>\n",
              "      <td>19</td>\n",
              "      <td>394.2700</td>\n",
              "      <td>0.08</td>\n",
              "      <td>Regular Air</td>\n",
              "      <td>30.94</td>\n",
              "      <td>21.78</td>\n",
              "      <td>5.94</td>\n",
              "      <td>Carlos Soltero</td>\n",
              "      <td>Nunavut</td>\n",
              "      <td>Nunavut</td>\n",
              "      <td>Consumer</td>\n",
              "      <td>Office Supplies</td>\n",
              "      <td>Appliances</td>\n",
              "      <td>Holmes HEPA Air Purifier</td>\n",
              "      <td>Medium Box</td>\n",
              "      <td>0.50</td>\n",
              "      <td>8/30/2010</td>\n",
              "    </tr>\n",
              "  </tbody>\n",
              "</table>\n",
              "</div>"
            ],
            "text/plain": [
              "            Row ID  Order ID  ... Product Base Margin   Ship Date\n",
              "Order Date                    ...                                \n",
              "2010-10-13       1         3  ...                0.80  10/20/2010\n",
              "2012-10-01      49       293  ...                0.58   10/2/2012\n",
              "2012-10-01      50       293  ...                0.39   10/3/2012\n",
              "2011-07-10      80       483  ...                0.58   7/12/2011\n",
              "2010-08-28      85       515  ...                0.50   8/30/2010\n",
              "\n",
              "[5 rows x 20 columns]"
            ]
          },
          "metadata": {
            "tags": []
          },
          "execution_count": 6
        }
      ]
    },
    {
      "cell_type": "code",
      "metadata": {
        "id": "rSpvS-Bnoq9Q",
        "colab_type": "code",
        "colab": {
          "base_uri": "https://localhost:8080/",
          "height": 119
        },
        "outputId": "25def77b-d1d7-4546-b4d3-2d98403c31e5"
      },
      "source": [
        "df.columns"
      ],
      "execution_count": 7,
      "outputs": [
        {
          "output_type": "execute_result",
          "data": {
            "text/plain": [
              "Index(['Row ID', 'Order ID', 'Order Priority', 'Order Quantity', 'Sales',\n",
              "       'Discount', 'Ship Mode', 'Profit', 'Unit Price', 'Shipping Cost',\n",
              "       'Customer Name', 'Province', 'Region', 'Customer Segment',\n",
              "       'Product Category', 'Product Sub-Category', 'Product Name',\n",
              "       'Product Container', 'Product Base Margin', 'Ship Date'],\n",
              "      dtype='object')"
            ]
          },
          "metadata": {
            "tags": []
          },
          "execution_count": 7
        }
      ]
    },
    {
      "cell_type": "code",
      "metadata": {
        "id": "xn_sZ6x-eD4I",
        "colab_type": "code",
        "colab": {
          "base_uri": "https://localhost:8080/",
          "height": 294
        },
        "outputId": "c04419f5-a922-41ac-c070-f936a559e924"
      },
      "source": [
        "df['Order Quantity'].plot()"
      ],
      "execution_count": 8,
      "outputs": [
        {
          "output_type": "execute_result",
          "data": {
            "text/plain": [
              "<matplotlib.axes._subplots.AxesSubplot at 0x7f5b7e4d4438>"
            ]
          },
          "metadata": {
            "tags": []
          },
          "execution_count": 8
        },
        {
          "output_type": "display_data",
          "data": {
            "image/png": "[encoded data removed]",
            "text/plain": [
              "<Figure size 360x288 with 1 Axes>"
            ]
          },
          "metadata": {
            "tags": []
          }
        }
      ]
    },
    {
      "cell_type": "code",
      "metadata": {
        "id": "gEeQKjFNeKqS",
        "colab_type": "code",
        "colab": {
          "base_uri": "https://localhost:8080/",
          "height": 310
        },
        "outputId": "3f2cf4cc-bfc6-4612-cb7f-e227236264b4"
      },
      "source": [
        "df2 = df.sample(n= 100,random_state= 25,axis= 0)\n",
        "plt.xlabel('Order Date')\n",
        "plt.ylabel('Order Quantity')\n",
        "\n",
        "plt.title('Superstore Sales')\n",
        "\n",
        "df2['Order Quantity'].plot()"
      ],
      "execution_count": 9,
      "outputs": [
        {
          "output_type": "execute_result",
          "data": {
            "text/plain": [
              "<matplotlib.axes._subplots.AxesSubplot at 0x7f5b7df3aa58>"
            ]
          },
          "metadata": {
            "tags": []
          },
          "execution_count": 9
        },
        {
          "output_type": "display_data",
          "data": {
            "image/png": "[encoded data removed]",
            "text/plain": [
              "<Figure size 360x288 with 1 Axes>"
            ]
          },
          "metadata": {
            "tags": []
          }
        }
      ]
    }
  ]
}